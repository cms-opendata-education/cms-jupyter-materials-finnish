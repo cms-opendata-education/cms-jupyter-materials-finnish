{
 "cells": [
  {
   "cell_type": "markdown",
   "metadata": {},
   "source": [
    "# CMS simulaatio avoimella datalla\n",
    "Voidaksemme ymmärtää diipa daapa...\n",
    "\n",
    "CMS ilmaisinta pääsee tutkimaan visuaalisella työkalulla joka löytyy CERN:in avoimen datan portaalista.\n",
    "[http://opendata.cern.ch/visualise/events/CMS](http://opendata.cern.ch/visualise/events/CMS)"
   ]
  },
  {
   "cell_type": "markdown",
   "metadata": {},
   "source": [
    "****\n",
    "## CMS ilmaisimen rakenteen tutkiskelu\n",
    "CMS hiukkasilmaisin on rakenteeltaan kuin sipuli. Jokaisella kerroksella on tärkeä tehtävä törmäyksestä sinkoilevien hiukkasten ratojen määrittämisessä. Avataan visualisointi työkalu [CMS event display](http://opendata.cern.ch/visualise/events/CMS) ja ruvetaan tutkimaan CMS:n rakennetta lisäämällä kerroksia vasemman reunan \"Detector\" valikosta. Parhaan näkymän saa vaihtamalla \"Ortographic projecton\" asetukseen ja tarkastelemalla ilmaisinlieriötä pohjasta.\n",
    "<br>\n",
    " <img src=\"../../Kuvat/EventDisplay_aloitus.PNG\" width= \"600\" align=\"center\">\n",
    " <br>"
   ]
  },
  {
   "cell_type": "markdown",
   "metadata": {},
   "source": [
    "### Kerrosten tehtävät\n",
    "Eri hiukkaset vaikuttavat aineen kanssa eri tavoin, eli tarvitaan erilaisia kerroksia mittamaan hiukkasten energioita ja ratoja. Tässä lyhyt tiivistelmä [kattavammasta esityksestä.](https://cms-docdb.cern.ch/cgi-bin/PublicDocDB/RetrieveFile?docid=12398&filename=SetOfPostersFN_HQ_small_16092014.pdf)\n",
    "- **Jälki-ilmaisin**\n",
    "Jälki-ilmaisin koostuu kahden tyyppisisitä pii, eli silikoni osista. Tarkan paikkadatan avulla voidaan määrittää protonien törmäyskohdat ja syntyneiden raskaampien ydinten hajoamispaikat. \n",
    "    - _Pixel_ -ilmaisin on rakennettu pienistä silikonisoluista (65 miljoonaa kappaletta), jotka mittaavat hiukkasten radat hyvin tarkasti.\n",
    "    - _Tracker_ -kerros on valmistettu silikoniliuskoista jotka niin ikään mittaavat hiukkasten ratoja.\n",
    "- **Sähkömagneettinen kalorimetri (ECAL)**\n",
    "Elektronien ja fotonien energiat saadaan mitattua hyvin tarkasti sillä niiden törmäyks ECAL-kerrokseen aiheuttaa sähkömagneettisen ryöpyn joka mitataan tuikeilmaisimilla. Törmänneen elektronin tai fotonin energia on suoraan verrannollinen tuikeilmaisimien havaitsemaan valon määrään.\n",
    "- **Hadronikalorimetri (HCAL)**\n",
    "Hardonikalorimetri pysäyttää hardoneiksi kutsutut hiukkaset kuten protonit ja netronit. HCAL-kerrokseen saapuvat hardonit menettävät liike-enrgiaansa hiukkasryöppyihin joiden synnyttämien tuikevalojen avulla saadaan lasketuksi hardonin alkuperäinen energia.\n",
    "- **Myonijärjestelmä**\n",
    "CMS ilmaisin on nimens (Compact Muon Solenoid) mukaan suunniteltu erityisesti havaitsemaan myoneita. Myonit ovat vaikeasti havaittavia ja ne kulkevatkin ECAL ja HCAL kerrosten läpi pysähtymättä. Kuitenkin positiivisina hiukkasina niiden kulkiessa kaasulla täytettyjen kammioiden läpi (_drift tubes_) kaasu ionisoituu ja vapautuneet electronit sekä positiiviset ionit kulkeutuvat (_Cathode Strip Chambers_) anodeille ja katodeile. Signaalin avulla voidaan laskea myonin paikka tietyllä ajanhetkellä. _Resistive Plate Chambers_ ovat myös osa myonijärjestelmää luoden signaalia, joka voidaan siirtää eteenpäin käsiteltäväksi.\n",
    "\n",
    "\n",
    "\n",
    "Neutriinot havaitaan epäsuorasti liikemäärän säilymisen kautta.\n",
    "\n",
    "<br>\n",
    "<img src=\"../../Kuvat/CMS_Slice.gif\" width= \"650\" align=\"center\">\n",
    "<br>\n",
    "\n",
    "( _Superconductin_ _Solenoid_ on todella tehokas solenoidimagneetti joka aiheuttaa CMS:n siäsosiin noin 100,000 kertaan maan magneettikenttää vahvemman magneettikentän. Vahva kenttä saa varattujen hiukkasten liikeradat kaartumaan ja mahdollistaa niiden luokittelun ja liikemäärän määrittämisen.)\n",
    "\n",
    "Tarkat kuvaukset eri osien toiminnasta englanniksi: http://cms.web.cern.ch/news/detector-overview\n"
   ]
  },
  {
   "cell_type": "markdown",
   "metadata": {},
   "source": [
    "****\n",
    "## Törmäysten visualisointi\n",
    "Event Displayn avulla voi tarkastella CMS mittausaseman todellisia tuloksi. Tässä tehtävässä käytetään protonitörmäyksistä kerättyä dataa, joka sittemmin johti Higgsin hiukkasen löytämiseen vuonna 2012.\n",
    "\n",
    "#### Aloitetaan törmäyksien tutkiminen\n",
    "\n",
    "1. Avaa [CMS event display](http://opendata.cern.ch/visualise/events/CMS)\n",
    "1. Paina vasemmasta yläkulmasta <font color='green'>Open file</font> \n",
    "1. Valitse <font color='green'>Open file(s) from web</font>\n",
    "1. Valitse <font color='green'>HiggsCandidates/</font>\n",
    "1. Valitse toinen mahdollisista Higgsin bosonin hajoamistavoista\n",
    " ><font color='green'>4lepton.ig</font> jossa Higgsin hajoamisesta syntyy elektroneja ja/tai myoneja\n",
    " \n",
    " ><font color='green'>diphoton.ig</font> jossa Higgs hajoaa kahdeksi fotoniksi\n",
    "1. Valitse mikä tahansa ajo ja paina <font color='green'>load</font>\n",
    "1. Törmäyksen pitäisi nyt näkyä event displayssa. \n",
    "1. Poista vasemman reunan valikosta <font color='orange'>Tracking</font> otsikon alta valinta  <font color='orange'>Tracks (reco.)</font>\n",
    " > Mikäli valitsit Higgsin hajoamisen leptoneiksi valitse <font color='orange'>Physics</font> otsikon alta myös <font color='orange'>Electrons</font> näkyviksi. Huom: Valinta on näkyvissä vain jos kyseisessä ajossa havaittiin myös elektroneja.\n",
    "\n",
    " > Jos taas valitsit datan jossa syntyy fotoneita, valitse <font color='orange'>Physics</font> otsikon alta <font color='orange'>Photons</font> näkyviksi. Valinta on mahdollinen vain mikäli kyseisellä ajolla CMS todella havaitsi fotoneita.\n",
    "\n",
    "\n",
    "\n"
   ]
  },
  {
   "cell_type": "code",
   "execution_count": null,
   "metadata": {},
   "outputs": [],
   "source": []
  }
 ],
 "metadata": {
  "kernelspec": {
   "display_name": "Python 3",
   "language": "python",
   "name": "python3"
  },
  "language_info": {
   "codemirror_mode": {
    "name": "ipython",
    "version": 3
   },
   "file_extension": ".py",
   "mimetype": "text/x-python",
   "name": "python",
   "nbconvert_exporter": "python",
   "pygments_lexer": "ipython3",
   "version": "3.7.3"
  }
 },
 "nbformat": 4,
 "nbformat_minor": 2
}
