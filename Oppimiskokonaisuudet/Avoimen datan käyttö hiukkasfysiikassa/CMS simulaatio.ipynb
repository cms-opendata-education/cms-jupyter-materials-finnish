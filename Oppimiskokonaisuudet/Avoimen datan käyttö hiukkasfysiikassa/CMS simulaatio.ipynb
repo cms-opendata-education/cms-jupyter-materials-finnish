{
 "cells": [
  {
   "cell_type": "markdown",
   "metadata": {},
   "source": [
    "# CMS simulaatio\n",
    "Voidaksemme ymmärtää diipa daapa...\n",
    "\n",
    "CMS ilmaisinta pääsee tutkimaan visuaalisella työkalulla joka löytyy CERN:in avoimen datan portaalista.\n",
    "[http://opendata.cern.ch/visualise/events/CMS](http://opendata.cern.ch/visualise/events/CMS)"
   ]
  },
  {
   "cell_type": "markdown",
   "metadata": {},
   "source": [
    "##CMS ilmaisimen rakenteen tutkiskelu\n",
    "Avaa Event Display ja joojoo"
   ]
  }
 ],
 "metadata": {
  "kernelspec": {
   "display_name": "Python 3",
   "language": "python",
   "name": "python3"
  },
  "language_info": {
   "codemirror_mode": {
    "name": "ipython",
    "version": 3
   },
   "file_extension": ".py",
   "mimetype": "text/x-python",
   "name": "python",
   "nbconvert_exporter": "python",
   "pygments_lexer": "ipython3",
   "version": "3.7.3"
  }
 },
 "nbformat": 4,
 "nbformat_minor": 2
}
