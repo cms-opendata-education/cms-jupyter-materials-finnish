{
 "cells": [
  {
   "cell_type": "markdown",
   "metadata": {},
   "source": [
    "# Hiukkasfysiikka\n",
    "\n",
    "<br>\n",
    "<img src=\"../../Kuvat/fysiikan_tuloksia-1.png\" align=\"center\">\n",
    "<br>\n",
    "<br>\n",
    "<img src=\"../../Kuvat/fysiikan_tuloksia-2.png\" align=\"center\">\n",
    "<br>\n",
    "\n",
    "## CERN ja CMS\n",
    "\n",
    "Katso CERN:n esittelyvideo https://www.youtube.com/watch?v=PHP13tTjidA&t=157s\n",
    "\n",
    "Lisää tietoa mm. CERN:ssä tehtävästä tutkimuksesta ja tutkimuksen tavoitteista löydät CERN:n kotisivuilta https://home.cern/.\n",
    "\n",
    "Tässä oppimiskokonaisuudessa käytetään ja analysoidaan CMS-kokeen tuottamaa avointa dataa hiukkasten törmäyksistä. \n",
    "Katso CMS:n esittelyvideo https://www.youtube.com/watch?v=S99d9BQmGB0\n",
    "\n",
    "Lisätietoa CMS koeasemasta ja sen rakenteesta: https://cms-docdb.cern.ch/cgi-bin/PublicDocDB/RetrieveFile?docid=12398&filename=SetOfPostersFN_HQ_small_16092014.pdf\n"
   ]
  },
  {
   "cell_type": "code",
   "execution_count": null,
   "metadata": {},
   "outputs": [],
   "source": []
  }
 ],
 "metadata": {
  "kernelspec": {
   "display_name": "Python 3",
   "language": "python",
   "name": "python3"
  },
  "language_info": {
   "codemirror_mode": {
    "name": "ipython",
    "version": 3
   },
   "file_extension": ".py",
   "mimetype": "text/x-python",
   "name": "python",
   "nbconvert_exporter": "python",
   "pygments_lexer": "ipython3",
   "version": "3.7.3"
  }
 },
 "nbformat": 4,
 "nbformat_minor": 2
}
