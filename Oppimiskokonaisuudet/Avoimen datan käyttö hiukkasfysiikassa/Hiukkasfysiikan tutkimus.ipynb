{
 "cells": [
  {
   "cell_type": "markdown",
   "metadata": {},
   "source": [
    "## CERN ja CMS\n",
    "\n",
    "CERN (Conseil Européen pour la Recherche Nucléaire) on Euroopan hiukkasfysiikan tutkimuskeskus, joka sijaitsee Sveitsin ja Ranskan rajan tuntumassa. CERN:ssä tutkitaan universumin rakennetta suuren hadronitörmäyttimen avulla (LHC, Large hadron collider). \n",
    "Katso CERN:n esittelyvideo osoitteesta https://www.youtube.com/watch?v=PHP13tTjidA&t=157s.\n",
    "\n",
    "Lisää tietoa mm. CERN:ssä tehtävästä tutkimuksesta ja tutkimuksen tavoitteista löydät CERN:n kotisivuilta https://home.cern/.\n",
    "\n",
    "Tässä oppimiskokonaisuudessa käytetään ja analysoidaan CMS-kokeen tuottamaa avointa dataa hiukkasten törmäyksistä. \n",
    "Katso CMS:n esittelyvideo osoitteesta https://www.youtube.com/watch?v=S99d9BQmGB0.\n",
    "\n",
    "Lisätietoa CMS-koeasemasta ja sen rakenteesta löydät osoitteesta https://cms-docdb.cern.ch/cgi-bin/PublicDocDB/RetrieveFile?docid=12398&filename=SetOfPostersFN_HQ_small_16092014.pdf.\n",
    "\n",
    "## Hiukkasfysiikan tutkimus CERN:ssä\n",
    "\n",
    "<br>\n",
    "<img src=\"../../Kuvat/fysiikan_tuloksia-1.png\" align=\"center\">\n",
    "<br>\n",
    "<br>\n",
    "<img src=\"../../Kuvat/fysiikan_tuloksia-2.png\" align=\"center\">\n",
    "<br>\n",
    "\n",
    "\n"
   ]
  },
  {
   "cell_type": "code",
   "execution_count": null,
   "metadata": {},
   "outputs": [],
   "source": []
  }
 ],
 "metadata": {
  "kernelspec": {
   "display_name": "Python 3",
   "language": "python",
   "name": "python3"
  },
  "language_info": {
   "codemirror_mode": {
    "name": "ipython",
    "version": 3
   },
   "file_extension": ".py",
   "mimetype": "text/x-python",
   "name": "python",
   "nbconvert_exporter": "python",
   "pygments_lexer": "ipython3",
   "version": "3.7.3"
  }
 },
 "nbformat": 4,
 "nbformat_minor": 2
}
