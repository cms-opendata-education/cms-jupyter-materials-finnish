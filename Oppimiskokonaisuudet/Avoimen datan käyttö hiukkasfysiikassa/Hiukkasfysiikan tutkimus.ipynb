{
 "cells": [
  {
   "cell_type": "markdown",
   "metadata": {},
   "source": [
    "# Hiukkasfysiikka\n",
    "\n",
    "## Standardimalli\n",
    "\n",
    "## CERN ja CMS\n",
    "\n",
    "Lisää tietoa CERN:in kotisivuilla about-välilehdellä https://home.cern/\n",
    "\n",
    "CMS esittelyvideo: https://www.youtube.com/watch?v=S99d9BQmGB0\n",
    "Lisätietoa CMS koeasemasta: https://cms-docdb.cern.ch/cgi-bin/PublicDocDB/RetrieveFile?docid=12398&filename=SetOfPostersFN_HQ_small_16092014.pdf\n",
    "\n",
    "\n",
    "\n",
    "## Hiukkasfysiikan tutkimus\n",
    "\n",
    "Miten ja miksi\n",
    "\n",
    "Tärkeät käsitteet"
   ]
  }
 ],
 "metadata": {
  "kernelspec": {
   "display_name": "Python 3",
   "language": "python",
   "name": "python3"
  },
  "language_info": {
   "codemirror_mode": {
    "name": "ipython",
    "version": 3
   },
   "file_extension": ".py",
   "mimetype": "text/x-python",
   "name": "python",
   "nbconvert_exporter": "python",
   "pygments_lexer": "ipython3",
   "version": "3.7.3"
  }
 },
 "nbformat": 4,
 "nbformat_minor": 2
}
