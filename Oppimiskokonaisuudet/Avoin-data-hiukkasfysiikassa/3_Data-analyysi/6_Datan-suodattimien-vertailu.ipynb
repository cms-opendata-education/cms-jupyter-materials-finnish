{
 "cells": [
  {
   "cell_type": "markdown",
   "metadata": {},
   "source": [
    "# Datan suodattimien vertailu\n",
    "\n",
    "Käytämme tehtävissä CMS:n tutkimusdataa, se on kuitenkin kulkenut monen suodattimen läpi ennen kuin se päätyy hyvin jäsenneltynä _csv_ tiedostoon.\n",
    "\n",
    "### Liipaisu järjestelmä [1]\n",
    "\n",
    "CMS-ilmaisimen sisällä tapahtuu noin miljardi (1 000 000 000 = $10^9$) protoni-protoni vuorovaikutusta joka sekuntti. Tämä tuottaa käsittämättömän määrän dataa, jota on karsittava reilusti ennen kuin sitä voi mitenkään hyödyntää. \n",
    "\n",
    "#### 1. vaihe\n",
    "Ensimmäisen vaiheen liipaisin on täysin automaattinen ja se karsii datasta jo noin 99,99% pois. Ensimmäisen liipaisimen täytyy olla todella nopea, joten sillä on aikaa skannata dataa vain pääpirteittäin läpi ja etsiä merkkejä kiinnostavista tapahtumista. Vain harva protonien välisistä vuorovaikutuksista johtaa suurienergisiin törmäyksiin joita 1 asteen liipaisin tunnistaa. \n",
    "\n",
    "#### 2. vaihe\n",
    "Seuraava vaihe informaatio vyöryn käsittelyssä on luoda yhteen törmäykseen liittyvistä tuhansien eri ilmaisimien lähettämistä signaaleista kokonaisuus. Tätä kokonaisuutta kutsutaan \"tapahtumaksi\" (event). 2 vaiheen liiipaisin järjestelä saa joka sekuntti noin 100 000 tapahtumaa jotka se koostaa kokonaisuuksiksi ja lähettää edelleen \"tietokonefarmille\"\n",
    "\n",
    "\"Tietokonefarmilla\" toimii yli 1000 tavallista tietokonetta jotka suorittavat monimutkaisia laskuja ja testejä tapahtumille. Tuloksena säilytetään noin 100 tapahtumaa, loput 99900 hävitetään joka sekuntti.                      [1]\n",
    "\n",
    "Ronskin karsintaprosessin jälkeenkin CMS tuottaa valtavasti dataa, jota tutkijat analysoivat monia vuosia. Tarkka tutkimustyö tehdään siihen tarkoitetuilla ohjelmointikielillä ja normaalia tehokkaammilla tietokoneilla. Niiden avulla on myös koostettu käyttämämme csv tiedostot. Niihin on päätynyt vaih hyvin valikoidut tapahtumat helpostiluettavassa muodossa. Jokaisen csv tiedoston koontiin on käytetty joitain kriteerejä.  "
   ]
  },
  {
   "cell_type": "raw",
   "metadata": {},
   "source": []
  },
  {
   "cell_type": "code",
   "execution_count": 28,
   "metadata": {},
   "outputs": [],
   "source": [
    "import pandas\n",
    "import matplotlib.pyplot as plt\n",
    "import numpy as np\n",
    "%matplotlib inline"
   ]
  },
  {
   "cell_type": "code",
   "execution_count": null,
   "metadata": {},
   "outputs": [],
   "source": []
  },
  {
   "cell_type": "code",
   "execution_count": 27,
   "metadata": {},
   "outputs": [
    {
     "data": {
      "text/plain": [
       "18885"
      ]
     },
     "execution_count": 27,
     "metadata": {},
     "output_type": "execute_result"
    }
   ],
   "source": [
    "zee = pandas.read_csv('https://raw.githubusercontent.com/cms-opendata-education/cms-jupyter-materials-finnish/master/Data/Zee_Run2011A.csv')\n",
    "zee.head()\n",
    " #160873-173663\n",
    "len(zee.Run)"
   ]
  },
  {
   "cell_type": "code",
   "execution_count": 24,
   "metadata": {},
   "outputs": [
    {
     "data": {
      "text/plain": [
       "10583"
      ]
     },
     "execution_count": 24,
     "metadata": {},
     "output_type": "execute_result"
    }
   ],
   "source": [
    "zmumu = pandas.read_csv('https://raw.githubusercontent.com/cms-opendata-education/cms-jupyter-materials-finnish/master/Data/Zmumu_Run2011A.csv')\n",
    " #160957 -173692\n",
    "len(zmumu.Run)"
   ]
  },
  {
   "cell_type": "code",
   "execution_count": 10,
   "metadata": {},
   "outputs": [],
   "source": [
    "m_zee = np.sqrt(2*zee.pt1*zee.pt2*\n",
    "                            (np.cosh(zee.eta1-zee.eta2) - np.cos(zee.phi1-zee.phi2)))\n",
    "m_zmumu = np.sqrt(2*zmumu.pt1*zmumu.pt2*\n",
    "                            (np.cosh(zmumu.eta1-zmumu.eta2) - np.cos(zmumu.phi1-zmumu.phi2)))"
   ]
  },
  {
   "cell_type": "code",
   "execution_count": 11,
   "metadata": {},
   "outputs": [
    {
     "data": {
      "image/png": "[encoded data removed]",
      "text/plain": [
       "<Figure size 432x288 with 1 Axes>"
      ]
     },
     "metadata": {
      "needs_background": "light"
     },
     "output_type": "display_data"
    }
   ],
   "source": [
    "plt.xlabel('Invariantti massa [GeV]')\n",
    "plt.ylabel('Tapahtumien lukumäärä')\n",
    "plt.title('Kahden myonin invariantti massa, vertailu eri suodattimilla \\n')\n",
    "plt.hist(m_zee, bins=50, range=(80,100), alpha=0.5, label='zee')\n",
    "plt.hist(m_zmumu, bins=50, range=(80,100), alpha=0.5, label='mumu')\n",
    "plt.legend (loc='upper right')\n",
    "plt.show()"
   ]
  },
  {
   "cell_type": "markdown",
   "metadata": {},
   "source": [
    "## Lähteet\n",
    "[1] Liipaisujärjestelmän toiminta, Triggering and Data Acquisition, luettu 6.2019.\n",
    "Url: https://cms.cern/detector/triggering-and-data-acquisition"
   ]
  },
  {
   "cell_type": "code",
   "execution_count": null,
   "metadata": {},
   "outputs": [],
   "source": []
  }
 ],
 "metadata": {
  "kernelspec": {
   "display_name": "Python 3",
   "language": "python",
   "name": "python3"
  },
  "language_info": {
   "codemirror_mode": {
    "name": "ipython",
    "version": 3
   },
   "file_extension": ".py",
   "mimetype": "text/x-python",
   "name": "python",
   "nbconvert_exporter": "python",
   "pygments_lexer": "ipython3",
   "version": "3.7.3"
  }
 },
 "nbformat": 4,
 "nbformat_minor": 2
}
