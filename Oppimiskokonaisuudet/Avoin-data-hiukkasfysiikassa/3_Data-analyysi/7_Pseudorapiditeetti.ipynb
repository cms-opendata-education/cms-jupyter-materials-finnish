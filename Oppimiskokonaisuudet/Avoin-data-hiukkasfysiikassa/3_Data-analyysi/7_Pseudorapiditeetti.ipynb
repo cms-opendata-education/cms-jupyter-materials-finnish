{
 "cells": [
  {
   "cell_type": "markdown",
   "metadata": {},
   "source": [
    "# Pseudorapiditeetti"
   ]
  },
  {
   "cell_type": "markdown",
   "metadata": {},
   "source": [
    "Tässä tehtävässä tutkitaan, miten pseudorapiditeetti $\\eta$ vaikuttaa CMS-ilmaisimen mittaustarkkuuteen. Pseudorapiditeetti kuvaa kulmaa törmäyksessä syntyneen hiukkasen etenemissuunnan ja hiukkassuihkun välistä kulmaa (ks. $\\theta$ kuvassa 2).\n",
    "\n",
    "Pseudorapiditeetti määritellään kulman $\\theta$ avulla seuraavasti:\n",
    "\n",
    "$$ \\eta = -\\ln(\\tan(\\frac{\\theta}{2})) $$\n",
    "\n",
    "Pseudorapiditeetti $\\eta$ ja kulma $\\theta$ kuvaavat siis samaa kulmaa, mutta ovat määritelty hieman eri tavalla. Alla olevassa kuvassa hiukkassuihku kulkee vaakasuoraan vasemmalta oikealle, eli suurilla $\\eta$:n arvoilla törmäyksessä syntynyt hiukkanen poikkeaa vain pienellä kulmalla hiukkassuihkun suunnasta. Pienillä $\\eta$:n arvoilla poikkeama on taas suuri.\n",
    "\n",
    "<img src=\"../../../Kuvat/pseudorapiditeetti.svg\" alt=\"Pseudorapiditeetti\" style=\"height: 200px\">\n",
    "Kuva 1: Pseudorapiditeetti [1]"
   ]
  },
  {
   "cell_type": "markdown",
   "metadata": {},
   "source": [
    "## Pseudorapiditeetin vaikutus mittatarkkuuteen"
   ]
  },
  {
   "cell_type": "markdown",
   "metadata": {},
   "source": [
    "CMS-ilmaisimella pystymme mittaamaan hiukkasten liikemääriä ja energioita. Pseudorapiditeetti $\\eta$ vaikuttaa  mittatarkkuuteen siten, että ilmaisimen keskiosaan osuneille hiukkasille (pieni $\\eta$) saadaan tarkempia arvoja kuin ilmaisimen päätyyn osuneille hiukkasille (suuri $\\eta$). Tämä johtuu siitä, että ilmaisimen päätyyn suuntautuneet hiukkaset kohtaavat matkalla enemmän muuta materiaalia (muita hiukkasia) kuin ilmaisimen keskiosaan osuneet hiukkaset. Vuorovaikutus muun materiaalin kanssa aiheuttaa mittauksiin epätarkkuutta.\n",
    "\n",
    "Alla olevassa kuvassa kaksi protonia (mustat nuolet) törmäävät keskellä. Törmäyksessä syntyneitä kahta hiukkasta kuvaavat punaiset pallot. Kuvaan on merkitty sekä pseudorapiditeettien $\\eta$ että kulmien $\\theta$ arvot.\n",
    "\n",
    "<img src=\"../../../Kuvat/pseudorapiteetti.png\" alt=\"Luonnos CMS-ilmaisimesta\" style=\"height: 500px\">\n",
    "Kuva 2: Luonnos CMS-ilmaisimesta."
   ]
  },
  {
   "cell_type": "markdown",
   "metadata": {},
   "source": [
    "## Tehtävä"
   ]
  },
  {
   "cell_type": "markdown",
   "metadata": {},
   "source": [
    "Lähdetään tarkastelemaan, miten pseudorapiditeetin vaikutus mittaustarkkuuteen voidaan havaita CMS-ilmaisimen keräämän oikean datan avulla. Käytetään CMS:n vuodelta 2011 kerättyä dataa [2], josta on valittu 10851 törmäystapahtumaa, joissa on syntynyt kaksi myonia, joiden invariantti massa on lähellä Z-bosonin massaa.\n",
    "\n",
    "<img src=\"../../../Kuvat/z_hajoaminen.svg\" alt=\"Z-bosonin hajoaminen myoniksi ja antimyoniksi\" style=\"height: 200px\">\n",
    "Kuva 3: Z-bosonin hajoaminen myoniksi ja antimyoniksi\n",
    "\n",
    "Mittaustuloksista on valmiiksi laskettu jokaiselle myoniparille invariantti massa $M$. Mikäli törmäyksessä havaittu myonipari on peräisin Z-bosonin hajoamisesta, niin tämän myoniparin invariantti massa on yhtä suuri kuin Z-bosonin massa 91,1876 GeV. Mikäli taas myonit ovat peräisin jostakin muusta prosessista, on niille laskettu invariantti massa jotakin muuta."
   ]
  },
  {
   "cell_type": "markdown",
   "metadata": {},
   "source": [
    "## 1) Tapahtumien erottelu"
   ]
  },
  {
   "cell_type": "markdown",
   "metadata": {},
   "source": [
    "Tavoitteenamme on selvittää, miten pseudorapiditeetti vaikuttaa ilmaisimen mittaustarkkuuteen. Aluksi meidän tulee erotella data kahteen eri ryhmään: \n",
    "\n",
    "1. Ne tapahtumat, joissa molempien myonien pseudorapiditeetti on suuri (esim. $\\eta$ > 1,52).\n",
    "2. Ne tapahtumat, joissa molempien myonien pseudorapiditeetti on pieni (esim. $\\eta$ < 0,45).\n",
    "\n",
    "Voit erotella datan alla olevan koodin avulla."
   ]
  },
  {
   "cell_type": "code",
   "execution_count": null,
   "metadata": {},
   "outputs": [],
   "source": [
    "# Haetaan tarvittavat moduulit.\n",
    "import pandas as pd\n",
    "import numpy as np\n",
    "import matplotlib.pyplot as plt\n",
    "%matplotlib inline\n",
    "\n",
    "# Haetaan data.\n",
    "data = pd.read_csv('../../../Data/Zmumu_Run2011A_massoilla.csv')\n",
    "\n",
    "# Luodaan kaksi muuttujaa, \"ehto1\" ja \"ehto2\". Asetetaan näihin ehdot suurille ja pienille pseudorapiditeeteille.\n",
    "# Voit muuttaa karsintaehtoja ja katsoa, miten tapahtumien lukumäärä muuttuu. Valitse kuitenkin sellaiset ehdot,\n",
    "# että suuren ja pienen pseudorapiditeetin tapahtumia on suurinpiirtein sama määrä.\n",
    "ehto1 = 1.52\n",
    "ehto2 = 0.45\n",
    "\n",
    "# Valitaan datasta ne tapahtumat, jotka toteuttavat ehdon 1\n",
    "suuri_eta = data[(abs(data.eta1) > ehto1) & (abs(data.eta2) > ehto1)]\n",
    "\n",
    "# Valitaan datasta ne tapahtumat, jotka toteuttavat ehdon 2\n",
    "pieni_eta = data[(abs(data.eta1) < ehto2) & (abs(data.eta2) < ehto2)]\n",
    "\n",
    "# Tulostetaan tiedot valituista tapahtumista.\n",
    "print(\"Kaikkien tapahtumien lukumäärä = %d\" % len(data))\n",
    "print(\"Tapahtumia, joissa kummankin myonin pseudorapiditeetti on suuri = %d\" % len(suuri_eta))\n",
    "print(\"Tapahtumia, joissa kummankin myonin pseudorapiditeetti on pieni = %d\" % len(pieni_eta))"
   ]
  },
  {
   "cell_type": "markdown",
   "metadata": {},
   "source": [
    "## 2) Histogrammien tekeminen"
   ]
  },
  {
   "cell_type": "markdown",
   "metadata": {},
   "source": [
    "Tehdään seuraavaksi invariantin massan histogrammit erikseen suuren pseudorapiditeetin tapahtumille ja pienen pseudorapiditeetin tapahtumille."
   ]
  },
  {
   "cell_type": "markdown",
   "metadata": {},
   "source": [
    "### Histogrammi tapahtumille, joissa myoneilla on suuri $\\eta$ (ilmaisimen päätyyn osuneet)"
   ]
  },
  {
   "cell_type": "code",
   "execution_count": null,
   "metadata": {},
   "outputs": [],
   "source": [
    "# Valitaan \"suuri-eta\"-datasta sarake, joka sisältää invariantit massat.\n",
    "inv_massa1 = suuri_eta[\"M\"]\n",
    "\n",
    "# Tehdään histogrammi.\n",
    "plt.hist(inv_massa1, bins=60, range=(60,120))\n",
    "plt.xlabel('Invariantti massa [GeV]')\n",
    "plt.ylabel('Tapahtumien lukumäärä')\n",
    "plt.title('Invariantti massa, suuri $\\eta$ \\n')\n",
    "\n",
    "# Asetetaan histogrammin näkyväksi.\n",
    "plt.show()"
   ]
  },
  {
   "cell_type": "markdown",
   "metadata": {},
   "source": [
    "### Histogrammi tapahtumille, joissa myoneilla on pieni $\\eta$ (ilmaisimen keskiosaan osuneet)"
   ]
  },
  {
   "cell_type": "code",
   "execution_count": null,
   "metadata": {},
   "outputs": [],
   "source": [
    "# Valitaan \"suuri-eta\"-datasta sarake, joka sisältää invariantit massat.\n",
    "inv_massa2 = pienet_eetat[\"M\"]\n",
    "\n",
    "# Tehdään histogrammi.\n",
    "plt.hist(inv_massa2, bins=60, range=(60,120))\n",
    "plt.xlabel('Invariantti massa [GeV]')\n",
    "plt.ylabel('Tapahtumien lukumäärä')\n",
    "plt.title('Invariantti massa, pieni $\\eta$ \\n')\n",
    "\n",
    "# Asetetaan histogrammin näkyväksi.\n",
    "plt.show()"
   ]
  },
  {
   "cell_type": "markdown",
   "metadata": {},
   "source": [
    "## 3) Tehtävä"
   ]
  },
  {
   "cell_type": "markdown",
   "metadata": {},
   "source": [
    "Histogrammien vertaileminen on helpompaa, jos ne piirtää samaan kuvaan. Tehtävänäsi on:\n",
    "\n",
    "1. Piirrä aiemmin tehdyt histogrammit samaan kuvaan.\n",
    "2. Pohdi pseudorapiditeetin vaikutusta CMS-ilmaisimen mittaustarkkuuteen.\n",
    "\n",
    "Bonus: Kokeile muuttaa ehtoja, joilla määritetään suuren ja pienen pseudorapiditeetin rajat. Valitse kuitenkin sellaiset ehdot, että tapahtumia on likimain yhtä suuri määrä. Miten muutokset näkyvät histogrammeissa?"
   ]
  },
  {
   "cell_type": "code",
   "execution_count": null,
   "metadata": {},
   "outputs": [],
   "source": []
  },
  {
   "cell_type": "markdown",
   "metadata": {},
   "source": [
    "[1] By Mets501 - Own work, CC BY-SA 3.0, https://commons.wikimedia.org/w/index.php?curid=20392149\n",
    "\n",
    "[2]  CMS collaboration (2016). DoubleMu primary dataset in AOD format from RunA of 2011 (/DoubleMu/Run2011A-12Oct2013-v1/AOD). CERN Open Data Portal. DOI: [10.7483/OPENDATA.CMS.RZ34.QR6N](http://doi.org/10.7483/OPENDATA.CMS.RZ34.QR6N)."
   ]
  }
 ],
 "metadata": {
  "kernelspec": {
   "display_name": "Python 3",
   "language": "python",
   "name": "python3"
  },
  "language_info": {
   "codemirror_mode": {
    "name": "ipython",
    "version": 3
   },
   "file_extension": ".py",
   "mimetype": "text/x-python",
   "name": "python",
   "nbconvert_exporter": "python",
   "pygments_lexer": "ipython3",
   "version": "3.7.3"
  }
 },
 "nbformat": 4,
 "nbformat_minor": 1
}
