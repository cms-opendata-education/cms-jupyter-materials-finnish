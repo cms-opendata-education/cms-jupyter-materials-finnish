{
 "cells": [
  {
   "cell_type": "markdown",
   "metadata": {},
   "source": [
    "<br>\n",
    " <img src=\"https://github.com/cms-opendata-education/cms-jupyter-materials-finnish/blob/master/Kuvat/CMSlogo_color_label_1024_May2014.png?raw=true\"  align=\"right\" width=\"100px\" title=\"CMS projektin oma logo\">                   \n",
    " <img src=\"https://github.com/cms-opendata-education/cms-jupyter-materials-finnish/blob/master/Kuvat/aaltojunior_logo.PNG?raw=true\"  align=\"right\" width=\"150px\" title=\"CMS projektin oma logo\">\n",
    " <br>\n",
    " \n",
    "\n",
    "# Hiukkaset hukassa \n",
    "     Aalto Junior x CMS open data\n",
    "Kuvaus....\n",
    "\n",
    "Tämä tiedosto on tarkoitettu vain opettajan tai assarin käyttöön. Oppitunnin alussa pidettävää esitystä ja demoja varten on hyvä käyttää oppilaan versiota. Kaikki esimerkkikoodit ja $\\color{green}{\\text{ratkaisut}}$ kysymyksiin löytyvät myös täältä. Lisämateriaali on merkitty $\\color{orange}{\\text{oranssilla}}$.\n",
    "\n",
    "## Työpajan rakenne\n",
    "### Esitys (20 min)\n",
    "Assari esittelee otsikot _hiukkasfysiikka, standardimalli, CERN_ ja _CMS_ oppilaan notebookin avulla. \n",
    "### Tehtävä ja tarina (15 min)\n",
    "Tehtävä ja tarina esitellään demojen ja otsikoiden _invariantti massa_ ja _histogrammi_ avulla.\n",
    "### Työskentely ryhmissä (60 min)\n",
    "Jaetaan oppilaat 2-3 hengen ryhmiin ja annetaan jokaiselle ryhmällä oman datasetin nimi. Ryhmän tulee selvittää mistä hiukkasesta datassa on kyse ja laskea muutamia tunnuslukuja.\n",
    "### Koonti (20 min)\n",
    "Kerätään "
   ]
  },
  {
   "cell_type": "code",
   "execution_count": 1,
   "metadata": {},
   "outputs": [],
   "source": [
    "import pandas\n",
    "import matplotlib.pyplot as plt\n",
    "import numpy as np\n",
    "%matplotlib inline"
   ]
  },
  {
   "cell_type": "code",
   "execution_count": 2,
   "metadata": {},
   "outputs": [
    {
     "data": {
      "text/html": [
       "\n",
       "    <script>\n",
       "    function code_toggle() {\n",
       "        if ($('div.cell.code_cell.rendered.selected div.input').css('display')!='none'){\n",
       "            $('div.cell.code_cell.rendered.selected div.input').hide();\n",
       "        } else {\n",
       "            $('div.cell.code_cell.rendered.selected div.input').show();\n",
       "        }\n",
       "    }\n",
       "    </script>\n",
       "\n",
       "\n",
       "<form action=\"javascript:code_toggle()\"><input type=\"submit\" id=\"toggleButton\" value=\"Näytä/piilota koodi\"></form>\n"
      ],
      "text/plain": [
       "<IPython.core.display.HTML object>"
      ]
     },
     "metadata": {},
     "output_type": "display_data"
    }
   ],
   "source": [
    "from IPython.core.display import display, HTML\n",
    "toggle_code_str = '''\n",
    "<form action=\"javascript:code_toggle()\"><input type=\"submit\" id=\"toggleButton\" value=\"Näytä/piilota koodi\"></form>\n",
    "'''\n",
    "\n",
    "toggle_code_prepare_str = '''\n",
    "    <script>\n",
    "    function code_toggle() {\n",
    "        if ($('div.cell.code_cell.rendered.selected div.input').css('display')!='none'){\n",
    "            $('div.cell.code_cell.rendered.selected div.input').hide();\n",
    "        } else {\n",
    "            $('div.cell.code_cell.rendered.selected div.input').show();\n",
    "        }\n",
    "    }\n",
    "    </script>\n",
    "\n",
    "'''\n",
    "\n",
    "display(HTML(toggle_code_prepare_str + toggle_code_str))\n",
    "\n",
    "def toggle_code():\n",
    "    display(HTML(toggle_code_str))"
   ]
  },
  {
   "cell_type": "markdown",
   "metadata": {},
   "source": [
    "****\n",
    "# Hiukkasfysiikkaa\n",
    "Hiukkasfysiikka tutkii maailmankaikkeuden pienimpiä rakennuspalikoita. Nämä palikat ovat atomejakin pienempiä ja joskus jopa mahdottoman pieniä havaittavaksi suoraan. Kun siirrytään hiukkasfysiikan maailmaan eivät normaalit fysiikan säännöt enää päde. Siksi tarvitsemmekin ison joukon tutkijoita ja teoreetikoita selittämään maailmankaikkeuden rakennetta ja jokapäiväisiä vuorovaikutuksia ympärillämme. \n",
    "\n",
    "Ote tieteen kuvalehden artikkelista kvanttimekaniikka viidessä minuutissa :\n",
    "> Hiukkasten mittaamista vaikeuttaa se, että tietyt ominaisuudet muuttavat luonnettaan juuri sillä hetkellä, kun niitä aletaan mitata. Niels Bohrin mukaan tällöin ei enää voida määrittää hiukkasten paikkaa ja liikettä, koska käsitteillä ei enää ole merkitystä.\n",
    "Yksi esimerkki paradoksista on niin sanottu Schrödingerin kissa.\n",
    "[1]\n",
    "\n",
    "Katsokaa ensimmäinen minuutti videosta. [2]\n"
   ]
  },
  {
   "cell_type": "code",
   "execution_count": 3,
   "metadata": {},
   "outputs": [
    {
     "data": {
      "image/jpeg": "[encoded data removed]",
      "text/html": [
       "\n",
       "        <iframe\n",
       "            width=\"400\"\n",
       "            height=\"300\"\n",
       "            src=\"https://www.youtube.com/embed/UjaAxUO6-Uw\"\n",
       "            frameborder=\"0\"\n",
       "            allowfullscreen\n",
       "        ></iframe>\n",
       "        "
      ],
      "text/plain": [
       "<IPython.lib.display.YouTubeVideo at 0x7f9c15fc7ac8>"
      ]
     },
     "execution_count": 3,
     "metadata": {},
     "output_type": "execute_result"
    }
   ],
   "source": [
    "from IPython.lib.display import YouTubeVideo\n",
    "YouTubeVideo('UjaAxUO6-Uw')\n",
    "#https://youtu.be/UjaAxUO6-Uw"
   ]
  },
  {
   "cell_type": "markdown",
   "metadata": {},
   "source": [
    "\n",
    ">Tämä ei tunnu järkevältä, jos asiaa tarkastellaan klassisen fysiikan näkökulmasta, toisin sanoen niiden fysiikan lakien pohjalta, jotka tunnemme arkipäivän elämästä. Niiden mukaan kissa ei voi olla yhtaikaa kuollut ja elävä – vaan ainoastaan jompaakumpaa.\n",
    "Suuri osa kvanttimekaniikasta on kuitenkin Schrödingerin kissa -ajatusleikin kaltaisia kahden eri tilan yhdistelmiä\n",
    "[1]\n",
    "\n",
    "Hiukkasfysiikan kokeellinentutkimus onkin usein epäsuoraa ja dataa kerätään paljon jotta todennäköisyyksien avulla saadaan tuloksia ja uusia havaintoja."
   ]
  },
  {
   "cell_type": "markdown",
   "metadata": {},
   "source": [
    " <img src=\"https://upload.wikimedia.org/wikipedia/commons/0/03/Standardimalli.svg\"  align=\"right\" width=\"500px\" title=\"[Kuva 1] Standardimalli ei ole _kaiken teoria_ vaan siitä puutttuu vielä palasia. Higgsin bosonin löydön jälkeen sen ominaisuuksia on tutkittu tiiviisti.\"> \n",
    " \n",
    "## Stadardimalli\n",
    "Hiukkasfysiikan kehittyessä myös tapamme ymmärtää ja mallintaa ympäristöämme muuttuu. \n",
    "\n",
    "\n",
    "<details>\n",
    "    <summary>$\\color{red}{\\text{Mitä tarkoittaa malli?}}$</summary>\n",
    "    Malli on yksinkertaistettu kuvaus todellisuudesta. Fysiikan mallit rakennetaan teorian ja kokeellisen tutkimuksen yhteistyönä. Teoreetikot rakentavat malleja joita sitten testataan kokeellisesti ja muokataan sitä mukaan, kun tutkimus kehittyy ja löydetään uusia osasia palapeliin.  \n",
    " <img src=\"https://github.com/cms-opendata-education/cms-jupyter-materials-finnish/blob/master/Kuvat/physics_challenges.PNG?raw=true\"  align=\"left\" width=\"500px\" title=\"[Kuva 2] Standardimalli ei ole _kaiken teoria_ vaan siitä puutttuu vielä palasia. Higgsin bosonin löydön jälkeen sen ominaisuuksia on tutkittu tiiviisti.\">  \n",
    "    \n",
    "</details>\n",
    "\n",
    "__Stadardimalli__ on matemaattinen malli joka kuvaa kaikkia tunnettuja hiukkasia sekä heikon-, vahvan- ja sähkömagneettisen vuorovaikutuksen. Standardimallissa on mukana 12 alkeishiukkasta, neljä voimaa välittävää hiukkasta sekä Higgsin hiukkanen. \n",
    "\n",
    "<br>\n",
    "<details>\n",
    "    <summary>Lisätietoa [1]</summary>\n",
    " Ote Tieteen Kuvalehden artikkelista \"kvanttimekaniikka viidessä minuutissa\" \n",
    "    \n",
    "Alkeishiukkaset ovat ne fysikaaliset rakennuskivet, joista kaikki universumin atomit koostuvat. Niitä on kahtatoista eri tyyppiä, mutta luonnollisissa oloissa niistä esiintyy nykyään vain neljää – elektroneja, elektronin neutriinoja, ylöskvarkkeja ja alaskvarkkeja. Muita oli luonnossa vain heti alkuräjähdyksen jälkeen, mutta sittemmin niitä on luotu uudelleen hiukkaskiihdyttimissä.\n",
    "\n",
    "### Elektroni \n",
    "Elektroneilla on negatiivinen sähkövaraus. Niitä esiintyy vapaana tai atomeihin sitoutuneena.\n",
    "\n",
    "### Elektronin neutriino\n",
    "Elektronin neutriinoilla ei ole sähkövarausta ja niillä on hyvin pieni massa. Niitä esiintyy radioaktiivisuuden yhteydessä.\n",
    "\n",
    "### Ylöskvarkki \n",
    "Tavallinen aine koostuu ylös- ja alaskvarkeista sekä elektroneista. Kvarkki ei koskaan esiinny yksinään.\n",
    "\n",
    "### Alaskvarkki \n",
    "Protonit koostuvat yhdestä alas- ja kahdesta ylöskvarkista. Neutroneissa taas on kaksi alaskvarkkia ja yksi ylöskvarkki.\n",
    "\n",
    "### Myoni\n",
    "Myoni muistuttaa elektronia, mutta se on 300 kertaa niin raskas kuin elektroni ja radioaktiivisesti epävakaa.\n",
    "\n",
    "### Myonin neutriino\n",
    "Myonin neutriino muistuttaa elektronin neutriinoa, mutta on sitä hieman raskaampi, vaikkakin silti vielä erittäin kevyt.\n",
    "\n",
    "### Lumokvarkki \n",
    "Lumokvarkki painaa kolme kertaa niin paljon kuin protoni, ja sillä on positiivinen varaus.\n",
    "\n",
    "### Outokvarkki \n",
    "Outokvarkki on negatiivisesti varautunut.\n",
    "\n",
    "### Tau\n",
    "on 3500 kertaa niin raskas kuin elektroni ja sen elinaika on äärimmäisen lyhyt.\n",
    "\n",
    "### Taun neutriino \n",
    "Taun neutriino on varaukseton. Se on hyvin kevyt, vaikkakin hieman muita neutriinoja raskaampi.\n",
    "\n",
    "### Pohjakvarkki \n",
    "Pohjakvarkki on neljä kertaa niin raskas kuin protoni. Pohjakvarkkeja syntyy muun muassa huippukvarkkien hajotessa.\n",
    "\n",
    "### Huippukvarkki \n",
    "Huippukvarkki on raskain alkeishiukkanen. Se painaa lähes yhtä paljon kuin kulta-atomi.\n",
    "****\n",
    "**Voimia välittävät hiukkaset** pitävät rakennusosaset kasassa. Ne välittävät atomeihin neljää luonnon perusvoimaa:\n",
    "\n",
    "### Fotonit\n",
    "Fotonit ovat massattomia valohiukkasia, jotka välittävät sähkömagneettista voimaa.\n",
    "\n",
    "### Gluonit\n",
    "Gluonit liimaavat kvarkit yhteen alkeishiukkasissa ja välittävät vahvaa ydinvoimaa.\n",
    "\n",
    "**W**-ja **Z**-hiukkaset W- ja Z-hiukkaset eli **-bosonit** välittävät heikkoa ydinvoimaa. Ne liittyvät tietynlaisiin radioaktiivisuuden muotoihin.\n",
    "\n",
    "Gravitoni Gravitonien arvellaan välittävän painovoimaa. Hiukkasten olemassaoloa ei ole vielä onnistuttu todistamaan, mutta niitä etsitään kiivaasti CERNissä Sveitsissä.\n",
    "\n",
    "Lisäksi on olemassa **Higgsin hiukkanen**. Se löytyi 99,99 prosentin todennäköisyydellä vuonna 2012. Hiukkanen antaa atomien rakennusosasille massan. Kvarkit kiinnittyvät voimakkaammin Higgsin hiukkasiin, ja siksi ne ovat raskaampia kuin esimerkiksi elektronit.\n",
    "\n",
    "Assarille : https://wiki.kidzsearch.com/wiki/Standard_Model\n",
    "\n",
    "    \n",
    "</details>\n",
    "\n",
    "<details>\n",
    "    <summary>$\\color{red}{\\text{Mitä standardimalli ei selitä?}}$</summary>\n",
    "• Onko löytämämme Higgsin bosoni standardimallin mukainen ja ainoa?\n",
    "    \n",
    "• Miksi maailmankaikkeudessa on enemmän materiaa kuin antimateriaa?\n",
    "\n",
    "• Miten selittää neutriinojen massa?\n",
    "\n",
    "• Mitä on pimeä aine?\n",
    "\n",
    "• Entä pimeä energia? Miten gravitaatio yhdistetään muihin (kvantti)vuorovaikutuksiin? Onko ulottuvuuksia vain arkipäiväiset 3+1?\n",
    "\n",
    "• Miksi hiukkasperheitä on kolme? Onko ”alkeishiukkasilla” sisäinen rakenne?\n",
    "Onko luonnossa lisää symmetrioita? Supersymmetria?\n",
    "    \n",
    "  **Työ on siis vielä kesken!**\n",
    "</details>"
   ]
  },
  {
   "cell_type": "markdown",
   "metadata": {},
   "source": [
    "****\n",
    "## CERN\n",
    "Katsotaan lyhyt esittelyvideo CERN:stä ja CMS kokeesta. "
   ]
  },
  {
   "cell_type": "code",
   "execution_count": 14,
   "metadata": {
    "scrolled": true
   },
   "outputs": [
    {
     "data": {
      "image/jpeg": "[encoded data removed]",
      "text/html": [
       "\n",
       "        <iframe\n",
       "            width=\"400\"\n",
       "            height=\"300\"\n",
       "            src=\"https://www.youtube.com/embed/S99d9BQmGB0\"\n",
       "            frameborder=\"0\"\n",
       "            allowfullscreen\n",
       "        ></iframe>\n",
       "        "
      ],
      "text/plain": [
       "<IPython.lib.display.YouTubeVideo at 0x1ecd9a1f588>"
      ]
     },
     "execution_count": 14,
     "metadata": {},
     "output_type": "execute_result"
    }
   ],
   "source": [
    "from IPython.lib.display import YouTubeVideo\n",
    "YouTubeVideo('S99d9BQmGB0')"
   ]
  },
  {
   "cell_type": "markdown",
   "metadata": {},
   "source": [
    "<img src=\"https://cds.cern.ch/record/2205172/files/CMS%20Slice.gif\"  align=\"right\" width=\"800px\" title=\"[Kuva 5] LHC kiihdyttimen vahva magneettikenttä pitää protonit ympyräradalla\">  \n",
    "\n",
    "Video on hieman vanhentunut ja LHC kiihdytin on nyt (2019-2020) toisella pitkällä huoltotauolla, jonka aikana sen suorituskykyä parannellaan ja säteilystä kärsineitä osia vaihdetaan.\n",
    "\n",
    "\n",
    "\n",
    "### _CMS on kuin sipuli_\n",
    "CMS-hiukkasilmaisin koostuu useasta kerroksesta, joista jokaisella on erityinen tehtävä törmäyksen mittaamisessa. Tärkeää on mitata, millaisia hiukkasia törmäyksestä sinkoilee. Tämä saadaan selville mittaamalla varaus, liikemäärä ja energia. \n",
    "\n",
    "<details>\n",
    "    <summary>Lisätietoa eri osien toiminnasta</summary>\n",
    "Eri hiukkaset vaikuttavat aineen kanssa eri tavoin, eli tarvitaan erilaisia kerroksia mittamaan hiukkasten energioita ja ratoja. Tässä lyhyt tiivistelmä kattavammasta esityksestä.(https://cms-docdb.cern.ch/cgi-bin/PublicDocDB/RetrieveFile?docid=12398&filename=SetOfPostersFN_HQ_small_16092014.pdf)\n",
    "    \n",
    "- **Jälki-ilmaisin** \n",
    "Jälki-ilmaisin koostuu kahden tyyppisisitä silikoni, eli pii osista. Jälki-ilmaisin havaitsee varattujen hiukkasten reitit, kun ne vuorovaikuttavat elekromagneettisesti ilmaisimen kanssa. Tarkan paikkadatan avulla voidaan määrittää protonien törmäyskohdat ja syntyneiden raskaampien ydinten hajoamispaikat. Myös hiukkasen radan kaarevuussäteen avulla voidaan laskea sen momentti.\n",
    "*Pixel* -ilmaisin on rakennettu pienistä silikonisoluista (65 miljoonaa kappaletta), jotka mittaavat varattujen hiukkasten radat hyvin tarkasti.\n",
    "*Tracker* -kerros on valmistettu silikoniliuskoista jotka niin ikään mittaavat hiukkasten ratoja.\n",
    "\n",
    "- **Sähkömagneettinen kalorimetri (ECAL)**\n",
    "Elektronien ja fotonien energiat saadaan mitattua hyvin tarkasti sillä niiden törmäyks ECAL-kerrokseen aiheuttaa sähkömagneettisen ryöpyn joka mitataan tuikeilmaisimilla. Törmänneen elektronin tai fotonin energia on suoraan verrannollinen tuikeilmaisimien havaitsemaan valon määrään.\n",
    "- **Hadronikalorimetri (HCAL)**\n",
    "Hardonikalorimetri pysäyttää hardoneiksi kutsutut hiukkaset, kuten protonit ja netronit. HCAL-kerrokseen saapuvat hardonit menettävät liike-energiaansa hiukkasryöppyihin, joiden synnyttämien tuikevalojen avulla saadaan lasketuksi hardonin alkuperäinen energia.\n",
    "- **Myonijärjestelmä**\n",
    "CMS ilmaisin on nimensä (Compact Muon Solenoid) mukaisesti suunniteltu erityisesti havaitsemaan myoneita. Myonit ovat vaikeasti havaittavia ja ne kulkevatkin ECAL ja HCAL kerrosten läpi pysähtymättä. Kuitenkin positiivisina hiukkasina niiden kulkiessa kaasulla täytettyjen kammioiden läpi (_drift tubes_) kaasu ionisoituu ja vapautuneet elektronit sekä positiiviset ionit kulkeutuvat (_Cathode Strip Chambers_) anodeille ja katodeille. Signaalin avulla voidaan laskea myonin paikka tietyllä ajanhetkellä. _Resistive Plate Chambers_ ovat myös osa myonijärjestelmää luoden signaalia, joka voidaan siirtää eteenpäin käsiteltäväksi.\n",
    "\n",
    "\n",
    "\n",
    "Neutriinot havaitaan epäsuorasti liikemäärän säilymisen kautta.\n",
    "</details>\n",
    "\n",
    "$\\color{red}{\\text{Tarkastelkaa miten eri hiukkaset käyttäytyvät CMS ilmaisimen kerroksissa.}}$\n",
    "\n",
    "$\\color{red}{\\text{Selvitä millainen varaus kyseisellä hiukkasella on. }}$\n",
    "<details>\n",
    "    <summary>Vastaus</summary>\n",
    "    \n",
    "</details>"
   ]
  },
  {
   "cell_type": "markdown",
   "metadata": {},
   "source": [
    " ****\n",
    " \n",
    " <img src=\"https://github.com/cms-opendata-education/cms-jupyter-materials-finnish/blob/master/Kuvat/LHC.png?raw=true\"  align=\"left\" width=\"500px\" title=\"[Kuva 3] LHC ja sitä ympäröivät neljä tutkimusasemaa\"> \n",
    " \n",
    "Jos hiukkanen pyörii myötäpäivää LHC:ssa, $\\color{red}{\\text{mihin suuntaan magneettikentän tulisi osoittaa?}}$\n",
    "\n",
    "<details>\n",
    "    <summary>Vinkki</summary>\n",
    "    <img src=\"https://cdn.kastatic.org/ka-perseus-images/73e3a6b05947364a0128ba9285151daf9dfd18d0.svg\"  align=\"left\" width=\"400px\" title=\"[Kuva 4] Oikean käden sääntö\">  \n",
    "    \n",
    "</details>\n",
    "\n",
    "<details>\n",
    "    <summary>Vastaus</summary>\n",
    "    Magneettikentän tulee osoittaa $\\color{green}{\\text{ylöspäin}}$, jotta sen aiheuttama voima pitää protonin ympyräradalla. LHC kiihdyttimessä kiihdytetään kuitenkin protoneja molempiin suuntiin. Magneettikenttä osoittaa alaspäin toisessa putkessa, jossa protonit viilettävät vastapäivään.\n",
    "    <img src=\"https://github.com/cms-opendata-education/cms-jupyter-materials-finnish/blob/master/Kuvat/lhc-pho-1998-325.jpg?raw=true\"  align=\"left\" width=\"600px\" title=\"[Kuva 5] LHC kiihdyttimen vahva magneettikenttä pitää protonit ympyräradalla\">  \n",
    "\n",
    "    \n",
    "</details>"
   ]
  },
  {
   "cell_type": "markdown",
   "metadata": {},
   "source": [
    "# Hiukkasten havaitseminen hiukkaskiihdyttimen avulla\n",
    "\n",
    "LHC törmäyttää miltei valonnopeudella kulkevia protoneja. Tällaisissa törmäyksissä voi syntyä uusia hiukkasia, joista osa on vakaita ja osa epävakaita. Epävakaat hiukkaset hajoavat spontaanisti jälleen uusiksi hiukkasiksi. Koska epävakaat hiukkaset ovat olemassa vain hyvin lyhyen ajan, eivät hiukkasilmaisimet havaitse niitä. Jotta saisimme tietää, mitä hiukkasia törmäyksessä on syntynyt, meidän tulee tarkastella vakaiden hiukkasten ominaisuuksia. Hiukkasilmaisimien keräämä data kertoo meille syntyneiden hiukkasten energian ja liikemäärän. Näiden suureiden avulla voimme laskea, mikä oli hajonneen hiukkasen massa.\n",
    "\n",
    "Yhden havainnon tekeminen ei kuitenkaan ikinä riitä. Kuten aiemmin todettiin hiukkasfysiikkan kokeissa on kyse todennäköisyyksistä ja epävarmuuksista. Kun dataa saadaan kerättyä tarpeeksi, voidaan käyttää esimerkiksi histogrammeja tulosten visualisoimiseksi.\n",
    "\n",
    "Kokeillaan, miten datan määrä vaikuttaa tuloksiin. Alla on koodi, joka piirtää annetulla datamäärällä histogrammin kahden suurienergisen myonin invariantista massasta. Aloittakaa tutkimalla pieniä lukuja 0-20 ja kasvattakaa datan määrää vähitellen.\n",
    " "
   ]
  },
  {
   "cell_type": "code",
   "execution_count": 4,
   "metadata": {},
   "outputs": [
    {
     "data": {
      "text/html": [
       "\n",
       "<form action=\"javascript:code_toggle()\"><input type=\"submit\" id=\"toggleButton\" value=\"Näytä/piilota koodi\"></form>\n"
      ],
      "text/plain": [
       "<IPython.core.display.HTML object>"
      ]
     },
     "metadata": {},
     "output_type": "display_data"
    }
   ],
   "source": [
    "toggle_code()\n",
    "\n",
    "# Haetaan data tiedostosta ja tallennetaan se muuttujaan 'data'.\n",
    "data = pandas.read_csv('https://raw.githubusercontent.com/cms-opendata-education/cms-jupyter-materials-finnish/master/Data/Zmumu_Run2011A_massoilla.csv')\n",
    "\n",
    "# Tallennetaan datatiedostossa olevat invarianttien massojen arvot muuttujaan 'invariantti_massa'.\n",
    "invariantti_massa = data['M']"
   ]
  },
  {
   "cell_type": "code",
   "execution_count": 9,
   "metadata": {},
   "outputs": [
    {
     "data": {
      "text/html": [
       "\n",
       "<form action=\"javascript:code_toggle()\"><input type=\"submit\" id=\"toggleButton\" value=\"Näytä/piilota koodi\"></form>\n"
      ],
      "text/plain": [
       "<IPython.core.display.HTML object>"
      ]
     },
     "metadata": {},
     "output_type": "display_data"
    },
    {
     "name": "stdin",
     "output_type": "stream",
     "text": [
      "Kuinka monta tapahtumaa valitaan:  10000\n"
     ]
    },
    {
     "name": "stdout",
     "output_type": "stream",
     "text": [
      "\n",
      " Valitsit datasta 10000 invariantin massan arvoa.\n"
     ]
    },
    {
     "data": {
      "image/png": "[encoded data removed]",
      "text/plain": [
       "<Figure size 432x288 with 1 Axes>"
      ]
     },
     "metadata": {
      "needs_background": "light"
     },
     "output_type": "display_data"
    }
   ],
   "source": [
    "toggle_code()\n",
    "# Luodaan tyhjä lista 'valitut', johon tallennetaan valittujen invarianttien massojen arvot.\n",
    "valitut = []\n",
    "\n",
    "# Pyydetään käyttäjää valitsemaan tapahtumien lukumäärä. Tallennetaan luku muuttujaan 'määrä'.\n",
    "määrä = int(input('Kuinka monta tapahtumaa valitaan: '))\n",
    "\n",
    "# Tarkastetaan, onko datassa tarpeeksi tapahtumia. Jos tapahtumia ei ole tarpeeksi, tulostetaan virheilmoitus.\n",
    "# Muussa tapauksessa massat valitaan ja tallennetaan 'valitut'-listaan.\n",
    "if määrä > len(invariantti_massa):\n",
    "    print('Virhe: Histogrammin piirto epäonnistui. Ei tarpeeksi dataa. Maksimimäärä tapahtumia on ' + str(len(invariantti_massa)) + '.')\n",
    "else:\n",
    "    for f in range(määrä):\n",
    "        M = invariantti_massa[f]\n",
    "        valitut.append(M)\n",
    "    print('\\n Valitsit datasta {} invariantin massan arvoa.'.format(määrä))\n",
    "\n",
    "# Piirretään histogrammi valitusta datamäärästä. Valitaan pylväiden lukumäärä 'bins' sekä x-akselin väli 'range'.\n",
    "plt.hist(valitut, bins=120, range=(60,120))\n",
    "\n",
    "# Set y-axis from 0 to 800.\n",
    "#axes = plt.gca()\n",
    "#axes.set_ylim([0,800])\n",
    "\n",
    "# Name the axises and give the title.\n",
    "plt.xlabel('Invariantti massa [GeV]')\n",
    "plt.ylabel('Tapahtumien lukumäärä')\n",
    "plt.title('Kahden myonin invariantti massa\\n')\n",
    "\n",
    "# Empty the variable \"selected\" for the next run.\n",
    "valitut = []"
   ]
  },
  {
   "cell_type": "markdown",
   "metadata": {},
   "source": [
    "## Tärkeät käsitteet ongelman ratkaisemiseksi\n",
    "\n",
    "### Invariantti massa\n",
    "\n",
    "Hiukkasilla on nille ominainen massa, joka kuvaa hiukkasen hitautta. Se on sama massa $m$, jota käytetään Newtonin toisessa laissa $F=ma$ ja Einsteinin yhtälössä $E=mc^2$ (missä E viittaa hiukkasen energiaan levossa). On mahdoton ajatus punnita esimerkiksi Higgsin hiukkasta, jonka eliniänodote on luokkaa $10^{-22}$ sekuntia [3]. Hiukkasen hajoamisesta sinkoilevat uudet hiukkaset taas saattavat kulkea jopa valonnopeudella eikä niillä välttämättä edes ole massaa (esim. fotonit). CMS:n kaltainen laite voi kuitenkin mitata tytärhiukkasten liikemäärää ja energiaa, joiden avulla voidaan laskea _invariantti massa_. Se on matemaattinen arvo joka on \"invariantti\" mittausympäristölle, eli se voidaan laskea missä ja mille tahansa. Jos sen kuitenkin laskee tietystä hajoamisesta syntyneille tytärhiukkasille, saadaan arvo joka on lähellä emohiukkasen massaa.\n",
    "\n",
    "**Invariantti massa siis säilyy hiukkasen hajotessa uusiksi hiukkasiksi.** Tämän ominaisuuden ansiosta se on voittamaton työkalu kokeellisen hiukkasfysiikan tutkijoille. Hiukkasilmaisin, kuten CMS, havaitsee lähinnä stabiileja hiukkasia. Määrittääkseen minkä raskaamman hiukkasen hajoamisesta stabiilit hiukkaset ovat kotoisin, tutkijoiden tulee tarkastella suuria datamääriä. Esimerkiksi piikit invariantin massan histogrammissa voivat viitata tietyn energiseen emohiukkaseen.\n",
    "[Lisätietoa englanniksi](https://profmattstrassler.com/articles-and-posts/particle-physics-basics/mass-energy-matter-etc/mass-and-energy/)\n",
    "\n",
    "Käytetään laskussa seuraavaa lauseketta invariantille massalle $M$. Lausekkeessa $p_T$ on liikemäärän hiukkassuihkua vastaan kohtisuora komponentti, $\\eta$ pseudorapiditeetti ja $\\phi$ atsimuuttikulma:\n",
    "\n",
    "$$M = \\sqrt{2p_{T1}p_{T2}(\\cosh(\\eta_1-\\eta_2)-\\cos(\\phi_1-\\phi_2))}.$$\n",
    "\n",
    "### Histogrammi\n",
    "\n",
    "<br>\n",
    " <img src=\"https://github.com/cms-opendata-education/cms-jupyter-materials-finnish/blob/master/Kuvat/inv_massa.PNG?raw=true\"  align=\"left\" width=\"600px\" title=\"[Kuva 1]  Törmäyksestä syntyneiden kahden myonin invariantin massan jakauma vuosilta 2017 ja 2018. Jakaumasta erottaa selvästi niiden hiukkasten piikit jotka voivat hajota kahdeksi myoniksi.\">\n",
    " <br>"
   ]
  },
  {
   "cell_type": "markdown",
   "metadata": {},
   "source": [
    "Jaa oppilaat 2-3 hengen ryhmiin ja anna jokaiselle ryhmälle numero 1-6. Kukin ryhmä tutkii numeronsa mukaista _piikkidataa_\n",
    "\n",
    "|Datasetti |\tHiukkanen | Datan alue [GeV]| Eventtien lkm. |\n",
    "|----------|:-------------:|:-------------:|:---------------------| \n",
    "|piikkidata1|\tJ/ψ (J/psii)|2.50001 - 3.59982| 48222|\n",
    "|piikkidata2|\tZ-bosoni\t|70.0069 - 109.999 | 33176|\n",
    "|piikkidata3|\tΥ (ypsilon)\t|9.00001 - 9.6999 | 19518 |\n",
    "|piikkidata4\t|φ (fii)| 0.90003 - 1.12998 | 7914 |\n",
    "|piikkidata5\t|ρ, ω (rhoo, oomega)| 0.650063 - 0.899988| 8269|\n",
    "|piikkidata6\t|ψ’ (psii)| 3.50017 - 3.89928 | 4105|\n"
   ]
  },
  {
   "cell_type": "markdown",
   "metadata": {},
   "source": [
    "# Hiukkaset hukassa\n",
    "Jok"
   ]
  },
  {
   "cell_type": "markdown",
   "metadata": {},
   "source": [
    "Haetussa datassa on monta tapahtumaa, joista jokaisesta on tallennettu useita arvoja. Tehtävän kannalta oleellisia ovat,\n",
    "   - __Run__ ja __Event__ : kertovat mistä törmäyksestä kyseisen rivin data on peräisin.\n",
    "   - __pt__ : $p_T$ on kyseisen myonin (1 tai 2) kohtisuora liikemäärä hiukkassuihkua vastaan.\n",
    "   - __eta__ : $\\eta$ on pseudorapiditeetti.\n",
    "   - __phi__ : $\\phi$ (atsimuuttikulma) on kulma jonka suuntaan hiukkanen kulkee jos detektoria tarkastellaan hiukkassuihkun akselilta\n",
    "   - __Q__ : on myonin varaus. Jokaisessa dataan valitussa törmäyksessä syntyy myoni ja antimyoni ($\\mu^+ , \\mu^-$) [1]."
   ]
  },
  {
   "cell_type": "markdown",
   "metadata": {},
   "source": [
    "## Laskuja Pythonilla\n",
    "Python on monikäyttöinen ohjelmointikieli, jolla voidaan esimerkiksi käsitellä suuriakin määriä dataa ja suorittaa teokkaasti laskutoimituksia. Aloitetaan harjoittelu aivan perus laskuista.\n"
   ]
  },
  {
   "cell_type": "markdown",
   "metadata": {},
   "source": [
    "## Tutki dataa\n",
    "Edellisessä koodisolussa latasit tiedoston netistä, luit sen csv-muodosta ja tallensit muuttujaan. Tutki, mitä uusi muuttuja sisältää. "
   ]
  },
  {
   "cell_type": "markdown",
   "metadata": {},
   "source": [
    "\\# merkkaa koodissa kommentin jota ei ajeta. Kommentit helpottavat koodin ymmärtämistä. \n",
    "\n",
    "Poistakaa alla olevasta koodisolusta kommentin merkki (\\#) ryhmänne numeron mukaiselta riviltä ja ajakaa solu.\n"
   ]
  },
  {
   "cell_type": "code",
   "execution_count": 10,
   "metadata": {},
   "outputs": [],
   "source": [
    "piikkidata1 = pandas.read_csv('https://raw.githubusercontent.com/cms-opendata-education/cms-jupyter-materials-finnish/master/Data/piikkidata1.csv')\n",
    "piikkidata2 = pandas.read_csv('https://raw.githubusercontent.com/cms-opendata-education/cms-jupyter-materials-finnish/master/Data/piikkidata2.csv')\n",
    "piikkidata3 = pandas.read_csv('https://raw.githubusercontent.com/cms-opendata-education/cms-jupyter-materials-finnish/master/Data/piikkidata3.csv')\n",
    "piikkidata4 = pandas.read_csv('https://raw.githubusercontent.com/cms-opendata-education/cms-jupyter-materials-finnish/master/Data/piikkidata4.csv')\n",
    "piikkidata5 = pandas.read_csv('https://raw.githubusercontent.com/cms-opendata-education/cms-jupyter-materials-finnish/master/Data/piikkidata5.csv')\n",
    "piikkidata6 = pandas.read_csv('https://raw.githubusercontent.com/cms-opendata-education/cms-jupyter-materials-finnish/master/Data/piikkidata6.csv')"
   ]
  },
  {
   "cell_type": "code",
   "execution_count": 11,
   "metadata": {},
   "outputs": [
    {
     "name": "stdout",
     "output_type": "stream",
     "text": [
      "48223\n",
      "3.50017\n",
      "3.89928\n"
     ]
    },
    {
     "data": {
      "text/html": [
       "<div>\n",
       "<style scoped>\n",
       "    .dataframe tbody tr th:only-of-type {\n",
       "        vertical-align: middle;\n",
       "    }\n",
       "\n",
       "    .dataframe tbody tr th {\n",
       "        vertical-align: top;\n",
       "    }\n",
       "\n",
       "    .dataframe thead th {\n",
       "        text-align: right;\n",
       "    }\n",
       "</style>\n",
       "<table border=\"1\" class=\"dataframe\">\n",
       "  <thead>\n",
       "    <tr style=\"text-align: right;\">\n",
       "      <th></th>\n",
       "      <th>Run</th>\n",
       "      <th>Event</th>\n",
       "      <th>E1</th>\n",
       "      <th>px1</th>\n",
       "      <th>py1</th>\n",
       "      <th>pz1</th>\n",
       "      <th>pt1</th>\n",
       "      <th>eta1</th>\n",
       "      <th>phi1</th>\n",
       "      <th>Q1</th>\n",
       "      <th>E2</th>\n",
       "      <th>px2</th>\n",
       "      <th>py2</th>\n",
       "      <th>pz2</th>\n",
       "      <th>pt2</th>\n",
       "      <th>eta2</th>\n",
       "      <th>phi2</th>\n",
       "      <th>Q2</th>\n",
       "      <th>M</th>\n",
       "    </tr>\n",
       "  </thead>\n",
       "  <tbody>\n",
       "    <tr>\n",
       "      <th>count</th>\n",
       "      <td>8270.000000</td>\n",
       "      <td>8.270000e+03</td>\n",
       "      <td>8270.000000</td>\n",
       "      <td>8270.000000</td>\n",
       "      <td>8270.000000</td>\n",
       "      <td>8270.000000</td>\n",
       "      <td>8270.000000</td>\n",
       "      <td>8270.000000</td>\n",
       "      <td>8270.000000</td>\n",
       "      <td>8270.000000</td>\n",
       "      <td>8270.000000</td>\n",
       "      <td>8270.000000</td>\n",
       "      <td>8270.000000</td>\n",
       "      <td>8270.000000</td>\n",
       "      <td>8270.000000</td>\n",
       "      <td>8270.000000</td>\n",
       "      <td>8270.000000</td>\n",
       "      <td>8270.000000</td>\n",
       "      <td>8270.000000</td>\n",
       "    </tr>\n",
       "    <tr>\n",
       "      <th>mean</th>\n",
       "      <td>167702.262999</td>\n",
       "      <td>4.821126e+08</td>\n",
       "      <td>16.760585</td>\n",
       "      <td>0.121982</td>\n",
       "      <td>-0.135305</td>\n",
       "      <td>-0.410682</td>\n",
       "      <td>11.011809</td>\n",
       "      <td>-0.020063</td>\n",
       "      <td>0.013444</td>\n",
       "      <td>0.312696</td>\n",
       "      <td>16.403706</td>\n",
       "      <td>0.077436</td>\n",
       "      <td>-0.077395</td>\n",
       "      <td>-0.260763</td>\n",
       "      <td>10.808768</td>\n",
       "      <td>-0.021546</td>\n",
       "      <td>0.009273</td>\n",
       "      <td>-0.312696</td>\n",
       "      <td>0.775355</td>\n",
       "    </tr>\n",
       "    <tr>\n",
       "      <th>std</th>\n",
       "      <td>3966.432492</td>\n",
       "      <td>5.814307e+08</td>\n",
       "      <td>12.826747</td>\n",
       "      <td>9.458772</td>\n",
       "      <td>9.665586</td>\n",
       "      <td>16.197891</td>\n",
       "      <td>10.323076</td>\n",
       "      <td>1.076467</td>\n",
       "      <td>1.806788</td>\n",
       "      <td>0.949911</td>\n",
       "      <td>11.948914</td>\n",
       "      <td>9.436009</td>\n",
       "      <td>9.454174</td>\n",
       "      <td>15.276774</td>\n",
       "      <td>7.817916</td>\n",
       "      <td>1.070892</td>\n",
       "      <td>1.806666</td>\n",
       "      <td>0.949911</td>\n",
       "      <td>0.066592</td>\n",
       "    </tr>\n",
       "    <tr>\n",
       "      <th>min</th>\n",
       "      <td>160957.000000</td>\n",
       "      <td>6.068600e+04</td>\n",
       "      <td>3.115480</td>\n",
       "      <td>-89.470500</td>\n",
       "      <td>-144.902000</td>\n",
       "      <td>-269.878000</td>\n",
       "      <td>1.028550</td>\n",
       "      <td>-2.392930</td>\n",
       "      <td>-3.141590</td>\n",
       "      <td>-1.000000</td>\n",
       "      <td>2.858480</td>\n",
       "      <td>-77.917400</td>\n",
       "      <td>-90.039500</td>\n",
       "      <td>-184.129000</td>\n",
       "      <td>0.725568</td>\n",
       "      <td>-2.399860</td>\n",
       "      <td>-3.140460</td>\n",
       "      <td>-1.000000</td>\n",
       "      <td>0.650063</td>\n",
       "    </tr>\n",
       "    <tr>\n",
       "      <th>25%</th>\n",
       "      <td>165208.000000</td>\n",
       "      <td>1.099582e+08</td>\n",
       "      <td>9.192685</td>\n",
       "      <td>-5.449188</td>\n",
       "      <td>-5.619402</td>\n",
       "      <td>-8.409385</td>\n",
       "      <td>6.491715</td>\n",
       "      <td>-0.891937</td>\n",
       "      <td>-1.530493</td>\n",
       "      <td>-1.000000</td>\n",
       "      <td>8.891768</td>\n",
       "      <td>-5.259993</td>\n",
       "      <td>-5.472913</td>\n",
       "      <td>-8.205303</td>\n",
       "      <td>6.212743</td>\n",
       "      <td>-0.874559</td>\n",
       "      <td>-1.537088</td>\n",
       "      <td>-1.000000</td>\n",
       "      <td>0.722626</td>\n",
       "    </tr>\n",
       "    <tr>\n",
       "      <th>50%</th>\n",
       "      <td>166784.000000</td>\n",
       "      <td>2.307144e+08</td>\n",
       "      <td>13.238150</td>\n",
       "      <td>0.093312</td>\n",
       "      <td>0.073173</td>\n",
       "      <td>-0.154002</td>\n",
       "      <td>8.915425</td>\n",
       "      <td>-0.016325</td>\n",
       "      <td>0.024302</td>\n",
       "      <td>1.000000</td>\n",
       "      <td>13.082250</td>\n",
       "      <td>0.073686</td>\n",
       "      <td>0.021010</td>\n",
       "      <td>-0.121725</td>\n",
       "      <td>8.842195</td>\n",
       "      <td>-0.012118</td>\n",
       "      <td>0.011726</td>\n",
       "      <td>-1.000000</td>\n",
       "      <td>0.777549</td>\n",
       "    </tr>\n",
       "    <tr>\n",
       "      <th>75%</th>\n",
       "      <td>172791.000000</td>\n",
       "      <td>6.126838e+08</td>\n",
       "      <td>20.126325</td>\n",
       "      <td>5.634370</td>\n",
       "      <td>5.386835</td>\n",
       "      <td>7.914198</td>\n",
       "      <td>13.400950</td>\n",
       "      <td>0.815497</td>\n",
       "      <td>1.585213</td>\n",
       "      <td>1.000000</td>\n",
       "      <td>19.886125</td>\n",
       "      <td>5.496545</td>\n",
       "      <td>5.448895</td>\n",
       "      <td>7.678843</td>\n",
       "      <td>13.577675</td>\n",
       "      <td>0.825831</td>\n",
       "      <td>1.581218</td>\n",
       "      <td>1.000000</td>\n",
       "      <td>0.826036</td>\n",
       "    </tr>\n",
       "    <tr>\n",
       "      <th>max</th>\n",
       "      <td>173692.000000</td>\n",
       "      <td>3.056589e+09</td>\n",
       "      <td>308.698000</td>\n",
       "      <td>74.760000</td>\n",
       "      <td>86.198300</td>\n",
       "      <td>265.963000</td>\n",
       "      <td>476.732000</td>\n",
       "      <td>2.396120</td>\n",
       "      <td>3.139180</td>\n",
       "      <td>1.000000</td>\n",
       "      <td>189.085000</td>\n",
       "      <td>63.146800</td>\n",
       "      <td>81.298900</td>\n",
       "      <td>153.014000</td>\n",
       "      <td>97.556700</td>\n",
       "      <td>2.398950</td>\n",
       "      <td>3.141280</td>\n",
       "      <td>1.000000</td>\n",
       "      <td>0.899988</td>\n",
       "    </tr>\n",
       "  </tbody>\n",
       "</table>\n",
       "</div>"
      ],
      "text/plain": [
       "                 Run         Event           E1          px1          py1  \\\n",
       "count    8270.000000  8.270000e+03  8270.000000  8270.000000  8270.000000   \n",
       "mean   167702.262999  4.821126e+08    16.760585     0.121982    -0.135305   \n",
       "std      3966.432492  5.814307e+08    12.826747     9.458772     9.665586   \n",
       "min    160957.000000  6.068600e+04     3.115480   -89.470500  -144.902000   \n",
       "25%    165208.000000  1.099582e+08     9.192685    -5.449188    -5.619402   \n",
       "50%    166784.000000  2.307144e+08    13.238150     0.093312     0.073173   \n",
       "75%    172791.000000  6.126838e+08    20.126325     5.634370     5.386835   \n",
       "max    173692.000000  3.056589e+09   308.698000    74.760000    86.198300   \n",
       "\n",
       "               pz1          pt1         eta1         phi1           Q1  \\\n",
       "count  8270.000000  8270.000000  8270.000000  8270.000000  8270.000000   \n",
       "mean     -0.410682    11.011809    -0.020063     0.013444     0.312696   \n",
       "std      16.197891    10.323076     1.076467     1.806788     0.949911   \n",
       "min    -269.878000     1.028550    -2.392930    -3.141590    -1.000000   \n",
       "25%      -8.409385     6.491715    -0.891937    -1.530493    -1.000000   \n",
       "50%      -0.154002     8.915425    -0.016325     0.024302     1.000000   \n",
       "75%       7.914198    13.400950     0.815497     1.585213     1.000000   \n",
       "max     265.963000   476.732000     2.396120     3.139180     1.000000   \n",
       "\n",
       "                E2          px2          py2          pz2          pt2  \\\n",
       "count  8270.000000  8270.000000  8270.000000  8270.000000  8270.000000   \n",
       "mean     16.403706     0.077436    -0.077395    -0.260763    10.808768   \n",
       "std      11.948914     9.436009     9.454174    15.276774     7.817916   \n",
       "min       2.858480   -77.917400   -90.039500  -184.129000     0.725568   \n",
       "25%       8.891768    -5.259993    -5.472913    -8.205303     6.212743   \n",
       "50%      13.082250     0.073686     0.021010    -0.121725     8.842195   \n",
       "75%      19.886125     5.496545     5.448895     7.678843    13.577675   \n",
       "max     189.085000    63.146800    81.298900   153.014000    97.556700   \n",
       "\n",
       "              eta2         phi2           Q2            M  \n",
       "count  8270.000000  8270.000000  8270.000000  8270.000000  \n",
       "mean     -0.021546     0.009273    -0.312696     0.775355  \n",
       "std       1.070892     1.806666     0.949911     0.066592  \n",
       "min      -2.399860    -3.140460    -1.000000     0.650063  \n",
       "25%      -0.874559    -1.537088    -1.000000     0.722626  \n",
       "50%      -0.012118     0.011726    -1.000000     0.777549  \n",
       "75%       0.825831     1.581218     1.000000     0.826036  \n",
       "max       2.398950     3.141280     1.000000     0.899988  "
      ]
     },
     "execution_count": 11,
     "metadata": {},
     "output_type": "execute_result"
    }
   ],
   "source": [
    "#kirjoita tähän koodi jolla paljastat muuttujan sisällön \n",
    "print(len(piikkidata1))\n",
    "print(min(piikkidata6['M']))\n",
    "print(max(piikkidata6['M']) )\n",
    "piikkidata5.describe()"
   ]
  },
  {
   "cell_type": "code",
   "execution_count": null,
   "metadata": {},
   "outputs": [],
   "source": [
    "\n"
   ]
  },
  {
   "cell_type": "code",
   "execution_count": null,
   "metadata": {},
   "outputs": [],
   "source": []
  },
  {
   "cell_type": "markdown",
   "metadata": {},
   "source": [
    "### Invariantin massan laskeminen"
   ]
  },
  {
   "cell_type": "markdown",
   "metadata": {},
   "source": [
    "Käytetään laskussa seuraavaa lauseketta invariantille massalle $M$. Lausekkeessa $p_T$ on liikemäärän hiukkassuihkua vastaan kohtisuora komponentti, $\\eta$ pseudorapiditeetti ja $\\phi$ atsimuuttikulma:\n",
    "\n",
    "$$M = \\sqrt{2p_{T1}p_{T2}(\\cosh(\\eta_1-\\eta_2)-\\cos(\\phi_1-\\phi_2))}.$$"
   ]
  },
  {
   "cell_type": "code",
   "execution_count": 12,
   "metadata": {},
   "outputs": [],
   "source": [
    "inv_massa= np.sqrt(2*piikkidata1.pt1*piikkidata1.pt2*(np.cosh(piikkidata1.eta1-piikkidata1.eta2)-np.cos(piikkidata1.phi1-piikkidata1.phi2)))"
   ]
  },
  {
   "cell_type": "markdown",
   "metadata": {},
   "source": [
    "#### Laskun tarkistus"
   ]
  },
  {
   "cell_type": "code",
   "execution_count": 13,
   "metadata": {},
   "outputs": [],
   "source": [
    "inv_massa1= np.sqrt(2*piikkidata1.pt1*piikkidata1.pt2*(np.cosh(piikkidata1.eta1-piikkidata1.eta2)-np.cos(piikkidata1.phi1-piikkidata1.phi2)))\n",
    "error1=np.mean(piikkidata1.M-inv_massa1)\n",
    "\n",
    "inv_massa2= np.sqrt(2*piikkidata2.pt1*piikkidata2.pt2*(np.cosh(piikkidata2.eta1-piikkidata2.eta2)-np.cos(piikkidata2.phi1-piikkidata2.phi2)))\n",
    "error2=np.mean(piikkidata2.M-inv_massa2)\n",
    "\n",
    "inv_massa3= np.sqrt(2*piikkidata3.pt1*piikkidata3.pt2*(np.cosh(piikkidata3.eta1-piikkidata3.eta2)-np.cos(piikkidata3.phi1-piikkidata3.phi2)))\n",
    "error3=np.mean(piikkidata3.M-inv_massa3)\n",
    "\n",
    "inv_massa4= np.sqrt(2*piikkidata4.pt1*piikkidata4.pt2*(np.cosh(piikkidata4.eta1-piikkidata4.eta2)-np.cos(piikkidata4.phi1-piikkidata4.phi2)))\n",
    "error4=np.mean(piikkidata4.M-inv_massa4)\n",
    "\n",
    "inv_massa5= np.sqrt(2*piikkidata5.pt1*piikkidata5.pt2*(np.cosh(piikkidata5.eta1-piikkidata5.eta2)-np.cos(piikkidata5.phi1-piikkidata5.phi2)))\n",
    "error5=np.mean(piikkidata5.M-inv_massa5)\n",
    "\n",
    "inv_massa6= np.sqrt(2*piikkidata6.pt1*piikkidata6.pt2*(np.cosh(piikkidata6.eta1-piikkidata6.eta2)-np.cos(piikkidata6.phi1-piikkidata6.phi2)))\n",
    "error6=np.mean(piikkidata6.M-inv_massa6)\n",
    "\n"
   ]
  },
  {
   "cell_type": "code",
   "execution_count": 15,
   "metadata": {},
   "outputs": [
    {
     "data": {
      "text/html": [
       "\n",
       "<form action=\"javascript:code_toggle()\"><input type=\"submit\" id=\"toggleButton\" value=\"Näytä/piilota koodi\"></form>\n"
      ],
      "text/plain": [
       "<IPython.core.display.HTML object>"
      ]
     },
     "metadata": {},
     "output_type": "display_data"
    },
    {
     "name": "stdout",
     "output_type": "stream",
     "text": [
      "Tällä ohjelmalla voit tarkistaa laskitko invariantin massan oikein. Voit keskeyttää tarkistuksen vastaamalla \"exit\"\n"
     ]
    },
    {
     "name": "stdin",
     "output_type": "stream",
     "text": [
      "Kirjoita tiedostosi nimi (esim. piikkidata1): moi\n"
     ]
    },
    {
     "name": "stdout",
     "output_type": "stream",
     "text": [
      "Antamasi tiedoston nimi on virheellinen, tarkista että kirjoitit sen oikein\n"
     ]
    },
    {
     "name": "stdin",
     "output_type": "stream",
     "text": [
      "Kirjoita tiedostosi nimi (esim. piikkidata1): piikkidata1\n",
      "Kirjoita muuttujan nimi johon tallensit invariantin massan arvot: moi\n"
     ]
    },
    {
     "name": "stdout",
     "output_type": "stream",
     "text": [
      "Muuttujan nimi ei vastannut mitään muistin muuttujaa. Tarkista että ajoit invariantin massan laskutoimituksen, ja tallensit tulokset juuri tällä nimellä.\n"
     ]
    },
    {
     "name": "stdin",
     "output_type": "stream",
     "text": [
      "Kirjoita muuttujan nimi johon tallensit invariantin massan arvot: exit\n"
     ]
    }
   ],
   "source": [
    "toggle_code() #piilottaa koodin, koska se ei ole tehtävän kannalta oleellinen\n",
    "print('Tällä ohjelmalla voit tarkistaa laskitko invariantin massan oikein. Voit keskeyttää tarkistuksen vastaamalla \"exit\"')\n",
    "kesken= True\n",
    "kesken2= True\n",
    "errorbound=[0.0082 , 0.0087 , 0.0035 , 0.0254 , 0.0315 , 0.0042 ] #virhe joka johtuu käytetyn kaavan aproksimaatiosta\n",
    "while kesken:\n",
    "    nimi=input('Kirjoita tiedostosi nimi (esim. piikkidata1):')\n",
    "    if nimi=='exit': break\n",
    "    elif nimi in globals(): #testataan onko annettu inputti sopiva\n",
    "        tiedosto= eval(nimi) \n",
    "        while kesken2:\n",
    "            testi=input('Kirjoita muuttujan nimi johon tallensit invariantin massan arvot:')\n",
    "            if testi=='exit': \n",
    "                kesken=False\n",
    "                break\n",
    "            elif testi in globals(): #testaa onko kyseisellä nimellä tallennettu muuttuja\n",
    "                lasketut= eval(testi)\n",
    "                errormean=np.mean(tiedosto.M-lasketut)\n",
    "                num=int(nimi[int(len(nimi)-1)])-1\n",
    "\n",
    "                if errorbound[num] >= abs(errormean) :\n",
    "                    kesken = False\n",
    "                    print('Hienoa, laskit invariantin massan oikein!')\n",
    "                    break\n",
    "                else:\n",
    "                    kesken=True\n",
    "                    kesken2=True\n",
    "                    lasketut= None\n",
    "                    tiedosto=None\n",
    "                    errormean=None\n",
    "                    print('Jotain meni pieleen, tarkista vielä koodi ja pyydä sitten assarilta apua.')\n",
    "                    break\n",
    "            else:\n",
    "                print('Muuttujan nimi ei vastannut mitään muistin muuttujaa. Tarkista että ajoit invariantin massan laskutoimituksen, ja tallensit tulokset juuri tällä nimellä.')\n",
    "    else:\n",
    "        print('Antamasi tiedoston nimi on virheellinen, tarkista että kirjoitit sen oikein')\n",
    "        "
   ]
  },
  {
   "cell_type": "code",
   "execution_count": 16,
   "metadata": {},
   "outputs": [
    {
     "data": {
      "image/png": "[encoded data removed]",
      "text/plain": [
       "<Figure size 432x288 with 1 Axes>"
      ]
     },
     "metadata": {
      "needs_background": "light"
     },
     "output_type": "display_data"
    },
    {
     "data": {
      "image/png": "[encoded data removed]",
      "text/plain": [
       "<Figure size 432x288 with 1 Axes>"
      ]
     },
     "metadata": {
      "needs_background": "light"
     },
     "output_type": "display_data"
    }
   ],
   "source": [
    "plt.xlabel('Invariantti massa [GeV]')\n",
    "plt.ylabel('Tapahtumien lukumäärä')\n",
    "plt.title('Kahden myonin invariantti massa, vertailu eri suodattimilla \\n')\n",
    "plt.hist(inv_massa5, bins=50, range=(0.6,1), alpha=0.5, label='laskettu')\n",
    "plt.hist(piikkidata5['M'], bins=50, range=(0.6,1), alpha=0.5, label='valmis')\n",
    "plt.legend (loc='upper right')\n",
    "plt.show()\n",
    "plt.xlabel('Invariantti massa [GeV]')\n",
    "plt.ylabel('Tapahtumien lukumäärä')\n",
    "plt.title('Kahden myonin invariantti massa, vertailu eri suodattimilla \\n')\n",
    "plt.hist(inv_massa6, bins=50, range=(3.5,4), alpha=0.5, label='laskettu')\n",
    "plt.hist(piikkidata6['M'], bins=50, range=(3.5,4), alpha=0.5, label='valmis')\n",
    "plt.legend (loc='upper right')\n",
    "plt.show()"
   ]
  },
  {
   "cell_type": "code",
   "execution_count": 17,
   "metadata": {},
   "outputs": [
    {
     "name": "stdout",
     "output_type": "stream",
     "text": [
      "48223\n",
      "48223\n"
     ]
    },
    {
     "data": {
      "text/plain": [
       "1.6244978497210996"
      ]
     },
     "execution_count": 17,
     "metadata": {},
     "output_type": "execute_result"
    }
   ],
   "source": [
    "erotus= piikkidata1.M-inv_massa\n",
    "print(len(piikkidata1.M))\n",
    "print(len(inv_massa))\n",
    "erotus\n",
    "max(erotus)"
   ]
  },
  {
   "cell_type": "code",
   "execution_count": null,
   "metadata": {},
   "outputs": [],
   "source": [
    "new_list = []\n",
    "for element in pieni:\n",
    "    if element in iso:\n",
    "        new_list.append(element)\n",
    "    "
   ]
  },
  {
   "cell_type": "code",
   "execution_count": null,
   "metadata": {},
   "outputs": [],
   "source": [
    "len(zee)"
   ]
  },
  {
   "cell_type": "code",
   "execution_count": null,
   "metadata": {},
   "outputs": [],
   "source": [
    "len(new_list)"
   ]
  },
  {
   "cell_type": "markdown",
   "metadata": {},
   "source": [
    "## Tulosten vertailu\n",
    "Piirtäkää itse CMS ilmaisimen datasta kahden myonin invariantin massan spektri.\n",
    "Tutkikaa mistä kohdasta dataa ryhmänne _piikkidata_ on peräisin.\n"
   ]
  },
  {
   "cell_type": "code",
   "execution_count": 18,
   "metadata": {},
   "outputs": [
    {
     "data": {
      "text/html": [
       "<div>\n",
       "<style scoped>\n",
       "    .dataframe tbody tr th:only-of-type {\n",
       "        vertical-align: middle;\n",
       "    }\n",
       "\n",
       "    .dataframe tbody tr th {\n",
       "        vertical-align: top;\n",
       "    }\n",
       "\n",
       "    .dataframe thead th {\n",
       "        text-align: right;\n",
       "    }\n",
       "</style>\n",
       "<table border=\"1\" class=\"dataframe\">\n",
       "  <thead>\n",
       "    <tr style=\"text-align: right;\">\n",
       "      <th></th>\n",
       "      <th>Run</th>\n",
       "      <th>Event</th>\n",
       "      <th>Type1</th>\n",
       "      <th>E1</th>\n",
       "      <th>px1</th>\n",
       "      <th>py1</th>\n",
       "      <th>pz1</th>\n",
       "      <th>pt1</th>\n",
       "      <th>eta1</th>\n",
       "      <th>phi1</th>\n",
       "      <th>...</th>\n",
       "      <th>Type2</th>\n",
       "      <th>E2</th>\n",
       "      <th>px2</th>\n",
       "      <th>py2</th>\n",
       "      <th>pz2</th>\n",
       "      <th>pt2</th>\n",
       "      <th>eta2</th>\n",
       "      <th>phi2</th>\n",
       "      <th>Q2</th>\n",
       "      <th>M</th>\n",
       "    </tr>\n",
       "  </thead>\n",
       "  <tbody>\n",
       "    <tr>\n",
       "      <th>0</th>\n",
       "      <td>165617</td>\n",
       "      <td>74601703</td>\n",
       "      <td>G</td>\n",
       "      <td>9.69873</td>\n",
       "      <td>-9.510430</td>\n",
       "      <td>0.366205</td>\n",
       "      <td>1.86329</td>\n",
       "      <td>9.51748</td>\n",
       "      <td>0.194546</td>\n",
       "      <td>3.10311</td>\n",
       "      <td>...</td>\n",
       "      <td>G</td>\n",
       "      <td>9.76332</td>\n",
       "      <td>7.327710</td>\n",
       "      <td>-1.152370</td>\n",
       "      <td>6.34728</td>\n",
       "      <td>7.41776</td>\n",
       "      <td>0.775564</td>\n",
       "      <td>-0.155984</td>\n",
       "      <td>1</td>\n",
       "      <td>17.49220</td>\n",
       "    </tr>\n",
       "    <tr>\n",
       "      <th>1</th>\n",
       "      <td>165617</td>\n",
       "      <td>75100943</td>\n",
       "      <td>G</td>\n",
       "      <td>6.20385</td>\n",
       "      <td>-4.266610</td>\n",
       "      <td>0.456545</td>\n",
       "      <td>-4.47930</td>\n",
       "      <td>4.29097</td>\n",
       "      <td>-0.912070</td>\n",
       "      <td>3.03499</td>\n",
       "      <td>...</td>\n",
       "      <td>G</td>\n",
       "      <td>9.66898</td>\n",
       "      <td>7.273970</td>\n",
       "      <td>-2.821120</td>\n",
       "      <td>-5.71040</td>\n",
       "      <td>7.80188</td>\n",
       "      <td>-0.678625</td>\n",
       "      <td>-0.369977</td>\n",
       "      <td>1</td>\n",
       "      <td>11.55340</td>\n",
       "    </tr>\n",
       "    <tr>\n",
       "      <th>2</th>\n",
       "      <td>165617</td>\n",
       "      <td>75587682</td>\n",
       "      <td>G</td>\n",
       "      <td>19.28920</td>\n",
       "      <td>-4.212080</td>\n",
       "      <td>-0.651623</td>\n",
       "      <td>18.81210</td>\n",
       "      <td>4.26219</td>\n",
       "      <td>2.190460</td>\n",
       "      <td>-2.98811</td>\n",
       "      <td>...</td>\n",
       "      <td>G</td>\n",
       "      <td>9.82439</td>\n",
       "      <td>4.343940</td>\n",
       "      <td>-0.473505</td>\n",
       "      <td>8.79849</td>\n",
       "      <td>4.36967</td>\n",
       "      <td>1.449670</td>\n",
       "      <td>-0.108575</td>\n",
       "      <td>1</td>\n",
       "      <td>9.16361</td>\n",
       "    </tr>\n",
       "    <tr>\n",
       "      <th>3</th>\n",
       "      <td>165617</td>\n",
       "      <td>75660978</td>\n",
       "      <td>G</td>\n",
       "      <td>7.04268</td>\n",
       "      <td>-6.326780</td>\n",
       "      <td>-0.268545</td>\n",
       "      <td>3.08025</td>\n",
       "      <td>6.33248</td>\n",
       "      <td>0.469033</td>\n",
       "      <td>-3.09917</td>\n",
       "      <td>...</td>\n",
       "      <td>G</td>\n",
       "      <td>5.58571</td>\n",
       "      <td>4.474760</td>\n",
       "      <td>0.848935</td>\n",
       "      <td>-3.23185</td>\n",
       "      <td>4.55458</td>\n",
       "      <td>-0.660499</td>\n",
       "      <td>0.187488</td>\n",
       "      <td>1</td>\n",
       "      <td>12.47740</td>\n",
       "    </tr>\n",
       "    <tr>\n",
       "      <th>4</th>\n",
       "      <td>165617</td>\n",
       "      <td>75947690</td>\n",
       "      <td>G</td>\n",
       "      <td>7.27507</td>\n",
       "      <td>0.102966</td>\n",
       "      <td>-5.533080</td>\n",
       "      <td>-4.72122</td>\n",
       "      <td>5.53403</td>\n",
       "      <td>-0.773616</td>\n",
       "      <td>-1.55219</td>\n",
       "      <td>...</td>\n",
       "      <td>G</td>\n",
       "      <td>7.31811</td>\n",
       "      <td>-0.398831</td>\n",
       "      <td>6.940810</td>\n",
       "      <td>2.28247</td>\n",
       "      <td>6.95226</td>\n",
       "      <td>0.322677</td>\n",
       "      <td>1.628190</td>\n",
       "      <td>1</td>\n",
       "      <td>14.31590</td>\n",
       "    </tr>\n",
       "  </tbody>\n",
       "</table>\n",
       "<p>5 rows × 21 columns</p>\n",
       "</div>"
      ],
      "text/plain": [
       "      Run     Event Type1        E1       px1       py1       pz1      pt1  \\\n",
       "0  165617  74601703     G   9.69873 -9.510430  0.366205   1.86329  9.51748   \n",
       "1  165617  75100943     G   6.20385 -4.266610  0.456545  -4.47930  4.29097   \n",
       "2  165617  75587682     G  19.28920 -4.212080 -0.651623  18.81210  4.26219   \n",
       "3  165617  75660978     G   7.04268 -6.326780 -0.268545   3.08025  6.33248   \n",
       "4  165617  75947690     G   7.27507  0.102966 -5.533080  -4.72122  5.53403   \n",
       "\n",
       "       eta1     phi1  ...  Type2       E2       px2       py2      pz2  \\\n",
       "0  0.194546  3.10311  ...      G  9.76332  7.327710 -1.152370  6.34728   \n",
       "1 -0.912070  3.03499  ...      G  9.66898  7.273970 -2.821120 -5.71040   \n",
       "2  2.190460 -2.98811  ...      G  9.82439  4.343940 -0.473505  8.79849   \n",
       "3  0.469033 -3.09917  ...      G  5.58571  4.474760  0.848935 -3.23185   \n",
       "4 -0.773616 -1.55219  ...      G  7.31811 -0.398831  6.940810  2.28247   \n",
       "\n",
       "       pt2      eta2      phi2  Q2         M  \n",
       "0  7.41776  0.775564 -0.155984   1  17.49220  \n",
       "1  7.80188 -0.678625 -0.369977   1  11.55340  \n",
       "2  4.36967  1.449670 -0.108575   1   9.16361  \n",
       "3  4.55458 -0.660499  0.187488   1  12.47740  \n",
       "4  6.95226  0.322677  1.628190   1  14.31590  \n",
       "\n",
       "[5 rows x 21 columns]"
      ]
     },
     "execution_count": 18,
     "metadata": {},
     "output_type": "execute_result"
    }
   ],
   "source": [
    "dimu2= pandas.read_csv('https://raw.githubusercontent.com/cms-opendata-education/cms-jupyter-materials-finnish/master/Data/DoubleMuRun2011A.csv')\n",
    "dimu2.head()"
   ]
  },
  {
   "cell_type": "code",
   "execution_count": 22,
   "metadata": {},
   "outputs": [
    {
     "data": {
      "image/png": "[encoded data removed]",
      "text/plain": [
       "<Figure size 432x288 with 1 Axes>"
      ]
     },
     "metadata": {
      "needs_background": "light"
     },
     "output_type": "display_data"
    }
   ],
   "source": [
    "y, x = np.histogram(dimu2.M, bins=1000, range=(0.3,110)) #\n",
    "fig, ax = plt.subplots()\n",
    "ax.semilogx()\n",
    "ax.semilogy()\n",
    "ax.grid(color='grey', linestyle='--', linewidth=0.4)\n",
    "ax.plot(x[:-1], y)\n",
    "fig.show()"
   ]
  },
  {
   "cell_type": "markdown",
   "metadata": {},
   "source": [
    "****\n",
    "# Koonti\n",
    "Kun kaikki ovat saaneet omasta piikkidatastaan tarvittavat tulokset saadaan ongelma ratkaistua ja luotua siisti kuvaaja.\n"
   ]
  },
  {
   "cell_type": "code",
   "execution_count": 25,
   "metadata": {},
   "outputs": [
    {
     "data": {
      "image/png": "[encoded data removed]",
      "text/plain": [
       "<Figure size 432x288 with 1 Axes>"
      ]
     },
     "metadata": {
      "needs_background": "light"
     },
     "output_type": "display_data"
    }
   ],
   "source": [
    "y, x = np.histogram(dimu2.M, bins=1000, range=(0.3,110)) #\n",
    "fig, ax = plt.subplots()\n",
    "ax.semilogx()\n",
    "ax.semilogy()\n",
    "ax.grid(color='grey', linestyle='--', linewidth=0.4)\n",
    "ax.plot(x[:-1], y)\n",
    "fig.show()"
   ]
  },
  {
   "cell_type": "markdown",
   "metadata": {},
   "source": [
    "*****\n",
    "## Lähteet \n",
    "[1] Tieteen Kuvalehti 7.7.2015. Kvanttimekaniikkaa viidessä minuutissa. Luettu 25.6.2019\n",
    "Url:https://tieku.fi/luonto/kvanttimekaniikkaa-viidessa-minuutissa\n",
    "\n",
    "[2] TED Ed Animation, Schrödinger's cat: A thought experiment in quantum mechanics - Chad Orzel. Katseltu 25.6.2019\n",
    "Url: https://ed.ted.com/lessons/schrodinger-s-cat-a-thought-experiment-in-quantum-mechanics-chad-orzel\n",
    "\n",
    "[3] Determination of the off-shell Higgs boson signal strength in the high-mass ZZ final state with the ATLAS detector.\n",
    "Url: https://atlas.cern/updates/physics-briefing/higgs-boson-s-shadow\n",
    "\n",
    "[4] Thomas McCauley (2016). Zmumu. Jupyter Notebook file. \n",
    "Url: https://github.com/tpmccauley/cmsopendata-jupyter/blob/hst-0.1/Zmumu.ipynb\n",
    "\n",
    "\n",
    "## Data\n",
    "Data collected from collisions will be saved to AOD (Analysis Object Data) files that can be opened with the ROOT program (https://root.cern.ch/). Structures of the files are very complicated so those can't be handled for example in simple data tables.\n",
    "\n",
    "The data used in the analysis has been collected by the CMS detector in 2011. From the original data a CSV file containing only some of the collision events and information has been derived. The original data is saved in AOD format that can be read with ROOT program. Open the link http://opendata.cern.ch/record/17 and take a look how large the original datafile is from the section Characteristics.\n",
    "\n",
    "From the original datafile only collision events with exactly two muons detected have been selected to the CSV file. The selection is done with the code similar to the one in the link http://opendata.cern.ch/record/552. In practice the code will select wanted values from the original file and write them to the CSV file. \n",
    "\n",
    "## Kuvat\n",
    "[Kuva 1]  File:Standard Model of Elementary Particles.svg From Wikimedia Commons, CC BY-SA 3.0.\n",
    "Url: https://commons.wikimedia.org/wiki/File:Standard_Model_of_Elementary_Particles.svg\n",
    "\n",
    "[Kuva 2] CMS-OUTREACH-2016-013 Title Set of CMS Brochures (2015) Luettu 25.6.2019\n",
    "Url: https://cds.cern.ch/record/2204854\n",
    "\n",
    "[Kuva 3] P. Mouche, Overall view of the LHC. Vue d'ensemble du LHC, 2014.\n",
    "Url: https://cds.cern.ch/record/1708847.\n",
    "\n",
    "[Kuva 4] Khan Academy Using the Right-Hand Rule Luettu 25.6.2019\n",
    "Url: https://www.khanacademy.org/test-prep/mcat/physical-processes/magnetism-mcat/a/using-the-right-hand-rule\n",
    "\n",
    "[Kuva 5] LHC Project Illustrations / Civil engineering\t\tLHC-PHO-1998-325\n",
    "Magnetic field induced by the LHC dipole's superconducting coils. Conditions of Use © 1998-2019 CERN\n",
    "Url: http://cds.cern.ch/record/841511\n",
    "\n",
    "JÄRKKÄÄ\n",
    "\n",
    "[Kuva 1] HLT Dimuon Invariant Mass Distributions in 2017 and 2018 ( CMS DP-2018/055)\n",
    "Url: https://twiki.cern.ch/twiki/bin/view/CMSPublic/HLTDiMuon2017and2018 \n",
    "\n",
    "[diat] CMS-OUTREACH-2016-027, Title\tInteractive Slice of the CMS detector, Author Davis, Siona Ruth (CERN)\n",
    "Url: https://cds.cern.ch/record/2205172\n",
    "\n",
    "LISÄÄ:::\n",
    "https://cms-docdb.cern.ch/cgi-bin/PublicDocDB/RetrieveFile?docid=12398&filename=SetOfPostersFN_HQ_small_16092014.pdf"
   ]
  },
  {
   "cell_type": "code",
   "execution_count": null,
   "metadata": {},
   "outputs": [],
   "source": []
  }
 ],
 "metadata": {
  "kernelspec": {
   "display_name": "Python 3",
   "language": "python",
   "name": "python3"
  },
  "language_info": {
   "codemirror_mode": {
    "name": "ipython",
    "version": 3
   },
   "file_extension": ".py",
   "mimetype": "text/x-python",
   "name": "python",
   "nbconvert_exporter": "python",
   "pygments_lexer": "ipython3",
   "version": "3.7.3"
  }
 },
 "nbformat": 4,
 "nbformat_minor": 2
}
