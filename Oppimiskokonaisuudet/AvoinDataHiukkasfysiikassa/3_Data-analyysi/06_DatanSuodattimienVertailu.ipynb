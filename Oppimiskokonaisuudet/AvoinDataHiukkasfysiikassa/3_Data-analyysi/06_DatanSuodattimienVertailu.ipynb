{
 "cells": [
  {
   "cell_type": "markdown",
   "metadata": {},
   "source": [
    "# Datan suodattimien vertailu\n",
    "\n",
    "Käytämme tehtävissä CMS:n tutkimusdataa. Relevanttien tapahtumien löytäminen valtavasta informaatiotulvasta vaatii kuitenkin datan suodatusta joillakin kriteereillä. Kriteerien valinta on tärkeä vaihe, koska niiden avulla voidaan keskittyä tietyn tyyppisiin tapahtumiin. On tärkeää valita kriteerit oikein ettei dataa vääristellä näyttämään haluttua tulosta. \n",
    "> Tiukemmat kriteerit tarkoittavat aina tutkittavan datamäärän pienenemistä mutta toisaalta löysillä kriteereillä kiinnostavat tapahtumat voivat hukkua taustakohinaan.\n",
    "\n",
    "Tehtävänä on verrata CMS:n avoimen datan portaalista löytyviä tiedostoja ja havaita valintakriteerien vaikutus saatuihin tuloksiin.\n",
    "\n",
    "### Liipaisu järjestelmä \n",
    "\n",
    "CMS-ilmaisimessa törmäytetään protoni ryppäitä noin **40 miljoonaa** kertaa sekunnissa tämä tarkoittaa noin **miljardia** (1 000 000 000 = $10^9$) protoni-protoni vuorovaikutusta joka sekuntti. Tämä tuottaa käsittämättömän määrän dataa, jota on karsittava reilusti ennen kuin sitä voi mitenkään hyödyntää. [1]\n",
    "\n",
    "#### 1. vaihe\n",
    "Ensimmäisen vaiheen liipaisin on täysin automaattinen ja se karsii datasta jo noin 99,7% pois. Ensimmäisen liipaisimen täytyy olla todella nopea, sen täytyy tehdä valita noin 25 nanosekunnissa ennen kuin seuraava protonirypäs saapuu. Vain harva protonien välisistä vuorovaikutuksista johtaa suurienergisiin törmäyksiin joita 1 asteen liipaisin tunnistaa. [1]\n",
    "\n",
    "#### 2. vaihe\n",
    "Seuraava vaihe informaatio vyöryn käsittelyssä on luoda törmäykseen liittyvistä tuhansien eri ilmaisimien lähettämistä signaaleista kokonaisuus. Tätä kokonaisuutta kutsutaan \"tapahtumaksi\" (event). 2 vaiheen liiipaisin saa joka sekuntti noin 100 000 tapahtumaa jotka se koostaa kokonaisuuksiksi ja lähettää edelleen \"tietokonefarmille\" [1]\n",
    "\n",
    "\"Tietokonefarmilla\" toimii yli 1000 tietokonetta jotka suorittavat monimutkaisia laskuja ja testejä tapahtumille. Tuloksena säilytetään noin 100-1000 tapahtumaa, loput 99900-99000 hävitetään joka sekuntti.                      [1]\n",
    "\n",
    "Ronskin karsintaprosessin jälkeenkin CMS tuottaa valtavasti dataa, jota tutkijat analysoivat vuosia. Tarkka tutkimustyö tehdään siihen tarkoitetuilla ohjelmointikielillä mutta käyttämämme _csv_ tiedostot sisältävät samaa autenttista dataa. Data ei ole tarkkaa vaan siinä on aina taustakohinaa. Tarkoitus ei olekkaan suodattaa datasta kaikkea \"ylimääräistä\", vaan juuri tutkia käyttäytyvätkö hiukkaset ennusteemme mukaisesti vai onko kenties poikkeamia. \n",
    "\n"
   ]
  },
  {
   "cell_type": "code",
   "execution_count": 1,
   "metadata": {},
   "outputs": [
    {
     "data": {
      "image/jpeg": "[encoded data removed]",
      "text/html": [
       "\n",
       "        <iframe\n",
       "            width=\"400\"\n",
       "            height=\"300\"\n",
       "            src=\"https://www.youtube.com/embed/jDC3-QSiLB4\"\n",
       "            frameborder=\"0\"\n",
       "            allowfullscreen\n",
       "        ></iframe>\n",
       "        "
      ],
      "text/plain": [
       "<IPython.lib.display.YouTubeVideo at 0x25478ff1828>"
      ]
     },
     "execution_count": 1,
     "metadata": {},
     "output_type": "execute_result"
    }
   ],
   "source": [
    "from IPython.lib.display import YouTubeVideo\n",
    "YouTubeVideo('jDC3-QSiLB4')\n",
    "#https://youtu.be/jDC3-QSiLB4"
   ]
  },
  {
   "cell_type": "markdown",
   "metadata": {},
   "source": [
    "**** \n",
    "## Tehtävä\n",
    "Tutkitaan CMS:n [avoimen datan portaalista](http://opendata.cern.ch/record/545) löytyviä tiedostoja _'Zmumu.csv'_ ja _'Zee.csv'_. Tiedostot on tallennettu CMS:n 2011 ajoista, mutta niissä on käytetty eri kriteerejä liipaisujärjestelmän toisessa vaiheessa. \n",
    "- _'Zmumu.csv'_ \n",
    "    - Tapahtumassa havaittiin kaksi myonia\n",
    "    - Myonien liikemärät olivat tarpeeksi suuret: $p_T > 20GeV$\n",
    "    - Myonit osuivat ilmaisimen tarkimpiin osiin: $|pseudorapiditetti| < 2.1$\n",
    "    - Kahden myonin invariantti massa asettui välille $60GeV < M < 120GeV$\n",
    "- _'Zee.csv'_\n",
    "    - Tapahtumassa havaittiin kaksi elektronia\n",
    "    - Elektronien liikemäärät olivat tarpeeksi suuret: $p_T > 25GeV$\n",
    "    - Kahden elektronin invariantti massa asettui välille $60GeV < M < 120GeV$\n",
    "    \n",
    "    [2]\n",
    "\n",
    "Tutkitaan histogrammien avulla millaisia eroja ja yhtäläisyyksiä liipaisimen kriteerit aiheuttavat."
   ]
  },
  {
   "cell_type": "code",
   "execution_count": null,
   "metadata": {},
   "outputs": [],
   "source": [
    "import pandas\n",
    "import matplotlib.pyplot as plt\n",
    "import numpy as np\n",
    "%matplotlib inline"
   ]
  },
  {
   "cell_type": "markdown",
   "metadata": {},
   "source": [
    "Haetaan data ja tallennetaan se muuttujiin _'zee'_ ja _'zmumu'_. Nimet viittaavat Z bosonin hajoamisreitteihin. "
   ]
  },
  {
   "cell_type": "code",
   "execution_count": null,
   "metadata": {},
   "outputs": [],
   "source": [
    "zee = pandas.read_csv('https://raw.githubusercontent.com/cms-opendata-education/cms-jupyter-materials-finnish/master/Data/Zee_Run2011A.csv')\n",
    "zee.head()"
   ]
  },
  {
   "cell_type": "code",
   "execution_count": null,
   "metadata": {},
   "outputs": [],
   "source": [
    "zmumu = pandas.read_csv('https://raw.githubusercontent.com/cms-opendata-education/cms-jupyter-materials-finnish/master/Data/Zmumu_Run2011A.csv')\n",
    "zmumu.head()"
   ]
  },
  {
   "cell_type": "markdown",
   "metadata": {},
   "source": [
    "Luonnollinen suure tiedostojen vertailuun on invariantti massa. Sitä ei kuitenkaan ole valmiiksi laskettu haetuissa tiedostoissa. Onneksi tämä onkin jo tehtävästä: _'1-Laske-invariantti-massa.ipynb'_  tuttu ongelma ja osaamme ratkaista sen muutamalla rivillä Python koodia. \n",
    "> Laske invariantit massat molemmille tiedostoille. Apua saat [tehtävästä 1](https://mybinder.org/v2/gh/cms-opendata-education/cms-jupyter-materials-finnish/master?filepath=Oppimiskokonaisuudet%2FAvoin-data-hiukkasfysiikassa%2F3_Data-analyysi%2F1_Laske-invariantti-massa.ipynb).\n",
    "<br>\n",
    "$\\color{purple}{\\text{Korvaa alla olevasta koodista '???'  invariantin massan laskuilla }}$."
   ]
  },
  {
   "cell_type": "code",
   "execution_count": null,
   "metadata": {},
   "outputs": [],
   "source": [
    "m_zee = ???\n",
    "m_zmumu = ???"
   ]
  },
  {
   "cell_type": "markdown",
   "metadata": {},
   "source": [
    "Piirretään molempien tiedostojen invariantit massat samaan histogrammiin, jotta niitä olisi helppo vertailla."
   ]
  },
  {
   "cell_type": "code",
   "execution_count": null,
   "metadata": {},
   "outputs": [],
   "source": [
    "plt.xlabel('Invariantti massa [GeV]')\n",
    "plt.ylabel('Tapahtumien lukumäärä')\n",
    "plt.title('Kahden myonin invariantti massa, vertailu eri suodattimilla \\n')\n",
    "plt.hist(m_zee, bins=50, range=(80,100), alpha=0.5, label='zee')\n",
    "plt.hist(m_zmumu, bins=50, range=(80,100), alpha=0.5, label='zmumu')\n",
    "plt.legend (loc='upper right')\n",
    "plt.show()"
   ]
  },
  {
   "cell_type": "markdown",
   "metadata": {},
   "source": [
    "****\n",
    "## $\\color{green}{\\text{Pohdintaa}}$\n",
    "\n",
    "Invariantissa massassa on molemmissa tiedostoissa selvä piikki noin 90GeV kohadalla. \n",
    " - Minkä hiukkasen hajoamiseen piikki liittyy?\n",
    " - Mitä piikin muoto kertoo?\n",
    " - Kummassa mittauksessa on vähemmän kohinaa, eli tulos on ns. tarkempi? "
   ]
  },
  {
   "cell_type": "markdown",
   "metadata": {},
   "source": [
    "****\n",
    "### Elektronien ja myonien havitseminen\n",
    "CMS on kehitetty erityisesti myonien havaitsemiseen. Myonit kulkevat elektroneja pitemmän matkan ilmaisimessa ja jättävät pitemmälle välille signaaleja. Pitemmällä matkalla niiden rata ehtii myös kaartua enemmän vahvan magneettikentän vaikutuksesta. Nämä seikat tekevät myonihavainnoista hieman tarkempia.\n",
    "Toisaalta esimerkissä käytettiin hyvin suurienergisiä hiukkasia. Elektronien mittaus on sitä tarkempaa, mitä enemmän liike-energiaa niillä on. Elektroni kalorimetrissä suurempi energiset elektronit aiheuttavat vahvemman signaalin johon kohina vaikuttaa vähemmän. Myoneita taas saadaan mitattua sitä terkemmin, mitä vähemmän niillä on liike-energiaa. Tällöin niiden rata kaartuu enemmän magneettikentässä."
   ]
  },
  {
   "cell_type": "markdown",
   "metadata": {},
   "source": [
    "$\\color{green}{\\text{Kokeile itse}}$ piirtää kahden eri tiedoston invariantit massat samaan histogrammiin ja tulkitse tuloksia. Tidostoja löydät kansiosta : _cms-opendata-education/cms-jupyter-materials-finnish/master/Data_"
   ]
  },
  {
   "cell_type": "code",
   "execution_count": null,
   "metadata": {},
   "outputs": [],
   "source": [
    "#Kirjoita oma koodisi tähän"
   ]
  },
  {
   "cell_type": "markdown",
   "metadata": {},
   "source": [
    "****\n",
    "## Lähteet\n",
    "[1] Liipaisujärjestelmän toiminta, Triggering and Data Acquisition, luettu 6.2019.\n",
    "Url: https://cms.cern/detector/triggering-and-data-acquisition\n",
    "\n",
    "\n",
    "[2] Datasets derived from the Run2011A SingleElectron, SingleMu, DoubleElectron, and DoubleMu primary datasets\n",
    "McCauley, Thomas;\n",
    "Url:http://opendata.cern.ch/record/545"
   ]
  }
 ],
 "metadata": {
  "kernelspec": {
   "display_name": "Python 3",
   "language": "python",
   "name": "python3"
  },
  "language_info": {
   "codemirror_mode": {
    "name": "ipython",
    "version": 3
   },
   "file_extension": ".py",
   "mimetype": "text/x-python",
   "name": "python",
   "nbconvert_exporter": "python",
   "pygments_lexer": "ipython3",
   "version": "3.7.3"
  }
 },
 "nbformat": 4,
 "nbformat_minor": 2
}
