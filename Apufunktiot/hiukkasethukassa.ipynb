{
 "cells": [
  {
   "cell_type": "code",
   "execution_count": null,
   "metadata": {},
   "outputs": [],
   "source": [
    "def tarkistus():\n",
    "    print('Tällä ohjelmalla voit tarkistaa laskitko invariantin massan oikein. Voit keskeyttää tarkistuksen vastaamalla \"exit\"')\n",
    "    kesken= True\n",
    "    kesken2= True\n",
    "    errorbound=[0.0082 , 0.0087 , 0.0035 , 0.0254 , 0.0315 , 0.0042 ] #virhe joka johtuu käytetyn kaavan aproksimaatiosta\n",
    "    while kesken:\n",
    "        nimi=input('Kirjoita tiedostosi nimi (esim. piikkidata1):')\n",
    "        if nimi=='exit': break\n",
    "        elif nimi in globals(): #testataan onko annettu inputti sopiva\n",
    "            tiedosto= eval(nimi) \n",
    "            while kesken2:\n",
    "                testi=input('Kirjoita muuttujan nimi johon tallensit invariantin massan arvot:')\n",
    "                if testi=='exit': \n",
    "                    kesken=False\n",
    "                    break\n",
    "                elif testi in globals(): #testaa onko kyseisellä nimellä tallennettu muuttuja\n",
    "                    lasketut= eval(testi)\n",
    "                    errormean=np.mean(tiedosto.M-lasketut)\n",
    "                    num=int(nimi[int(len(nimi)-1)])-1\n",
    "\n",
    "                    if errorbound[num] >= abs(errormean) :\n",
    "                        kesken = False\n",
    "                        print('Hienoa, laskit invariantin massan oikein!')\n",
    "                        break\n",
    "                    else:\n",
    "                        kesken=True\n",
    "                        kesken2=True\n",
    "                        lasketut= None\n",
    "                        tiedosto=None\n",
    "                        errormean=None\n",
    "                        print('Jotain meni pieleen, tarkista vielä koodi ja pyydä sitten assarilta apua.')\n",
    "                        break\n",
    "                else:\n",
    "                    print('Muuttujan nimi ei vastannut mitään muistin muuttujaa. Tarkista että ajoit invariantin massan laskutoimituksen, ja tallensit tulokset juuri tällä nimellä.')\n",
    "        else:\n",
    "            print('Antamasi tiedoston nimi on virheellinen, tarkista että kirjoitit sen oikein')\n",
    "        "
   ]
  },
  {
   "cell_type": "code",
   "execution_count": null,
   "metadata": {},
   "outputs": [],
   "source": [
    "from IPython.core.display import display, HTML\n",
    "toggle_code_str = '''\n",
    "<form action=\"javascript:code_toggle()\"><input type=\"submit\" id=\"toggleButton\" value=\"Näytä/piilota koodi\"></form>\n",
    "'''\n",
    "\n",
    "toggle_code_prepare_str = '''\n",
    "    <script>\n",
    "    function code_toggle() {\n",
    "        if ($('div.cell.code_cell.rendered.selected div.input').css('display')!='none'){\n",
    "            $('div.cell.code_cell.rendered.selected div.input').hide();\n",
    "        } else {\n",
    "            $('div.cell.code_cell.rendered.selected div.input').show();\n",
    "        }\n",
    "    }\n",
    "    </script>\n",
    "\n",
    "'''\n",
    "\n",
    "display(HTML(toggle_code_prepare_str + toggle_code_str))\n",
    "\n",
    "def toggle_code():\n",
    "    display(HTML(toggle_code_str))"
   ]
  }
 ],
 "metadata": {
  "kernelspec": {
   "display_name": "Python 3",
   "language": "python",
   "name": "python3"
  },
  "language_info": {
   "codemirror_mode": {
    "name": "ipython",
    "version": 3
   },
   "file_extension": ".py",
   "mimetype": "text/x-python",
   "name": "python",
   "nbconvert_exporter": "python",
   "pygments_lexer": "ipython3",
   "version": "3.7.3"
  }
 },
 "nbformat": 4,
 "nbformat_minor": 2
}
