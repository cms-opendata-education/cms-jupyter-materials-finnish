{
 "cells": [
  {
   "cell_type": "markdown",
   "metadata": {},
   "source": [
    "# Python 1-0-1"
   ]
  },
  {
   "cell_type": "markdown",
   "metadata": {},
   "source": [
    "### Merkkijonon tulostaminen"
   ]
  },
  {
   "cell_type": "markdown",
   "metadata": {},
   "source": [
    "Merkkijonon tulostaminen onnistuu _print( )_-funktiolla."
   ]
  },
  {
   "cell_type": "code",
   "execution_count": 1,
   "metadata": {
    "scrolled": true
   },
   "outputs": [
    {
     "name": "stdout",
     "output_type": "stream",
     "text": [
      "Tulostetaan tekstiä!\n"
     ]
    }
   ],
   "source": [
    "print('Tulostetaan tekstiä!')"
   ]
  },
  {
   "cell_type": "markdown",
   "metadata": {},
   "source": [
    "__Harjoitus:__ Kirjoita alle koodi, joka tulostaa oman nimesi:"
   ]
  },
  {
   "cell_type": "code",
   "execution_count": null,
   "metadata": {
    "collapsed": true
   },
   "outputs": [],
   "source": []
  },
  {
   "cell_type": "markdown",
   "metadata": {},
   "source": [
    "### Muuttujat"
   ]
  },
  {
   "cell_type": "markdown",
   "metadata": {},
   "source": [
    "Pythonissa muuttujien tyyppiä ei tarvitse erikseen määrittää. Luodaan kaksi erityyppistä muuttujaa ja tulostetaan ne."
   ]
  },
  {
   "cell_type": "code",
   "execution_count": 2,
   "metadata": {},
   "outputs": [
    {
     "name": "stdout",
     "output_type": "stream",
     "text": [
      "450\n",
      "Tervetuloa Pythonin pariin. Se ei pure!\n"
     ]
    }
   ],
   "source": [
    "lukumaara = 450\n",
    "toivotus = 'Tervetuloa Pythonin pariin. Se ei pure!'\n",
    "\n",
    "print(lukumaara)\n",
    "print(toivotus)"
   ]
  },
  {
   "cell_type": "markdown",
   "metadata": {},
   "source": [
    "__Harjoitus:__ Luo alle muuttuja, johon on tallennettu luku 900 (voit nimetä muuttujan miten vaan). Tämän jälkeen tulosta luku, joka saadaan, kun muuttujaan lisätään luku 100."
   ]
  },
  {
   "cell_type": "code",
   "execution_count": null,
   "metadata": {
    "collapsed": true
   },
   "outputs": [],
   "source": []
  },
  {
   "cell_type": "markdown",
   "metadata": {},
   "source": [
    "### Laskutoimitukset"
   ]
  },
  {
   "cell_type": "markdown",
   "metadata": {},
   "source": [
    "Pythonia voidaan käyttää suoraan yksinkertaisiin laskutoimituksiin. Monimutkaisissa laskuissa voidaan hyödyntää erilaisia moduuleja."
   ]
  },
  {
   "cell_type": "code",
   "execution_count": 3,
   "metadata": {},
   "outputs": [
    {
     "data": {
      "text/plain": [
       "8"
      ]
     },
     "execution_count": 3,
     "metadata": {},
     "output_type": "execute_result"
    }
   ],
   "source": [
    "3 + 5"
   ]
  },
  {
   "cell_type": "code",
   "execution_count": 4,
   "metadata": {},
   "outputs": [
    {
     "data": {
      "text/plain": [
       "15"
      ]
     },
     "execution_count": 4,
     "metadata": {},
     "output_type": "execute_result"
    }
   ],
   "source": [
    "3 * 5"
   ]
  },
  {
   "cell_type": "code",
   "execution_count": 5,
   "metadata": {},
   "outputs": [
    {
     "name": "stdout",
     "output_type": "stream",
     "text": [
      "1.4\n",
      "1.4\n"
     ]
    }
   ],
   "source": [
    "# Python 2:ssa jakolaskun tulos annetaan kokonaislukuna. Python 3 osaa muodostaa jakolaskusta\n",
    "# automaattisesti myös desimaaliluvun. Python 2:ssa tilanteen voi korjata kirjoittamalla\n",
    "# ennen laskua koodiin komennon \"from __future__ import division\".\n",
    "print(7 / 5)\n",
    "\n",
    "from __future__ import division\n",
    "print(7 / 5)"
   ]
  },
  {
   "cell_type": "markdown",
   "metadata": {},
   "source": [
    "### Funktiot"
   ]
  },
  {
   "cell_type": "markdown",
   "metadata": {},
   "source": [
    "Funktiot ovat aliohjelmia, joita kutsutaan tekemään niille määrättyä asiaa. Esimerkiksi tässä käytetään funktiota _abs( )_, joka laskee sille annetun luvun itseisarvon sekä funktiota _len( )_, joka laskee sille annetun merkkijonon pituuden."
   ]
  },
  {
   "cell_type": "code",
   "execution_count": 6,
   "metadata": {},
   "outputs": [
    {
     "data": {
      "text/plain": [
       "9"
      ]
     },
     "execution_count": 6,
     "metadata": {},
     "output_type": "execute_result"
    }
   ],
   "source": [
    "abs(-9)"
   ]
  },
  {
   "cell_type": "code",
   "execution_count": 7,
   "metadata": {
    "scrolled": true
   },
   "outputs": [
    {
     "data": {
      "text/plain": [
       "16"
      ]
     },
     "execution_count": 7,
     "metadata": {},
     "output_type": "execute_result"
    }
   ],
   "source": [
    "len('Hiukkaskiihdytin')"
   ]
  },
  {
   "cell_type": "markdown",
   "metadata": {},
   "source": [
    "__Harjoitus:__ Kokeile funktiota _len()_ ja määritä sen avulla oman nimesi merkkien määrä. Laskeeko kone välilyönnin mukaan?"
   ]
  },
  {
   "cell_type": "code",
   "execution_count": null,
   "metadata": {
    "collapsed": true
   },
   "outputs": [],
   "source": []
  },
  {
   "cell_type": "markdown",
   "metadata": {},
   "source": [
    "### Oman funktion laatiminen"
   ]
  },
  {
   "cell_type": "markdown",
   "metadata": {},
   "source": [
    "Funktioita voi myös luoda itse. Luodaan funktio _neliointi( )_, joka laskee sille annetun luvun neliön ja tulostaa tekstin 'Käytit juuri funktiota'. Käytetään tämän jälkeen funktiota esimerkiksi luvulle 4."
   ]
  },
  {
   "cell_type": "code",
   "execution_count": 8,
   "metadata": {},
   "outputs": [
    {
     "name": "stdout",
     "output_type": "stream",
     "text": [
      "16\n",
      "Käytit juuri funktiota!\n"
     ]
    }
   ],
   "source": [
    "def neliointi(a):\n",
    "    print(a*a)\n",
    "    print(\"Käytit juuri funktiota!\")\n",
    "    \n",
    "neliointi(4)"
   ]
  },
  {
   "cell_type": "markdown",
   "metadata": {},
   "source": [
    "__Harjoitus:__ Luo oma alle funktio, joka kertoo sille annetun luvun aina 2:lla."
   ]
  },
  {
   "cell_type": "code",
   "execution_count": null,
   "metadata": {
    "collapsed": true
   },
   "outputs": [],
   "source": []
  }
 ],
 "metadata": {
  "kernelspec": {
   "display_name": "Python 3",
   "language": "python",
   "name": "python3"
  },
  "language_info": {
   "codemirror_mode": {
    "name": "ipython",
    "version": 3
   },
   "file_extension": ".py",
   "mimetype": "text/x-python",
   "name": "python",
   "nbconvert_exporter": "python",
   "pygments_lexer": "ipython3",
   "version": "3.6.1"
  }
 },
 "nbformat": 4,
 "nbformat_minor": 1
}
