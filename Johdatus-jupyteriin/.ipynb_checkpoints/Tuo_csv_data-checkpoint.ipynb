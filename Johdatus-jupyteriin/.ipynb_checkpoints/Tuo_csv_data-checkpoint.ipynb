{
 "cells": [
  {
   "cell_type": "markdown",
   "metadata": {},
   "source": [
    "# CMS:n CSV-muotoisten datatiedostojen käyttö Jupyterissa"
   ]
  },
  {
   "cell_type": "markdown",
   "metadata": {},
   "source": [
    "CMS-kokeen keräämää avointa dataa voidaan käsitellä erilaisissa tiedostomuodoissa. Yksi helposti käsiteltävä vaihtoehto on tarkastella dataa CSV-tiedostoissa (comma-separated values). CSV-tiedosto on periaatteessa tavallinen tekstitiedosto, joka sisältää pilkulla ja riveillä erotettuja arvoja."
   ]
  },
  {
   "cell_type": "markdown",
   "metadata": {},
   "source": [
    "### CSV-tiedoston lukeminen"
   ]
  },
  {
   "cell_type": "markdown",
   "metadata": {},
   "source": [
    "CSV-tiedostojen lukeminen notebookissa onnistuu esimerkiksi Pythonin _pandas_-moduulin avulla. Luetaan kansiossa _data_ oleva CSV-tiedosto _Zmumu_\\__Run2011A.csv_ ja tallennetaan sen sisältö muuttujaan _datasetti_. Käyttämäämme CSV-tiedostoon on valittu törmäystapahtumia tietyin kriteerein [1] CMS:n vuoden 2011 DoubleMu-datasetistä [2].\n",
    "<br>\n",
    "<br>\n",
    "<br>\n",
    "[1] Thomas McCauley (2016). Zmumu. Jupyter Notebook file. https://github.com/tpmccauley/cmsopendata-jupyter/blob/hst-0.1/Zmumu.ipynb.\n",
    "<br>\n",
    "[2]  CMS collaboration (2016). DoubleMu primary dataset in AOD format from RunA of 2011 (/DoubleMu/Run2011A-12Oct2013-v1/AOD). CERN Open Data Portal. DOI: [10.7483/OPENDATA.CMS.RZ34.QR6N](http://doi.org/10.7483/OPENDATA.CMS.RZ34.QR6N)."
   ]
  },
  {
   "cell_type": "code",
   "execution_count": 1,
   "metadata": {},
   "outputs": [],
   "source": [
    "import pandas\n",
    "\n",
    "datasetti = pandas.read_csv('../Data/Zmumu_Run2011A.csv')"
   ]
  },
  {
   "cell_type": "markdown",
   "metadata": {},
   "source": [
    "Voimme tarkastaa, mitä kaikkea tietoa hakemamme tiedosto sisältää. Käytetään _pandas_-moduulin komentoa _head( )_, jolloin solun tulosteeseen ilmestyy komennon eteen kirjatun DataFrame-muuttujan viisi ensimmäistä riviä ([pandas-dokumentaatio](http://pandas.pydata.org/pandas-docs/stable/generated/pandas.DataFrame.head.html))."
   ]
  },
  {
   "cell_type": "code",
   "execution_count": 2,
   "metadata": {},
   "outputs": [
    {
     "data": {
      "text/html": [
       "<div>\n",
       "<style>\n",
       "    .dataframe thead tr:only-child th {\n",
       "        text-align: right;\n",
       "    }\n",
       "\n",
       "    .dataframe thead th {\n",
       "        text-align: left;\n",
       "    }\n",
       "\n",
       "    .dataframe tbody tr th {\n",
       "        vertical-align: top;\n",
       "    }\n",
       "</style>\n",
       "<table border=\"1\" class=\"dataframe\">\n",
       "  <thead>\n",
       "    <tr style=\"text-align: right;\">\n",
       "      <th></th>\n",
       "      <th>Run</th>\n",
       "      <th>Event</th>\n",
       "      <th>pt1</th>\n",
       "      <th>eta1</th>\n",
       "      <th>phi1</th>\n",
       "      <th>Q1</th>\n",
       "      <th>dxy1</th>\n",
       "      <th>iso1</th>\n",
       "      <th>pt2</th>\n",
       "      <th>eta2</th>\n",
       "      <th>phi2</th>\n",
       "      <th>Q2</th>\n",
       "      <th>dxy2</th>\n",
       "      <th>iso2</th>\n",
       "    </tr>\n",
       "  </thead>\n",
       "  <tbody>\n",
       "    <tr>\n",
       "      <th>0</th>\n",
       "      <td>165617</td>\n",
       "      <td>74969122</td>\n",
       "      <td>54.7055</td>\n",
       "      <td>-0.432396</td>\n",
       "      <td>2.574210</td>\n",
       "      <td>1</td>\n",
       "      <td>-0.074544</td>\n",
       "      <td>0.499921</td>\n",
       "      <td>34.2464</td>\n",
       "      <td>-0.988480</td>\n",
       "      <td>-0.498704</td>\n",
       "      <td>-1</td>\n",
       "      <td>0.071222</td>\n",
       "      <td>3.42214</td>\n",
       "    </tr>\n",
       "    <tr>\n",
       "      <th>1</th>\n",
       "      <td>165617</td>\n",
       "      <td>75138253</td>\n",
       "      <td>24.5872</td>\n",
       "      <td>-2.052200</td>\n",
       "      <td>2.866570</td>\n",
       "      <td>-1</td>\n",
       "      <td>-0.055437</td>\n",
       "      <td>0.000000</td>\n",
       "      <td>28.5389</td>\n",
       "      <td>0.385163</td>\n",
       "      <td>-1.991170</td>\n",
       "      <td>1</td>\n",
       "      <td>0.051477</td>\n",
       "      <td>0.00000</td>\n",
       "    </tr>\n",
       "    <tr>\n",
       "      <th>2</th>\n",
       "      <td>165617</td>\n",
       "      <td>75887636</td>\n",
       "      <td>31.7386</td>\n",
       "      <td>-2.259450</td>\n",
       "      <td>-1.332290</td>\n",
       "      <td>-1</td>\n",
       "      <td>0.087917</td>\n",
       "      <td>0.000000</td>\n",
       "      <td>30.2344</td>\n",
       "      <td>-0.468419</td>\n",
       "      <td>1.883310</td>\n",
       "      <td>1</td>\n",
       "      <td>-0.087639</td>\n",
       "      <td>0.00000</td>\n",
       "    </tr>\n",
       "    <tr>\n",
       "      <th>3</th>\n",
       "      <td>165617</td>\n",
       "      <td>75779415</td>\n",
       "      <td>39.7394</td>\n",
       "      <td>-0.712338</td>\n",
       "      <td>-0.312266</td>\n",
       "      <td>1</td>\n",
       "      <td>0.058481</td>\n",
       "      <td>0.000000</td>\n",
       "      <td>48.2790</td>\n",
       "      <td>-0.195625</td>\n",
       "      <td>2.970320</td>\n",
       "      <td>-1</td>\n",
       "      <td>-0.049201</td>\n",
       "      <td>0.00000</td>\n",
       "    </tr>\n",
       "    <tr>\n",
       "      <th>4</th>\n",
       "      <td>165617</td>\n",
       "      <td>75098104</td>\n",
       "      <td>41.2998</td>\n",
       "      <td>-0.157055</td>\n",
       "      <td>-3.040770</td>\n",
       "      <td>1</td>\n",
       "      <td>-0.030463</td>\n",
       "      <td>1.228040</td>\n",
       "      <td>43.4508</td>\n",
       "      <td>0.590958</td>\n",
       "      <td>-0.042756</td>\n",
       "      <td>-1</td>\n",
       "      <td>0.044175</td>\n",
       "      <td>0.00000</td>\n",
       "    </tr>\n",
       "  </tbody>\n",
       "</table>\n",
       "</div>"
      ],
      "text/plain": [
       "      Run     Event      pt1      eta1      phi1  Q1      dxy1      iso1  \\\n",
       "0  165617  74969122  54.7055 -0.432396  2.574210   1 -0.074544  0.499921   \n",
       "1  165617  75138253  24.5872 -2.052200  2.866570  -1 -0.055437  0.000000   \n",
       "2  165617  75887636  31.7386 -2.259450 -1.332290  -1  0.087917  0.000000   \n",
       "3  165617  75779415  39.7394 -0.712338 -0.312266   1  0.058481  0.000000   \n",
       "4  165617  75098104  41.2998 -0.157055 -3.040770   1 -0.030463  1.228040   \n",
       "\n",
       "       pt2      eta2      phi2  Q2      dxy2     iso2  \n",
       "0  34.2464 -0.988480 -0.498704  -1  0.071222  3.42214  \n",
       "1  28.5389  0.385163 -1.991170   1  0.051477  0.00000  \n",
       "2  30.2344 -0.468419  1.883310   1 -0.087639  0.00000  \n",
       "3  48.2790 -0.195625  2.970320  -1 -0.049201  0.00000  \n",
       "4  43.4508  0.590958 -0.042756  -1  0.044175  0.00000  "
      ]
     },
     "execution_count": 2,
     "metadata": {},
     "output_type": "execute_result"
    }
   ],
   "source": [
    "datasetti.head()"
   ]
  },
  {
   "cell_type": "markdown",
   "metadata": {},
   "source": [
    "<br>\n",
    "Huomaa, että muuttujassa _datasetti_ rivejä on toki olemassa paljon enemmän. Tarkastetaan rivien määrä komennolla _len(datasetti)_, joka kertoo sille annetun muuttujan pituuden."
   ]
  },
  {
   "cell_type": "code",
   "execution_count": 3,
   "metadata": {},
   "outputs": [
    {
     "data": {
      "text/plain": [
       "10583"
      ]
     },
     "execution_count": 3,
     "metadata": {},
     "output_type": "execute_result"
    }
   ],
   "source": [
    "len(datasetti)"
   ]
  },
  {
   "cell_type": "markdown",
   "metadata": {},
   "source": [
    "### Arvojen tarkastelu ja valitseminen"
   ]
  },
  {
   "cell_type": "markdown",
   "metadata": {},
   "source": [
    "Tulosteesta nähdään, että hakemamme CSV-tiedoston sisältö on tallentunut koodissamme taulukkoon (DataFrame-taulukkorakenteeseen). Taulukon rivit kuvaavat eri törmäystapahtumia (events), ja sarakkeet sisältävät erilaisia tallennettuja arvoja tapahtumille. Osa arvoista on ilmaisimen mittaamia, ja osa on laskettu näiden mitattujen arvojen avulla.\n",
    "\n",
    "Taulukossa oleviin arvoihin päästään käsiksi _pandas_-moduulin avulla. Käyttämämme datasetti sisältää esimerkiksi kummankin myonin varaukset, taulukossa sarakkeilla _Q1_ ja _Q2_. Voimme hakea vaikkapa jokaisen tapahtuman ensimmäisen myuonin varauksen kirjoittamalla seuraavanlaisen koodin:"
   ]
  },
  {
   "cell_type": "code",
   "execution_count": 4,
   "metadata": {},
   "outputs": [
    {
     "data": {
      "text/plain": [
       "0        1\n",
       "1       -1\n",
       "2       -1\n",
       "3        1\n",
       "4        1\n",
       "5       -1\n",
       "6       -1\n",
       "7       -1\n",
       "8        1\n",
       "9       -1\n",
       "10      -1\n",
       "11       1\n",
       "12       1\n",
       "13      -1\n",
       "14       1\n",
       "15      -1\n",
       "16       1\n",
       "17      -1\n",
       "18       1\n",
       "19       1\n",
       "20      -1\n",
       "21       1\n",
       "22      -1\n",
       "23      -1\n",
       "24       1\n",
       "25       1\n",
       "26       1\n",
       "27       1\n",
       "28      -1\n",
       "29       1\n",
       "        ..\n",
       "10553    1\n",
       "10554   -1\n",
       "10555    1\n",
       "10556   -1\n",
       "10557   -1\n",
       "10558   -1\n",
       "10559    1\n",
       "10560    1\n",
       "10561   -1\n",
       "10562    1\n",
       "10563    1\n",
       "10564    1\n",
       "10565    1\n",
       "10566   -1\n",
       "10567   -1\n",
       "10568   -1\n",
       "10569   -1\n",
       "10570   -1\n",
       "10571    1\n",
       "10572   -1\n",
       "10573    1\n",
       "10574    1\n",
       "10575   -1\n",
       "10576    1\n",
       "10577    1\n",
       "10578   -1\n",
       "10579    1\n",
       "10580   -1\n",
       "10581    1\n",
       "10582    1\n",
       "Name: Q1, Length: 10583, dtype: int64"
      ]
     },
     "execution_count": 4,
     "metadata": {},
     "output_type": "execute_result"
    }
   ],
   "source": [
    "datasetti['Q1']"
   ]
  },
  {
   "cell_type": "markdown",
   "metadata": {},
   "source": [
    "Nyt tulosteeseen ilmestyi datasetin sarakkeella _Q1_ olevat arvot, eli ensimmäisen myonin varauksen arvot (kaikki eivät toki tulostu, sillä arvoja on yli 10000). Vasemmalla olevat luvut kertovat rivin indeksin ja oikeanpuoleiset luvut ovat varauksen arvoja. Koodissa _Q1_:n tilalla voisi olla mikä tahansa muu datatiedoston ensimmäisellä rivillä esiintyvä arvon tunnus (pt1, eta1, phi1, ...).\n",
    "\n",
    "Mikäli halutaan valita esimerkiksi vain 10 ensimmäistä varauksen arvoa, onnistuu se käyttämällä .loc-metodia. Metodissa hakasulkuihin on ensin kirjattu niiden rivien indeksit, jotka halutaan valita (rivit 0--10), ja sen jälkeen sarakkeen nimi, jolta rivit valitaan (_Q1_)."
   ]
  },
  {
   "cell_type": "code",
   "execution_count": 6,
   "metadata": {},
   "outputs": [
    {
     "data": {
      "text/plain": [
       "0     1\n",
       "1    -1\n",
       "2    -1\n",
       "3     1\n",
       "4     1\n",
       "5    -1\n",
       "6    -1\n",
       "7    -1\n",
       "8     1\n",
       "9    -1\n",
       "10   -1\n",
       "Name: Q1, dtype: int64"
      ]
     },
     "execution_count": 6,
     "metadata": {},
     "output_type": "execute_result"
    }
   ],
   "source": [
    "datasetti.loc[0:10, 'Q1']"
   ]
  },
  {
   "cell_type": "markdown",
   "metadata": {},
   "source": [
    "### Muita huomioita"
   ]
  },
  {
   "cell_type": "markdown",
   "metadata": {},
   "source": [
    "- Arvojen valitsemiseen on käytettävissä myös muita vaihtoehtoja. Esimerkiksi tästä [Stack Overflow -linkistä](http://stackoverflow.com/questions/31593201/pandas-iloc-vs-ix-vs-loc-explanation) löytyy _pandas_-moduulin muita valintakomentoja selityksineen. CSV-tiedostoja voi lukea myös muiden moduuleiden tai kirjastojen avulla.\n",
    "- Huomaa, että eri CSV-tiedostot sisältävät eri dataa riippuen siitä, minkälaisista törmäystapahtumista tiedosto on luotu. Voit aina tarkistaa tiedoston sisällön avaamalla sen joko Jupyterissa tai tekstieditorissa."
   ]
  }
 ],
 "metadata": {
  "kernelspec": {
   "display_name": "Python 3",
   "language": "python",
   "name": "python3"
  },
  "language_info": {
   "codemirror_mode": {
    "name": "ipython",
    "version": 3
   },
   "file_extension": ".py",
   "mimetype": "text/x-python",
   "name": "python",
   "nbconvert_exporter": "python",
   "pygments_lexer": "ipython3",
   "version": "3.6.1"
  }
 },
 "nbformat": 4,
 "nbformat_minor": 1
}
