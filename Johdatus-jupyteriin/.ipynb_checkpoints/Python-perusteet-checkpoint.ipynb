{
 "cells": [
  {
   "cell_type": "markdown",
   "metadata": {},
   "source": [
    "# Python 3 -ohjelmoinnin perusteet"
   ]
  },
  {
   "cell_type": "markdown",
   "metadata": {},
   "source": [
    "Tässä notebookissa tutustutaan Python 3 -ohjelmointikielen perusteisiin ja käyttöesimerkkeihin. Koska Pythonia, niin kuin muitakin ohjelmointikieliä, oppii parhaiten itse kokeilemalla, kannattaa tämä notebook lukea Jupyter Notebook -sovelluksessa (http://jupyter.org/). Tällöin notebookissa olevia esimerkkejä voidaan ajaa ja muokata interaktiivisesti. Lisäksi tekstin sekaan voidaan luoda omia muistiinpanoja ja koodikokeiluja.\n",
    "\n",
    "Mikäli et ole vielä asentanut Jupyteria, voit esimerkiksi avata kokeiluversion (https://try.jupyter.org/) tai luoda ilmaisen käyttäjätunnuksen SageMathCloud-palveluun (https://cloud.sagemath.com/). SageMathCloudin avulla Jupyter Notebookia voidaan käyttää pilvipalvelussa ilman asennusta tietokoneelle."
   ]
  },
  {
   "cell_type": "markdown",
   "metadata": {},
   "source": [
    "## Python – mikä se on?"
   ]
  },
  {
   "cell_type": "markdown",
   "metadata": {},
   "source": [
    "Python on tulkattava ohjelmointikieli, jonka uusin versio on vuonna 2008 julkaistu Python 3. Pythonin on mainittu olevan helposti opittava ohjelmointikieli, sillä sen perusrakenne on suhteellisen yksinkertainen. Python taipuu kuitenkin myös monimutkaisempaan ohjelmointiin.\n",
    "\n",
    "Tässä notebookissa tutustutaan Python 3 -ohjelmointikielen perusteisiin ja käyttöesimerkkeihin. Tarkoituksena on tarjota suomenkielinen ja selkeästi muotoiltu yleiskuva Pythonin oleellisimmista toiminnoista, tavoitteena ei siis ole käydä läpi jokaista yksittäistä Pythonin komentoa.\n",
    "\n",
    "Tarkempaa perehtymistä varten esimerkiksi osoitteessa http://www.doria.fi/bitstream/handle/10024/63381/isbn%209789522149701.pdf on luettavissa Lappeenrannan teknillisen yliopiston E. Vanhalan ja U. Nikulan laatima _Python 3 – ohjelmointiopas_. Lisäksi Python 3:n virallinen englanninkielinen dokumentaatio on saatavilla osoitteessa https://docs.python.org/3/."
   ]
  },
  {
   "cell_type": "markdown",
   "metadata": {},
   "source": [
    "## Hello, world!"
   ]
  },
  {
   "cell_type": "markdown",
   "metadata": {},
   "source": [
    "Aloitetaan perinteisellä Hello world -esimerkillä. Pythonilla ruudulle tulostaminen onnistuu _print( )_-funktiolla, joka ottaa argumentiksi tulostettavan objektin, vaikkapa merkkijonon tai luvun. Kokeile ajaa alla olevaa koodisolua valitsemalla se aktiiviseksi ja painamalla näppäinyhdistelmää _Ctrl_ + _Enter_."
   ]
  },
  {
   "cell_type": "code",
   "execution_count": 1,
   "metadata": {},
   "outputs": [
    {
     "name": "stdout",
     "output_type": "stream",
     "text": [
      "Hello, world!\n"
     ]
    }
   ],
   "source": [
    "print(\"Hello, world!\")"
   ]
  },
  {
   "cell_type": "markdown",
   "metadata": {},
   "source": [
    "Voit kokeilla kirjoittaa alla olevaan koodisoluun komennon, joka tulostaa oman nimesi. Kokeile, toimiiko koodi."
   ]
  },
  {
   "cell_type": "code",
   "execution_count": 2,
   "metadata": {
    "collapsed": true
   },
   "outputs": [],
   "source": [
    "# Nämä ovat vain kommenttirivejä, jotka eivät vaikuta koodin toimintaan.\n",
    "# Kokeile kirjoittaa uudelle tyhjälle riville komento, joka tulostaa oman nimesi.\n"
   ]
  },
  {
   "cell_type": "markdown",
   "metadata": {},
   "source": [
    "## Muuttujat Pythonissa"
   ]
  },
  {
   "cell_type": "markdown",
   "metadata": {},
   "source": [
    "Ohjelmoinnissa __muuttujiin__ voidaan tallentaa erilaisia arvoja, joita halutaan käyttää tai muuttaa myöhemmin. Erilaisia muuttujatyyppejä ovat esimerkiksi kokonaisluku (int), liukuluku (float) ja merkkijono (string).\n",
    "\n",
    "Pythonissa muuttujien luominen on helppoa, sillä muuttujatyyppiä ei tarvitse erikseen määrittää. Muuttujaa luodessa riittää vain antaa muuttujalle nimi ja arvo. Luodaan esimerkiksi muuttuja nimeltään *hiukkasten\\_lkm* ja annetaan sille arvoksi kokonaisluku 2700:"
   ]
  },
  {
   "cell_type": "code",
   "execution_count": 3,
   "metadata": {
    "collapsed": true
   },
   "outputs": [],
   "source": [
    "hiukkasten_lkm = 2700"
   ]
  },
  {
   "cell_type": "markdown",
   "metadata": {},
   "source": [
    "Tämän jälkeen voimme käyttää muuttujaa esimerkiksi tulostukseen. Huomaa, että nyt _print( )_-funktion sisällä ei käytetä lainausmerkkejä. Lainausmerkeillä määritetään merkkijono, mutta nyt haluamme tulostaa muuttujan, joten jätämme lainausmerkit pois. Voit toki kokeilla mitä tapahtuu, jos lisäät ne koodiin!"
   ]
  },
  {
   "cell_type": "code",
   "execution_count": 4,
   "metadata": {},
   "outputs": [
    {
     "name": "stdout",
     "output_type": "stream",
     "text": [
      "2700\n"
     ]
    }
   ],
   "source": [
    "print(hiukkasten_lkm)"
   ]
  },
  {
   "cell_type": "markdown",
   "metadata": {},
   "source": [
    "Esimerkiksi merkkijonon tallentaminen muuttujaan onnistuu täysin vastaavalla tavalla. Luodaan muuttuja _tervetuloteksti_, tallennetaan siihen merkkijono \"Tervetuloa tutustumaan Pythoniin. Ei huolta, se ei pure!\", ja tulostetaan tämä muuttujan sisältämä merkkijono:"
   ]
  },
  {
   "cell_type": "code",
   "execution_count": 5,
   "metadata": {},
   "outputs": [
    {
     "name": "stdout",
     "output_type": "stream",
     "text": [
      "Tervetuloa tutustumaan Pythoniin. Ei huolta, se ei pure!\n"
     ]
    }
   ],
   "source": [
    "# Luodaan uusi muuttuja ja tallennetaan siihen merkkijono.\n",
    "tervetuloteksti = \"Tervetuloa tutustumaan Pythoniin. Ei huolta, se ei pure!\"\n",
    "\n",
    "# Tulostetaan muuttujaan tallennettu arvo\n",
    "print(tervetuloteksti)"
   ]
  },
  {
   "cell_type": "markdown",
   "metadata": {},
   "source": [
    "## Laskutoimitukset"
   ]
  },
  {
   "cell_type": "markdown",
   "metadata": {},
   "source": [
    "Pythonilla voidaan suorittaa monenlaisia laskutoimituksia. Yksinkertaisimmillaan koodisoluun syötetään lasku, jonka tuloksen solu palauttaa."
   ]
  },
  {
   "cell_type": "code",
   "execution_count": 6,
   "metadata": {},
   "outputs": [
    {
     "name": "stdout",
     "output_type": "stream",
     "text": [
      "8\n",
      "-2\n",
      "15\n",
      "1.4\n"
     ]
    }
   ],
   "source": [
    "print(3 + 5)\n",
    "print(3 - 5)\n",
    "print(3 * 5)\n",
    "\n",
    "# Python 2:ssa jakolaskun tulos annetaan kokonaislukuna. Python 3 osaa muodostaa jakolaskusta\n",
    "# automaattisesti myös desimaaliluvun. Python 2:ssa tilanteen voi korjata kirjoittamalla\n",
    "# ennen laskua koodiin komennon \"from __future__ import division\".\n",
    "print(7 / 5)"
   ]
  },
  {
   "cell_type": "markdown",
   "metadata": {},
   "source": [
    "Monimutkaisimmissa laskuissa voidaan käyttää apuna esimerkiksi muuttujia tai taulukoita. Peruslaskutoimituksien lisäksi Pythoniin on saatavilla runsaasti valmiita matemaattisia funktioita ja komentoja __moduulien__ avulla. Moduulien käyttöä tarkastellaan osiossa _Moduulit_."
   ]
  },
  {
   "cell_type": "markdown",
   "metadata": {},
   "source": [
    "## Funktiot"
   ]
  },
  {
   "cell_type": "markdown",
   "metadata": {},
   "source": [
    "Mikäli Pythonilla halutaan tehdä peruskomentoja monimutkaisempia asioita, käytetään näihin usein __funktioita__. Funktio on aliohjelma, jota kutsutaan varsinaisessa ohjelmassa tekemään haluttua asiaa. Käytännössä funktio on siis pala valmista koodia, joka tekee siihen kirjatun tehtävän.\n",
    "\n",
    "Esimerkiksi alla olevan koodisolun komennolla kutsumme Pythonin _abs( )_-funktiota, joka palauttaa sille annetun arvon, __argumentin__, itseisarvon."
   ]
  },
  {
   "cell_type": "code",
   "execution_count": 7,
   "metadata": {},
   "outputs": [
    {
     "data": {
      "text/plain": [
       "2"
      ]
     },
     "execution_count": 7,
     "metadata": {},
     "output_type": "execute_result"
    }
   ],
   "source": [
    "abs(-2)"
   ]
  },
  {
   "cell_type": "markdown",
   "metadata": {},
   "source": [
    "Funktio _abs( )_ on esimerkki Pythonin sisäänrakennetuista funktioista, jotka ovat aina käytettävissä. Lista kaikista Python 3:n sisäänrakennetuista funktioista löytyy sivulta https://docs.python.org/3/library/functions.html.\n",
    "\n",
    "Funktioita voidaan myös määritellä itse. Python 3:lla funktion määritely onnistuu _def_-komennolla. Määritellään esimerkiksi funktio, joka laskee sille annetun argumentin neliön, ja tulostaa pienen tekstin. Annetaan funktiolle nimi _neliointi_."
   ]
  },
  {
   "cell_type": "code",
   "execution_count": 8,
   "metadata": {
    "collapsed": true
   },
   "outputs": [],
   "source": [
    "def neliointi(a):\n",
    "    print(a*a)\n",
    "    print(\"Käytit juuri funktiota!\")"
   ]
  },
  {
   "cell_type": "markdown",
   "metadata": {},
   "source": [
    "Nyt voimme käyttää juuri luomaamme funktiota kutsumalla sitä nimellä, ja antamalla sille jonkin argumentin."
   ]
  },
  {
   "cell_type": "code",
   "execution_count": 9,
   "metadata": {},
   "outputs": [
    {
     "name": "stdout",
     "output_type": "stream",
     "text": [
      "16\n",
      "Käytit juuri funktiota!\n"
     ]
    }
   ],
   "source": [
    "neliointi(4)"
   ]
  },
  {
   "cell_type": "markdown",
   "metadata": {},
   "source": [
    "## Moduulit"
   ]
  },
  {
   "cell_type": "markdown",
   "metadata": {},
   "source": [
    "Usein erinäiselle tehtäville löytyy jo valmiiksi laadittuja funktioita. Pythonin sisäänrakennetuilla funktioilla ei vielä päästä pitkälle, mutta __moduulien__ avulla voidaan hakea käyttöön lisää funktiota. Moduuli on periaatteessa funktioita sisältävä kooditiedosto.\n",
    "\n",
    "Moduuleita voidaan ottaa käyttöön _import_-komennolla. Esimerkiksi alla otetaan käyttöön _math_-moduuli, ja käytetään sen sisältämää funktiota _sqrt( )_, joka laskee sille annetun argumentin neliöjuuren. Kutsuessamme funktiota _sqrt( )_, meidän täytyy kertoa, että kutsumme sitä moduulista _math_. Tämä onnistuu kirjoittamalla funktion alkuun moduulin nimi sekä piste."
   ]
  },
  {
   "cell_type": "code",
   "execution_count": 10,
   "metadata": {},
   "outputs": [
    {
     "data": {
      "text/plain": [
       "3.0"
      ]
     },
     "execution_count": 10,
     "metadata": {},
     "output_type": "execute_result"
    }
   ],
   "source": [
    "import math\n",
    "\n",
    "math.sqrt(9)"
   ]
  },
  {
   "cell_type": "markdown",
   "metadata": {},
   "source": [
    "Mistä sitten voimme tietää, mitä kaikkia moduuleita on käytettävissä? Yksi lista Pythonin moduuleista löytyy esimerkiksi täältä: https://docs.python.org/3/py-modindex.html. Lisäksi Pythoniin on saatavilla runsaasti erilaisia __paketteja__, jotka sisältävät moduuleja. Lista erilaisista Pythonin paketeista löytyy täältä: https://pypi.python.org/pypi.\n",
    "\n",
    "Moduulien ja pakettien käytössä kätevä keino on tiedonhaku verkosta. Muutamalla hakusanalla voi helposti löytää moduulin tai paketin, jonka avulla haluttu tehtävä saadaan tehtyä."
   ]
  },
  {
   "cell_type": "markdown",
   "metadata": {},
   "source": [
    "## Harjoitus – Pythonin perusteet"
   ]
  },
  {
   "cell_type": "markdown",
   "metadata": {},
   "source": [
    "Kirjoita alla olevaan koodisoluun ohjelma, joka suorittaa seuraavat vaiheet:\n",
    "- luo muuttuja _vaihtelu_, ja tallenna siihen teksti \"Muuttujaamme on nyt tallennettu tekstiä\"\n",
    "- tulosta muuttujan _vaihtelu_ sisältämä arvo\n",
    "- aseta koodi vaihtamaan muuttujan _vaihtelu_ sisältämä arvo desimaaliluvuksi 8,256\n",
    "- tulosta muuttujan _vaihtelu_ sisältämä arvo"
   ]
  },
  {
   "cell_type": "code",
   "execution_count": null,
   "metadata": {
    "collapsed": true
   },
   "outputs": [],
   "source": []
  }
 ],
 "metadata": {
  "kernelspec": {
   "display_name": "Python 3",
   "language": "python",
   "name": "python3"
  },
  "language_info": {
   "codemirror_mode": {
    "name": "ipython",
    "version": 3
   },
   "file_extension": ".py",
   "mimetype": "text/x-python",
   "name": "python",
   "nbconvert_exporter": "python",
   "pygments_lexer": "ipython3",
   "version": "3.6.1"
  }
 },
 "nbformat": 4,
 "nbformat_minor": 1
}
