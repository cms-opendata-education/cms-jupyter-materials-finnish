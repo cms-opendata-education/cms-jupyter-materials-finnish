{
 "cells": [
  {
   "cell_type": "markdown",
   "metadata": {},
   "source": [
    "# Jupyter Notebook -tutoriaali"
   ]
  },
  {
   "cell_type": "markdown",
   "metadata": {},
   "source": [
    "Tervetuloa käyttämään Jupyter Notebookia!\n",
    "\n",
    "Tähän tutoriaaliin on koottu suomeksi oleellisimmat perustiedot Jupyter Notebookin käytöstä ja ominaisuuksista. Jos olet avannut tutoriaalin Jupyterissa, voit vapaasti kokeilla erilaisia toimintoja, muokata sisältöä ja luoda omia kommenttejasi. Mikäli et ole vielä asentanut Jupyteria, löytyvät asennusohjeet alta osiosta _Jupyter Notebookin asennus_.\n",
    "\n",
    "Voit myös avata kokeiluversion (https://try.jupyter.org/) tai luoda ilmaisen käyttäjätunnuksen SageMathCloud-palveluun (https://cloud.sagemath.com/). SageMathCloudin avulla Jupyteria voidaan käyttää pilvipalvelussa ilman asennusta tietokoneelle.\n",
    "\n",
    "Yksityiskohtaisempia ohjeita varten Jupyter-projektin virallinen englanninkielinen dokumentaatio löytyy osoitteesta http://jupyter.readthedocs.io/en/latest/index.html. Jupyter Notebook -sovellukseen keskittyvä dokumentaatio on saatavilla osoitteessa http://jupyter-notebook.readthedocs.io/en/latest/.\n",
    "\n",
    "Tämä dokumentti sisältää:<br>\n",
    "(valitettavasti linkit toimivat vain Jupyterissa, eivät GitHubissa)\n",
    "1. [Mikä on Jupyter Notebook?](#mikaon)\n",
    "2. [Jupyter Notebookin asennus](#asennus)\n",
    "3. [Käynnistäminen ja uuden notebookin luominen](#luonotebook)\n",
    "4. [Käyttöliittymä](#interface)\n",
    "5. [Solut](#solut) <br>\n",
    "    5.1 [Solun luominen ja muokkaaminen](#luosolu) <br>\n",
    "    5.2 [Solun ajaminen](#ajasolu) <br>\n",
    "    5.3 [Tekstisolu (Markdown)](#markdown) <br>\n",
    "    5.4 [Otsikkosolu (Heading)](#otsikko) <br>\n",
    "    5.5 [Koodisolu (code)](#koodi) <br>\n",
    "6. [Kuvien ja videoiden lisääminen notebookiin](#kuvavideo) <br>\n",
    "    6.1 [Kuvan lisääminen](#lisaakuva)<br>\n",
    "    6.2 [Kuvan muotoilu](#muotoilekuva)<br>\n",
    "    6.3 [Videon lisääminen](#lisaavideo)\n",
    "7. [Jupyter ja $\\LaTeX$](#latex)\n",
    "8. [Notebookin tallentaminen ja dashboardin käyttö](#dashboard)\n",
    "9. [Notebookien käyttäminen](#kaytto)<br>\n",
    "    9.1 [Mahdollisia ongelmatilanteita ja ratkaisuja niihin](#ongelmia)<br>\n",
    "10. [Muita huomioita](#huomioita)\n",
    "\n",
    "[Lyhyt harjoitus](#harjoitus)"
   ]
  },
  {
   "cell_type": "markdown",
   "metadata": {},
   "source": [
    "<a id=\"mikaon\"></a>\n",
    "## 1. Mikä Jupyter Notebook?"
   ]
  },
  {
   "cell_type": "markdown",
   "metadata": {},
   "source": [
    "Jupyter Notebook on verkkosovellus, jonka avulla voidaan luoda ohjelmointikoodia, tavallista tekstiä, kuvia, visuaalisointeja ja yhtälöitä yhdistäviä dokumentteja. Näitä dokumentteja kutsutaan __notebookeiksi__.\n",
    "\n",
    "Jupyter on toteutettu avoimella lähdekoodilla. Sovellus tukee yli 40 eri ohjelmointikieltä (mm. Python, C++, C#, JavaScript, Ruby)."
   ]
  },
  {
   "cell_type": "markdown",
   "metadata": {},
   "source": [
    "<a id=\"asennus\"></a>\n",
    "## 2. Jupyter Notebookin asennus"
   ]
  },
  {
   "cell_type": "markdown",
   "metadata": {},
   "source": [
    "Jupyter Notebook on mahdollista asentaa muutamalla eri tavalla. Helpoin ja suositeltavin vaihtoehto on hoitaa asennus Anacondan avulla. Anaconda asentaa yhdellä kertaa Pythonin, Jupyterin sekä Python-ohjelmoinnissa hyödyllisiä paketteja. Asennus Anacondan avulla on helppoa:\n",
    "- Lataa Anaconda sivulta https://www.continuum.io/downloads. Suositeltavinta on ladata Python 3:n uusin versio, joka on tämän tutoriaalin kirjoitushetkellä 3.5.\n",
    "- Asenna Anaconda lataamasi paketin asennusohjelman avulla.\n",
    "- Asennuksen jälkeen voit käynnistää Jupyterin joko avaamalla ohjelman _Anaconda Navigator_ ja valitsemalla valikosta Jupyter Notebookin, tai kirjoittamalla komentoriville komennon _jupyter notebook_.\n",
    "\n",
    "Muut Jupyterin asennusvaihtoehdot ja täydet, englanninkieliset asennusohjeet löytyvät sivulta http://jupyter.readthedocs.io/en/latest/install.html."
   ]
  },
  {
   "cell_type": "markdown",
   "metadata": {},
   "source": [
    "<a id=\"luonotebook\"></a>\n",
    "## 3. Käynnistäminen ja uuden notebookin luominen"
   ]
  },
  {
   "cell_type": "markdown",
   "metadata": {},
   "source": [
    "Jupyter Notebook käynnistyy edellä mainitulla tavalla joko _Anaconda Navigator_ -ohjelman kautta tai komentorivin komennolla _jupyter notebook_. Käynnistymisen jälkeen Jupyterin päävalikko, __dashboard__, avautuu selaimessa.\n",
    "<br>\n",
    "<img src=\"../Kuvat/dashboard.png\" align=\"center\">\n",
    "<br>\n",
    "Dashboardin kautta voidaan luoda uusia notebookeja, avata tai poistaa vanhoja sekä hallinnoida Jupyterin toimintaa. Dashboardiin tutustutaan tarkemmin osiossa [8. Notebookin tallentaminen ja dashboardin käyttö](#dashboard).\n",
    "\n",
    "Uuden notebookin luominen onnistuu dashboardin oikeassa yläkulmassa olevalla _New_-painikkeella. Painikkeesta avautuu vetovalikko, josta voidaan valita _Notebooks_-tekstin alta notebookissa käytettävä ydin (kernel). Ydin määrää, millä ohjelmointikielellä notebook toimii (esim. Python 2, Python 3, C++, ...). Saatavilla olevien ytimien määrä riippuu siitä, mitä ytimiä käyttäjä on asentanut yhteensopiviksi.\n",
    "\n",
    "Tässä tutoriaalissa käytämme kielenä Python 3:a. Ytimen valitsemisen jälkeen luotu notebook avautuu selaimen uudelle välilehdelle."
   ]
  },
  {
   "cell_type": "markdown",
   "metadata": {},
   "source": [
    "<a id=\"interface\"></a>\n",
    "## 4. Käyttöliittymä ja sen toiminta"
   ]
  },
  {
   "cell_type": "markdown",
   "metadata": {},
   "source": [
    "Jupyter toimii selainpohjaisen käyttöliittymän kautta. Käyttöliittymän tärkeimmät osat ovat yläreunan valikkopalkki ja työkalupalkki (kuva alla), sekä itse notebook.\n",
    "<br>\n",
    "<img src=\"../Kuvat/valikkopalkki.jpg\">\n",
    "<br>\n",
    "Jupyteria käytetään kahdessa eri tilassa: __editointitilassa__ ja __komentotilassa__. Editointitilassa käyttäjä voi muokata notebookin yhden osion, __solun__, sisältöä, ja komentotilassa taas hallita notebookia kokonaisuutena. Editointitilaan voidaan siirtyä näppäimellä _Enter_ tai tuplaklikkaamalla sitä notebookin osaa, jota halutaan editoida. Takaisin komentotilaan pääsee näppäimellä _Esc_, klikkaamalla solun ulkopuolista osaa tai uudella tuplaklikkauksella. Valikkopalkin oikealta on mahdollista tarkistaa, kummassa tilassa Jupyter on. Mikäli ylhäällä oikealla näkyy kuva\n",
    "\n",
    "<img src=\"../Kuvat/editointitila.png\" align=\"left\">\n",
    "<br>\n",
    "<br>\n",
    "(tekstin tilalla voi lukea myös muuta), ollaan editointitilassa, muutoin komentotilassa.\n",
    "\n",
    "Editointitilan ja komentotilan näppäinkomennot eroavat toisistaan. Riippuen siitä, kummassa tilassa ollaan, samalla näppäimellä voi olla eri komento. Esimerkiksi komentotilassa näppäin _s_ tallentaa notebookin, mutta editointitilassa saadaan kirjoitettua kirjain \"s\"."
   ]
  },
  {
   "cell_type": "markdown",
   "metadata": {},
   "source": [
    "<a id=\"solut\"></a>\n",
    "## 5. Solut"
   ]
  },
  {
   "cell_type": "markdown",
   "metadata": {},
   "source": [
    "Kaikki notebookin sisältö kirjoitetaan __soluihin__ (cells). Alla on esimerkiksi solu, joka on määrätty koodisoluksi. Myös tämä teksti on kirjoitettu omaan soluunsa, tekstisoluun. Soluja voidaan ajaa (run), jolloin solut tekevät solutyypistä riippuen erilaisia toimintoja."
   ]
  },
  {
   "cell_type": "code",
   "execution_count": null,
   "metadata": {
    "collapsed": true
   },
   "outputs": [],
   "source": [
    "# Tämä on koodisolu, johon ei vielä ole kirjoitettu ollenkaan koodia, vaan\n",
    "# ainoastaan nämä kommenttirivit."
   ]
  },
  {
   "cell_type": "markdown",
   "metadata": {},
   "source": [
    "Jupyterissa on käytössä neljä eri solutyyppiä: __Code__ (ohjemointikoodi), __Markdown__ (tavallinen teksti), __Heading__ (otsikko) sekä __Raw__ (koodi, joka jätetään notebookin sisällöstä pois). Näistä tärkeimpiä ovat Code- ja Markdown -solut."
   ]
  },
  {
   "cell_type": "markdown",
   "metadata": {},
   "source": [
    "<a id=\"luosolu\"></a>\n",
    "### 5.1 Solun luominen ja muokkaaminen"
   ]
  },
  {
   "cell_type": "markdown",
   "metadata": {},
   "source": [
    "Uuden solun luominen onnistuu joko\n",
    "- valitsemalla _Insert_ $\\rightarrow$ _Insert Cell Below_ valikkopalkista\n",
    "- työkalupalkin painikkeella $+$\n",
    "- näppäinkomennolla _b_ komentotilassa.\n",
    "\n",
    "Jos luet tutoriaalia Jupyterissa, voit kokeilla lisätä uuden solun tämän tekstisolun alapuolelle. Voit myös lisätä soluja valitun solun yläpuolelle näppäinkomennolla _a_."
   ]
  },
  {
   "cell_type": "markdown",
   "metadata": {},
   "source": [
    "Solun luomisen jälkeen voidaan valita solun tyyppi. Valinta onnistuu joko työkalupalkin vetovalikosta\n",
    "\n",
    "<img src=\"../Kuvat/solutyyppi.png\" align=\"left\">\n",
    "<br>\n",
    "<br>\n",
    "tai näppäinkomennon kautta. Näppäimellä _m_ valitaan tekstisolu, näppäimellä _y_ koodisolu ja _r_:llä raw-solun.\n",
    "\n",
    "Valmista solua pääsee muokkaamaan siirtymällä editointitilaan näppäimellä _Enter_ tai kaksoisklikkaamalla muokattavaa solua (sininen). Solutyyppiä voidaan myös vaihtaa, vaikka soluun olisikin jo kirjattu sisältöä.\n",
    "\n",
    "Solun poistaminen onnistuu nopeiten painamalla komentotilassa poistettavan solun kohdalla näppäintä _d_ kaksi kertaa. Solun voi poistaa myös valikkopalkin _Edit_ $\\rightarrow$ _Delete Cells_ -valinnalla."
   ]
  },
  {
   "cell_type": "markdown",
   "metadata": {},
   "source": [
    "<a id=\"ajasolu\"></a>\n",
    "### 5.2 Solun ajaminen"
   ]
  },
  {
   "cell_type": "markdown",
   "metadata": {},
   "source": [
    "Jupyter Notebookin tärkein ominaisuus on solujen ajaminen (running). Ajamisen jälkeen solu tekee siihen kirjatut tehtävät: tekstisolun sisällöstä tulee muotoiltua tekstiä, otsikkosolusta otsikko ja koodisolu suorittaa siihen ohjelmointikielellä kirjatut komennot. Saatoit jo huomata aiemmin, että tekstisolun editointitilaan siirtymisen ja siitä poistumisen jälkeen solu ei automaattisesti palautunutkaan muotoilluksi tekstiksi. Tämä johtuu siitä, että solu tulee muokkaamisen jälkeen ajaa.\n",
    "\n",
    "Ainut solutyyppi, jota ei ajeta suoraan notebookissa, on raw-solu. Siihen kirjattu koodi on tarkoitettu esimerkiksi menemään muokkaamatta _nbconvert_-työkalun, https://github.com/jupyter/nbconvert, ulostuloon. Nbconvertin avulla notebookeja voidaan viedä muihin tiedostomuotoihin.\n",
    "\n",
    "Solun ajaminen onnistuu kolmella eri tavalla:\n",
    "- pikakomento _Ctrl + Enter_ (nopein ja helpoin)\n",
    "- valitsemalla _Cell_ $\\rightarrow$ _Run Cells_ valikkopalkista\n",
    "- painamalla _run cell, select below_ -näppäintä (kuvassa alla)\n",
    "<br>\n",
    "<img src=\"../Kuvat/ajasolu.png\" align=\"left\">\n",
    "<br>\n",
    "<br>\n",
    "<br>\n",
    "Jos luet tutoriaalia Jupyterilla, voit kokeilla alla olevan koodisolun ajamista. Voit myös muokata koodia ja ajaa solua uudestaan."
   ]
  },
  {
   "cell_type": "code",
   "execution_count": 1,
   "metadata": {},
   "outputs": [
    {
     "name": "stdout",
     "output_type": "stream",
     "text": [
      "Hello World!\n"
     ]
    }
   ],
   "source": [
    "# Tämä on koodisolu, jolla voimme testata koodin ajamista.\n",
    "# Ajamisen jälkeen notebookiin pitäisi tulostua teksti \"Hello World!\".\n",
    "# Kokeile solua muokkaamalla, saatko tulostettua muuta tekstiä.\n",
    "\n",
    "print(\"Hello World!\")"
   ]
  },
  {
   "cell_type": "markdown",
   "metadata": {},
   "source": [
    "Tarkastellaan seuraavaksi tarkemmin teksti-, otsikko- ja koodisolutyyppejä."
   ]
  },
  {
   "cell_type": "markdown",
   "metadata": {},
   "source": [
    "<a id=\"markdown\"></a>\n",
    "### 5.3 Tekstisolu (Markdown)"
   ]
  },
  {
   "cell_type": "markdown",
   "metadata": {},
   "source": [
    "Jupyterin tekstisolut käyttävät _Markdown_-merkintäkieltä, joka on HTML-kielen ylijoukko. Markdown mahdollistaa tavallisen tekstin kirjoittamisen lisäksi tekstin muotoilua. Markdownin avulla tekstiä voidaan esimerkiksi __lihavoida__, _kursivoida_ ja ~~yliviivata~~.\n",
    "\n",
    ">Tekstin sekaan voidaan esimerkiksi liittää tällainen lohkolainaus.\n",
    "\n",
    "Markdownilla voidaan lisäksi laatia vaikkapa listoja:\n",
    "\n",
    "Ostoslista:\n",
    "- tomaatteja\n",
    "- maitoa\n",
    "- soijasuikaleita\n",
    "\n",
    "Tässä tutoriaalissa ei käydä tarkemmin läpi Markdownin muotoilukomentoja, mutta hyvä lista erilaisista komennoista löytyy esimerkiksi verkkosivulta https://github.com/adam-p/markdown-here/wiki/Markdown-Cheatsheet. Lisäksi voit halutessasi siirtyä tämän tekstisolun editointitilaan ja tarkastella, miten tekstissä käytetyt muotoilut on kirjattu soluun."
   ]
  },
  {
   "cell_type": "markdown",
   "metadata": {},
   "source": [
    "<a id=\"otsikko\"></a>\n",
    "### 5.4 Otsikkosolu (heading)"
   ]
  },
  {
   "cell_type": "markdown",
   "metadata": {},
   "source": [
    "Tarkalleen ottaen otsikkosolut eivät itse asiassa edes ole oma solutyyppinsä, vaan pikemminkin oikotie otsikoiden luomiseen. Otsikkosolu nimittäin käyttää myös Markdown-merkintäkieltä, eli otsikkosolu on periaatteessa tekstisolu. Python 3 ilmoittaa tämän luomisvaiheessa.\n",
    "\n",
    "Eritasoiset otsikot määritellään Markdownilla #-merkillä. Alla on lueteltuna Jupyterissa käytetyt otsikkotyypit alkaen #-merkitystä otsikosta, jatkuen järjestyksessä ##-merkityllä ja päättyen ######-merkittyyn otsikkotyyppiin."
   ]
  },
  {
   "cell_type": "markdown",
   "metadata": {},
   "source": [
    "# Ensimmäinen otsikkotyyppi"
   ]
  },
  {
   "cell_type": "markdown",
   "metadata": {},
   "source": [
    "## Toinen otsikkotyyppi"
   ]
  },
  {
   "cell_type": "markdown",
   "metadata": {},
   "source": [
    "### Kolmas otsikkotyyppi"
   ]
  },
  {
   "cell_type": "markdown",
   "metadata": {},
   "source": [
    "#### Neljäs otsikkotyyppi"
   ]
  },
  {
   "cell_type": "markdown",
   "metadata": {},
   "source": [
    "##### Viides otsikkotyyppi"
   ]
  },
  {
   "cell_type": "markdown",
   "metadata": {},
   "source": [
    "###### Kuudes otsikkotyyppi"
   ]
  },
  {
   "cell_type": "markdown",
   "metadata": {},
   "source": [
    "Vaikka otsikkosolut ja tekstisolut ovatkin periaatteessa samaa merkintäkieltä käyttäviä soluja, on suositeltavaa pitää otsikot ja tekstit omissa soluissaan. Tämä tekee tekstin kääntämisen ohjelmalle sujuvammaksi."
   ]
  },
  {
   "cell_type": "markdown",
   "metadata": {},
   "source": [
    "<a id=\"koodi\"></a>\n",
    "### 5.5 Koodisolu (code)"
   ]
  },
  {
   "cell_type": "markdown",
   "metadata": {},
   "source": [
    "Koodisoluihin voidaan kirjoittaa ohjelmointikoodia notebookiin valitun ytimen kielellä. Jos notebook käyttää esimerkiksi Python 3 -ydintä, voidaan koodisoluissa suorittaa Python 3 -komentoja. Mikäli tässä tapauksessa koodisoluihin kirjoitettaisiin koodia esimerkiksi C++ -kielellä, ei koodi kääntyisi, sillä se tulkittaisiin Python 3:na.\n",
    "\n",
    "Koodisoluihin kirjattu koodi käyttäytyy samalla tapaa kuin missä tahansa muussakin ohjelmointiympäristössä. Tämä on mahdollista IPython-ytimen avulla. Toiminta perustuu tiivistetysti siihen, että notebook on yhteydessä ytimeen, jossa koodi varsinaisesti ajetaan. Ydin kommunikoi ajamisen tuloksista takaisin notebookiin. Koodin ajamisen tulokset näkyvät koodisolun alle ilmestyvässä _output_-osiossa.\n",
    "\n",
    "Esimerkiksi alla olevassa koodisolussa tallennetaan muuttujaan _summa_ yhteenlaskun 3 + 4 tulos, ja pyydetään näyttämään muuttujan _summa_ arvo. Koodia ajettaessa muuttujan luonti ja yhteenlasku tapahtuvat ytimessä, jonka jälkeen ydin palauttaa notebookiin ajamisen tulokset, ja koodisolun _output_-osioon ilmestyy luku 7."
   ]
  },
  {
   "cell_type": "code",
   "execution_count": 2,
   "metadata": {
    "scrolled": true
   },
   "outputs": [
    {
     "data": {
      "text/plain": [
       "7"
      ]
     },
     "execution_count": 2,
     "metadata": {},
     "output_type": "execute_result"
    }
   ],
   "source": [
    "summa = 3 + 4\n",
    "summa"
   ]
  },
  {
   "cell_type": "markdown",
   "metadata": {},
   "source": [
    "Koodin ulostuloa ei ole rajoitettu vain tekstiin tai numeroihin, vaan ulostulo voi olla esimerkiksi kuvaaja tai taulukko. Alla olevassa koodisolussa esimerkiksi plotataan erilaisia lukupareja _matplotlib_-moduulin avulla, jolloin ulostuloon piirtyy kuvaaja:"
   ]
  },
  {
   "cell_type": "code",
   "execution_count": 3,
   "metadata": {
    "scrolled": true
   },
   "outputs": [
    {
     "data": {
      "image/png": "[encoded data removed]",
      "text/plain": [
       "<matplotlib.figure.Figure at 0x7f5fea5cbad0>"
      ]
     },
     "metadata": {},
     "output_type": "display_data"
    }
   ],
   "source": [
    "import matplotlib.pyplot as plt\n",
    "\n",
    "%matplotlib inline\n",
    "numeroita = [1,2,3,6,7,8,12,16]\n",
    "plt.plot(numeroita, 'ro')\n",
    "plt.show()"
   ]
  },
  {
   "cell_type": "markdown",
   "metadata": {},
   "source": [
    "<a id=\"kuvavideo\"></a>\n",
    "## 6. Kuvien ja videoiden lisääminen notebookiin"
   ]
  },
  {
   "cell_type": "markdown",
   "metadata": {},
   "source": [
    "Notebookiin voidaan lisätä kuvia ja videoita monella eri tavalla. Tässä käydään läpi yksi mahdollinen tapa, kuvan ja videon lisääminen tekstisoluun HTML-kielen avulla."
   ]
  },
  {
   "cell_type": "markdown",
   "metadata": {},
   "source": [
    "<a id=\"lisaakuva\"></a>\n",
    "### 6.1 Kuvan lisääminen"
   ]
  },
  {
   "cell_type": "markdown",
   "metadata": {},
   "source": [
    "Koska Jupyterin tekstisoluissa käytetään Markdownia, joka on HTML:n ylijoukko, toimivat useimmat HTML-elementit (tags) suoraan tekstisoluissa. Esimerkiksi _Testikuva.png_-nimisen kuvan lisääminen onnistuisi kirjoittamalla suoraan tekstisoluun seuraava HTML-elementti:\n",
    "\n",
    "```<img src=\"testikuva.png\">```"
   ]
  },
  {
   "cell_type": "markdown",
   "metadata": {},
   "source": [
    "Kuvan tulee yllä olevassa esimerkikssä olla samassa hakemistossa notebookin kanssa. Mikäli notebookiin liitettävä kuva on jossakin toisessa hakemistossa, täytyy HTML-elementissä kertoa tämä hakemisto. Hyvä esimerkki hakemistoon viittaamisessa eri tilanteista löytyy verkkosivulta http://stackoverflow.com/questions/14489016/how-to-properly-reference-local-resources-in-html.\n",
    "\n",
    "Otetaan esimerkkinä tilanne, jossa kuva ei ole samassa kansiossa notebookin kanssa. Haluttu kuva _testikuva.png_ sijaitsee yhtä tasoa ylemmän hakemiston kansiossa _Kuvat_.\n",
    "\n",
    "\n",
    "Kuvan liittäminen notebookiin onnistuu tällöin seuraavalla komennolla:\n",
    "\n",
    "``<img src=\"../Kuvat/testikuva.png\">``,\n",
    "\n",
    "missä $../$ käskee ohjelmaa menemään ylempään hakemistoon ja siellä kansioon _Kuvat_, missä _testikuva.png_ sijaitsee.\n",
    "\n",
    "<img src=\"../Kuvat/testikuva.png\">\n",
    "<br>\n",
    "Jos luet tutoriaalia Jupyterilla, voit myös tarkastella, miten tutoriaaliin liitetyt kuvat on kirjattu tekstisoluihin. Esimerkiksi yllä oleva kuva notebookista ja kansiosta on kirjattu tähän tekstisoluun HTML:llä. Voit myös kokeilla kuvien koon ja sijainnin muuttamista."
   ]
  },
  {
   "cell_type": "markdown",
   "metadata": {},
   "source": [
    "<a id=\"muotoilekuva\"></a>\n",
    "### 6.3 Kuvan muotoilu"
   ]
  },
  {
   "cell_type": "markdown",
   "metadata": {},
   "source": [
    "HTML-elementtiin voidaan lisäksi sisällyttää tietoa esimerkiksi kuvan sijainnista ja koosta. Esimerkiksi kuva voidaan tasata vasempaan reunaan komennolla\n",
    "\n",
    "``<img src=\"../Kuvat/testikuva.png\" align=\"left\">``.\n",
    "\n",
    "Huomioi, että tasaus voi siirtää kuvan jälkeisen tekstin kuvan rinnalle. Voit \"työntää\" tekstiä alaspäin lisäämällä rivinvaihtoja ``<br>``.\n",
    "\n",
    "Koon valitseminen onnistuu kertomalla haluttu koko pikseleinä, esimerkiksi:\n",
    "\n",
    "``<img src=\"../Kuvat/testikuva.png\" width=\"80\" height=\"50\">``\n",
    "\n",
    "Lisätietoa HTML:n kuvaelementistä löytyy esimerkiksi verkkosivulta <br> http://www.w3schools.com/tags/tag_img.asp."
   ]
  },
  {
   "cell_type": "markdown",
   "metadata": {},
   "source": [
    "<a id=\"lisaavideo\"></a>\n",
    "### 6.3 Videon lisääminen"
   ]
  },
  {
   "cell_type": "markdown",
   "metadata": {},
   "source": [
    "Videon upottaminen notebookiin onnistuu myös HTML-elementin avulla. Videon hakemiston määrittäminen toimii vastaavasti kuin kuvan tapauksessa (ks. kohta [6.1 Kuvan lisääminen](#lisaakuva)). Esimerkiksi notebookin kanssa samassa hakemistossa oleva video _testivideo.mp4_ saadaan upotettua notebookiin elementillä\n",
    "\n",
    "``<video src=\"../Videot/testivideo.mp4\" type=\"video/mp4\" controls>``"
   ]
  },
  {
   "cell_type": "markdown",
   "metadata": {},
   "source": [
    "Komennolla _type_ määritellään videon tiedostomuoto, joka tämän esimerkin tapauksessa on .mp4. Komento _controls_ luo videon toistamiseen tarvittavat painikkeet. Tarkempaa tietoa HTML:n videoelementistä löytyy esimerkiksi verkkosivulta http://www.w3schools.com/tags/tag_video.asp.\n",
    "\n",
    "Notebookiin upotettu video voi näyttää esimerkiksi tältä: <br>\n",
    "(video ei välttämättä näy GitHubissa=\n",
    "\n",
    "<video src=\"../Videot/testivideo.mp4\" type=\"video/mp4\" controls>"
   ]
  },
  {
   "cell_type": "markdown",
   "metadata": {},
   "source": [
    "<a id=\"latex\"></a>\n",
    "## 7. Jupyter ja $\\LaTeX$"
   ]
  },
  {
   "cell_type": "markdown",
   "metadata": {},
   "source": [
    "Jupyter Notebook tukee myös $\\LaTeX$-koodia. $\\LaTeX$illa voidaan esimerkiksi tuottaa kätevästi matemaattisia yhtälöitä. Jupyterissa $\\LaTeX$-koodia voidaan kirjoittaa tekstisoluihin erottamalla se muusta tekstistä \\$-merkeillä. Merkintä \\$...\\$ tuottaa tekstin sekaan sijoittuvaa materiaalia (tekstimatematiikkatila), ja merkintä \\$\\$...\\$\\$ uudelle riville sijoittuvaa materiaalia (näyttömatematiikkatila). Merkinnöissä $\\LaTeX$-koodi kirjoitettaisiin siis ...-merkinnän tilalle.\n",
    "\n",
    "Tekstimatematiikka näyttää esimerkiksi tältä: $\\sin(x) = \\frac{3}{4}$, ja näyttömatematiikka vastaavasti tältä:\n",
    "\n",
    "$$\\int_2^3{cos(x)} = \\frac{23}{45}$$\n",
    "\n",
    "Lisätietoa $\\LaTeX$ista löytyy esimerkiksi verkkosivulta https://www.latex-project.org/."
   ]
  },
  {
   "cell_type": "markdown",
   "metadata": {},
   "source": [
    "<a id=\"dashboard\"></a>\n",
    "## 8. Notebookin tallentaminen ja dashboardin käyttö"
   ]
  },
  {
   "cell_type": "markdown",
   "metadata": {},
   "source": [
    "Notebookien tallentaminen onnistuu helpoiten näppäinoikotiellä _s_. Tallentaa voi myös valikkopalkista valitsemalla _File_ $\\rightarrow$ _Save and Checkpoint_, tai työkalupalkista klikkaamalla vasemmalla olevaa tallennusikonia.\n",
    "\n",
    "<img src=\"../Kuvat/tallenna.png\" align=\"left\">\n",
    "<br>\n",
    "<br>\n",
    "Notebookit tallentuvat .ipynb -tiedostomuodossa. Tallennettuja notebookeja voi tarkastella ja aukaista Jupyterissa dashboardin kautta.\n",
    "<br>\n",
    "<img src=\"../Kuvat/dashboard.png\">\n",
    "<br>\n",
    "Dashboardissa _Files_-välilehti on tarkoitettu tiedostojen tarkastelua varten ja _Running_-välilehti käynnissä olevien Jupyter-prosessien tarkasteluun. Tässä tutoriaalissa emme perehdy _Clusters_-välilehteen.\n",
    "\n",
    "_Files_ siis näyttää Jupyterin käyttämän tallennuspaikan (tietokone, serveri, pilvipalvelu...) sisällön. _Files_-välilehdellä käyttäjä voi esimerkiksi avata, poistaa, monistaa ja nimetä uudelleen notebookeja. Mikäli jonkin notebookin logo on korostettu vihreällä värillä (ks. kuva yllä), tarkoittaa tämä sitä, että notebook on käynnissä ja yhteydessä ytimeen.\n",
    "\n",
    "Jupyter ei automaattisesti sammuta notebookeja ja katkaise niiden yhteyttä ytimeen, vaikka notebookin välilehti suljettaisiin, vaan notebook tulee käytön jälkeen sammuttaa manuaalisesti. Sammutus onnistuu kahdella eri tapaa. Ensimmäinen tapa on klikata _Files_-välilehdellä käynnissä olevan notebookin ruutua ja klikata ilmestyvää painiketta _Shutdown_ (kuvassa).\n",
    "<br>\n",
    "<img src=\"../Kuvat/shutdown.png\">\n",
    "<br>\n",
    "Sammutus onnistuu myös _Running_-välilehdeltä, joka näyttää kaikki käynnissä olevat notebookit. Välilehdeltä löytyy _Shutdown_-painike, joka sammuttaa käynnissä olevan notebookin:\n",
    "<br>\n",
    "<img src=\"../Kuvat/running.png\">"
   ]
  },
  {
   "cell_type": "markdown",
   "metadata": {},
   "source": [
    "<a id=\"kaytto\"></a>\n",
    "## 9. Notebookien käyttäminen"
   ]
  },
  {
   "cell_type": "markdown",
   "metadata": {},
   "source": [
    "Valmiita notebookeja voidaan avata kahdella eri tavalla: interaktiivisina tai staattisina versioina. Jupyterissa avattaessa notebookien interaktiivisuus säilyy, eli käyttäjä voi muokata ja ajaa soluja. Vaihtoehtoisesti notebookeja voidaan tarkastella myös staattisina versioina, jolloin solujen sisältö on näkyvissä, mutta ei muokattavissa tai ajettavissa. Staattisten versioiden avaamiseen ei tarvita Jupyter-sovellusta.\n",
    "\n",
    "Notebookien staattisia versioita voidaan luoda eri tavoilla. Valikkopalkin _File_ $\\rightarrow$ _Download as_ -valinnalla voidaan esimerkiksi tallentaa notebook selaimessa tarkasteltavassa staattisessa muodossa .html-tiedostona. Toinen kätevä tapa notebookien staattiseen tarkasteluun on __nbviewer__-sovellus (https://nbviewer.jupyter.org/). Nbviewerin avulla verkkoon julkisesti saataville tallennettu notebook saadaan näytettyä staattisena html-versiona. Nbvieweriin syötetään joko url-linkki notebookiin tai GitHub-käyttäjätunnus, mikäli notebook on tallennettu GitHub-palveluun (https://github.com/)."
   ]
  },
  {
   "cell_type": "markdown",
   "metadata": {},
   "source": [
    "<a id=\"ongelmia\"></a>\n",
    "### 9.1 Mahdollisia ongelmatilanteita ja ratkaisuja niihin"
   ]
  },
  {
   "cell_type": "markdown",
   "metadata": {},
   "source": [
    "#### a) Koodisolun ajaminen kestää liian kauan"
   ]
  },
  {
   "cell_type": "markdown",
   "metadata": {},
   "source": [
    "Joskus virheellisen tai liian monimutkaisen koodisolun ajaminen voi jumittaa Jupyterin toiminnan. Koodisolun suorittamisen voi keskeyttää joko valitsemalla _Kernel_ $\\rightarrow$ _Interrupt_ valikkopalkista, tai työkalupalkin _interrupt kernel_ -painikkeella (kuvassa alla).\n",
    "\n",
    "<img src=\"../Kuvat/keskeyta.png\" align=\"left\">\n",
    "<br>\n",
    "<br>\n",
    "Koodisolun, jonka ajaminen on kesken, voi tunnistaa solun vasemmalla puolella olevan _In_-merkinnän sisällä olevasta asteriskista\n",
    "\n",
    "<img src=\"../Kuvat/busy.png\" align=\"left\">\n",
    "<br>\n",
    "<br>\n",
    "tai notebookin välilehden nimen edessä näkyvästä _(busy)_-tekstistä."
   ]
  },
  {
   "cell_type": "markdown",
   "metadata": {},
   "source": [
    "#### b) Koodisolu antaa erroria, vaikka koodissa ei ole virhettä "
   ]
  },
  {
   "cell_type": "markdown",
   "metadata": {},
   "source": [
    "Jos koodissasi oli aiemmin virhe, jonka korjasit, niin ohjelmassa voi olla tallentuneena silti virheellinen muuttuja/koodi. Helpoin tapa ratkaista ongelma on käynnistää ydin uudelleen valitsemalla\n",
    "- _Kernel $\\rightarrow$ Restart & Clear Output_, jolloin tallennetut muuttujat poistetaan muistista ja voit ajaa solut yksitellen alusta\n",
    "- _Kernel $\\rightarrow$ Restart & Run All_, jolloin tallennetut muuttujat poistetaan muistista ja kaikki solut ajetaan automaattisesti.\n",
    "\n",
    "Kirjoittamasi teksti ja koodi säilyvät, vain ohjelman muistiin tallennetut tiedot pyyhitään."
   ]
  },
  {
   "cell_type": "markdown",
   "metadata": {},
   "source": [
    "#### c) Yhteys ytimeen katkeaa"
   ]
  },
  {
   "cell_type": "markdown",
   "metadata": {},
   "source": [
    "On mahdollista, että notebook kadottaa yhteyden ytimeen, johon se on yhdistetty. Katkenneen yhteyden voi havaita valikkopalkin oikeassa reunassa olevasta kuviosta. Ytimen toimiessa normaalisti kuvio näyttää ehjältä pallolta,\n",
    "\n",
    "<img src=\"../Kuvat/toimiva.png\" align=\"left\">\n",
    "<br>\n",
    "<br>\n",
    "kun taas katkenneen yhteyden tapauksessa kuvio muistuttaa haljennutta palloa.\n",
    "\n",
    "<img src=\"../Kuvat/yhteyskatko.png\" align=\"left\">\n",
    "<br>\n",
    "<br>\n",
    "Yhteyden voi yrittää saada toimimaan yhdistämällä notebookin uudelleen ytimeen. Tämä onnistuu valikkopalkin valinnalla _Kernel_ $\\rightarrow$ _Reconnect_.\n",
    "\n",
    "Mikäli yhdistäminen ei tuota tulosta, voidaan yrittää notebookin ytimen uudelleenkäynnistämistä (restarting). Uudelleenkäynnistämisessä on huomioitava, että kaikki notebookin koodilla luodut muuttujat katoavat, kun ydin käynnistyy uudelleen. Uudelleenkäynnistys onnistuu joko valikkopalkin valinnalla _Kernel_ $\\rightarrow$ _Restart_, tai työkalupalkin _restart the kernel (with dialog)_ -painikkeella\n",
    "\n",
    "<img src=\"../Kuvat/restart.png\" align=\"left\">\n",
    "<br>\n",
    "<br>"
   ]
  },
  {
   "cell_type": "markdown",
   "metadata": {},
   "source": [
    "#### d) Solu ei käänny ajettaessa"
   ]
  },
  {
   "cell_type": "markdown",
   "metadata": {},
   "source": [
    "Todennäköisimmät syyt sille, että solu ei käänny ajettaessa oikein, ovat väärin kirjoitettu koodi tai vahingossa asetettu väärä solutyyppi. Mikäli esimerkiksi tekstisoluun on kirjoitettu ohjelmointikoodia, ei solu tee koodille määrättyjä tehtäviä, vaan kääntää koodin suoraan tekstiksi.\n",
    "\n",
    "Syy koodisolujen virheelliselle kääntymiselle voi olla myös väärä ydin. Ydin määrää, millä ohjelmointikielellä koodisoluun kirjoitettu koodi käännetään."
   ]
  },
  {
   "cell_type": "markdown",
   "metadata": {},
   "source": [
    "<a id=\"huomioita\"></a>\n",
    "## 10. Muita huomioita"
   ]
  },
  {
   "cell_type": "markdown",
   "metadata": {},
   "source": [
    "Tähän tutoriaaliin on kirjattu tietoa Jupyter Notebookin käytön aloittamisesta ja ohjelman peruskomennoista. Jupyter tarjoaa näiden perusominaisuuksien lisäksi runsaasti erilaisia mahdollisuuksia esimerkiksi laskentaan, data-analyysiin, opetukseen tai ohjelmoinnin opetteluun. Hyvä tapa Jupyterin käytön ja ohjelmoinnin oppimiseen on kokeileminen ja itsensä haastaminen: _Mitä tämä koodinpätkä oikein tekee? Miten saisin kirjoitettua notebookin, joka laskee arvosanojen keskiarvon? Voisikohan arvosanoista laatia histogrammin?_\n",
    "\n",
    "Sivulta https://github.com/ipython/ipython/wiki/A-gallery-of-interesting-IPython-Notebooks löytyy runsaasti mielenkiintoisia esimerkkejä erilaisista notebookeista. Esimerkit tarjoavat kuvaa siitä, mitä kaikkea materiaalia Jupyterin avulla voidaan tuottaa.\n",
    "\n",
    "Hauskaa matkaa Jupyterin maailmaan!"
   ]
  },
  {
   "cell_type": "markdown",
   "metadata": {},
   "source": [
    "<a id=\"harjoitus\"></a>\n",
    "## Lyhyt harjoitus"
   ]
  },
  {
   "cell_type": "markdown",
   "metadata": {},
   "source": [
    "### 1) Tekstisolun luominen"
   ]
  },
  {
   "cell_type": "markdown",
   "metadata": {},
   "source": [
    "- Luo uusi solu.\n",
    "- Aseta solun tyypiksi tekstisolu (Markdown).\n",
    "- Kirjoita soluun tavallista tekstiä sekä matemaattinen yhtälö $\\LaTeX$-koodia hyödyntäen. Kirjoita $\\LaTeX$-yhtälösi keskitetysti omalle rivilleen.\n",
    "- Aja solu.\n",
    "\n",
    "(Vinkki: osiot [5](#solut) ja [7](#latex))"
   ]
  },
  {
   "cell_type": "markdown",
   "metadata": {},
   "source": [
    "### 2) Koodisolun luominen"
   ]
  },
  {
   "cell_type": "markdown",
   "metadata": {},
   "source": [
    "- Luo alle uusi solu ja aseta sen tyypiksi koodisolu (Code).\n",
    "- Kirjoita soluun koodi, joka tulostaa lukujen 3, 5, 6, 7, ja 9 keskiarvon.\n",
    "- Kirjoita loppuun koodi, joka tulostaa _Tulostettiin keskiarvo._\n",
    "\n",
    "(Vinkki: osio [5](#solut))"
   ]
  },
  {
   "cell_type": "markdown",
   "metadata": {},
   "source": [
    "### 3) Otsikointi ja tallennus"
   ]
  },
  {
   "cell_type": "markdown",
   "metadata": {},
   "source": [
    "- Otsikoi luomasi solut sopivilla teksteillä. Luo otsikot omiin soluihinsa.\n",
    "- Tallenna lopuksi notebookisi.\n",
    "\n",
    "(Vinkki: osiot [5](#solut) ja [8](#dashboard))"
   ]
  }
 ],
 "metadata": {
  "kernelspec": {
   "display_name": "Python 3",
   "language": "python",
   "name": "python3"
  },
  "language_info": {
   "codemirror_mode": {
    "name": "ipython",
    "version": 3
   },
   "file_extension": ".py",
   "mimetype": "text/x-python",
   "name": "python",
   "nbconvert_exporter": "python",
   "pygments_lexer": "ipython3",
   "version": "3.6.1"
  }
 },
 "nbformat": 4,
 "nbformat_minor": 1
}
