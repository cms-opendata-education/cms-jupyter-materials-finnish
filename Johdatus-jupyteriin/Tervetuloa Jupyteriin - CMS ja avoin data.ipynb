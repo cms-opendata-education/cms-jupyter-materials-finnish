{
 "cells": [
  {
   "cell_type": "markdown",
   "metadata": {},
   "source": [
    "# CMS ja avoin data"
   ]
  },
  {
   "cell_type": "markdown",
   "metadata": {},
   "source": [
    "CERN:issä tuotetaan valtavat määrät dataa jatkuvasti. Compact Muon Solenoid (eli CMS) -koe on julkaissut omaansa avoimeen jakoon hirvittäviä määriä ja seuraavan vuosikymmenen mittaan laitetaan loputkin. Tutustutaan tässä harjoitteessa tapoihin, joilla voidaan tarkastella mitä näistä mittauksista voitaisiin selvittää. Tämä tarjoaa oppilaille mainion tilaisuuden kokeilla oikean tieteen metodeja autenttisilla mittaustuloksilla."
   ]
  },
  {
   "cell_type": "markdown",
   "metadata": {},
   "source": [
    "### 1. Käytetty data"
   ]
  },
  {
   "cell_type": "code",
   "execution_count": null,
   "metadata": {},
   "outputs": [],
   "source": [
    "# Olen koodisolu! Risuaidalla merkattu rivi on kommentti, joka tekee koodista ihmiselle luettavampaa.\n",
    "# Aja tämä solu ensin, jotta python tietää mitä sillä ollaan tekemässä (eli haetaan sopivat paketit).\n",
    "\n",
    "import pandas as pd\n",
    "import numpy as np\n",
    "import matplotlib.pyplot as plt\n",
    "import random as rand\n",
    "from scipy.stats import norm\n",
    "import matplotlib.mlab as mlab\n",
    "\n",
    "%matplotlib inline\n"
   ]
  },
  {
   "cell_type": "code",
   "execution_count": null,
   "metadata": {},
   "outputs": [],
   "source": [
    "# Avataan muutaman törmäytyksen tapahtumat.\n",
    "\n",
    "kaksoismyonit = pd.read_csv('Dimuon_Doublemu.csv')\n",
    "jpsi = pd.read_csv('Jpsimumu_Run2011A.csv')"
   ]
  },
  {
   "cell_type": "code",
   "execution_count": null,
   "metadata": {},
   "outputs": [],
   "source": [
    "# Tarkastellaan miltä data näyttää. Voit kokeilla myös jpsi.head(), laittaa sulkuihin numeron jne.\n",
    "\n",
    "kaksoismyonit.head()"
   ]
  },
  {
   "cell_type": "code",
   "execution_count": null,
   "metadata": {},
   "outputs": [],
   "source": [
    "# Katsotaan paljonko tapahtumia näissä seteissä on.\n",
    "\n",
    "print (len(kaksoismyonit))\n",
    "print (len(jpsi))"
   ]
  },
  {
   "cell_type": "markdown",
   "metadata": {},
   "source": [
    "### 2. Invariantti massa"
   ]
  },
  {
   "cell_type": "markdown",
   "metadata": {},
   "source": [
    "Invariantti massa on matemaattinen suure, jonka avulla voidaan selvittää millaisen hiukkasen hajoamisesta törmäyksessä havaitut hiukkaset liikemäärineen ja energioineen syntyivät. Sillä on suuri merkitys hiukkastutkimuksessa, jossa monesti etsitään tietyille massoille ennustettujen hiukkasten piikkejä havainnoista.\n",
    "\n",
    "Histogrammi on voimakas työkalu tällaiseen tarkoitukseen."
   ]
  },
  {
   "cell_type": "code",
   "execution_count": null,
   "metadata": {},
   "outputs": [],
   "source": [
    "# Suoritetaan histogrammin piirtäminen:\n",
    "\n",
    "fig = plt.figure(figsize=(15, 10))\n",
    "plt.hist(kaksoismyonit.M, bins=300)\n",
    "\n",
    "# Näillä riveillä ainoastaan määritellään otsikko sekä akseleiden tekstit.\n",
    "\n",
    "plt.xlabel('Invariantti massa [GeV/c²]', fontsize=15)\n",
    "plt.ylabel('Tapahtumien lukumäärä', fontsize=15)\n",
    "plt.title('Kahden myonin invariantin massan histogrammi \\n', fontsize=15) # \\n luo uuden rivin otsikon muotoilua varten\n",
    "\n",
    "# Tehdään kuvaaja näkyväksi.\n",
    "\n",
    "plt.show()"
   ]
  },
  {
   "cell_type": "markdown",
   "metadata": {},
   "source": [
    "Signaalista nähdään monia asioita, mutta tarkastellaan yhtä kiinnostavaa huippua 80-100 GeVin kieppeillä rajaamalla kuvaajaa."
   ]
  },
  {
   "cell_type": "code",
   "execution_count": null,
   "metadata": {},
   "outputs": [],
   "source": [
    "# Suoritetaan histogrammin piirtäminen:\n",
    "\n",
    "fig = plt.figure(figsize=(15, 10))\n",
    "plt.hist(kaksoismyonit.M, bins=300, range=(80,100))\n",
    "\n",
    "# Näillä riveillä ainoastaan määritellään otsikko sekä akseleiden tekstit.\n",
    "\n",
    "plt.xlabel('Invariantti massa [GeV/c²]', fontsize=15)\n",
    "plt.ylabel('Tapahtumien lukumäärä', fontsize=15)\n",
    "plt.title('Kahden myonin invariantin massan histogrammi \\n', fontsize=15) # \\n luo uuden rivin otsikon muotoilua varten\n",
    "\n",
    "# Tehdään kuvaaja näkyväksi.\n",
    "\n",
    "plt.show()"
   ]
  },
  {
   "cell_type": "markdown",
   "metadata": {},
   "source": [
    "Tästä nähdään, että piikki sijoittuu noin 91 GeVin hujakoille, eli myonien taustalta löytynee Z-bosoni."
   ]
  },
  {
   "cell_type": "code",
   "execution_count": null,
   "metadata": {},
   "outputs": [],
   "source": [
    "# Suoritetaan histogrammin piirtäminen myös J/psille.\n",
    "\n",
    "fig = plt.figure(figsize=(15, 10))\n",
    "plt.hist(jpsi.M, bins=300)\n",
    "\n",
    "# Näillä riveillä ainoastaan määritellään otsikko sekä akseleiden tekstit.\n",
    "\n",
    "plt.xlabel('Invariantti massa [GeV/c²]', fontsize=15)\n",
    "plt.ylabel('Tapahtumien lukumäärä', fontsize=15)\n",
    "plt.title('J/$\\psi$:n metsästys \\n', fontsize=15) # \\n luo uuden rivin otsikon muotoilua varten\n",
    "\n",
    "# Tehdään kuvaaja näkyväksi.\n",
    "\n",
    "plt.show()"
   ]
  },
  {
   "cell_type": "code",
   "execution_count": null,
   "metadata": {},
   "outputs": [],
   "source": [
    "# Vastaavasti puristettuna kiinnostavampaan piikkiin.\n",
    "\n",
    "fig = plt.figure(figsize=(15, 10))\n",
    "plt.hist(jpsi.M, bins=300, range=(3,3.2))\n",
    "\n",
    "# Näillä riveillä ainoastaan määritellään otsikko sekä akseleiden tekstit.\n",
    "\n",
    "plt.xlabel('Invariantti massa [GeV/c²]', fontsize=15)\n",
    "plt.ylabel('Tapahtumien lukumäärä', fontsize=15)\n",
    "plt.title('J/$\\psi$:n metsästys \\n', fontsize=15) # \\n luo uuden rivin otsikon muotoilua varten\n",
    "\n",
    "# Tehdään kuvaaja näkyväksi.\n",
    "\n",
    "plt.show()"
   ]
  },
  {
   "cell_type": "markdown",
   "metadata": {},
   "source": [
    "### 3. Jaottelu ja vertailu"
   ]
  },
  {
   "cell_type": "markdown",
   "metadata": {},
   "source": [
    "Joskus on kiinnostavaa tarkastella miten eri osat datasta vaikuttavat lopputulokseen. Kokeillaan tässä jakaa dataa sen mukaan, oliko havaituilla hiukkasilla korkea vai matala energia."
   ]
  },
  {
   "cell_type": "code",
   "execution_count": null,
   "metadata": {},
   "outputs": [],
   "source": [
    "ehto = 150\n",
    "\n",
    "KorkeaEnergia = kaksoismyonit[(kaksoismyonit.E1 + kaksoismyonit.E2) >= ehto]\n",
    "MatalaEnergia = kaksoismyonit[(kaksoismyonit.E1 + kaksoismyonit.E2) < ehto]"
   ]
  },
  {
   "cell_type": "code",
   "execution_count": null,
   "metadata": {},
   "outputs": [],
   "source": [
    "fig = plt.figure(figsize=(15, 10))\n",
    "plt.hist(KorkeaEnergia.M, bins=300, range=(80,100), alpha=0.5, label='Korkea E',facecolor='k')\n",
    "plt.hist(MatalaEnergia.M, bins=300, range=(80,100), alpha=0.5, label='Matala E')\n",
    "\n",
    "plt.xlabel('Invariantti massa [GeV/c²]', fontsize=15)\n",
    "plt.ylabel('Tapahtumien lukumäärä', fontsize=15)\n",
    "plt.title('Kahden myonin invariantin massan histogrammi \\n', fontsize=15)\n",
    "plt.legend (loc='upper right')\n",
    "\n",
    "plt.show()"
   ]
  },
  {
   "cell_type": "markdown",
   "metadata": {},
   "source": [
    "Näyttäisi siltä, että matalaenergisissä tapauksissa syntyisi enemmän kiinnostavia tapahtumia, mutta tässä on pidettävä mielessä histogrammin toimintaperiaate. Pikainen tarkastus kertoo monestako tapahtumasta kumpikin kuvaaja on koostettu."
   ]
  },
  {
   "cell_type": "code",
   "execution_count": null,
   "metadata": {},
   "outputs": [],
   "source": [
    "print (len(KorkeaEnergia))\n",
    "print (len(MatalaEnergia))"
   ]
  },
  {
   "cell_type": "markdown",
   "metadata": {},
   "source": [
    "Mitenhän käy, jos jakoehdoksi laittaa vaikkapa 100?"
   ]
  },
  {
   "cell_type": "markdown",
   "metadata": {},
   "source": [
    "### 4. Pseudorapiditeetti"
   ]
  },
  {
   "cell_type": "markdown",
   "metadata": {},
   "source": [
    "<img src = \"https://upload.wikimedia.org/wikipedia/commons/thumb/e/ed/Pseudorapidity_plot.svg/695px-Pseudorapidity_plot.svg.png\"\n",
    "align = \"left\" style = \"height:300px\">\n",
    "\n",
    "Pseudorapiditeetti $\\eta$ kuvaa havaitun hiukkasen poikkeamaa hiukkassuihkun suunnasta. Suuret, yli 2,5 arvot menevät niin suihkua pitkin, ettei niitä juurikaan saada mitattua, kun taas nollaa lähestyvät jäävät tarkimmin havainnointilaitteistoihin törmäysputken ympärillä.\n",
    "\n",
    "Pseudorapiditeetista $\\eta \\equiv -ln[tan\\frac{\\theta}{2}]$ saadaan myös näkyviin törmäystapahtumien kulmajakauma, mikäli se auttaa hahmottamaan tilannetta.\n",
    "\n",
    "Viereisessä kuvassa ajatellaan hiukkassuihkun kulkevan vaakasuuntaisesti vasemmalta oikealle.\n",
    "\n"
   ]
  },
  {
   "cell_type": "code",
   "execution_count": null,
   "metadata": {},
   "outputs": [],
   "source": [
    "prapMyonit = pd.concat([kaksoismyonit['eta1'],kaksoismyonit['eta2']])\n",
    "prapJpsi = pd.concat([jpsi.eta1,jpsi.eta2])\n",
    "\n",
    "kulmatMyonit = prapMyonit.copy()\n",
    "kulmatMyonit[:]=[2*np.arctan(np.exp(x))*360/(2*np.pi) for x in kulmatMyonit]\n",
    "\n",
    "kulmatJpsi = prapJpsi.copy()\n",
    "kulmatJpsi[:]=[2*np.arctan(np.exp(x))*360/(2*np.pi) for x in kulmatJpsi]"
   ]
  },
  {
   "cell_type": "code",
   "execution_count": null,
   "metadata": {},
   "outputs": [],
   "source": [
    "fig = plt.figure(figsize=(15, 10))\n",
    "plt.hist(prapMyonit, bins=100, range=(-3,3))\n",
    "\n",
    "plt.xlabel('Pseudorapiditeetti', fontsize=15)\n",
    "plt.ylabel('Tapahtumien lukumäärä', fontsize=15)\n",
    "plt.title('Jakauma \\n', fontsize=15)\n",
    "\n",
    "plt.show()\n"
   ]
  },
  {
   "cell_type": "code",
   "execution_count": null,
   "metadata": {},
   "outputs": [],
   "source": [
    "fig = plt.figure(figsize=(15, 10))\n",
    "plt.hist(kulmatMyonit, bins=180, range=(0,180))\n",
    "\n",
    "plt.xlabel('Kulma (deg)', fontsize=15)\n",
    "plt.ylabel('Tapahtumien lukumäärä', fontsize=15)\n",
    "plt.title('Jakauma \\n', fontsize=15)\n",
    "\n",
    "plt.show()"
   ]
  },
  {
   "cell_type": "markdown",
   "metadata": {},
   "source": [
    "Kuvaajissa on selkeitä symmetrisiä muotoja. Mistähän moinen voisi johtua?\n",
    "\n",
    "Hiukkasilla on poikittaista liikemäärää $p_T$. Mistähän voisi johtua seuraava pseudorapiditeetin ja $p_T$:n välinen suhde?"
   ]
  },
  {
   "cell_type": "code",
   "execution_count": null,
   "metadata": {},
   "outputs": [],
   "source": [
    "fig = plt.figure(figsize=(15, 10))\n",
    "poikittaiset = pd.concat([kaksoismyonit.pt1,kaksoismyonit.pt2])\n",
    "plt.scatter(prapMyonit, poikittaiset, s=0.5)\n",
    "\n",
    "#plt.ylim(0,6) # aja solu ensin niin, että tämä rivi on kommentti. Poista sitten ensimmäinen risuaita ja aja uudestaan.\n",
    "\n",
    "plt.title('Hiukkasten poikittaisliikemäärä $\\eta$ suhteen \\n', fontsize=15)\n",
    "plt.xlabel('Pseudorapiditeetti', fontsize=15)\n",
    "plt.ylabel('Poikittaisliikemäärä', fontsize=15)\n",
    "\n",
    "plt.show()"
   ]
  },
  {
   "cell_type": "markdown",
   "metadata": {},
   "source": [
    "### 5. Resoluutio"
   ]
  },
  {
   "cell_type": "markdown",
   "metadata": {},
   "source": [
    "Pseudorapiditeetti määrittää havainnoitujen hiukkasten suuntaa, joka osaltaan kertoo miten tarkkoja tuloksia voidaan saada. Teknisistä syistä $\\eta = \\left | 2,5 \\right |$ on suunnilleen äärirajalla mittalaitteiden asemoinnin suhteen. Mitä keskemmälle mitta-asemaa havainnot tulevat, sitä tarkemmin niistä voidaan sanoa jotakin, kuten nähdään seuraavista kuvaajista."
   ]
  },
  {
   "cell_type": "code",
   "execution_count": null,
   "metadata": {},
   "outputs": [],
   "source": [
    "korkea = 1.5\n",
    "\n",
    "suuret_eetat = kaksoismyonit[(abs(kaksoismyonit.eta1) >= korkea) & (abs(kaksoismyonit.eta2) >= korkea)]\n",
    "pienet_eetat = kaksoismyonit[(abs(kaksoismyonit.eta1) < korkea) & (abs(kaksoismyonit.eta2) < korkea)]"
   ]
  },
  {
   "cell_type": "code",
   "execution_count": null,
   "metadata": {},
   "outputs": [],
   "source": [
    "fig = plt.figure(figsize=(15, 10))\n",
    "plt.hist(suuret_eetat.M, bins=300, range=(80,100), alpha=0.5, label='Korkea $\\eta$', facecolor='black')\n",
    "plt.hist(pienet_eetat.M, bins=300, range=(80,100), alpha=0.5, label='Matala $\\eta$')\n",
    "\n",
    "plt.xlabel('Invariantti massa [GeV/c²]', fontsize=15)\n",
    "plt.ylabel('Tapahtumien lukumäärä', fontsize=15)\n",
    "plt.title('Invariantin massan histogrammi pseudorapiditeetin mukaan \\n', fontsize=15)\n",
    "plt.legend (loc='upper right', fontsize=15)\n",
    "\n",
    "plt.show()"
   ]
  },
  {
   "cell_type": "code",
   "execution_count": null,
   "metadata": {},
   "outputs": [],
   "source": [
    "print (len(suuret_eetat))\n",
    "print (len(pienet_eetat))"
   ]
  },
  {
   "cell_type": "markdown",
   "metadata": {},
   "source": [
    "### 6. Sovitusta ja tilastoja"
   ]
  },
  {
   "cell_type": "markdown",
   "metadata": {},
   "source": [
    "Tällaista dataa voidaan käyttää yleisemmin myös motivaationa kvalitatiiviselle tilastojen lukutaidon herättelylle. Pythonissa on sisäänrakennettuja toimintoja esimerkiksi keskiarvojen, varianssin tai keskihajonnan laskemiseksi. Numeroiden ohessa tällaisen digitaalisen työkalun etuihin kuuluu myös kyky sovittaa havaintoihin vaikkapa normaalijakauma ja katsoa, miten hyvin ne vastaavat toisiaan."
   ]
  },
  {
   "cell_type": "code",
   "execution_count": null,
   "metadata": {
    "scrolled": false
   },
   "outputs": [],
   "source": [
    "alaraja = 87\n",
    "ylaraja = 95\n",
    "\n",
    "pala = kaksoismyonit[(kaksoismyonit.M > alaraja) & (kaksoismyonit.M < ylaraja)]\n",
    "\n",
    "fig = plt.figure(figsize=(15, 10))\n",
    "\n",
    "esite_ala = 80\n",
    "esite_yla = 100\n",
    "\n",
    "alue = kaksoismyonit[(kaksoismyonit.M > esite_ala) & (kaksoismyonit.M < esite_yla)]\n",
    "\n",
    "kerroin = len(pala)/len(alue)\n",
    "(mu, sigma) = norm.fit(pala.M)\n",
    "\n",
    "n, bins, patches = plt.hist(kaksoismyonit.M, 300, density = 1, facecolor = 'green', alpha=0.75, histtype='stepfilled',\n",
    "                            range=(esite_ala,esite_yla))\n",
    "\n",
    "y = kerroin*norm.pdf( bins, mu, sigma)\n",
    "l = plt.plot(bins, y, 'r--', linewidth=2)\n",
    "\n",
    "plt.xlabel('Massa [GeV/$c^2$]',fontsize=15)\n",
    "plt.ylabel('Tapahtuman todennäköisyys', fontsize=15)\n",
    "plt.title(r'$\\mathrm{Histogrammi\\ invarianteista\\ massoista\\ normeerattuna\\ ykköseen:}\\ \\mu=%.3f,\\ \\sigma=%.3f$'\n",
    "          %(mu,sigma),fontsize=15)\n",
    "plt.grid(True)\n",
    "\n",
    "plt.show()"
   ]
  },
  {
   "cell_type": "markdown",
   "metadata": {},
   "source": [
    "### 7. Terve ja kiitos kaloista"
   ]
  },
  {
   "cell_type": "markdown",
   "metadata": {},
   "source": [
    "Kiitoksia tutustumisesta!\n",
    "\n",
    "Jos voisit käytää pari minuuttia ja antaa meille palautetta  tai kehitysehdotuksia [täällä](https://goo.gl/forms/FwkUWHD8k26vhElT2), olisimme kovin kiitollisia."
   ]
  }
 ],
 "metadata": {
  "kernelspec": {
   "display_name": "Python 3",
   "language": "python",
   "name": "python3"
  },
  "language_info": {
   "codemirror_mode": {
    "name": "ipython",
    "version": 3
   },
   "file_extension": ".py",
   "mimetype": "text/x-python",
   "name": "python",
   "nbconvert_exporter": "python",
   "pygments_lexer": "ipython3",
   "version": "3.6.4"
  }
 },
 "nbformat": 4,
 "nbformat_minor": 2
}
