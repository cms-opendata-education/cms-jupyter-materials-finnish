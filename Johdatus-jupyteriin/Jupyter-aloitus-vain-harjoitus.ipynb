{
 "cells": [
  {
   "cell_type": "markdown",
   "metadata": {},
   "source": [
    "# Jupyter Notebook -harjoitus"
   ]
  },
  {
   "cell_type": "markdown",
   "metadata": {},
   "source": [
    "### 1) Tekstisolun luominen"
   ]
  },
  {
   "cell_type": "markdown",
   "metadata": {},
   "source": [
    "- Luo alle uusi solu pikanäppäimellä _b_ tai valitsemalla _Insert_ -> _Insert Cell Below_.\n",
    "- Valitse solun tyypiksi tekstisolu (Markdown).\n",
    "- Kirjoita soluun tavallista tekstiä sekä matemaattinen yhtälö $\\LaTeX$-koodia hyödyntäen. Kirjoita $\\LaTeX$-yhtälösi merkkien \\$\\$...\\$\\$ väliin, jolloin se ladotaan keskitetysti omalle rivilleen.\n",
    "- Aja solu valitsemalla se aktiiviseksi ja painamalla näppäinyhdistelmää _Ctrl_+_Enter_ tai valitsemalla _Cell_ $\\rightarrow$ _Run Cells_."
   ]
  },
  {
   "cell_type": "markdown",
   "metadata": {},
   "source": [
    "### 2) Koodisolun luominen"
   ]
  },
  {
   "cell_type": "markdown",
   "metadata": {},
   "source": [
    "- Luo alle uusi solu ja valitse sen tyypiksi koodisolu (Code).\n",
    "- Kirjoita soluun koodi, joka tulostaa lukujen 3, 5, 6, 7, ja 9 keskiarvon.\n",
    "- Lisää loppuun myös alla oleva koodinpätkä:\n",
    "\n",
    "```print('Tulostettiin keskiarvo')```\n",
    "\n",
    "- Aja solu valitsemalla se aktiiviseksi ja painamalla näppäinyhdistelmää _Ctrl_+_Enter_ tai valitsemalla _Cell_ $\\rightarrow$ _Run Cells_."
   ]
  },
  {
   "cell_type": "markdown",
   "metadata": {},
   "source": [
    "### 3) Otsikointi ja tallennus"
   ]
  },
  {
   "cell_type": "markdown",
   "metadata": {},
   "source": [
    "- Otsikoi luomasi solut sopivilla otsikoilla. Otsikot on hyvä pitää omissa soluissaan, joten luo otsikoille uudet solut aiempien yläpuolelle.\n",
    "- Tallenna lopuksi notebookisi."
   ]
  }
 ],
 "metadata": {
  "kernelspec": {
   "display_name": "Python 3",
   "language": "python",
   "name": "python3"
  },
  "language_info": {
   "codemirror_mode": {
    "name": "ipython",
    "version": 3
   },
   "file_extension": ".py",
   "mimetype": "text/x-python",
   "name": "python",
   "nbconvert_exporter": "python",
   "pygments_lexer": "ipython3",
   "version": "3.6.1"
  }
 },
 "nbformat": 4,
 "nbformat_minor": 1
}
