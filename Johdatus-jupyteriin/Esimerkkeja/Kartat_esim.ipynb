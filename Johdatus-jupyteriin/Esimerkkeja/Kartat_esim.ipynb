{
 "cells": [
  {
   "cell_type": "markdown",
   "metadata": {},
   "source": [
    "## Esimerkki karttojen käytöstä Pythonilla"
   ]
  },
  {
   "cell_type": "markdown",
   "metadata": {},
   "source": [
    "In this notebook you will see an example of using maps. The data used is openly available at https://www.opendatani.gov.uk. The goal of this example is to plot a heatmap of trees with over 90cm diameter in Belfast and with their condition being either \"Dead\" or \"Poor\".\n",
    "\n",
    "Tämä notebook pitää sisällään esimerkin siitä, kuinka käytät karttoja Pythonilla. Käytetty data on saatavilla osoitteesta https://www.opendatani.gov.uk. Esimerkin tavoitteena on piirtää heatmap Belfastissa sijaitsevista puista, joiden läpimitta on vähintään 90cm, ja joiden yleiskunto on joko kuollut (Dead) tai heikko (Poor)."
   ]
  },
  {
   "cell_type": "code",
   "execution_count": null,
   "metadata": {
    "scrolled": false
   },
   "outputs": [],
   "source": [
    "# Ensin pandas kirjasto jotta voidaan lukea csv-tiedostoja\n",
    "import pandas as pd"
   ]
  },
  {
   "cell_type": "code",
   "execution_count": null,
   "metadata": {
    "scrolled": true
   },
   "outputs": [],
   "source": [
    "data = pd.read_csv('http://www.belfastcity.gov.uk/nmsruntime/saveasdialog.aspx?lID=14543&sID=2430')\n",
    "\n",
    "data.head(10)"
   ]
  },
  {
   "cell_type": "code",
   "execution_count": null,
   "metadata": {},
   "outputs": [],
   "source": [
    "# Folium pitää sisällään kartat, HeatMap-funktiota puolestaan tarvitaan heatmapin luomista varten\n",
    "import folium\n",
    "from folium.plugins import HeatMap"
   ]
  },
  {
   "cell_type": "code",
   "execution_count": null,
   "metadata": {},
   "outputs": [],
   "source": [
    "# Rajataan data halutulla tavalla\n",
    "diam = data[(data['DIAMETERinCENTIMETRES'] > 90) & ((data['CONDITION'] == 'Dead') | (data['CONDITION'] == 'Poor'))]\n"
   ]
  },
  {
   "cell_type": "code",
   "execution_count": null,
   "metadata": {},
   "outputs": [],
   "source": [
    "# HeatMap-funktio vaatii koordinatit tietyssä muodossa, eli koordinaattipareinta listassa: [[LAT,LON]]\n",
    "coords = []\n",
    "\n",
    "# Iteroidaan valitun datan läpi ja lisätään coords-listaan koordinaatit pareittain yksi kerrallaan\n",
    "for index, row in diam.iterrows():\n",
    "    coords.append([row['LATITUDE'],row['LONGITUDE']])"
   ]
  },
  {
   "cell_type": "code",
   "execution_count": null,
   "metadata": {},
   "outputs": [],
   "source": [
    "# m on karttamme, jonka keskipiste on koordinaateissa [54.5, -5.85] (Belfast), tiles-muuttuja kertoo käytetyn kartan tyylin.\n",
    "# Muuttujalla world_copy_jump saadaan valittua se, voiko karttaa rullata sivuille päin loputtomiin siten, että data siirtyy\n",
    "# mukana. control_scale puolestaan näyttää mitat vasemmassa alakulmassa\n",
    "m = folium.Map([54.5, -5.85], tiles='openstreetmap', zoom_start=10, world_copy_jump = True, control_scale = True)\n",
    "\n",
    "# HeatMap funktio generoi heatmapin, jonka jokaisen pisteen halkaisija on 15 (kokeile eri kokoja), ensimmäinen argumentti\n",
    "# on lista koordinaateista. add_to(map) kertoo mihin karttaan ns. heatmap-layer lisätään\n",
    "HeatMap(coords, radius = 15).add_to(m)\n",
    "\n",
    "m"
   ]
  }
 ],
 "metadata": {
  "kernelspec": {
   "display_name": "Python 3",
   "language": "python",
   "name": "python3"
  },
  "language_info": {
   "codemirror_mode": {
    "name": "ipython",
    "version": 3
   },
   "file_extension": ".py",
   "mimetype": "text/x-python",
   "name": "python",
   "nbconvert_exporter": "python",
   "pygments_lexer": "ipython3",
   "version": "3.6.4"
  }
 },
 "nbformat": 4,
 "nbformat_minor": 2
}
