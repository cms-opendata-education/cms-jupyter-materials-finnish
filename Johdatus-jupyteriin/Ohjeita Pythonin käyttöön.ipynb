{
 "cells": [
  {
   "cell_type": "markdown",
   "metadata": {},
   "source": [
    "# Ohjeita Pythonin käyttöön Jupyterilla"
   ]
  },
  {
   "cell_type": "markdown",
   "metadata": {},
   "source": [
    "Tähän tiedostoon on koottu joitain tärkeimpiä tietoja Pythonin toiminnasta ja erilaisia funktioita joista voi olla hyötyä alkuun pääsemisessä. Mukaan on laitettu muutamia esimerkkejä niiden toiminnasta.\n",
    "\n",
    "Tämän dokumentin käytöstä: on tarkoituksenmukaista ajaa ensin **kohdasta 2** löytyvät paketit ja sitten siirtyä sinne mitä oli etsimässä. Tästä johtuen erinäisiä funktioita, pääasiassa satunnaisgeneraattoreita, määritellään dokumentissa useassa kohtaa edestakaisin selaamisen välttämiseksi.\n",
    "\n",
    "Jos et muista miten jokin toiminto näissä notebookeissa menikään, paina **h**-painiketta kun et ole valinnut mitään soluja ja näet listan Jupyterin pikanäppäimistä."
   ]
  },
  {
   "cell_type": "markdown",
   "metadata": {},
   "source": [
    "1. Lähtökohdat\n",
    "2. Paketit\n",
    "3. Tietorakenteet ja datan käsittely\n",
    "4. Peruslaskutoimitukset\n",
    "5. Satunnaisdatan luominen\n",
    "6. Kuvaajien piirtäminen\n",
    "7. Ongelmia? Katso tänne"
   ]
  },
  {
   "cell_type": "markdown",
   "metadata": {},
   "source": [
    "### 1. Lähtökohdat"
   ]
  },
  {
   "cell_type": "markdown",
   "metadata": {},
   "source": [
    "Ohjelmoinnissa **muuttujiin** voidaan tallentaa erilaisia arvoja, joita halutaan käyttää tai muuttaa myöhemmin. Erilaisia muuttujatyyppejä ovat esimerkiksi kokonaisluku (int), liukuluku (float) ja merkkijono (string). Pythonissa muuttujien luominen on helppoa, sillä muuttujatyyppiä ei tarvitse erikseen määrittää.\n",
    "\n",
    "Joskus ohjelmaa ajavaan ytimeen, **kerneliin**, jää muistiin palasia jotka haittaavat ohjelman toimintaa. Tätä sattuu aina välillä, ei hätää. Paina ylävalikoista 'Kernel' ja 'Restart & Clear Output', jolloin muistissa olevat prosessit ja tulosteet pyyhitään ja voit aloittaa alusta. Tämä ei kuitenkaan vaikuta mihinkään muutoksiin tekstissä tai koodissa, eli se ei ole virheiden korjausnappi."
   ]
  },
  {
   "cell_type": "markdown",
   "metadata": {},
   "source": [
    "### 2. Paketit"
   ]
  },
  {
   "cell_type": "markdown",
   "metadata": {},
   "source": [
    "Python on tieteelliseen laskentaan soveltuva ohjelmointikieli, jolle on kehitetty monenlaisia eri tavalla suoritusteholtaan optimoituja toimintoja. Sen perusperiaatteisiin kuuluu erilaisten pakettien, eli funktiokirjastojen, käyttäminen. Nämä paketit tuodaan **import**-komennolla käyttöön ja vaikka se saattaakin alkuun tuntua hienoiselta taikatempulta tietää mitä pitäisi kutsua, se selkeytyy nopeasti.\n",
    "\n",
    "Jos vilkaiset Open Data -projektissa tarjottuja materiaaleja, huomaat että jokaisessa Github-kansiossamme on mukana tekstitiedosto \"requirements.txt\", jonka mukaan esimerkiksi [MyBinder](www.mybinder.org) osaa rakentaa Jupyterille työalustan. Sieltä näkee, että tärkeimmät paketit joita tulemme käyttämään ovat seuraavat:"
   ]
  },
  {
   "cell_type": "code",
   "execution_count": null,
   "metadata": {},
   "outputs": [],
   "source": [
    "# Oleellisimmat paketit:\n",
    "\n",
    "import pandas as pd   # sisältää erilaisia datan lukemiseen liittyviä työkaluja\n",
    "import numpy as np   # sisältää erilaisia numeerisen laskennan työkaluja\n",
    "import matplotlib.pyplot as plt  # sisältää kuvaajien (plot) piirtotyökaluja\n",
    "\n",
    "# Muita hyödyllisiä paketteja:\n",
    "\n",
    "import random as rand   # sisältää funktioita satunnaislukujen generoimiseen\n",
    "from scipy import stats    # sisältää tieteellistä laskentaa ja tilastolaskentaa\n",
    "from scipy.stats import norm    # normaalijakaumatyökaluja\n",
    "import matplotlib.mlab as mlab  # lisää kuvaajatyökaluja monimutkaisempiin kuvaajiin\n",
    "\n",
    "# Ei paketti, mutta oleellinen komento joka mahdollistaa tulosten näkymisen nätisti harjoitteissa:\n",
    "\n",
    "%matplotlib inline"
   ]
  },
  {
   "cell_type": "markdown",
   "metadata": {},
   "source": [
    "Muista ajaa yllä oleva solu jos haluat että tämän notebookin esimerkit toimivat. Ylläolevan voisi kirjoittaa lyhemminkin ilman **as**-merkintää, joka nimeää paketit uudelleen, mutta sillä voidaan merkittävästi lyhentää tulevien solujen tekstejä. Jos haluat lukea paketeista tarkemmin, valitse ylempää pudotusvalikko 'Help' ja löydät sieltä linkkejä tarkempiin dokumentaatioihin tai muotoiluohjeisiin. \n",
    "\n",
    "Paketteja on paljon muitakin ja niitä voi tarpeen mukaan googlailla lisää, jos johonkin tarvitsee. Pythonin laajan käyttäjäkunnan ansiosta verkosta löytää helposti tuhansittain esimerkkejä ja hakemistoja. [StackExchange](https://stackexchange.com/) ja [StackOverflow](https://stackoverflow.com/) ovat hyviä paikkoja vastausten etsimiseen."
   ]
  },
  {
   "cell_type": "markdown",
   "metadata": {},
   "source": [
    "### 3. Tietorakenteet ja datan käsittely"
   ]
  },
  {
   "cell_type": "markdown",
   "metadata": {},
   "source": [
    "**Kooste:**\n",
    "\n",
    "Csv-luku $\\rightarrow$ \n",
    "``` Python \n",
    "nimi = pd.read_csv('polku', muotoiluargumentteja)\n",
    "```  \n",
    "Taulukon luku $\\rightarrow$ \n",
    "``` Python\n",
    "pd.read_table('polku', muotoiluargumentteja)\n",
    "``` \n",
    "Sisällön tarkastelu $\\rightarrow$ \n",
    "``` Python\n",
    "nimi.head(n)  \n",
    "``` \n",
    "Pituus $\\rightarrow$ \n",
    "``` Python\n",
    "len(nimi)  \n",
    "``` \n",
    "Muoto $\\rightarrow$ \n",
    "``` Python\n",
    "nimi.shape \n",
    "``` \n",
    "Sarakkeet $\\rightarrow$ \n",
    "``` Python\n",
    "nimi.sarake \n",
    "nimi['sarake'] \n",
    "``` \n",
    "Tietyn välin rajaus $\\rightarrow$ \n",
    "``` Python\n",
    "nimi[(nimi.arvosarake >= alaraja) & (nimi.arvosarake <= yläraja)]  \n",
    "``` \n",
    "Tekstin etsintä $\\rightarrow$ \n",
    "``` Python\n",
    "vanhaNimi['sarake'].str.contains('haettu_pätkä')  \n",
    "``` \n",
    "Lisää sarake $\\rightarrow$ \n",
    "``` Python\n",
    "nimi = nimi.assign(sarake = tiedot) \n",
    "``` \n",
    "Poista sarakkeita $\\rightarrow$ \n",
    "``` Python\n",
    "nimi.drop(['sarake1','sarake2'...], axis = 1)\n",
    "``` \n",
    "\n",
    "\n"
   ]
  },
  {
   "cell_type": "markdown",
   "metadata": {},
   "source": [
    "CMS-kokeen avoin data on .csv-muotoista, eli pilkuilla erotettua tekstipuuroa (comma separated values). Tällainen tieto on hyvin helppoa lukea taulukkona tietokoneen käyttöön *pandas*-paketin avulla, jolloin koneen muistiin syntyy kaksiulotteinen ns. dataframe-muotoinen taulukko. Tarkempia tietoja [täällä](https://pandas.pydata.org/pandas-docs/stable/generated/pandas.DataFrame.html), mistä löytyy myös yksityiskohtaisempi lista eri toiminnoista joita valitulle datalle voi tehdä.\n",
    "\n",
    "Helpoimmat tavat lukea data käyttöön ovat **pd.read_csv** ja **pd.read_table**. Jos data on nättiä (erottajana pilkku, otsikointi on tehty, fontit eivät sodi tervettä järkeä vastaan...), yleensä mitään lisätoimenpiteitä ei tarvita."
   ]
  },
  {
   "cell_type": "code",
   "execution_count": null,
   "metadata": {},
   "outputs": [],
   "source": [
    "# Ladataan setti hiukkasdataa muuttujaksi ja määritetään sille haluttu nimi:\n",
    "\n",
    "kaksoismyonit = pd.read_csv('Dimuon_Doublemu.csv')\n",
    "\n",
    "# Jos haluaisi käyttää suoraa urlia, sijoita tämä 'http://opendata.cern.ch/record/545/files/Dimuon_DoubleMu.csv'\n",
    "# nimen tilalle."
   ]
  },
  {
   "cell_type": "markdown",
   "metadata": {},
   "source": [
    "Tällainen suora muoto hakee tiedoston, joka sijaitsee samassa kansiossa kuin käytössä oleva notebook. Tiedosto voidaan hakea myös suoraan verkko-osoitteen urlista tai toisesta kansiosta **'../kansio/tiedosto.csv'** -rakenteella.\n",
    "\n",
    "Mikäli data on toisessa tekstimuodossa, voi kokeilla yleisempää **read_table** -käskyä, joka ymmärtää muitakin taulukoitavia tekstejä. Yleisin ongelma on, että teksti on eroteltu jollain muulla kuin pilkulla, kuten tabulaattorilla tai puolipisteellä. Tällöin komentoon voi laittaa argumentin **sep = 'x'**, missä x on erottimena käytetty merkki. Toinen yleinen ongelma on, että tiedoston rivitys alkaa omituisesti tai sarakkeiden otsikot ovat jossain muualla kuin ensimmäisellä rivillä. Tällöin voidaan laittaa komentoon argumentti **header = n**, missä n on otsikoiksi halutun rivin järjestysnumero. HUOM! Tietokone aloittaa järjestysluvut aina nollasta jollei toisin mainita.\n",
    "\n",
    "Tarkempia tietoja mahdollisista argumenteista [täällä](https://pandas.pydata.org/pandas-docs/stable/generated/pandas.read_csv.html). \n",
    "\n",
    "Alla esimerkki datasta, jolla ei ole otsikkoriviä. Datassa näkyy Auringosta tehtyjä havaintoja vuodesta 1992 eteenpäin ja tarkemmat selosteet kunkin sarakkeen merkityksille löytyvät [täältä](http://sidc.oma.be/silso/infosndhem)."
   ]
  },
  {
   "cell_type": "code",
   "execution_count": null,
   "metadata": {},
   "outputs": [],
   "source": [
    "# Ladataan setti aurinkodataa ja nimetään se halutulla tavalla:\n",
    "\n",
    "aurinko = pd.read_table('http://sidc.oma.be/silso/INFO/sndhemcsv.php', sep = ';', encoding = \"ISO-8859-1\")"
   ]
  },
  {
   "cell_type": "markdown",
   "metadata": {},
   "source": [
    "Selkeyden vuoksi katsotaan miltä datamme näyttävät. Tähän sopii erinomaisesti **nimi.head(n)**-komento, joka näyttää n ensimmäistä riviä valitusta datasta. Oletusarvoisesti n = 5, jos laittaa tyhjät sulkeet."
   ]
  },
  {
   "cell_type": "code",
   "execution_count": null,
   "metadata": {},
   "outputs": [],
   "source": [
    "kaksoismyonit.head()"
   ]
  },
  {
   "cell_type": "code",
   "execution_count": null,
   "metadata": {},
   "outputs": [],
   "source": [
    "aurinko.head()"
   ]
  },
  {
   "cell_type": "markdown",
   "metadata": {},
   "source": [
    "Ylläolevista nähdään, että **aurinko**-muuttujan ensimmäinen oikea rivi on kaapattu otsikoiksi, mikä on sikäli ikävää että 1) nyt otsikot ovat hämääviä ja 2) meiltä jää yhden rivin verran dataa käsittelemättä jos haluamme vaikkapa kuvaajan taulukon jostain sarakkeesta. Ratkaistaan asia laittamalla dataa ladattaessa otsikointiargumentiksi **header = -1**, eli rivi jota ei ole olemassa, jolloin kone tuottaa siihen järjestyslukurivin."
   ]
  },
  {
   "cell_type": "code",
   "execution_count": null,
   "metadata": {},
   "outputs": [],
   "source": [
    "aurinko = pd.read_table('http://sidc.oma.be/silso/INFO/sndhemcsv.php', sep = ';', encoding = \"ISO-8859-1\", header = -1)"
   ]
  },
  {
   "cell_type": "code",
   "execution_count": null,
   "metadata": {},
   "outputs": [],
   "source": [
    "aurinko.head()"
   ]
  },
  {
   "cell_type": "markdown",
   "metadata": {},
   "source": [
    "Jos haluamme muuttaa otsikoinnin selkeämmäksi, voimme tietysti myös nimetä sarakkeet **names = ['nimi','nimi2','nimi3']**-argumentilla."
   ]
  },
  {
   "cell_type": "code",
   "execution_count": null,
   "metadata": {},
   "outputs": [],
   "source": [
    "aurinko = pd.read_table('http://sidc.oma.be/silso/INFO/sndhemcsv.php', sep=';', encoding = \"ISO-8859-1\", header = None, \n",
    "names = ['Vuosi','Kuukausi','Päivä','Fraktio','$P_{tot}$','$P_{poh}$','$P_{et}$','$\\sigma_{tot}$','$\\sigma_{poh}$',\n",
    "         '$\\sigma_{et}$','$N_{tot}$','$N_{poh}$','$N_{et}$','Prov'])"
   ]
  },
  {
   "cell_type": "code",
   "execution_count": null,
   "metadata": {},
   "outputs": [],
   "source": [
    "aurinko.head()"
   ]
  },
  {
   "cell_type": "markdown",
   "metadata": {},
   "source": [
    "**nimi.heads()**-komennon ohella pari muuta pikkukomentoa ovat hyödyllisiä tarkasteltaessa datan muotoa. **len(nimi)** kertoo rivien määrän eli muuttujan pituuden (length), **nimi.shape** sekä rivien että sarakkeiden määrän."
   ]
  },
  {
   "cell_type": "code",
   "execution_count": null,
   "metadata": {},
   "outputs": [],
   "source": [
    "# Normaalisti koodisolun tuloste näyttää vain viimeisimmän annetun toiminnon. Print()-komennolla saadaan\n",
    "# useampia arvoja näkyviin. Voit kokeilla mitä käy jos poistat printin näiden edestä.\n",
    "\n",
    "print (len(aurinko))\n",
    "print (aurinko.shape)"
   ]
  },
  {
   "cell_type": "markdown",
   "metadata": {},
   "source": [
    "Kun data on nyt saatu tyydyttävässä muodossa koneelle, sitä voidaan ryhtyä muokkaamaan halutun näköiseksi. Usein ollaan kiinnostuneita jostain yksittäisestä muuttujasta datan sisässä, jolloin pitää pystyä eristämään tiettyjä sarakkeita alkuperäisistä tiedoista tai valita vain ne rivit, joilla jonkin muuttujan arvo on tietyissä rajoissa.\n",
    "\n",
    "Sarakkeen voi valita kirjoittamalla **nimi.sarake** tai **nimi['sarake']**. Hakasulkumuoto on tarpeen, jos sarakkeen nimi esimerkiksi alkaa numerolla, jonka kone saattaa tulkata järjestysluvuksi. Jos haluaa helpottaa elämäänsä eikä välitä muista sarakkeista, kannattaa tämä eristys tehdä uuteen muuttujaan, eli kirjoittaa **uusiNimi = nimi.sarake** ja käsitellä sitä. Tässä on sekin etu, että dataa on tällöin vähemmän kerrallaan käsittelyssä eikä tietokone mahdollisten kirjoitusvirheiden tapauksessa ala esimerkiksi piirtämään histogrammeja kymmenissä ulottuvuuksissa koko alkuperäisestä datasta ja tukehdu yrittäessään."
   ]
  },
  {
   "cell_type": "code",
   "execution_count": null,
   "metadata": {},
   "outputs": [],
   "source": [
    "# Erotellaan uuteen muuttujaan myonidatan invarianttien massojen sarake, joka on otsikoitu nimellä M.\n",
    "\n",
    "iMassat = kaksoismyonit.M"
   ]
  },
  {
   "cell_type": "code",
   "execution_count": null,
   "metadata": {},
   "outputs": [],
   "source": [
    "iMassat.head()"
   ]
  },
  {
   "cell_type": "markdown",
   "metadata": {},
   "source": [
    "Rivien valinta tapahtuu luomalla vastaavasti uusi muuttuja, jonka alkioiksi valitaan ne alkuperäisen datan alkiot, jotka täyttävät annetut ehdot. Tällöin esimerkiksi jonkin arvovälin valinta olisi  \n",
    "``` Python\n",
    "uusiNimi = nimi[(nimi.arvosarake >= alaraja) & (nimi.arvosarake <= ylaraja)]\n",
    "```\n",
    "Sinänsä jakoehto voi olla mikä tahansa muukin looginen elementti, kuten tasan tietty luku tai tekstinpätkä ei-numeerisessa datassa."
   ]
  },
  {
   "cell_type": "code",
   "execution_count": null,
   "metadata": {},
   "outputs": [],
   "source": [
    "# Otetaan esimerkkinä hiukkasdatasta ne rivit, joissa molempien hiukkasten energia on 30 GeViä tai yli.\n",
    "\n",
    "yli30 = kaksoismyonit[(kaksoismyonit.E1 >= 30) & (kaksoismyonit.E2 >= 30)]"
   ]
  },
  {
   "cell_type": "code",
   "execution_count": null,
   "metadata": {},
   "outputs": [],
   "source": [
    "yli30.head()"
   ]
  },
  {
   "cell_type": "code",
   "execution_count": null,
   "metadata": {},
   "outputs": [],
   "source": [
    "print (len(yli30))\n",
    "print (len(kaksoismyonit))"
   ]
  },
  {
   "cell_type": "markdown",
   "metadata": {},
   "source": [
    "Jos halutaan useampi kokonainen sarake erittelemättä rivejä, voi kirjoittaa\n",
    "``` python\n",
    "uusiMuuttuja = vanhaMuuttuja[['sarake1', 'sarake2', ...]]\n",
    "```"
   ]
  },
  {
   "cell_type": "markdown",
   "metadata": {},
   "source": [
    "Jos halutaan hakea tekstiä, voidaan kirjoittaa vaikkapa seuraavasti **nimi.loc[ ]**-funktion avulla. \n",
    "``` Python\n",
    "uusiMuuttuja = vanhaMuuttuja.loc[vanhaMuuttuja['sarake'] == 'haluttu_asia']\n",
    "```\n",
    "\n",
    "Tällöin toki on tiedettävä tarkkaan mitä etsii. Jos haluaa kysyä datalta sokeammin kysymyksiä, **contains**-toiminto auttaa.\n",
    "``` Python\n",
    "uusiNimi = vanhaNimi[vanhaNimi['sarake'].str.contains('haettu_pätkä')]\n",
    "```\n",
    "tekee uuden muuttujan, jossa on nyt haetun pätkän sisältäneet rivit. Oletusarvoisesti toiminto välittää kirjainkoosta, mutta sen voi laittaa pois päältä kirjoittamalla \n",
    "``` Python\n",
    "uusiNimi = vanhaNimi[vanhaNimi['sarake'].str.contains('haettu_pätkä', case = False)]\n",
    "```\n",
    "Kannattaa huomata, että **str.contains()** itsessään on looginen operaatio, joten koodi palauttaa tiedon kyllä / ei kysytystä asiasta. Myös negaatio toimii, kuten alla suomalaisten alkoholivalmistajien listan selaaminen poistamalla kaikki Oy tai Oyj yritykset. Samalla toki voi mennä joku Oy-alkuinen firma, joten kannattaa olla tarkkana."
   ]
  },
  {
   "cell_type": "code",
   "execution_count": null,
   "metadata": {},
   "outputs": [],
   "source": [
    "juomat = pd.read_csv('http://avoindata.valvira.fi/alkoholi/alkoholilupa_valmistus.csv', sep = ';', encoding = \"ISO-8859-1\", na_filter = False)"
   ]
  },
  {
   "cell_type": "code",
   "execution_count": null,
   "metadata": {},
   "outputs": [],
   "source": [
    "juomat.head()"
   ]
  },
  {
   "cell_type": "code",
   "execution_count": null,
   "metadata": {},
   "outputs": [],
   "source": [
    "tiettyValmistaja = juomat[juomat['Nimi'].str.contains('Oy') == False]\n",
    "print (len(juomat))\n",
    "print (len(tiettyValmistaja))\n"
   ]
  },
  {
   "cell_type": "markdown",
   "metadata": {},
   "source": [
    "Jos haluat lisätä tai poistaa sarakkeita datasta, siihen sopivat toiminnot **nimi = nimi.assign(sarake = tiedot)** ja **nimi.drop(['sarake1','sarake2'...], axis = 1)**. Dropissa **axis** on sikäli tärkeä parametri, että komento ymmärtää poimia nimenomaan sarakkeen."
   ]
  },
  {
   "cell_type": "code",
   "execution_count": null,
   "metadata": {},
   "outputs": [],
   "source": [
    "# Sarakkeen poistaminen dropilla.\n",
    "# Joskus .drop ei toimi suoraan, joten tallennetaan sen tulos aiemman muuttujan tilalle sekaannuksen välttämiseksi.\n",
    "\n",
    "juomat = juomat.drop(['Nimi'], axis = 1)\n",
    "juomat.head()"
   ]
  },
  {
   "cell_type": "code",
   "execution_count": null,
   "metadata": {},
   "outputs": [],
   "source": [
    "# Sarakkeen lisääminen assignilla.\n",
    "# Laitetaan tässä äskeiseen mukaan sarake R, jossa on numeroita.\n",
    "# Huolehdi, että sarake on oikean mittainen. Sisältö itsessään voi olla mitä vain, lukuja, tekstiä jne.\n",
    "\n",
    "luvut = np.linspace(0, 100, len(juomat))\n",
    " \n",
    "juomat = juomat.assign(R = luvut)\n",
    "juomat.head()\n"
   ]
  },
  {
   "cell_type": "markdown",
   "metadata": {},
   "source": [
    "### 4. Peruslaskutoimitukset ja syntaksilogiikka"
   ]
  },
  {
   "cell_type": "markdown",
   "metadata": {},
   "source": [
    "**Kooste:**\n",
    "\n",
    "Itseisarvot $\\rightarrow$ \n",
    "``` Python\n",
    "abs(x)  \n",
    "``` \n",
    "Neliöjuuret $\\rightarrow$\n",
    "```  Python\n",
    "sqrt(x)  \n",
    "``` \n",
    "Yhteenlasku $\\rightarrow$ \n",
    "``` python\n",
    "x + y \n",
    "``` \n",
    "Vähennyslasku $\\rightarrow$\n",
    "```  python\n",
    "x - y  \n",
    "``` \n",
    "Jakolasku $\\rightarrow$\n",
    "```  python\n",
    "x/y  \n",
    "``` \n",
    "Kertolasku $\\rightarrow$\n",
    "``` python\n",
    "x*y  \n",
    "``` \n",
    "Potenssit $\\rightarrow$ \n",
    "```  python\n",
    "x**y  \n",
    "``` \n",
    "Suurin arvo $\\rightarrow$\n",
    "```  python\n",
    "max(x)  \n",
    "``` \n",
    "Pienin arvo $\\rightarrow$ \n",
    "```  python\n",
    "min(x)  \n",
    "``` \n",
    "Oman funktion luominen $\\rightarrow$ \n",
    "```  python\n",
    "def nimi(syöte):\n",
    "    toimitukset\n",
    "    \n",
    "``` \n"
   ]
  },
  {
   "cell_type": "markdown",
   "metadata": {},
   "source": [
    "Peruslaskutoimituksissa ei ole mitään erityisen ihmeellistä, ne kirjoitetaan siinä missä mihin tahansa muuhunkin tietokonelaskimeen. Jos haluaa ohjelman tulostavan useamman asian kerrallaan, kannattaa käyttää **print()**-komentoa jolloin muutakin kuin viimeisin vaihe tulee näkyviin. Tekstiä ja numeroita voi myös yhdistää, jolloin **repr(lukuja)** voi helpottaa. Tämä näppärä funktio palauttaa annetusta muuttujasta printattavan version. [Tästä](https://docs.python.org/3/library/functions.html) näppärästä listasta näkee mitä kaikkia sisäänrakennettuja funktioita Pythonissa on ilman pakettejakin, mm. pienimmän ja suurimman luvun etsimistä tiedostosta, lukujen pyöristämistä ja vastaavaa. Jos joku jäi ihmetyttämään, [tässä](https://docs.python.org/3/library/stdtypes.html) vielä lisää samasta asiasta."
   ]
  },
  {
   "cell_type": "code",
   "execution_count": null,
   "metadata": {},
   "outputs": [],
   "source": [
    "# Voit muokata 'luku'-muuttujan sisältöä eri laskuiksi.\n",
    "\n",
    "luku = 14*2+5/2\n",
    "teksti = 'Päivän tulos on: '\n",
    "print (teksti + repr(luku))"
   ]
  },
  {
   "cell_type": "code",
   "execution_count": null,
   "metadata": {},
   "outputs": [],
   "source": [
    "# Max() hakee joukon suurimman alkion.\n",
    "\n",
    "kasaLukuja = [3,6,12,67,578,2,5,12,-34]\n",
    "\n",
    "print('Suurin luku on ' + repr(max(kasaLukuja)))"
   ]
  },
  {
   "cell_type": "markdown",
   "metadata": {},
   "source": [
    "Kiinnostavampaa on, että Pythonissa voi luoda myös omia funktioitaan tiettyihin tarpeisiin. Tällöin **määritellään** funktion nimi ja vaikutus sisään laitettuun tietoon kirjoittamalla  \n",
    "``` Python\n",
    "def funktionNimi(syöte):  \n",
    "    kuvaus sisennettynä\n",
    "```"
   ]
  },
  {
   "cell_type": "code",
   "execution_count": null,
   "metadata": {},
   "outputs": [],
   "source": [
    "# Luodaan funktio, joka puolittaa sille syötetyn numeron.\n",
    "\n",
    "def puolitus(a):\n",
    "    print(a/2)\n",
    "    \n",
    "puolitus(6)"
   ]
  },
  {
   "cell_type": "code",
   "execution_count": null,
   "metadata": {},
   "outputs": [],
   "source": [
    "# Tehdään summauskone, joka kysyy käyttäjältä kokonaislukuja.\n",
    "\n",
    "def summaus(x, y):\n",
    "    summa = x + y\n",
    "    lause = '{} + {} on yhteensä {}.'.format(x, y, summa)\n",
    "    print(lause)\n",
    "\n",
    "def vapaaValinta():\n",
    "    a = int(input(\"Anna kokonaisluku: \"))\n",
    "    b = int(input(\"Anna toinenkin kokonaisluku: \"))\n",
    "    summaus(a, b)\n",
    "\n",
    "vapaaValinta() "
   ]
  },
  {
   "cell_type": "code",
   "execution_count": null,
   "metadata": {},
   "outputs": [],
   "source": [
    "# Luodaan funktio, joka palauttaa annetun radiaanilistan tulokset astelistana. While-silmukka käy läpi ensimmäisestä\n",
    "# alkiosta haluttuun kohtaan asti listaa ja tekee alkioille jonkun toimituksen.\n",
    "\n",
    "def kulmaus(a):\n",
    "    i=0\n",
    "    while i < len(a):\n",
    "        a[i] = a[i]*360/(2*np.pi)\n",
    "        i+=1\n",
    "    return a;\n",
    "\n",
    "radeja = [5,2,4,2,1,3]\n",
    "kulmaus(radeja)\n",
    "print(radeja)"
   ]
  },
  {
   "cell_type": "code",
   "execution_count": null,
   "metadata": {},
   "outputs": [],
   "source": [
    "# Tai sama nätimmin for-silmukkana ihan samalla periaatteella:\n",
    "\n",
    "def kulmain(a):\n",
    "    for i in range(0,len(a)):\n",
    "        a[i] = a[i]*360/(2*np.pi)\n",
    "    return a;\n",
    "    \n",
    "rad = [1,2,3,5,6]\n",
    "kulmain(rad)\n",
    "print(rad)\n"
   ]
  },
  {
   "cell_type": "markdown",
   "metadata": {},
   "source": [
    "### 5. Satunnaisdatan luominen"
   ]
  },
  {
   "cell_type": "markdown",
   "metadata": {},
   "source": [
    "**Kooste:**\n",
    "\n",
    "Satunnainen kokonaisluku $\\rightarrow$ \n",
    "``` python\n",
    "rand.randint(alin,ylin)\n",
    "``` \n",
    "Satunnainen luku 0 ja 1 välillä $\\rightarrow$ \n",
    "``` python\n",
    "rand.random()  \n",
    "``` \n",
    "Mielivaltainen joukko mahdollisista $\\rightarrow$\n",
    "``` python\n",
    "rand.choices(joukko, painotukset, k = määrä)  \n",
    "``` \n",
    "Mielivaltainen joukko populaatiosta $\\rightarrow$ \n",
    "``` python\n",
    "rand.sample(joukko, k = määrä)  \n",
    "``` \n",
    "Normaalijakauma $\\rightarrow$\n",
    "``` python\n",
    "rand.normalvariate(odotusarvo, keskihajonta)  \n",
    "``` \n",
    "Tasainen lukujono $\\rightarrow$ \n",
    "``` python\n",
    "np.linspace(alku, loppu, num = jakojen lukumäärä)  \n",
    "``` \n",
    "Tasainen lukujono $\\rightarrow$ \n",
    "``` python\n",
    "np.arange(alku, loppu, askelkoko)\n",
    "``` \n"
   ]
  },
  {
   "cell_type": "markdown",
   "metadata": {},
   "source": [
    "Joskus on kiinnostavaa luoda oikean datan kaveriksi simuloituja tai satunnaisia mittauksia. Siinä missä vaikkapa monimutkaisempien [Monte Carlo -simulaatioiden](https://fi.wikipedia.org/wiki/Monte_Carlo_-simulaatio) tuottaminen meneekin tämän ohjeen tavoitteiden ulkopuolelle, voidaan silti vilkaista hieman erilaisia tapoja tuottaa satunnaisia numeroita. Tietokoneen tapauksessa on kuitenkin muistettava, että tavalliset satunnaisgeneraatiometodit ovat siinä mielessä pseudosatunnaisia deterministisiä prosesseja, ettei niitä kannata käyttää vaikkapa pankkisalaisuuksien tai turvalukujen kehittämiseen. Sitä varten on olemassa raskaampia ja monimutkaisempia keinoja."
   ]
  },
  {
   "cell_type": "code",
   "execution_count": null,
   "metadata": {},
   "outputs": [],
   "source": [
    "# Luodaan satunnainen kokonaisluku halutulta väliltä.\n",
    "\n",
    "lottoarpa = rand.randint(1,100)\n",
    "teksti = 'Päivän voittoarpa on: '\n",
    "print (teksti + repr(lottoarpa))"
   ]
  },
  {
   "cell_type": "code",
   "execution_count": null,
   "metadata": {},
   "outputs": [],
   "source": [
    "# Luodaan satunnainen liukuluku 0 ja 1 väliltä kerrottuna viidellä.\n",
    "\n",
    "luku = rand.random()*5\n",
    "print (luku)"
   ]
  },
  {
   "cell_type": "code",
   "execution_count": null,
   "metadata": {},
   "outputs": [],
   "source": [
    "# Poimitaan satunnaisia jäseniä listalta, mutta tehdään tietyistä valinnoista todennäköisempiä.\n",
    "\n",
    "nimiLapsille = ['Pekka','Jukka','Iida','Netta','Paula','Torsti']\n",
    "todariPainot = [10,30,20,50,5,5]\n",
    "\n",
    "# Määritetään montako nimeä halutaan, k = haluttu. Choices-komento voi ottaa saman tulokset useita kertoja.\n",
    "\n",
    "nimet = rand.choices(nimiLapsille, weights = todariPainot, k = 3)\n",
    "print(nimet)"
   ]
  },
  {
   "cell_type": "code",
   "execution_count": null,
   "metadata": {},
   "outputs": [],
   "source": [
    "# Samanlainen valinta ilman toistoa.\n",
    "\n",
    "oppilaat = ['Pekka','Jukka','Iida','Netta','Paula','Torsti']\n",
    "kolmeVapaaehtoista = rand.sample(oppilaat, k = 3)\n",
    "print (kolmeVapaaehtoista)"
   ]
  },
  {
   "cell_type": "code",
   "execution_count": null,
   "metadata": {},
   "outputs": [],
   "source": [
    "# Satunnaisluku annetusta normaalijakaumasta (odotusarvo, keskihajonta).\n",
    "\n",
    "luku = rand.normalvariate(3, 0.1)\n",
    "print (luku)"
   ]
  },
  {
   "cell_type": "code",
   "execution_count": null,
   "metadata": {},
   "outputs": [],
   "source": [
    "# Luodaan tasaisesti jaettu lukusuora 1 ja 10 väliltä ja satunnaistetaan sitä hieman.\n",
    "\n",
    "lukusuora = np.linspace(1, 10, 200)\n",
    "\n",
    "def satunnaistin(a):\n",
    "    b = a.copy()\n",
    "    \n",
    "    for i in range(0,len(b)):\n",
    "        b[i] = b[i]*rand.uniform(0,b[i])\n",
    "    return b;\n",
    "\n",
    "tulos = satunnaistin(lukusuora)\n",
    "# print(lukusuora)\n",
    "# print(tulos)\n",
    "\n",
    "fig = plt.figure(figsize=(15, 10))\n",
    "plt.plot(tulos,'g*')\n",
    "plt.show()"
   ]
  },
  {
   "cell_type": "code",
   "execution_count": null,
   "metadata": {},
   "outputs": [],
   "source": [
    "# Toinen tapa tuottaa tasaisesti jaettu lukujoukko [a,b[ komennolla arange(a,b,c) missä c on askeleen koko.\n",
    "# Toiminto voi joskus häröillä jos c ei ole kokonaisluku. Huomaa, että b ei kuulu joukkoon.\n",
    "\n",
    "luvut = np.arange(1,10,1)\n",
    "print(luvut)"
   ]
  },
  {
   "cell_type": "markdown",
   "metadata": {},
   "source": [
    "### 6. Kuvaajien piirtäminen"
   ]
  },
  {
   "cell_type": "markdown",
   "metadata": {},
   "source": [
    "**Kooste:**\n",
    "\n",
    "Peruskuvaaja $\\rightarrow$\n",
    "``` python\n",
    "plt.plot(nimi, 'tyyli ja väri', muotoiluja)\n",
    "``` \n",
    "Hajotuskuva eli scatterplot $\\rightarrow$\n",
    "``` python\n",
    "plt.scatter(x-data, y-data, marker = 'merkkityyli', color = 'väri', muotoiluja)\n",
    "``` \n",
    "Histogrammi $\\rightarrow$\n",
    "``` python\n",
    "plt.hist(nimi, jakojenMäärä, range = (alku, loppu), muotoiluja)\n",
    "``` \n",
    "Selite näkyviin (vaatii muotoiluparametrit label = 'nimike') $\\rightarrow$\n",
    "``` python\n",
    "plt.legend(muotoiluja)\n",
    "``` \n",
    "Kuvaajat nätisti näkyviin samaan kuvaan $\\rightarrow$\n",
    "``` python\n",
    "plt.show()\n",
    "``` \n",
    "Normaalijakauman sovitus dataan $\\rightarrow$\n",
    "``` python\n",
    "(mu, sigma) = norm.fit(nimi)\n",
    "...\n",
    "``` \n",
    "Kuvaajan muotoiluja ja nimeämistä $\\rightarrow$\n",
    "``` python\n",
    "plt.xlabel('vaakanimi')\n",
    "plt.title('otsikko')\n",
    "fig = plt.figure(figsize=(vaakaluku, pystyluku))\n",
    "\n",
    "```\n",
    "Virheiden piirtämisestä $\\rightarrow$\n",
    "```python\n",
    "plt.errorbar(arvo1, arvo2, xerr = virhe1, yerr = virhe2, fmt = 'none')\n",
    "```\n"
   ]
  },
  {
   "cell_type": "markdown",
   "metadata": {},
   "source": [
    "Kuvaajat ovat kenties tärkein syy käyttää ohjelmointia tiedeopetuksessa. Isoistakin aineistoista on nopeaa ja vaivatonta tuottaa selkeyttäviä visualisaatioita. Kuhunkin tapaukseen sopii omanlaisensa metodi, joista yleisimpiä tarkastellaan tässä.\n",
    "\n",
    "Kuvaajien värejä ja merkkejä voi vaihtaa vapaasti. [Täällä](https://matplotlib.org/api/markers_api.html?highlight=markers#module-matplotlib.markers) on lista ymmärretyistä grafiikoista."
   ]
  },
  {
   "cell_type": "code",
   "execution_count": null,
   "metadata": {},
   "outputs": [],
   "source": [
    "# Peruskuva plot-funktiolla. Jos parametreina toimii vain yksi tietorivi, x-akseli otetaan järjestysnumeroista.\n",
    "\n",
    "lukuja = [1,3,54,45,52,34,4,1,2,3,2,4,132,12,12,21,12,12,21,34,2,8]\n",
    "plt.plot(lukuja, 'b*')\n",
    "\n",
    "# plt.show() on hyvä laittaa piirtojen loppuun. Kuvaajan saa näkyviin ilmankin, mutta joskus näkyviin tulisi pelkkä\n",
    "# tiedostopaikka tai laskennallista sotkua. Tämä selkeyttää asioita, käytä sitä.\n",
    "\n",
    "plt.show()"
   ]
  },
  {
   "cell_type": "code",
   "execution_count": null,
   "metadata": {},
   "outputs": [],
   "source": [
    "# Kuvaajille on kuitenkin hyvä antaa nimiä, jotta niiden lukijallekin on selvää mitä tapahtuu. \n",
    "# Tässä näet miten eri osia voi nimetä.\n",
    "\n",
    "# Kaksi satunnaista datasettiä.\n",
    "\n",
    "tulos1 = np.linspace(10, 20, 50)*rand.randint(2,5)\n",
    "tulos2 = np.linspace(10, 20, 50)*rand.randint(2,5)\n",
    "\n",
    "# Piirretään molemmat.\n",
    "\n",
    "plt.plot(tulos1, 'r^', label = 'Mittaus 1')\n",
    "plt.plot(tulos2, 'b*', label = 'Mittaus 2')\n",
    "\n",
    "# Nimetään akselit ja otsikot. Fontsize-parametrilla saa tekstit haluttuun kokoon.\n",
    "\n",
    "plt.xlabel('Aika (s)', fontsize = 15)\n",
    "plt.ylabel('Nopeus (m/s)', fontsize = 15)\n",
    "plt.title('Liikkeen mittauksia \\n', fontsize = 15) # \\n luo uuden rivin otsikon muotoilua varten\n",
    "\n",
    "# Lisätään selite. Jos loc-parametria ei määritellä, selite laitetaan automaattisesti johonkin mihin se mahtuu.\n",
    "\n",
    "plt.legend(loc='upper left', fontsize = 15)\n",
    "\n",
    "# Näytetään kuvaaja.\n",
    "\n",
    "plt.show()"
   ]
  },
  {
   "cell_type": "code",
   "execution_count": null,
   "metadata": {},
   "outputs": [],
   "source": [
    "# Myös trigonometrisia funktioita voidaan piirtää nätisti.\n",
    "\n",
    "# Tehdään x-akseliksi tasainen lukusuora.\n",
    "\n",
    "x = np.linspace(0, 10, 100)\n",
    "\n",
    "# Määritetään piirrettävät funktiot-\n",
    "\n",
    "y1 = np.sin(x)\n",
    "y2 = np.cos(x)\n",
    "\n",
    "# Piirretään kuvaajat.\n",
    "\n",
    "plt.plot(x, y1, color = 'b', label = 'sin(x)')\n",
    "plt.plot(x, y2, color = 'g', label = 'cos(x)')\n",
    "\n",
    "plt.legend()\n",
    "\n",
    "plt.show()"
   ]
  },
  {
   "cell_type": "code",
   "execution_count": null,
   "metadata": {},
   "outputs": [],
   "source": [
    "# Kuvaajien oletuskoko Jupyterissa on jokseenkin pieni. figsize-komento auttaa skaalaamaan kuvia haluttuihin mittoihin.\n",
    "# Toistetaan äskeinen kuvaaja.\n",
    "\n",
    "x = np.linspace(0, 10, 100)\n",
    "\n",
    "y1 = np.sin(x)\n",
    "y2 = np.cos(x)\n",
    "\n",
    "# Tässä määrätään koko. Voit testata miten lukujen muokkaus vaikuttaa.\n",
    "\n",
    "fig = plt.figure(figsize=(15, 10))\n",
    "\n",
    "plt.plot(x, y1, color = 'b', label = 'sin(x)')\n",
    "plt.plot(x, y2, color = 'g', label = 'cos(x)')\n",
    "\n",
    "plt.legend()\n",
    "\n",
    "plt.show()"
   ]
  },
  {
   "cell_type": "markdown",
   "metadata": {},
   "source": [
    "Toinen perinteinen kuvaaja on arvopareja piirtävä [scatterplot](https://matplotlib.org/api/_as_gen/matplotlib.pyplot.scatter.html), jossa molemmat akselit ovat muuttujia. Hyvin yleinen esimerkiksi fysiikan tutkimuksessa."
   ]
  },
  {
   "cell_type": "code",
   "execution_count": null,
   "metadata": {},
   "outputs": [],
   "source": [
    "def satunnaistin(a):\n",
    "    b = a.copy()\n",
    "    for i in range(0,len(b)):\n",
    "        b[i] = b[i]*rand.uniform(0,1)\n",
    "    return b;\n",
    "\n",
    "# Otetaan satunnaista dataa, jossa toinen arvo jakautuu välillä 0-5 ja toinen 0-20.\n",
    "\n",
    "arvo1 = satunnaistin(np.linspace(3,5,100))\n",
    "arvo2 = satunnaistin(np.linspace(10,20,100))\n",
    "\n",
    "fig = plt.figure(figsize=(10,5))\n",
    "plt.scatter(arvo1, arvo2, marker ='*', color = 'b')\n",
    "plt.show()"
   ]
  },
  {
   "cell_type": "code",
   "execution_count": null,
   "metadata": {},
   "outputs": [],
   "source": [
    "# Toinen scatter-esimerkki, jossa molemmat arvot\n",
    "# hajoavat normaalijakauman mukaan odotetusta lineaarisesta riippuvuudesta.\n",
    "\n",
    "\n",
    "def satunnaistaja(a):\n",
    "    b = a.copy()\n",
    "    for i in range(0,len(b)):\n",
    "        b[i] = b[i]*rand.normalvariate(1, 0.1)\n",
    "    return b;\n",
    "\n",
    "arvo1 = satunnaistaja(np.linspace(3,5,100))\n",
    "arvo2 = satunnaistaja(np.linspace(10,20,100))\n",
    "\n",
    "fig = plt.figure(figsize=(10,5))\n",
    "plt.scatter(arvo1, arvo2, marker ='*', color = 'b', label = 'Mittaukset')\n",
    "\n",
    "# Lasketaan huvikseen mukaan myös suoran sovite pienimmällä neliösummalla.\n",
    "\n",
    "slope, intercept, r_value, p_value, std_err = stats.linregress(arvo1, arvo2)\n",
    "plt.plot(arvo1, intercept + slope*arvo1, 'r', label='Sovitus')\n",
    "\n",
    "plt.legend(fontsize = 15)\n",
    "plt.show()\n",
    "\n",
    "# Jos haluaisi tietää suoran matemaattisia arvoja, voisi kirjoittaa esim. print (slope) jne."
   ]
  },
  {
   "cell_type": "markdown",
   "metadata": {},
   "source": [
    "Yksi merkittävä kuvaajatyyppi on histogrammi, jolla voidaan kuvata eri tulosten suhteellista esiintyvyyttä datassa. Histogrammeja näkee hyvin monissa paikoissa, niin hiukkasfysiikassa, lääketieteessä kuin yhteiskunnallisissakin tiedoissa."
   ]
  },
  {
   "cell_type": "code",
   "execution_count": null,
   "metadata": {},
   "outputs": [],
   "source": [
    "# Otetaan satunnainen ikäjakauma ja luodaan sitä kuvaava histogrammi.\n",
    "\n",
    "def ikageneraattori(a):\n",
    "    b = a.copy()\n",
    "    for i in range(0, len(b)):\n",
    "        b[i] = b[i]*rand.randint(1,100)\n",
    "    return b;\n",
    "\n",
    "iat = ikageneraattori(np.ones(1000))\n",
    "\n",
    "fig = plt.figure(figsize = (10,5))\n",
    "plt.hist(iat, bins = 100, range = (0,110))\n",
    "\n",
    "plt.xlabel('Ikävuodet', fontsize = 15)\n",
    "plt.ylabel('Määrä', fontsize = 15)\n",
    "plt.title('Ikäjakauma %i ihmisen otoksessa \\n' %(len(iat)), fontsize = 15 ) \n",
    "\n",
    "plt.show()"
   ]
  },
  {
   "cell_type": "code",
   "execution_count": null,
   "metadata": {},
   "outputs": [],
   "source": [
    "# Otetaan hiukkasdataa törmäyksistä, joista havaittiin tulevan myonipareja.\n",
    "\n",
    "kaksoismyonit = pd.read_csv('Dimuon_Doublemu.csv')\n",
    "\n",
    "# Piirretään koko roskan histogrammi invariantin massan, sarake M, suhteen.\n",
    "\n",
    "fig = plt.figure(figsize = (10,5))\n",
    "plt.hist(kaksoismyonit.M, bins = 300, range = (0,150))\n",
    "\n",
    "plt.xlabel('Invariantti massa (GeV/$c^2$)', fontsize = 15)\n",
    "plt.ylabel('Tapahtumien lukumäärä', fontsize = 15)\n",
    "plt.title('Invariantin massan jakauma myoneista laskettuna \\n', fontsize = 15 ) \n",
    "\n",
    "plt.show()"
   ]
  },
  {
   "cell_type": "code",
   "execution_count": null,
   "metadata": {},
   "outputs": [],
   "source": [
    "# Tarkastellaan ylläolevasta vain 80 ja 100 välillä olevaa aluetta. Tähän kävisi myös range-parametrin siirto,\n",
    "# mutta on kevyempää rajata pienempi pala dataa käsittelyyn.\n",
    "\n",
    "huippu = kaksoismyonit[(kaksoismyonit.M >= 80) & (kaksoismyonit.M <= 100)]\n",
    "\n",
    "\n",
    "fig = plt.figure(figsize = (10,5))\n",
    "plt.hist(huippu.M, bins = 200, range = (80,100))\n",
    "\n",
    "plt.xlabel('Invariantti massa (GeV/$c^2$)', fontsize = 15)\n",
    "plt.ylabel('Tapahtumien lukumäärä', fontsize = 15)\n",
    "plt.title('Invariantin massan jakauma myoneista laskettuna \\n', fontsize = 15 ) \n",
    "\n",
    "plt.show()"
   ]
  },
  {
   "cell_type": "markdown",
   "metadata": {},
   "source": [
    "Keskimäärin epälineaaristen käyrien sovittaminen tuloksiin vaatii hieman enemmän koodaamista, mutta jakaumien tapauksessa Pythonista löytyy aika kattavasti valmiita komentoja. Ylläolevaan kuvaajaan saa esimerkiksi kivan normaalijakauman sovitteen:"
   ]
  },
  {
   "cell_type": "code",
   "execution_count": null,
   "metadata": {},
   "outputs": [],
   "source": [
    "# Tässä määritellään sovituksen rajat. Nämä on hyvä määritellä tässä, jotta itse koodiin ei tarvitse porautua\n",
    "# jälkeenpäin ja etsiä jokaista viittauskohtaa erikseen.\n",
    "\n",
    "alaraja = 87\n",
    "ylaraja = 95\n",
    "\n",
    "pala = kaksoismyonit[(kaksoismyonit.M > alaraja) & (kaksoismyonit.M < ylaraja)]\n",
    "\n",
    "fig = plt.figure(figsize=(15, 10))\n",
    "\n",
    "# Tässä määritellään miltä väliltä alkuperäistä dataa katsellaan. Sovitteen ei tarvitse seurata sitä vaan \n",
    "# se on suunniteltu pelkän huipun kohdalle.\n",
    "\n",
    "esite_ala = 80\n",
    "esite_yla = 100\n",
    "\n",
    "alue = kaksoismyonit[(kaksoismyonit.M > esite_ala) & (kaksoismyonit.M < esite_yla)]\n",
    "\n",
    "# Koska näytetyn histogrammin pinta-ala asetetaan ykköseen kertymäfunktiota varten, määritellään tässä kerroin\n",
    "# joka huomioi tarkastellun alueen ja koko alueen suhteen sovitusta tehtäessä.\n",
    "\n",
    "kerroin = len(pala)/len(alue)\n",
    "(mu, sigma) = norm.fit(pala.M)\n",
    "\n",
    "# Tässä piirretään itse histogrammi valituissa rajoissa koko alkuperäisestä datasta..\n",
    "\n",
    "n, bins, patches = plt.hist(kaksoismyonit.M, 300, density = 1, facecolor = 'green', alpha=0.75, histtype='stepfilled',\n",
    "                            range=(esite_ala,esite_yla))\n",
    "\n",
    "# Tässä piirretään normaalijakauman funktio aiemman kertoimen kera.\n",
    "\n",
    "y = kerroin*norm.pdf( bins, mu, sigma)\n",
    "l = plt.plot(bins, y, 'r--', linewidth=2)\n",
    "\n",
    "plt.xlabel('Massa [GeV/$c^2$]',fontsize=15)\n",
    "plt.ylabel('Tapahtuman todennäköisyys', fontsize=15)\n",
    "\n",
    "# Tämä otsikko näyttää hieman karulta, mutta se huomioi nyt datasta lasketut tilastolliset arvot.\n",
    "\n",
    "plt.title(r'$\\mathrm{Histogrammi\\ invarianteista\\ massoista\\ normeerattuna\\ ykköseen:}\\ \\mu=%.3f,\\ \\sigma=%.3f$'\n",
    "          %(mu,sigma),fontsize=15)\n",
    "\n",
    "# Tähän saa myös ruudukon, huraa!\n",
    "\n",
    "plt.grid(True)\n",
    "\n",
    "plt.show()"
   ]
  },
  {
   "cell_type": "markdown",
   "metadata": {},
   "source": [
    "Kuvaajan voi piirtää myös tiedostosta, jossa ei ole numeroita. Otetaan esimerkiksi tilastoja Lontoon liikenneonnettomuuksista."
   ]
  },
  {
   "cell_type": "code",
   "execution_count": null,
   "metadata": {},
   "outputs": [],
   "source": [
    "# Nelisenkymmentätuhatta tapaturmaa erinäisin kulkupelein, samalla tapahtumalla on sama viitenumero AREFNO.\n",
    "\n",
    "liikenne = pd.read_table('http://roads.data.tfl.gov.uk/AccidentStats/Prod/2016-gla-data-extract-vehicle.csv', sep = \",\")\n",
    "loukkaantuneet = pd.read_table('http://roads.data.tfl.gov.uk/AccidentStats/Prod/2016-gla-data-extract-casualty.csv', sep = \",\")"
   ]
  },
  {
   "cell_type": "code",
   "execution_count": null,
   "metadata": {},
   "outputs": [],
   "source": [
    "liikenne.head()"
   ]
  },
  {
   "cell_type": "code",
   "execution_count": null,
   "metadata": {},
   "outputs": [],
   "source": [
    "loukkaantuneet.head()"
   ]
  },
  {
   "cell_type": "code",
   "execution_count": null,
   "metadata": {},
   "outputs": [],
   "source": [
    "# Erotellaan datasta ikähaarukka, jota tarkastellaan.\n",
    "\n",
    "alaraja = 16\n",
    "ylaraja = 25\n",
    "ikahaarukka = liikenne.loc[(liikenne['Driver Age'] <= ylaraja) & (liikenne['Driver Age'] >= alaraja)]"
   ]
  },
  {
   "cell_type": "code",
   "execution_count": null,
   "metadata": {},
   "outputs": [],
   "source": [
    "# Tehdään kuvaaja tämän ikäryhmän onnettomuuksista eri välineillä.\n",
    "\n",
    "fig = plt.figure(figsize = (10,5))\n",
    "plt.hist(ikahaarukka['Vehicle Type'], bins = 50)\n",
    "\n",
    "# Määritetään tässä miten vaaka-akselin selitteet toimivat. Erityisesti miten ne kallistuvat.\n",
    "\n",
    "plt.xticks(rotation = 40, ha = 'right')\n",
    "\n",
    "plt.show()"
   ]
  },
  {
   "cell_type": "markdown",
   "metadata": {},
   "source": [
    "Kuvaajasta nähdään, että suurin osa liikenneonnettomuuksista on väemmän yllättäen autojen törmäilyä. Pieni yllätys voi kuitenkin tulla siitä, että listassa näkyy myös ratsuhevonen. Tätä voisi lähteä tarkastelemaan syvemminkin, esimerkiksi seuraavasti:"
   ]
  },
  {
   "cell_type": "code",
   "execution_count": null,
   "metadata": {},
   "outputs": [],
   "source": [
    "# Erotellaan hevostörmäykset liikennedatasta.\n",
    "\n",
    "hepat = liikenne.loc[liikenne['Vehicle Type'] == '16 Ridden Horse']\n",
    "hepat.head()"
   ]
  },
  {
   "cell_type": "code",
   "execution_count": null,
   "metadata": {},
   "outputs": [],
   "source": [
    "# Jaha, sama AREFNO, eli hepat ajoivat toistensa perään. Mites vakavaa vammaa tuli?\n",
    "\n",
    "heppaVammat = loukkaantuneet.loc[loukkaantuneet['AREFNO'] == '0116TW60237']\n",
    "heppaVammat.head()\n",
    "\n",
    "# Protip: jos haluaa olla helppo suuren datan kanssa, manuaalisen numeronsyötön sijaan tuohon tietenkin laitettaisiin\n",
    "# viite alkuperäisen taulukon heppaosasta kaivetun solun mukaan ja koko prosessi tapahtuisi automaattisesti. \n",
    "# Kannattaa kokeilla oman akateemisen mielenkiinnon vuoksi kokeilla."
   ]
  },
  {
   "cell_type": "markdown",
   "metadata": {},
   "source": [
    "Kuvaajien piirtoon liittyen vielä sananen virheistä. Oikeissa mittauksissa on aina heiluntaa sen suhteen, mikä on tarkka tulos ja miten tarkasti jotain edes voidaan mitata. Nämä tarkkuusarvot voidaan kaivaa tilastollisilla prosesseilla tuloksiin tehdyistä sovitteista tai voi olla että ne ovat tiedossa jokaisen mittapisteen kohdalla erikseen, kuten vaikkapa koulussa tehtävien kokeiden kanssa voisi käydä (mikäli virheeseen ehditään paneutua). Tehdään esimerkki tällaisesta. "
   ]
  },
  {
   "cell_type": "code",
   "execution_count": null,
   "metadata": {},
   "outputs": [],
   "source": [
    "def satunnaistaja(a):\n",
    "    b = a.copy()\n",
    "    for i in range(0,len(b)):\n",
    "        b[i] = b[i]*rand.normalvariate(1, 0.1)\n",
    "    return b;\n",
    "\n",
    "# Luodaan mittapisteet normaalijakautuneesti heiluen.\n",
    "\n",
    "arvo1 = satunnaistaja(np.linspace(3,5,100))\n",
    "arvo2 = satunnaistaja(np.linspace(10,20,100))\n",
    "\n",
    "# Annetaan kullekin mittapisteelle normaalijakautunut satunnainen virhe.\n",
    "\n",
    "virhe1 = (1/5)*satunnaistaja(np.ones(len(arvo1)))\n",
    "virhe2 = satunnaistaja(np.ones(len(arvo2)))\n",
    "\n",
    "fig = plt.figure(figsize=(10,5))\n",
    "plt.scatter(arvo1, arvo2, marker ='*', color = 'b', label = 'Mittaukset')\n",
    "plt.errorbar(arvo1, arvo2, xerr = virhe1, yerr = virhe2, fmt = 'none')\n",
    "\n",
    "# Lasketaan huvikseen mukaan myös suoran sovite pienimmällä neliösummalla.\n",
    "\n",
    "slope, intercept, r_value, p_value, std_err = stats.linregress(arvo1, arvo2)\n",
    "plt.plot(arvo1, intercept + slope*arvo1, 'r', label='Sovitus')\n",
    "\n",
    "plt.legend(fontsize = 15)\n",
    "plt.show()\n",
    "\n",
    "# Jos haluaisi tietää suoran matemaattisia arvoja, voisi kirjoittaa esim. print (slope) jne."
   ]
  },
  {
   "cell_type": "markdown",
   "metadata": {},
   "source": [
    "### 7. Ongelmia? Katso tänne"
   ]
  },
  {
   "cell_type": "markdown",
   "metadata": {},
   "source": [
    "Kooste:\n",
    "\n",
    "Yhyy, en osaa?  \n",
    "Solu jäi jumiin eikä piirrä kuvaajaani tai aja koodiani?  \n",
    "Virheilmoitus herjaa 'nimi is not defined' tai 'nimi does not exist'?  \n",
    "Yritän tallentaa muuttujaan asioita, mutta print(nimi) kertookin None?  \n",
    "Datani ei suostu lataamaan?  \n",
    "Lataamassani datassa on jotain omituisia 'NaN'-arvoja?  \n",
    "Yhdistin palasia datasta, mutta nyt en enää pysty tekemään asioita uudella muuttujallani?  \n",
    "Koodini ei toimi, vaikka se on ihan varmasti oikein kirjoitettu?  \n",
    "Datan päivämäärät sekoittavat toiminnan, miten korjaan?  \n",
    "Kopioin datan uuteen muuttujaan, jonka käsittelyn jälkeen huomaan alkuperäisen muuttujan arvojen vaihtuneen?  \n"
   ]
  },
  {
   "cell_type": "markdown",
   "metadata": {},
   "source": [
    "#### Yhyy, en osaa?"
   ]
  },
  {
   "cell_type": "markdown",
   "metadata": {},
   "source": [
    "Nou hätä, kukaan ei aloita mestarina. Tekemällä oppii ja virheet kuuluvat asiaan.\n",
    "\n",
    "Pythonissa on kivana puolena sen laaja käyttäjäkunta: mitä ikinä keksitkään kysyä, et ole ensimmäinen ja vastaus luultavasti löytyy ensimmäisten googlaustulosten joukosta. Tässä on ohjeita muutamiin yleisimpiin ongelmatilanteisiin."
   ]
  },
  {
   "cell_type": "markdown",
   "metadata": {},
   "source": [
    "#### Solu jäi jumiin eikä piirrä kuvaajaani tai aja koodiani?"
   ]
  },
  {
   "cell_type": "markdown",
   "metadata": {},
   "source": [
    "Jos solun ajamisessa kuluu joitain sekunteja pidempään ilman, että sen pitäisi tehdä mitään erityisen raskasta, on mahdollista että koodissa on virheellisesti kirjoitettu jokin silmukka johon koneen lukija jää jumiin. Pysäytä kernelin toiminta ja tarkista koodisi mahdollisten kitkakohtien varalta. Jos et löydä ongelmaa, yksinkertaista syntaksia kunnes olet varma, että palaset etenevät loogisesti haluttuun suuntaan.\n",
    "\n",
    "Yksi yleinen ongelma on, että syntaksivirhe ajaa koneen tekemään jotain väärää. Esimerkkitapaus: piirrät histogrammia yhdestä isomman datan sarakkeesta, mutta unohdat sarakkeen nimen koodista. Tällöin kone yrittää toteuttaa käskyäsi ja hämmentyy saamastaan koko datan sisältävästä taulukosta. Pysäytä kernelin toiminta ja korjaa muuttujien nimet oikein."
   ]
  },
  {
   "cell_type": "markdown",
   "metadata": {},
   "source": [
    "#### Virheilmoitus herjaa 'nimi is not defined' tai 'nimi does not exist'?"
   ]
  },
  {
   "cell_type": "markdown",
   "metadata": {},
   "source": [
    "Muuttujaa, johon viittaat, ei ole olemassa. Olethan muistanut varmasti ajaa tässä istunnossa sen solun, jossa kyseinen muuttuja määritellään? Muista myös kirjainkoon tarkka merkitys."
   ]
  },
  {
   "cell_type": "markdown",
   "metadata": {},
   "source": [
    "#### Yritän tallentaa muuttujaan asioita, mutta print(nimi) kertookin None?"
   ]
  },
  {
   "cell_type": "markdown",
   "metadata": {},
   "source": [
    "Tallennuksessasi on jokin ongelma. Muista aina tallentaa tekemäsi operaatiot muuttuujaan, eli esimerkiksi\n",
    "```python\n",
    "muuttuja = ... lataus datasta\n",
    "muuttuja = muuttuja*2\n",
    "```\n",
    "eikä\n",
    "```python\n",
    "muuttuja = ... lataus datasta\n",
    "muuttuja*2\n",
    "```\n",
    "\n",
    "Jos muuttujan tarkasteleminen palauttaa None, tällöin muuttujasi on tyhjä. Tarkasta, että haluamasi operaatio oikeasti on tehtävissä oleva eikä hajoa vaikkapa jonkin sisäfunktion vääriin syötteisiin."
   ]
  },
  {
   "cell_type": "markdown",
   "metadata": {},
   "source": [
    "#### Datani ei suostu lataamaan?"
   ]
  },
  {
   "cell_type": "markdown",
   "metadata": {},
   "source": [
    "Tavallisia csv- ja vastaavia tekstitiedostoja voi tarkastella tekstinkäsittelyohjelmilla. Tällöin näet, millä merkillä arvot on eroteltu, miltä riviltä relevantti data alkaa tai onko tiedoston sisältö ylipäätään se mitä kuvittelit.\n",
    "\n",
    "Jakomerkit, otsikkorivit ja vastaavat voit määrittää lukufunktion parametreina, esimerkiksi\n",
    "```python\n",
    "pd.read_csv('linkki tiedostoon', sep = ';')\n",
    "```\n",
    "avaisi puolipisteellä erotetun csv:n. Lisää ylempänä dataa käsittelevässä kappaleessa 3.\n",
    "\n",
    "**pd.read_table()** voi auttaa selvittämään datan luonnetta jos ei jaksa avata tekstieditoria.\n",
    "\n",
    "Joskus ongelma johtuu merkistöjä ohjaavien koodien yhteensopimattomuudesta. Tällöin parametri **encoding** voi auttaa. Näistä löydät enemmän [täältä](https://docs.python.org/3/library/codecs.html#standard-encodings). Jos oletusasetus ei toimi, usein jokin ISO-variantti kelpaa."
   ]
  },
  {
   "cell_type": "markdown",
   "metadata": {},
   "source": [
    "#### Lataamassani datassa on jotain omituisia 'NaN'-arvoja?"
   ]
  },
  {
   "cell_type": "markdown",
   "metadata": {},
   "source": [
    "NaN, 'Not a Number', kertoo että tässä kohtaa dataa ei ole ymmärrettävää arvoa. Joko arvo on omituinen (kuten negatiivisen luvun neliöjuuri) tai sitä ei vain ole.\n",
    "\n",
    "Monet funktiot eivät välitä NaN-arvoista tai niiden parametreihin voi laittaa asetuksen, jolla ne eivät huomioi niiden olemassaoloa. Tämä helpottaa etenkin isojen datojen läpikäyntiä, kun kaikkia mahdollisia virheitä ei huomioida eikä kone jumitu törmätessään matemaattiseen mahdottomuuteen."
   ]
  },
  {
   "cell_type": "markdown",
   "metadata": {},
   "source": [
    "#### Yhdistin palasia datasta, mutta nyt en enää pysty tekemään asioita uudella muuttujallani?"
   ]
  },
  {
   "cell_type": "markdown",
   "metadata": {},
   "source": [
    "Yhdistitkö eri tyyppisiä muuttujia? Kokonaisluvut (integer) ovat tietokoneelle erilaisia kuin desimaaleja ymmärtävät liukuluvut (float), jotka ovat erilaisia kuin teksti (string) ja niin edelleen. Joskus numerosarjakin voi olla kirjoitettu johonkin dataan stringinä, mikä on kovasti epämukavaa huomata jälkikäteen. Pythonissa on erilaisia vertailukomentoja, kuten isstring, joilla voi tarkistaa muuttujien tyypin.\n",
    "\n",
    "Yhdistithän palaset oikeisiin suuntiin? Jos halusit sarakkeet vierekkäin, niitä ei kannata vahingossa liittää peräkkäin yhdeksi pitkäksi sarakkeeksi. Tiedoston tarkastelu vaikkapa **len(nimi)** ja **nimi.head()** komennoilla on usein hyödyllistä näissä tilanteissa."
   ]
  },
  {
   "cell_type": "markdown",
   "metadata": {},
   "source": [
    "#### Koodini ei toimi, vaikka se on ihan varmasti oikein kirjoitettu?"
   ]
  },
  {
   "cell_type": "markdown",
   "metadata": {},
   "source": [
    "Tarkista nyt kuitenkin, ettei ole piste väärässä kohdassa tai väärä kirjainkoko jossakin.\n",
    "\n",
    "Jos koodi ei ihan oikeasti vaan toimi vaikka pitäisi, syy voi löytyä kerneliin jääneistä aiemmista tiedoista muistissa. Näissä tapauksissa voi välillä vain kokeilla Kernel-valikosta Restart & Clear Outputtia ja uudelleen ajamista vaikka parikin kertaa."
   ]
  },
  {
   "cell_type": "markdown",
   "metadata": {},
   "source": [
    "#### Datan päivämäärät sekoittavat toiminnan, miten korjaan? "
   ]
  },
  {
   "cell_type": "markdown",
   "metadata": {},
   "source": [
    "Päivämäärät saattavat tulla ilmoitettuina monessa muodossa. Jos oletusasetukset eivät saa dataa toimimaan nätisti, **pd.read_csv():n** [dokumentaatiosta](https://pandas.pydata.org/pandas-docs/stable/generated/pandas.read_csv.html) näkyy millä sen parametreilla voi vaikuttaa päivämäärien tulkintaan. Esim. **dayfirst** tai **date_parser** saattavat ratkaista ongelman. Pythonissa on myös paketti [**time**](https://docs.python.org/3/library/time.html), josta löytyy varmasti sopivat palat tilanteeseen."
   ]
  },
  {
   "cell_type": "markdown",
   "metadata": {},
   "source": [
    "#### Kopioin datan uuteen muuttujaan, jonka käsittelyn jälkeen huomaan alkuperäisen muuttujan arvojen vaihtuneen? "
   ]
  },
  {
   "cell_type": "markdown",
   "metadata": {},
   "source": [
    "Python operoi osoittimilla, joissa muuttujaan tallentuu oikeastaan tiedon itsensä sijaan paikkatieto siitä, mistä päin muistia kyseinen tieto löytyy. Kopioitaessa kokonaista datamuuttujaa toiseen muuttujaan yksittäisten rivien tai sarakkeiden sijaan saattaa käydä niin, että siinä ei oikeastaan tehdä muuta kuin viitataan vanhaan tietoon. Jos uudelle muuttujalle tehdään muutoksia, tällöin osoittimet vievät muutokset myös vanhaan dataan ja puf, sekin on muuttunut. Tätä sattuu joskus ja se on hitusen rasittavaa. Olemme huomanneet hyväksi kopioida alkuperäisen:\n",
    "```python\n",
    "uusiNimi = vanhaNimi.copy()\n",
    "```\n",
    "jolloin oikeasti tehdään uutta tietoa muistiin niin, ettei viittaus vahingossakaan tapahdu alkuperäiseen muuttujaan. Kiinnostavaa kyllä tätä ongelmaa ei tunnu esiintyvän muussa kuin koko datan kerralla siirtämisen yhteydessä, eli yksittäisten rivien erottelu uusiin muuttujiin tapahtuu ilman mitään viittausta alkuperäistietoihin."
   ]
  }
 ],
 "metadata": {
  "kernelspec": {
   "display_name": "Python 3",
   "language": "python",
   "name": "python3"
  },
  "language_info": {
   "codemirror_mode": {
    "name": "ipython",
    "version": 3
   },
   "file_extension": ".py",
   "mimetype": "text/x-python",
   "name": "python",
   "nbconvert_exporter": "python",
   "pygments_lexer": "ipython3",
   "version": "3.6.4"
  }
 },
 "nbformat": 4,
 "nbformat_minor": 2
}
