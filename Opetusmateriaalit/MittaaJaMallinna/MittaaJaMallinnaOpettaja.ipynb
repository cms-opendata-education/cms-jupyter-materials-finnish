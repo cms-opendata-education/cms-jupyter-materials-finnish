{
 "cells": [
  {
   "cell_type": "markdown",
   "metadata": {},
   "source": [
    "# Mittaa ja mallinna - opettajan ohje"
   ]
  },
  {
   "cell_type": "markdown",
   "metadata": {},
   "source": [
    "## Sisältö\n",
    "[Yleistä](#yleistä)\n",
    "\n",
    "[Tuntisuunnitelma](#tuntisuunnitelma)\n",
    "\n",
    "[Phyphox](#phyphox)<br>\n",
    ">[Phyphoxin käyttö](#ppkäyttö)<br>\n",
    "\n",
    "[Esimerkkejä Phyphox-projekteista](#projektit)\n",
    ">[Puhelin salaattilingossa](#normaalikiihtyvyys)<br>\n",
    ">[Pyörivä puhelin](#pyörivä)<br>\n",
    ">[Heiluri](#heiluri)<br>\n",
    ">[Värähtelijä](#värähtelijä)<br>\n",
    ">[Äänien taajuudet](#taajuudet)\n",
    ">[Dopplerin ilmiö](#doppler)<br>\n",
    ">[Nopeus](#nopeus)<br>\n",
    "\n",
    "[Data-analyysi Pythonilla](#analyysi)\n",
    ">[Moduulit](#moduulit)<br>\n",
    ">[Laskutoimitukset](#laskut)<br>\n",
    ">[Tiedoston lukeminen](#tiedosto)<br>\n",
    ">[Kuvaajan piirtäminen](#kuvaaja)<br>"
   ]
  },
  {
   "cell_type": "markdown",
   "metadata": {},
   "source": [
    "<a id=\"yleistä\"></a>\n",
    "## Yleistä"
   ]
  },
  {
   "cell_type": "markdown",
   "metadata": {},
   "source": [
    "Tarkoituksena on toteuttaa projekti, jossa opiskelijat mittaavat Phyphox-sovelluksen (tai muun vastaavan) avulla dataa jostain mielenkiintoisesta tapahtumasta. Tämän jälkeen data visualisoidaan (piirretään kuvaaja) ja analysoidaan Python-ohjelmointia hyödyntäen (ei tarvita aiempaa kokemusta). Työ soveltuu hyvin tehtäväksi pienissä, noin kolmen hengen ryhmissä.\n",
    "\n",
    "Tässä ohjeessa on esitelty muutama idea projektin toteuttamiseen, mutta omat ideat käyvät aivan yhtä hyvin!\n",
    "Nämä ohjeet on tehty Phyphox-sovelluksen (datan keruu) sekä Pythonin (data-analyysi) käyttöä ajatellen. Toki myös muut datankeruutavat käyvät, esim. urheilukello, muut sovellukset, valmis data netistä jne. Data-analyysikin on mahdollista tehdä esimerkiksi taulukkolaskentaohjelmalla, mutta Pythonin käyttäminen on helppoa ja huomattavasti tehokkaampaa. Lisäksi ohjelmointi on hauskaa ja ohjelmointitaidot ovat nykypäivänä valttia työmarkkinoilla!"
   ]
  },
  {
   "cell_type": "markdown",
   "metadata": {},
   "source": [
    "<a id=\"tuntisuunnitelma\"></a>\n",
    "### Tuntisuunnitelma\n",
    "\n",
    "Tarvittava aika projektin tekemiseen on noin 2 oppituntia.\n",
    "\n",
    "| Tehtävä | Ajankäyttö |\n",
    "| :--- | :---: |\n",
    "| Projektin ja aiheen esittely | 10min |\n",
    "| Esimerkkiprojektin esittely | 10min |\n",
    "| Oman projektin ideointi ja mittaaminen | 25min |\n",
    "| Data-analyysi | 35min |\n",
    "| Loppukoonti | 10min |\n",
    "\n",
    "Huomioita ajankäytöstä: Phyphox-mittaukset voidaan antaa myös kotitehtäväksi ajan säästämiseksi. Opiskelijat voivat myös esitellä omat projektinsa muulle luokalle, jolloin aikaa kuluu hieman enemmän."
   ]
  },
  {
   "cell_type": "markdown",
   "metadata": {},
   "source": [
    "<a id=\"phyphox\"></a>\n",
    "## Phyphox\n",
    "\n",
    "<img src=\"https://github.com/cms-opendata-education/cms-jupyter-materials-finnish/blob/master/Kuvat/phyphox_logo.png?raw=true\" width=\"200\" align=\"right\"/> Phyphox on mobiiliapplikaatio, joka muuttaa puhelimesi/tablettisi tutkimuslaboratorioksi. Laitteesi on täynnä erilaisia sensoreita, joita voi hyödyntää omissa projekteissa. Phyphoxin avulla voit kerätä dataa seuraavilla sensoreilla:\n",
    "\n",
    " - Kiihtyvyys\n",
    " - Magnetometri\n",
    " - Gyroskooppi\n",
    " - Valosensori\n",
    " - Paine\n",
    " - Etäisyys\n",
    " - Mikrofoni\n",
    " - GPS/sijainti\n",
    " - Lämpötila\n",
    " \n",
    "Huom. Sensorivalikoima saattaa hieman poiketa laitteesta riippuen.\n",
    "Puhelimessa olevien sensoreiden avulla oppilaat voivat itse kerätä dataa ja saavat näin konkreettisemman otteen dataan ja data-analyysiin kuin käytettäessä valmiita mittaustuloksia. Lisäksi se voi jopa innostaa heitä kokeilemaan mittauksia myös vapaa-ajallaan! Tällä hetkellä (2019) applikaatio on saatavilla Google Play-kaupasta sekä Applen AppStoresta."
   ]
  },
  {
   "cell_type": "markdown",
   "metadata": {},
   "source": [
    "<a id=\"ppkäyttö\"></a>\n",
    "### Phyphoxin käyttö\n",
    "\n",
    "Phyphoxin alkuvalikosta (kuva 1) löydät kaikki käytettävissä olevat sensorit. Pelkkien \"raakojen\" sensoreiden lisäksi phyphoxissa on valmiiksi mietittyjä kokeita, jotka käyttävät niille määritettyjä sensoreita. Phyphoxissa on myös mahdollista suunnitella itse oma projektin ja valita käytettävät sensorit (kuva 2). Sensoreiden ja kokeiden toiminnasta löytyy lisätietoa phyphox-sovelluksessa kohdasta _experiment info_ (kuva 3). Datan saa siirrettyä helposti tietokoneelle _export data_ kohdasta esimerkiksi sähköpostilla. Dataformaatiksi kannattaa valita _CSV (Comma, decimal point)_, jos aikoo analysoida dataa Pythonilla.\n",
    "\n",
    "\n",
    "<img src=\"https://github.com/cms-opendata-education/cms-jupyter-materials-finnish/blob/master/Kuvat/phyphox_figs.png?raw=true\" align=\"right\"/>"
   ]
  },
  {
   "cell_type": "markdown",
   "metadata": {},
   "source": [
    "<a id=\"projektit\"></a>\n",
    "## Esimerkkejä Phyphox-projekteista"
   ]
  },
  {
   "cell_type": "markdown",
   "metadata": {},
   "source": [
    "Alla on listattu esimerkkejä phyphox-projekteista. Opiskelijoille on myös luotu notebook-pohjat kyseisistä projekteista, jotka sisältävät tarkemmat taustatiedot, työohjeen, sekä valmiin pohjan data-analyysiin Pythonilla. Pohjia voi vapaasti muokata omaan käyttöön sopivaksi, jos esimerkiksi valmista koodia on liikaa omaan makuun."
   ]
  },
  {
   "cell_type": "markdown",
   "metadata": {},
   "source": [
    "<a id=\"normaalikiihtyvyys\"></a>\n",
    "### Puhelin salaattilingossa"
   ]
  },
  {
   "cell_type": "markdown",
   "metadata": {},
   "source": [
    "**Tehtävä**: Mittaa puhelimen normaalikiihtyvyys sekä kulmanopeus ja määritä salaattilingon säde. Tehtävän voi toteuttaa myös karusellissä pitämällä puhelinta paikallaan. Tällöin voidaan määrittää karusellin säde.\n",
    "\n",
    "**Tarvittavat välineet**:\n",
    "- puhelin, jossa phyphox-sovellus\n",
    "- salaattilinko (tai karuselli)\n",
    "- (teippiä, jos puhelin ei pysy paikallaan)\n",
    "- tietokone\n",
    "\n",
    "**Taustatiedot**: Normaalikiihtyvyys määritellään $a_n=\\frac{v^2}{r}$, missä $v$ on ratanopeus ja $r$ on radan säde. Vastaavasti ratanopeus määritellään $v=\\omega r$, missä $\\omega$ on kulmanopeus. Tällöin kappaleen normaalikiihtyvyys voidaan laskea seuraavasti: $a_n=r\\omega^2$. Mittaamalla kappaleen normaalikiihtyvyyden ja kulmanopeuden, voimme määrittää radan säteen."
   ]
  },
  {
   "cell_type": "markdown",
   "metadata": {},
   "source": [
    "<a id=\"pyörivä\"></a>\n",
    "### Pyörivä puhelin"
   ]
  },
  {
   "cell_type": "markdown",
   "metadata": {},
   "source": [
    "**Tehtävä**: Mittaa puhelimen kulmanopeus sekä pyörimisliikkeen säde ja määritä systeemin nopeus.\n",
    "\n",
    "**Tarvittavat välineet**:\n",
    "- puhelin, jossa phyphox-sovellus\n",
    "- putkilo, johon puhelin mahtuu\n",
    "- materiaalia tukemaan puhelinta, esim paperia\n",
    "- mittanauha tai viivain\n",
    "- tietokone\n",
    "\n",
    "\n",
    "**Taustatiedot**: Ratanopeus määritellään $v=\\omega r$, missä $\\omega$ on kulmanopeus ja $r$ on radan säde. Mittaamalla kappaleen kulmanopeuden sekä pyörimisliikkeen säteen, voimme määrittää ratanopeuden.\n",
    "\n",
    "Ohjeet:\n",
    "1. Etsi sopiva putkilo, johon saat puhelimesi mahtumaan (esim. Pringles-purkki) sekä esimerkiksi paperia puhelimen tueksi, jotta se pysyisi paikallaan. Varo vahingoittamasta puhelintasi mittauksen aikana!\n",
    "1. Mittaa putkilon säde.\n",
    "1. Valitse phyphoxin sensoreista _Gyroscope_.\n",
    "1. Aloita mittaus ja aseta puhelin tukevasti putkiloon.\n",
    "1. Aseta putkilo pyörimään esimerkiksi kaltevalle tasolle.\n",
    "1. Tuo data tietokoneelle.\n",
    "1. Piirrä putkilon nopeus $v$ ajan $t$ funktiona.\n",
    "1. Pohdi saamiasi tuloksia."
   ]
  },
  {
   "cell_type": "markdown",
   "metadata": {},
   "source": [
    "<a id=\"heiluri\"></a>\n",
    "### Heiluri"
   ]
  },
  {
   "cell_type": "markdown",
   "metadata": {},
   "source": [
    "**Tehtävä**: Mittaa puhelimen kiihtyvyys ja heilurin langan pituus ja määritä putoamiskiihtyvyys $g$.\n",
    "\n",
    "**Tarvittavat välineet**:\n",
    "- Puhelin, jossa phyphox-sovellus\n",
    "- narua\n",
    "- mittanauha tai viivain\n",
    "- (jotain, jolla saa puhelimen pysymään paikallaan kokeen ajan)\n",
    "- tietokone\n",
    "\n",
    "**Taustatiedot**: Heilurin jaksonaika määritellään $T=2\\pi\\sqrt{\\frac{l}{g}}$, missä $l$ on heilurin pituus ja $g$ on putoamiskiihtyvyys. Mittaamalla heilurin pituuden, sekä jaksonajan, voimme määrittää putoamiskiihtyvyyden. Heilurin jaksonajan voi määrittää esimerkiksi gyroskoopin avulla piirtämällä ($t,\\omega$)-kuvaajan."
   ]
  },
  {
   "cell_type": "markdown",
   "metadata": {},
   "source": [
    "### Valaistusvoimakkuus"
   ]
  },
  {
   "cell_type": "markdown",
   "metadata": {},
   "source": [
    "**Tehtävä**: Mittaa valaistusvoimakkuus eri etäisyyksillä valonlähteestä, sovita mittaustuloksiin kuvaaja ja pohdi valaistusvoimakkuuden riippuvuutta etäisyydestä.\n",
    "\n",
    "**Tarvittavat välineet**:\n",
    "- puhelin, jossa phyphox-sovellus\n",
    "- valonlähde\n",
    "- mittanauha tai viivain\n",
    "- tietokone\n",
    "\n",
    "**Taustatiedot**: "
   ]
  },
  {
   "cell_type": "markdown",
   "metadata": {},
   "source": [
    "<a id=\"värähtelijä\"></a>\n",
    "### Värähtelijä"
   ]
  },
  {
   "cell_type": "markdown",
   "metadata": {},
   "source": [
    "**Tehtävä**: Mittaa puhelimen kiihtyvyys ja värähtelijän (puhelimen) massa ja määritä jousen jousivakio $k$.\n",
    "\n",
    "**Tarvittavat välineet**:\n",
    "- puhelin, jossa phyphox-sovellus\n",
    "- jousi\n",
    "- vaaka\n",
    "- jotain, jolla kiinnittää puhelin jouseen \n",
    "- tietokone\n",
    "\n",
    "**Taustatiedot**: Värähtelijän jaksonaika määritellään $T=2\\pi\\sqrt{\\frac{m}{k}}$, missä $m$ on värähtelijän massa ja $k$ on jousen jousivakio. Mittaamalla värähtelijän kiihtyvyyden ja massan, voimme määrittää jousivakion. Värähtelijän jaksonajan voi määrittää esimerkiksi kiihtyvyysanturin avulla piirtämällä ($t,a$)-kuvaajan. Puhelin kannattaa saattaa värähtelemään pystysuunnassa, jolloin kiihtyvyyttä kuvaa parhaiten y-suuntainen komponentti."
   ]
  },
  {
   "cell_type": "markdown",
   "metadata": {},
   "source": [
    "<a id=\"analyysi\"></a>\n",
    "## Data-analyysi Pythonilla"
   ]
  },
  {
   "cell_type": "markdown",
   "metadata": {},
   "source": [
    "Esimerkkiprojekteissa on valmiit pohjat data-analyysin tekemiseen Pythonilla. Koodia voi kirjoittaa myös itse, jos haluaa tehdä jonkin täysin oman projektin tai muuten vain lisähaastetta data-analyysiin. Alla on listattu muutamia tärkeitä toimintoja ja ominaisuuksia, joita data-analyysissä tarvitaan (tiedoston lukeminen, laskutoimitukset ja kuvaajan piirtäminen). Lisää ohjeita löydät esimerkiksi [Pythonin](https://docs.python.org/3/) tai [pyplotin](https://matplotlib.org/api/pyplot_api.html) virallisista dokumentaatioista."
   ]
  },
  {
   "cell_type": "markdown",
   "metadata": {},
   "source": [
    "<a id=\"moduulit\"></a>\n",
    "### Moduulit"
   ]
  },
  {
   "cell_type": "code",
   "execution_count": null,
   "metadata": {},
   "outputs": [],
   "source": [
    "# Koodisolut voi ajaa valitsemalla solu aktiiviseksi ja painamalla CTRL+ENTER.\n",
    "\n",
    "# Import-komennolla tuodaan tarvittavat \"moduulit\", joita tarvitaan monimutkaisempien komentojen totetuttmaiseksi.\n",
    "\n",
    "# pandas-moduuli mahdollistaa mm. datatiedoston lukemisen. Lyhennettä pd käytetään, jotta joka kerta moduulia\n",
    "# käytettäessä ei tarvitse kirjoittaa koko nimeä pandas.\n",
    "import pandas as pd \n",
    "\n",
    "# numpy-moduuli mahdollistaa mm. matemaattiset laskutoimitukset.\n",
    "import numpy as np\n",
    "\n",
    "# matplotlib.pylab-moduuli mahdollistaa kuvaajien piirtämisen\n",
    "import matplotlib.pylab as plt"
   ]
  },
  {
   "cell_type": "markdown",
   "metadata": {},
   "source": [
    "<a id=\"laskut\"></a>\n",
    "### Laskutoimitukset"
   ]
  },
  {
   "cell_type": "code",
   "execution_count": null,
   "metadata": {},
   "outputs": [],
   "source": [
    "# Lasketaan esimerkiksi yksinkertainen laskutoimitus 3*5 ja tallennetaan tulos muuttujaan a:\n",
    "\n",
    "a = 3*5\n",
    "\n",
    "# Tämän jälkeen tulostetaan muuttujan a arvo \"print\"-komennolla. Lainausmerkeissä oleva teksti tulostetaan sellaiseneen,\n",
    "# muuttuja a tulostaa sen sisältämän arvon.\n",
    "\n",
    "print(\"a =\",a)\n",
    "\n",
    "# Koodisoluissa voidaan tehdä monimutkaisempia laskutoimituksia numpy-moduulin avulla.\n",
    "# Lasketaan luvun 4 neliöjuuri numpy-moduulin \"sqrt\"-komennolla ja tallennetaan se muuttujaan b:\n",
    "\n",
    "b = np.sqrt(5)\n",
    "\n",
    "print(\"b =\",b)\n",
    "\n",
    "# Kokeillaan vielä laskea muuttujien avulla värähtelijän jaksonaika T, kun tiedetään, että värähtelijän pituus\n",
    "# L = 0.5 m ja putoamiskiihtyvyys g = 9.81 m/s^2\n",
    "\n",
    "# Määritellään ensin muuttujat L ja g\n",
    "L = 0.5\n",
    "g = 9.81\n",
    "\n",
    "# Muodostetaan lauseke jaksonajalle T:\n",
    "# Luku pii saadaan komennolla \"np.pi\"\n",
    "\n",
    "T = 2*np.pi*np.sqrt(L/g)\n",
    "\n",
    "print(\"Jaksonaika T on\",T,\"s\")\n",
    "\n",
    "# Muita komentoja:\n",
    "\n",
    "# Neliöjuuri \"np.sqrt(luku)\"\n",
    "c = np.sqrt(16)\n",
    "print(\"Luvun 16 neliöjuuri on\",c)\n",
    "\n",
    "# Potenssiin korotus \"np.power(luku,eksponentti)\"\n",
    "d = np.power(4,2)\n",
    "print(\"4^2 =\",c)"
   ]
  },
  {
   "cell_type": "code",
   "execution_count": null,
   "metadata": {},
   "outputs": [],
   "source": [
    "# Kokeile laskutoimituksia tässä koodisolussa"
   ]
  },
  {
   "cell_type": "markdown",
   "metadata": {},
   "source": [
    "<a id=\"tiedosto\"></a>\n",
    "### Tiedoston lukeminen"
   ]
  },
  {
   "cell_type": "markdown",
   "metadata": {},
   "source": [
    "Näissä tehtävissä datatiedostot ovat .csv-tiedostoja. Niiden lukeminen pandas-moduulin avulla on helppoa."
   ]
  },
  {
   "cell_type": "code",
   "execution_count": null,
   "metadata": {
    "scrolled": true
   },
   "outputs": [],
   "source": [
    "# Luetaan tiedosto käyttäen hyväksi tiedostopolkua. Jos datatiedosto on samassa kansiossa, kuin tämä notebook-tiedosto,\n",
    "# pelkkä tiedoston nimi riittää.\n",
    "\n",
    "# Käytetään esimerkkinä tiedostoa \"Varahtelija.csv\", joka sijaitsee GitHub-hakemiston data-kansiossa.\n",
    "data = pd.read_csv(\"https://raw.githubusercontent.com/cms-opendata-education/cms-jupyter-materials-finnish/master/Data/Varahtelija.csv\")\n",
    "\n",
    "# Voimme katsoa, millaista dataa tiedosto sisältää käyttämällä \"head\"-funktiota\n",
    "data.head()"
   ]
  },
  {
   "cell_type": "code",
   "execution_count": null,
   "metadata": {},
   "outputs": [],
   "source": [
    "# Tiedosto sisältää dataa kiihtyvyyksistä ajan funktiona.\n",
    "# Oletetaan, että haluamme piirtää kokonaiskiihtyvyyden ajan funktiona, jolloin x-akselille tulee aika ja\n",
    "# y-akselille tulee kokonaiskiihtyvyys.\n",
    "# Saamme tallennettua x-akselin datan xdata-muuttujaan seuraavasti:\n",
    "xdata = data[\"Time (s)\"]\n",
    "\n",
    "# Vastaavasti y-akselin data:\n",
    "ydata = data[\"Absolute acceleration (m/s^2)\"]"
   ]
  },
  {
   "cell_type": "markdown",
   "metadata": {},
   "source": [
    "<a id=\"kuvaaja\"></a>\n",
    "### Kuvaajan piirtäminen"
   ]
  },
  {
   "cell_type": "code",
   "execution_count": null,
   "metadata": {},
   "outputs": [],
   "source": [
    "# Piirretään edellisessä kohdassa tallentamastamme datasta kuvaaja.\n",
    "\n",
    "# plot-komennolla voidaan piirtää kuvaaja seuraavasti:\n",
    "# kokeile myös kirjoittaa komennon \"plot\" sijasta \"scatter\"\n",
    "plt.plot(xdata,ydata)\n",
    "\n",
    "# Akselit ja kuvaaja otsikoidaan seuraavasti:\n",
    "plt.title(\"Kuvaajan otsikko\")\n",
    "plt.xlabel(\"x-akselin otsikko\")\n",
    "plt.ylabel(\"y-akselin otsikko\")\n",
    "\n",
    "# Näytetään kuvaaja koodisolun jälkeen show-komennolla\n",
    "plt.show()"
   ]
  },
  {
   "cell_type": "markdown",
   "metadata": {},
   "source": [
    "<a id=\"sovite\"></a>\n",
    "### Sovitteen tekeminen"
   ]
  },
  {
   "cell_type": "markdown",
   "metadata": {},
   "source": [
    "Luodaan edellisessä kohdassa piirtämällemme datalle sovite. Data vaikuttaa sinimuotoiselta, joten sovitetaan siihen sinikäyrä. Muunlaisia kuvaajia varten sovitefunktiota voi muuttaa ja asettaa siihen esimerkiksi polynomin tai eksponenttifunktion. Muista sovitteista on esimerkkejä projektipohjissa.\n",
    "\n",
    "Sovittamista varten meidän tulee luoda funktio, johon syötämme sinifunktion parametrit ja funktio palauttaa sinifunktion arvon kyseisillä parametreillä.\n",
    "\n",
    "Jos sovitteesi tulee olla muun kuin sinifunktion muotoinen, kokeile rohkeasti määrittää sovitteellesi funktio samaan tapaan kuin alla!"
   ]
  },
  {
   "cell_type": "code",
   "execution_count": null,
   "metadata": {},
   "outputs": [],
   "source": [
    "# Funktiolle tarvitaan parametreiksi x-koordinaatti x, amplitudi A, kulmataajuus omega sekä vaihetermi phi. \n",
    "\n",
    "def sin_wave(x, A, omega, phi, k):\n",
    "    return A * np.sin(omega * x + phi) + k\n",
    "\n",
    "# Seuraavaksi voimme tehdä itse sovitteen scipy-moduulin curve_fit funktiolla, joka tekee sovitteen\n",
    "# käyttäen pienimmän neliösumman menetelmää. Tätä varten tarvitsemme sopivat alkuarvaukset funktiomme\n",
    "# vakiotermeistä. Alkuarvaukset voi yrittää päätellä datan kuvaajasta.\n",
    "\n",
    "from scipy import optimize\n",
    "\n",
    "A = 10-np.mean(ydata)  # Amplitudi (Maksimi n.10. Amplitudi tällöin 10 - datan keskiarvo)\n",
    "omega = 2*np.pi*4      # Kulmataajuus = 2*pi*f (n. 4 värähdystä sekunnissa)\n",
    "phi = np.pi/2          # Vaihetermi (käyrä näyttää alkavan ylhäältä, joten vaihe n. pi/2)\n",
    "k = np.mean(ydata)     # Vakiotermi (poikkeama nollasta on likimain datan keskiarvo)\n",
    "\n",
    "# Luodaan sovite ja tallennetaan vakiot muuttujaan params.\n",
    "# curve_fit -funktioon syötetään funktio, datamme x ja y koordinaatit sekä alkuarvaukset.\n",
    "params, params_covariance = optimize.curve_fit(sin_wave, xdata, ydata, p0=[A, omega, phi, k])\n",
    "\n",
    "# Tulostetaan parametrit:\n",
    "print(\"Amplitudi A:\",params[0])\n",
    "print(\"Kulmataajuus omega:\", params[1])\n",
    "print(\"Vaihetermi phi:\",params[2])\n",
    "print(\"Vakiotermi k:\", params[3])"
   ]
  },
  {
   "cell_type": "code",
   "execution_count": null,
   "metadata": {},
   "outputs": [],
   "source": [
    "# Piirretään vielä kuvaaja sovitteesta ja datasta.\n",
    "\n",
    "plt.plot(xdata, ydata, label='Data')\n",
    "\n",
    "# Piirtääksemme sovitteen kuvaajan, käytämme sinifunktiota, jolle asetamme parametreiksi xdatan sekä\n",
    "# aiemmin curve_fit -funktiolla määrittämämme vakiot.\n",
    "plt.plot(xdata, sin_wave(xdata, params[0], params[1], params[2], params[3]), 'r-', label='Sovite')\n",
    "plt.legend(loc='best')\n",
    "plt.xlabel('x-akselin otsikko')\n",
    "plt.ylabel('y-akselin otsikko')\n",
    "plt.title('Kuvaajan otsikko')\n",
    "plt.show()"
   ]
  }
 ],
 "metadata": {
  "kernelspec": {
   "display_name": "Python 3",
   "language": "python",
   "name": "python3"
  },
  "language_info": {
   "codemirror_mode": {
    "name": "ipython",
    "version": 3
   },
   "file_extension": ".py",
   "mimetype": "text/x-python",
   "name": "python",
   "nbconvert_exporter": "python",
   "pygments_lexer": "ipython3",
   "version": "3.7.3"
  }
 },
 "nbformat": 4,
 "nbformat_minor": 2
}
