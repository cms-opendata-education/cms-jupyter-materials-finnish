{
 "cells": [
  {
   "cell_type": "markdown",
   "metadata": {},
   "source": [
    "# Oma projekti"
   ]
  },
  {
   "cell_type": "markdown",
   "metadata": {},
   "source": [
    "Suunnittele oma projekti, jossa keräät dataa Phyphox-sovelluksen avulla. Mieti, mitä puhelimen sensoria voisit mittauksessasi käyttää. Suunnittele ja toteuta mittaukset ja analysoi keräämäsi data ohjelmoimalla."
   ]
  },
  {
   "cell_type": "markdown",
   "metadata": {},
   "source": [
    "## 1. Projektin taustatiedot ja toteutus"
   ]
  },
  {
   "cell_type": "markdown",
   "metadata": {},
   "source": [
    "Kirjoita tähän, mitä projektissasi mitataan ja miten mittaukset suoritetaan. Voit myös yrittää ennustaa ennen mittauksia, mitä luulet tapahtuvan."
   ]
  },
  {
   "cell_type": "markdown",
   "metadata": {},
   "source": []
  },
  {
   "cell_type": "markdown",
   "metadata": {},
   "source": [
    "## 2. Piirrä datasta kuvaaja"
   ]
  },
  {
   "cell_type": "markdown",
   "metadata": {},
   "source": [
    "Tee datastasi kuvaaja käyttäen Python-ohjelmointia. Kuvaajan piirtämisen vaiheet ovat:\n",
    "1. Tuo tarvittavat Python-moduulit _import_-komennolla\n",
    "1. Lue datatiedosto _pandas_-moduulin *read_csv()*-funktiolla\n",
    "1. Piirrä kuvaaja _matplotlib.pylab_-moduulin avulla"
   ]
  },
  {
   "cell_type": "code",
   "execution_count": null,
   "metadata": {},
   "outputs": [],
   "source": []
  },
  {
   "cell_type": "markdown",
   "metadata": {},
   "source": [
    "## 3. Tulkitse kuvaaja"
   ]
  },
  {
   "cell_type": "markdown",
   "metadata": {},
   "source": [
    "Mitä kuvaajasi kertoo? Voitko tehdä kuvaajaan jonkinlaisen sovitteen?"
   ]
  },
  {
   "cell_type": "markdown",
   "metadata": {},
   "source": []
  },
  {
   "cell_type": "code",
   "execution_count": null,
   "metadata": {},
   "outputs": [],
   "source": []
  },
  {
   "cell_type": "markdown",
   "metadata": {},
   "source": [
    "## 4. Tee yhteenveto projektistasi"
   ]
  },
  {
   "cell_type": "markdown",
   "metadata": {},
   "source": []
  }
 ],
 "metadata": {
  "kernelspec": {
   "display_name": "Python 3",
   "language": "python",
   "name": "python3"
  },
  "language_info": {
   "codemirror_mode": {
    "name": "ipython",
    "version": 3
   },
   "file_extension": ".py",
   "mimetype": "text/x-python",
   "name": "python",
   "nbconvert_exporter": "python",
   "pygments_lexer": "ipython3",
   "version": "3.7.3"
  }
 },
 "nbformat": 4,
 "nbformat_minor": 2
}
