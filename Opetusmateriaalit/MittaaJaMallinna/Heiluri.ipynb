{
 "cells": [
  {
   "cell_type": "markdown",
   "metadata": {},
   "source": [
    "# Heiluri"
   ]
  },
  {
   "cell_type": "markdown",
   "metadata": {},
   "source": [
    "1. [Taustatietoa](#tausta)\n",
    "1. [Työohjeet](#ohjeet)\n",
    "1. [Datan analysointi](#tulokset)\n",
    "1. [Tulosten pohdinta](#pohdinta)\n",
    "1. [Yhteenveto](#yhteenveto)"
   ]
  },
  {
   "cell_type": "markdown",
   "metadata": {},
   "source": [
    "<a id=\"tausta\"></a>\n",
    "## 1. Taustatietoa"
   ]
  },
  {
   "cell_type": "markdown",
   "metadata": {},
   "source": [
    "<img src=\"https://github.com/cms-opendata-education/cms-jupyter-materials-finnish/blob/master/Kuvat/Oscillating_pendulum.gif?raw=true\" alt=\"Harmoninen värähtelijä\" width=\"250\" align=\"right\" />\n",
    "Heiluri on systeemi, jossa massa liikkuu toisesta päästä kiinnitetyn langan tai jäykän varren varassa. Heilahdusliikettä ylläpitää painovoima.\n",
    "\n",
    "Tämän projektin tarkoituksena on mitata heilurin kulmanopeus ja sen avulla määrittää heilahdusliikkeen jaksonaika. Jaksonaika voidaan esittää muodossa\n",
    "\n",
    "$T=2\\pi\\sqrt{\\frac{L}{g}}$, missä $L$ on heilurin varren pituus ja $g$ putoamiskiihtyvyys.\n",
    "\n",
    "Kun vielä mittaamme heilurin varren pituuden, voimme laskea putoamiskiihtyvyyden.\n",
    "\n",
    "Lähde: https://fi.wikipedia.org/wiki/Heiluri"
   ]
  },
  {
   "cell_type": "markdown",
   "metadata": {},
   "source": [
    "<a id=\"ohjeet\"></a>\n",
    "## 2. Työohjeet"
   ]
  },
  {
   "cell_type": "markdown",
   "metadata": {},
   "source": [
    "1. Kiinnitä puhelin naruun.\n",
    "1. Valitse phyphoxin _Pendulum_-koe tai pelkkä gyroskooppi-sensori.\n",
    "1. Aloita mittaus ja saata puhelin heilumaan narun varassa. Huom. pidä heilurin kulma pienenä, jotta mittaustulokset olisivat tarkempia. Pyri myös siihen, että puhelin ei juurikaan heiluisi (luovuutta kehiin!).\n",
    "1. Tuo data tietokoneelle."
   ]
  },
  {
   "cell_type": "markdown",
   "metadata": {},
   "source": [
    "<a id=\"tulokset\"></a>\n",
    "## 3. Datan analysointi"
   ]
  },
  {
   "cell_type": "markdown",
   "metadata": {},
   "source": [
    "Seuraavat solut ovat koodisoluja. Voit \"ajaa\" koodisolun valitsemalla solun aktiiviseksi ja painamalla CTRL+ENTER. Tällöin solu suorittaa sille kirjatut tehtävät. Osa soluista on valmiiksi tehty, joten sinun tarvitsee vain ajaa ne. Osassa soluista on ohje, mihin sinun tulee täydentää tietyt kohdat, jotta solu toimii. Koodisoluissa #-merkillä alkavat rivit ovat kommenttirivejä, jotka eivät vaikuta itse koodiin, vaan sisältävät ohjeita ja tietoa koodisolun toiminnasta."
   ]
  },
  {
   "cell_type": "code",
   "execution_count": null,
   "metadata": {},
   "outputs": [],
   "source": [
    "# Tämä solu tuo tarvittavat \"moduulit\", jotta Python osaa piirtää kuvaajia, lukea tiedostoja sekä tehdä\n",
    "# matemaattisia laskutoimituksia.\n",
    "\n",
    "import matplotlib.pylab as plt\n",
    "import pandas as pd\n",
    "import numpy as np"
   ]
  },
  {
   "cell_type": "code",
   "execution_count": null,
   "metadata": {},
   "outputs": [],
   "source": [
    "### TÄYDENNÄ ###\n",
    "\n",
    "# Luetaan tiedosto, joka sisältää keräämämme datan.\n",
    "# Kirjoita sulkeiden sisään datatiedoston polku lainausmerkeissä, esim. data = pd.read_csv(\"Tiedostot/data.csv\").\n",
    "\n",
    "data = pd.read_csv()"
   ]
  },
  {
   "cell_type": "code",
   "execution_count": null,
   "metadata": {},
   "outputs": [],
   "source": [
    "# Katso, millaista dataa tiedosto sisältää ajamalla tämä koodisolu\n",
    "\n",
    "data.head()"
   ]
  },
  {
   "cell_type": "code",
   "execution_count": null,
   "metadata": {},
   "outputs": [],
   "source": [
    "### TÄYDENNÄ ###\n",
    "\n",
    "# Katso edellisestä tulosteesta x- ja y-akselien datan otsikko ja täydennä ne lainausmerkeissä alla oleviin muuttujiin.\n",
    "# Esim. xdata = data[\"Time (s)\"]\n",
    "\n",
    "xdata = data[]\n",
    "ydata = data[]"
   ]
  },
  {
   "cell_type": "code",
   "execution_count": null,
   "metadata": {
    "scrolled": false
   },
   "outputs": [],
   "source": [
    "### TÄYDENNÄ ###\n",
    "\n",
    "# Tämä koodisolu piirtää kuvaajan datasta.\n",
    "# Lisää title-kohtaan otsikko, xlabel-kohtaan x-akselin otsikko ja ylabel-kohtaan y-akselin otsikko\n",
    "# Muista lainausmerkit!\n",
    "\n",
    "plt.scatter(xdata,ydata, label='Data')\n",
    "plt.title()\n",
    "plt.xlabel()\n",
    "plt.ylabel()\n",
    "\n",
    "plt.show()"
   ]
  },
  {
   "cell_type": "markdown",
   "metadata": {},
   "source": [
    "Datan pitäisi nyt näyttää hieman sinikäyrän muotoiselta. Voit määrittää heilurin jaksonajan suoraan kuvaajasta katsomalla, jolloin voit skipata kolme seuraavaa koodisolua. Jos kuitenkin haluat haastetta ja kokeilla tieteellisempää tapaa, jatka tästä.\n",
    "\n",
    "Yleisesti sinifunktio on muotoa $f=A\\sin{(\\omega t+\\phi)}$, missä $A$ on amplitudi, $\\omega$ on kulmataajuus ja $\\phi$ vaihetermi. Sovitetaan saamaasi kuvaajaan tämänmuotoinen sinifunktio pienimmän neliösumman menetelmällä. Tavoitteenamme on määrittää jaksonaika sovitetun sinifunktion yhtälöstä."
   ]
  },
  {
   "cell_type": "code",
   "execution_count": null,
   "metadata": {},
   "outputs": [],
   "source": [
    "### TÄYDENNÄ ###\n",
    "\n",
    "# Tässä koodisolussa luodaan testifunktio pienimmän neliösumman menetelmää varten ja etsitään optimaaliset parametrit\n",
    "# sinifunktiolle.\n",
    "\n",
    "# Tarvitsemme kuitenkin alkuarvaukset amplitudille, kulmataajuudelle ja vaihetermille.\n",
    "# Päättele kuvaajasta sopivat arvaukset ja täydennä ne alle.\n",
    "\n",
    "A =               # Amplitudi\n",
    "omega =           # Kulmataajuus\n",
    "phi =             # Vaihetermi\n",
    "\n",
    "from scipy import optimize\n",
    "\n",
    "def sin_wave(x, A, omega, phi):\n",
    "    return A * np.sin(omega * x + phi)\n",
    "\n",
    "params, params_covariance = optimize.curve_fit(sin_wave, xdata, ydata, p0=[A, omega, phi])"
   ]
  },
  {
   "cell_type": "code",
   "execution_count": null,
   "metadata": {},
   "outputs": [],
   "source": [
    "### TÄYDENNÄ ###\n",
    "\n",
    "# Piirretään vielä kuvaaja sovitteesta ja datasta.\n",
    "# Täydennä alle kuvaajan otsikko, sekä akseleiden otsikot.\n",
    "\n",
    "plt.scatter(xdata, ydata, label='Data')\n",
    "plt.plot(xdata, sin_wave(xdata, params[0], params[1], params[2]), 'r-', label='Sovite')\n",
    "plt.legend(loc='best')\n",
    "plt.title()\n",
    "plt.xlabel()\n",
    "plt.ylabel()\n",
    "plt.show()"
   ]
  },
  {
   "cell_type": "code",
   "execution_count": null,
   "metadata": {},
   "outputs": [],
   "source": [
    "### TÄYDENNÄ ###\n",
    "\n",
    "# Seuraavaksi tulisi laskea kulmataajuuden avulla heilahdusliikkeen jaksonaika.\n",
    "# Kulmataajuuden saamme aiemmin tekemästämme sovitteesta. Tallennetaan se muuttujaan omega.\n",
    "\n",
    "omega = params[1]\n",
    "\n",
    "# Kirjoita koodi, jolla lasket heilahdusliikkeen jaksonajan.\n",
    "# HUOM! laskutoimitukseen saat piin kirjoittamlla 'np.pi' ja toisen potenssin kirjoittamalla 'np.power(luku,potenssi)'\n",
    "# esimerkiksi luvun 5 toinen potenssi olisi 'np.power(5,2)'.\n",
    "# Tallenna jaksonaika muuttujaan T.\n",
    "\n",
    "T = \n",
    "\n",
    "# Tulostetaan vielä jaksonajan arvo. Katso, onko tulos järkevä.\n",
    "print(T)"
   ]
  },
  {
   "cell_type": "code",
   "execution_count": null,
   "metadata": {},
   "outputs": [],
   "source": [
    "### TÄYDENNÄ ###\n",
    "# Jos teit sinifunktion sovitteen dataan, voit skipata tämän solun.\n",
    "\n",
    "# Kirjaa kuvaajasta lukemasi jaksonajan arvo muuttujaan T:\n",
    "\n",
    "T = "
   ]
  },
  {
   "cell_type": "code",
   "execution_count": null,
   "metadata": {},
   "outputs": [],
   "source": [
    "### Täydennä ###\n",
    "\n",
    "# Mittaa ja kirjaa ylös heilurin langan pituus L metreinä.\n",
    "\n",
    "L = \n",
    "\n",
    "# Muodosta lauseke putoamiskiihtyvyydelle ja laske se.\n",
    "# HUOM! laskutoimitukseen saat piin kirjoittamlla 'np.pi' ja toisen potenssin kirjoittamalla 'np.power(luku,potenssi)'\n",
    "# esimerkiksi luvun 5 toinen potenssi olisi 'np.power(5,2)'.\n",
    "# Tallenna putoamiskiihtyvyys muuttujaan g.\n",
    "\n",
    "g = "
   ]
  },
  {
   "cell_type": "code",
   "execution_count": null,
   "metadata": {},
   "outputs": [],
   "source": [
    "# Tulostetaan laskemamme putoamiskiihtyvyyden arvo:\n",
    "\n",
    "print(g)"
   ]
  },
  {
   "cell_type": "markdown",
   "metadata": {},
   "source": [
    "<a id=\"pohdinta\"></a>\n",
    "## 4. Tulosten pohdinta"
   ]
  },
  {
   "cell_type": "markdown",
   "metadata": {},
   "source": [
    "Pohdi saamaasi tulosta. Vastaako se oikeaa putoamiskiihtyvyyden arvoa? Mistä eroavaisuudet voisivat johtua? Miten mittausta voisi parantaa?"
   ]
  },
  {
   "cell_type": "markdown",
   "metadata": {},
   "source": [
    "<a id=\"yhteenveto\"></a>\n",
    "## 5. Yhteenveto"
   ]
  },
  {
   "cell_type": "markdown",
   "metadata": {},
   "source": [
    "Kirjoita vielä lyhyt yhteenveto työstäsi."
   ]
  }
 ],
 "metadata": {
  "kernelspec": {
   "display_name": "Python 3",
   "language": "python",
   "name": "python3"
  },
  "language_info": {
   "codemirror_mode": {
    "name": "ipython",
    "version": 3
   },
   "file_extension": ".py",
   "mimetype": "text/x-python",
   "name": "python",
   "nbconvert_exporter": "python",
   "pygments_lexer": "ipython3",
   "version": "3.7.3"
  }
 },
 "nbformat": 4,
 "nbformat_minor": 2
}
