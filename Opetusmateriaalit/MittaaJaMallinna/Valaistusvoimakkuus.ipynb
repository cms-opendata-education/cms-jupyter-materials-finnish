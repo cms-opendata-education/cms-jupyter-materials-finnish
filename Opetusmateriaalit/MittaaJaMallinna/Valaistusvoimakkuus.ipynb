{
 "cells": [
  {
   "cell_type": "markdown",
   "metadata": {},
   "source": [
    "# Valaistusvoimakkuus"
   ]
  },
  {
   "cell_type": "markdown",
   "metadata": {},
   "source": [
    "1. [Taustatietoa](#tausta)\n",
    "1. [Työohjeet](#ohjeet)\n",
    "1. [Datan analysointi](#tulokset)\n",
    "1. [Tulosten pohdinta](#pohdinta)\n",
    "1. [Yhteenveto](#yhteenveto)"
   ]
  },
  {
   "cell_type": "markdown",
   "metadata": {},
   "source": [
    "<a id=\"tausta\"></a>\n",
    "## 1. Taustatietoa"
   ]
  },
  {
   "cell_type": "markdown",
   "metadata": {},
   "source": [
    "<img src=\"https://github.com/cms-opendata-education/cms-jupyter-materials-finnish/blob/master/Kuvat/lightbulb.jpg?raw=true\" alt=\"Hehkulamppu\" width=\"150\" align=\"right\" />\n",
    "Tämän työn tarkoituksena on tutkia sitä, miten valaistusvoimakkuus riippuu etäisyydestä. Valaistusvoimakkuutta voi mitata esimerkiksi älypuhelimella Phyphox-sovelluksen avulla.\n",
    "<br>\n",
    "<br>\n",
    "Tässä harjoituksessa opit:\n",
    "\n",
    "- Data-analyysi Pythonilla\n",
    "- Kuvaajan piirtäminen\n",
    "- Sovitteen tekeminen\n",
    "- Ekstrapolointi"
   ]
  },
  {
   "cell_type": "markdown",
   "metadata": {},
   "source": [
    "<a id=\"ohjeet\"></a>\n",
    "## 2. Työohjeet"
   ]
  },
  {
   "cell_type": "markdown",
   "metadata": {},
   "source": [
    "1. Parhaan tuloksen saa, kun tekee kokeen pimeässä huoneessa, jossa on yksi valonlähde.\n",
    "1. Valitse Phyphox-sovelluksesta _Light_-sensorin _SIMPLE_-osio.\n",
    "1. Mittaa valaistusvoimakkuus eri etäisyyksillä valonlähteestä. Merkitse ylös aina etäisyys sekä sitä vastaava valaistusvoimakkuus.\n",
    "1. Mittaa valaistusvoimakkuus vähintään 10:llä eri etäisyydellä valonlähteestä."
   ]
  },
  {
   "cell_type": "markdown",
   "metadata": {},
   "source": [
    "<a id=\"tulokset\"></a>\n",
    "## 3. Datan analysointi"
   ]
  },
  {
   "cell_type": "markdown",
   "metadata": {},
   "source": [
    "Seuraavat solut ovat koodisoluja. Voit \"ajaa\" koodisolun valitsemalla solun aktiiviseksi ja painamalla CTRL+ENTER. Tällöin solu suorittaa sille kirjatut tehtävät. Osa soluista on valmiiksi tehty, joten sinun tarvitsee vain ajaa ne. Osassa soluista on ohje, mihin sinun tulee täydentää tietyt kohdat, jotta solu toimii. Koodisoluissa #-merkillä alkavat rivit ovat kommenttirivejä, jotka eivät vaikuta itse koodiin, vaan sisältävät ohjeita ja tietoa koodisolun toiminnasta."
   ]
  },
  {
   "cell_type": "code",
   "execution_count": null,
   "metadata": {},
   "outputs": [],
   "source": [
    "### TÄYDENNÄ ###\n",
    "\n",
    "# Merkitse alle mittaustulokset.\n",
    "\n",
    "etäisyys = []\n",
    "valaistusvoimakkuus = []\n",
    "\n",
    "# Esimerkki: Jos tuloksesi ovat seuraavanlaiset\n",
    "\n",
    "#    Valaistusvoimakkuus    Etäisyys\n",
    "#          1000 lx           0.10m\n",
    "#          250 lx            0.20m\n",
    "#          62.5 lx           0.40m\n",
    "\n",
    "# tulisi yllä oleviin kohtiin laittaa:\n",
    "# etäisyys = [0.10, 0.20, 0.30]\n",
    "# valaistusvoimakkuus = [100, 250, 62.5]"
   ]
  },
  {
   "cell_type": "code",
   "execution_count": null,
   "metadata": {},
   "outputs": [],
   "source": [
    "# Tämä solu tuo tarvittavat \"moduulit\", jotta Python osaa piirtää kuvaajia sekä tehdä\n",
    "# matemaattisia laskutoimituksia.\n",
    "\n",
    "import matplotlib.pylab as plt\n",
    "import pandas as pd\n",
    "import numpy as np"
   ]
  },
  {
   "cell_type": "code",
   "execution_count": null,
   "metadata": {
    "scrolled": false
   },
   "outputs": [],
   "source": [
    "### TÄYDENNÄ ###\n",
    "\n",
    "# Tämä koodisolu piirtää kuvaajan valaistusvoimakkuudesta etäisyyden funktiona.\n",
    "# Lisää title-kohtaan otsikko, xlabel-kohtaan x-akselin otsikko ja ylabel-kohtaan y-akselin otsikko\n",
    "# Muista kirjoittaa otsikot lainausmerkkien sisään.\n",
    "\n",
    "plt.scatter(etäisyys, valaistusvoimakkuus, label='Data')\n",
    "plt.title(\"\")\n",
    "plt.xlabel(\"\")\n",
    "plt.ylabel(\"\")\n",
    "\n",
    "plt.show()"
   ]
  },
  {
   "cell_type": "code",
   "execution_count": null,
   "metadata": {},
   "outputs": [],
   "source": [
    "# Kuvaajastasi voi ehkä huomata, että valaistusvoimakkuus heikkenee suhteessa etäisyyden neliöön.\n",
    "# Tällöin voimme kokeilla sovittaa datapisteisiin sovitteen, joka on muotoa a/(b*r²), missä a ja b ovat vakioita ja r on etäisyys.\n",
    "# Tämä koodisolu laskee sovitteen parametrit, joita tarvitaan seuraavassa koodisolussa sovitteen piirtämiseen.\n",
    "\n",
    "from scipy import optimize\n",
    "\n",
    "def sovite(x, a, b, y0):\n",
    "    return a / (b*np.power(x,2)) + y0\n",
    "\n",
    "params, params_covariance = optimize.curve_fit(sovite, etäisyys, valaistusvoimakkuus)"
   ]
  },
  {
   "cell_type": "code",
   "execution_count": null,
   "metadata": {},
   "outputs": [],
   "source": [
    "### TÄYDENNÄ ###\n",
    "\n",
    "# Piirretään kuvaaja sovitteesta ja datasta.\n",
    "# Täydennä alle kuvaajan otsikko, sekä akseleiden otsikot.\n",
    "# Tutustu myös siihen, mitä muut koodirivit tekevät.\n",
    "\n",
    "# Alustetaan kuvan piirtäminne ja määritetään kuvan koko\n",
    "plt.figure(figsize=(18,12))\n",
    "\n",
    "# Piirretään datapisteet. Scatter-funktio piirtää datan yksittäisinä pisteinä.\n",
    "plt.scatter(etäisyys, valaistusvoimakkuus, label='Data')\n",
    "\n",
    "# Määritellään sovitetta varten 100 kappaletta x-koordinaatteja ensimmäisen ja viimeisen datapisteen väliltä.\n",
    "x_sovite = np.linspace(min(etäisyys),max(etäisyys),100)\n",
    "\n",
    "# Piirretään sovite. params[0] vastaa sovitteen vakiota a ja params[1] vakiota b.\n",
    "plt.plot(x_sovite, sovite(x_sovite, params[0], params[1], params[2]), 'r-', label='Sovite')\n",
    "\n",
    "# Kuvaajan muotoilut ja otsikot\n",
    "plt.legend(loc='best')\n",
    "plt.title(\"\")\n",
    "plt.xlabel(\"\")\n",
    "plt.ylabel(\"\")\n",
    "plt.show()"
   ]
  },
  {
   "cell_type": "markdown",
   "metadata": {},
   "source": [
    "Seuraavaksi tehtävänäsi on tehdä ennuste, mikä on valaistusvoimakkuuden arvo, kun etäisyys on kaksi kertaa niin suuri kuin suurin mittaamasi etäisyys. Tee ennuste [ekstrapoloimalla](https://fi.wikipedia.org/wiki/Numeerinen_analyysi#Interpolointi,_ekstrapolointi_ja_regressio) kuvaajaasi (voit muokata edellistä kuvaajaa tai tehdä uuden alla olevana koodisoluun). Tutki, mitä eri parametrit kuvaajaa piirrettäessä tekevät ja saat selville, miten voit ekstrapoloida kuvaajaasi.\n",
    "\n",
    "<details>\n",
    "    <summary>$\\color{red}{\\text{Vinkki}}$</summary>\n",
    "    \n",
    "    1. Ekstrapoloinnin voit tehdä muuttamalla seuraavaa riviä kuvaajaa piirrettäessä:\n",
    "        \n",
    "           x_sovite = np.linspace(min(etäisyys),max(etäisyys)*2,100)\n",
    "    \n",
    "       Koodirivissä min(etäisyys) ja max(etäisyys) määrittävät minimi- ja maksimietäisyydet, joilla sovite piirretään.\n",
    "       Näiden tilalle voidaan laittaa myös tietyt lukuarvot, tai niitä voidaan kertoa jollain luvulla.\n",
    "    \n",
    "    2. Lukuarvon valaistusvoimakkuudelle voit yrittää lukea kuvaajasta tai laskea sen koodisolussa kirjoittamalla\n",
    "    \n",
    "           sovite(x-koordinaatti, params[0], params[1])\n",
    "    \n",
    "       jossa syötät halutun x-koordinaatin tekstin tilalle.\n",
    "    \n",
    "</details>"
   ]
  },
  {
   "cell_type": "code",
   "execution_count": null,
   "metadata": {},
   "outputs": [],
   "source": []
  },
  {
   "cell_type": "markdown",
   "metadata": {},
   "source": [
    "<a id=\"pohdinta\"></a>\n",
    "## 4. Tulosten pohdinta"
   ]
  },
  {
   "cell_type": "markdown",
   "metadata": {},
   "source": [
    "Sopiiko sovite hyvin dataan? Mistä mahdolliset eroavaisuudet voisivat johtua? Vastaavatko mittaustulokset teoriaa valaistusvoimakkuuden ja etäisyyden yhteydestä? Miten mittausta voisi parantaa? Muodosta havaintojesi perusteella lauseke valaistusvoimakkuudelle etäisyyden funktiona."
   ]
  },
  {
   "cell_type": "markdown",
   "metadata": {},
   "source": [
    "<a id=\"yhteenveto\"></a>\n",
    "## 5. Yhteenveto"
   ]
  },
  {
   "cell_type": "markdown",
   "metadata": {},
   "source": [
    "Kirjoita vielä lyhyt yhteenveto työstäsi."
   ]
  }
 ],
 "metadata": {
  "kernelspec": {
   "display_name": "Python 3",
   "language": "python",
   "name": "python3"
  },
  "language_info": {
   "codemirror_mode": {
    "name": "ipython",
    "version": 3
   },
   "file_extension": ".py",
   "mimetype": "text/x-python",
   "name": "python",
   "nbconvert_exporter": "python",
   "pygments_lexer": "ipython3",
   "version": "3.7.3"
  }
 },
 "nbformat": 4,
 "nbformat_minor": 2
}
