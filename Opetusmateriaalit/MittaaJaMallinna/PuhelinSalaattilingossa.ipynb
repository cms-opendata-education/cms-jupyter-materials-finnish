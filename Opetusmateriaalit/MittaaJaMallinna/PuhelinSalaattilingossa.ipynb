{
 "cells": [
  {
   "cell_type": "markdown",
   "metadata": {},
   "source": [
    "# Puhelin salaattilingossa"
   ]
  },
  {
   "cell_type": "markdown",
   "metadata": {},
   "source": [
    "1. [Taustatietoa](#tausta)\n",
    "1. [Työohjeet](#ohjeet)\n",
    "1. [Datan analysointi](#tulokset)\n",
    "1. [Tulosten pohdinta](#pohdinta)\n",
    "1. [Yhteenveto](#yhteenveto)"
   ]
  },
  {
   "cell_type": "markdown",
   "metadata": {},
   "source": [
    "<a id=\"tausta\"></a>\n",
    "## 1. Taustatietoa"
   ]
  },
  {
   "cell_type": "markdown",
   "metadata": {},
   "source": [
    "Tässä työssä tarkoituksena on tutkia puhelimen kiihtyvyyttä ja kulmanopeutta, kun puhelinta pyöritetään salaattilingossa. \n",
    "Puhelimen liikkuessa salaattilingossa, puhelimella on normaalikiihtyvyyttä $a_n$. Normaalikiihtyvyys voidaan esittää muodossa \n",
    "\n",
    "$a_n = \\frac{v^2}{r}$, missä $v$ on ratanopeudja $r$ radan säde.\n",
    "\n",
    "Lisäksi ratanopeuden yhteys kulmanopeuteen on $v=\\omega r$, missä $\\omega$ on kulmanopeus. Tällöin voimme kirjoittaa normaalikiihtyvyyden seuraavasti\n",
    "\n",
    "$a_n = \\frac{v^2}{r} = r \\omega^2$.\n",
    "\n",
    "Mittaamalla siis kiihtyvyyden ja kulmanopeuden, saamme selville ympyräliikkeen radan säteen."
   ]
  },
  {
   "cell_type": "markdown",
   "metadata": {},
   "source": [
    "<a id=\"ohjeet\"></a>\n",
    "## 2. Työohjeet"
   ]
  },
  {
   "cell_type": "markdown",
   "metadata": {},
   "source": [
    "1. Aseta puhelin salaattilinkoon.\n",
    "1. Valitse phyphoxin _Centripetal acceleration_ -koe, joka mittaa puhelimen kiihtyvyyttä ja kulmanopeutta.\n",
    "1. Aloita mittaus pyörittele puhelinta salattilingossa. Varmista, että puhelin ei pääse heilumaan.\n",
    "1. Tuo data tietokoneelle."
   ]
  },
  {
   "cell_type": "markdown",
   "metadata": {},
   "source": [
    "<a id=\"tulokset\"></a>\n",
    "## 3. Datan analysointi"
   ]
  },
  {
   "cell_type": "markdown",
   "metadata": {},
   "source": [
    "Seuraavat solut ovat koodisoluja. Voit \"ajaa\" koodisolun valitsemalla solun aktiiviseksi ja painamalla CTRL+ENTER. Tällöin solu suorittaa sille kirjatut tehtävät. Osa soluista on valmiiksi tehty, joten sinun tarvitsee vain ajaa ne. Osassa soluista on ohje, mihin sinun tulee täydentää tietyt kohdat, jotta solu toimii. Koodisoluissa #-merkillä alkavat rivit ovat kommenttirivejä, jotka eivät vaikuta itse koodiin, vaan sisältävät ohjeita ja tietoa koodisolun toiminnasta."
   ]
  },
  {
   "cell_type": "code",
   "execution_count": 1,
   "metadata": {},
   "outputs": [],
   "source": [
    "# Tämä solu tuo tarvittavat \"moduulit\", jotta Python osaa piirtää kuvaajia, lukea tiedostoja sekä tehdä\n",
    "# matemaattisia laskutoimituksia.\n",
    "\n",
    "import matplotlib.pylab as plt\n",
    "import pandas as pd\n",
    "import numpy as np"
   ]
  },
  {
   "cell_type": "code",
   "execution_count": 2,
   "metadata": {},
   "outputs": [],
   "source": [
    "### TÄYDENNÄ ###\n",
    "\n",
    "# Luetaan tiedosto, joka sisältää keräämämme datan.\n",
    "# Kirjoita sulkeiden sisään datatiedoston polku lainausmerkeissä, esim. data = pd.read_csv(\"Tiedostot/data.csv\").\n",
    "\n",
    "data = pd.read_csv(\"Data/Salaattilinko.csv\")"
   ]
  },
  {
   "cell_type": "code",
   "execution_count": 3,
   "metadata": {},
   "outputs": [
    {
     "data": {
      "text/html": [
       "<div>\n",
       "<style scoped>\n",
       "    .dataframe tbody tr th:only-of-type {\n",
       "        vertical-align: middle;\n",
       "    }\n",
       "\n",
       "    .dataframe tbody tr th {\n",
       "        vertical-align: top;\n",
       "    }\n",
       "\n",
       "    .dataframe thead th {\n",
       "        text-align: right;\n",
       "    }\n",
       "</style>\n",
       "<table border=\"1\" class=\"dataframe\">\n",
       "  <thead>\n",
       "    <tr style=\"text-align: right;\">\n",
       "      <th></th>\n",
       "      <th>Time (s)</th>\n",
       "      <th>Angular velocity (rad/s)</th>\n",
       "      <th>Acceleration (m/s^2)</th>\n",
       "    </tr>\n",
       "  </thead>\n",
       "  <tbody>\n",
       "    <tr>\n",
       "      <th>0</th>\n",
       "      <td>0.504215</td>\n",
       "      <td>27.366561</td>\n",
       "      <td>21.079698</td>\n",
       "    </tr>\n",
       "    <tr>\n",
       "      <th>1</th>\n",
       "      <td>1.011987</td>\n",
       "      <td>28.591771</td>\n",
       "      <td>28.669575</td>\n",
       "    </tr>\n",
       "    <tr>\n",
       "      <th>2</th>\n",
       "      <td>1.520997</td>\n",
       "      <td>30.321335</td>\n",
       "      <td>30.891895</td>\n",
       "    </tr>\n",
       "    <tr>\n",
       "      <th>3</th>\n",
       "      <td>2.027594</td>\n",
       "      <td>32.905443</td>\n",
       "      <td>36.564282</td>\n",
       "    </tr>\n",
       "    <tr>\n",
       "      <th>4</th>\n",
       "      <td>2.536551</td>\n",
       "      <td>32.194765</td>\n",
       "      <td>33.983537</td>\n",
       "    </tr>\n",
       "  </tbody>\n",
       "</table>\n",
       "</div>"
      ],
      "text/plain": [
       "   Time (s)  Angular velocity (rad/s)  Acceleration (m/s^2)\n",
       "0  0.504215                 27.366561             21.079698\n",
       "1  1.011987                 28.591771             28.669575\n",
       "2  1.520997                 30.321335             30.891895\n",
       "3  2.027594                 32.905443             36.564282\n",
       "4  2.536551                 32.194765             33.983537"
      ]
     },
     "execution_count": 3,
     "metadata": {},
     "output_type": "execute_result"
    }
   ],
   "source": [
    "# Katso, millaista dataa tiedosto sisältää ajamalla tämä koodisolu\n",
    "\n",
    "data.head()"
   ]
  },
  {
   "cell_type": "code",
   "execution_count": 4,
   "metadata": {},
   "outputs": [],
   "source": [
    "### TÄYDENNÄ ###\n",
    "\n",
    "# Katso edellisestä tulosteesta kulmanopeudet sisältävän datan otsikko ja täydennä ne lainausmerkeissä alla olevaan muuttujaan\n",
    "# \"omega\".\n",
    "\n",
    "omega = data[\"Angular velocity (rad/s)\"]\n",
    "\n",
    "# Kuten taustatietoa-osiossa totesimme, haluamme piirtää normaalikiihtyvyyden kulmanopeuden neliön funktiona.\n",
    "# Laske kulmanopeuden neliö ja tallenna se muuttujaan \"xdata\". Potenssiin korotus onnistuu np.power(luku,eksponentti) -funktiolla.\n",
    "\n",
    "xdata = np.power(omega,2)\n",
    "\n",
    "# Täydennä vielä y-akselille tuleva kiihtyvyys.\n",
    "\n",
    "ydata = data[\"Acceleration (m/s^2)\"]"
   ]
  },
  {
   "cell_type": "code",
   "execution_count": 5,
   "metadata": {
    "scrolled": false
   },
   "outputs": [
    {
     "data": {
      "image/png": "[encoded data removed]",
      "text/plain": [
       "<Figure size 432x288 with 1 Axes>"
      ]
     },
     "metadata": {
      "needs_background": "light"
     },
     "output_type": "display_data"
    }
   ],
   "source": [
    "### TÄYDENNÄ ###\n",
    "\n",
    "# Tämä koodisolu piirtää kuvaajan datasta.\n",
    "# Lisää title-kohtaan otsikko, xlabel-kohtaan x-akselin otsikko ja ylabel-kohtaan y-akselin otsikko\n",
    "# Muista lainausmerkit!\n",
    "\n",
    "plt.scatter(xdata,ydata, label='Data')\n",
    "plt.title(\"Kiihtyvyys kulmanopeuden neliön funktiona\")\n",
    "plt.xlabel(\"Kulmanopeuden neliö (rad^2/s^2)\")\n",
    "plt.ylabel(\"Kiihtyvyys (m/s^2)\")\n",
    "\n",
    "plt.show()"
   ]
  },
  {
   "cell_type": "markdown",
   "metadata": {},
   "source": [
    "Datapisteiden pitäisi nyt asettua siististi suoralle. Voimme siis sovittaa datapisteisiin suoran."
   ]
  },
  {
   "cell_type": "code",
   "execution_count": 7,
   "metadata": {},
   "outputs": [],
   "source": [
    "# Tässä koodisolussa luodaan suoran yhtälö \"suora\", sekä luodaan sovite datapisteisiin.\n",
    "\n",
    "def suora(x, k, b):\n",
    "    return k*x + b\n",
    "\n",
    "# Tämä koodisolu sovittaa dataan ensimmäisen asteen polynomin (suoran) ja tallentaa params -muuttujaan\n",
    "# suoran kulmakertoimen k sekä vakiotermin b.\n",
    "# Vastedes niihin voi viitata koodissa kirjoittamalla params[0] ja params[1].\n",
    "\n",
    "params = np.polyfit(xdata, ydata, 1)"
   ]
  },
  {
   "cell_type": "code",
   "execution_count": 9,
   "metadata": {},
   "outputs": [
    {
     "data": {
      "image/png": "[encoded data removed]",
      "text/plain": [
       "<Figure size 432x288 with 1 Axes>"
      ]
     },
     "metadata": {
      "needs_background": "light"
     },
     "output_type": "display_data"
    }
   ],
   "source": [
    "### TÄYDENNÄ ###\n",
    "\n",
    "# Piirretään vielä kuvaaja sovitteesta ja datasta.\n",
    "# Täydennä alle kuvaajan otsikko, sekä akseleiden otsikot.\n",
    "\n",
    "plt.scatter(xdata, ydata, label='Data')\n",
    "plt.plot(xdata, suora(xdata, params[0], params[1]), 'r-', label='Sovite')\n",
    "plt.legend(loc='best')\n",
    "plt.title(\"\")\n",
    "plt.xlabel(\"\")\n",
    "plt.ylabel(\"\")\n",
    "plt.show()"
   ]
  },
  {
   "cell_type": "code",
   "execution_count": 10,
   "metadata": {},
   "outputs": [
    {
     "name": "stdout",
     "output_type": "stream",
     "text": [
      "Kulmakerroin on 0.030492433520272512\n"
     ]
    }
   ],
   "source": [
    "### TÄYDENNÄ ###\n",
    "\n",
    "# Hienoa! Sovite on nyt valmis. Enää tarvitsee selvittää suoran kulmakerroin.\n",
    "# Täydennä kulmakerroin muuttujaan k (vinkki: katso pari koodisolua ylempänä, miten pääset siihen käsiksi).\n",
    "\n",
    "k = params[0]\n",
    "\n",
    "# Tulostetaan kulmakertoimen arvo\n",
    "print(\"Kulmakerroin on\",k)"
   ]
  },
  {
   "cell_type": "markdown",
   "metadata": {},
   "source": [
    "<a id=\"pohdinta\"></a>\n",
    "## 4. Tulosten pohdinta"
   ]
  },
  {
   "cell_type": "markdown",
   "metadata": {},
   "source": [
    "Pohdi saamaasi tulosta. Mitä suoran kulmakertoimen pitäisi kertoa meille? Onko tulos järkevä? Miten selittäisit mahdolliset virhelähteet? Miten mittausta voisi parantaa?"
   ]
  },
  {
   "cell_type": "markdown",
   "metadata": {},
   "source": [
    "<a id=\"yhteenveto\"></a>\n",
    "## 5. Yhteenveto"
   ]
  },
  {
   "cell_type": "markdown",
   "metadata": {},
   "source": [
    "Kirjoita vielä lyhyt yhteenveto työstäsi."
   ]
  }
 ],
 "metadata": {
  "kernelspec": {
   "display_name": "Python 3",
   "language": "python",
   "name": "python3"
  },
  "language_info": {
   "codemirror_mode": {
    "name": "ipython",
    "version": 3
   },
   "file_extension": ".py",
   "mimetype": "text/x-python",
   "name": "python",
   "nbconvert_exporter": "python",
   "pygments_lexer": "ipython3",
   "version": "3.7.3"
  }
 },
 "nbformat": 4,
 "nbformat_minor": 2
}
