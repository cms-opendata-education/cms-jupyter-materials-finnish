{
 "cells": [
  {
   "cell_type": "markdown",
   "metadata": {},
   "source": [
    "<br>\n",
    " <img src=\"https://github.com/cms-opendata-education/cms-jupyter-materials-finnish/blob/master/Kuvat/CMSlogo_color_label_1024_May2014.png?raw=true\"  align=\"right\" width=\"100px\" title=\"CMS projektin oma logo\">                   \n",
    " <img src=\"https://github.com/cms-opendata-education/cms-jupyter-materials-finnish/blob/master/Kuvat/aaltojunior_logo.PNG?raw=true\"  align=\"right\" width=\"150px\" title=\"CMS projektin oma logo\">\n",
    " <br>\n",
    " \n",
    "\n",
    "# Hiukkaset hukassa \n",
    "     Aalto Junior x CMS open data\n",
    "Tervetuloa kiehtovan ja kummallisen hiukkasfysiikan pariin. \n",
    "\n",
    "Tämä tiedosto on tarkoitettu vain opettajan tai assarin käyttöön. Oppitunnin alussa pidettävää esitystä ja demoja varten on hyvä käyttää oppilaan versiota. Kaikki esimerkkikoodit ja $\\color{green}{\\text{ratkaisut}}$ $\\color{blue}{\\text{kysymyksiin}}$  löytyvät myös täältä. Lisämateriaali on merkitty $\\color{orange}{\\text{oranssilla}}$.\n",
    "\n",
    "## Työpajan rakenne\n",
    "### Esitys (20-25 min)\n",
    "    Osa aiheista voidaan käsitellä ennen tyopajaa koulussa. \n",
    "Assari esittelee __oppilaan notebookin (.slides tiedoston?)__ avulla ryhmän tason / kiinnostuksen mukaan otsikot:\n",
    "\n",
    "- [Hiukkasfysiikkaa](#hiukkasfys) 4 min: \n",
    "     Herätellään ajatuksia ja mielikuvia hiukkasfysiikan tutkimuksen luonteesta. Katsotaan 1min videosta ja käytetään muutama minuutti aiheen käsittelyyn\n",
    "     \n",
    "\n",
    "- [Standardimalli](#standardimalli) 4 min: Muistellaan mitä malli tarkoittaa ja esitellään stadardimallin pääpiirteet. Muistetaan kuitenkin, ettei standardimalli ole täydellinen, vaan monia mysteerejä on yhä.\n",
    "\n",
    "\n",
    "- [CERN](#cern) 8 min: Video\n",
    "\n",
    "\n",
    "- [CMS](#cms) 4 min: CMS-ilmaisimen rakenteen tarkastelu ja oikeankäden säännön muistelu kysymyksin. \n",
    "\n",
    "\n",
    "- [Yksiköt](#yksiköt) 5 min: Ryhmän tason mukaan voidaan esitellä yksinkertaistettu versio siitä, miksi voimme esittää massan, energian ja liikemäärän samassa yksikössä.\n",
    "\n",
    "### Tehtävä ja tarina (15 min)\n",
    "Assari ajaa __oppilaan notebookista__ demon ja esittelee aiheet  __oppilaan notebookin (.slides tiedoston?)__ avulla.\n",
    "\n",
    "\n",
    "- [Hiukkasten havaitseminen](#hiukhav) 2 min: Lyhyt katsaus hiukkasfysiikan tutkimukseen, ja siihen miksi tarvitaan niin paljon dataa.\n",
    "\n",
    "\n",
    "- [Demo](#demo1) 4 min: Demon histogrammin piirtämisestä eri datamäärillä. Hyvä ajaa oppilaan notebookista ja kysyä arvoja luokalta.\n",
    "\n",
    "\n",
    "- [Invariantti massa](#invmassa) 5 min: Miksi demossa piirrettiin invariantti massa ja mikä se on? Lyhyt ja ytimekäs selitys, jotta termiä voidaan myöhemmin käyttää.\n",
    "\n",
    "\n",
    "- [Hiukkaset hukassa](#teht) 4 min: Ongelman esittely ja oppilaiden jako ryhmiin.\n",
    "\n",
    "\n",
    "        HUOM! tässä tiedostossa vielä 2 erilaista taustatarinaa. Valitse parempi.\n",
    "\n",
    "### Työskentely ryhmissä (60 min)\n",
    "[Hands on tehtävä](#handson)\n",
    "Jaetaan oppilaat 2-3 hengen ryhmiin ja annetaan jokaiselle ryhmällä oman datasetin nimi. Ryhmän tulee selvittää mistä hiukkasesta datassa on kyse ja laskea muutamia tunnuslukuja.\n",
    "\n",
    "Työskentelyssä seurataan seuraavia vaiheita:\n",
    "\n",
    "1. [Datan tarkastelu](#os1)\n",
    "2. [Datan käsittely](#os2)\n",
    "3. [Datan visualisointi](os3)\n",
    "4. [Kuvaajien tulkinta ja tulokset](#os4)\n",
    "\n",
    "### 5. Koonti (20 min)\n",
    "[Yhteenveto](#yhteenveto) jonka assari suorittaa __opettajan (tämän) notebookin__ avulla.\n",
    "Kerätään tulokset yhteen ja koostetaan kuva jossa näkyy kahden myonin invariantin massan muodostama spektri. Koonti tapahtuu kyselemällä oppilailta parannusideoita, ja sitä mukaan poistamlla __#__ vastaavilta koodiriveiltä. Kuva aukeaa uuteen ikkunaan, jonka voi esittää taululla oppilaille.\n",
    "\n",
    "Loppuun vapaata kyselyä ja pohdintaa."
   ]
  },
  {
   "cell_type": "markdown",
   "metadata": {},
   "source": [
    "        MUISTA::\n",
    "        slides luodaan konsolista, luo opiilaan filestä hyvät:\n",
    "            jupyter nbconvert --to slides Hiukkaset_Hukassa_Opettaja.ipynb --reveal-prefix=reveal.js \n",
    "            jupyter nbconvert Jupyter\\ Hiukkaset_Hukassa_Oppilas.ipynb --to slides --post serve\n",
    "            \n",
    "            jupyter nbconvert \\HiukkasetHukassaOppilas.ipynb --to slides --post serve"
   ]
  },
  {
   "cell_type": "markdown",
   "metadata": {},
   "source": [
    "<a id=\"alustus\"></a>\n",
    "#### Alustus\n",
    "Alla on koodisolu joka ajettaessa hakee tarvittavat python paketit. Pandas on data-analyysiä varten, numpy tieteellistä laskentaa ja matplotlib.pyplot mahdollistaa kuvaajien piirtämisen. Annetaan näille lyhyemmät nimet (pd, np ja plt),\n",
    " jotta myöhemmin niitä käytettäessä ei tarvitse kirjoittaa koko paketin nimeä."
   ]
  },
  {
   "cell_type": "code",
   "execution_count": 14,
   "metadata": {},
   "outputs": [],
   "source": [
    "import pandas as pd\n",
    "import matplotlib.pyplot as plt\n",
    "import numpy as np\n",
    "%matplotlib inline\n",
    "#lataa koodin ja sitten ajaa sen:\n",
    "#!curl -O https://raw.githubusercontent.com/cms-opendata-education/cms-jupyter-materials-finnish/master/Data/Apufunktiot/hiukkasethukassa.ipynb\n",
    "#%run hiukkasethukassa.ipynb\n",
    "%run ../../Data/Apufunktiot/hiukkasethukassa.ipynb\n"
   ]
  },
  {
   "cell_type": "markdown",
   "metadata": {},
   "source": [
    "****\n",
    "<a id=\"hiukkasfys\"></a>\n",
    "# Hiukkasfysiikkaa\n",
    "Hiukkasfysiikka tutkii maailmankaikkeuden pienimpiä rakennuspalikoita. Nämä palikat ovat atomejakin pienempiä ja joskus jopa mahdottoman pieniä havaittavaksi suoraan. Kun siirrytään hiukkasfysiikan maailmaan eivät normaalit fysiikan säännöt enää päde. Siksi tarvitsemmekin ison joukon tutkijoita ja teoreetikoita selittämään maailmankaikkeuden rakennetta ja jokapäiväisiä vuorovaikutuksia ympärillämme. \n",
    "\n",
    "Ote tieteen kuvalehden artikkelista kvanttimekaniikka viidessä minuutissa :\n",
    "> Hiukkasten mittaamista vaikeuttaa se, että tietyt ominaisuudet muuttavat luonnettaan juuri sillä hetkellä, kun niitä aletaan mitata. Niels Bohrin mukaan tällöin ei enää voida määrittää hiukkasten paikkaa ja liikettä, koska käsitteillä ei enää ole merkitystä.\n",
    "Yksi esimerkki paradoksista on niin sanottu Schrödingerin kissa.\n",
    "[[1](#tk)]\n",
    "\n",
    "Katsokaa ensimmäinen minuutti videosta. [[2](#tedvideo)]\n"
   ]
  },
  {
   "cell_type": "code",
   "execution_count": 1,
   "metadata": {},
   "outputs": [
    {
     "data": {
      "image/jpeg": "[encoded data removed]",
      "text/html": [
       "\n",
       "        <iframe\n",
       "            width=\"400\"\n",
       "            height=\"300\"\n",
       "            src=\"https://www.youtube.com/embed/UjaAxUO6-Uw\"\n",
       "            frameborder=\"0\"\n",
       "            allowfullscreen\n",
       "        ></iframe>\n",
       "        "
      ],
      "text/plain": [
       "<IPython.lib.display.YouTubeVideo at 0x7f3cc8093cf8>"
      ]
     },
     "execution_count": 1,
     "metadata": {},
     "output_type": "execute_result"
    }
   ],
   "source": [
    "from IPython.lib.display import YouTubeVideo\n",
    "YouTubeVideo('UjaAxUO6-Uw')\n",
    "#https://youtu.be/UjaAxUO6-Uw"
   ]
  },
  {
   "cell_type": "markdown",
   "metadata": {},
   "source": [
    "\n",
    ">Tämä ei tunnu järkevältä, jos asiaa tarkastellaan klassisen fysiikan näkökulmasta, toisin sanoen niiden fysiikan lakien pohjalta, jotka tunnemme arkipäivän elämästä. Niiden mukaan kissa ei voi olla yhtaikaa kuollut ja elävä – vaan ainoastaan jompaakumpaa.\n",
    "Suuri osa kvanttimekaniikasta on kuitenkin Schrödingerin kissa -ajatusleikin kaltaisia kahden eri tilan yhdistelmiä\n",
    "[[1](#tk)]\n",
    "\n",
    "Hiukkasfysiikan kokeellinen tutkimus onkin usein epäsuoraa ja dataa kerätään paljon, jotta todennäköisyyksien avulla saadaan tuloksia ja uusia havaintoja."
   ]
  },
  {
   "cell_type": "markdown",
   "metadata": {},
   "source": [
    " <img src=\"https://upload.wikimedia.org/wikipedia/commons/0/03/Standardimalli.svg\"  align=\"right\" width=\"500px\" title=\"[Kuva 1] Standardimalli ei ole _kaiken teoria_ vaan siitä puutttuu vielä palasia. Higgsin bosonin löydön jälkeen sen ominaisuuksia on tutkittu tiiviisti.\"> \n",
    "<a id=\"standardimalli\"></a>\n",
    "## Stadardimalli\n",
    "Hiukkasfysiikan kehittyessä myös tapamme ymmärtää ja mallintaa ympäristöämme muuttuu. \n",
    "\n",
    "\n",
    "<details>\n",
    "    <summary>$\\color{blue}{\\text{Mitä tarkoittaa malli?}}$</summary>\n",
    "    Malli on yksinkertaistettu kuvaus todellisuudesta. Fysiikan mallit rakennetaan teorian ja kokeellisen tutkimuksen yhteistyönä. Teoreetikot rakentavat malleja joita sitten testataan kokeellisesti ja muokataan sitä mukaan, kun tutkimus kehittyy ja löydetään uusia osasia palapeliin.  \n",
    " <img src=\"https://github.com/cms-opendata-education/cms-jupyter-materials-finnish/blob/master/Kuvat/physics_challenges.PNG?raw=true\"  align=\"left\" width=\"500px\" title=\"[Kuva 2] Standardimalli ei ole _kaiken teoria_ vaan siitä puutttuu vielä palasia. Higgsin bosonin löydön jälkeen sen ominaisuuksia on tutkittu tiiviisti.\">  \n",
    "    \n",
    "</details>\n",
    "\n",
    "__Stadardimalli__ on matemaattinen malli joka kuvaa kaikkia tunnettuja hiukkasia sekä heikon-, vahvan- ja sähkömagneettisen vuorovaikutuksen. Standardimallissa on mukana 12 alkeishiukkasta, neljä voimaa välittävää hiukkasta sekä Higgsin hiukkanen. Kaikki aine ympärillämme koostuu elektroneista sekä u- ja d-kvarkeista. \n",
    "\n",
    "<br>\n",
    "<details>\n",
    "    <summary> $\\color{orange}{\\text{Lisätietoa}}$ [[1](#tk)]</summary>\n",
    "\n",
    "Ote Tieteen Kuvalehden artikkelista \"kvanttimekaniikka viidessä minuutissa\" <br><br>\n",
    "    \n",
    "Alkeishiukkaset ovat ne fysikaaliset rakennuskivet, joista kaikki universumin atomit koostuvat. Niitä on kahtatoista eri tyyppiä, mutta luonnollisissa oloissa niistä esiintyy nykyään vain neljää – elektroneja, elektronin neutriinoja, ylöskvarkkeja ja alaskvarkkeja. Muita oli luonnossa vain heti alkuräjähdyksen jälkeen, mutta sittemmin niitä on luotu uudelleen hiukkaskiihdyttimissä.<br><br>\n",
    "\n",
    "**Voimia välittävät hiukkaset** pitävät rakennusosaset kasassa. Ne välittävät atomeihin neljää luonnon perusvoimaa:<br><br>\n",
    "\n",
    "**Fotonit** <br>\n",
    "Fotonit ovat massattomia valohiukkasia, jotka välittävät sähkömagneettista voimaa.<br><br>\n",
    "\n",
    "**Gluonit**<br>\n",
    "Gluonit liimaavat kvarkit yhteen alkeishiukkasissa ja välittävät vahvaa ydinvoimaa.<br><br>\n",
    "\n",
    "**W**-ja **Z**-hiukkaset W- ja Z-hiukkaset eli **-bosonit** välittävät heikkoa ydinvoimaa. Ne liittyvät tietynlaisiin radioaktiivisuuden muotoihin.<br><br>\n",
    "\n",
    "Gravitoni Gravitonien arvellaan välittävän painovoimaa. Hiukkasten olemassaoloa ei ole vielä onnistuttu todistamaan, mutta niitä etsitään kiivaasti CERNissä Sveitsissä.<br><br>\n",
    "\n",
    "Lisäksi on olemassa **Higgsin hiukkanen**. Se löytyi 99,99 prosentin todennäköisyydellä vuonna 2012. Hiukkanen antaa atomien rakennusosasille massan. Kvarkit kiinnittyvät voimakkaammin Higgsin hiukkasiin, ja siksi ne ovat raskaampia kuin esimerkiksi elektronit.\n",
    "\n",
    "Assarille : https://wiki.kidzsearch.com/wiki/Standard_Model\n",
    "\n",
    "    \n",
    "</details>\n",
    "\n",
    "<details>\n",
    "    <summary>$\\color{blue}{\\text{Mitä standardimalli ei selitä?}}$</summary>\n",
    "• Onko löytämämme Higgsin bosoni standardimallin mukainen ja ainoa?<br><br>\n",
    "    \n",
    "• Miksi maailmankaikkeudessa on enemmän materiaa kuin antimateriaa?<br><br>\n",
    "\n",
    "• Miten selittää neutriinojen massa?<br><br>\n",
    "\n",
    "• Mitä on pimeä aine?<br><br>\n",
    "\n",
    "• Entä pimeä energia? Miten gravitaatio yhdistetään muihin (kvantti)vuorovaikutuksiin? Onko ulottuvuuksia vain arkipäiväiset 3+1?<br><br>\n",
    "\n",
    "• Miksi hiukkasperheitä on kolme? Onko ”alkeishiukkasilla” sisäinen rakenne?\n",
    "Onko luonnossa lisää symmetrioita? Supersymmetria?<br><br>\n",
    "    \n",
    "  **Työ on siis vielä kesken!**\n",
    " [[3](#cernstandard)]  \n",
    "</details>\n"
   ]
  },
  {
   "cell_type": "markdown",
   "metadata": {},
   "source": [
    "****\n",
    "<a id=\"cern\"></a>\n",
    "## CERN\n",
    "Katsotaan lyhyt esittelyvideo CERN:stä ja CMS kokeesta. "
   ]
  },
  {
   "cell_type": "code",
   "execution_count": 2,
   "metadata": {
    "scrolled": true
   },
   "outputs": [
    {
     "data": {
      "image/jpeg": "[encoded data removed]",
      "text/html": [
       "\n",
       "        <iframe\n",
       "            width=\"400\"\n",
       "            height=\"300\"\n",
       "            src=\"https://www.youtube.com/embed/S99d9BQmGB0\"\n",
       "            frameborder=\"0\"\n",
       "            allowfullscreen\n",
       "        ></iframe>\n",
       "        "
      ],
      "text/plain": [
       "<IPython.lib.display.YouTubeVideo at 0x7f3cc80c6a58>"
      ]
     },
     "execution_count": 2,
     "metadata": {},
     "output_type": "execute_result"
    }
   ],
   "source": [
    "from IPython.lib.display import YouTubeVideo\n",
    "YouTubeVideo('S99d9BQmGB0')"
   ]
  },
  {
   "cell_type": "markdown",
   "metadata": {},
   "source": [
    "<img src=\"https://cds.cern.ch/record/2205172/files/CMS%20Slice.gif\"  align=\"right\" width=\"800px\" title=\"[Kuva 3] CMS ilmaisimen rakenne ja hiukkasten kulku sen kerroksissa\">  \n",
    "\n",
    "Video on hieman vanhentunut ja LHC kiihdytin on nyt (2019-2020) toisella pitkällä huoltotauolla, jonka aikana sen suorituskykyä parannellaan ja säteilystä kärsineitä osia vaihdetaan.\n",
    "\n",
    "\n",
    "<a id=\"cms\"></a>\n",
    "### _CMS on kuin sipuli_\n",
    "CMS-hiukkasilmaisin koostuu useasta kerroksesta, joista jokaisella on erityinen tehtävä törmäyksen mittaamisessa. Tärkeää on mitata, millaisia hiukkasia törmäyksestä sinkoilee. Tämä saadaan selville mittaamalla varaus, liikemäärä ja energia. \n",
    "\n",
    "<details>\n",
    "    <summary>Lisätietoa eri osien toiminnasta</summary>\n",
    "    \n",
    "Eri hiukkaset vaikuttavat aineen kanssa eri tavoin, eli tarvitaan erilaisia kerroksia mittamaan hiukkasten energioita ja ratoja. Tässä lyhyt tiivistelmäilmaisimen toiminnasta. [[4](#diat)], [[5](#cms)].\n",
    "    \n",
    "- **Jälki-ilmaisin** \n",
    "Jälki-ilmaisin koostuu kahden tyyppisisitä pii osista. Jälki-ilmaisin havaitsee varattujen hiukkasten reitit, kun ne vuorovaikuttavat elekromagneettisesti ilmaisimen kanssa. Tarkan paikkadatan avulla voidaan määrittää protonien törmäyskohdat ja syntyneiden raskaampien ydinten hajoamispaikat. Myös hiukkasen radan kaarevuussäteen avulla voidaan laskea sen momentti.\n",
    "*Pixel* -ilmaisin on rakennettu pienistä piisoluista (65 miljoonaa kappaletta), jotka mittaavat varattujen hiukkasten radat hyvin tarkasti.\n",
    "*Tracker* -kerros on valmistettu piiliuskoista jotka niin ikään mittaavat hiukkasten ratoja.\n",
    "\n",
    "- **Sähkömagneettinen kalorimetri (ECAL)**\n",
    "Elektronien ja fotonien energiat saadaan mitattua hyvin tarkasti sillä niiden törmäyks ECAL-kerrokseen aiheuttaa sähkömagneettisen ryöpyn, joka mitataan tuikeilmaisimilla. Törmänneen elektronin tai fotonin energia on suoraan verrannollinen tuikeilmaisimien havaitsemaan valon määrään.\n",
    "- **Hadronikalorimetri (HCAL)**\n",
    "Hardonikalorimetri pysäyttää hardoneiksi kutsutut hiukkaset, kuten protonit ja netronit. HCAL-kerrokseen saapuvat hardonit menettävät liike-energiaansa hiukkasryöppyihin, joiden synnyttämien tuikevalojen avulla saadaan lasketuksi hardonin alkuperäinen energia.\n",
    "- **Myonijärjestelmä**\n",
    "CMS ilmaisin on nimensä (Compact Muon Solenoid) mukaisesti suunniteltu erityisesti havaitsemaan myoneita. Myonit ovat vaikeasti havaittavia ja ne kulkevatkin ECAL ja HCAL kerrosten läpi pysähtymättä. Kuitenkin positiivisina hiukkasina niiden kulkiessa kaasulla täytettyjen kammioiden läpi (_drift tubes_) kaasu ionisoituu ja vapautuneet elektronit sekä positiiviset ionit kulkeutuvat (_Cathode Strip Chambers_) anodeille ja katodeille. Signaalin avulla voidaan laskea myonin paikka tietyllä ajanhetkellä. _Resistive Plate Chambers_ ovat myös osa myonijärjestelmää luoden signaalia, joka voidaan siirtää eteenpäin käsiteltäväksi.\n",
    "\n",
    "\n",
    "\n",
    "Neutriinot havaitaan epäsuorasti liikemäärän säilymisen kautta.\n",
    "</details>\n",
    "\n",
    "**$\\color{blue}{\\text{Tarkastelkaa miten eri hiukkaset käyttäytyvät CMS ilmaisimen kerroksissa.}}$**\n",
    "\n",
    "**$\\color{blue}{\\text{Selvitä millainen varaus kuvan hiukkasilla on. }}$**\n",
    "\n",
    "<details>\n",
    "    <summary>Vinkki</summary>\n",
    "    <img src=\"https://cdn.kastatic.org/ka-perseus-images/73e3a6b05947364a0128ba9285151daf9dfd18d0.svg\"  align=\"left\" width=\"400px\" title=\"[Kuva 4] Oikean käden sääntö\">  \n",
    "    \n",
    "</details>\n",
    "\n",
    "\n",
    "<details>\n",
    "    <summary>Vastaus</summary>\n",
    "\n",
    "- **Myoneita**  on vaikea havaita mutta CMS on nimensä (Compact Muon Solenoid) mukaisesti erittäin hyvä myös siinä. Myonit kulkevat kaikkien kerrosten läpi pysähtymättä jättäen kuitenkin signaaleja pii-ilmaisimiin ja myoni kammioihin. Kuvassa myonin rata kääntyy ensin alaspäin ja sitten vahvan solenoid magneetin ohitettuaan alkaa kaartua ylöspäin. Oikean käden säännön mukaan myoni on siis negatiivinen hiukkanen. Huomion arvoista on että solenoidi magneetin sisällä magneettikenttä on vastakkais suuntainen magneetin ulkopuoliseen magneettikenttään verrattuna. <br><br>\n",
    "    \n",
    "    \n",
    "- **'Elektronin'**\n",
    "    rata kääntyy kuvassa ylöspäin. Tarkastellessamme tilannetta oikean käden säännön avulla päädymme ristiriitaan. Hiukkanen käyttäytyy, kuin positiivinen hiukkanen, mutta jo yläasteelta on tuttua, että elektronit ovat negatiivisesti varautuneita. Kyseessä onkin positroni eli elektronin antihiukkanen joka muistuttaa paljon elektronia, mutta onkin positiivisesti varautnut. Fyysikot saattavat käyttää välillä termejä hajamielisesti sekaisin, kunhan asiayhteydestä on selvää mistä puhutaan ;) <br><br>\n",
    "    \n",
    "    \n",
    "- **Hadronit**\n",
    "    Kuvassa on kaksi hadronia toinen merkittynä vihreällä viivalla ja toinen vihreällä katkoviivalla. Hadronit ovat vähintään kahden kvarkin muodostamia hiukkasia.<br>\n",
    "    **Katkoviivalla** merkityn hiukkasen rata ei taivu ollenkaan 4 Teslan, eli vahvuudeltaan noin 100,000 kertaa maan magneettikentän vahvuisessa  [5](#cms) magneettikentässä. Tämä tarkoittanee sitä, että hadroni on varaukseton. Kyseessä voi olla esimerkiksi neutroni. Neutronin vauhti hidastuu hadronikalorimetrissä kun se vuorovaikuttaa aineen kanssa ja aiheuttaa signaalin.<br>\n",
    "    **Jatkuvalla viivalla** kuvatun hadronin rata kaartuu kuvassa alaspäin. Voimme siis päätellä hiukkasen olevan varaukseltaan negatiivinen. Tälläinen hadroni on esimerkiksi Pion ($ \\pi^- : d \\overline{\\mu} $ ), hadronin liike-energia voidaan mitata sen aiheuttamasta hiukkasryöpystä hadronikalorimetrissä.\n",
    " <br><br>   \n",
    "    \n",
    "- **Fotonin** kulku CMS:n sisällä on piirretty tummansinisellä katkoviivalla. Viiva on suora ja päättyy elektrokalorimetrissä syntyvään hiukkasryöppyyn. Fotoni on siis varaukseton.<br><br>\n",
    "\n",
    "Kaikkia hiukkasia ei voida CMS:n avulla havaita. Esimerkiksi neutriinot havaitaan epäsuorasti liikemäärän säilymisen kautta.\n",
    "    \n",
    "</details>"
   ]
  },
  {
   "cell_type": "markdown",
   "metadata": {},
   "source": [
    "\n",
    " \n",
    " <img src=\"https://github.com/cms-opendata-education/cms-jupyter-materials-finnish/blob/master/Kuvat/LHC.png?raw=true\"  align=\"left\" width=\"500px\" title=\"[Kuva 5] LHC ja sen varrella olevat neljä tutkimusasemaa\"> \n",
    " \n",
    "Jos hiukkanen pyörii myötäpäivää LHC:ssa, **$\\color{blue}{\\text{mihin suuntaan magneettikentän tulisi osoittaa?}}$**\n",
    "\n",
    "<details>\n",
    "    <summary>Vinkki</summary>\n",
    "    <img src=\"https://cdn.kastatic.org/ka-perseus-images/73e3a6b05947364a0128ba9285151daf9dfd18d0.svg\"  align=\"left\" width=\"400px\" title=\"[Kuva 4] Oikean käden sääntö\">  \n",
    "    \n",
    "</details>\n",
    "\n",
    "<details>\n",
    "    <summary>Vastaus</summary>\n",
    "    Magneettikentän tulee osoittaa $\\color{green}{\\text{ylöspäin}}$, jotta sen aiheuttama voima pitää protonin ympyräradalla. LHC kiihdyttimessä kiihdytetään kuitenkin protoneja molempiin suuntiin. Magneettikenttä osoittaa alaspäin toisessa putkessa, jossa protonit viilettävät vastapäivään.\n",
    "    <img src=\"https://github.com/cms-opendata-education/cms-jupyter-materials-finnish/blob/master/Kuvat/lhc-pho-1998-325.jpg?raw=true\"  align=\"left\" width=\"600px\" title=\"[Kuva 6] LHC kiihdyttimen vahva magneettikenttä pitää protonit ympyräradalla\">  \n",
    "\n",
    "    \n",
    "</details>"
   ]
  },
  {
   "cell_type": "markdown",
   "metadata": {},
   "source": [
    "<a id=\"yksiköt\"></a>\n",
    "## Yksiköistä\n",
    "\n",
    "Meidän on helppo puhua metreistä, koska voimme mitata sillä matkaamme lähikauppaan, kilogramma on maitotölkin massa ja sekunnissa sanomme yhden numeron. \n",
    "Hiukkasfysiikan liikkuu kuitenkin aivan eri suuruusluokissa ja voimien suhteissa. Siksi meille luontevat yksiköt kuten metri tai kilogramma eivät sovi hiukkasfyysikon arkeen.\n",
    "\n",
    "Tutkitaan ensin millaisia suureita tulemme käytämään\n",
    "\n",
    "      massa: m\n",
    "      aika: t\n",
    "      pituus: l\n",
    " \n",
    "Loput tarvitsemistamme suureista voidaan johtaa näistä kolmesta.\n",
    "\n",
    "<details>\n",
    "    <summary>$\\color{blue}{\\text{Miten liikemäärän voi essittää yllä mainittujen suureiden avulla?}}$</summary>\n",
    "    \n",
    " ** $\\frac{m \\cdot l}{t}$  **\n",
    "</details>\n",
    "\n",
    "<details>\n",
    "    <summary>$\\color{blue}{\\text{ Entä energian?}}$</summary>\n",
    "    \n",
    " ** $\\frac{m \\cdot l^2}{t^2}$ **  \n",
    "</details>\n",
    "    \n",
    "Hiukkasfyysikot usein asettavat \n",
    "\n",
    "    c=1\n",
    "    \n",
    "tällä oletuksella saadaan useat kaavat siistimpään muotoon (esim $E=mc^2 \\rightarrow E=m$). Muutoksen voi huoletta tehdä, sillä valonnopeus (tyhjiössä) on vakio ja sen numeerinen arvo riippuu vain valituista yksiköistä. Samalla muutamme käytettävää järjestelmää siten, että nopeudella ei ole yksikköä eli se on ns. dimensioton.\n",
    "Näin ollen myös liikemäärän ja energian yksiköt muuttuvat\n",
    "\n",
    "    liikemäärä: [m] * [v] --> [m]\n",
    "    energia: [m] * [v]^2 --> [m]\n",
    "    \n",
    "Olemme päätyneet tilanteeseen jossa liikemäärällä, energialla ja massalla on kaikilla sama yksikkö $[m]$! Voimme siis valita lempi yksikkömme, jolla mittaamme kaikkia kolmea esim. kilogramma tai newtonsekuntti. \n",
    "\n",
    "<br>\n",
    "<details>\n",
    "    <summary>$\\color{blue}{\\text{Arvatkaa mikä on hiukkasfyysikoiden lempi yksikkö!}}$ (vastaus on entuudestaan tuttu massan, liikemäärän tai energian yksikkö)</summary>\n",
    "    \n",
    " **eV**<br>\n",
    "         = 1.602176634×10−19 Joulea <br><br>\n",
    "Elektronivoltti on tuttu energian yksikkönä. Hiukkasfyysikot voivat kuitenkin mitata sillä myös massaa ja liikemäärää. Tulevissa tehtävissä tulet törmäämään sen kerrannaisyksiköihin:\n",
    "<br><br>\n",
    "            1MeV = 10^6 eV<br>\n",
    "            1GeV = 10^9 eV\n",
    "            \n",
    "</details>\n",
    "\n"
   ]
  },
  {
   "cell_type": "markdown",
   "metadata": {},
   "source": [
    "****\n",
    "<a id=\"hiukhav\"></a>\n",
    "# Hiukkasten havaitseminen hiukkaskiihdyttimellä\n",
    "\n",
    "\n",
    "\n",
    "\n",
    "LHC törmäyttää miltei valonnopeudella kulkevia protoneja. Suuri energisissä törmäyksissä voi syntyä uusia hiukkasia, joista osa on vakaita ja osa epävakaita. Epävakaat hiukkaset hajoavat spontaanisti jälleen uusiksi hiukkasiksi. Koska epävakaat hiukkaset ovat olemassa vain hyvin lyhyen ajan, eivät hiukkasilmaisimet havaitse niitä. Jotta saisimme tietää, mitä hiukkasia törmäyksessä on syntynyt, meidän tulee tarkastella vakaiden hiukkasten ominaisuuksia. Hiukkasilmaisimien keräämä data kertoo meille syntyneiden hiukkasten energian ja liikemäärän. Näiden suureiden avulla voimme laskea, mikä oli hajonneen hiukkasen massa.\n",
    "\n",
    "Yhden havainnon tekeminen ei kuitenkaan ikinä riitä. Kuten aiemmin todettiin hiukkasfysiikkan kokeissa on kyse todennäköisyyksistä ja epävarmuuksista. Kun dataa saadaan kerättyä tarpeeksi, voidaan käyttää esimerkiksi histogrammeja tulosten visualisoimiseksi. On tärkeää tarkastella tuloksia kriittisesti ja saada mitattua tilastollisesti merkittävä määrä dataa, jotta todelliset ilmiöt erottuvat taustakohinasta.\n",
    "\n",
    " <img src=\"https://cds.cern.ch/record/2682635/files/VHccmumu_plain.png?subformat=icon-1440\"  align=\"center\" width=\"600px\" title=\"[Kuva 7] Mahdollinen Higgsin bosonin hajoaminen josta syntyy 2 lumo kvarkkia ja Z-bosoni hajoaa kahdeksi leptoniksi. Yksittäinen havainto ei kuitenkaan riitä varmistamaan Higgsin olemassaoloa.\"> \n",
    "****\n",
    "\n",
    "<a id=\"demo1\"></a>\n",
    "### $\\color{purple}{\\text{Esimerkki:}}$  Histogrammi eri datamäärillä\n",
    "\n",
    "Kokeillaan, miten datan määrä vaikuttaa tuloksiin. Alla on koodi, joka piirtää annetulla datamäärällä (4 kertaa) histogrammin kahden suurienergisen myonin invariantista massasta. Aloitetaan tutkimalla pieniä lukuja 0-20 ja kasvatetaan datan määrää vähitellen. (esim. 5, 20, 300, 10000)\n",
    " "
   ]
  },
  {
   "cell_type": "code",
   "execution_count": 2,
   "metadata": {
    "collapsed": true
   },
   "outputs": [],
   "source": [
    "# Haetaan data tiedostosta ja tallennetaan se muuttujaan 'data'.\n",
    "data = pd.read_csv('https://raw.githubusercontent.com/cms-opendata-education/cms-jupyter-materials-finnish/master/Data/Zmumu_Run2011A_massoilla.csv')\n",
    "\n",
    "# Tallennetaan datatiedostossa olevat invarianttien massojen arvot muuttujaan 'invariantti_massa'.\n",
    "invariantti_massa = data['M']"
   ]
  },
  {
   "cell_type": "code",
   "execution_count": 3,
   "metadata": {},
   "outputs": [
    {
     "name": "stdout",
     "output_type": "stream",
     "text": [
      "Kuinka monta tapahtumaa valitaan: 2\n",
      "\n",
      " Valitsit datasta 2 invariantin massan arvoa.\n"
     ]
    },
    {
     "data": {
      "image/png": "[encoded data removed]",
      "text/plain": [
       "<matplotlib.figure.Figure at 0x7fa2e5cc1518>"
      ]
     },
     "metadata": {},
     "output_type": "display_data"
    },
    {
     "name": "stdout",
     "output_type": "stream",
     "text": [
      "Kuinka monta tapahtumaa valitaan: 5\n",
      "\n",
      " Valitsit datasta 5 invariantin massan arvoa.\n"
     ]
    },
    {
     "data": {
      "image/png": "[encoded data removed]",
      "text/plain": [
       "<matplotlib.figure.Figure at 0x7fa2dd83c470>"
      ]
     },
     "metadata": {},
     "output_type": "display_data"
    },
    {
     "name": "stdout",
     "output_type": "stream",
     "text": [
      "Kuinka monta tapahtumaa valitaan: 50\n",
      "\n",
      " Valitsit datasta 50 invariantin massan arvoa.\n"
     ]
    },
    {
     "data": {
      "image/png": "[encoded data removed]",
      "text/plain": [
       "<matplotlib.figure.Figure at 0x7fa2dd6c0518>"
      ]
     },
     "metadata": {},
     "output_type": "display_data"
    },
    {
     "name": "stdout",
     "output_type": "stream",
     "text": [
      "Kuinka monta tapahtumaa valitaan: 400\n",
      "\n",
      " Valitsit datasta 400 invariantin massan arvoa.\n"
     ]
    },
    {
     "data": {
      "image/png": "[encoded data removed]",
      "text/plain": [
       "<matplotlib.figure.Figure at 0x7fa2dd3f9c50>"
      ]
     },
     "metadata": {},
     "output_type": "display_data"
    }
   ],
   "source": [
    "kuvat = 0\n",
    "# Luodaan tyhjä lista 'valitut', johon tallennetaan valittujen invarianttien massojen arvot.\n",
    "while kuvat < 4:\n",
    "    valitut = []\n",
    "\n",
    "# Pyydetään käyttäjää valitsemaan tapahtumien lukumäärä. Tallennetaan luku muuttujaan 'määrä'.\n",
    "    määrä = int(input('Kuinka monta tapahtumaa valitaan: '))\n",
    "\n",
    "# Tarkastetaan, onko datassa tarpeeksi tapahtumia. Jos tapahtumia ei ole tarpeeksi, tulostetaan virheilmoitus.\n",
    "# Muussa tapauksessa massat valitaan ja tallennetaan 'valitut'-listaan.\n",
    "    if määrä > len(invariantti_massa):\n",
    "        print('Virhe: Histogrammin piirto epäonnistui. Ei tarpeeksi dataa. Maksimimäärä tapahtumia on ' + str(len(invariantti_massa)) + '.')\n",
    "    else:\n",
    "        for f in range(määrä):\n",
    "            M = invariantti_massa[f]\n",
    "            valitut.append(M)\n",
    "        print('\\n Valitsit datasta {} invariantin massan arvoa.'.format(määrä))\n",
    "\n",
    "# Piirretään histogrammi valitusta datamäärästä. Valitaan pylväiden lukumäärä 'bins' sekä x-akselin väli 'range'.\n",
    "    plt.hist(valitut, bins=120, range=(60,120))\n",
    "\n",
    "# Name the axises and give the title.\n",
    "    plt.xlabel('Invariantti massa [GeV]')\n",
    "    plt.ylabel('Tapahtumien lukumäärä')\n",
    "    plt.title('Kahden myonin invariantti massa\\n')\n",
    "    plt.show()\n",
    "# Empty the variable \"selected\" for the next run.\n",
    "    kuvat += 1\n",
    "    valitut = []"
   ]
  },
  {
   "cell_type": "markdown",
   "metadata": {},
   "source": [
    "### ****\n",
    "<a id=\"invmassa\"></a>\n",
    "# Mikä invariantti massa?\n",
    "\n",
    "Saatoit huomata, että edellisessä esimerkissä piirrettiin histogrammi invariantista massasta. Mutta mitä invariantti massa kertoo meille ja miksi sen arvoista syntyi nätti piikki histogrammiin?\n",
    "\n",
    "Hiukkasfysiikan maailmassa tavallisen mekaniikan kaavat eivät enään aina päde kun massa muuttuu energiaksi ja toisin päin. Säilymislakeja toki kuitenkin on. Voimme muodostaa hiukkasten energian ja liikemäärän avulla suureen jota kutsumme **invariantiksi massaksi**. Sen arvo kuvaa hajonneelle emohiukkaselle ominaista massaa. \n",
    "\n",
    "On mahdoton ajatus punnita esimerkiksi Higgsin hiukkasta, jonka eliniänodote on luokkaa $10^{-22}$ sekunttia [[6](#higs)]. CMS:n kaltainen laite voi kuitenkin mitata tytärhiukkasten liikemäärää ja energiaa, joiden avulla voidaan laskea _invariantti massa_. Se on matemaattinen arvo joka on \"invariantti\" mittausympäristölle, eli se voidaan laskea missä ja mille tahansa. Jos sen laskee tietystä hajoamisesta syntyneille tytärhiukkasille, saadaan arvo joka on lähellä emohiukkasen massaa. Jos taas lasketaan invariantti massa hiukkasille jotka eivät liity mitenkään toisiinsa saadaan arvo joka ei kuvaa mitään, eli taustakohinaa.\n",
    "\n",
    "**Invariantti massa siis säilyy hiukkasen hajotessa uusiksi hiukkasiksi.** Tämän ominaisuuden ansiosta se on voittamaton työkalu kokeellisen hiukkasfysiikan tutkijoille. Hiukkasilmaisin, kuten CMS, havaitsee lähinnä stabiileja hiukkasia. Määrittääkseen minkä raskaamman hiukkasen hajoamisesta stabiilit hiukkaset ovat kotoisin, tutkijoiden tulee tarkastella suuria määriä dataa. Piikit invariantin massan histogrammissa voivat viitata tietyn energiseen emohiukkaseen.\n",
    "[Lisätietoa englanniksi](https://profmattstrassler.com/articles-and-posts/particle-physics-basics/mass-energy-matter-etc/mass-and-energy/)\n",
    "\n",
    "\n",
    "<br>\n",
    " <img src=\"https://github.com/cms-opendata-education/cms-jupyter-materials-finnish/blob/master/Kuvat/inv_massa.PNG?raw=true\"  align=\"left\" width=\"600px\" title=\"[Kuva 8]  Törmäyksestä syntyneiden kahden myonin invariantin massan jakauma vuosilta 2017 ja 2018. Jakaumasta erottaa selvästi niiden hiukkasten piikit jotka voivat hajota kahdeksi myoniksi.\">\n",
    " <br>\n",
    " "
   ]
  },
  {
   "cell_type": "markdown",
   "metadata": {},
   "source": [
    "****\n",
    "<a id=\"teht\"></a>\n",
    "# Hiukkaset hukassa\n",
    "\n",
    "CERN:n kesäopiskelijalle on ollut huolimaton. Hän on unohtanut pitää tärkeän mittausdatan järjestyksessä. Nyt hänellä on käsissään kuusi oudosti nimettyä tiedostoa CMS:n mittausdataa. Jokaisessa tiedostossa on mitattuja arvoja kahdesta myonista jotka ovat kenties peräisin jonkun hiukkasen hajoamisesta. Kesäopiskelija pyytää teidän apua tiedostojen sisällön tutkimisessa. \n",
    " <img src=\"../../Kuvat/kuvitus_hiukkaset_hukassa.png\"  align=\"center\" width=\"600px\" title=\"Huolimaton kesäopiskelija\"> \n",
    "\n",
    "Hypoteesi: Emohiukkasten massat voidaan selvittää invariantin massan arvojen avulla ja näin löytää hiukkaset jotka voivat hajota kahdeksi myoniksi.\n",
    "\n",
    "Tiedostot ovat suuria, joten tehokas ja hyvä tapa käsitellä tällaisia tiedostoja on käyttää Python ohjelmointikieltä. Ette tarvitse aikaisempaa ohjelmointikokemusta.\n",
    "\n",
    "Jaa oppilaat 2-3 hengen ryhmiin ja anna jokaiselle ryhmälle numero 1-6. Kukin ryhmä tutkii numeronsa mukaista _piikkidataa_\n",
    "\n",
    "<a id=\"taulukko\"></a>\n",
    "#### Taulukko\n",
    "\n",
    "|Datasetti |\tHiukkanen | Datan alue [GeV]    | Eventtien lkm. |  max(E) [GeV] | min(E) [GeV] |\n",
    "|----------|:-------------:|:-----------------:|:----------------:|:------------:|:--------------|\n",
    "|piikkidata1|\tJ/ψ (J/psii)|2.50001 - 3.59982|        48223 |        249.377 |      2.66819|\n",
    "|piikkidata2|\tZ-bosoni\t|70.0069 - 109.999 |       33177|         1131.56 |      4.01271|\n",
    "|piikkidata3|\tΥ (ypsilon)\t|9.00001 - 9.6999 |        19519 |        165.27 |       2.67178|\n",
    "|piikkidata4|   φ (fii)     | 0.90003 - 1.12998 |       7915 |       202.921 |      2.66267 |\n",
    "|piikkidata5|   ρ, ω (rhoo, oomega)| 0.650063 - 0.899988| 8270 |      308.698 |     2.85848 |\n",
    "|piikkidata6|   ψ’ (psii)   | 3.50017 - 3.89928 |       4106|         221.887 |     2.57612 |"
   ]
  },
  {
   "cell_type": "markdown",
   "metadata": {},
   "source": [
    "****\n",
    "<a id=\"handson\"></a>\n",
    "## Datan kimppuun\n",
    "Ennen kuin aloitatte muistakaa ajaa ensimmäinen koodisolu otsikon [alustus](#alustus) alta. Sen avulla saatte tarvittavat Python paketit datan käsittelyyn.\n",
    "\n",
    "**\\#** merkkaa koodissa kommentin jota kone ei aja. Kommentit helpottavat koodin lukemista ja sen toiminnan ymmärtämistä.\n",
    "Poistakaa alla olevasta koodista kommentin merkki (#) ryhmänne numeron mukaiselta riviltä ja ajakaa solu. Käsky `pd.read_csv()` lukee suluissa olevan csv-tiedoston ja tallentaa sen sisältämän datan taulukkona muuttujaan. Annetaan muuttujalle nimeksi _pikkidata_ + _ryhmän numero_.\n",
    "\n",
    "$\\color{red}{\\text{Ajakaa esim. näppäimillä [ctrl] + [enter]}}$"
   ]
  },
  {
   "cell_type": "code",
   "execution_count": 4,
   "metadata": {
    "collapsed": true
   },
   "outputs": [],
   "source": [
    "piikkidata1 = pd.read_csv('https://raw.githubusercontent.com/cms-opendata-education/cms-jupyter-materials-finnish/master/Data/piikkidata1.csv')\n",
    "#piikkidata2 = pd.read_csv('https://raw.githubusercontent.com/cms-opendata-education/cms-jupyter-materials-finnish/master/Data/piikkidata2.csv')\n",
    "#piikkidata3 = pd.read_csv('https://raw.githubusercontent.com/cms-opendata-education/cms-jupyter-materials-finnish/master/Data/piikkidata3.csv')\n",
    "#piikkidata4 = pd.read_csv('https://raw.githubusercontent.com/cms-opendata-education/cms-jupyter-materials-finnish/master/Data/piikkidata4.csv')\n",
    "#piikkidata5 = pd.read_csv('https://raw.githubusercontent.com/cms-opendata-education/cms-jupyter-materials-finnish/master/Data/piikkidata5.csv')\n",
    "#piikkidata6 = pd.read_csv('https://raw.githubusercontent.com/cms-opendata-education/cms-jupyter-materials-finnish/master/Data/piikkidata6.csv')"
   ]
  },
  {
   "cell_type": "markdown",
   "metadata": {},
   "source": [
    "___  \n",
    "\n",
    "<a id=\"os1\"></a>\n",
    "# 1. Datan tarkastelu\n",
    "Edellisessä koodisolussa latasit tiedoston netistä, luit sen csv-muodosta ja tallensit muuttujaan. Mutta miten saamme tietää miltä lataamamme data näyttää? Lukekaa ajatuksella läpi alla oleva esimerkki. Sitten koittakaa tutkia ryhmänne piikkidataa ja löytää vastaukset ensimmäisiin kysymyksiin.\n",
    "\n",
    "<br>\n",
    "<details>\n",
    "    <summary>$\\color{orange}{\\text{Hyödyllisiä Python komentoja}}$</summary>\n",
    "    \n",
    "    - `tiedostonnimi.head()` tulostaa tiedoston 5 ensimmäistä riviä <br>\n",
    "    \n",
    "    - `tiedostonnimi.sarakkeenotsikko` palauttaa taulukosta tämän sarakkeen arvot. <br>\n",
    "    \n",
    "    - `print()` tulostaa sulkujen sisällä olevan arvon <br>\n",
    "    \n",
    "    - `len()` palauttaa sulkujen sisällä olevan listan/jonon/taulukon pituuden <br>\n",
    "    \n",
    "    - `min()` palauttaa sulkujen sisällä olevan datan pienimmän arvon <br>\n",
    "    \n",
    "    - `max()` palauttaa datan suurimman arvon <br>\n",
    "    \n",
    "</details>\n",
    "\n",
    "****\n",
    "\n",
    "### $\\color{purple}{\\text{Esimerkki 1:}}$  Taulukon (_Pandas DataFrame_) tutkiminen ja käyttäminen\n",
    "Lukekaa ensin huolella ja ajakaa sitten solut järjestyksessä.\n",
    "Esimerkin numerot ovat todellisten koeasemien mittoja. [[7](#mitat)]"
   ]
  },
  {
   "cell_type": "code",
   "execution_count": 22,
   "metadata": {
    "collapsed": true
   },
   "outputs": [],
   "source": [
    "# Tätä ei tarvitse ymmärtää sillä latasitte jo tutkittavan datan netistä.\n",
    "LHC_koeasemat=pd.DataFrame({'Nimi':['CMS', 'ATLAS', 'ALICE', 'LHCb'],\n",
    "        'Paino':[14000, 7000, 10000, 5600], #tonneja\n",
    "        'Pituus':[21, 46, 26, 21], #metrejä\n",
    "        'Leveys':[15, 25, 16, 13], #metrejä\n",
    "        'Korkeus':[15, 25, 16, 10]})  #metrejä\n",
    "# luodaan taulukko ja tallennetaan se muuttujaan \"LHC_koeasemat\" \n",
    "# Taulukko sisältää LHC kiihdyttimen varrella olevien koeasemien tietoja [lähdee]."
   ]
  },
  {
   "cell_type": "code",
   "execution_count": null,
   "metadata": {
    "collapsed": true
   },
   "outputs": [],
   "source": [
    "# HEAD-komennon käyttö:\n",
    "LHC_koeasemat.head() #palauttaa taulukon 5 ensimmäistä riviä"
   ]
  },
  {
   "cell_type": "code",
   "execution_count": null,
   "metadata": {
    "collapsed": true
   },
   "outputs": [],
   "source": [
    "# Valitaan sarake \"Nimi\" ja tulostetaan se\n",
    "print(LHC_koeasemat.Nimi)"
   ]
  },
  {
   "cell_type": "code",
   "execution_count": null,
   "metadata": {
    "collapsed": true
   },
   "outputs": [],
   "source": [
    "#lasketaan montako riviä taulukossa on ja tulostetaan vastaus\n",
    "pituus=len(LHC_koeasemat)\n",
    "print(pituus)"
   ]
  },
  {
   "cell_type": "code",
   "execution_count": null,
   "metadata": {
    "collapsed": true
   },
   "outputs": [],
   "source": [
    "# LHC_koeasemat.Paino                 valitsee tutkittavaksi sarakkeen jossa on ilmaisimien painot\n",
    "# max(LHC_koeasemat.Paino )         etsii painoista suurimman\n",
    "# print(max(LHC_koeasemat.Paino))     tulostaa max() funktiolla saaadun suurimman massan.\n",
    "\n",
    "suurin=max(LHC_koeasemat.Paino)\n",
    "print(suurin)\n",
    "\n",
    "#samaan tapaan:\n",
    "pienin=min(LHC_koeasemat.Korkeus)\n",
    "print(pienin)"
   ]
  },
  {
   "cell_type": "markdown",
   "metadata": {},
   "source": [
    "****\n",
    "### Tutkikaa ladattua tiedostoa \n",
    "Seuraavaksi kokeilkaa kirjoittaa itse koodia.\n",
    "Haetussa datassa on monta tapahtumaa, joista jokaisesta on tallennettu useita arvoja. Lisäksi jokaisessa tapahtumassa syntyi 2 myonia jotenka dataan on tallennettu arvot molemmille myoneille. Numerointi 1 tai 2 kertoo kummalle myonille kyseinen arvo kuuluu. \n",
    "\n",
    "Tehtävän kannalta __oleellisia ovat__:\n",
    "   - __px__ : $p_x$ on kyseisen myonin (1 tai 2) liikemäärän x-akselin suuntainen komponentti (GeV).\n",
    "   - __py__ : $p_y$ on myonin (1 tai 2) liikemäärän y-komponentti (GeV).\n",
    "   - __pz__ : $p_z$ on myonin (1 tai 2) liikemäärän z-komponentti (GeV).\n",
    "   - __E__ : $E$ on myonin (1 tai 2) energia (GeV).\n",
    "   \n",
    "\n",
    "<br>\n",
    "<details>\n",
    "    <summary>Muita arvoja taulukossa</summary>\n",
    "    \n",
    "   - __Run__ ja __Event__ : kertovat mistä törmäyksestä kyseisen rivin data on peräisin.\n",
    "   - __pt__ : $p_t$ (transverse momentum) myonin liikemäärän komponentti joka on kohtisuorassa hiukkassuihkua vastaan (GeV).\n",
    "   - __eta__ : $\\eta$ on pseudorapiditeetti.\n",
    "   - __phi__ : $\\phi$ (atsimuuttikulma) on kulma jonka suuntaan hiukkanen kulkee jos detektoria tarkastellaan  hiukkassuihkun akselilta (rad).\n",
    "   - __Q__ : on myonin varaus. Jokaisessa dataan valitussa törmäyksessä syntyy myoni ja antimyoni ($\\mu^+ , \\mu^-$) [1].\n",
    "   - __M__ : palataan tähän myöhemmin.\n",
    "   \n",
    "   </details>\n",
    "\n",
    " \n",
    "\n",
    " \n",
    " Kysymykset:\n",
    "- $\\color{blue}{\\text{Kuinka monta mittausta tiedostossa on?}}$\n",
    "- $\\color{blue}{\\text{Mikä on suurin energia, joka myonille on havaittu?}}$\n",
    "- $\\color{blue}{\\text{Mikä on pienin liikemäärän y-komponentti joka myonille on havaittu?}}$\n",
    "\n",
    " [$\\color{green}{\\text{Vastaukset taulukossa}}$](#taulukko)\n",
    " \n",
    "Kirjoittakaa koodi jolla saatte vastaukset kysymyksiin!"
   ]
  },
  {
   "cell_type": "code",
   "execution_count": 5,
   "metadata": {},
   "outputs": [
    {
     "name": "stdout",
     "output_type": "stream",
     "text": [
      "Tiedostossa on 48223 eventtiä.\n",
      "Suurin mitattu energia myonille on 249.377 GeV\n",
      "Pienin myonin energia on 2.66819 GeV\n"
     ]
    },
    {
     "data": {
      "text/html": [
       "<div>\n",
       "<style>\n",
       "    .dataframe thead tr:only-child th {\n",
       "        text-align: right;\n",
       "    }\n",
       "\n",
       "    .dataframe thead th {\n",
       "        text-align: left;\n",
       "    }\n",
       "\n",
       "    .dataframe tbody tr th {\n",
       "        vertical-align: top;\n",
       "    }\n",
       "</style>\n",
       "<table border=\"1\" class=\"dataframe\">\n",
       "  <thead>\n",
       "    <tr style=\"text-align: right;\">\n",
       "      <th></th>\n",
       "      <th>Run</th>\n",
       "      <th>Event</th>\n",
       "      <th>Type1</th>\n",
       "      <th>E1</th>\n",
       "      <th>px1</th>\n",
       "      <th>py1</th>\n",
       "      <th>pz1</th>\n",
       "      <th>pt1</th>\n",
       "      <th>eta1</th>\n",
       "      <th>phi1</th>\n",
       "      <th>...</th>\n",
       "      <th>Type2</th>\n",
       "      <th>E2</th>\n",
       "      <th>px2</th>\n",
       "      <th>py2</th>\n",
       "      <th>pz2</th>\n",
       "      <th>pt2</th>\n",
       "      <th>eta2</th>\n",
       "      <th>phi2</th>\n",
       "      <th>Q2</th>\n",
       "      <th>M</th>\n",
       "    </tr>\n",
       "  </thead>\n",
       "  <tbody>\n",
       "    <tr>\n",
       "      <th>0</th>\n",
       "      <td>165617</td>\n",
       "      <td>75206813</td>\n",
       "      <td>G</td>\n",
       "      <td>10.16230</td>\n",
       "      <td>0.476262</td>\n",
       "      <td>-8.51642</td>\n",
       "      <td>5.52306</td>\n",
       "      <td>8.52973</td>\n",
       "      <td>0.609133</td>\n",
       "      <td>-1.51493</td>\n",
       "      <td>...</td>\n",
       "      <td>G</td>\n",
       "      <td>19.77540</td>\n",
       "      <td>2.750800</td>\n",
       "      <td>-13.98710</td>\n",
       "      <td>13.70590</td>\n",
       "      <td>14.25500</td>\n",
       "      <td>0.853872</td>\n",
       "      <td>-1.376610</td>\n",
       "      <td>1</td>\n",
       "      <td>3.11319</td>\n",
       "    </tr>\n",
       "    <tr>\n",
       "      <th>1</th>\n",
       "      <td>165617</td>\n",
       "      <td>74428554</td>\n",
       "      <td>G</td>\n",
       "      <td>21.82790</td>\n",
       "      <td>-6.221380</td>\n",
       "      <td>11.08450</td>\n",
       "      <td>17.74470</td>\n",
       "      <td>12.71110</td>\n",
       "      <td>1.135660</td>\n",
       "      <td>2.08225</td>\n",
       "      <td>...</td>\n",
       "      <td>G</td>\n",
       "      <td>36.65130</td>\n",
       "      <td>-10.687400</td>\n",
       "      <td>15.06920</td>\n",
       "      <td>31.65440</td>\n",
       "      <td>18.47430</td>\n",
       "      <td>1.307610</td>\n",
       "      <td>2.187680</td>\n",
       "      <td>1</td>\n",
       "      <td>3.10098</td>\n",
       "    </tr>\n",
       "    <tr>\n",
       "      <th>2</th>\n",
       "      <td>165617</td>\n",
       "      <td>74981507</td>\n",
       "      <td>G</td>\n",
       "      <td>30.58620</td>\n",
       "      <td>15.521800</td>\n",
       "      <td>5.12931</td>\n",
       "      <td>-25.85090</td>\n",
       "      <td>16.34740</td>\n",
       "      <td>-1.239060</td>\n",
       "      <td>0.31916</td>\n",
       "      <td>...</td>\n",
       "      <td>G</td>\n",
       "      <td>12.48680</td>\n",
       "      <td>7.764020</td>\n",
       "      <td>1.04247</td>\n",
       "      <td>-9.72328</td>\n",
       "      <td>7.83369</td>\n",
       "      <td>-1.042090</td>\n",
       "      <td>0.133471</td>\n",
       "      <td>-1</td>\n",
       "      <td>3.07267</td>\n",
       "    </tr>\n",
       "    <tr>\n",
       "      <th>3</th>\n",
       "      <td>165617</td>\n",
       "      <td>75612982</td>\n",
       "      <td>G</td>\n",
       "      <td>7.55441</td>\n",
       "      <td>1.291290</td>\n",
       "      <td>-5.35884</td>\n",
       "      <td>-5.16462</td>\n",
       "      <td>5.51223</td>\n",
       "      <td>-0.836073</td>\n",
       "      <td>-1.33434</td>\n",
       "      <td>...</td>\n",
       "      <td>T</td>\n",
       "      <td>3.84161</td>\n",
       "      <td>-0.989578</td>\n",
       "      <td>-3.45483</td>\n",
       "      <td>-1.35340</td>\n",
       "      <td>3.59376</td>\n",
       "      <td>-0.368220</td>\n",
       "      <td>-1.849760</td>\n",
       "      <td>1</td>\n",
       "      <td>3.10045</td>\n",
       "    </tr>\n",
       "    <tr>\n",
       "      <th>4</th>\n",
       "      <td>165617</td>\n",
       "      <td>74760204</td>\n",
       "      <td>G</td>\n",
       "      <td>24.63760</td>\n",
       "      <td>9.983590</td>\n",
       "      <td>19.14260</td>\n",
       "      <td>-11.86970</td>\n",
       "      <td>21.58960</td>\n",
       "      <td>-0.525296</td>\n",
       "      <td>1.09007</td>\n",
       "      <td>...</td>\n",
       "      <td>G</td>\n",
       "      <td>11.02130</td>\n",
       "      <td>3.378510</td>\n",
       "      <td>7.82724</td>\n",
       "      <td>-6.98411</td>\n",
       "      <td>8.52525</td>\n",
       "      <td>-0.747611</td>\n",
       "      <td>1.163320</td>\n",
       "      <td>-1</td>\n",
       "      <td>3.18964</td>\n",
       "    </tr>\n",
       "  </tbody>\n",
       "</table>\n",
       "<p>5 rows × 21 columns</p>\n",
       "</div>"
      ],
      "text/plain": [
       "      Run     Event Type1        E1        px1       py1       pz1       pt1  \\\n",
       "0  165617  75206813     G  10.16230   0.476262  -8.51642   5.52306   8.52973   \n",
       "1  165617  74428554     G  21.82790  -6.221380  11.08450  17.74470  12.71110   \n",
       "2  165617  74981507     G  30.58620  15.521800   5.12931 -25.85090  16.34740   \n",
       "3  165617  75612982     G   7.55441   1.291290  -5.35884  -5.16462   5.51223   \n",
       "4  165617  74760204     G  24.63760   9.983590  19.14260 -11.86970  21.58960   \n",
       "\n",
       "       eta1     phi1   ...     Type2        E2        px2       py2       pz2  \\\n",
       "0  0.609133 -1.51493   ...         G  19.77540   2.750800 -13.98710  13.70590   \n",
       "1  1.135660  2.08225   ...         G  36.65130 -10.687400  15.06920  31.65440   \n",
       "2 -1.239060  0.31916   ...         G  12.48680   7.764020   1.04247  -9.72328   \n",
       "3 -0.836073 -1.33434   ...         T   3.84161  -0.989578  -3.45483  -1.35340   \n",
       "4 -0.525296  1.09007   ...         G  11.02130   3.378510   7.82724  -6.98411   \n",
       "\n",
       "        pt2      eta2      phi2  Q2        M  \n",
       "0  14.25500  0.853872 -1.376610   1  3.11319  \n",
       "1  18.47430  1.307610  2.187680   1  3.10098  \n",
       "2   7.83369 -1.042090  0.133471  -1  3.07267  \n",
       "3   3.59376 -0.368220 -1.849760   1  3.10045  \n",
       "4   8.52525 -0.747611  1.163320  -1  3.18964  \n",
       "\n",
       "[5 rows x 21 columns]"
      ]
     },
     "execution_count": 5,
     "metadata": {},
     "output_type": "execute_result"
    }
   ],
   "source": [
    "#Tähänn tulee teidän itse kirjoittama koodi!\n",
    "\n",
    "##########################################\n",
    "######    Opettajan mallikoodi    ########\n",
    "pituus= len(piikkidata1)\n",
    "print(\"Tiedostossa on \" + str(pituus) + \" eventtiä.\")\n",
    "\n",
    "maksimi=max(max(piikkidata1['E1']),max(piikkidata1['E2']))\n",
    "print(\"Suurin mitattu energia myonille on \" + str(maksimi) + \" GeV\")\n",
    "\n",
    "minimi=min(min(piikkidata1['E1']),min(piikkidata1['E2']))\n",
    "print(\"Pienin myonin energia on \" + str(minimi) + \" GeV\")\n",
    "\n",
    "piikkidata1.head()"
   ]
  },
  {
   "cell_type": "markdown",
   "metadata": {},
   "source": [
    " #### $\\color{purple}{\\text{Tarkistakaa}}$ saamanne arvot ajamalla alla oleva solu ja vastaamalla kysymyksiin."
   ]
  },
  {
   "cell_type": "code",
   "execution_count": 16,
   "metadata": {},
   "outputs": [
    {
     "name": "stdout",
     "output_type": "stream",
     "text": [
      "Tällä ohjelmalla voit tarkistaa saamasi arvot.\n",
      " Voit ohittaa kysymyksen vastaamalla \"skip\"\n",
      "\n",
      "\n",
      "Kirjoita tiedostosi nimi (esim. piikkidata1):\n",
      "piikkidata1\n",
      "Montako tapahtumaa datassa on? \n",
      "48223\n"
     ]
    },
    {
     "data": {
      "image/png": "[encoded data removed]",
      "text/plain": [
       "<matplotlib.figure.Figure at 0x7fa2dd494b38>"
      ]
     },
     "metadata": {},
     "output_type": "display_data"
    },
    {
     "name": "stdout",
     "output_type": "stream",
     "text": [
      "Oikea vastaus! \n",
      "\n",
      "Myonin maksimi energia datassa? Käyttäkää desimaalierottimena pistettä.\n",
      "249.377\n",
      "Oikea vastaus! \n",
      "\n",
      "Mikä oli pienin Myonin energia datassa? Käyttäkää desimaalierottimena pistettä.\n",
      "2.668\n",
      "Hienoa! \n",
      "\n",
      "Tarkistus päättynyt.\n"
     ]
    }
   ],
   "source": [
    "tarkista_arvot()"
   ]
  },
  {
   "cell_type": "markdown",
   "metadata": {},
   "source": [
    "**** \n",
    "<a id=\"os2\"></a>\n",
    "# 2. Datan käsittely\n",
    "## Laskuja Pythonilla\n",
    "Python on monikäyttöinen ohjelmointikieli, jolla voidaan käsitellä suuria määriä dataa ja suorittaa teokkaasti laskutoimituksia. Aloitetaan harjoittelu perus laskuista ja käytetään yllä esitettyä esimerkkiä. Esimerkkitaulukko on jo tallennettu tietokoneen muistiin.\n",
    "\n",
    "Alussa latasimme _numpy_ kirjaston ja tallensimme sen nimellä _np_. Kirjasto sisältää valmiiksi määriteltyjä funktioita, jota helpottavat laskujen suorittamista. Esimerkiksi:\n",
    "\n",
    "> `np.sqrt(x)`         vastaa **$\\sqrt x$**. \n",
    "\n",
    "> `(x)**2`  ja  `np.square(x)`     vastaavat molemmat **$x^2$**\n",
    "\n",
    "> `np.pi`     antaa **$\\pi$** :n likiarvon\n",
    "\n",
    "****\n",
    "\n",
    "### $\\color{purple}{\\text{Esimerkki 2:}}$  Laskuja taulukon arvoilla\n",
    "\n",
    "Yksinkertaisuuden vuoksi oletetaan, että kaikki listan hiukkasilmaisimet olisivat lieriöitä. Näin ei kuitenkaan todellisuudessa ole."
   ]
  },
  {
   "cell_type": "code",
   "execution_count": 7,
   "metadata": {},
   "outputs": [
    {
     "data": {
      "text/html": [
       "<div>\n",
       "<style>\n",
       "    .dataframe thead tr:only-child th {\n",
       "        text-align: right;\n",
       "    }\n",
       "\n",
       "    .dataframe thead th {\n",
       "        text-align: left;\n",
       "    }\n",
       "\n",
       "    .dataframe tbody tr th {\n",
       "        vertical-align: top;\n",
       "    }\n",
       "</style>\n",
       "<table border=\"1\" class=\"dataframe\">\n",
       "  <thead>\n",
       "    <tr style=\"text-align: right;\">\n",
       "      <th></th>\n",
       "      <th>Korkeus</th>\n",
       "      <th>Leveys</th>\n",
       "      <th>Nimi</th>\n",
       "      <th>Paino</th>\n",
       "      <th>Pituus</th>\n",
       "    </tr>\n",
       "  </thead>\n",
       "  <tbody>\n",
       "    <tr>\n",
       "      <th>0</th>\n",
       "      <td>15</td>\n",
       "      <td>15</td>\n",
       "      <td>CMS</td>\n",
       "      <td>14000</td>\n",
       "      <td>21</td>\n",
       "    </tr>\n",
       "    <tr>\n",
       "      <th>1</th>\n",
       "      <td>25</td>\n",
       "      <td>25</td>\n",
       "      <td>ATLAS</td>\n",
       "      <td>7000</td>\n",
       "      <td>46</td>\n",
       "    </tr>\n",
       "    <tr>\n",
       "      <th>2</th>\n",
       "      <td>16</td>\n",
       "      <td>16</td>\n",
       "      <td>ALICE</td>\n",
       "      <td>10000</td>\n",
       "      <td>26</td>\n",
       "    </tr>\n",
       "    <tr>\n",
       "      <th>3</th>\n",
       "      <td>10</td>\n",
       "      <td>13</td>\n",
       "      <td>LHCb</td>\n",
       "      <td>5600</td>\n",
       "      <td>21</td>\n",
       "    </tr>\n",
       "  </tbody>\n",
       "</table>\n",
       "</div>"
      ],
      "text/plain": [
       "   Korkeus  Leveys   Nimi  Paino  Pituus\n",
       "0       15      15    CMS  14000      21\n",
       "1       25      25  ATLAS   7000      46\n",
       "2       16      16  ALICE  10000      26\n",
       "3       10      13   LHCb   5600      21"
      ]
     },
     "execution_count": 7,
     "metadata": {},
     "output_type": "execute_result"
    }
   ],
   "source": [
    "#muistellaan mitä taulukko näyttikään\n",
    "LHC_koeasemat.head()"
   ]
  },
  {
   "cell_type": "markdown",
   "metadata": {},
   "source": [
    " <img src=\"https://github.com/cms-opendata-education/cms-jupyter-materials-finnish/blob/master/Kuvat/laskuharjoitus_lavistaja.PNG?raw=true\"  align=\"right\" width=\"400px\" title=\"[Kuva 1]  Törmäyksestä syntyneiden kahden myonin invariantin massan jakauma vuosilta 2017 ja 2018. Jakaumasta erottaa selvästi niiden hiukkasten piikit jotka voivat hajota kahdeksi myoniksi.\">\n",
    "\n",
    " \n",
    "Kun tehtiin oletus että jokainen ilmaisin on lieriö voidaan helposti laskea \n",
    "- **tilavuudet V :**  $\\pi (0.5 r)^2 \\cdot l$  \n",
    "- **tiheydet :** $\\frac{m}{V}$.\n",
    "- **lävistäjät x :** pythagoran lauseen avulla, $\\sqrt{(r)^2+l^2}$\n",
    "\n",
    ", missä **$r$** on lieriön pohjan lävistäjä eli ilmaisimen korkeus, **$l$** lieriön korkeus eli ilmaisimen pituus ja **$m$** ilmaisimen massa."
   ]
  },
  {
   "cell_type": "code",
   "execution_count": 8,
   "metadata": {},
   "outputs": [
    {
     "name": "stdout",
     "output_type": "stream",
     "text": [
      "0     3711.006322\n",
      "1    22580.197198\n",
      "2     5227.610176\n",
      "3     1649.336143\n",
      "dtype: float64\n"
     ]
    }
   ],
   "source": [
    "#   tilavuuden laskemine \n",
    "\n",
    "tilavuus = np.pi * (LHC_koeasemat.Korkeus /2 )**2 * LHC_koeasemat.Pituus\n",
    "print(tilavuus)"
   ]
  },
  {
   "cell_type": "code",
   "execution_count": 25,
   "metadata": {},
   "outputs": [
    {
     "name": "stdout",
     "output_type": "stream",
     "text": [
      "0    3.772562\n",
      "1    0.310006\n",
      "2    1.912920\n",
      "3    3.395305\n",
      "dtype: float64\n"
     ]
    }
   ],
   "source": [
    "#  tiheyden laskemine\n",
    "\n",
    "tiheys = LHC_koeasemat.Paino / tilavuus\n",
    "print(tiheys)"
   ]
  },
  {
   "cell_type": "code",
   "execution_count": 26,
   "metadata": {},
   "outputs": [
    {
     "name": "stdout",
     "output_type": "stream",
     "text": [
      "0    25.806976\n",
      "1    52.354560\n",
      "2    30.528675\n",
      "3    23.259407\n",
      "dtype: float64\n"
     ]
    }
   ],
   "source": [
    "#  lävistäjän laskemine\n",
    "\n",
    "lävistäjä= np.sqrt((LHC_koeasemat.Pituus)**2 + (LHC_koeasemat.Korkeus)**2)\n",
    "print(lävistäjä)"
   ]
  },
  {
   "cell_type": "markdown",
   "metadata": {},
   "source": [
    "****\n",
    "## Invariantin massan laskeminen\n",
    "\n",
    "Datassa on havaintoja kahdesta törmäyksen synnyttämästä myonista. Jotta voisimme ymmmärtää paremmin mitä törmäyksessä on todella tapahtunut on dataa kerättävä paljon ja sen perusteella päätellä mitä tapahtui siellä mihin hiukkasilmaisinkaan ei näe. Törmäyksestä sinkoilevista vakaammista hiukkasista ja niiden energioista voimme päätellä invariantin massan avulla mistä ne saattavat olla kotoisin.\n",
    "\n",
    "$\\color{blue}{\\text{Laskekaa ryhmänne datalle invariantin masssan arvot}}$, ehkä sieltä löytyy jotain mielenkiintoista?"
   ]
  },
  {
   "cell_type": "markdown",
   "metadata": {},
   "source": [
    "Käytetään laskussa seuraavaa lauseketta invariantille massalle \n",
    "\n",
    "$M = \\sqrt{(E_1 + E_2)^2 - \\|\\textbf{p}_1 + \\textbf{p}_2 \\| ^2}$\n",
    "\n",
    "missä $\\|\\textbf{p}_1 + \\textbf{p}_2 \\|^2$ on vektorinormin neliö ja se voidaan laskea seuraavan kaavan mukaisesti,\n",
    "\n",
    " $\\|\\textbf{p}_1 + \\textbf{p}_2 \\|^2=(p_{x1}+p_{x2})^2+(p_{y1}+p_{y2})^2+(p_{z1}+p_{z2})^2$\n",
    "\n",
    "Kannattaa suorittaa välivaiheita ja tallentaa niiden tulokset muuttujiin. Muuttujia voi sitten käyttää lopullisen tuloksen laskemisessa."
   ]
  },
  {
   "cell_type": "code",
   "execution_count": 9,
   "metadata": {
    "collapsed": true
   },
   "outputs": [],
   "source": [
    "#Kirjoittakaa tähän koodi joka suorittaa invariantin massan laskun\n",
    "\n",
    "##########################################\n",
    "######    Opettajan mallikoodi    ########\n",
    "\n",
    "vektorinormi= np.square(piikkidata1.px1 + piikkidata1.px2) + np.square (piikkidata1.py1 + piikkidata1.py2) + np.square(piikkidata1.pz1 + piikkidata1.pz2)\n",
    "invarianttimassa1= np.sqrt((np.square( piikkidata1.E1 + piikkidata1.E2 )) - vektorinormi)"
   ]
  },
  {
   "cell_type": "markdown",
   "metadata": {},
   "source": [
    "#### $\\color{purple}{\\text{Tarkistakaa}}$ saamanne arvot ajamalla alla oleva solu ja vastaamalla kysymyksiin."
   ]
  },
  {
   "cell_type": "code",
   "execution_count": null,
   "metadata": {
    "collapsed": true,
    "scrolled": true
   },
   "outputs": [],
   "source": [
    "tarkista_inv_massat()"
   ]
  },
  {
   "cell_type": "markdown",
   "metadata": {},
   "source": [
    "\n",
    "<br>\n",
    "<details>\n",
    "    <summary>$\\color{orange}{\\text{psst...}}$</summary>\n",
    "Tarkkasilmäisimmät saattoivatkin jo huomata, että invariantti massa oli jo valmiiksi laskettuna sarakkessa 'M'. Voitte halutessanne vertailla saamianne vastauksia valmiiksi laskettuihin. \n",
    "    \n",
    "        \n",
    "</details>"
   ]
  },
  {
   "cell_type": "code",
   "execution_count": 10,
   "metadata": {},
   "outputs": [
    {
     "data": {
      "text/plain": [
       "-3.084725162453418e-06"
      ]
     },
     "execution_count": 10,
     "metadata": {},
     "output_type": "execute_result"
    }
   ],
   "source": [
    "##########################################\n",
    "######    Opettajan mallikoodi    ########\n",
    "\n",
    "np.mean(invarianttimassa1-piikkidata1.M)"
   ]
  },
  {
   "cell_type": "markdown",
   "metadata": {},
   "source": [
    "****\n",
    "<a id=\"os3\"></a>\n",
    "# 3. Datan visualisointi\n",
    "\n",
    "### $\\color{purple}{\\text{Esimerkki 3:}}$  Histogrammi Pythonilla\n",
    "Voitte tarkastella laskemianne invariantin massan arvoja _head()_ funktion avulla, mutta tuhansien numeroiden katselu listana ei ole järkevää. Nähdäkemme fysiikkaa mittausten takana on numerot esitettävä havainnolistavassa muodossa. Tässä kohtaa astuu esiin _histogrammi_. Histogrammi on voittamaton työkalu hiukkasfysiikan tutkimuksessa, jossa tapahtummia on suuri määrä ja ne jakautuvat todennäköisyyksien mukaan.\n",
    "\n",
    "Käytetään histogrammin piirtoon _matplotlib.pyplot_ pakettia jonka tallensimme alussa nimellä `plt`. Paketilla piirretään histogrammi helposti funktion `plt.hist()` avulla."
   ]
  },
  {
   "cell_type": "code",
   "execution_count": 11,
   "metadata": {},
   "outputs": [
    {
     "data": {
      "image/png": "[encoded data removed]",
      "text/plain": [
       "<matplotlib.figure.Figure at 0x7f3d28c4ce80>"
      ]
     },
     "metadata": {},
     "output_type": "display_data"
    }
   ],
   "source": [
    "# Luodaan histogrammi\n",
    "# plt.hist()ottaa argumenteiksi kolme arvoa:\n",
    "### tidoston nimi josta histogrammi piirretään\n",
    "### bins kertoo moneenko pylvääseen havainnot jaetaan\n",
    "### range määrittää alueen jolle histogrammi luodaan\n",
    "\n",
    "plt.hist(LHC_koeasemat.Korkeus, bins=4, range=(10,30))  \n",
    "\n",
    "# nimetään akselit\n",
    "plt.xlabel(\"Korkeus (m)\")\n",
    "plt.ylabel(\"Havaintojen lukumäärä\")\n",
    "\n",
    "# annetaan kuvaajalle otsikko\n",
    "plt.title(\"Histogrammi koeasemien korkeudesta\")\n",
    "\n",
    "# tulostetaan luotu kuvaaja\n",
    "plt.show()"
   ]
  },
  {
   "cell_type": "markdown",
   "metadata": {},
   "source": [
    "Pienillä datamäärillä histogrammi ei tuo lisäarvoa numeroiden tarkasteluun, eikä siitä ole hyötyä. Palataan kuitenkin tutkittavaan aiheiseen, ja kokeillaan saadaanko histogrammilla selvyyttä _piikkidataan_.\n",
    "\n",
    "**** \n",
    "\n",
    "## Histogrammi piikkidatasta\n",
    "\n",
    "$\\color{blue}{\\text{Piirtäkää laskemistanne invariantin massan arvoista histogrammi.}}$ Kokeilkaa ensin itse ja kurkatkaa sitten _vinkkejä_.\n",
    "\n",
    "<br>\n",
    "<details>\n",
    "    <summary>$\\color{orange}{\\text{Vinkkejä}}$</summary>\n",
    "    \n",
    "**tiedosto** <br>\n",
    "\n",
    "Laskitte aijemmin invariantin massan arvot ja tallensitte ne johonkin muuttujaan. Riittää, kun kirjoitatte kyseisen muuttujan nimen.<br><br>\n",
    "    \n",
    "**range** <br>\n",
    "\n",
    "Kannattaa ensin tarkastella _max()_ ja _min()_ funktioiden avulla millaisia arvoja laskemanne invariantti massa saa. Näin saatte määriteltyä histogrammin piirtoalueen (_range=(min,max)_) helposti.\n",
    "<br>\n",
    "Tämän jälkeenkin kannattaa rajata kuvaa vielä hieman, jotta näette piikin hyvin.\n",
    "<br><br>\n",
    "**bins**<br>\n",
    "\n",
    "Kokeilkaa eri vaihtoehtoja, ja pitäkää mielessä montako tapahtumaa datassa olikaan. Voitte myös tarkistakaa sen _len()_ funktion avulla. \n",
    "    \n",
    "</details>"
   ]
  },
  {
   "cell_type": "code",
   "execution_count": 13,
   "metadata": {},
   "outputs": [
    {
     "data": {
      "image/png": "[encoded data removed]",
      "text/plain": [
       "<matplotlib.figure.Figure at 0x7f3d2893c1d0>"
      ]
     },
     "metadata": {},
     "output_type": "display_data"
    }
   ],
   "source": [
    "#Kirjoittakaa tähän koodi joka piirtää histogrammin. Muistakaa myös nimetä akselit ja kuvaaja.\n",
    "\n",
    "\n",
    "##########################################\n",
    "######    Opettajan mallikoodi    ########\n",
    "\n",
    "minimi=min(invarianttimassa1)\n",
    "maksimi=max(invarianttimassa1)\n",
    "\n",
    "#plt.hist(invarianttimassa1, bins=1000, range=(minimi,maksimi)) \n",
    "#turhan leveä range, parempi olisi (2.95, 3.2)\n",
    "plt.hist(invarianttimassa1, bins=500, range=(2.95,3.2)) \n",
    "\n",
    "plt.xlabel('Invariantti massa [GeV]')\n",
    "plt.ylabel('Tapahtumien lukumäärä')\n",
    "\n",
    "plt.title('Kahden myonin invariantti massa\\n')\n",
    "\n",
    "plt.show()"
   ]
  },
  {
   "cell_type": "markdown",
   "metadata": {},
   "source": [
    "****\n",
    "<a id=\"os4\"></a>\n",
    "# 4. Kuvaajien tulkinta ja tulokset\n",
    "\n",
    "## Pohdintaa\n",
    "\n",
    "#### $\\color{blue}{\\text{Oliko histogrammissa nähtävissä jonkinlainen kuvio tai jakauma?}}$\n",
    "$\\color{green}{\\text{Vastaus}}$\n",
    "    Histogrammissa tulisi näkyä selvä piikki joka muistuttaa hieman normaalijakaumaa.\n",
    "\n",
    "#### $\\color{blue}{\\text{Mistä mahdollinen kuvio johtuu, vai voiko se olla sattumaa?}}$\n",
    "$\\color{green}{\\text{Vastaus}}$\n",
    "Kuvio johtuu emohiukkasen hajoamisesta kahdeksi myoniksi, joista sitten lasketaan invariantti massa. Kun dataa on paljon näkyy histogrammissa piikki emohiukkasen massaa vastaavan invariantinmassan arvon kohdalla. Lisäksi histogrammissa näkyy kohinaa joka johtuu siitä, että invariantti massa on laskettu myoneille, jotka eivät tosiasiassa ole peräisin samasta hajoamisesta.\n",
    "\n",
    "#### $\\color{blue}{\\text{Oliko histogrammin piirtäminen hyödyllistä?}}$\n"
   ]
  },
  {
   "cell_type": "markdown",
   "metadata": {},
   "source": [
    "\n",
    "## Tulosten vertailu\n",
    "\n",
    "Kesäopiskelijallamme on epävarma aavistus siitä mistä _piikkidatat_ saattavat olla peräisin. Hänellä on tietokeneellaan toinen tiedosto jossa on samoihin aikoihin CMS:llä mitattuja myonien arvoja. Alla oleva solu lataa kyseisen tiedoston myös teidän tutkittavaksi.  \n"
   ]
  },
  {
   "cell_type": "code",
   "execution_count": 15,
   "metadata": {
    "collapsed": true
   },
   "outputs": [],
   "source": [
    "# tallennetaan tidosto nimellä 'dimu2'\n",
    "dimu2=pd.read_csv('https://raw.githubusercontent.com/cms-opendata-education/cms-jupyter-materials-finnish/master/Data/DoubleMuRun2011A.csv')"
   ]
  },
  {
   "cell_type": "code",
   "execution_count": 27,
   "metadata": {},
   "outputs": [
    {
     "data": {
      "image/png": "[encoded data removed]",
      "text/plain": [
       "<matplotlib.figure.Figure at 0x7f3d28466b70>"
      ]
     },
     "metadata": {},
     "output_type": "display_data"
    },
    {
     "data": {
      "text/plain": [
       "475465"
      ]
     },
     "execution_count": 27,
     "metadata": {},
     "output_type": "execute_result"
    }
   ],
   "source": [
    "#Tutkikaa tiedostoa esimerkiksi invariantin massan histogrammin avulla.\n",
    "\n",
    "\n",
    "##########################################\n",
    "######    Opettajan mallikoodi    ########\n",
    "\n",
    "plt.hist(dimu2.M, bins=1000, range=(0.7,100)) \n",
    "plt.xlabel('Invariantti massa [GeV]')\n",
    "plt.ylabel('Tapahtumien lukumäärä')\n",
    "plt.title('Kahden myonin invariantti massa\\n')\n",
    "plt.show()\n",
    "len(dimu2)"
   ]
  },
  {
   "cell_type": "markdown",
   "metadata": {},
   "source": [
    "\n",
    "$\\color{blue}{\\text{Löydättekö uudesta tiedostosta kohdan joka vastaa ryhmänne  piikkdataa?}}$ \n",
    "\n",
    "$\\color{blue}{\\text{Voisiko piikkidata olla peräisin tästä suuremmasta tiedostosta?}}$\n",
    "\n",
    "<br>\n",
    " <img src=\"https://github.com/cms-opendata-education/cms-jupyter-materials-finnish/blob/master/Kuvat/inv_massa.PNG?raw=true\"  align=\"right\" width=\"600px\" title=\"[Kuva 8]  Törmäyksestä syntyneiden kahden myonin invariantin massan jakauma vuosilta 2017 ja 2018. Jakaumasta erottaa selvästi niiden hiukkasten piikit jotka voivat hajota kahdeksi myoniksi.\">\n",
    " <br>\n",
    " \n",
    "\n",
    "Lataamanne tiedosto on CMS:n mittausdataa vuodelta 2011. Tiedostoon on valittu vain ne tapahtumat joissa on syntynyt kaksi myonia. Kahden myonin data on kiinnostavaa, koska se voi olla peräisin monen eri hiukkasen hajoamisesta. Viereisessä kuvassa on esitetty  kahden myonin invariantin massan jakauma. Jakaumasta erottaa selvästi niiden hiukkasten piikit jotka voivat hajota kahdeksi myoniksi. Oikeassa tutkimuksessa vastaavat ennusteet ovat teoreettisten fyysikoiden tekemiä ja niiden perusteella voidaan päätellä mihin hiukkaseen piikki saattaa liittyä. \n",
    "\n",
    "$\\color{blue}{\\text{Vastaako mikään kuvan piikeistä piikkidatan piikkiä?}}$\n",
    "\n",
    "Jos vastaa, niin $\\color{blue}{\\text{mistä hiukkasesta on kyse?}}$\n",
    "\n",
    " |\tHiukkanen | Massa [GeV]    |\n",
    "|----------|:-----------------:|\n",
    "| η (eta) | 0.548 |\n",
    "|  ρ,  (rho) | 0.775|\n",
    "|    ω (omega)     |  0.782     |\n",
    "|   φ (phi)     | 1.019  |\n",
    "|   J/ψ (J/psi) |  3.097  |\n",
    "|   ψ’ (psi) | 3.686 |\n",
    "| Υ (ypsilon) | 9.460 |\n",
    "| Z-bosoni  | 91.188 |\n",
    "\n",
    "\n",
    "Miksi kuva näyttää niin erilaiselta verrattuna dimu2 tiedoston histogrammiin, vaikka molemmissa on piirretty kahden myonin invarianttien massojen histogrammi? \n",
    "\n",
    "$\\color{blue}{\\text{Mitä korjauksia tulisi tehdä jotta dimu2-histogrammi muistuttaisi enemmän kuvan muotoa?}}$\n",
    "\n",
    "\n",
    "\n",
    "  \n",
    "\n"
   ]
  },
  {
   "cell_type": "markdown",
   "metadata": {},
   "source": [
    "****\n",
    "<a id=\"yhteenveto\"></a>\n",
    "# 5. Koonti\n",
    "Kun hands-on osio on suoritettu, on hyvä kerätä tulokset ja muistella mitä tehtiin. Tämän __opettajan notebookin__ avulla saadaan myös luotua tulokset tiivistävä kuvaaja datasta.  Koonti tapahtuu kyselemällä oppilailta parannusideoita, ja sitä mukaan poistamlla __#__ vastaavilta koodiriveiltä. Kuva aukeaa uuteen ikkunaan, jonka voi esittää taululla oppilaille.\n",
    "\n",
    "### Kuvaaja"
   ]
  },
  {
   "cell_type": "markdown",
   "metadata": {},
   "source": [
    "Ensin koitetaan saada kuvaajasta selkeämpi kysymyksillä:\n",
    "\n",
    "- Miksi kuva näyttää niin erilaiselta verrattuna itse piirtämäänne histogrammiin? Onko mahdollista tehdä joitain korjauksia joiden avulla histogrammi muistuttaisi enemmän kuvan muotoa?\n",
    "    - logariminen asteikko x- ja y- akseleilla\n",
    "    - range --> (0.3,110)\n",
    "- Miten nimeäisimme akselit, mitkä ovat niiden yksiköt?\n",
    "    - x-akseli: 'Invariantti massa [GeV]'\n",
    "    - y-akseli:  'Tapahtumien lukumäärä / GeV'\n",
    "    \n",
    "Poista kommentit sitä mukaan, kun oppilaat keksivät parannusideoita!\n",
    " \n",
    "Lopuksi kysy piikkidatan piikin kohta ja hiukkasen nimi tekstien lisäämiseksi."
   ]
  },
  {
   "cell_type": "code",
   "execution_count": 18,
   "metadata": {},
   "outputs": [
    {
     "name": "stdout",
     "output_type": "stream",
     "text": [
      "475465\n"
     ]
    },
    {
     "data": {
      "text/plain": [
       "[<matplotlib.lines.Line2D at 0x7f3d28af9be0>]"
      ]
     },
     "execution_count": 18,
     "metadata": {},
     "output_type": "execute_result"
    },
    {
     "data": {
      "image/png": "[encoded data removed]",
      "text/plain": [
       "<matplotlib.figure.Figure at 0x7f3d310763c8>"
      ]
     },
     "metadata": {},
     "output_type": "display_data"
    }
   ],
   "source": [
    "# luodaan kuvaaja uuteen ikkunaan, jonka voi sitten näyttää taululta oppilaille. (toimii vain jupyterilla ajettuna)\n",
    "# %matplotlib qt\n",
    "print (len(dimu2))\n",
    "#data=dimu2\n",
    "#data=data[(data.pt1 > 3) & (data.pt2 > 3) & (data.eta1 < 2.4) & (data.eta2 < 2.4) & (data.Q1 != data.Q2)]\n",
    "\n",
    "\n",
    "y, x = np.histogram(dimu2.M, bins = np.logspace(np.log10(0.1),np.log10(1000.), 2000)) #, range=(0.3,110)\n",
    "# saadaan binit tasaisiksi, vaikka on logaritminen asteikko\n",
    "#bins=10000\n",
    "fig, ax = plt.subplots(figsize=(18,12))\n",
    "\n",
    "\n",
    "#  x-akselin nimeys\n",
    "plt.xlabel('Invariantti massa [GeV]')\n",
    "\n",
    "#  y-akselin nimeys\n",
    "plt.ylabel('Tapahtumien lukumäärä')\n",
    "\n",
    "#kuvaajan nimeys\n",
    "plt.title('Kahden myonin invariantti massa\\n')\n",
    "\n",
    "# x-akseli logarimiseksi\n",
    "ax.semilogx()\n",
    "\n",
    "# y-akseli logaritmiseksi\n",
    "ax.semilogy()\n",
    "\n",
    "plt.xlim((0.3,110))\n",
    "\n",
    "\n",
    "#ruudukko\n",
    "ax.grid(color='grey', linestyle='--', linewidth=0.4)\n",
    "\n",
    "#TEKSTIT\n",
    "# nimetään piikkien hiukkaset\n",
    " #  jokainen ryhmä vastaa: \n",
    "    # x = invariantin massan arvo piikin kohdalla\n",
    "    # hiukkasen nimi\n",
    "# plt.txt(x,y,'hiukkasen nimi')\n",
    "\n",
    "#piikkidata1\n",
    "plt.text(3.097, 6800, 'J/ψ', fontsize=15)\n",
    "\n",
    "#piikkidata2\n",
    "plt.text(91.188, 2800,'Z', fontsize=15)\n",
    "\n",
    "#piikkidata3\n",
    "plt.text(9.460, 3200 , 'Y', fontsize=15)\n",
    "\n",
    "#piikkidata4\n",
    "plt.text(1.019, 400, 'φ ', fontsize=15)\n",
    "\n",
    "#piikkidata5 (ei voi tietää kumpi)\n",
    "plt.text(0.7, 300,'ρ,ω', fontsize=15)\n",
    "\n",
    "#piikkidata6\n",
    "plt.text(3.686, 500,'ψ’', fontsize=15)\n",
    "\n",
    "\n",
    "#kuvan tulostus\n",
    "ax.plot(x[:-1], y)\n"
   ]
  },
  {
   "cell_type": "markdown",
   "metadata": {},
   "source": [
    "## Kiitokset ja kysymyksiä\n",
    "\n"
   ]
  },
  {
   "cell_type": "markdown",
   "metadata": {},
   "source": [
    "*****\n",
    "## Lähteet \n",
    "<a id=\"tk\"></a>\n",
    "[1] Tieteen Kuvalehti 7.7.2015. Kvanttimekaniikkaa viidessä minuutissa. Luettu 25.6.2019 <br>\n",
    "Url:https://tieku.fi/luonto/kvanttimekaniikkaa-viidessa-minuutissa\n",
    "\n",
    "<a id=\"tedvideo\"></a>\n",
    "[2] TED Ed Animation, Schrödinger's cat: A thought experiment in quantum mechanics - Chad Orzel. [CC BY – NC – ND 4.0](https://creativecommons.org/licenses/by-nc-nd/4.0/) Katseltu 25.6.2019 <br>\n",
    "Url: https://ed.ted.com/lessons/schrodinger-s-cat-a-thought-experiment-in-quantum-mechanics-chad-orzel\n",
    "\n",
    "<a id=\"cernstandard\"></a>\n",
    "[3] The Standard Model, Copyright  © 2019 CERN <br>\n",
    "Url: https://home.cern/science/physics/standard-model\n",
    "\n",
    "<a id=\"diat\"></a>\n",
    "[4] CMS diat suomeksi <br>\n",
    "Url: https://cms-docdb.cern.ch/cgi-bin/PublicDocDB/RetrieveFile?docid=12398&filename=SetOfPostersFN_HQ_small_16092014.pdf\n",
    "\n",
    "<a id=\"cms\"></a>\n",
    "[5] Detector overview, © Copyright CERN <br>\n",
    "Url: https://cms.cern/detector\n",
    "\n",
    "<a id=\"higs\"></a>\n",
    "[6] Determination of the off-shell Higgs boson signal strength in the high-mass ZZ final state with the ATLAS detector. <br>\n",
    "Url: https://atlas.cern/updates/physics-briefing/higgs-boson-s-shadow\n",
    "\n",
    "<a id=\"mitat\"></a>\n",
    "[7] The Large Hadron Collider, Copyright  © 2019 CERN <br>\n",
    "Url: https://home.cern/science/accelerators/large-hadron-collider\n",
    "\n",
    "\n",
    "## Data\n",
    "#### [Demo data] \n",
    "Thomas McCauley (2016). Zmumu. Jupyter Notebook file. <br>\n",
    "Url: https://github.com/tpmccauley/cmsopendata-jupyter/blob/hst-0.1/Zmumu.ipynb\n",
    "\n",
    "#### [Piikkidata]\n",
    "CMS collaboration (2016). DoubleMu primary dataset in AOD format from RunA of 2011 (/DoubleMu/Run2011A-12Oct2013-v1/AOD). CERN Open Data Portal. \n",
    "Url: http://doi.org/10.7483/OPENDATA.CMS.RZ34.QR6N\n",
    "\n",
    "Data collected from collisions will be saved to AOD (Analysis Object Data) files that can be opened with the ROOT program (https://root.cern.ch/). Structures of the files are very complicated so those can't be handled for example in simple data tables.\n",
    "\n",
    "The data used in the analysis has been collected by the CMS detector in 2011. From the original data a CSV file containing only some of the collision events and information has been derived. The original data is saved in AOD format that can be read with ROOT program. Open the link http://opendata.cern.ch/record/17 and take a look how large the original datafile is from the section Characteristics.\n",
    "\n",
    "From the original datafile only collision events with exactly two muons detected have been selected to the CSV file. The selection is done with the code similar to the one in the link http://opendata.cern.ch/record/552. In practice the code will select wanted values from the original file and write them to the CSV file. \n",
    "\n",
    "## Kuvat\n",
    "[Kuva 1]  <a href=\"/wiki/File:Standard_Model_of_Elementary_Particles.svg\">Standard_Model_of_Elementary_Particles.svg</a>: <a href=\"https://commons.wikimedia.org/wiki/User:MissMJ\">MissMJ</a> derivative work: <a href=\"https://commons.wikimedia.org/wiki/User:Syed\">Syed</a>, <a href=\"https://commons.wikimedia.org/wiki/File:Standard_Model_of_Elementary_Particles_(fi).svg\">Standard Model of Elementary Particles (fi)</a>, <a href=\"https://creativecommons.org/licenses/by/3.0/legalcode\" rel=\"license\">CC BY 3.0</a> <br>\n",
    "Url: https://commons.wikimedia.org/wiki/File:Standard_Model_of_Elementary_Particles.svg\n",
    "\n",
    "[Kuva 2] CMS-OUTREACH-2016-013 Title Set of CMS Brochures (2015) Luettu 25.6.2019 <br>\n",
    "Url: https://cds.cern.ch/record/2204854\n",
    "\n",
    "[Kuva 3] CMS-OUTREACH-2016-027, Title\tInteractive Slice of the CMS detector, Author Davis, Siona Ruth (CERN) <br>\n",
    "Url: https://cds.cern.ch/record/2205172\n",
    "\n",
    "[Kuva 4] Khan Academy Using the Right-Hand Rule. Licensed under a [CC-BY-NC-SA 4.0](https://creativecommons.org/licenses/by-nc-sa/4.0/) license. Luettu 25.6.2019 <br>\n",
    "Url: https://www.khanacademy.org/test-prep/mcat/physical-processes/magnetism-mcat/a/using-the-right-hand-rule\n",
    "\n",
    "\n",
    "[Kuva 5] P. Mouche, Overall view of the LHC. Vue d'ensemble du LHC, 2014. <br>\n",
    "Url: https://cds.cern.ch/record/1708847.\n",
    "\n",
    "\n",
    "[Kuva 6] LHC Project Illustrations / Civil engineering\t\tLHC-PHO-1998-325\n",
    "Magnetic field induced by the LHC dipole's superconducting coils. Conditions of Use © 1998-2019 CERN <br>\n",
    "Url: http://cds.cern.ch/record/841511\n",
    "\n",
    "[Kuva 7] Displays of candidate VHcc events, CMS-PHO-EVENTS-2019-006-12, Conditions of Use © 2019 CERN <br>\n",
    "Url: https://cds.cern.ch/record/2682635\n",
    "\n",
    "[Kuva 8] HLT Dimuon Invariant Mass Distributions in 2017 and 2018 ( CMS DP-2018/055) <br>\n",
    "Url: https://twiki.cern.ch/twiki/bin/view/CMSPublic/HLTDiMuon2017and2018 \n",
    "\n"
   ]
  },
  {
   "cell_type": "code",
   "execution_count": null,
   "metadata": {
    "collapsed": true
   },
   "outputs": [],
   "source": []
  }
 ],
 "metadata": {
  "kernelspec": {
   "display_name": "Python 3",
   "language": "python",
   "name": "python3"
  },
  "language_info": {
   "codemirror_mode": {
    "name": "ipython",
    "version": 3
   },
   "file_extension": ".py",
   "mimetype": "text/x-python",
   "name": "python",
   "nbconvert_exporter": "python",
   "pygments_lexer": "ipython3",
   "version": "3.6.3"
  }
 },
 "nbformat": 4,
 "nbformat_minor": 2
}
