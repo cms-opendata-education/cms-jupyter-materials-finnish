{
 "cells": [
  {
   "cell_type": "markdown",
   "metadata": {},
   "source": [
    "# CMS simulaatio avoimella datalla \n",
    "\n",
    "[![Binder](https://mybinder.org/badge.svg)](https://mybinder.org/v2/gh/cms-opendata-education/cms-jupyter-materials-finnish/master?filepath=%2FOppimiskokonaisuudet%2FAvoin-data-hiukkasfysiikassa%2Fcms-simulaatio.ipynb)\n",
    "\n",
    "\n",
    "Maailman isoin hiukkaskiihdytin LHC (Large Hadron Collider) kiihdyttää CERN:issä protoneita joiden törmäyksistä CMS (Compact Muon Solenoid) kerää dataa. LHC törmäyttää protoni ryppäitä noin 40 miljoonaa kertaa sekunnissa [2], mutta vain osa tapahtumista johtaa suurienergisiin törmäyksiin. Osa törmäyksen energiasta muuttuu massaksi ($E=mc^2$) ja muodostuu uusia hiukkasia [4]. Raskaat ja lyhytikäiset hiukkaset hajoavat edelleen kevyempiin hiukkasiin, joita hiukkasilmaisin havaitsee. Tutkijoiden tehtäväksi jää selvittää mitä tapahtui törmäyksen ja mitatun datan välissä. Esimerkiksi Higgsin hiukkasta ilmaisin ei havaitse, mutta sen hajoamisesta syntyviä kevyempiä hiukkasia voidaan mitata. \n",
    "\n",
    "\n",
    "Tässä tehtävässä pääset tarkastelemaan aitoa dataa joka on kerätty CMS ilmaisimella. Käytetään visuaalista työkalulla joka löytyy CERN:in avoimen datan portaalista:\n",
    "[http://opendata.cern.ch/visualise/events/CMS](http://opendata.cern.ch/visualise/events/CMS)."
   ]
  },
  {
   "cell_type": "code",
   "execution_count": 1,
   "metadata": {},
   "outputs": [
    {
     "data": {
      "text/html": [
       "<iframe width=\"560\" height=\"315\" src=\"https://www.youtube.com/embed/pQhbhpU9Wrg\" frameborder=\"0\" allow=\"accelerometer; autoplay; encrypted-media; gyroscope; picture-in-picture\" allowfullscreen></iframe>"
      ],
      "text/plain": [
       "<IPython.core.display.HTML object>"
      ]
     },
     "execution_count": 1,
     "metadata": {},
     "output_type": "execute_result"
    }
   ],
   "source": [
    "#Vielä nopea katsaus LHC hiukkaskiihdyttimeen ja CMS hiukkasilmaisimeen, videon (2.51min).\n",
    "from IPython.display import HTML\n",
    "HTML('<iframe width=\"560\" height=\"315\" src=\"https://www.youtube.com/embed/pQhbhpU9Wrg\" frameborder=\"0\" allow=\"accelerometer; autoplay; encrypted-media; gyroscope; picture-in-picture\" allowfullscreen></iframe>')\n",
    "#www.youtube.com/embed/pQhbhpU9Wrg"
   ]
  },
  {
   "cell_type": "markdown",
   "metadata": {},
   "source": [
    "****\n",
    "## CMS ilmaisimen rakenteen tutkiskelu\n",
    "CMS hiukkasilmaisin on rakenteeltaan kuin sipuli. Jokaisella kerroksella on tärkeä tehtävä törmäyksestä sinkoilevien hiukkasten ratojen määrittämisessä. Avataan visualisointi työkalu [CMS event display](http://opendata.cern.ch/visualise/events/CMS) ja ruvetaan tutkimaan CMS:n rakennetta lisäämällä kerroksia vasemman reunan \"Detector\" valikosta. Parhaan näkymän saa vaihtamalla \"Ortographic projecton\" asetukseen ja tarkastelemalla ilmaisinlieriötä pohjasta.\n",
    "<br>\n",
    " <img src=\"../../Kuvat/EventDisplay_aloitus.PNG\" align=\"center\" width=\"600px\">\n",
    " <br>"
   ]
  },
  {
   "cell_type": "markdown",
   "metadata": {},
   "source": [
    "### Kerrosten tehtävät\n",
    "Eri hiukkaset vaikuttavat aineen kanssa eri tavoin, eli tarvitaan erilaisia kerroksia mittamaan hiukkasten energioita ja ratoja. Tässä lyhyt tiivistelmä [kattavammasta esityksestä.](https://cms-docdb.cern.ch/cgi-bin/PublicDocDB/RetrieveFile?docid=12398&filename=SetOfPostersFN_HQ_small_16092014.pdf)\n",
    "- **Jälki-ilmaisin**\n",
    "Jälki-ilmaisin koostuu kahden tyyppisisitä pii osista. Jälki-ilmaisin havaitsee varattujen hiukkasten reitit, kun ne vuorovaikuttavat elekromagneettisesti ilmaisimen kanssa. Tarkan paikkadatan avulla voidaan määrittää protonien törmäyskohdat ja syntyneiden raskaampien ydinten hajoamispaikat. Myös hiukkasen radan kaarevuussäteen avulla voidaan laskea sen momentti.\n",
    "    - _Pixel_ -ilmaisin on rakennettu pienistä piisoluista (65 miljoonaa kappaletta), jotka mittaavat varattujen hiukkasten radat hyvin tarkasti.\n",
    "    - _Tracker_ -kerros on valmistettu piiliuskoista jotka niin ikään mittaavat hiukkasten ratoja.\n",
    "- **Sähkömagneettinen kalorimetri (ECAL)**\n",
    "Elektronien ja fotonien energiat saadaan mitattua hyvin tarkasti sillä niiden törmäyks ECAL-kerrokseen aiheuttaa sähkömagneettisen ryöpyn joka mitataan tuikeilmaisimilla. Törmänneen elektronin tai fotonin energia on suoraan verrannollinen tuikeilmaisimien havaitsemaan valon määrään.\n",
    "- **Hadronikalorimetri (HCAL)**\n",
    "Hadronikalorimetri pysäyttää hadroneiksi kutsutut hiukkaset kuten protonit ja netronit. HCAL-kerrokseen saapuvat hadronit menettävät liike-energiaansa hiukkasryöppyihin joiden synnyttämien tuikevalojen avulla saadaan lasketuksi hadronin alkuperäinen energia.\n",
    "- **Myonijärjestelmä**\n",
    "CMS ilmaisin on nimensä (Compact Muon Solenoid) mukaan suunniteltu erityisesti havaitsemaan myoneita. Myonit ovat vaikeasti havaittavia ja ne kulkevatkin ECAL ja HCAL kerrosten läpi pysähtymättä. Kuitenkin positiivisina hiukkasina niiden kulkiessa kaasulla täytettyjen kammioiden läpi (*drift tubes*) kaasu ionisoituu ja vapautuneet electronit sekä positiiviset ionit kulkeutuvat (*Cathode Strip Chambers*) anodeille ja katodeile. Signaalin avulla voidaan laskea myonin paikka tietyllä ajanhetkellä. *Resistive Plate Chambers* ovat myös osa myonijärjestelmää luoden signaalia, joka voidaan siirtää eteenpäin käsiteltäväksi.\n",
    "\n",
    "\n",
    "\n",
    "Neutriinot havaitaan epäsuorasti liikemäärän säilymisen kautta.\n",
    "\n",
    "<br>\n",
    "<img src=\"../../Kuvat/CMS_Slice.gif\" align=\"center\" width=\"700px\">\n",
    "<br>\n",
    "\n",
    "(_Superconductin_ _Solenoid_ on todella tehokas solenoidimagneetti joka aiheuttaa CMS:n siäsosiin noin 100,000 kertaan maan magneettikenttää vahvemman magneettikentän. Vahva kenttä saa varattujen hiukkasten liikeradat kaartumaan ja mahdollistaa niiden luokittelun ja liikemäärän määrittämisen.)\n",
    "\n",
    "Tarkat kuvaukset eri osien toiminnasta englanniksi: http://cms.web.cern.ch/news/detector-overview\n"
   ]
  },
  {
   "cell_type": "markdown",
   "metadata": {},
   "source": [
    "****\n",
    "## Törmäysten visualisointi\n",
    "Event Displayn avulla voi tarkastella CMS-mittausaseman todellisia tuloksia. Tässä tehtävässä käytetään protonitörmäyksistä kerättyä dataa, joka sittemmin johti Higgsin hiukkasen löytämiseen vuonna 2012.\n",
    "\n",
    "#### Aloitetaan törmäyksien tutkiminen\n",
    "\n",
    "1. Avaa [CMS event display](http://opendata.cern.ch/visualise/events/CMS)\n",
    "1. Paina vasemmasta yläkulmasta $\\color{green}{\\text{Open file}}$\n",
    "1. Valitse $\\color{green}{\\text{Open file(s)}}$ \n",
    "1. Valitse  $\\color{green}{\\text{HiggsCandidates/}}$\n",
    "1. Valitse toinen mahdollisista Higgsin bosonin hajoamistavoista\n",
    " > $\\color{green}{\\text{4lepton.ig}}$ nimisissä tiedostoissa syntyy neljä leptonia. Niissä saattaa esiintyä Higgsin hajoaminen kahdeksi Z bosoniksi, jotka edelleen hajoavat joko elektroni/positroni ($e^- e^+$) tai myoni/antimyoni ($\\mu^- \\mu^+$) pareiksi. Syntyy siis yhteensä neljä leptonia.\n",
    " \n",
    " <img src=\"../../Kuvat/higgs-4l.png\" align=\"center\" width=\"200px\"> \n",
    " > $\\color{green}{\\text{diphoton.ig}}$ tiedostoissa törmäyksessä syntyi 2 fotonia. Ne saattavat olla peräisin tapahtumasarjasta jossa Higgs hajoaa kahdeksi fotoniksi.\n",
    "  \n",
    "<img src=\"../../Kuvat/higgs-2photon.png\" align=\"center\" width=\"200px\">\n",
    "1. Valitse mikä tahansa ajo ja paina $\\color{green}{\\text{load}}$\n",
    "1. Törmäyksen pitäisi nyt näkyä event displayssa. \n",
    "1. Poista vasemman reunan valikosta, $\\color{orange}{\\text{Tracking}}$ otsikon alta, valinta  $\\color{orange}{\\text{Tracks (reco.)}}$\n",
    " > Mikäli valitsit $\\color{green}{\\text{4lepton.ig}}$ valitse $\\color{orange}{\\text{Physics}}$ otsikon alta  $\\color{orange}{\\text{Electron Tracks (GSF)}}$ ja $\\color{orange}{\\text{Tracker Muons (Reco)}}$ näkyviksi. Huom: Valinta on näkyvissä vain jos kyseinen hiukkanen on läsnä tapahtumissa.\n",
    "     - Löydätkö kaikki neljä leptonia? Montako elektronia ja montako myonia valitsemassasi ajossa syntyi? \n",
    "     - Voisivatko leptonit olla peräisin Higgsin hajoamisesta?\n",
    "     - Tutki mihin ilmaisimen kerrokseen eri leptonien liike pysähtyy. (Matching muon chambers valinta paljastaa ne myonijärjestelmän kammiot joiden läpi myoni kulkee.) Vastaako tulos kerrosten kuvauksia?\n",
    "\n",
    " > Jos taas valitsit $\\color{green}{\\text{diphoton.ig}}$ tiedoston, valitse  $\\color{orange}{\\text{Physics}}$ otsikon alta  $\\color{orange}{\\text{Photons}}$ näkyviksi. Valinta on mahdollinen vain mikäli kyseisellä ajolla CMS todella havaitsi fotoneita.\n",
    "    - Löydätkö kaksi fotonia? Voisivatko ne olla peräisin Higgsin hajoamisesta?\n",
    "    - Tutki mihin ilmaisimen kerrokseen fotonien liike pysähtyy. Vastaako tulos kerrosten kuvauksia?\n",
    "    \n",
    "Kokeile eri datalla ja vertaa tuloksia.\n",
    "\n"
   ]
  },
  {
   "cell_type": "markdown",
   "metadata": {},
   "source": [
    "****\n",
    "Vuonna 2012 Atlaksen ja CMS:n tutkiat julkistivat löytäneensä Higsin bosonin. Teoreettisesti sen olemassaolo oli jo ennustettu, muttaa kokeellisesti se havaittiin ensimmäisen kerran LHC kiihdyttimen monen vuoden datan avulla. Higgsin bosoni täydentää standardimallia, muttei tee siitä ns. \"kaiken teoriaa\". CMS hiukkasilmaisimen tuottamaa dataa tutkitaan tauotta CERN:issä ja yliopistoissa ympäri maailmaa. Dataa tutkimalla tutkijat pyrkivät ymmärtämään paremmin aineen rakennetta ja esimerkiksi pimeän aineen ja antimateriaalin luonnetta. "
   ]
  },
  {
   "cell_type": "code",
   "execution_count": 2,
   "metadata": {
    "scrolled": true
   },
   "outputs": [
    {
     "data": {
      "image/jpeg": "[encoded data removed]",
      "text/html": [
       "\n",
       "        <iframe\n",
       "            width=\"400\"\n",
       "            height=\"300\"\n",
       "            src=\"https://www.youtube.com/embed/0QPTzogoJ-Q\"\n",
       "            frameborder=\"0\"\n",
       "            allowfullscreen\n",
       "        ></iframe>\n",
       "        "
      ],
      "text/plain": [
       "<IPython.lib.display.YouTubeVideo at 0x7f9a50ab07b8>"
      ]
     },
     "execution_count": 2,
     "metadata": {},
     "output_type": "execute_result"
    }
   ],
   "source": [
    "\n",
    "from IPython.lib.display import YouTubeVideo\n",
    "YouTubeVideo('0QPTzogoJ-Q')\n",
    "#https://youtu.be/0QPTzogoJ-Q"
   ]
  },
  {
   "cell_type": "markdown",
   "metadata": {},
   "source": [
    "****\n",
    "## Lähteet\n",
    "[1] CMS koeasema, Diat suomeksi, Luettu 2019.\n",
    "Url: [https://cms-docdb.cern.ch/cgi-bin/PublicDocDB/RetrieveFile?docid=12398&filename=SetOfPostersFN_HQ_small_16092014.pdf](https://cms-docdb.cern.ch/cgi-bin/PublicDocDB/RetrieveFile?docid=12398&filename=SetOfPostersFN_HQ_small_16092014.pdf).\n",
    "\n",
    "[2] Detector overview. © Copyright CERN (2008-2014)\n",
    "Url: [http://cms.web.cern.ch/news/detector-overview](http://cms.web.cern.ch/news/detector-overview)\n",
    "\n",
    "[3] CMS Guide to education use of CMS Open Data\n",
    "Url: [http://opendata.cern.ch/docs/cms-guide-for-education](http://opendata.cern.ch/docs/cms-guide-for-education)\n",
    "\n",
    "[4] 12 steps - From idea to discovery, luettu 2019\n",
    "Url: [https://home.cern/science/physics/12-steps-idea-discovery](https://home.cern/science/physics/12-steps-idea-discovery)\n"
   ]
  },
  {
   "cell_type": "code",
   "execution_count": null,
   "metadata": {
    "collapsed": true
   },
   "outputs": [],
   "source": []
  }
 ],
 "metadata": {
  "kernelspec": {
   "display_name": "Python 3",
   "language": "python",
   "name": "python3"
  },
  "language_info": {
   "codemirror_mode": {
    "name": "ipython",
    "version": 3
   },
   "file_extension": ".py",
   "mimetype": "text/x-python",
   "name": "python",
   "nbconvert_exporter": "python",
   "pygments_lexer": "ipython3",
   "version": "3.6.3"
  }
 },
 "nbformat": 4,
 "nbformat_minor": 2
}
