{
 "cells": [
  {
   "cell_type": "markdown",
   "metadata": {},
   "source": [
    "# Python 3 -ohjelmoinnin perusteet"
   ]
  },
  {
   "cell_type": "markdown",
   "metadata": {},
   "source": [
    "Tässä notebookissa tutustutaan Python 3 -ohjelmointikielen perusteisiin ja käyttöesimerkkeihin. Koska Pythonia, niin kuin muitakin ohjelmointikieliä, oppii parhaiten itse kokeilemalla, kannattaa tämä notebook lukea Jupyter Notebook -sovelluksessa. Tällöin notebookissa olevia esimerkkejä voidaan ajaa ja muokata interaktiivisesti. Lisäksi tekstin sekaan voidaan luoda omia muistiinpanoja ja koodikokeiluja. Jupyter Notebookin asennusohjeet löydät tiedostosta 00_Jupyter_Notebook-tutorial.ipynb."
   ]
  },
  {
   "cell_type": "markdown",
   "metadata": {},
   "source": [
    "## Python – mikä se on?"
   ]
  },
  {
   "cell_type": "markdown",
   "metadata": {},
   "source": [
    "Python on ohjelmointikieli, jonka uusin versio on vuonna 2008 julkaistu Python 3. Pythonin on mainittu olevan helposti opittava ohjelmointikieli, sillä sen perusrakenne on suhteellisen yksinkertainen. Python taipuu kuitenkin myös monimutkaisempaan ohjelmointiin. Tämän tutoriaalin tarkoituksena on tarjota suomenkielinen ja selkeästi muotoiltu yleiskuva Pythonin oleellisimmista toiminnoista. Tavoitteena ei siis ole käydä läpi jokaista yksittäistä Pythonin komentoa. Python 3:n virallinen englanninkielinen dokumentaatio on saatavilla osoitteessa https://docs.python.org/3/."
   ]
  },
  {
   "cell_type": "markdown",
   "metadata": {},
   "source": [
    "## Hello, world!"
   ]
  },
  {
   "cell_type": "markdown",
   "metadata": {},
   "source": [
    "Aloitetaan perinteisellä \"Hello, world!\" -esimerkillä. Pythonilla ruudulle tulostaminen onnistuu *print( )*-funktiolla, jonka sisään kirjoitetaan tulostettava teksti tai luku. Kokeile ajaa alla olevaa koodisolua valitsemalla se aktiiviseksi ja painamalla näppäinyhdistelmää _Ctrl_ + _Enter_."
   ]
  },
  {
   "cell_type": "code",
   "execution_count": null,
   "metadata": {},
   "outputs": [],
   "source": [
    "print(\"Hello, world!\")"
   ]
  },
  {
   "cell_type": "markdown",
   "metadata": {},
   "source": [
    "Voit kokeilla kirjoittaa alla olevaan koodisoluun komennon, joka tulostaa oman nimesi. Kokeile, toimiiko koodi."
   ]
  },
  {
   "cell_type": "code",
   "execution_count": null,
   "metadata": {},
   "outputs": [],
   "source": [
    "# Nämä ovat vain kommenttirivejä, jotka eivät vaikuta koodin toimintaan.\n",
    "# Kokeile kirjoittaa uudelle tyhjälle riville komento, joka tulostaa oman nimesi."
   ]
  },
  {
   "cell_type": "markdown",
   "metadata": {},
   "source": [
    "## Muuttujat Pythonissa"
   ]
  },
  {
   "cell_type": "markdown",
   "metadata": {},
   "source": [
    "Ohjelmoinnissa __muuttujiin__ voidaan tallentaa erilaisia arvoja, joita halutaan käyttää tai muuttaa myöhemmin. Erilaisia muuttujatyyppejä ovat esimerkiksi kokonaisluku (int), liukuluku (float) ja merkkijono (string).\n",
    "\n",
    "Pythonissa muuttujien luominen on helppoa, sillä muuttujatyyppiä ei tarvitse erikseen määrittää. Muuttujaa luodessa riittää vain antaa muuttujalle nimi ja arvo. Luodaan esimerkiksi muuttuja nimeltään *hiukkasten\\_lkm* ja annetaan sille arvoksi kokonaisluku 2700:"
   ]
  },
  {
   "cell_type": "code",
   "execution_count": null,
   "metadata": {},
   "outputs": [],
   "source": [
    "hiukkasten_lkm = 2700"
   ]
  },
  {
   "cell_type": "markdown",
   "metadata": {},
   "source": [
    "Tämän jälkeen voimme käyttää muuttujaa esimerkiksi tulostukseen. Huomaa, että nyt *print( )*-funktion sisällä ei käytetä lainausmerkkejä. Lainausmerkeillä määritetään merkkijono, mutta nyt haluamme tulostaa muuttujan, joten jätämme lainausmerkit pois. Voit toki kokeilla mitä tapahtuu, jos lisäät ne koodiin!"
   ]
  },
  {
   "cell_type": "code",
   "execution_count": null,
   "metadata": {},
   "outputs": [],
   "source": [
    "print(hiukkasten_lkm)"
   ]
  },
  {
   "cell_type": "markdown",
   "metadata": {},
   "source": [
    "Esimerkiksi merkkijonon tallentaminen muuttujaan onnistuu täysin vastaavalla tavalla. Luodaan muuttuja *tervetuloteksti*, tallennetaan siihen merkkijono \"Tervetuloa tutustumaan Pythoniin. Ei huolta, se ei pure!\", ja tulostetaan tämä muuttujan sisältämä merkkijono:"
   ]
  },
  {
   "cell_type": "code",
   "execution_count": null,
   "metadata": {},
   "outputs": [],
   "source": [
    "# Luodaan uusi muuttuja ja tallennetaan siihen merkkijono.\n",
    "tervetuloteksti = \"Tervetuloa tutustumaan Pythoniin. Ei huolta, se ei pure!\"\n",
    "\n",
    "# Tulostetaan muuttujaan tallennettu arvo\n",
    "print(tervetuloteksti)"
   ]
  },
  {
   "cell_type": "markdown",
   "metadata": {},
   "source": [
    "## Laskutoimitukset"
   ]
  },
  {
   "cell_type": "markdown",
   "metadata": {},
   "source": [
    "Pythonilla voidaan suorittaa monenlaisia laskutoimituksia. Yksinkertaisimmillaan koodisoluun syötetään lasku, jonka tuloksen solu palauttaa."
   ]
  },
  {
   "cell_type": "code",
   "execution_count": null,
   "metadata": {},
   "outputs": [],
   "source": [
    "print(3 + 5)\n",
    "print(3 - 5)\n",
    "print(3 * 5)\n",
    "print(7 / 5)"
   ]
  },
  {
   "cell_type": "markdown",
   "metadata": {},
   "source": [
    "Monimutkaisimmissa laskuissa voidaan käyttää apuna esimerkiksi muuttujia tai taulukoita. Peruslaskutoimituksien lisäksi Pythoniin on saatavilla runsaasti valmiita matemaattisia funktioita ja komentoja __moduulien__ avulla. Moduulien käyttöä tarkastellaan osiossa _Moduulit_."
   ]
  },
  {
   "cell_type": "markdown",
   "metadata": {},
   "source": [
    "## Funktiot"
   ]
  },
  {
   "cell_type": "markdown",
   "metadata": {},
   "source": [
    "Mikäli Pythonilla halutaan tehdä peruskomentoja monimutkaisempia asioita, käytetään näihin usein __funktioita__. Funktio on aliohjelma, jota kutsutaan varsinaisessa ohjelmassa tekemään haluttua asiaa. Käytännössä funktio on siis pala valmista koodia, joka tekee siihen kirjatun tehtävän.\n",
    "\n",
    "Esimerkiksi alla olevan koodisolun komennolla kutsumme Pythonin *abs( )*-funktiota, joka palauttaa sille annetun arvon, __argumentin__, itseisarvon."
   ]
  },
  {
   "cell_type": "code",
   "execution_count": null,
   "metadata": {},
   "outputs": [],
   "source": [
    "abs(-2)"
   ]
  },
  {
   "cell_type": "markdown",
   "metadata": {},
   "source": [
    "Funktio _abs( )_ on esimerkki Pythonin sisäänrakennetuista funktioista, jotka ovat aina käytettävissä. Lista kaikista Python 3:n sisäänrakennetuista funktioista löytyy sivulta https://docs.python.org/3/library/functions.html.\n",
    "\n",
    "Funktioita voidaan myös määritellä itse. Python 3:lla funktion määritely onnistuu *def*-komennolla. Määritellään esimerkiksi funktio, joka laskee sille annetun argumentin neliön, ja tulostaa pienen tekstin. Annetaan funktiolle nimi *neliointi*."
   ]
  },
  {
   "cell_type": "code",
   "execution_count": null,
   "metadata": {},
   "outputs": [],
   "source": [
    "def neliointi(a):\n",
    "    print(a*a)\n",
    "    print(\"Käytit juuri funktiota!\")"
   ]
  },
  {
   "cell_type": "markdown",
   "metadata": {},
   "source": [
    "Nyt voimme käyttää juuri luomaamme funktiota kutsumalla sitä nimellä, ja antamalla sille jonkin argumentin."
   ]
  },
  {
   "cell_type": "code",
   "execution_count": null,
   "metadata": {},
   "outputs": [],
   "source": [
    "# Lasketaan luvun 4 neliö äsken luomamme funktion avulla.\n",
    "\n",
    "neliointi(4)"
   ]
  },
  {
   "cell_type": "markdown",
   "metadata": {},
   "source": [
    "## Moduulit"
   ]
  },
  {
   "cell_type": "markdown",
   "metadata": {},
   "source": [
    "Usein erinäiselle tehtäville löytyy jo valmiiksi laadittuja funktioita. Pythonin sisäänrakennetuilla funktioilla ei vielä päästä pitkälle, mutta __moduulien__ avulla voidaan hakea käyttöön lisää funktiota. Moduuli on periaatteessa funktioita sisältävä kooditiedosto.\n",
    "\n",
    "Moduuleita voidaan ottaa käyttöön *import*-komennolla. Esimerkiksi alla otetaan käyttöön *math*-moduuli, ja käytetään sen sisältämää funktiota *sqrt( )*, joka laskee sille annetun argumentin neliöjuuren. Kutsuessamme funktiota *sqrt( )*, meidän täytyy kertoa, että kutsumme sitä moduulista *math*. Tämä onnistuu kirjoittamalla funktion alkuun moduulin nimi sekä piste."
   ]
  },
  {
   "cell_type": "code",
   "execution_count": null,
   "metadata": {},
   "outputs": [],
   "source": [
    "import math\n",
    "\n",
    "math.sqrt(9)"
   ]
  },
  {
   "cell_type": "markdown",
   "metadata": {},
   "source": [
    "Mistä sitten voimme tietää, mitä kaikkia moduuleita on käytettävissä? Yksi lista Pythonin moduuleista löytyy esimerkiksi täältä: https://docs.python.org/3/py-modindex.html. Lisäksi Pythoniin on saatavilla runsaasti erilaisia __paketteja__, jotka sisältävät moduuleja. Lista erilaisista Pythonin paketeista löytyy täältä: https://pypi.python.org/pypi.\n",
    "\n",
    "Moduulien ja pakettien käytössä kätevä keino on tiedonhaku verkosta. Muutamalla hakusanalla voi helposti löytää moduulin tai paketin, jonka avulla haluttu tehtävä saadaan tehtyä."
   ]
  },
  {
   "cell_type": "markdown",
   "metadata": {},
   "source": [
    "## Harjoitus"
   ]
  },
  {
   "cell_type": "markdown",
   "metadata": {},
   "source": [
    "Kirjoita alla olevaan koodisoluun ohjelma, joka suorittaa seuraavat vaiheet:\n",
    "- luo muuttuja *vaihtelu*, ja tallenna siihen teksti \"Muuttujaamme on nyt tallennettu tekstiä\"\n",
    "- tulosta muuttujan *vaihtelu* sisältämä arvo\n",
    "- aseta koodi vaihtamaan muuttujan _vaihtelu_ sisältämä arvo desimaaliluvuksi 8,256\n",
    "- tulosta muuttujan *vaihtelu* sisältämä arvo"
   ]
  },
  {
   "cell_type": "code",
   "execution_count": null,
   "metadata": {},
   "outputs": [],
   "source": []
  }
 ],
 "metadata": {
  "kernelspec": {
   "display_name": "Python 3",
   "language": "python",
   "name": "python3"
  },
  "language_info": {
   "codemirror_mode": {
    "name": "ipython",
    "version": 3
   },
   "file_extension": ".py",
   "mimetype": "text/x-python",
   "name": "python",
   "nbconvert_exporter": "python",
   "pygments_lexer": "ipython3",
   "version": "3.7.3"
  }
 },
 "nbformat": 4,
 "nbformat_minor": 2
}
