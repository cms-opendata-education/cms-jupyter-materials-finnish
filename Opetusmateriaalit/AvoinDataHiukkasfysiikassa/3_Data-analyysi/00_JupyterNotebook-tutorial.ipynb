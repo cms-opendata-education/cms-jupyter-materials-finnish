{
 "cells": [
  {
   "cell_type": "markdown",
   "metadata": {},
   "source": [
    "# Jupyter Notebook -tutoriaali"
   ]
  },
  {
   "cell_type": "markdown",
   "metadata": {},
   "source": [
    "Tervetuloa käyttämään Jupyter Notebookia!\n",
    "\n",
    "Tähän tutoriaaliin on koottu suomeksi oleellisimmat perustiedot Jupyter Notebookin käytöstä ja ominaisuuksista. Jos olet avannut tutoriaalin Jupyterissa, voit vapaasti kokeilla erilaisia toimintoja, muokata sisältöä ja luoda omia kommenttejasi. Mikäli sinulla ei vielä ole Jupyteria, katso osio _Jupyter Notebookin asennus_.\n",
    "\n",
    "Yksityiskohtaisempia ohjeita varten Jupyter-projektin virallinen englanninkielinen dokumentaatio löytyy osoitteesta http://jupyter.readthedocs.io/en/latest/index.html. Jupyter Notebook -sovellukseen keskittyvä dokumentaatio on saatavilla osoitteessa http://jupyter-notebook.readthedocs.io/en/latest/.\n",
    "\n",
    "Tämä dokumentti sisältää:<br>\n",
    "(valitettavasti linkit toimivat vain Jupyterissa, eivät GitHubissa)\n",
    "1. [Mikä on Jupyter Notebook?](#mikaon)\n",
    "2. [Jupyter Notebookin asennus](#asennus)\n",
    "3. [Käynnistäminen ja uuden notebookin luominen](#luonotebook)\n",
    "4. [Käyttöliittymä](#interface)<br>\n",
    "    4.1 [Notebookin tallentaminen ja sulkeminen](#tallennus)\n",
    "5. [Solut](#solut) <br>\n",
    "    5.1 [Solun luominen ja muokkaaminen](#luosolu) <br>\n",
    "    5.2 [Solun ajaminen](#ajasolu) <br>\n",
    "    5.3 [Tekstisolu (Markdown)](#markdown) <br>\n",
    "    5.4 [Koodisolu (code)](#koodi) <br>\n",
    "6. [Mahdollisia ongelmatilanteita](#ongelmat)<br>\n",
    "    6.1 [Koodisolun ajaminen kestää liian kauan](#ongelma1)<br>\n",
    "    6.2 [Koodisolu tuottaa errorin](#ongelma2)<br>\n",
    "    6.3 [Yhteys ytimeen katkeaa](#ongelma3)<br>\n",
    "    6.4 [Solu ei käänny ajettaessa](#ongelma4)<br>\n",
    "7. [Muita huomioita](#huomioita)\n",
    "\n",
    "[Lyhyt harjoitus](#harjoitus)"
   ]
  },
  {
   "cell_type": "markdown",
   "metadata": {},
   "source": [
    "<a id=\"mikaon\"></a>\n",
    "## 1. Mikä Jupyter Notebook?"
   ]
  },
  {
   "cell_type": "markdown",
   "metadata": {},
   "source": [
    "Jupyter Notebook on verkkosovellus, jonka avulla voidaan luoda ohjelmointikoodia, tavallista tekstiä, kuvia, visuaalisointeja ja yhtälöitä yhdistäviä dokumentteja. Näitä dokumentteja kutsutaan __notebookeiksi__.\n",
    "\n",
    "Jupyter on toteutettu avoimella lähdekoodilla. Sovellus tukee yli 40 eri ohjelmointikieltä (mm. Python, C++, C#, JavaScript, Ruby). Tässä oppimiskokonaisuudessa ohjelmointikielenä käytetään Pythonia."
   ]
  },
  {
   "cell_type": "markdown",
   "metadata": {},
   "source": [
    "<a id=\"asennus\"></a>\n",
    "## 2. Jupyter Notebookin asennus"
   ]
  },
  {
   "cell_type": "markdown",
   "metadata": {},
   "source": [
    "Jupyter Notebookia on mahdollista käyttää muutamalla eri tavalla. Suositeltavin vaihtoehto on käyttää Jupyteria ilman asennusta MyBinder-sovelluksella (https://gke.mybinder.org/). Binder luo sille annetusta GitHub-hakemistosta selaimessa toimivan Jupyter-ympäristön, jossa hakemistossa olevia notebookeja voi käyttää ja muokata. Binderin käyttö on helppoa:\n",
    "- Mene sivulle https://gke.mybinder.org/.\n",
    "- Kopioi kenttään _GitHub repository name or URL_ sen GitHub-hakemiston osoite, jonka haluat aukaista. Tämän materiaalin voi avata kopioimalla osoitteen https://github.com/cms-opendata-education/cms-jupyter-materials-finnish\n",
    "- Kirjoita kenttään _Git branch, tag, or commit_ \"master\" (mahdollisesti jo valmiina) ja paina nappia _launch_.\n",
    "\n",
    "Huomaa, että Binderiin tekemäsi muutokset eivät automaattisesti tallennu minnekään ja poistuvat, jos ympäristö on 10 minuuttia käyttämättä. Voit kuitenkin tallentaa Binderilla muokkaamasi ja laatimasi notebookit omalle koneellesi talteen. Tämä onnistuu avoimen notebookin valikosta klikkaamalla _File_ -> _Download as_ -> _notebook (.ipynb)_.\n",
    "\n",
    "Toinen vaihtoehto on hoitaa Jupyterin asennus omalle tietokoneellesi Anacondan avulla. Anaconda asentaa yhdellä kertaa Pythonin, Jupyterin sekä Python-ohjelmoinnissa hyödyllisiä paketteja. Asennus Anacondan avulla on helppoa:\n",
    "- Lataa Anaconda sivulta https://www.anaconda.com/. Suositeltavinta on ladata Python 3:n uusin versio, joka on tämän tutoriaalin kirjoitushetkellä 3.7.\n",
    "- Asenna Anaconda lataamasi paketin asennusohjelman avulla.\n",
    "- Asennuksen jälkeen voit käynnistää Jupyterin joko avaamalla ohjelman _Anaconda Navigator_ ja valitsemalla valikosta Jupyter Notebookin.\n",
    "\n",
    "Muut Jupyterin asennusvaihtoehdot ja täydet, englanninkieliset asennusohjeet löytyvät sivulta http://jupyter.readthedocs.io/en/latest/install.html."
   ]
  },
  {
   "cell_type": "markdown",
   "metadata": {},
   "source": [
    "<a id=\"luonotebook\"></a>\n",
    "## 3. Käynnistäminen ja uuden notebookin luominen"
   ]
  },
  {
   "cell_type": "markdown",
   "metadata": {},
   "source": [
    "Käynnistymisen jälkeen Jupyterin päävalikko, __dashboard__, avautuu selaimessa.\n",
    "<br>\n",
    "<img src=\"../../../Kuvat/dashboard.png\" align=\"center\">\n",
    "<br>\n",
    "Dashboardin kautta voidaan luoda uusia notebookeja, avata tai poistaa vanhoja sekä hallinnoida Jupyterin toimintaa. Dashboardiin tutustutaan tarkemmin osiossa [8. Notebookin tallentaminen ja dashboardin käyttö](#dashboard).\n",
    "\n",
    "Uuden notebookin luominen onnistuu dashboardin oikeassa yläkulmassa olevalla _New_-painikkeella. Painikkeesta avautuu vetovalikko, josta voidaan valita _Notebooks_-tekstin alta notebookissa käytettävä ydin (kernel). Ydin määrää, millä ohjelmointikielellä notebook toimii (esim. Python 2, Python 3, C++, ...). Saatavilla olevien ytimien määrä riippuu siitä, mitä ytimiä käyttäjä on asentanut yhteensopiviksi.\n",
    "\n",
    "Tässä tutoriaalissa käytämme kielenä Python 3:a. Ytimen valitsemisen jälkeen luotu notebook avautuu selaimen uudelle välilehdelle."
   ]
  },
  {
   "cell_type": "markdown",
   "metadata": {},
   "source": [
    "<a id=\"interface\"></a>\n",
    "## 4. Käyttöliittymä ja sen toiminta"
   ]
  },
  {
   "cell_type": "markdown",
   "metadata": {},
   "source": [
    "Jupyterin käyttöliittymän tärkeimmät osat ovat yläreunan valikkopalkki ja työkalupalkki (kuva alla), sekä itse notebook.\n",
    "<br>\n",
    "<img src=\"../../../Kuvat/valikkopalkki.jpg\">\n",
    "<br>\n",
    "Jupyteria käytetään kahdessa eri tilassa: __editointitilassa__ ja __komentotilassa__. Editointitilassa käyttäjä voi muokata notebookin yhden osion, __solun__, sisältöä, ja komentotilassa taas hallita notebookia kokonaisuutena. Editointitilaan voidaan siirtyä näppäimellä _Enter_ tai tuplaklikkaamalla sitä notebookin osaa, jota halutaan editoida. Takaisin komentotilaan pääsee näppäimellä _Esc_, klikkaamalla solun ulkopuolista osaa tai uudella tuplaklikkauksella. Valikkopalkin oikealta on mahdollista tarkistaa, kummassa tilassa Jupyter on. Mikäli ylhäällä oikealla näkyy kuva\n",
    "\n",
    "<img src=\"../../../Kuvat/editointitila.png\" align=\"left\">\n",
    "<br>\n",
    "<br>\n",
    "(tekstin tilalla voi lukea myös muuta), ollaan editointitilassa, muutoin komentotilassa.\n",
    "\n",
    "Editointitilan ja komentotilan näppäinkomennot eroavat toisistaan. Riippuen siitä, kummassa tilassa ollaan, samalla näppäimellä voi olla eri komento. Esimerkiksi komentotilassa näppäin _s_ tallentaa notebookin, mutta editointitilassa saadaan kirjoitettua kirjain \"s\"."
   ]
  },
  {
   "cell_type": "markdown",
   "metadata": {},
   "source": [
    "<a id=\"tallennus\"></a>\n",
    "### 4.1 Notebookien tallentaminen ja sulkeminen"
   ]
  },
  {
   "cell_type": "markdown",
   "metadata": {},
   "source": [
    "Voit tallentaa Notebookin valikkopalkista valitsemalla _File_ $\\rightarrow$ _Save and Checkpoint_, tai työkalupalkista klikkaamalla vasemmalla olevaa tallennusikonia.\n",
    "\n",
    "<img src=\"../../../Kuvat/tallenna.png\" align=\"left\">\n",
    "<br>\n",
    "<br>\n",
    "Notebookit tallentuvat .ipynb -tiedostomuodossa, joita voi tarkastella ja muokata Jupyterissa.\n",
    "<br>\n",
    "<img src=\"../../../Kuvat/dashboard.png\">\n",
    "<br>\n",
    "\n",
    "Päävalikossa _Files_-välilehti on tarkoitettu tiedostojen tarkastelua varten ja _Running_-välilehti käynnissä olevien Jupyter-prosessien tarkasteluun. Tässä tutoriaalissa emme perehdy _Clusters_-välilehteen.\n",
    "\n",
    "_Files_ siis näyttää Jupyterin käyttämän tallennuspaikan sisällön ja siellä käyttäjä voi esimerkiksi avata, poistaa, monistaa ja nimetä uudelleen notebookeja. Mikäli jonkin notebookin logo on korostettu vihreällä värillä (ks. kuva yllä), tarkoittaa tämä sitä, että notebook on käynnissä.\n",
    "\n",
    "Jupyter ei automaattisesti sammuta notebookeja, vaikka notebookin välilehti suljettaisiin, vaan notebook tulee käytön jälkeen sammuttaa manuaalisesti. Sammutus onnistuu kahdella eri tapaa. Ensimmäinen tapa on klikata _Files_-välilehdellä käynnissä olevan notebookin ruutua ja klikata ilmestyvää painiketta _Shutdown_ (kuvassa).\n",
    "<br>\n",
    "<img src=\"../../../Kuvat/shutdown.png\">\n",
    "<br>\n",
    "Sammutus onnistuu myös _Running_-välilehdeltä, joka näyttää kaikki käynnissä olevat notebookit. Välilehdeltä löytyy _Shutdown_-painike, joka sammuttaa käynnissä olevan notebookin:\n",
    "<br>\n",
    "<img src=\"../../../Kuvat/running.png\">"
   ]
  },
  {
   "cell_type": "markdown",
   "metadata": {},
   "source": [
    "<a id=\"solut\"></a>\n",
    "## 5. Solut"
   ]
  },
  {
   "cell_type": "markdown",
   "metadata": {},
   "source": [
    "Kaikki notebookin sisältö kirjoitetaan __soluihin__ (cells). Alla on esimerkiksi solu, joka on määrätty koodisoluksi. Myös tämä teksti on kirjoitettu omaan soluunsa, tekstisoluun. Soluja voidaan ajaa (run), jolloin solut tekevät solutyypistä riippuen erilaisia toimintoja."
   ]
  },
  {
   "cell_type": "code",
   "execution_count": 2,
   "metadata": {},
   "outputs": [],
   "source": [
    "# Tämä on koodisolu, johon ei vielä ole kirjoitettu ollenkaan koodia, vaan\n",
    "# ainoastaan nämä kommenttirivit.\n",
    "# Kommenttirivit alkavat aina #-merkillä."
   ]
  },
  {
   "cell_type": "markdown",
   "metadata": {},
   "source": [
    "Jupyterissa on käytössä neljä eri solutyyppiä: __Code__ (ohjemointikoodi), __Markdown__ (tavallinen teksti), __Heading__ (otsikko) sekä __Raw__ (koodi, joka jätetään notebookin sisällöstä pois). Näistä tärkeimpiä ovat Code- ja Markdown -solut.\n",
    "\n",
    "Voit tehostaa työskentelyäsi käyttämällä pikakomentoja. Löydät ja voit muokata kaikkia pikakomentoja painamalla näppäintä ***h*** komentotilassa."
   ]
  },
  {
   "cell_type": "markdown",
   "metadata": {},
   "source": [
    "<a id=\"luosolu\"></a>\n",
    "### 5.1 Solun luominen ja muokkaaminen"
   ]
  },
  {
   "cell_type": "markdown",
   "metadata": {},
   "source": [
    "Uuden solun luominen onnistuu _Insert_-valikosta tai työkalupalkin painikkeella $+$.\n",
    "Solun luomisen jälkeen voidaan valita solun tyyppi. Valinta onnistuu työkalupalkin vetovalikosta \n",
    "\n",
    "<img src=\"../../../Kuvat/solutyyppi.png\" align=\"left\">\n",
    "<br>\n",
    "<br>\n",
    "\n",
    "Vastaavasti solun voi poistaa valikkopalkin _Edit_ $\\rightarrow$ _Delete Cells_ -valinnalla."
   ]
  },
  {
   "cell_type": "markdown",
   "metadata": {},
   "source": [
    "<a id=\"ajasolu\"></a>\n",
    "### 5.2 Solun ajaminen"
   ]
  },
  {
   "cell_type": "markdown",
   "metadata": {},
   "source": [
    "Jupyter Notebookin tärkein ominaisuus on solujen ajaminen (running). Ajamisen jälkeen solu tekee siihen kirjatut tehtävät: tekstisolun sisällöstä tulee muotoiltua tekstiä, otsikkosolusta otsikko ja koodisolu suorittaa siihen ohjelmointikielellä kirjatut komennot. Saatoit jo huomata aiemmin, että tekstisolun editointitilaan siirtymisen ja siitä poistumisen jälkeen solu ei automaattisesti palautunutkaan muotoilluksi tekstiksi. Tämä johtuu siitä, että solu täytyy ensin ajaa.\n",
    "\n",
    "Solun ajaminen onnistuu työkalupalkin _Run_-painikkeella. Jos luet tätä tutoriaalia Jupyterilla, voit kokeilla alla olevan koodisolun ajamista. Voit myös muokata koodia ja ajaa solua uudestaan."
   ]
  },
  {
   "cell_type": "code",
   "execution_count": 3,
   "metadata": {},
   "outputs": [
    {
     "name": "stdout",
     "output_type": "stream",
     "text": [
      "Hello World!\n"
     ]
    }
   ],
   "source": [
    "# Tämä on koodisolu, jolla voimme testata koodin ajamista.\n",
    "# Ajamisen jälkeen notebookiin pitäisi tulostua teksti \"Hello World!\".\n",
    "# Kokeile solua muokkaamalla, saatko tulostettua muuta tekstiä.\n",
    "\n",
    "print(\"Hello World!\")"
   ]
  },
  {
   "cell_type": "markdown",
   "metadata": {},
   "source": [
    "<a id=\"markdown\"></a>\n",
    "### 5.3 Tekstisolu (Markdown)"
   ]
  },
  {
   "cell_type": "markdown",
   "metadata": {},
   "source": [
    "Jupyterin tekstisolut käyttävät _Markdown_-merkintäkieltä. Markdown mahdollistaa tavallisen tekstin kirjoittamisen lisäksi tekstin muotoilua. Markdownin avulla tekstiä voidaan esimerkiksi __lihavoida__, _kursivoida_ ja ~~yliviivata~~. Lisäksi voidaan laatia esimerkiksi listoja tai lainauksia.\n",
    "\n",
    "Tässä tutoriaalissa ei käydä tarkemmin läpi Markdownin muotoilukomentoja, mutta hyvä lista erilaisista komennoista löytyy esimerkiksi verkkosivulta https://github.com/adam-p/markdown-here/wiki/Markdown-Cheatsheet."
   ]
  },
  {
   "cell_type": "markdown",
   "metadata": {},
   "source": [
    "<a id=\"koodi\"></a>\n",
    "### 5.4 Koodisolu (code)"
   ]
  },
  {
   "cell_type": "markdown",
   "metadata": {},
   "source": [
    "Koodisoluihin voidaan kirjoittaa ohjelmointikoodia notebookiin valitun ytimen kielellä. Jos notebook käyttää esimerkiksi Python 3 -ydintä, voidaan koodisoluissa suorittaa Python 3 -komentoja.\n",
    "\n",
    "Koodisoluihin kirjattu koodi käyttäytyy samalla tapaa kuin missä tahansa muussakin ohjelmointiympäristössä. Koodin ajamisen tulokset näkyvät koodisolun alle ilmestyvässä _output_-osiossa.\n",
    "\n",
    "Esimerkiksi alla olevassa koodisolussa tallennetaan muuttujaan _summa_ yhteenlaskun 3 + 4 tulos, ja pyydetään näyttämään muuttujan _summa_ arvo."
   ]
  },
  {
   "cell_type": "code",
   "execution_count": 4,
   "metadata": {},
   "outputs": [
    {
     "data": {
      "text/plain": [
       "7"
      ]
     },
     "execution_count": 4,
     "metadata": {},
     "output_type": "execute_result"
    }
   ],
   "source": [
    "summa = 3 + 4\n",
    "summa"
   ]
  },
  {
   "cell_type": "markdown",
   "metadata": {},
   "source": [
    "Koodin ulostuloa ei ole rajoitettu vain tekstiin tai numeroihin, vaan ulostulo voi olla esimerkiksi kuvaaja tai taulukko. Jotta koodisi pystyy tuottamaan kuvaajia tai taulukoita, tarvitaan _moduuleja_. Alla olevassa koodisolussa esimerkiksi piirretään erilaisia lukupareja _matplotlib_-moduulin avulla, jolloin ulostuloon piirtyy kuvaaja:"
   ]
  },
  {
   "cell_type": "code",
   "execution_count": 5,
   "metadata": {},
   "outputs": [
    {
     "data": {
      "image/png": "[encoded data removed]",
      "text/plain": [
       "<Figure size 432x288 with 1 Axes>"
      ]
     },
     "metadata": {
      "needs_background": "light"
     },
     "output_type": "display_data"
    }
   ],
   "source": [
    "import matplotlib.pyplot as plt\n",
    "\n",
    "%matplotlib inline\n",
    "numeroita = [1,2,3,6,7,8,12,16]\n",
    "plt.plot(numeroita, 'ro')\n",
    "plt.show()"
   ]
  },
  {
   "cell_type": "markdown",
   "metadata": {},
   "source": [
    "<a id=\"ongelmia\"></a>\n",
    "## 6 Mahdollisia ongelmatilanteita ja ratkaisuja niihin"
   ]
  },
  {
   "cell_type": "markdown",
   "metadata": {},
   "source": [
    "<a id=\"ongelma1\"></a>\n",
    "### 6.1 Koodisolun ajaminen kestää liian kauan"
   ]
  },
  {
   "cell_type": "markdown",
   "metadata": {},
   "source": [
    "Joskus virheellisen tai liian monimutkaisen koodisolun ajaminen voi jumittaa Jupyterin toiminnan. Koodisolun suorittamisen voi keskeyttää joko valitsemalla _Kernel_ $\\rightarrow$ _Interrupt_ valikkopalkista, tai työkalupalkin _interrupt kernel_ -painikkeella (kuvassa alla). \n",
    "<br>\n",
    "<img src=\"../../../Kuvat/keskeyta.png\" align=\"left\">\n",
    "<br>\n",
    "<br>\n",
    "<br>\n",
    "Koodisolun, jonka ajaminen on kesken, voi tunnistaa solun vasemmalla puolella olevan _In_-merkinnän sisällä olevasta asteriskista\n",
    "<br>\n",
    "<img src=\"../../../Kuvat/busy.png\" align=\"left\">\n",
    "<br>\n",
    "<br>\n",
    "<br>\n",
    "tai notebookin välilehden nimen edessä näkyvästä _(busy)_-tekstistä."
   ]
  },
  {
   "cell_type": "markdown",
   "metadata": {},
   "source": [
    "<a id=\"ongelma2\"></a>\n",
    "### 6.2 Koodisolu tuottaa errorin"
   ]
  },
  {
   "cell_type": "markdown",
   "metadata": {},
   "source": [
    "Koodisolun tuottama _error_-ilmoitus johtuu useimmiten siitä, että koodissa on jokin virhe. Voi olla kuitenkin, että olet korjannut jo koodissasi olevan virheen, mutta _error_-viesti ilmestyy silti. Tällöin ohjelmassa voi olla tallentuneena virheellinen muuttuja/koodi. Helpoin tapa ratkaista ongelma on käynnistää ydin uudelleen valitsemalla joko\n",
    "- _Kernel $\\rightarrow$ Restart & Clear Output_, jolloin tallennetut muuttujat poistetaan muistista ja voit ajaa solut yksitellen alusta\n",
    "- _Kernel $\\rightarrow$ Restart & Run All_, jolloin tallennetut muuttujat poistetaan muistista ja kaikki solut ajetaan automaattisesti.\n",
    "\n",
    "Kirjoittamasi teksti ja koodi säilyvät, vain ohjelman muistiin tallennetut tiedot pyyhitään."
   ]
  },
  {
   "cell_type": "markdown",
   "metadata": {},
   "source": [
    "<a id=\"ongelma3\"></a>\n",
    "### 6.3 Yhteys ytimeen katkeaa"
   ]
  },
  {
   "cell_type": "markdown",
   "metadata": {},
   "source": [
    "On mahdollista, että notebook kadottaa yhteyden ytimeen, johon se on yhdistetty. Katkenneen yhteyden voi havaita valikkopalkin oikeassa reunassa olevasta kuviosta. Ytimen toimiessa normaalisti kuvio näyttää ehjältä pallolta,\n",
    "<br>\n",
    "<img src=\"../../../Kuvat/toimiva.png\" align=\"left\">\n",
    "<br>\n",
    "<br>\n",
    "<br>\n",
    "kun taas katkenneen yhteyden tapauksessa kuvio muistuttaa haljennutta palloa.\n",
    "<br>\n",
    "<img src=\"../../../Kuvat/yhteyskatko.png\" align=\"left\">\n",
    "<br>\n",
    "<br>\n",
    "<br>\n",
    "Yhteyden voi yrittää saada toimimaan yhdistämällä notebookin uudelleen ytimeen. Tämä onnistuu valikkopalkin valinnalla _Kernel_ $\\rightarrow$ _Reconnect_.\n",
    "\n",
    "Mikäli yhdistäminen ei tuota tulosta, voidaan yrittää notebookin ytimen uudelleenkäynnistämistä (restarting). Uudelleenkäynnistämisessä on huomioitava, että kaikki notebookin koodilla luodut muuttujat katoavat, kun ydin käynnistyy uudelleen. Uudelleenkäynnistys onnistuu joko valikkopalkin valinnalla _Kernel_ $\\rightarrow$ _Restart_, tai työkalupalkin _restart the kernel (with dialog)_ -painikkeella\n",
    "\n",
    "<img src=\"../../../Kuvat/restart.png\" align=\"left\">\n",
    "<br>\n",
    "<br>"
   ]
  },
  {
   "cell_type": "markdown",
   "metadata": {},
   "source": [
    "<a id=\"ongelma4\"></a>\n",
    "### 6.4 Solu ei käänny ajettaessa"
   ]
  },
  {
   "cell_type": "markdown",
   "metadata": {},
   "source": [
    "Todennäköisimmät syyt sille, että solu ei käänny ajettaessa oikein, ovat väärin kirjoitettu koodi tai vahingossa asetettu väärä solutyyppi. Mikäli esimerkiksi tekstisoluun on kirjoitettu ohjelmointikoodia, ei solu tee koodille määrättyjä tehtäviä, vaan kääntää koodin suoraan tekstiksi.\n",
    "\n",
    "Syy koodisolujen virheelliselle kääntymiselle voi olla myös väärä ydin. Ydin määrää, millä ohjelmointikielellä koodisoluun kirjoitettu koodi käännetään."
   ]
  },
  {
   "cell_type": "markdown",
   "metadata": {},
   "source": [
    "<a id=\"huomioita\"></a>\n",
    "## 7. Muita huomioita"
   ]
  },
  {
   "cell_type": "markdown",
   "metadata": {},
   "source": [
    "Tähän tutoriaaliin on kirjattu tietoa Jupyter Notebookin käytön aloittamisesta ja ohjelman peruskomennoista. Jupyter tarjoaa näiden perusominaisuuksien lisäksi runsaasti erilaisia mahdollisuuksia esimerkiksi laskentaan, data-analyysiin, opetukseen tai ohjelmoinnin opetteluun. Hyvä tapa Jupyterin käytön ja ohjelmoinnin oppimiseen on kokeileminen ja itsensä haastaminen: _Mitä tämä koodinpätkä oikein tekee? Miten saisin kirjoitettua notebookin, joka laskee arvosanojen keskiarvon? Voisikohan arvosanoista laatia histogrammin?_\n",
    "\n",
    "Sivulta https://github.com/jupyter/jupyter/wiki/A-gallery-of-interesting-Jupyter-Notebooks löytyy runsaasti mielenkiintoisia esimerkkejä erilaisista notebookeista. Esimerkit tarjoavat kuvaa siitä, mitä kaikkea materiaalia Jupyterin avulla voidaan tuottaa.\n",
    "\n",
    "Hauskaa matkaa Jupyterin maailmaan!"
   ]
  },
  {
   "cell_type": "markdown",
   "metadata": {},
   "source": [
    "<a id=\"harjoitus\"></a>\n",
    "## Lyhyt harjoitus"
   ]
  },
  {
   "cell_type": "markdown",
   "metadata": {},
   "source": [
    "### 1) Tekstisolun luominen"
   ]
  },
  {
   "cell_type": "markdown",
   "metadata": {},
   "source": [
    "- Luo uusi Notebook\n",
    "- Luo uusi solu.\n",
    "- Aseta solun tyypiksi tekstisolu (Markdown).\n",
    "- Kirjoita soluun tekstiä.\n",
    "- Aja solu."
   ]
  },
  {
   "cell_type": "markdown",
   "metadata": {},
   "source": [
    "### 2) Koodisolun luominen"
   ]
  },
  {
   "cell_type": "markdown",
   "metadata": {},
   "source": [
    "- Luo alle uusi solu ja aseta sen tyypiksi koodisolu (Code).\n",
    "- Kirjoita soluun koodi, joka tulostaa lukujen 3, 5, 6, 7, ja 9 keskiarvon.\n",
    "- Kirjoita loppuun koodi, joka tulostaa _Tulostettiin keskiarvo._\n",
    "- Aja solu"
   ]
  },
  {
   "cell_type": "markdown",
   "metadata": {},
   "source": [
    "### 3) Otsikointi ja tallennus"
   ]
  },
  {
   "cell_type": "markdown",
   "metadata": {},
   "source": [
    "- Otsikoi luomasi solut sopivilla teksteillä. Luo otsikot omiin soluihinsa. Voit käyttää solutyyppinä joko otsikkosolua (Heading) tai tekstisolua (Markdown). Otsikon voit kirjoittaa, kun lisäät #-merkin ennen tekstiä.\n",
    "- Aja otsikkosolut\n",
    "- Tallenna lopuksi notebookisi."
   ]
  }
 ],
 "metadata": {
  "kernelspec": {
   "display_name": "Python 3",
   "language": "python",
   "name": "python3"
  },
  "language_info": {
   "codemirror_mode": {
    "name": "ipython",
    "version": 3
   },
   "file_extension": ".py",
   "mimetype": "text/x-python",
   "name": "python",
   "nbconvert_exporter": "python",
   "pygments_lexer": "ipython3",
   "version": "3.7.3"
  }
 },
 "nbformat": 4,
 "nbformat_minor": 2
}
