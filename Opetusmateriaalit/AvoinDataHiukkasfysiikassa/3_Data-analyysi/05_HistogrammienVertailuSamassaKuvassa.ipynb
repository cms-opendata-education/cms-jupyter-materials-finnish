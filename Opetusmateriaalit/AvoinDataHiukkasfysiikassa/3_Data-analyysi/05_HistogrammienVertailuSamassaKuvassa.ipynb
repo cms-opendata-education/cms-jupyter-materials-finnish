{
 "cells": [
  {
   "cell_type": "markdown",
   "metadata": {},
   "source": [
    "# CMS-datan jaottelu ja histogrammien vertailu "
   ]
  },
  {
   "cell_type": "markdown",
   "metadata": {},
   "source": [
    "Tässä esimerkissä käytetään tiedostoa *Dimuon_DoubleMu.cvs* [1] jossa LHC:n kiihdyttämät protonit törmäävät CMS-ilmaisimen sisällä ja törmäyksestä syntyy myoni ja antimyoni. Tehtävänä on jaotella dataa ja vertailla ryhmiä histogrammin avulla.\n",
    "\n",
    "<br>\n",
    "Ruvetaas hommiin! Tuo ensimmäiseksi moduulit pandas ja matplotlib.pyplot, jotta voit lukea tiedostoja ja piirtää kuvaajia."
   ]
  },
  {
   "cell_type": "code",
   "execution_count": 1,
   "metadata": {},
   "outputs": [],
   "source": [
    "import pandas\n",
    "import matplotlib.pyplot as plt\n",
    "%matplotlib inline"
   ]
  },
  {
   "cell_type": "markdown",
   "metadata": {},
   "source": [
    "Voidaksesi käyttää lataamaasi datatiedostoa, sen tiedot täytyy tallentaa muuttujaan. Kirjoita tiedostosijainti ja -nimi siten, kuin se esiintyy tietokoneellasi. Tässä esimerkissä tiedosto (*Dimuon_DoubleMu.csv*) sijaitsee yhtä hakemistoa ylempänä (*../*) olevassa kansiossa nimeltään *Data* (*Data/*). Tiedoston tuomiseen tarvittava polku on siten\n",
    "*../Data/Dimuon_DoubleMu.csv*.\n",
    "<br>\n",
    "<br>\n",
    "Tallenna data muuttujaan *datasetti* ja tarkista ensimmäisten viiden rivin sisältö."
   ]
  },
  {
   "cell_type": "code",
   "execution_count": 4,
   "metadata": {},
   "outputs": [
    {
     "data": {
      "text/html": [
       "<div>\n",
       "<style scoped>\n",
       "    .dataframe tbody tr th:only-of-type {\n",
       "        vertical-align: middle;\n",
       "    }\n",
       "\n",
       "    .dataframe tbody tr th {\n",
       "        vertical-align: top;\n",
       "    }\n",
       "\n",
       "    .dataframe thead th {\n",
       "        text-align: right;\n",
       "    }\n",
       "</style>\n",
       "<table border=\"1\" class=\"dataframe\">\n",
       "  <thead>\n",
       "    <tr style=\"text-align: right;\">\n",
       "      <th></th>\n",
       "      <th>Run</th>\n",
       "      <th>Event</th>\n",
       "      <th>type1</th>\n",
       "      <th>E1</th>\n",
       "      <th>px1</th>\n",
       "      <th>py1</th>\n",
       "      <th>pz1</th>\n",
       "      <th>pt1</th>\n",
       "      <th>eta1</th>\n",
       "      <th>phi1</th>\n",
       "      <th>...</th>\n",
       "      <th>type2</th>\n",
       "      <th>E2</th>\n",
       "      <th>px2</th>\n",
       "      <th>py2</th>\n",
       "      <th>pz2</th>\n",
       "      <th>pt2</th>\n",
       "      <th>eta2</th>\n",
       "      <th>phi2</th>\n",
       "      <th>Q2</th>\n",
       "      <th>M</th>\n",
       "    </tr>\n",
       "  </thead>\n",
       "  <tbody>\n",
       "    <tr>\n",
       "      <th>0</th>\n",
       "      <td>165617</td>\n",
       "      <td>74601703</td>\n",
       "      <td>G</td>\n",
       "      <td>9.6987</td>\n",
       "      <td>-9.5104</td>\n",
       "      <td>0.3662</td>\n",
       "      <td>1.8633</td>\n",
       "      <td>9.5175</td>\n",
       "      <td>0.1945</td>\n",
       "      <td>3.1031</td>\n",
       "      <td>...</td>\n",
       "      <td>G</td>\n",
       "      <td>9.7633</td>\n",
       "      <td>7.3277</td>\n",
       "      <td>-1.1524</td>\n",
       "      <td>6.3473</td>\n",
       "      <td>7.4178</td>\n",
       "      <td>0.7756</td>\n",
       "      <td>-0.1560</td>\n",
       "      <td>1</td>\n",
       "      <td>17.4922</td>\n",
       "    </tr>\n",
       "    <tr>\n",
       "      <th>1</th>\n",
       "      <td>165617</td>\n",
       "      <td>75100943</td>\n",
       "      <td>G</td>\n",
       "      <td>6.2039</td>\n",
       "      <td>-4.2666</td>\n",
       "      <td>0.4565</td>\n",
       "      <td>-4.4793</td>\n",
       "      <td>4.2910</td>\n",
       "      <td>-0.9121</td>\n",
       "      <td>3.0350</td>\n",
       "      <td>...</td>\n",
       "      <td>G</td>\n",
       "      <td>9.6690</td>\n",
       "      <td>7.2740</td>\n",
       "      <td>-2.8211</td>\n",
       "      <td>-5.7104</td>\n",
       "      <td>7.8019</td>\n",
       "      <td>-0.6786</td>\n",
       "      <td>-0.3700</td>\n",
       "      <td>1</td>\n",
       "      <td>11.5534</td>\n",
       "    </tr>\n",
       "    <tr>\n",
       "      <th>2</th>\n",
       "      <td>165617</td>\n",
       "      <td>75587682</td>\n",
       "      <td>G</td>\n",
       "      <td>19.2892</td>\n",
       "      <td>-4.2121</td>\n",
       "      <td>-0.6516</td>\n",
       "      <td>18.8121</td>\n",
       "      <td>4.2622</td>\n",
       "      <td>2.1905</td>\n",
       "      <td>-2.9881</td>\n",
       "      <td>...</td>\n",
       "      <td>G</td>\n",
       "      <td>9.8244</td>\n",
       "      <td>4.3439</td>\n",
       "      <td>-0.4735</td>\n",
       "      <td>8.7985</td>\n",
       "      <td>4.3697</td>\n",
       "      <td>1.4497</td>\n",
       "      <td>-0.1086</td>\n",
       "      <td>1</td>\n",
       "      <td>9.1636</td>\n",
       "    </tr>\n",
       "    <tr>\n",
       "      <th>3</th>\n",
       "      <td>165617</td>\n",
       "      <td>75660978</td>\n",
       "      <td>G</td>\n",
       "      <td>7.0427</td>\n",
       "      <td>-6.3268</td>\n",
       "      <td>-0.2685</td>\n",
       "      <td>3.0802</td>\n",
       "      <td>6.3325</td>\n",
       "      <td>0.4690</td>\n",
       "      <td>-3.0992</td>\n",
       "      <td>...</td>\n",
       "      <td>G</td>\n",
       "      <td>5.5857</td>\n",
       "      <td>4.4748</td>\n",
       "      <td>0.8489</td>\n",
       "      <td>-3.2319</td>\n",
       "      <td>4.5546</td>\n",
       "      <td>-0.6605</td>\n",
       "      <td>0.1875</td>\n",
       "      <td>1</td>\n",
       "      <td>12.4774</td>\n",
       "    </tr>\n",
       "    <tr>\n",
       "      <th>4</th>\n",
       "      <td>165617</td>\n",
       "      <td>75947690</td>\n",
       "      <td>G</td>\n",
       "      <td>7.2751</td>\n",
       "      <td>0.1030</td>\n",
       "      <td>-5.5331</td>\n",
       "      <td>-4.7212</td>\n",
       "      <td>5.5340</td>\n",
       "      <td>-0.7736</td>\n",
       "      <td>-1.5522</td>\n",
       "      <td>...</td>\n",
       "      <td>G</td>\n",
       "      <td>7.3181</td>\n",
       "      <td>-0.3988</td>\n",
       "      <td>6.9408</td>\n",
       "      <td>2.2825</td>\n",
       "      <td>6.9523</td>\n",
       "      <td>0.3227</td>\n",
       "      <td>1.6282</td>\n",
       "      <td>1</td>\n",
       "      <td>14.3159</td>\n",
       "    </tr>\n",
       "  </tbody>\n",
       "</table>\n",
       "<p>5 rows × 21 columns</p>\n",
       "</div>"
      ],
      "text/plain": [
       "      Run     Event type1       E1     px1     py1      pz1     pt1    eta1  \\\n",
       "0  165617  74601703     G   9.6987 -9.5104  0.3662   1.8633  9.5175  0.1945   \n",
       "1  165617  75100943     G   6.2039 -4.2666  0.4565  -4.4793  4.2910 -0.9121   \n",
       "2  165617  75587682     G  19.2892 -4.2121 -0.6516  18.8121  4.2622  2.1905   \n",
       "3  165617  75660978     G   7.0427 -6.3268 -0.2685   3.0802  6.3325  0.4690   \n",
       "4  165617  75947690     G   7.2751  0.1030 -5.5331  -4.7212  5.5340 -0.7736   \n",
       "\n",
       "     phi1  ...  type2      E2     px2     py2     pz2     pt2    eta2    phi2  \\\n",
       "0  3.1031  ...      G  9.7633  7.3277 -1.1524  6.3473  7.4178  0.7756 -0.1560   \n",
       "1  3.0350  ...      G  9.6690  7.2740 -2.8211 -5.7104  7.8019 -0.6786 -0.3700   \n",
       "2 -2.9881  ...      G  9.8244  4.3439 -0.4735  8.7985  4.3697  1.4497 -0.1086   \n",
       "3 -3.0992  ...      G  5.5857  4.4748  0.8489 -3.2319  4.5546 -0.6605  0.1875   \n",
       "4 -1.5522  ...      G  7.3181 -0.3988  6.9408  2.2825  6.9523  0.3227  1.6282   \n",
       "\n",
       "   Q2        M  \n",
       "0   1  17.4922  \n",
       "1   1  11.5534  \n",
       "2   1   9.1636  \n",
       "3   1  12.4774  \n",
       "4   1  14.3159  \n",
       "\n",
       "[5 rows x 21 columns]"
      ]
     },
     "execution_count": 4,
     "metadata": {},
     "output_type": "execute_result"
    }
   ],
   "source": [
    "datasetti = pandas.read_csv('../../../Data/Dimuon_DoubleMu.csv')\n",
    "\n",
    "datasetti.head()"
   ]
  },
  {
   "cell_type": "markdown",
   "metadata": {},
   "source": [
    "Tässä harjoituksessa olemme kiinnostuneita hiukkasten invariantista massasta. Tallenna datasetin invarianttia massaa vastaava sarake muuttujaan *invariantti_massa* viittaamalla sarakkeen otsakkeeseen siten, kuin se esiintyy taulukossa (esim. *M*). Jos datasetistäsi puuttuu invariantin massan sarake, [laske arvot](https://github.com/cms-opendata-education/cms-jupyter-materials-finnish/blob/master/Harjoituksia/Laske-invariantti-massa.ipynb) ensin itse. Piirrä histogrammi kertomalla ohjelmalle piirrettävä muuttuja, pylväiden (bins) lukumäärä sekä haluttu piirtoväli (range). Alla olevassa esimerkissä piirretään invariantin massan histogrammi välillä 0-200 GeV ja 50 pylväällä.   "
   ]
  },
  {
   "cell_type": "code",
   "execution_count": 5,
   "metadata": {
    "scrolled": false
   },
   "outputs": [
    {
     "data": {
      "image/png": "[encoded data removed]",
      "text/plain": [
       "<Figure size 432x288 with 1 Axes>"
      ]
     },
     "metadata": {
      "needs_background": "light"
     },
     "output_type": "display_data"
    }
   ],
   "source": [
    "invariantti_massa = datasetti['M']\n",
    "\n",
    "plt.hist(invariantti_massa, bins=50, range=(0,200))\n",
    "plt.show()"
   ]
  },
  {
   "cell_type": "markdown",
   "metadata": {},
   "source": [
    "Piirtoväliä ja pylväiden lukumäärää voidaan muuttaa tarkemman analyysin tekemiseksi. Alla piirretään sama kuvaaja uudestaan siten, että akselit on nimetty ja kuvaajalla on otsikko."
   ]
  },
  {
   "cell_type": "code",
   "execution_count": 6,
   "metadata": {
    "scrolled": true
   },
   "outputs": [
    {
     "data": {
      "image/png": "[encoded data removed]",
      "text/plain": [
       "<Figure size 432x288 with 1 Axes>"
      ]
     },
     "metadata": {
      "needs_background": "light"
     },
     "output_type": "display_data"
    }
   ],
   "source": [
    "plt.xlabel('Invariantti massa [GeV]')\n",
    "plt.ylabel('Tapahtumien lukumäärä')\n",
    "plt.title('Kahden myonin invariantin massan histogrammi \\n')\n",
    "\n",
    "plt.hist(invariantti_massa, bins=50, range=(0,200))\n",
    "plt.show()"
   ]
  },
  {
   "cell_type": "markdown",
   "metadata": {},
   "source": [
    "Yllä olevasta kuvaajasta voidaan erottaa piikki noin 90 GeV:n kohdalla. Likimäärin 50 GeV:a   matalammat invariantin massan arvot havainnollistavat taustatapahtumia. \n",
    "<br>\n",
    "<br>\n",
    "Dataa voidaan käsitellä matemaattisilla operaattoreilla, kuten yhteen- ja vähennyslaskulla. Datan lajittelu onnistuu luomalla uusi muuttuja, johon talletetaan vain tietyn ehdon täyttävät arvot. Seuraavassa esimerkissä alkuperäisen datan tapahtumat jaetaan kahteen uuteen datasettiin hiukkasten energian perusteella. Datasetit nimetään ja lajitellaan korkeaan energiaan (> 150 GeV) ja matalaan energiaan (< 150 GeV)."
   ]
  },
  {
   "cell_type": "code",
   "execution_count": 20,
   "metadata": {},
   "outputs": [],
   "source": [
    "uusiSettiKorkeaE = datasetti[datasetti.E1+datasetti.E2>150]\n",
    "uusiSettiMatalaE = datasetti[datasetti.E1+datasetti.E2<150]"
   ]
  },
  {
   "cell_type": "markdown",
   "metadata": {},
   "source": [
    "Uudet datasetit voidaan piirtää erikseen, kuten tehtiin aiemmin, tai sovittaa yhteen kuvaajaan. Kaksi histogrammia voidaan piirtää päällekkäin säätämällä niiden läpinäkyvyyttä komennolla *alpha*. Histogrammien selitteet tulostetaan kuvaajan oikeaan yläkulmaan selvyyden vuoksi. Lisäksi kuvaajan piirtoväli (range) voidaan rajata analyysin kannalta kiinnostavalle alueelle (piikki 90 GeV:n tuntumassa).  "
   ]
  },
  {
   "cell_type": "code",
   "execution_count": 21,
   "metadata": {
    "scrolled": true
   },
   "outputs": [
    {
     "data": {
      "image/png": "[encoded data removed]",
      "text/plain": [
       "<Figure size 432x288 with 1 Axes>"
      ]
     },
     "metadata": {
      "needs_background": "light"
     },
     "output_type": "display_data"
    }
   ],
   "source": [
    "plt.xlabel('Invariantti massa [GeV]')\n",
    "plt.ylabel('Tapahtumien lukumäärä')\n",
    "plt.title('Kahden myonin invariantti massa, vertailu energian perusteella \\n')\n",
    "plt.hist(uusiSettiMatalaE ['M'], bins=50, range=(80,100), alpha=0.5, label='Matala E')\n",
    "plt.hist(uusiSettiKorkeaE ['M'], bins=50, range=(80,100), alpha=0.5, label='Korkea E')\n",
    "plt.legend (loc='upper right')\n",
    "plt.show()"
   ]
  },
  {
   "cell_type": "markdown",
   "metadata": {},
   "source": [
    "Mitä tapahtuu, jos muutat energiarajan arvoa? Kokeile energiarajan muuttamista luodessasi muuttujat *uusiSettiKorkeaE* ja *uusiSettiMatalaE*. Millä muulla ehdolla voisit lajitella datan?"
   ]
  },
  {
   "cell_type": "markdown",
   "metadata": {},
   "source": [
    "### Lähteet\n",
    "[1] Käytetty tiedosto, Datasets derived from the Run2011A DoubleMu\n",
    "Url:http://opendata.cern.ch/record/545"
   ]
  },
  {
   "cell_type": "code",
   "execution_count": null,
   "metadata": {},
   "outputs": [],
   "source": []
  }
 ],
 "metadata": {
  "kernelspec": {
   "display_name": "Python 3",
   "language": "python",
   "name": "python3"
  },
  "language_info": {
   "codemirror_mode": {
    "name": "ipython",
    "version": 3
   },
   "file_extension": ".py",
   "mimetype": "text/x-python",
   "name": "python",
   "nbconvert_exporter": "python",
   "pygments_lexer": "ipython3",
   "version": "3.7.3"
  }
 },
 "nbformat": 4,
 "nbformat_minor": 2
}
