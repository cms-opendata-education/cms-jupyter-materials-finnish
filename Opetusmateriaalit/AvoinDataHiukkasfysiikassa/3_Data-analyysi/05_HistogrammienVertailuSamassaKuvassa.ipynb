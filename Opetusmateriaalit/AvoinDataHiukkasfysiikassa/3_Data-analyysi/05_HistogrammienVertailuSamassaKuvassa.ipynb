{
 "cells": [
  {
   "cell_type": "markdown",
   "metadata": {},
   "source": [
    "# 5. Histogrammien vertailu samassa kuvassa"
   ]
  },
  {
   "cell_type": "markdown",
   "metadata": {},
   "source": [
    "Tässä tehtävässä käytetään datatiedostoa *Dimuon_DoubleMu.cvs* [1], jossa LHC:n kiihdyttämät protonit törmäävät CMS-ilmaisimen sisällä ja törmäyksestä syntyy myoni ja antimyoni. Tehtävänäsi on jaotella dataa myonin energian perusteella ja vertailla eri energisten myonien histogrammeja."
   ]
  },
  {
   "cell_type": "markdown",
   "metadata": {},
   "source": [
    "> 1. Tuo moduulit pandas, numpy ja matplotlib.pylab\n",
    "<br> \n",
    "> 1. Lue datatiedosto ja tallenna invariantti massa. Tiedoston polku: *'[https://raw.githubusercontent.com/cms-opendata-education/cms-jupyter-materials-finnish/master/Data/Dimuon_DoubleMu.csv](https://raw.githubusercontent.com/cms-opendata-education/cms-jupyter-materials-finnish/master/Data/Dimuon_DoubleMu.csv)'*\n",
    "<br>\n",
    "$\\color{purple}{\\text{Kirjoita koodi alle.}}$"
   ]
  },
  {
   "cell_type": "code",
   "execution_count": null,
   "metadata": {},
   "outputs": [],
   "source": [
    "# Tuo tarvittavat moduulit\n",
    "\n",
    "\n",
    "# Lue datatiedosto\n",
    "\n",
    "\n",
    "# Tallenna invariantti massa\n",
    "\n"
   ]
  },
  {
   "cell_type": "markdown",
   "metadata": {},
   "source": [
    "> 1. Piirrä invariantin massan histogrammi\n",
    "<br> \n",
    "> 1. Piirrä histogrammi uudelleen, mutta siten, että zoomaat jonkun piikin kohdalle. Zoomaus onnistuu lisäämällä koodiin range() -attribuutti. Esimerkiksi *plt.hist(invariantti_massa, bins=100, range=(50,100))* piirtäisi histogrammin, jossa on 100 pylvästä ja invariantti massa on välillä 50 GeV - 100 GeV.\n",
    "<br>\n",
    "$\\color{purple}{\\text{Kirjoita koodi alle.}}$"
   ]
  },
  {
   "cell_type": "code",
   "execution_count": null,
   "metadata": {
    "scrolled": false
   },
   "outputs": [],
   "source": [
    "# Piirrä histogrammi ja zoomaa jonkun piikin kohdalle\n",
    "\n",
    "plt.hist(invariantti_massa, bins=500)\n",
    "plt.title('Kahden myonin invariantti massa')\n",
    "plt.xlabel('Invariantti massa (GeV)')\n",
    "plt.ylabel('Tapahtumien lukumäärä')\n",
    "plt.show()"
   ]
  },
  {
   "cell_type": "markdown",
   "metadata": {},
   "source": [
    "Dataa voidaan käsitellä matemaattisilla operaattoreilla, kuten yhteen- ja vähennyslaskulla. Datan lajittelu onnistuu luomalla uusi muuttuja, johon talletetaan vain tietyn ehdon täyttävät arvot. Alla olevassa koodisolussa valitaan KorkeaE-muuttujaan ne tapahtumat datasetistä, joissa hiukkasten yhteenlaskettu energia on yli 150 GeV. Vastaavasti MatalaE-muuttujaan valitaan ne tapahtumat, joissa hiukkasten yhteenlaskettu energia on alle 150 GeV."
   ]
  },
  {
   "cell_type": "code",
   "execution_count": null,
   "metadata": {},
   "outputs": [],
   "source": [
    "KorkeaE = datasetti[datasetti.E1 + datasetti.E2 > 150]\n",
    "MatalaE = datasetti[datasetti.E1 + datasetti.E2 < 150]"
   ]
  },
  {
   "cell_type": "markdown",
   "metadata": {},
   "source": [
    "Uudet datasetit voidaan piirtää erikseen, omiin kuvaajiinsa, tai ne voidaan piirtää samaan kuvaajaan. Kaksi histogrammia voidaan piirtää päällekkäin säätämällä niiden läpinäkyvyyttä komennolla *alpha*. Kokeile piirtää histogrammi myös uudelleen käyttämällä eri raja-arvoa korkealle ja matalalle energialle."
   ]
  },
  {
   "cell_type": "code",
   "execution_count": null,
   "metadata": {
    "scrolled": true
   },
   "outputs": [],
   "source": [
    "plt.xlabel('Invariantti massa [GeV]')\n",
    "plt.ylabel('Tapahtumien lukumäärä')\n",
    "plt.title('Kahden myonin invariantti massa, vertailu energian perusteella \\n')\n",
    "\n",
    "# alpha -komento määrittää läpinäkyvyyden. 0 on täysin läpinäkyvä, 1 täysin läpinäkymätön.\n",
    "# label -komennon avulla voimme määrittää kuvaajassa, mikä väri kuvaa mitäkin histogrammia.\n",
    "plt.hist(MatalaE.M, bins=50, range=(80,100), alpha=0.5, label='Matala E')\n",
    "plt.hist(KorkeaE.M, bins=50, range=(80,100), alpha=0.5, label='Korkea E')\n",
    "# legend-komento täytyy asettaa, jotta aiemmin määritellyt labelit näkyvät kuvassa.\n",
    "plt.legend()\n",
    "plt.show()"
   ]
  },
  {
   "cell_type": "markdown",
   "metadata": {},
   "source": [
    "> 1. Piirrä samaan kuvaajaan kaksi histogrammia, joista toisessa hiukkasten yhteenlaskettu pseudorapiditeetti (eta) on yli 1.5 ja toisessa alle 1.5\n",
    "> 1. Rajoita invariantti massa välille 80 GeV - 100 GeV\n",
    "<br>\n",
    "$\\color{purple}{\\text{Kirjoita koodi alle.}}$"
   ]
  },
  {
   "cell_type": "code",
   "execution_count": null,
   "metadata": {},
   "outputs": [],
   "source": [
    "# Määrittele korkea ja matala pseudorapiditeetti\n",
    "\n"
   ]
  },
  {
   "cell_type": "code",
   "execution_count": null,
   "metadata": {},
   "outputs": [],
   "source": [
    "# Piirrä korkean ja matalan pseudorapiditeetin histogrammit samaan kuvaajaan\n",
    "\n"
   ]
  },
  {
   "cell_type": "markdown",
   "metadata": {},
   "source": [
    "> Pohdi, mitä näet pseudorapiditeettien kuvaajassa.\n",
    "<br>\n",
    "> Pseudorapiditeettiin palataan tehtävässä 7."
   ]
  },
  {
   "cell_type": "markdown",
   "metadata": {},
   "source": [
    "### Lähteet\n",
    "[1] Käytetty tiedosto, Datasets derived from the Run2011A DoubleMu\n",
    "Url:http://opendata.cern.ch/record/545"
   ]
  }
 ],
 "metadata": {
  "kernelspec": {
   "display_name": "Python 3",
   "language": "python",
   "name": "python3"
  },
  "language_info": {
   "codemirror_mode": {
    "name": "ipython",
    "version": 3
   },
   "file_extension": ".py",
   "mimetype": "text/x-python",
   "name": "python",
   "nbconvert_exporter": "python",
   "pygments_lexer": "ipython3",
   "version": "3.7.3"
  }
 },
 "nbformat": 4,
 "nbformat_minor": 2
}
