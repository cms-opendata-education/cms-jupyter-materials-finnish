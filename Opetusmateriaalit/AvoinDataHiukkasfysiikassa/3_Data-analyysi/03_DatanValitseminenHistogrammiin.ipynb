{
 "cells": [
  {
   "cell_type": "markdown",
   "metadata": {},
   "source": [
    "# 3. Datan valitseminen histogrammiin"
   ]
  },
  {
   "cell_type": "markdown",
   "metadata": {},
   "source": [
    "Tässä harjoituksessa käytämme CMS-detektorin keräämää dataa törmäyksistä, joissa on havaittu kaksi myonia, joiden invariantti massa on välillä 60-120 GeV [1]. Data sisältää 10851 törmäystapahtumaa, joissa myonien invariantti massa on valmiiksi laskettu. __Tämän harjoituksen tarkoituksena on tarkastella, miten valitun datan määrä vaikuttaa piirtämäämme histogrammiin.__\n",
    "\n",
    "[1] CMS collaboration (2016). DoubleMu primary dataset in AOD format from RunA of 2011 (/DoubleMu/Run2011A-12Oct2013-v1/AOD). CERN Open Data Portal. DOI: [10.7483/OPENDATA.CMS.RZ34.QR6N](http://doi.org/10.7483/OPENDATA.CMS.RZ34.QR6N)."
   ]
  },
  {
   "cell_type": "markdown",
   "metadata": {},
   "source": [
    "## 1) Tiedoston lukeminen"
   ]
  },
  {
   "cell_type": "markdown",
   "metadata": {},
   "source": [
    "> - Tuo moduulit pandas, numpy ja matplotlib.pyplot, käytä lyhenteitä pd, np ja plt\n",
    "<br>\n",
    "> - Lue datatiedosto pandas-moduulin avulla. Tallenna tiedot muuttujaan _datasetti_. Tiedoston polku on *'https://raw.githubusercontent.com/cms-opendata-education/cms-jupyter-materials-finnish/master/Data/Zmumu_Run2011A_massoilla.csv'*\n",
    "<br>\n",
    "> - Tallenna invariantti massa muuttujaan *invariantti_massa*\n",
    "<br>\n",
    "$\\color{purple}{\\text{Kirjoita koodi alle.}}$"
   ]
  },
  {
   "cell_type": "code",
   "execution_count": null,
   "metadata": {},
   "outputs": [],
   "source": [
    "# Tuo moduulit pandas, numpy ja matplotlib.pyplot käyttäen import-komentoa\n",
    "\n",
    "\n",
    "# Lue datatiedosto ja tallenna tiedot muuttujaan 'datasetti'\n",
    "\n",
    "\n",
    "# Tallenna invariantti massa muuttujaan 'invariantti_massa'\n",
    "\n"
   ]
  },
  {
   "cell_type": "markdown",
   "metadata": {},
   "source": [
    "## 2) Valitaan käytetyn datan määrä"
   ]
  },
  {
   "cell_type": "markdown",
   "metadata": {},
   "source": [
    "Alla oleva koodi kysyy käyttäjältä, kuinka monta tapahtumaa valitaan piirrettäväksi ja piirtää histogrammin valittujen tapahtumien invarianteista massoista. Voit ajaa koodisolun uudelleen, jolloin saat valita tapahtumien määrän uudelleen. Voit vain ajaa koodisolun kiinnittämättä sen enempää huomiota koodin sisältöön. Jos koodin sisältö kuitenkin kiinnostaa, niin koodin kommentit kertovat, mitä kullakin rivillä on tehty.\n",
    "\n",
    "Tutki koodin avulla seuraavia asioita:\n",
    "1. Miten valitun datan määrä vaikuttaa histogrammiin?\n",
    "2. Mitä invariantin massan arvoa datasta löytyy eniten?\n",
    "3. Mitä voit päätellä kohdan 2 vastauksestasi?\n",
    "\n",
    "Bonus: Mitä tapahtuu, jos valitset esimerkiksi 20000 tapahtumaa piirrettäväksi? Miksi?"
   ]
  },
  {
   "cell_type": "code",
   "execution_count": null,
   "metadata": {},
   "outputs": [],
   "source": [
    "# Luodaan tyhjä lista 'valitut', johon tallennetaan valittujen invarianttien massojen arvot.\n",
    "valitut = []\n",
    "\n",
    "# Pyydetään käyttäjää valitsemaan tapahtumien lukumäärä. Tallennetaan luku muuttujaan 'määrä'.\n",
    "määrä = int(input('Kuinka monta tapahtumaa valitaan: '))\n",
    "\n",
    "# Tarkastetaan, onko datassa tarpeeksi tapahtumia. Jos tapahtumia ei ole tarpeeksi, tulostetaan virheilmoitus.\n",
    "# Muussa tapauksessa massat valitaan ja tallennetaan 'valitut'-listaan.\n",
    "if määrä > len(invariantti_massa):\n",
    "    print('Virhe: Histogrammin piirto epäonnistui. Ei tarpeeksi dataa. Maksimimäärä tapahtumia on ' + str(len(invariantti_massa)) + '.')\n",
    "else:\n",
    "    for f in range(määrä):\n",
    "        M = invariantti_massa[f]\n",
    "        valitut.append(M)\n",
    "    print('\\n Valitsit datasta {} invariantin massan arvoa.'.format(määrä))\n",
    "\n",
    "# Piirretään histogrammi valitusta datamäärästä. Valitaan pylväiden lukumäärä 'bins' sekä x-akselin väli 'range'.\n",
    "plt.hist(valitut, bins=120, range=(60,120))\n",
    "\n",
    "# Nimetään akselit ja annetaan histogrammille otsikko.\n",
    "plt.xlabel('Invariantti massa [GeV]')\n",
    "plt.ylabel('Tapahtumien lukumäärä')\n",
    "plt.title('Kahden myonin invariantti massa\\n')\n",
    "\n",
    "# Tyhjennetään lista 'valitut' seuraavaa ajoa varten.\n",
    "valitut = []"
   ]
  },
  {
   "cell_type": "markdown",
   "metadata": {},
   "source": [
    "## 3) Animaatio histogrammista, kun datan määrä kasvaa"
   ]
  },
  {
   "cell_type": "markdown",
   "metadata": {},
   "source": [
    "Alla oleva koodi luo animaation, jossa histogrammiin lisätään dataa. Tässä kohtaa ei tarvitse ymmärtää, mitä koodisolujen tekstit tarkoittavat.\n",
    "\n",
    "Pohdi animaation perusteella, mikä merkitys on käytetyn datan määrällä on.\n",
    "Aja kaikki alla olevat solut ja odota nähdäksesi animaation.\n",
    "\n",
    "__Huom!__ Solujen ajaminen voi kestää useita minuutteja, joten ole kärsivällinen."
   ]
  },
  {
   "cell_type": "code",
   "execution_count": null,
   "metadata": {},
   "outputs": [],
   "source": [
    "import matplotlib.animation\n",
    "from scipy.stats import norm\n",
    "\n",
    "def updt_hist(num, invariantti_massa):\n",
    "    plt.cla()\n",
    "    plt.xlim((0,150))\n",
    "    plt.hist(invariantti_massa[:num*25], bins = 150)"
   ]
  },
  {
   "cell_type": "code",
   "execution_count": null,
   "metadata": {},
   "outputs": [],
   "source": [
    "%%capture\n",
    "\n",
    "fig = plt.figure(figsize=(15,10))\n",
    "anim = matplotlib.animation.FuncAnimation(fig, updt_hist, frames = 100, fargs = (invariantti_massa,))\n",
    "\n",
    "from IPython.display import HTML\n",
    "HTML(anim.to_jshtml())"
   ]
  },
  {
   "cell_type": "code",
   "execution_count": null,
   "metadata": {},
   "outputs": [],
   "source": [
    "HTML(anim.to_jshtml())"
   ]
  }
 ],
 "metadata": {
  "kernelspec": {
   "display_name": "Python 3",
   "language": "python",
   "name": "python3"
  },
  "language_info": {
   "codemirror_mode": {
    "name": "ipython",
    "version": 3
   },
   "file_extension": ".py",
   "mimetype": "text/x-python",
   "name": "python",
   "nbconvert_exporter": "python",
   "pygments_lexer": "ipython3",
   "version": "3.8.5"
  }
 },
 "nbformat": 4,
 "nbformat_minor": 2
}
