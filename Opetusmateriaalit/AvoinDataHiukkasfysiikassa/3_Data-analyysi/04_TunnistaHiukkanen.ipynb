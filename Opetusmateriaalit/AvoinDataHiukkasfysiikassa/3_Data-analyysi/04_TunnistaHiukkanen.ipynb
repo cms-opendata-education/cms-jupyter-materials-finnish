{
 "cells": [
  {
   "cell_type": "markdown",
   "metadata": {},
   "source": [
    "# Tunnista hiukkanen"
   ]
  },
  {
   "cell_type": "markdown",
   "metadata": {},
   "source": [
    "Tässä tehtävässä käytetään CMS-ilmaisimen tuottamaa dataa törmäyksistä, joissa on syntynyt kaksi myonia.\n",
    "\n",
    "Tehtävä:\n",
    "\n",
    "1. Kirjoita koodi, joka lukee datatiedoston sekä piirtää histogrammin datan sisältämistä invarianteista massoista. \n",
    "2. Selvitä piirtämäsi histogrammin sekä notebookin lopussa olevan kuvan avulla, mistä hiukkasesta/hiukkasista myonit ovat peräisin.\n",
    "\n",
    "Koodisoluihin on kirjoitettu valmiiksi, mitä kuhunkin soluun tulisi tehdä.\n",
    "Tiedostonlukua varten voit kopioida tiedostopolun tästä:\n",
    "\n",
    "https://raw.githubusercontent.com/cms-opendata-education/cms-jupyter-materials-finnish/master/Data/Jpsimumu_Run2011A.csv\n"
   ]
  },
  {
   "cell_type": "code",
   "execution_count": null,
   "metadata": {},
   "outputs": [],
   "source": [
    "# Tuo tarvittavat moduulit import-komennolla."
   ]
  },
  {
   "cell_type": "code",
   "execution_count": null,
   "metadata": {},
   "outputs": [],
   "source": [
    "# Lue datatiedosto ja tallenna invariantit massat muuttujaan.."
   ]
  },
  {
   "cell_type": "code",
   "execution_count": null,
   "metadata": {},
   "outputs": [],
   "source": [
    "# Piirrä invarianttien massojen histogrammi."
   ]
  },
  {
   "cell_type": "markdown",
   "metadata": {},
   "source": [
    "![](https://github.com/cms-opendata-education/cms-jupyter-materials-finnish/blob/master/Kuvat/inv_massa.PNG?raw=true)\n",
    "*Lähde: HLT Dimuon Invariant Mass Distributions in 2017 and 2018 ( CMS DP-2018/055) Url: https://twiki.cern.ch/twiki/bin/view/CMSPublic/HLTDiMuon2017and2018*"
   ]
  }
 ],
 "metadata": {
  "kernelspec": {
   "display_name": "Python 3",
   "language": "python",
   "name": "python3"
  },
  "language_info": {
   "codemirror_mode": {
    "name": "ipython",
    "version": 3
   },
   "file_extension": ".py",
   "mimetype": "text/x-python",
   "name": "python",
   "nbconvert_exporter": "python",
   "pygments_lexer": "ipython3",
   "version": "3.7.3"
  }
 },
 "nbformat": 4,
 "nbformat_minor": 2
}
