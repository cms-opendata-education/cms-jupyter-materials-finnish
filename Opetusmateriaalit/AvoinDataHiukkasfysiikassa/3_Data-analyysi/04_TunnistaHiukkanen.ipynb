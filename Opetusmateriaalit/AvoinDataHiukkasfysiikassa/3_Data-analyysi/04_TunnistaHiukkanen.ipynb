{
 "cells": [
  {
   "cell_type": "markdown",
   "metadata": {},
   "source": [
    "# 4. Tunnista hiukkanen"
   ]
  },
  {
   "cell_type": "markdown",
   "metadata": {},
   "source": [
    "Tässä tehtävässä käytetään CMS-ilmaisimen tuottamaa dataa törmäyksistä, joissa on syntynyt kaksi myonia.\n",
    "Tehtävänäsi on piirtä histogrammi ja tunnistaa, mistä hiukaksesta myonit ovat peräisin."
   ]
  },
  {
   "cell_type": "markdown",
   "metadata": {},
   "source": [
    "> 1. Tuo moduulit pandas, numpy ja matplotlib.pylab\n",
    "<br>\n",
    "> 1. Lue datatiedosto ja tallenna invariantit massat. Datatiedoston polku: *'[https://raw.githubusercontent.com/cms-opendata-education/cms-jupyter-materials-finnish/master/Data/Jpsimumu_Run2011A.csv](https://raw.githubusercontent.com/cms-opendata-education/cms-jupyter-materials-finnish/master/Data/Jpsimumu_Run2011A.csv)'*\n",
    "<br>\n",
    "> 1. Piirrä invarianteista massoista histogrammi\n",
    "<br>\n",
    "> 1. Selvitä alla olevan kuvan avulla, mistä hiukkasesta datassa on kyse\n",
    "<br> \n",
    "$\\color{purple}{\\text{Kirjoita koodi alle.}}$"
   ]
  },
  {
   "cell_type": "code",
   "execution_count": null,
   "metadata": {},
   "outputs": [],
   "source": [
    "# Tuo tarvittavat moduulit import-komennolla\n",
    "\n"
   ]
  },
  {
   "cell_type": "code",
   "execution_count": null,
   "metadata": {},
   "outputs": [],
   "source": [
    "# Lue datatiedosto ja tallenna invarianttien massojen arvot\n",
    "\n"
   ]
  },
  {
   "cell_type": "code",
   "execution_count": null,
   "metadata": {},
   "outputs": [],
   "source": [
    "# Piirrä invarianttien massojen histogrammi\n",
    "\n"
   ]
  },
  {
   "cell_type": "markdown",
   "metadata": {},
   "source": [
    "![](https://github.com/cms-opendata-education/cms-jupyter-materials-finnish/blob/master/Kuvat/inv_massa.PNG?raw=true)\n",
    "*Lähde: HLT Dimuon Invariant Mass Distributions in 2017 and 2018 ( CMS DP-2018/055) Url: https://twiki.cern.ch/twiki/bin/view/CMSPublic/HLTDiMuon2017and2018*"
   ]
  }
 ],
 "metadata": {
  "kernelspec": {
   "display_name": "Python 3",
   "language": "python",
   "name": "python3"
  },
  "language_info": {
   "codemirror_mode": {
    "name": "ipython",
    "version": 3
   },
   "file_extension": ".py",
   "mimetype": "text/x-python",
   "name": "python",
   "nbconvert_exporter": "python",
   "pygments_lexer": "ipython3",
   "version": "3.7.3"
  }
 },
 "nbformat": 4,
 "nbformat_minor": 2
}
