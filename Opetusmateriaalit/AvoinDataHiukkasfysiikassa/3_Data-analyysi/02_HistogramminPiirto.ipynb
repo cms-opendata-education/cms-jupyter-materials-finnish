{
 "cells": [
  {
   "cell_type": "markdown",
   "metadata": {},
   "source": [
    "# 2. Histogrammin piirto"
   ]
  },
  {
   "cell_type": "markdown",
   "metadata": {},
   "source": [
    "Tässä harjoituksessa opetellaan piirtämään invariantin massan histogrammi Pythonilla. Käytetään datana CMS-kokeen vuonna 2011 keräämää dataa kahden protonin törmäyksistä [1]. Tässä harjoituksessa käytettävään CSV-tiedostoon on karsittu edellä mainitusta datasta kiinnostavia tapahtumia, joissa hiukkasilmaisin on havainnut kaksi myonia, joiden invariantti massa on välillä 8–12 GeV [2]."
   ]
  },
  {
   "cell_type": "markdown",
   "metadata": {},
   "source": [
    "\n",
    "<img src=\"https://github.com/cms-opendata-education/cms-jupyter-materials-finnish/blob/master/Kuvat/CMS_avattu.jpg?raw=true\" title=\"[Kuva 1] CMS-ilmaisin avattuna\" style=\"height: 400px\">\n",
    "\n"
   ]
  },
  {
   "cell_type": "markdown",
   "metadata": {},
   "source": [
    "### 1) Tilanteen alustus"
   ]
  },
  {
   "cell_type": "markdown",
   "metadata": {},
   "source": [
    "Aloitetaan tuomalla tarvittavat moduulit ja lukemalla datatiedosto."
   ]
  },
  {
   "cell_type": "markdown",
   "metadata": {},
   "source": [
    "> - Tuo moduulit **pandas**, **numpy** ja **matplotlib.pylab** _import_ -komennolla\n",
    "<br>\n",
    "> - Käytä moduuleissa lyhenteitä *pd*, *np* ja *plt*, jotta moduulin koko nimeä ei tarvitse kirjoittaa aina uudelleen.\n",
    "<br>\n",
    "$\\color{purple}{\\text{Kirjoita koodi alle.}}$"
   ]
  },
  {
   "cell_type": "code",
   "execution_count": null,
   "metadata": {},
   "outputs": [],
   "source": [
    "# Tuo tarvittavat moduulit import-komennolla\n",
    "\n"
   ]
  },
  {
   "cell_type": "markdown",
   "metadata": {},
   "source": [
    "> - Lue datatiedosto pandas-moduulin *read_csv* -metodilla ja tallenna tiedot muuttujaan _datasetti_.\n",
    "<br>\n",
    "> - Datatiedoston polku on '[https://raw.githubusercontent.com/cms-opendata-education/cms-jupyter-materials-finnish/master/Data/Ymumu_Run2011A.csv](https://raw.githubusercontent.com/cms-opendata-education/cms-jupyter-materials-finnish/master/Data/Ymumu_Run2011A.csv)'\n",
    "<br>\n",
    "$\\color{purple}{\\text{Kirjoita koodi alle.}}$"
   ]
  },
  {
   "cell_type": "code",
   "execution_count": null,
   "metadata": {},
   "outputs": [],
   "source": [
    "# Lue datatiedosto ja tallenna data muuttujaan 'datasetti'.\n",
    "\n"
   ]
  },
  {
   "cell_type": "markdown",
   "metadata": {},
   "source": [
    "> Mitä tallennettu tiedosto sisältää? \n",
    "Tarkista tulostamalla ainakin viisi ensimmäistä riviä. \n",
    "<br>\n",
    "$\\color{purple}{\\text{Kirjoita koodi alle.}}$"
   ]
  },
  {
   "cell_type": "code",
   "execution_count": null,
   "metadata": {},
   "outputs": [],
   "source": [
    "# Tulosta tiedoston viisi ensimmäistä riviä (vinkki: käytä head() -metodia)\n",
    "\n"
   ]
  },
  {
   "cell_type": "markdown",
   "metadata": {},
   "source": [
    "Huomaamme, että tässä datatiedostossa on laskettu invariantti massa jo valmiiksi, joten käytetään valmiiksi laskettua massan arvoa."
   ]
  },
  {
   "cell_type": "markdown",
   "metadata": {},
   "source": [
    "> - Tallenna datasetistä sarake, joka sisältää invariantin massan muuttujaan invariantti_massa.\n",
    "<br>\n",
    "> - Vinkki: Harjoituksessa 1 valittiin datasetistä sarakkeita, kuten _eta1_ tai _psi2_. Voit tallentaa invariantin massan sarakkeen samaan tapaan.\n",
    "<br>\n",
    "$\\color{purple}{\\text{Kirjoita koodi alle.}}$"
   ]
  },
  {
   "cell_type": "code",
   "execution_count": null,
   "metadata": {},
   "outputs": [],
   "source": [
    "# Tallenna invariantti massa muuttujaan invariantti_massa\n",
    "\n"
   ]
  },
  {
   "cell_type": "markdown",
   "metadata": {},
   "source": [
    "> - Selvitä len() -funktion avulla, kuinka monta invariantin massan arvoa muuttujaan invariantti_massa on tallennettu.\n",
    "<br>\n",
    "> - len() -funktiossa sulkeiden sisään laitetaan lista, tässä tapauksessa muuttujamme *invariantti_massa* ja funktio laskee, kuinka monta arvoa listassa on.\n",
    "<br>\n",
    "$\\color{purple}{\\text{Kirjoita koodi alle.}}$"
   ]
  },
  {
   "cell_type": "code",
   "execution_count": null,
   "metadata": {},
   "outputs": [],
   "source": [
    "# Selvitä len() -funktion avulla, kuinka monta invariantin massan arvoa data sisältää.\n",
    "\n"
   ]
  },
  {
   "cell_type": "markdown",
   "metadata": {},
   "source": [
    "### 2) Histogrammin piirtäminen"
   ]
  },
  {
   "cell_type": "markdown",
   "metadata": {},
   "source": [
    "Piirretään seuraavaksi histogrammi invariantin massan arvoista. Histogrammin piirtoon hyödynnämme aiemmin tuomaamme matplotlib.pylab-moduulia. Histogrammi on pylväskaavio, joka tässä tapauksessa kuvaa sitä, kuinka monta törmäystapahtumaa on osunut kunkin invariantin massan arvon kohdalle."
   ]
  },
  {
   "cell_type": "markdown",
   "metadata": {},
   "source": [
    "> $\\color{purple}{\\text{Piirrä histogrammi käyttäen seuraavia komentoja:}}$\n",
    "- **plt.hist**(*muuttuja*, *bins=pylväiden lukumäärä*), korvaa funktiossa muuttuja invariantilla massalla ja pylväiden lukumäärä haluamallasi lukumäärällä. Kokeile, miltä histogrammi näyttää eri pylväiden lukumäärillä, esim 50 tai 500.\n",
    "- **plt.title**(), histogrammin otsikko lainausmerkeissä\n",
    "- **plt.xlabel**() ja plt.ylabel(), x- ja y-akseleiden otsikot lainausmerkeissä\n",
    "- **plt.show**(), lisää tämä komento loppuun, jotta histogrammi näkyy näytöllä"
   ]
  },
  {
   "cell_type": "code",
   "execution_count": null,
   "metadata": {},
   "outputs": [],
   "source": [
    "# Piirrä histogrammi\n",
    "\n"
   ]
  },
  {
   "cell_type": "markdown",
   "metadata": {},
   "source": [
    "> Mitä invariantin massan histogrammi kertoo?\n",
    "<br>\n",
    "> Mitä tapahtuu noin 9.5 GeV kohdalla?"
   ]
  },
  {
   "cell_type": "markdown",
   "metadata": {},
   "source": [
    "### Lähteet\n",
    "[1] CMS collaboration (2016). DoubleMu primary dataset in AOD format from RunA of 2011 (/DoubleMu/Run2011A-12Oct2013-v1/AOD). CERN Open Data Portal. DOI: [10.7483/OPENDATA.CMS.RZ34.QR6N](http://doi.org/10.7483/OPENDATA.CMS.RZ34.QR6N). \n",
    "\n",
    "\n",
    "[2] Thomas McCauley (2016). Ymumu. Jupyter Notebook file. \n",
    "Url: https://github.com/tpmccauley/cmsopendata-jupyter/blob/hst-0.1/Ymumu.ipynb.\n",
    "\n",
    "### Kuvat\n",
    "\n",
    "[Kuva 1] Domenico Salvagnin, \n",
    "Url: https://commons.wikimedia.org/wiki/File:CMS@CERN.jpg"
   ]
  }
 ],
 "metadata": {
  "kernelspec": {
   "display_name": "Python 3",
   "language": "python",
   "name": "python3"
  },
  "language_info": {
   "codemirror_mode": {
    "name": "ipython",
    "version": 3
   },
   "file_extension": ".py",
   "mimetype": "text/x-python",
   "name": "python",
   "nbconvert_exporter": "python",
   "pygments_lexer": "ipython3",
   "version": "3.7.3"
  }
 },
 "nbformat": 4,
 "nbformat_minor": 2
}
