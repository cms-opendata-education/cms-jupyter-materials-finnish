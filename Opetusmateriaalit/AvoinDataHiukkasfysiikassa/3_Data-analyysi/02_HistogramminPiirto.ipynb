{
 "cells": [
  {
   "cell_type": "markdown",
   "metadata": {},
   "source": [
    "# Histogrammin piirtäminen valitun datamäärän perusteella"
   ]
  },
  {
   "cell_type": "markdown",
   "metadata": {},
   "source": [
    "Tässä harjoituksessa opetellaan piirtämään invariantin massan histogrammi Pythonilla. Käytetään datana CMS-kokeen vuonna 2011 keräämää dataa kahden protonin törmäyksistä [1]. Tässä harjoituksessa käytettävään CSV-tiedostoon on karsittu edellä mainitusta datasta kiinnostavia tapahtumia, joissa myoneille laskettu invariantti massa on välillä 8–12 GeV [2].\n"
   ]
  },
  {
   "cell_type": "markdown",
   "metadata": {},
   "source": [
    "\n",
    "<img src=\"https://github.com/cms-opendata-education/cms-jupyter-materials-finnish/blob/master/Kuvat/CMS_avattu.jpg?raw=true\" title=\"[Kuva 1] CMS-ilmaisin avattuna\" style=\"height: 400px\">\n",
    "\n"
   ]
  },
  {
   "cell_type": "markdown",
   "metadata": {},
   "source": [
    "### 1) Tilanteen alustus"
   ]
  },
  {
   "cell_type": "markdown",
   "metadata": {},
   "source": [
    "Aloitetaan koodilla, joka alustaa tarvittavat muuttujat ja moduulit histogrammin piirtämistä varten. Tutustu koodin seassa oleviin kommentteihin ja aja koodi klikkaamalla ensin solu aktiiviseksi ja painamalla sitten näppäinyhdistelmää Ctrl + Enter."
   ]
  },
  {
   "cell_type": "code",
   "execution_count": 5,
   "metadata": {},
   "outputs": [],
   "source": [
    "# Haetaan tarvittavat paketit. Pandas on data-analyysiä varten, numpy tieteellistä laskentaa ja\n",
    "# matplotlib.pyplot mahdollistaa kuvaajien piirtämisen. Annetaan näille lyhyemmät nimet (pd, np ja plt),\n",
    "# jotta myöhemmin niitä käytettäessä ei tarvitse kirjoittaa koko paketin nimeä.\n",
    "import pandas as pd\n",
    "import numpy as np\n",
    "import matplotlib.pyplot as plt\n",
    "%matplotlib inline\n",
    "\n",
    "# Jos notebookia käytetään Python 2:lla, tarvitaan histogrammin teksteihin tuki ääkkösille.\n",
    "# from __future__ import unicode_literals\n",
    "\n",
    "#Haetaan tehtävässä käytettävä data tiedostosta 'Ymumu_Run2011A.csv' ja tallenetaan data muuttujaan 'datasetti' \n",
    "datasetti = pd.read_csv('https://raw.githubusercontent.com/cms-opendata-education/cms-jupyter-materials-finnish/master/Data/Ymumu_Run2011A.csv')"
   ]
  },
  {
   "cell_type": "markdown",
   "metadata": {},
   "source": [
    "> Mitä tallennettu tiedosto sisältää? \n",
    "Tarkista tulostamalla ainakin viisi ensimmäistä riviä. \n",
    "<br>\n",
    "$\\color{purple}{\\text{Kirjoita koodi alle.}}$"
   ]
  },
  {
   "cell_type": "code",
   "execution_count": 6,
   "metadata": {},
   "outputs": [
    {
     "data": {
      "text/html": [
       "<div>\n",
       "<style scoped>\n",
       "    .dataframe tbody tr th:only-of-type {\n",
       "        vertical-align: middle;\n",
       "    }\n",
       "\n",
       "    .dataframe tbody tr th {\n",
       "        vertical-align: top;\n",
       "    }\n",
       "\n",
       "    .dataframe thead th {\n",
       "        text-align: right;\n",
       "    }\n",
       "</style>\n",
       "<table border=\"1\" class=\"dataframe\">\n",
       "  <thead>\n",
       "    <tr style=\"text-align: right;\">\n",
       "      <th></th>\n",
       "      <th>Run</th>\n",
       "      <th>Event</th>\n",
       "      <th>Type1</th>\n",
       "      <th>E1</th>\n",
       "      <th>px1</th>\n",
       "      <th>py1</th>\n",
       "      <th>pz1</th>\n",
       "      <th>pt1</th>\n",
       "      <th>eta1</th>\n",
       "      <th>phi1</th>\n",
       "      <th>...</th>\n",
       "      <th>Type2</th>\n",
       "      <th>E2</th>\n",
       "      <th>px2</th>\n",
       "      <th>py2</th>\n",
       "      <th>pz2</th>\n",
       "      <th>pt2</th>\n",
       "      <th>eta2</th>\n",
       "      <th>phi2</th>\n",
       "      <th>Q2</th>\n",
       "      <th>M</th>\n",
       "    </tr>\n",
       "  </thead>\n",
       "  <tbody>\n",
       "    <tr>\n",
       "      <th>0</th>\n",
       "      <td>165617</td>\n",
       "      <td>75100943</td>\n",
       "      <td>G</td>\n",
       "      <td>6.20385</td>\n",
       "      <td>-4.26661</td>\n",
       "      <td>0.456545</td>\n",
       "      <td>-4.47930</td>\n",
       "      <td>4.29097</td>\n",
       "      <td>-0.91207</td>\n",
       "      <td>3.034990</td>\n",
       "      <td>...</td>\n",
       "      <td>G</td>\n",
       "      <td>9.66898</td>\n",
       "      <td>7.27397</td>\n",
       "      <td>-2.821120</td>\n",
       "      <td>-5.710400</td>\n",
       "      <td>7.80188</td>\n",
       "      <td>-0.678625</td>\n",
       "      <td>-0.369977</td>\n",
       "      <td>1</td>\n",
       "      <td>11.55340</td>\n",
       "    </tr>\n",
       "    <tr>\n",
       "      <th>1</th>\n",
       "      <td>165617</td>\n",
       "      <td>75492770</td>\n",
       "      <td>G</td>\n",
       "      <td>16.20100</td>\n",
       "      <td>5.64702</td>\n",
       "      <td>4.154080</td>\n",
       "      <td>14.60530</td>\n",
       "      <td>7.01036</td>\n",
       "      <td>1.48032</td>\n",
       "      <td>0.634236</td>\n",
       "      <td>...</td>\n",
       "      <td>T</td>\n",
       "      <td>4.12495</td>\n",
       "      <td>3.35862</td>\n",
       "      <td>-2.238350</td>\n",
       "      <td>0.844684</td>\n",
       "      <td>4.03616</td>\n",
       "      <td>0.207781</td>\n",
       "      <td>-0.587852</td>\n",
       "      <td>1</td>\n",
       "      <td>9.46937</td>\n",
       "    </tr>\n",
       "    <tr>\n",
       "      <th>2</th>\n",
       "      <td>165617</td>\n",
       "      <td>75587682</td>\n",
       "      <td>G</td>\n",
       "      <td>19.28920</td>\n",
       "      <td>-4.21208</td>\n",
       "      <td>-0.651623</td>\n",
       "      <td>18.81210</td>\n",
       "      <td>4.26219</td>\n",
       "      <td>2.19046</td>\n",
       "      <td>-2.988110</td>\n",
       "      <td>...</td>\n",
       "      <td>G</td>\n",
       "      <td>9.82439</td>\n",
       "      <td>4.34394</td>\n",
       "      <td>-0.473505</td>\n",
       "      <td>8.798490</td>\n",
       "      <td>4.36967</td>\n",
       "      <td>1.449670</td>\n",
       "      <td>-0.108575</td>\n",
       "      <td>1</td>\n",
       "      <td>9.16361</td>\n",
       "    </tr>\n",
       "    <tr>\n",
       "      <th>3</th>\n",
       "      <td>165617</td>\n",
       "      <td>75167029</td>\n",
       "      <td>G</td>\n",
       "      <td>9.75833</td>\n",
       "      <td>2.39032</td>\n",
       "      <td>-3.782350</td>\n",
       "      <td>8.67145</td>\n",
       "      <td>4.47435</td>\n",
       "      <td>1.41558</td>\n",
       "      <td>-1.007200</td>\n",
       "      <td>...</td>\n",
       "      <td>G</td>\n",
       "      <td>13.56840</td>\n",
       "      <td>-3.39746</td>\n",
       "      <td>5.190980</td>\n",
       "      <td>12.066500</td>\n",
       "      <td>6.20395</td>\n",
       "      <td>1.418750</td>\n",
       "      <td>2.150320</td>\n",
       "      <td>1</td>\n",
       "      <td>10.53910</td>\n",
       "    </tr>\n",
       "    <tr>\n",
       "      <th>4</th>\n",
       "      <td>165617</td>\n",
       "      <td>75281957</td>\n",
       "      <td>G</td>\n",
       "      <td>9.63652</td>\n",
       "      <td>1.65156</td>\n",
       "      <td>-5.431330</td>\n",
       "      <td>7.78616</td>\n",
       "      <td>5.67688</td>\n",
       "      <td>1.12134</td>\n",
       "      <td>-1.275600</td>\n",
       "      <td>...</td>\n",
       "      <td>G</td>\n",
       "      <td>7.02632</td>\n",
       "      <td>-1.64493</td>\n",
       "      <td>4.441830</td>\n",
       "      <td>5.188670</td>\n",
       "      <td>4.73663</td>\n",
       "      <td>0.947273</td>\n",
       "      <td>1.925460</td>\n",
       "      <td>-1</td>\n",
       "      <td>10.40790</td>\n",
       "    </tr>\n",
       "  </tbody>\n",
       "</table>\n",
       "<p>5 rows × 21 columns</p>\n",
       "</div>"
      ],
      "text/plain": [
       "      Run     Event Type1        E1      px1       py1       pz1      pt1  \\\n",
       "0  165617  75100943     G   6.20385 -4.26661  0.456545  -4.47930  4.29097   \n",
       "1  165617  75492770     G  16.20100  5.64702  4.154080  14.60530  7.01036   \n",
       "2  165617  75587682     G  19.28920 -4.21208 -0.651623  18.81210  4.26219   \n",
       "3  165617  75167029     G   9.75833  2.39032 -3.782350   8.67145  4.47435   \n",
       "4  165617  75281957     G   9.63652  1.65156 -5.431330   7.78616  5.67688   \n",
       "\n",
       "      eta1      phi1  ...  Type2        E2      px2       py2        pz2  \\\n",
       "0 -0.91207  3.034990  ...      G   9.66898  7.27397 -2.821120  -5.710400   \n",
       "1  1.48032  0.634236  ...      T   4.12495  3.35862 -2.238350   0.844684   \n",
       "2  2.19046 -2.988110  ...      G   9.82439  4.34394 -0.473505   8.798490   \n",
       "3  1.41558 -1.007200  ...      G  13.56840 -3.39746  5.190980  12.066500   \n",
       "4  1.12134 -1.275600  ...      G   7.02632 -1.64493  4.441830   5.188670   \n",
       "\n",
       "       pt2      eta2      phi2  Q2         M  \n",
       "0  7.80188 -0.678625 -0.369977   1  11.55340  \n",
       "1  4.03616  0.207781 -0.587852   1   9.46937  \n",
       "2  4.36967  1.449670 -0.108575   1   9.16361  \n",
       "3  6.20395  1.418750  2.150320   1  10.53910  \n",
       "4  4.73663  0.947273  1.925460  -1  10.40790  \n",
       "\n",
       "[5 rows x 21 columns]"
      ]
     },
     "execution_count": 6,
     "metadata": {},
     "output_type": "execute_result"
    }
   ],
   "source": []
  },
  {
   "cell_type": "markdown",
   "metadata": {},
   "source": [
    "Tähän tiedostoon onkin laskettu jo valmiiksi invariantin massan arvot. Tarkastellaan paljonko dataa on käytössä."
   ]
  },
  {
   "cell_type": "code",
   "execution_count": 12,
   "metadata": {},
   "outputs": [],
   "source": [
    "# Tallennetaan haetusta datasta erikseen invariantti massa joka on 'datasetti' -taulukon sarakkeessa 'M'.\n",
    "# Annetaan uudelle muuttujalle nimi \"invariantti_massa\".\n",
    "invariantti_massa = datasetti['M']"
   ]
  },
  {
   "cell_type": "markdown",
   "metadata": {},
   "source": [
    "> Montako invariantin massan arvoa muuttujaan 'invariantti_massa' on tallennettu?\n",
    "<br>\n",
    "$\\color{purple}{\\text{Kirjoita koodi alle.}}$"
   ]
  },
  {
   "cell_type": "code",
   "execution_count": 11,
   "metadata": {},
   "outputs": [
    {
     "data": {
      "text/plain": [
       "37278"
      ]
     },
     "execution_count": 11,
     "metadata": {},
     "output_type": "execute_result"
    }
   ],
   "source": []
  },
  {
   "cell_type": "markdown",
   "metadata": {},
   "source": [
    "### 2) Histogrammin piirtäminen"
   ]
  },
  {
   "cell_type": "markdown",
   "metadata": {},
   "source": [
    "Nyt jäljellä on enää vaihe, jossa luomme histogrammin hakemistamme invariantin massan arvoista. Histogrammi on pylväskaavio, joka kuvaa kuinka monta törmäystapahtumaa on osunut kunkin invariantin massan arvon kohdalle. Huomaa, että alla käytämme yhteensä 500 pylvästä"
   ]
  },
  {
   "cell_type": "markdown",
   "metadata": {},
   "source": [
    "> $\\color{purple}{\\text{Muokkaa koodia}}$\n",
    "- Kokeile vaihtaa pylväiden määrää, ja valitse paras.\n",
    "- Nimeä x- ja y-akselit.\n",
    "- Kirjoita kuvateksti."
   ]
  },
  {
   "cell_type": "code",
   "execution_count": 15,
   "metadata": {},
   "outputs": [
    {
     "data": {
      "image/png": "[encoded data removed]",
      "text/plain": [
       "<Figure size 432x288 with 1 Axes>"
      ]
     },
     "metadata": {
      "needs_background": "light"
     },
     "output_type": "display_data"
    }
   ],
   "source": [
    "# Suoritetaan histogrammin piirtäminen pyplot-moduulin avulla:\n",
    "# (http://matplotlib.org/api/pyplot_api.html?highlight=matplotlib.pyplot.hist#matplotlib.pyplot.hist).\n",
    "# 'Bins' määrittelee histogrammin pylväiden lukumäärän.\n",
    "plt.hist(invariantti_massa, bins=500)\n",
    "\n",
    "# Näillä riveillä ainoastaan määritellään otsikko sekä akseleiden tekstit.\n",
    "plt.xlabel('??? [GeV]')\n",
    "plt.ylabel('??? [kpl]')\n",
    "plt.title('??? \\n')        # \\n luo uuden rivin otsikon muotoilua varten\n",
    "\n",
    "# Tehdään kuvaaja näkyväksi.\n",
    "plt.show()"
   ]
  },
  {
   "cell_type": "markdown",
   "metadata": {},
   "source": [
    "> - Mitä hyötyä histogrammista on?\n",
    "- Mitä tapahtuu noin 9.45 GeV:n kohdalla?"
   ]
  },
  {
   "cell_type": "markdown",
   "metadata": {},
   "source": [
    "### Lähteet\n",
    "[1] CMS collaboration (2016). DoubleMu primary dataset in AOD format from RunA of 2011 (/DoubleMu/Run2011A-12Oct2013-v1/AOD). CERN Open Data Portal. DOI: 10.7483/OPENDATA.CMS.RZ34.QR6N. \n",
    "\n",
    "\n",
    "[2] Thomas McCauley (2016). Ymumu. Jupyter Notebook file. \n",
    "Url: https://github.com/tpmccauley/cmsopendata-jupyter/blob/hst-0.1/Ymumu.ipynb.\n",
    "\n",
    "### Kuvat\n",
    "\n",
    "[Kuva 1] Domenico Salvagnin, \n",
    "Url: https://commons.wikimedia.org/wiki/File:CMS@CERN.jpg"
   ]
  },
  {
   "cell_type": "code",
   "execution_count": null,
   "metadata": {},
   "outputs": [],
   "source": []
  }
 ],
 "metadata": {
  "kernelspec": {
   "display_name": "Python 3",
   "language": "python",
   "name": "python3"
  },
  "language_info": {
   "codemirror_mode": {
    "name": "ipython",
    "version": 3
   },
   "file_extension": ".py",
   "mimetype": "text/x-python",
   "name": "python",
   "nbconvert_exporter": "python",
   "pygments_lexer": "ipython3",
   "version": "3.7.3"
  }
 },
 "nbformat": 4,
 "nbformat_minor": 1
}
