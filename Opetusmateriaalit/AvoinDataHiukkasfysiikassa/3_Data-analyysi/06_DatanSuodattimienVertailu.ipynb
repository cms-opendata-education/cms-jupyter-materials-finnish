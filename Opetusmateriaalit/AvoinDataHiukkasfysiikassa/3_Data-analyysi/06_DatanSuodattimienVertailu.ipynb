{
 "cells": [
  {
   "cell_type": "markdown",
   "metadata": {},
   "source": [
    "# 6. Datan suodattimien vertailu\n",
    "\n",
    "Käytämme tehtävissä CMS:n tutkimusdataa. Oleellisten tapahtumien löytäminen valtavasta informaatiotulvasta vaatii kuitenkin datan suodatusta joillakin kriteereillä. Kriteerien valinta on tärkeä vaihe, koska niiden avulla voidaan keskittyä tietyn tyyppisiin tapahtumiin. On tärkeää valita kriteerit oikein, ettei dataa vääristellä näyttämään haluttua tulosta. \n",
    "> Tiukemmat kriteerit tarkoittavat aina tutkittavan datamäärän pienenemistä mutta toisaalta löysillä kriteereillä kiinnostavat tapahtumat voivat hukkua taustakohinaan.\n",
    "\n",
    "Tehtävänä on verrata CMS:n avoimen datan portaalista löytyviä tiedostoja ja havaita valintakriteerien vaikutus saatuihin tuloksiin.\n",
    "\n",
    "### Liipaisu järjestelmä \n",
    "\n",
    "CMS-ilmaisimessa törmäytetään protoni ryppäitä noin **40 miljoonaa** kertaa sekunnissa tämä tarkoittaa noin **miljardia** (1 000 000 000 = $10^9$) protoni-protoni vuorovaikutusta joka sekunti. Tämä tuottaa käsittämättömän määrän dataa, jota on karsittava reilusti ennen kuin sitä voi mitenkään hyödyntää. [1]\n",
    "\n",
    "#### 1. vaihe\n",
    "Ensimmäisen vaiheen liipaisin on täysin automaattinen ja se karsii datasta jo noin 99,7% pois. Ensimmäisen liipaisimen täytyy olla todella nopea, sen täytyy tehdä valinta noin 25 nanosekunnissa ennen kuin seuraava protonirypäs saapuu. Vain harva protonien välisistä vuorovaikutuksista johtaa suurienergisiin törmäyksiin joita 1 asteen liipaisin tunnistaa. [1]\n",
    "\n",
    "#### 2. vaihe\n",
    "Seuraava vaihe informaatio vyöryn käsittelyssä on luoda törmäykseen liittyvistä tuhansien eri ilmaisimien lähettämistä signaaleista kokonaisuus. Tätä kokonaisuutta kutsutaan \"tapahtumaksi\" (event). 2 vaiheen liiipaisin saa joka sekunti noin 100 000 tapahtumaa, jotka se koostaa kokonaisuuksiksi ja lähettää edelleen \"tietokonefarmille\". [1]\n",
    "\n",
    "\"Tietokonefarmilla\" toimii yli 1000 tietokonetta jotka suorittavat monimutkaisia laskuja ja testejä tapahtumille. Tuloksena säilytetään noin 100-1000 tapahtumaa, loput hävitetään joka sekunti.                      [1]\n",
    "\n",
    "Ronskin karsintaprosessin jälkeenkin CMS tuottaa valtavasti dataa, jota tutkijat analysoivat vuosia. Tarkka tutkimustyö tehdään siihen tarkoitetuilla ohjelmointikielillä mutta käyttämämme *csv*-tiedostot sisältävät samaa autenttista dataa. Data ei ole tarkkaa vaan siinä on aina taustakohinaa. Tarkoitus ei olekaan suodattaa datasta kaikkea \"ylimääräistä\", vaan juuri tutkia käyttäytyvätkö hiukkaset ennusteemme mukaisesti, vai onko datassa kenties poikkeamia. \n",
    "\n",
    "Alla olevassa youtube videossa käsitellään LHC datan prosessointia."
   ]
  },
  {
   "cell_type": "code",
   "execution_count": null,
   "metadata": {},
   "outputs": [],
   "source": [
    "from IPython.lib.display import YouTubeVideo\n",
    "YouTubeVideo('jDC3-QSiLB4')\n",
    "#https://youtu.be/jDC3-QSiLB4"
   ]
  },
  {
   "cell_type": "markdown",
   "metadata": {},
   "source": [
    "**** \n",
    "## Tehtävä\n",
    "Tutkitaan CMS:n [avoimen datan portaalista](http://opendata.cern.ch/record/545) löytyviä tiedostoja _'Zmumu.csv'_ ja _'Zee.csv'_. Tiedostot on tallennettu CMS:n 2011 ajoista, mutta niissä on käytetty eri kriteerejä liipaisujärjestelmän toisessa vaiheessa. \n",
    "- _'Zmumu.csv'_ \n",
    "    - Tapahtumassa havaittiin kaksi myonia\n",
    "    - Myonien liikemärät olivat tarpeeksi suuret: $p_T > 20GeV$\n",
    "    - Myonit osuivat ilmaisimen tarkimpiin osiin: $|eta| < 2.1$\n",
    "    - Kahden myonin invariantti massa asettui välille $60GeV < M < 120GeV$\n",
    "- _'Zee.csv'_\n",
    "    - Tapahtumassa havaittiin kaksi elektronia\n",
    "    - Elektronien liikemäärät olivat tarpeeksi suuret: $p_T > 25GeV$\n",
    "    - Kahden elektronin invariantti massa asettui välille $60GeV < M < 120GeV$\n",
    "    \n",
    "    [2]\n",
    "\n",
    "Tutkitaan histogrammien avulla millaisia eroja ja yhtäläisyyksiä liipaisimen kriteerit aiheuttavat."
   ]
  },
  {
   "cell_type": "markdown",
   "metadata": {},
   "source": [
    "> 1. Tuo moduulit pandas, numpy ja matplotlib.pylab\n",
    "> 1. Lue datatiedosto _'Zee.csv'_ ja tallenna tiedot muuttujaan _'Zee'_. Tiedoston polku: '[https://raw.githubusercontent.com/cms-opendata-education/cms-jupyter-materials-finnish/master/Data/Zee_Run2011A.csv](https://raw.githubusercontent.com/cms-opendata-education/cms-jupyter-materials-finnish/master/Data/Zee_Run2011A.csv)'\n",
    "> 1. Lue datatiedosto _'Zmumu.csv'_ ja tallenna tiedot muuttujaan _'Zmumu'_. Tiedoston polku: '[https://raw.githubusercontent.com/cms-opendata-education/cms-jupyter-materials-finnish/master/Data/Zmumu_Run2011A.csv](https://raw.githubusercontent.com/cms-opendata-education/cms-jupyter-materials-finnish/master/Data/Zmumu_Run2011A.csv)'\n",
    "> 1. Laske invariantit massat kuten tehtävässä 1 ja tallenna arvot muuttujiin *m_zee* ja *m_zmumu*.\n",
    "<br>\n",
    "$\\color{purple}{\\text{Kirjoita koodi alle.}}$"
   ]
  },
  {
   "cell_type": "code",
   "execution_count": null,
   "metadata": {},
   "outputs": [],
   "source": [
    "# Tuo tarvittavat moduulit\n",
    "\n"
   ]
  },
  {
   "cell_type": "code",
   "execution_count": null,
   "metadata": {},
   "outputs": [],
   "source": [
    "# Lue datatiedostot\n",
    "\n"
   ]
  },
  {
   "cell_type": "code",
   "execution_count": null,
   "metadata": {},
   "outputs": [],
   "source": [
    "# Laske ja tallenna invariantit massat\n",
    "\n"
   ]
  },
  {
   "cell_type": "markdown",
   "metadata": {},
   "source": [
    "> Piirrä molempien tiedostojen invariantit massat samaan histogrammiin\n",
    "<br>\n",
    "$\\color{purple}{\\text{Kirjoita koodi alle.}}$"
   ]
  },
  {
   "cell_type": "code",
   "execution_count": null,
   "metadata": {},
   "outputs": [],
   "source": [
    "# Piirrä histogrammit\n",
    "\n"
   ]
  },
  {
   "cell_type": "markdown",
   "metadata": {},
   "source": [
    "****\n",
    "## $\\color{green}{\\text{Pohdintaa}}$\n",
    "\n",
    "Invariantissa massassa on molemmissa tiedostoissa selvä piikki noin 90GeV kohadalla. \n",
    " - Minkä hiukkasen hajoamiseen piikki liittyy?\n",
    " - Mitä piikin muoto kertoo?\n",
    " - Kummassa mittauksessa on vähemmän kohinaa, eli tulos on ns. tarkempi? "
   ]
  },
  {
   "cell_type": "markdown",
   "metadata": {},
   "source": [
    "****\n",
    "### Lisätietoa: Elektronien ja myonien havitseminen\n",
    "CMS on kehitetty erityisesti myonien havaitsemiseen. Myonit kulkevat elektroneja pitemmän matkan ilmaisimessa ja jättävät pitemmälle välille signaaleja. Pitemmällä matkalla niiden rata ehtii myös kaartua enemmän vahvan magneettikentän vaikutuksesta. Nämä seikat tekevät myonihavainnoista hieman tarkempia.\n",
    "Toisaalta esimerkissä käytettiin hyvin suurienergisiä hiukkasia. Elektronien mittaus on sitä tarkempaa, mitä enemmän liike-energiaa niillä on. Elektronikalorimetrissä suurempienergiset elektronit aiheuttavat vahvemman signaalin, johon kohina vaikuttaa vähemmän. Myoneita taas saadaan mitattua sitä tarkemmin, mitä vähemmän niillä on liike-energiaa. Tällöin niiden rata kaartuu enemmän magneettikentässä."
   ]
  },
  {
   "cell_type": "markdown",
   "metadata": {},
   "source": [
    "****\n",
    "## Lähteet\n",
    "[1] Liipaisujärjestelmän toiminta, Triggering and Data Acquisition, luettu 6.2019.\n",
    "Url: https://cms.cern/detector/triggering-and-data-acquisition\n",
    "\n",
    "\n",
    "[2] Datasets derived from the Run2011A SingleElectron, SingleMu, DoubleElectron, and DoubleMu primary datasets\n",
    "McCauley, Thomas;\n",
    "Url:http://opendata.cern.ch/record/545"
   ]
  }
 ],
 "metadata": {
  "kernelspec": {
   "display_name": "Python 3",
   "language": "python",
   "name": "python3"
  },
  "language_info": {
   "codemirror_mode": {
    "name": "ipython",
    "version": 3
   },
   "file_extension": ".py",
   "mimetype": "text/x-python",
   "name": "python",
   "nbconvert_exporter": "python",
   "pygments_lexer": "ipython3",
   "version": "3.7.3"
  }
 },
 "nbformat": 4,
 "nbformat_minor": 2
}
