{
 "cells": [
  {
   "cell_type": "markdown",
   "metadata": {},
   "source": [
    "# Ratkaisut"
   ]
  },
  {
   "cell_type": "markdown",
   "metadata": {},
   "source": [
    ">[1. Laske invariantti massa](#1)<br>\n",
    ">[2. Histogrammin piirto](#2)<br>\n",
    ">[3. Datan valitseminen histogrammiin](#3)<br>\n",
    ">[4. Tunnista hiukkanen](#4)<br>\n",
    ">[5. Histogrammien vertailu samassa kuvassa](#5)<br>\n",
    ">[6. Datan suodattimien vertailu](#6)<br>\n",
    ">[7. Pseudorapiditeetti](#7)<br>\n",
    ">[8. Higgsin bosoni](#8)<br>"
   ]
  },
  {
   "cell_type": "markdown",
   "metadata": {},
   "source": [
    "<a id=\"1\"></a>\n",
    "## 1. Laske invariantti massa"
   ]
  },
  {
   "cell_type": "code",
   "execution_count": 1,
   "metadata": {},
   "outputs": [],
   "source": [
    "# Haetaan tarvittavat moduulit. Nimetään pandas-moduuli 'pd'ksi ja numpy-moduuli 'np'ksi, jotta koko nimeä ei\n",
    "# tarvitse kirjoittaa aina, kun haluamme käyttää jotain funktiota kyseisestä moduulista.\n",
    "import pandas as pd\n",
    "import numpy as np\n",
    "\n",
    "# Haetaan data ja tallennetaan se muuttujaan 'datasetti'. Data voidaan hakea tiedostosta pandas-moduulin\n",
    "# read_csv() -funktiolla. Sulkeiden sisään kirjoitetaan datatiedoston polku.\n",
    "datasetti = pd.read_csv('https://raw.githubusercontent.com/cms-opendata-education/cms-jupyter-materials-finnish/master/Data/Zmumu_Run2011A.csv') #('../../Data/Zmumu_Run2011A.csv')"
   ]
  },
  {
   "cell_type": "code",
   "execution_count": 2,
   "metadata": {},
   "outputs": [
    {
     "data": {
      "text/html": [
       "<div>\n",
       "<style scoped>\n",
       "    .dataframe tbody tr th:only-of-type {\n",
       "        vertical-align: middle;\n",
       "    }\n",
       "\n",
       "    .dataframe tbody tr th {\n",
       "        vertical-align: top;\n",
       "    }\n",
       "\n",
       "    .dataframe thead th {\n",
       "        text-align: right;\n",
       "    }\n",
       "</style>\n",
       "<table border=\"1\" class=\"dataframe\">\n",
       "  <thead>\n",
       "    <tr style=\"text-align: right;\">\n",
       "      <th></th>\n",
       "      <th>Run</th>\n",
       "      <th>Event</th>\n",
       "      <th>pt1</th>\n",
       "      <th>eta1</th>\n",
       "      <th>phi1</th>\n",
       "      <th>Q1</th>\n",
       "      <th>dxy1</th>\n",
       "      <th>iso1</th>\n",
       "      <th>pt2</th>\n",
       "      <th>eta2</th>\n",
       "      <th>phi2</th>\n",
       "      <th>Q2</th>\n",
       "      <th>dxy2</th>\n",
       "      <th>iso2</th>\n",
       "    </tr>\n",
       "  </thead>\n",
       "  <tbody>\n",
       "    <tr>\n",
       "      <th>0</th>\n",
       "      <td>165617</td>\n",
       "      <td>74969122</td>\n",
       "      <td>54.7055</td>\n",
       "      <td>-0.432396</td>\n",
       "      <td>2.574210</td>\n",
       "      <td>1</td>\n",
       "      <td>-0.074544</td>\n",
       "      <td>0.499921</td>\n",
       "      <td>34.2464</td>\n",
       "      <td>-0.988480</td>\n",
       "      <td>-0.498704</td>\n",
       "      <td>-1</td>\n",
       "      <td>0.071222</td>\n",
       "      <td>3.42214</td>\n",
       "    </tr>\n",
       "    <tr>\n",
       "      <th>1</th>\n",
       "      <td>165617</td>\n",
       "      <td>75138253</td>\n",
       "      <td>24.5872</td>\n",
       "      <td>-2.052200</td>\n",
       "      <td>2.866570</td>\n",
       "      <td>-1</td>\n",
       "      <td>-0.055437</td>\n",
       "      <td>0.000000</td>\n",
       "      <td>28.5389</td>\n",
       "      <td>0.385163</td>\n",
       "      <td>-1.991170</td>\n",
       "      <td>1</td>\n",
       "      <td>0.051477</td>\n",
       "      <td>0.00000</td>\n",
       "    </tr>\n",
       "    <tr>\n",
       "      <th>2</th>\n",
       "      <td>165617</td>\n",
       "      <td>75887636</td>\n",
       "      <td>31.7386</td>\n",
       "      <td>-2.259450</td>\n",
       "      <td>-1.332290</td>\n",
       "      <td>-1</td>\n",
       "      <td>0.087917</td>\n",
       "      <td>0.000000</td>\n",
       "      <td>30.2344</td>\n",
       "      <td>-0.468419</td>\n",
       "      <td>1.883310</td>\n",
       "      <td>1</td>\n",
       "      <td>-0.087639</td>\n",
       "      <td>0.00000</td>\n",
       "    </tr>\n",
       "    <tr>\n",
       "      <th>3</th>\n",
       "      <td>165617</td>\n",
       "      <td>75779415</td>\n",
       "      <td>39.7394</td>\n",
       "      <td>-0.712338</td>\n",
       "      <td>-0.312266</td>\n",
       "      <td>1</td>\n",
       "      <td>0.058481</td>\n",
       "      <td>0.000000</td>\n",
       "      <td>48.2790</td>\n",
       "      <td>-0.195625</td>\n",
       "      <td>2.970320</td>\n",
       "      <td>-1</td>\n",
       "      <td>-0.049201</td>\n",
       "      <td>0.00000</td>\n",
       "    </tr>\n",
       "    <tr>\n",
       "      <th>4</th>\n",
       "      <td>165617</td>\n",
       "      <td>75098104</td>\n",
       "      <td>41.2998</td>\n",
       "      <td>-0.157055</td>\n",
       "      <td>-3.040770</td>\n",
       "      <td>1</td>\n",
       "      <td>-0.030463</td>\n",
       "      <td>1.228040</td>\n",
       "      <td>43.4508</td>\n",
       "      <td>0.590958</td>\n",
       "      <td>-0.042756</td>\n",
       "      <td>-1</td>\n",
       "      <td>0.044175</td>\n",
       "      <td>0.00000</td>\n",
       "    </tr>\n",
       "  </tbody>\n",
       "</table>\n",
       "</div>"
      ],
      "text/plain": [
       "      Run     Event      pt1      eta1      phi1  Q1      dxy1      iso1  \\\n",
       "0  165617  74969122  54.7055 -0.432396  2.574210   1 -0.074544  0.499921   \n",
       "1  165617  75138253  24.5872 -2.052200  2.866570  -1 -0.055437  0.000000   \n",
       "2  165617  75887636  31.7386 -2.259450 -1.332290  -1  0.087917  0.000000   \n",
       "3  165617  75779415  39.7394 -0.712338 -0.312266   1  0.058481  0.000000   \n",
       "4  165617  75098104  41.2998 -0.157055 -3.040770   1 -0.030463  1.228040   \n",
       "\n",
       "       pt2      eta2      phi2  Q2      dxy2     iso2  \n",
       "0  34.2464 -0.988480 -0.498704  -1  0.071222  3.42214  \n",
       "1  28.5389  0.385163 -1.991170   1  0.051477  0.00000  \n",
       "2  30.2344 -0.468419  1.883310   1 -0.087639  0.00000  \n",
       "3  48.2790 -0.195625  2.970320  -1 -0.049201  0.00000  \n",
       "4  43.4508  0.590958 -0.042756  -1  0.044175  0.00000  "
      ]
     },
     "execution_count": 2,
     "metadata": {},
     "output_type": "execute_result"
    }
   ],
   "source": [
    "# head() -metodi näyttää datan viisi ensimmäistä riviä. \n",
    "\n",
    "datasetti.head()"
   ]
  },
  {
   "cell_type": "code",
   "execution_count": 3,
   "metadata": {},
   "outputs": [],
   "source": [
    "# Laske invariantti massa ja tallenna muuttujana invariantti_massa\n",
    "\n",
    "invariantti_massa = np.sqrt(2*datasetti.pt1*datasetti.pt2*\n",
    "                            (np.cosh(datasetti.eta1-datasetti.eta2) - np.cos(datasetti.phi1-datasetti.phi2)))"
   ]
  },
  {
   "cell_type": "code",
   "execution_count": 4,
   "metadata": {},
   "outputs": [
    {
     "data": {
      "text/plain": [
       "0    89.885744\n",
       "1    88.810987\n",
       "2    88.472502\n",
       "3    90.332620\n",
       "4    90.514507\n",
       "dtype: float64"
      ]
     },
     "execution_count": 4,
     "metadata": {},
     "output_type": "execute_result"
    }
   ],
   "source": [
    "# Tulosta näytölle muuttujan invariantti_massa viisi ensimmäistä riviä\n",
    "\n",
    "invariantti_massa.head()"
   ]
  },
  {
   "cell_type": "code",
   "execution_count": 5,
   "metadata": {},
   "outputs": [
    {
     "data": {
      "text/plain": [
       "<Figure size 640x480 with 1 Axes>"
      ]
     },
     "metadata": {},
     "output_type": "display_data"
    }
   ],
   "source": [
    "import matplotlib.pyplot as plt\n",
    "\n",
    "plt.hist(invariantti_massa, bins=60)\n",
    "plt.title('Kahden myonin invariantti massa')\n",
    "plt.xlabel('Invariantti massa (GeV)')\n",
    "plt.ylabel('Tapahtumia/GeV')\n",
    "plt.show()"
   ]
  },
  {
   "cell_type": "markdown",
   "metadata": {},
   "source": [
    "Mitä invariantin massan histogrammi kertoo?\n",
    "- Histogrammiin on piirretty kahden myonin invariantti massa. Invariantti massa voidaan laskea mille tahansa kahdelle tai useammalle hiukkaselle. Jos hiukkaset ovat peräisin samasta emohiukkasesta, invariantti massa vastaa emohiukkasen massaa. Toisaalta jos hiukkaset eivät ole peräisin samasta hiukkasesta, invariantti massa ei kerro meille mitään. Histogrammissa huomaamme taustahälystä erottuvat piikit emohiukkasina.\n",
    "<br>\n",
    "\n",
    "Miksi noin 90 GeV kohdalla on enemmän tapahtumia kuin muualla?\n",
    "- Z-bosonin massa on noin 90 GeV. Z-bosoni voi hajota kahdeksi myoniksi. Näin ollen, jos kaksi myonia ovat peräisin Z-bosonista, niiden invariantti massa vastaa Z-bosonin massaa. Tällöin piikki erottuu selvästi taustakohinasta."
   ]
  },
  {
   "cell_type": "markdown",
   "metadata": {},
   "source": [
    "<a id=\"2\"></a>\n",
    "## 2 Histogrammin piirto"
   ]
  },
  {
   "cell_type": "code",
   "execution_count": 6,
   "metadata": {},
   "outputs": [],
   "source": [
    "# Tuo tarvittavat moduulit import-komennolla\n",
    "\n",
    "import pandas as pd\n",
    "import numpy as np\n",
    "import matplotlib.pylab as plt"
   ]
  },
  {
   "cell_type": "code",
   "execution_count": 7,
   "metadata": {},
   "outputs": [],
   "source": [
    "# Lue datatiedosto ja tallenna data muuttujaan 'datasetti'.\n",
    "\n",
    "datasetti = pd.read_csv('https://raw.githubusercontent.com/cms-opendata-education/cms-jupyter-materials-finnish/master/Data/Ymumu_Run2011A.csv')"
   ]
  },
  {
   "cell_type": "code",
   "execution_count": 8,
   "metadata": {},
   "outputs": [
    {
     "data": {
      "text/html": [
       "<div>\n",
       "<style scoped>\n",
       "    .dataframe tbody tr th:only-of-type {\n",
       "        vertical-align: middle;\n",
       "    }\n",
       "\n",
       "    .dataframe tbody tr th {\n",
       "        vertical-align: top;\n",
       "    }\n",
       "\n",
       "    .dataframe thead th {\n",
       "        text-align: right;\n",
       "    }\n",
       "</style>\n",
       "<table border=\"1\" class=\"dataframe\">\n",
       "  <thead>\n",
       "    <tr style=\"text-align: right;\">\n",
       "      <th></th>\n",
       "      <th>Run</th>\n",
       "      <th>Event</th>\n",
       "      <th>Type1</th>\n",
       "      <th>E1</th>\n",
       "      <th>px1</th>\n",
       "      <th>py1</th>\n",
       "      <th>pz1</th>\n",
       "      <th>pt1</th>\n",
       "      <th>eta1</th>\n",
       "      <th>phi1</th>\n",
       "      <th>...</th>\n",
       "      <th>Type2</th>\n",
       "      <th>E2</th>\n",
       "      <th>px2</th>\n",
       "      <th>py2</th>\n",
       "      <th>pz2</th>\n",
       "      <th>pt2</th>\n",
       "      <th>eta2</th>\n",
       "      <th>phi2</th>\n",
       "      <th>Q2</th>\n",
       "      <th>M</th>\n",
       "    </tr>\n",
       "  </thead>\n",
       "  <tbody>\n",
       "    <tr>\n",
       "      <th>0</th>\n",
       "      <td>165617</td>\n",
       "      <td>75100943</td>\n",
       "      <td>G</td>\n",
       "      <td>6.20385</td>\n",
       "      <td>-4.26661</td>\n",
       "      <td>0.456545</td>\n",
       "      <td>-4.47930</td>\n",
       "      <td>4.29097</td>\n",
       "      <td>-0.91207</td>\n",
       "      <td>3.034990</td>\n",
       "      <td>...</td>\n",
       "      <td>G</td>\n",
       "      <td>9.66898</td>\n",
       "      <td>7.27397</td>\n",
       "      <td>-2.821120</td>\n",
       "      <td>-5.710400</td>\n",
       "      <td>7.80188</td>\n",
       "      <td>-0.678625</td>\n",
       "      <td>-0.369977</td>\n",
       "      <td>1</td>\n",
       "      <td>11.55340</td>\n",
       "    </tr>\n",
       "    <tr>\n",
       "      <th>1</th>\n",
       "      <td>165617</td>\n",
       "      <td>75492770</td>\n",
       "      <td>G</td>\n",
       "      <td>16.20100</td>\n",
       "      <td>5.64702</td>\n",
       "      <td>4.154080</td>\n",
       "      <td>14.60530</td>\n",
       "      <td>7.01036</td>\n",
       "      <td>1.48032</td>\n",
       "      <td>0.634236</td>\n",
       "      <td>...</td>\n",
       "      <td>T</td>\n",
       "      <td>4.12495</td>\n",
       "      <td>3.35862</td>\n",
       "      <td>-2.238350</td>\n",
       "      <td>0.844684</td>\n",
       "      <td>4.03616</td>\n",
       "      <td>0.207781</td>\n",
       "      <td>-0.587852</td>\n",
       "      <td>1</td>\n",
       "      <td>9.46937</td>\n",
       "    </tr>\n",
       "    <tr>\n",
       "      <th>2</th>\n",
       "      <td>165617</td>\n",
       "      <td>75587682</td>\n",
       "      <td>G</td>\n",
       "      <td>19.28920</td>\n",
       "      <td>-4.21208</td>\n",
       "      <td>-0.651623</td>\n",
       "      <td>18.81210</td>\n",
       "      <td>4.26219</td>\n",
       "      <td>2.19046</td>\n",
       "      <td>-2.988110</td>\n",
       "      <td>...</td>\n",
       "      <td>G</td>\n",
       "      <td>9.82439</td>\n",
       "      <td>4.34394</td>\n",
       "      <td>-0.473505</td>\n",
       "      <td>8.798490</td>\n",
       "      <td>4.36967</td>\n",
       "      <td>1.449670</td>\n",
       "      <td>-0.108575</td>\n",
       "      <td>1</td>\n",
       "      <td>9.16361</td>\n",
       "    </tr>\n",
       "    <tr>\n",
       "      <th>3</th>\n",
       "      <td>165617</td>\n",
       "      <td>75167029</td>\n",
       "      <td>G</td>\n",
       "      <td>9.75833</td>\n",
       "      <td>2.39032</td>\n",
       "      <td>-3.782350</td>\n",
       "      <td>8.67145</td>\n",
       "      <td>4.47435</td>\n",
       "      <td>1.41558</td>\n",
       "      <td>-1.007200</td>\n",
       "      <td>...</td>\n",
       "      <td>G</td>\n",
       "      <td>13.56840</td>\n",
       "      <td>-3.39746</td>\n",
       "      <td>5.190980</td>\n",
       "      <td>12.066500</td>\n",
       "      <td>6.20395</td>\n",
       "      <td>1.418750</td>\n",
       "      <td>2.150320</td>\n",
       "      <td>1</td>\n",
       "      <td>10.53910</td>\n",
       "    </tr>\n",
       "    <tr>\n",
       "      <th>4</th>\n",
       "      <td>165617</td>\n",
       "      <td>75281957</td>\n",
       "      <td>G</td>\n",
       "      <td>9.63652</td>\n",
       "      <td>1.65156</td>\n",
       "      <td>-5.431330</td>\n",
       "      <td>7.78616</td>\n",
       "      <td>5.67688</td>\n",
       "      <td>1.12134</td>\n",
       "      <td>-1.275600</td>\n",
       "      <td>...</td>\n",
       "      <td>G</td>\n",
       "      <td>7.02632</td>\n",
       "      <td>-1.64493</td>\n",
       "      <td>4.441830</td>\n",
       "      <td>5.188670</td>\n",
       "      <td>4.73663</td>\n",
       "      <td>0.947273</td>\n",
       "      <td>1.925460</td>\n",
       "      <td>-1</td>\n",
       "      <td>10.40790</td>\n",
       "    </tr>\n",
       "  </tbody>\n",
       "</table>\n",
       "<p>5 rows × 21 columns</p>\n",
       "</div>"
      ],
      "text/plain": [
       "      Run     Event Type1        E1      px1       py1       pz1      pt1  \\\n",
       "0  165617  75100943     G   6.20385 -4.26661  0.456545  -4.47930  4.29097   \n",
       "1  165617  75492770     G  16.20100  5.64702  4.154080  14.60530  7.01036   \n",
       "2  165617  75587682     G  19.28920 -4.21208 -0.651623  18.81210  4.26219   \n",
       "3  165617  75167029     G   9.75833  2.39032 -3.782350   8.67145  4.47435   \n",
       "4  165617  75281957     G   9.63652  1.65156 -5.431330   7.78616  5.67688   \n",
       "\n",
       "      eta1      phi1  ...  Type2        E2      px2       py2        pz2  \\\n",
       "0 -0.91207  3.034990  ...      G   9.66898  7.27397 -2.821120  -5.710400   \n",
       "1  1.48032  0.634236  ...      T   4.12495  3.35862 -2.238350   0.844684   \n",
       "2  2.19046 -2.988110  ...      G   9.82439  4.34394 -0.473505   8.798490   \n",
       "3  1.41558 -1.007200  ...      G  13.56840 -3.39746  5.190980  12.066500   \n",
       "4  1.12134 -1.275600  ...      G   7.02632 -1.64493  4.441830   5.188670   \n",
       "\n",
       "       pt2      eta2      phi2  Q2         M  \n",
       "0  7.80188 -0.678625 -0.369977   1  11.55340  \n",
       "1  4.03616  0.207781 -0.587852   1   9.46937  \n",
       "2  4.36967  1.449670 -0.108575   1   9.16361  \n",
       "3  6.20395  1.418750  2.150320   1  10.53910  \n",
       "4  4.73663  0.947273  1.925460  -1  10.40790  \n",
       "\n",
       "[5 rows x 21 columns]"
      ]
     },
     "execution_count": 8,
     "metadata": {},
     "output_type": "execute_result"
    }
   ],
   "source": [
    "# Tulosta tiedoston viisi ensimmäistä riviä (vinkki: käytä head() -metodia)\n",
    "\n",
    "datasetti.head()"
   ]
  },
  {
   "cell_type": "code",
   "execution_count": 9,
   "metadata": {},
   "outputs": [],
   "source": [
    "# Tallenna invariantti massa muuttujaan invariantti_massa\n",
    "\n",
    "invariantti_massa = datasetti.M"
   ]
  },
  {
   "cell_type": "code",
   "execution_count": 10,
   "metadata": {},
   "outputs": [
    {
     "data": {
      "text/plain": [
       "37278"
      ]
     },
     "execution_count": 10,
     "metadata": {},
     "output_type": "execute_result"
    }
   ],
   "source": [
    "# Selvitä len() -funktion avulla, kuinka monta invariantin massan arvoa data sisältää.\n",
    "\n",
    "len(invariantti_massa)"
   ]
  },
  {
   "cell_type": "code",
   "execution_count": 11,
   "metadata": {},
   "outputs": [
    {
     "data": {
      "image/png": "[encoded data removed]",
      "text/plain": [
       "<Figure size 432x288 with 1 Axes>"
      ]
     },
     "metadata": {
      "needs_background": "light"
     },
     "output_type": "display_data"
    }
   ],
   "source": [
    "# Piirrä histogrammi\n",
    "\n",
    "plt.hist(invariantti_massa, bins=500)\n",
    "plt.title('Kahden myonin invariantti massa')\n",
    "plt.xlabel('Invariantti massa')\n",
    "plt.ylabel('Tapahtumia pylvästä kohti')\n",
    "plt.show()"
   ]
  },
  {
   "cell_type": "markdown",
   "metadata": {},
   "source": [
    "Mitä invariantin massan histogrammi kertoo?\n",
    "- Histogrammiin on piirretty kahden myonin invariantti massa. Invariantti massa voidaan laskea mille tahansa kahdelle tai useammalle hiukkaselle. Jos hiukkaset ovat peräisin samasta emohiukkasesta, invariantti massa vastaa emohiukkasen massaa. Toisaalta jos hiukkaset eivät ole peräisin samasta hiukkasesta, invariantti massa ei kerro meille mitään. Histogrammissa huomaamme taustahälystä erottuvat piikit emohiukkasina.\n",
    "<br>\n",
    "\n",
    "Mitä tapahtuu noin 9.5 GeV kohdalla?\n",
    "- Upsilon-mesonin massa on noin 9.5 GeV. Upsilon voi hajota kahdeksi myoniksi. Näin ollen, jos kaksi myonia ovat peräisin Upsilon-mesonista, niiden invariantti massa vastaa Upsilonin massaa. Tällöin piikki erottuu selvästi taustakohinasta."
   ]
  },
  {
   "cell_type": "markdown",
   "metadata": {},
   "source": [
    "<a id=\"3\"></a>\n",
    "## 3. Datan valitseminen histogrammiin"
   ]
  },
  {
   "cell_type": "code",
   "execution_count": 12,
   "metadata": {},
   "outputs": [],
   "source": [
    "# Tuo moduulit pandas, numpy ja matplotlib.pylab käyttäen import-komentoa\n",
    "\n",
    "import pandas as pd\n",
    "import numpy as np\n",
    "import matplotlib.pylab as plt\n",
    "\n",
    "# Lue datatiedosto ja tallenna tiedot muuttujaan 'datasetti'\n",
    "\n",
    "datasetti = pd.read_csv('https://raw.githubusercontent.com/cms-opendata-education/cms-jupyter-materials-finnish/master/Data/Zmumu_Run2011A_massoilla.csv')\n",
    "\n",
    "# Tallenna invariantti massa muuttujaan 'invariantti_massa'\n",
    "\n",
    "invariantti_massa = datasetti.M"
   ]
  },
  {
   "cell_type": "markdown",
   "metadata": {},
   "source": [
    "Tutki koodin avulla seuraavia asioita:\n",
    "1. Miten valitun datan määrä vaikuttaa histogrammiin?\n",
    "    - Mitä enemmän dataa histogrammissa on, sitä luotettavammin voimme sitä tulkita. Pienellä datamäärällä piikki ei vielä välttämättä erotu histogrammista, mutta kun dataa kertyy enemmän, voimme varmemmin todeta, että piikin kohdalla on jotain poikkeavaa.\n",
    "\n",
    "2. Mitä invariantin massan arvoa datasta löytyy eniten?\n",
    "    - Eniten tapahtumia on noin 90 GeV kohdalla. \n",
    "    \n",
    "3. Mitä voit päätellä kohdan 2 vastauksestasi?\n",
    "    - On todennäköisesti olemassa jokin hiukkanen, jonka massa on n. 90 GeV, josta myonit ovat peräisin. (Z-bosonin massa on n. 90 GeV)\n",
    "    \n",
    "Bonus: Mitä tapahtuu, jos valitset esimerkiksi 20000 tapahtumaa piirrettäväksi? Miksi?\n",
    "- Emme voi piirtää 20000 tapahtumaa, koska tiedostossamme on dataa vain 10851 tapahtumasta."
   ]
  },
  {
   "cell_type": "markdown",
   "metadata": {},
   "source": [
    "<a id=\"4\"></a>\n",
    "## 4. Tunnista hiukkanen"
   ]
  },
  {
   "cell_type": "code",
   "execution_count": 13,
   "metadata": {},
   "outputs": [],
   "source": [
    "# Tuo tarvittavat moduulit import-komennolla\n",
    "\n",
    "import pandas as pd\n",
    "import numpy as np\n",
    "import matplotlib.pylab as plt"
   ]
  },
  {
   "cell_type": "code",
   "execution_count": 14,
   "metadata": {},
   "outputs": [],
   "source": [
    "# Lue datatiedosto ja tallenna invarianttien massojen arvot\n",
    "\n",
    "datasetti = pd.read_csv('https://raw.githubusercontent.com/cms-opendata-education/cms-jupyter-materials-finnish/master/Data/Jpsimumu_Run2011A.csv')\n",
    "invariantti_massa = datasetti.M"
   ]
  },
  {
   "cell_type": "code",
   "execution_count": 15,
   "metadata": {},
   "outputs": [
    {
     "data": {
      "image/png": "[encoded data removed]",
      "text/plain": [
       "<Figure size 432x288 with 1 Axes>"
      ]
     },
     "metadata": {
      "needs_background": "light"
     },
     "output_type": "display_data"
    }
   ],
   "source": [
    "# Piirrä invarianttien massojen histogrammi\n",
    "\n",
    "plt.hist(invariantti_massa, bins=500)\n",
    "plt.title('Kahden myonin invariantti massa')\n",
    "plt.xlabel('Invariantti massa (GeV)')\n",
    "plt.ylabel('Tapahtumia pylvästä kohti')\n",
    "plt.show()"
   ]
  },
  {
   "cell_type": "markdown",
   "metadata": {},
   "source": [
    "Piikki asettuu hieman yli 3 GeV kohdalle, joten tehtävässä olevasta kuvasta voimme päätellä piikin kohdalla olevien myonien olevan peräisin J/psi -hiukkasesta."
   ]
  },
  {
   "cell_type": "markdown",
   "metadata": {},
   "source": [
    "<a id=\"5\"></a>\n",
    "## 5. Histogrammien vertailu samassa kuvassa"
   ]
  },
  {
   "cell_type": "code",
   "execution_count": 16,
   "metadata": {},
   "outputs": [
    {
     "data": {
      "text/html": [
       "<div>\n",
       "<style scoped>\n",
       "    .dataframe tbody tr th:only-of-type {\n",
       "        vertical-align: middle;\n",
       "    }\n",
       "\n",
       "    .dataframe tbody tr th {\n",
       "        vertical-align: top;\n",
       "    }\n",
       "\n",
       "    .dataframe thead th {\n",
       "        text-align: right;\n",
       "    }\n",
       "</style>\n",
       "<table border=\"1\" class=\"dataframe\">\n",
       "  <thead>\n",
       "    <tr style=\"text-align: right;\">\n",
       "      <th></th>\n",
       "      <th>Run</th>\n",
       "      <th>Event</th>\n",
       "      <th>type1</th>\n",
       "      <th>E1</th>\n",
       "      <th>px1</th>\n",
       "      <th>py1</th>\n",
       "      <th>pz1</th>\n",
       "      <th>pt1</th>\n",
       "      <th>eta1</th>\n",
       "      <th>phi1</th>\n",
       "      <th>...</th>\n",
       "      <th>type2</th>\n",
       "      <th>E2</th>\n",
       "      <th>px2</th>\n",
       "      <th>py2</th>\n",
       "      <th>pz2</th>\n",
       "      <th>pt2</th>\n",
       "      <th>eta2</th>\n",
       "      <th>phi2</th>\n",
       "      <th>Q2</th>\n",
       "      <th>M</th>\n",
       "    </tr>\n",
       "  </thead>\n",
       "  <tbody>\n",
       "    <tr>\n",
       "      <th>0</th>\n",
       "      <td>165617</td>\n",
       "      <td>74601703</td>\n",
       "      <td>G</td>\n",
       "      <td>9.6987</td>\n",
       "      <td>-9.5104</td>\n",
       "      <td>0.3662</td>\n",
       "      <td>1.8633</td>\n",
       "      <td>9.5175</td>\n",
       "      <td>0.1945</td>\n",
       "      <td>3.1031</td>\n",
       "      <td>...</td>\n",
       "      <td>G</td>\n",
       "      <td>9.7633</td>\n",
       "      <td>7.3277</td>\n",
       "      <td>-1.1524</td>\n",
       "      <td>6.3473</td>\n",
       "      <td>7.4178</td>\n",
       "      <td>0.7756</td>\n",
       "      <td>-0.1560</td>\n",
       "      <td>1</td>\n",
       "      <td>17.4922</td>\n",
       "    </tr>\n",
       "    <tr>\n",
       "      <th>1</th>\n",
       "      <td>165617</td>\n",
       "      <td>75100943</td>\n",
       "      <td>G</td>\n",
       "      <td>6.2039</td>\n",
       "      <td>-4.2666</td>\n",
       "      <td>0.4565</td>\n",
       "      <td>-4.4793</td>\n",
       "      <td>4.2910</td>\n",
       "      <td>-0.9121</td>\n",
       "      <td>3.0350</td>\n",
       "      <td>...</td>\n",
       "      <td>G</td>\n",
       "      <td>9.6690</td>\n",
       "      <td>7.2740</td>\n",
       "      <td>-2.8211</td>\n",
       "      <td>-5.7104</td>\n",
       "      <td>7.8019</td>\n",
       "      <td>-0.6786</td>\n",
       "      <td>-0.3700</td>\n",
       "      <td>1</td>\n",
       "      <td>11.5534</td>\n",
       "    </tr>\n",
       "    <tr>\n",
       "      <th>2</th>\n",
       "      <td>165617</td>\n",
       "      <td>75587682</td>\n",
       "      <td>G</td>\n",
       "      <td>19.2892</td>\n",
       "      <td>-4.2121</td>\n",
       "      <td>-0.6516</td>\n",
       "      <td>18.8121</td>\n",
       "      <td>4.2622</td>\n",
       "      <td>2.1905</td>\n",
       "      <td>-2.9881</td>\n",
       "      <td>...</td>\n",
       "      <td>G</td>\n",
       "      <td>9.8244</td>\n",
       "      <td>4.3439</td>\n",
       "      <td>-0.4735</td>\n",
       "      <td>8.7985</td>\n",
       "      <td>4.3697</td>\n",
       "      <td>1.4497</td>\n",
       "      <td>-0.1086</td>\n",
       "      <td>1</td>\n",
       "      <td>9.1636</td>\n",
       "    </tr>\n",
       "    <tr>\n",
       "      <th>3</th>\n",
       "      <td>165617</td>\n",
       "      <td>75660978</td>\n",
       "      <td>G</td>\n",
       "      <td>7.0427</td>\n",
       "      <td>-6.3268</td>\n",
       "      <td>-0.2685</td>\n",
       "      <td>3.0802</td>\n",
       "      <td>6.3325</td>\n",
       "      <td>0.4690</td>\n",
       "      <td>-3.0992</td>\n",
       "      <td>...</td>\n",
       "      <td>G</td>\n",
       "      <td>5.5857</td>\n",
       "      <td>4.4748</td>\n",
       "      <td>0.8489</td>\n",
       "      <td>-3.2319</td>\n",
       "      <td>4.5546</td>\n",
       "      <td>-0.6605</td>\n",
       "      <td>0.1875</td>\n",
       "      <td>1</td>\n",
       "      <td>12.4774</td>\n",
       "    </tr>\n",
       "    <tr>\n",
       "      <th>4</th>\n",
       "      <td>165617</td>\n",
       "      <td>75947690</td>\n",
       "      <td>G</td>\n",
       "      <td>7.2751</td>\n",
       "      <td>0.1030</td>\n",
       "      <td>-5.5331</td>\n",
       "      <td>-4.7212</td>\n",
       "      <td>5.5340</td>\n",
       "      <td>-0.7736</td>\n",
       "      <td>-1.5522</td>\n",
       "      <td>...</td>\n",
       "      <td>G</td>\n",
       "      <td>7.3181</td>\n",
       "      <td>-0.3988</td>\n",
       "      <td>6.9408</td>\n",
       "      <td>2.2825</td>\n",
       "      <td>6.9523</td>\n",
       "      <td>0.3227</td>\n",
       "      <td>1.6282</td>\n",
       "      <td>1</td>\n",
       "      <td>14.3159</td>\n",
       "    </tr>\n",
       "  </tbody>\n",
       "</table>\n",
       "<p>5 rows × 21 columns</p>\n",
       "</div>"
      ],
      "text/plain": [
       "      Run     Event type1       E1     px1     py1      pz1     pt1    eta1  \\\n",
       "0  165617  74601703     G   9.6987 -9.5104  0.3662   1.8633  9.5175  0.1945   \n",
       "1  165617  75100943     G   6.2039 -4.2666  0.4565  -4.4793  4.2910 -0.9121   \n",
       "2  165617  75587682     G  19.2892 -4.2121 -0.6516  18.8121  4.2622  2.1905   \n",
       "3  165617  75660978     G   7.0427 -6.3268 -0.2685   3.0802  6.3325  0.4690   \n",
       "4  165617  75947690     G   7.2751  0.1030 -5.5331  -4.7212  5.5340 -0.7736   \n",
       "\n",
       "     phi1  ...  type2      E2     px2     py2     pz2     pt2    eta2    phi2  \\\n",
       "0  3.1031  ...      G  9.7633  7.3277 -1.1524  6.3473  7.4178  0.7756 -0.1560   \n",
       "1  3.0350  ...      G  9.6690  7.2740 -2.8211 -5.7104  7.8019 -0.6786 -0.3700   \n",
       "2 -2.9881  ...      G  9.8244  4.3439 -0.4735  8.7985  4.3697  1.4497 -0.1086   \n",
       "3 -3.0992  ...      G  5.5857  4.4748  0.8489 -3.2319  4.5546 -0.6605  0.1875   \n",
       "4 -1.5522  ...      G  7.3181 -0.3988  6.9408  2.2825  6.9523  0.3227  1.6282   \n",
       "\n",
       "   Q2        M  \n",
       "0   1  17.4922  \n",
       "1   1  11.5534  \n",
       "2   1   9.1636  \n",
       "3   1  12.4774  \n",
       "4   1  14.3159  \n",
       "\n",
       "[5 rows x 21 columns]"
      ]
     },
     "execution_count": 16,
     "metadata": {},
     "output_type": "execute_result"
    }
   ],
   "source": [
    "# Tuo tarvittavat moduulit\n",
    "\n",
    "import pandas as pd\n",
    "import numpy as np\n",
    "import matplotlib.pylab as plt\n",
    "\n",
    "# Lue datatiedosto\n",
    "\n",
    "datasetti = pd.read_csv('https://raw.githubusercontent.com/cms-opendata-education/cms-jupyter-materials-finnish/master/Data/Dimuon_DoubleMu.csv')\n",
    "\n",
    "# Tallenna invariantti massa\n",
    "\n",
    "invariantti_massa = datasetti.M\n",
    "datasetti.head()"
   ]
  },
  {
   "cell_type": "code",
   "execution_count": 17,
   "metadata": {},
   "outputs": [
    {
     "data": {
      "image/png": "[encoded data removed]",
      "text/plain": [
       "<Figure size 432x288 with 1 Axes>"
      ]
     },
     "metadata": {
      "needs_background": "light"
     },
     "output_type": "display_data"
    }
   ],
   "source": [
    "# Piirrä histogrammi ja zoomaa jonkun piikin kohdalle\n",
    "\n",
    "# Zoomataan välille 80 GeV - 100 GeV\n",
    "plt.hist(invariantti_massa, bins=500, range=(80,100))\n",
    "plt.title('Kahden myonin invariantti massa')\n",
    "plt.xlabel('Invariantti massa (GeV)')\n",
    "plt.ylabel('Tapahtumien lukumäärä')\n",
    "plt.show()"
   ]
  },
  {
   "cell_type": "code",
   "execution_count": 18,
   "metadata": {},
   "outputs": [
    {
     "data": {
      "image/png": "[encoded data removed]",
      "text/plain": [
       "<Figure size 432x288 with 1 Axes>"
      ]
     },
     "metadata": {
      "needs_background": "light"
     },
     "output_type": "display_data"
    }
   ],
   "source": [
    "KorkeaEta = datasetti[datasetti.eta1 + datasetti.eta2 > 1.5]\n",
    "MatalaEta = datasetti[datasetti.eta1 + datasetti.eta2 < 1.5]\n",
    "\n",
    "plt.xlabel('Invariantti massa [GeV]')\n",
    "plt.ylabel('Tapahtumien lukumäärä')\n",
    "plt.title('Kahden myonin invariantti massa, vertailu pseudorapiditeetin perusteella \\n')\n",
    "plt.hist(MatalaEta.M, bins=50, range=(80,100), alpha=0.5, label='Matala eta')\n",
    "plt.hist(KorkeaEta.M, bins=50, range=(80,100), alpha=0.5, label='Korkea eta')\n",
    "plt.legend()\n",
    "plt.show()"
   ]
  },
  {
   "cell_type": "markdown",
   "metadata": {},
   "source": [
    "Pohdi, mitä näet pseudorapiditeettien kuvaajassa\n",
    "- Korkealla pseudorapiditeetilla Z-bosonin piikki on paljon epätarkempi kuin matalilla pseudorapiditeetin arvoilla. Tämä johtuu siitä, että pseudorapiditeetti kuvaa myonin etenemissunnan ja alkuperäisen hiukkassuihkun välistä kulmaa. Suurilla pseudorapiditeetin arvoilla hiukkanen on osunut ilmaisimen päätyyn, jolloin mittaustulos on epätarkempi kuin pienillä pseudorapiditeetin arvoilla, jolloin hiukkanen on osunut ilmaisinsylinterin vaippaan.\n"
   ]
  },
  {
   "cell_type": "markdown",
   "metadata": {},
   "source": [
    "<a id=\"6\"></a>\n",
    "## 6. Datan suodattimien vertailu"
   ]
  },
  {
   "cell_type": "code",
   "execution_count": 19,
   "metadata": {},
   "outputs": [],
   "source": [
    "# Tuo tarvittavat moduulit\n",
    "\n",
    "import pandas as pd\n",
    "import numpy as np\n",
    "import matplotlib.pylab as plt"
   ]
  },
  {
   "cell_type": "code",
   "execution_count": 20,
   "metadata": {},
   "outputs": [],
   "source": [
    "# Lue datatiedostot\n",
    "\n",
    "zee = pd.read_csv('https://raw.githubusercontent.com/cms-opendata-education/cms-jupyter-materials-finnish/master/Data/Zee_Run2011A.csv')\n",
    "zmumu = pd.read_csv('https://raw.githubusercontent.com/cms-opendata-education/cms-jupyter-materials-finnish/master/Data/Zmumu_Run2011A.csv')"
   ]
  },
  {
   "cell_type": "code",
   "execution_count": 21,
   "metadata": {},
   "outputs": [],
   "source": [
    "# Laske ja tallenna invariantit massat\n",
    "\n",
    "m_zee = np.sqrt(2*zee.pt1*zee.pt2*\n",
    "                            (np.cosh(zee.eta1-zee.eta2) - np.cos(zee.phi1-zee.phi2)))\n",
    "m_zmumu = np.sqrt(2*zmumu.pt1*zmumu.pt2*\n",
    "                            (np.cosh(zmumu.eta1-zmumu.eta2) - np.cos(zmumu.phi1-zmumu.phi2)))"
   ]
  },
  {
   "cell_type": "code",
   "execution_count": 22,
   "metadata": {},
   "outputs": [
    {
     "data": {
      "image/png": "[encoded data removed]",
      "text/plain": [
       "<Figure size 432x288 with 1 Axes>"
      ]
     },
     "metadata": {
      "needs_background": "light"
     },
     "output_type": "display_data"
    }
   ],
   "source": [
    "# Piirrä histogrammit\n",
    "\n",
    "plt.xlabel('Invariantti massa [GeV]')\n",
    "plt.ylabel('Tapahtumien lukumäärä')\n",
    "plt.title('Kahden myonin invariantti massa, vertailu eri suodattimilla \\n')\n",
    "plt.hist(m_zee, bins=50, alpha=0.5, label='zee')\n",
    "plt.hist(m_zmumu, bins=50, alpha=0.5, label='zmumu')\n",
    "plt.legend()\n",
    "plt.show()"
   ]
  },
  {
   "cell_type": "markdown",
   "metadata": {},
   "source": [
    "Minkä hiukkasen hajoamiseen piikki liittyy?\n",
    " - Piikki on noin 90 GeV kohdalla, joten kyseessä on Z-bosonin hajoaminen kahdeksi myoniksi tai kahdeksi elektroniksi.\n",
    "<br>\n",
    "\n",
    "Mitä piikin muoto kertoo?\n",
    " - Mitä kapeampi piikki, sitä tarkempi mittaustulos on.\n",
    "<br>\n",
    "\n",
    "Kummassa mittauksessa on vähemmän kohinaa, eli tulos on ns. tarkempi? \n",
    " - Näyttäisi siltä, että zmumu-tiedoston data tuottaa kapeamman ja tarkemman piikin."
   ]
  },
  {
   "cell_type": "markdown",
   "metadata": {},
   "source": [
    "<a id=\"7\"></a>\n",
    "## 7. Pseudorapiditeetti"
   ]
  },
  {
   "cell_type": "code",
   "execution_count": 23,
   "metadata": {},
   "outputs": [
    {
     "name": "stdout",
     "output_type": "stream",
     "text": [
      "Kaikkien tapahtumien lukumäärä = 10851\n",
      "Tapahtumia, joissa kummankin myonin pseudorapiditeetti on suuri = 615\n",
      "Tapahtumia, joissa kummankin myonin pseudorapiditeetti on pieni = 603\n"
     ]
    }
   ],
   "source": [
    "# Haetaan tarvittavat moduulit.\n",
    "import pandas as pd\n",
    "import numpy as np\n",
    "import matplotlib.pylab as plt\n",
    "\n",
    "# Haetaan data.\n",
    "data = pd.read_csv('https://raw.githubusercontent.com/cms-opendata-education/cms-jupyter-materials-finnish/master/Data/Zmumu_Run2011A_massoilla.csv')\n",
    "\n",
    "# Luodaan kaksi muuttujaa, \"ehto1\" ja \"ehto2\". Asetetaan näihin ehdot suurille ja pienille pseudorapiditeeteille.\n",
    "# Voit muuttaa karsintaehtoja ja katsoa, miten tapahtumien lukumäärä muuttuu. Valitse kuitenkin sellaiset ehdot,\n",
    "# että suuren ja pienen pseudorapiditeetin tapahtumia on suurinpiirtein sama määrä.\n",
    "ehto1 = 1.52\n",
    "ehto2 = 0.45\n",
    "\n",
    "# Valitaan datasta ne tapahtumat, jotka toteuttavat ehdon 1\n",
    "suuri_eta = data[(abs(data.eta1) > ehto1) & (abs(data.eta2) > ehto1)]\n",
    "\n",
    "# Valitaan datasta ne tapahtumat, jotka toteuttavat ehdon 2\n",
    "pieni_eta = data[(abs(data.eta1) < ehto2) & (abs(data.eta2) < ehto2)]\n",
    "\n",
    "# Tulostetaan tiedot valituista tapahtumista.\n",
    "print(\"Kaikkien tapahtumien lukumäärä = %d\" % len(data))\n",
    "print(\"Tapahtumia, joissa kummankin myonin pseudorapiditeetti on suuri = %d\" % len(suuri_eta))\n",
    "print(\"Tapahtumia, joissa kummankin myonin pseudorapiditeetti on pieni = %d\" % len(pieni_eta))"
   ]
  },
  {
   "cell_type": "code",
   "execution_count": 24,
   "metadata": {},
   "outputs": [
    {
     "data": {
      "image/png": "[encoded data removed]",
      "text/plain": [
       "<Figure size 432x288 with 1 Axes>"
      ]
     },
     "metadata": {
      "needs_background": "light"
     },
     "output_type": "display_data"
    }
   ],
   "source": [
    "# Piirrä histogrammi\n",
    "\n",
    "plt.hist(suuri_eta.M, bins=50)\n",
    "plt.title('Kahden myonin invariantti massa, eta > 1.52')\n",
    "plt.xlabel('Invariantti massa (GeV)')\n",
    "plt.ylabel('Tapahtumien lukumäärä')\n",
    "plt.show()"
   ]
  },
  {
   "cell_type": "code",
   "execution_count": 25,
   "metadata": {},
   "outputs": [
    {
     "data": {
      "image/png": "[encoded data removed]",
      "text/plain": [
       "<Figure size 432x288 with 1 Axes>"
      ]
     },
     "metadata": {
      "needs_background": "light"
     },
     "output_type": "display_data"
    }
   ],
   "source": [
    "# Piirrä histogrammi\n",
    "\n",
    "plt.hist(pieni_eta.M, bins=50)\n",
    "plt.title('Kahden myonin invariantti massa, eta < 0.45')\n",
    "plt.xlabel('Invariantti massa (GeV)')\n",
    "plt.ylabel('Tapahtumien lukumäärä')\n",
    "plt.show()"
   ]
  },
  {
   "cell_type": "code",
   "execution_count": 26,
   "metadata": {},
   "outputs": [
    {
     "name": "stdout",
     "output_type": "stream",
     "text": [
      "1.3169578969248168\n"
     ]
    }
   ],
   "source": [
    "# Laske pseudorapiditeetti, kun kulma on 30 astetta\n",
    "\n",
    "theta = 30*2*np.pi/360\n",
    "eta = -np.log(np.tan(theta/2))\n",
    "print(eta)"
   ]
  },
  {
   "cell_type": "code",
   "execution_count": 27,
   "metadata": {},
   "outputs": [
    {
     "data": {
      "image/png": "[encoded data removed]",
      "text/plain": [
       "<Figure size 432x288 with 1 Axes>"
      ]
     },
     "metadata": {
      "needs_background": "light"
     },
     "output_type": "display_data"
    }
   ],
   "source": [
    "# Piirrä histogrammit samaan kuvaan\n",
    "\n",
    "plt.hist(suuri_eta.M, bins=50, alpha=0.5, label='eta > 1.52')\n",
    "plt.hist(pieni_eta.M, bins=50, alpha=0.5, label='eta > 0.45')\n",
    "plt.title('Kahden myonin invariantti massa')\n",
    "plt.xlabel('Invariantti massa (GeV)')\n",
    "plt.ylabel('Tapahtumien lukumäärä')\n",
    "plt.legend()\n",
    "plt.show()"
   ]
  },
  {
   "cell_type": "markdown",
   "metadata": {},
   "source": [
    "Pohdi pseudorapiditeetin vaikutusta CMS-ilmaisimen mittaustarkkuuteen\n",
    " - Kuvaajan perusteella pienillä etan arvoilla piikki on hieman kapeampi ja korkeampi, joten mittaus on tällöin tarkempi."
   ]
  },
  {
   "cell_type": "markdown",
   "metadata": {},
   "source": [
    "<a id=\"8\"></a>\n",
    "## 8. Higgsin bosoni"
   ]
  },
  {
   "cell_type": "code",
   "execution_count": 28,
   "metadata": {},
   "outputs": [],
   "source": [
    "# Tuodaan tarvittavat moduulit.\n",
    "\n",
    "import numpy as np\n",
    "import pandas as pd\n",
    "import matplotlib.pyplot as plt\n",
    "\n",
    "%matplotlib inline"
   ]
  },
  {
   "cell_type": "code",
   "execution_count": 29,
   "metadata": {},
   "outputs": [],
   "source": [
    "# Simuloidut arvot on laskettu invarianttien massojen välille 70-181 GeV.\n",
    "\n",
    "# Simuloidut arvot Z-bosonin ja jettien hajoamisesta neljäksi leptoniksi.\n",
    "dy = np.array([0,0,0,0,0,0.354797,0.177398,2.60481,0,0,0,0,0,0,0,0,0,0.177398,0.177398,0,0.177398,0,0,0,0,0,0,0,0,0,0,0,0.177398,0,0,0,0])\n",
    "\n",
    "# Simuloidut arvot huippukvarkin ja antihuippukvarkin hajoamiseen neljäksi leptoniksi.\n",
    "ttbar = np.array([0.00465086,0,0.00465086,0,0,0,0,0,0,0,0.00465086,0,0,0,0,0,0.00465086,0,0,0,0,0.00465086,0.00465086,0,0,0.0139526,0,0,0.00465086,0,0,0,0.00465086,0.00465086,0.0139526,0,0])\n",
    "\n",
    "# Simuloidut arvot kahden Z-bosonin hajoamiseen neljäksi leptoniksi.\n",
    "zz = np.array([0.181215,0.257161,0.44846,0.830071,1.80272,4.57354,13.9677,14.0178,4.10974,1.58934,0.989974,0.839775,0.887188,0.967021,1.07882,1.27942,1.36681,1.4333,1.45141,1.41572,1.51464,1.45026,1.47328,1.42899,1.38757,1.33561,1.3075,1.29831,1.31402,1.30672,1.36442,1.39256,1.43472,1.58321,1.85313,2.19304,2.95083])\n",
    "\n",
    "# Simuloidut arvot Higgsin bosonin hajoamiseen kahdeksi Z-bosoniksi, jotka hajoavat neljäksi leptoniksi.\n",
    "# Oletuksena, että Higgsin massa on 125 GeV.\n",
    "hzz = np.array([0.00340992,0.00450225,0.00808944,0.0080008,0.00801578,0.0108945,0.00794274,0.00950757,0.0130648,0.0163568,0.0233832,0.0334813,0.0427229,0.0738129,0.13282,0.256384,0.648352,2.38742,4.87193,0.944299,0.155005,0.0374193,0.0138906,0.00630364,0.00419265,0.00358719,0.00122527,0.000885718,0.000590479,0.000885718,0.000797085,8.86337e-05,0.000501845,8.86337e-05,0.000546162,4.43168e-05,8.86337e-05])"
   ]
  },
  {
   "cell_type": "code",
   "execution_count": 30,
   "metadata": {},
   "outputs": [],
   "source": [
    "# Luetaan datatiedostot valmiiksi myöhempää käyttöä varten. \n",
    "# Data on jaettu eri tiedostoihin sen perusteella, miltä vuodelta se on sekä mitä hiukkasia on syntynyt.\n",
    "# Esimerkiksi tiedosto 4mu_2011.csv sisältää vuonna 2011 mitattuja tapahtumia, joissa on syntynyt 4 myonia.\n",
    "\n",
    "csvs = [pd.read_csv('https://raw.githubusercontent.com/cms-opendata-education/cms-jupyter-materials-finnish/master/Data/4mu_2011.csv'),\n",
    "        pd.read_csv('https://raw.githubusercontent.com/cms-opendata-education/cms-jupyter-materials-finnish/master/Data/4e_2011.csv'), \n",
    "        pd.read_csv('https://raw.githubusercontent.com/cms-opendata-education/cms-jupyter-materials-finnish/master/Data/2e2mu_2011.csv')]\n",
    "csvs += [pd.read_csv('https://raw.githubusercontent.com/cms-opendata-education/cms-jupyter-materials-finnish/master/Data/4mu_2012.csv'),\n",
    "         pd.read_csv('https://raw.githubusercontent.com/cms-opendata-education/cms-jupyter-materials-finnish/master/Data/4e_2012.csv'), \n",
    "         pd.read_csv('https://raw.githubusercontent.com/cms-opendata-education/cms-jupyter-materials-finnish/master/Data/2e2mu_2012.csv')]\n",
    "\n",
    "# Yhdistetään csv-tiedostot yhdeksi ketjuksi.\n",
    "fourlep = pd.concat(csvs)"
   ]
  },
  {
   "cell_type": "code",
   "execution_count": 31,
   "metadata": {},
   "outputs": [],
   "source": [
    "# Määritellään histogrammien piirtoa varten\n",
    "#     rmin, rmax: minimi- ja maksimialueet invariantille massalle.\n",
    "#     nbins:      pylväiden lukumäärä\n",
    "#     width:      pylväiden leveys\n",
    "#     center:     pylvään keskikohta\n",
    "# Tutkitaan invarianttien massojen aluetta välillä 70-181 GeV. Valitaan pylväiden määräksi mielivaltaisesti 37.\n",
    "\n",
    "rmin = 70\n",
    "rmax = 181\n",
    "nbins = 37\n",
    "\n",
    "M_hist = np.histogram(fourlep['M'], bins = nbins, range = (rmin,rmax))\n",
    "hist, bins = M_hist\n",
    "\n",
    "width = 1.0*(bins[1] - bins[0])\n",
    "center = (bins[:-1] + bins[1:]) / 2"
   ]
  },
  {
   "cell_type": "code",
   "execution_count": 32,
   "metadata": {},
   "outputs": [
    {
     "data": {
      "image/png": "[encoded data removed]",
      "text/plain": [
       "<Figure size 1080x216 with 1 Axes>"
      ]
     },
     "metadata": {
      "needs_background": "light"
     },
     "output_type": "display_data"
    }
   ],
   "source": [
    "# Piirretään pylväsdiagrammi simuloiduista arvoista, joissa kaksi Z-bosonia hajoaa neljäksi leptoniksi.\n",
    "\n",
    "plt.figure(figsize = (15,3))\n",
    "# Alla olevassa koodissa 'zz' määrittää, mitkä simuloidut arvot haluamme piirtää.\n",
    "plt.bar(center, zz, align = 'center', width = width, color = 'b', linewidth = 0, edgecolor = 'black', alpha = 0.5)\n",
    "plt.xlabel('Invariantti massa (GeV)', fontsize = 15)\n",
    "plt.ylabel('Tapahtumia', fontsize = 15)\n",
    "plt.xlim(rmin,rmax)\n",
    "plt.show()"
   ]
  },
  {
   "cell_type": "code",
   "execution_count": 33,
   "metadata": {},
   "outputs": [
    {
     "data": {
      "image/png": "[encoded data removed]",
      "text/plain": [
       "<Figure size 1080x216 with 1 Axes>"
      ]
     },
     "metadata": {
      "needs_background": "light"
     },
     "output_type": "display_data"
    }
   ],
   "source": [
    "# Piirrä pylväsdiagrammi simuloiduista arvoista, joissa yksi Z-bosoni ja jetit hajoavat neljäksi leptoniksi (dy).\n",
    "# Käytä pylväsdiagrammissa jotain muuta väriä kuin aiemmin, esimerkiksi vihreä 'g' tai harmaa 'grey'.\n",
    "\n",
    "plt.figure(figsize = (15,3))\n",
    "plt.bar(center, dy, align = 'center', width = width, color = 'g', linewidth = 0, edgecolor = 'black', alpha = 0.5)\n",
    "plt.xlabel('Invariantti massa (GeV)', fontsize = 15)\n",
    "plt.ylabel('Tapahtumia', fontsize = 15)\n",
    "plt.xlim(rmin,rmax)\n",
    "plt.show()"
   ]
  },
  {
   "cell_type": "code",
   "execution_count": 34,
   "metadata": {},
   "outputs": [
    {
     "data": {
      "image/png": "[encoded data removed]",
      "text/plain": [
       "<Figure size 1080x216 with 1 Axes>"
      ]
     },
     "metadata": {
      "needs_background": "light"
     },
     "output_type": "display_data"
    }
   ],
   "source": [
    "# Piirrä pylväsdiagrammi simuloiduista arvoista, joissa huippu- ja antihuippukvarkki hajoavat neljäksi leptoniksi (ttbar).\n",
    "# Käytä pylväsdiagrammissa jotain muuta väriä kuin aiemmin, esimerkiksi vihreä 'g' tai harmaa 'grey'.\n",
    "\n",
    "plt.figure(figsize = (15,3))\n",
    "plt.bar(center, ttbar, align = 'center', width = width, color = 'grey', linewidth = 0, edgecolor = 'black', alpha = 0.5)\n",
    "plt.xlabel('Invariantti massa (GeV)', fontsize = 15)\n",
    "plt.ylabel('Tapahtumia', fontsize = 15)\n",
    "plt.xlim(rmin,rmax)\n",
    "plt.show()"
   ]
  },
  {
   "cell_type": "code",
   "execution_count": 35,
   "metadata": {},
   "outputs": [
    {
     "data": {
      "image/png": "[encoded data removed]",
      "text/plain": [
       "<Figure size 1080x360 with 1 Axes>"
      ]
     },
     "metadata": {
      "needs_background": "light"
     },
     "output_type": "display_data"
    }
   ],
   "source": [
    "plt.figure(figsize = (15,5))\n",
    "\n",
    "# ttbar\n",
    "tt_bar = plt.bar(center, ttbar, align = 'center', width = width, color = 'grey', linewidth = 0, edgecolor = 'black',\n",
    "                 alpha = 0.5, label = r'ttbar $\\rightarrow$ 4l')\n",
    "\n",
    "# DY\n",
    "dy_bar = plt.bar(center, dy, align = 'center', width = width, color = 'g', linewidth = 0, edgecolor = 'black',\n",
    "                 alpha = 0.5, bottom = ttbar, label = r'dy $\\rightarrow$ 4l')\n",
    "\n",
    "# ZZ\n",
    "zz_bar = plt.bar(center, zz, align = 'center', width = width, color = 'b', linewidth = 0, edgecolor = 'black',\n",
    "                 alpha = 0.5, bottom = ttbar+dy, label = r'ZZ $\\rightarrow$ 4l')\n",
    "\n",
    "\n",
    "plt.xlabel('Invariantti massa (GeV)', fontsize = 15)\n",
    "plt.ylabel('Tapahtumia', fontsize = 15)\n",
    "plt.ylim(0,20)\n",
    "plt.xlim(rmin,rmax)\n",
    "plt.legend(fontsize = 15)\n",
    "\n",
    "plt.show()"
   ]
  },
  {
   "cell_type": "code",
   "execution_count": 36,
   "metadata": {},
   "outputs": [
    {
     "data": {
      "image/png": "[encoded data removed]",
      "text/plain": [
       "<Figure size 1080x360 with 1 Axes>"
      ]
     },
     "metadata": {
      "needs_background": "light"
     },
     "output_type": "display_data"
    }
   ],
   "source": [
    "# Piirrä pylväsdiagrammit kaikista simulaatioista mukaan lukien Higgsin bosonin simulaatio, \n",
    "# sekä lisää mukaan vielä oikea mittausdata.\n",
    "\n",
    "# Piirretään oikea data ja simulaatiot samaan kuvaan.\n",
    "\n",
    "plt.figure(figsize = (15,5))\n",
    "\n",
    "# Virherajat\n",
    "xerrs = [width*0.5 for i in range(0, nbins)]\n",
    "yerrs = np.sqrt(hist)\n",
    "\n",
    "# ZZ\n",
    "zz_bar = plt.bar(center, zz, align = 'center', width = width, color = 'b', linewidth = 0, edgecolor = 'black',\n",
    "                 alpha = 0.5, bottom = ttbar+dy, label = r'ZZ')\n",
    "\n",
    "# Mittaukset.\n",
    "data_bar = plt.errorbar(center, hist, xerr = xerrs, yerr = yerrs, linestyle = 'None', color = 'black',\n",
    "                        marker = 'o', label = 'Data')\n",
    "# DY\n",
    "dy_bar = plt.bar(center, dy, align = 'center', width = width, color = 'g', linewidth = 0, edgecolor = 'black',\n",
    "                 alpha = 0.5, bottom = ttbar, label = r'dy $\\rightarrow$ 4l')\n",
    "\n",
    "# ttbar\n",
    "tt_bar = plt.bar(center, ttbar, align = 'center', width = width, color = 'grey', linewidth = 0, edgecolor = 'black',\n",
    "                 alpha = 0.5, label = r'ttbar $\\rightarrow$ 4l')\n",
    "\n",
    "# hzz\n",
    "hzz_bar = plt.bar(center, hzz, align = 'center', width = width, color = 'white', linewidth = 2, edgecolor = 'red',\n",
    "                 alpha = 0.5, bottom=ttbar+dy+zz, label = r'H $\\rightarrow$ ZZ')\n",
    "\n",
    "plt.title('$ \\sqrt{s} = 7$ TeV, L = 2.3 $fb^{-1}$; $\\sqrt{s} = 8$ TeV, L = 11.6 $fb^{-1}$ \\n', fontsize = 12)\n",
    "plt.xlabel('Invariantti massa (GeV)', fontsize = 15)\n",
    "plt.ylabel('Tapahtumia', fontsize = 15)\n",
    "plt.ylim(0,25)\n",
    "plt.xlim(rmin,rmax)\n",
    "plt.legend(fontsize = 15)\n",
    "\n",
    "plt.show()"
   ]
  },
  {
   "cell_type": "markdown",
   "metadata": {},
   "source": [
    "Mitä voit päätellä tuloksista?\n",
    " - Huomaamme, että mittausdata vastaa paljon paremmin simulaatioita, kun oletamme Higgsin bosonin, jonka massa on noin 125 GeV.\n",
    "<br>\n",
    "\n",
    "Vastaavatko saamasi tulokset CMS:n analyysiä?\n",
    " - Käyttämämme menetelmä on hieman karkeampi kuin CMS:n analyysissä, mutta silti tulokset vastaavat melko hyvin toisiaan."
   ]
  }
 ],
 "metadata": {
  "kernelspec": {
   "display_name": "Python 3",
   "language": "python",
   "name": "python3"
  },
  "language_info": {
   "codemirror_mode": {
    "name": "ipython",
    "version": 3
   },
   "file_extension": ".py",
   "mimetype": "text/x-python",
   "name": "python",
   "nbconvert_exporter": "python",
   "pygments_lexer": "ipython3",
   "version": "3.7.3"
  }
 },
 "nbformat": 4,
 "nbformat_minor": 2
}
