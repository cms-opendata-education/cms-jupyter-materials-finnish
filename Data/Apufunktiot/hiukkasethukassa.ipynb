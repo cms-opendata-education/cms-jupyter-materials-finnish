{
 "cells": [
  {
   "cell_type": "code",
   "execution_count": null,
   "metadata": {
    "collapsed": true
   },
   "outputs": [],
   "source": [
    "import matplotlib.image as mpimg\n",
    "img_happy = mpimg.imread('../../Kuvat/kuvitus_2.png')\n",
    "img_fustrated=mpimg.imread('../../Kuvat/kuvitus3.png')"
   ]
  },
  {
   "cell_type": "code",
   "execution_count": null,
   "metadata": {
    "collapsed": true
   },
   "outputs": [],
   "source": [
    "def eventit(tiedosto):\n",
    "    try:\n",
    "        oikea= len(eval(tiedosto))\n",
    "        event=input(\"Montako tapahtumaa datassa on? \\n\")\n",
    "        if event=='skip': return False\n",
    "        elif int(event)==oikea: #eka testi ok\n",
    "            print(\"Oikea vastaus! \\n\")\n",
    "            return False\n",
    "        else: \n",
    "            print(\"Tapahtumien lukumäärä oli väärä, kokeilkaa uudestaan.\")\n",
    "            return True\n",
    "    except:\n",
    "        print(\"Jotain pielessä tarkistuksessa, kysykää assarilta apua.\\n\")\n",
    "        return True   "
   ]
  },
  {
   "cell_type": "code",
   "execution_count": null,
   "metadata": {
    "collapsed": true
   },
   "outputs": [],
   "source": [
    "def maksimiE(tiedosto):\n",
    "    try:\n",
    "        tied= eval(tiedosto)\n",
    "        oikea=max(max(tied['E1']),max(tied['E2']))\n",
    "        melkein=min(max(tied['E1']),max(tied['E2'])) #vain toinen data otettu huomioon\n",
    "        #oppilaan laskema maksimi:\n",
    "        maks = input(\"Myonin maksimi energia datassa? Käyttäkää desimaalierottimena pistettä.\\n\")\n",
    "        if maks=='skip': return False\n",
    "        elif round(float(maks), 2) == round(oikea, 2): \n",
    "            print(\"Oikea vastaus! \\n\")\n",
    "            return False\n",
    "        elif round(float(maks), 2) == round(melkein, 2):\n",
    "            print(\"Muistakaa tutkia molempien myonien Energiat ja palauttakaa kaikista suurin.\\n\")\n",
    "            return True\n",
    "        else: \n",
    "            print(\"Ei ihan, yrittäkää uudestaan.\\n\")\n",
    "            return True\n",
    "    except:\n",
    "        plt.imshow(img_fustrated)\n",
    "        plt.show()\n",
    "        print(\"Jotain pielessä maksimin tarkistuksessa.\\n Olihan desimaalierottimena piste?\\n Pyytäkää assari apuun jos ongelma ei ratkea.\\n\")\n",
    "        return True"
   ]
  },
  {
   "cell_type": "code",
   "execution_count": null,
   "metadata": {
    "collapsed": true
   },
   "outputs": [],
   "source": [
    "def minimiE(tiedosto):\n",
    "    try:\n",
    "        tied= eval(tiedosto)\n",
    "        oikea=min(min(tied['E1']),min(tied['E2']))\n",
    "        melkein=max(min(tied['E1']),min(tied['E2'])) #vain toinen data otettu huomioon\n",
    "        #oppilaan laskema maksimi:\n",
    "        mini = input(\"Mikä oli pienin Myonin energia datassa? Käyttäkää desimaalierottimena pistettä.\\n\")\n",
    "        if mini=='skip': return False\n",
    "        elif round(float(mini), 2) == round(oikea, 2): \n",
    "            print(\"Hienoa! \\n\")\n",
    "            return False\n",
    "        elif round(float(mini), 2) == round(melkein, 2):\n",
    "            print(\"Muistakaa tutkia molmpien myonien Energiat ja palauttakaa kaikista pienin.\\n\")\n",
    "            return True\n",
    "        else: \n",
    "            print(\"Vastaus oli väärä, tarkistakaa että kirjoititte sen oikein.\\n\")\n",
    "            return True\n",
    "    except:\n",
    "        plt.imshow(img_fustrated)\n",
    "        plt.show()\n",
    "        print(\"Jotain meni pieleen minimin tarkistuksessa.\\n Käytittehän pistettä pilkun sijaan? \\n Kysykää assarilta apua jos ongelma ei selviä.\\n\")\n",
    "        return True"
   ]
  },
  {
   "cell_type": "code",
   "execution_count": null,
   "metadata": {
    "collapsed": true
   },
   "outputs": [],
   "source": [
    "def tarkista_arvot():\n",
    "    print('Tällä ohjelmalla voit tarkistaa saamasi arvot.\\n Voit ohittaa kysymyksen vastaamalla \"skip\"\\n\\n')\n",
    "    #oikeat=np.array([[48223, 249.377, 2.66819], [33177, 1131.56, 4.01271], [19519, 165.27, 2.67178], [7915, 202.921, 2.66267], [8270, 308.698, 2.85848], [4106, 221.887, 2.57612]])\n",
    "    nimi_kesken=True\n",
    "    while nimi_kesken==True:\n",
    "        nimi=input('Kirjoita tiedostosi nimi (esim. piikkidata1):\\n') \n",
    "        if nimi in globals():\n",
    "            nimi_kesken=False\n",
    "        elif nimi=='skip':\n",
    "            return print('Tarkistus keskeytetty')\n",
    "        else:\n",
    "            print(\"Tiedoston nimi on virheellinen. Koittakaa uudestaan.\\n\")\n",
    "        \n",
    " \n",
    "    #num=int(nimi[int(len(nimi)-1)])-1\n",
    "    kesken=True\n",
    "    while kesken :\n",
    "        kesken= eventit(tiedosto=nimi)\n",
    "    kesken=True\n",
    "    while kesken :\n",
    "        kesken=maksimiE(tiedosto=nimi)\n",
    "    kesken=True\n",
    "    while kesken :\n",
    "        kesken=minimiE(tiedosto=nimi)\n",
    "    print('Tarkistus päättynyt.')"
   ]
  },
  {
   "cell_type": "code",
   "execution_count": 1,
   "metadata": {
    "collapsed": true
   },
   "outputs": [],
   "source": [
    "def tarkista_inv_massat():\n",
    "    lasketut= None\n",
    "    tiedosto=None\n",
    "    print('Tällä ohjelmalla voit tarkistaa laskitko invariantin massan oikein. Voit keskeyttää tarkistuksen vastaamalla \"skip\" \\n')\n",
    "    \n",
    "    nimi=input('Kirjoita tiedostosi nimi (esim. piikkidata1):')\n",
    "    \n",
    "    while nimi not in globals(): #jos väärä nimi, kysytään uudestaan\n",
    "        if nimi=='skip':\n",
    "            return print('Tarkistus keskeytetty')\n",
    "        else:\n",
    "            print('Tiedoston nimi on virheellinen, tarkistakaa että kirjoititte sen oikein \\n')\n",
    "            nimi=input('Tiedostosi nimi uudestaan (esim. piikkidata1):') \n",
    "            if nimi=='skip':\n",
    "                return print('Tarkistus keskeytetty')\n",
    "   \n",
    "    try:\n",
    "        tiedosto= eval(nimi)\n",
    "        testi=input('\\n Muuttujan nimi johon tallensitte laskemanne invariantin massan arvot:')\n",
    "        if testi=='skip':\n",
    "            return print('Tarkistus keskeytetty')\n",
    "        else:\n",
    "            while testi not in globals():\n",
    "                print('\\n Muuttujan nimi ei vastannut mitään muistin muuttujaa. \\n Tarkistakaa että ajoitte invariantin massan laskutoimituksen, ja tallensitte tulokset juuri tällä nimellä.\\n')\n",
    "                testi=input('Antakaa muuttujan nimi uudestaan: ')\n",
    "                if testi=='skip':\n",
    "                    return print('Tarkistus keskeytetty')\n",
    "            try:\n",
    "                lasketut=eval(testi)\n",
    "                if np.mean(lasketut - tiedosto.M) < 0.000001:\n",
    "                    plt.imshow(img_happy)\n",
    "                    plt.show()\n",
    "                    return print('Hienoa, laskitte invariantin massan oikein!')\n",
    "                else:\n",
    "                    return print('Oi voi, jotain meni laskussa pieleen. Tarkistakaa lasku huolella ja koittakaa sitten uudestaan.')\n",
    "            except: return print('Tarkistuksessa meni jotain pieleen, kysykää neuvoa assarilta.')\n",
    "       \n",
    "    except: \n",
    "        plt.imshow(img_fustrated)\n",
    "        plt.show()\n",
    "        print('Jotain meni pieleen, kysykää neuvoa assarilta.')\n",
    "        "
   ]
  },
  {
   "cell_type": "code",
   "execution_count": null,
   "metadata": {
    "collapsed": true
   },
   "outputs": [],
   "source": []
  }
 ],
 "metadata": {
  "kernelspec": {
   "display_name": "Python 3",
   "language": "python",
   "name": "python3"
  },
  "language_info": {
   "codemirror_mode": {
    "name": "ipython",
    "version": 3
   },
   "file_extension": ".py",
   "mimetype": "text/x-python",
   "name": "python",
   "nbconvert_exporter": "python",
   "pygments_lexer": "ipython3",
   "version": "3.6.3"
  }
 },
 "nbformat": 4,
 "nbformat_minor": 2
}
