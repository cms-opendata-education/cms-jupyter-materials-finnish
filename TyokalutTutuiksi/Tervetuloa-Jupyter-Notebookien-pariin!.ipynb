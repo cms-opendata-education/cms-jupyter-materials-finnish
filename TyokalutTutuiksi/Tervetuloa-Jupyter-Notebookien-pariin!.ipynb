{
 "cells": [
  {
   "cell_type": "markdown",
   "metadata": {},
   "source": [
    "# Tervetuloa käyttämään Jupyter Notebookeja"
   ]
  },
  {
   "cell_type": "markdown",
   "metadata": {},
   "source": [
    "Notebookit ovat interaktiivisia tiedostoja, joiden avulla voi tehdä monenlaisia asioita oppilaiden kanssa. Tässä harjoitteessa tutustumme hieman niiden ominaisuuksiin."
   ]
  },
  {
   "cell_type": "markdown",
   "metadata": {},
   "source": [
    "### Mikä, miksi?"
   ]
  },
  {
   "cell_type": "markdown",
   "metadata": {},
   "source": [
    "Notebookeilla voi melko vaivattomasti yhdistellä tekstiä, kuvia ja ohjelmointikoodia. Tämä mahdollistaa sen, että niillä voidaan tehdä monipuolisia harjoitteita samalla, kun tarjotaan intuitiivinen ja käyttöliittymältään helppo tapa tutustua ohjelmointiin. Yksi tärkeä valtti on myös käyttöönoton helppous: notebookeja voidaan ajaa [Binderin](https://mybinder.org/) avulla suoraan verkkoselaimessa muutamassa minuutissa ilman, että kenenkään tarvitsee asentaa mitään. Binder luo annetusta hakemistosta kopion virtuaaliselle työympäristölle, jossa opiskelija voi vapaasti muokata sitä ja kokeilla erilaisia asioita ilman että alkuperäinen tiedosto muuttuu.\n",
    "\n",
    "Jupyter tukee kymmeniä ohjelmointikieliä, kuten C++:aa tai Rubya, mutta tällä kertaa keskitymme käyttämään pythonia. Python on yleisesti tieteellisessä laskennassakin käytetty ja moneen taipuva kieli, jolla voidaan tehdä suunnilleen kaikkea mitä lukiotason matemaattisilta vaatimuksilta voidaan olettaa."
   ]
  },
  {
   "cell_type": "markdown",
   "metadata": {},
   "source": [
    "### Miten?"
   ]
  },
  {
   "cell_type": "markdown",
   "metadata": {},
   "source": [
    "Kokeile! Klikkaa osia tästä tekstistä.\n",
    "\n",
    "Kuten ehkä huomaat, tämä dokumentti on jaettu *soluihin*. Kuhunkin soluun voi laittaa joko tekstiä (markdown) tai koodia. Soluja klikkailemalla näet, millaisilla merkinnöillä niiden muotoilu on tehty, kuten **tämä lihavointi tässä**. Tarkempia ohjeita löydät [täältä](Jupyter-aloitus.ipynb), mutta tärkeimmät pikaohjeet löydät alta. "
   ]
  },
  {
   "cell_type": "markdown",
   "metadata": {},
   "source": [
    "### Aloitellaas puuhastelu"
   ]
  },
  {
   "cell_type": "markdown",
   "metadata": {},
   "source": [
    "Tietokoneet ovat paljon ihmistä yksinkertaisempia. Jotta ne ymmärtävät mitä ovat laskemassa, niille täytyy kertoa hyvin tarkkaan mitä ollaan tekemässä. Alustetaan ensin vähän tietokonettamme valikoimalla sille käyttöön muutama Pythonin tarvitsema paketti. Huomaa, että kukin koodinpätkä on tässä Notebookissa omana solunaan, jonka saat *ajettua* valitsemalla sen hiirellä ja painamalla *Ctrl+Enter*. Kun vieressä olevassa In [ ] -kohdassa näkyy * , koodia ajetaan. Jos siinä näkyy numero, solu on ajettu.\n",
    "\n",
    "Aja soluja mieluiten ensin järjestyksessä, jotta tietokone ymmärtää muuttujat oikein. Sen jälkeen voit alkaa vapaasti leikkimään ja kokeilemaan mitä koodilla saakaan aikaan. Jos kuitenkin saat notebookin jotenkin solmuun, paina yläriviltä \"Kernel\"-valikosta *Restart & Clear Output*, joka pyyhkii muutokset.\n",
    "\n",
    "Alla oleva ensimmäinen koodisolu on tärkeä, ilman sitä muut eivät välttämättä toimi. **Aja se aina ensin!**\n"
   ]
  },
  {
   "cell_type": "code",
   "execution_count": null,
   "metadata": {},
   "outputs": [],
   "source": [
    "# Olen koodisolu! Risuaidalla merkattu rivi on kommentti, joka tekee koodista ihmiselle luettavampaa.\n",
    "# Aja tämä solu ensin, jotta python tietää mitä sillä ollaan tekemässä (eli haetaan sopivat paketit).\n",
    "\n",
    "import pandas as pd\n",
    "import numpy as np\n",
    "import matplotlib.pyplot as plt\n",
    "import random as rand\n",
    "\n",
    "%matplotlib inline\n"
   ]
  },
  {
   "cell_type": "markdown",
   "metadata": {},
   "source": [
    "Alla on pari yksinkertaista harjoitetta, joilla esitellään vähän työkalun toimintaa. "
   ]
  },
  {
   "cell_type": "markdown",
   "metadata": {},
   "source": [
    "### 1. Peruslaskentaa"
   ]
  },
  {
   "cell_type": "code",
   "execution_count": null,
   "metadata": {},
   "outputs": [],
   "source": [
    "print(2+2)\n",
    "\n",
    "print(2*5)\n",
    "\n",
    "lukuja = [2,10]\n",
    "print(lukuja)\n",
    "\n",
    "# Ajettuasi solun kokeile muokata sitä. Vaihda numeroita toisiksi, käytä eri laskutoimituksia, jne."
   ]
  },
  {
   "cell_type": "code",
   "execution_count": null,
   "metadata": {},
   "outputs": [],
   "source": [
    "# Mikseipä tekstiäkin.\n",
    "\n",
    "lottoarpa = rand.randint(1,100)\n",
    "teksti = 'Päivän voittoarpa on: '\n",
    "print (teksti + repr(lottoarpa))"
   ]
  },
  {
   "cell_type": "markdown",
   "metadata": {},
   "source": [
    "### 2. Kuvaajien tekoa"
   ]
  },
  {
   "cell_type": "markdown",
   "metadata": {},
   "source": [
    "Kuvaajat ovat äärimmäisen käyttökelpoisia opetustyökaluja, mutta niiden tekeminen vie usein turhan pitkään opetustilanteessa. Jupyterin avulla niitä on nopeaa ja helppoa tehdä joko kirjoittamalla itse tai antamalla tietokoneen lukea tiedosto, johon tuloksia on tallennettu."
   ]
  },
  {
   "cell_type": "code",
   "execution_count": null,
   "metadata": {},
   "outputs": [],
   "source": [
    "numeroita = [1,2,3,6,7,8,12,16]\n",
    "plt.plot(numeroita, 'b*')\n",
    "plt.show()\n",
    "\n",
    "# Mitä jos vaihdat 'numeroita'-muuttujan sisällä olevia lukuja? Mitä käy jos kokeilet plot-funktion argumentiksi 'bo':n\n",
    "# sijaan vaikkapa 'rs' tai 'go'?"
   ]
  },
  {
   "cell_type": "code",
   "execution_count": null,
   "metadata": {},
   "outputs": [],
   "source": [
    "# Määritellään muuttuja.\n",
    "\n",
    "ikavuodet = [14,15,14,16,17,16,14,15,16,16,14,15,15,12,34,12,15,16,16]\n",
    "\n",
    "# Piirretään histogrammi. Jos muutit ikävuosia, saatat joutua muuttamaan tästä osaa 'range'. Tai poistamaan sen?\n",
    "\n",
    "plt.hist(ikavuodet, bins=100, range=(10,40))\n",
    "\n",
    "# Näillä riveillä ainoastaan määritellään otsikko sekä akseleiden tekstit.\n",
    "\n",
    "plt.xlabel('Ikävuodet')\n",
    "plt.ylabel('Lukumäärä')\n",
    "plt.title('Porukan ikäjakauma \\n') # \\n luo uuden rivin otsikon muotoilua varten\n",
    "\n",
    "# Tehdään kuvaaja näkyväksi näin.\n",
    "\n",
    "plt.show()"
   ]
  },
  {
   "cell_type": "markdown",
   "metadata": {},
   "source": [
    "### 3. Kuvaajien tekoa (tiedostosta)"
   ]
  },
  {
   "cell_type": "markdown",
   "metadata": {},
   "source": [
    "Haetaan tähän jotain dataa tutkittavaksi, esimerkiksi auringon aktiivisuudesta vuodesta 1992 tähän päivään. Datassa ei tullut mukana selitteitä, mutta [täältä](http://sidc.oma.be/silso/infosndhem) nähdään mitä kukin sarake tarkoittaa. Tarkastellaan niistä nyt auringonpilkkujen määrää: sarakkeessa 4 on päivän koko määrä, sarakkeessa 5 pohjoinen puolisko ja 6 eteläinen. Luku on efektiivinen eikä absoluuttinen, sillä isommat pilkut vastaavat montaa pienempää kun lasketaan Auringon aktiivisuutta."
   ]
  },
  {
   "cell_type": "code",
   "execution_count": null,
   "metadata": {},
   "outputs": [],
   "source": [
    "aurinko = pd.read_table('http://sidc.oma.be/silso/INFO/sndhemcsv.php', sep=';', encoding = \"ISO-8859-1\", header = None)"
   ]
  },
  {
   "cell_type": "code",
   "execution_count": null,
   "metadata": {},
   "outputs": [],
   "source": [
    "# Katsotaan miltä data näyttää.\n",
    "\n",
    "aurinko.head()"
   ]
  },
  {
   "cell_type": "code",
   "execution_count": null,
   "metadata": {},
   "outputs": [],
   "source": [
    "# Piirretään aika-määrä -kuvaaja.\n",
    "\n",
    "fig = plt.figure(figsize=(15, 4))\n",
    "plt.scatter(aurinko[3],aurinko[4], s=0.1)\n",
    "\n",
    "# Otsikoidaan se.\n",
    "\n",
    "plt.title(\"Auringonpilkkujen aktiivisuus \\n\")\n",
    "plt.ylabel('Päivittäisten pilkkujen lukumäärä')\n",
    "plt.xlabel('Vuosi')\n",
    "\n",
    "plt.show()"
   ]
  },
  {
   "cell_type": "code",
   "execution_count": null,
   "metadata": {},
   "outputs": [],
   "source": [
    "# Tarkastellaan erikseen pohjoista ja eteläistä puoliskoa Auringosta.\n",
    "# Piirretään aika-määrä -kuvaajat.\n",
    "\n",
    "fig = plt.figure(figsize=(15, 4))\n",
    "plt.scatter(aurinko[3],aurinko[5], s=0.5, label='Pohjoinen', alpha=0.5)\n",
    "plt.scatter(aurinko[3],aurinko[6], s=0.5, label='Eteläinen', alpha=0.5)\n",
    "\n",
    "# Otsikoidaan ne.\n",
    "\n",
    "plt.title(\"Auringonpilkkujen aktiivisuus \\n\")\n",
    "plt.ylabel('Päivittäisten pilkkujen lukumäärä')\n",
    "plt.xlabel('Vuosi')\n",
    "\n",
    "plt.legend(loc='upper right')\n",
    "\n",
    "plt.show()"
   ]
  },
  {
   "cell_type": "markdown",
   "metadata": {},
   "source": [
    "### 4. Omaa puuhaa"
   ]
  },
  {
   "cell_type": "markdown",
   "metadata": {},
   "source": [
    "Kirjoita tähän jotain omiin mielenkiinnon kohteisiisi liittyvää. Hae Googlella kuva tai pari ja kokeile miten ne sopivat tekstin sekaan."
   ]
  },
  {
   "cell_type": "code",
   "execution_count": null,
   "metadata": {},
   "outputs": [],
   "source": [
    "# Kirjoita tähän jokin komento."
   ]
  },
  {
   "cell_type": "markdown",
   "metadata": {},
   "source": [
    "Antoisaa puuhastelua Jupyterin kanssa!"
   ]
  }
 ],
 "metadata": {
  "kernelspec": {
   "display_name": "Python 3",
   "language": "python",
   "name": "python3"
  },
  "language_info": {
   "codemirror_mode": {
    "name": "ipython",
    "version": 3
   },
   "file_extension": ".py",
   "mimetype": "text/x-python",
   "name": "python",
   "nbconvert_exporter": "python",
   "pygments_lexer": "ipython3",
   "version": "3.6.5"
  }
 },
 "nbformat": 4,
 "nbformat_minor": 2
}
