{
 "cells": [
  {
   "cell_type": "markdown",
   "metadata": {},
   "source": [
    "# Data ja äänet - tieteen ja musiikin välimailla"
   ]
  },
  {
   "cell_type": "markdown",
   "metadata": {},
   "source": [
    "Tieteen ja taiteen välillä on kiintoisa suhde, josta koko ihmiskunta on saanut hyötyä ja nauttia koko historiamme ajan. Tässä harjoitteessa vilkaisemme hieman miten voisimme tuottaa ääntä informaatiosta, jota ei todellakaan ole tarkoitettu moiseen, toisin kuin vaikkapa musiikinsävellyksessä. Musiikki ja muutkin äänet ovat raaimmassa muodossaan vain paineaaltoja, jotka siirtävät tiettyä informaatiota aivoihimme, olkoonkin vaikka kaunista sellaista. Jos tuota informaatiota muutetaan, muuttuu samalla kuulemamme äänikin.\n",
    "\n",
    "Päivän lukuvinkkinä, miten olisi [LHC:n fysiikan tutkiskelua pianomusiikiksi muuttaen](https://phys.org/news/2017-05-lhc-piano-music.html) tai sonifikaatiolla [musiikiksi muutettujen hiukkastörmäysten](https://www.youtube.com/watch?v=gPmQcviT-R4) kuuntelua?"
   ]
  },
  {
   "cell_type": "markdown",
   "metadata": {},
   "source": [
    "### Työkalujen tuonti"
   ]
  },
  {
   "cell_type": "code",
   "execution_count": null,
   "metadata": {},
   "outputs": [],
   "source": [
    "import pandas as pd\n",
    "import numpy as np\n",
    "import matplotlib.pyplot as plt\n",
    "\n",
    "from IPython import display\n",
    "\n",
    "%matplotlib inline"
   ]
  },
  {
   "cell_type": "code",
   "execution_count": null,
   "metadata": {},
   "outputs": [],
   "source": [
    "# Dataa, missä on kaksi myonia tuottaneita törmäyksiä.\n",
    "\n",
    "muons = pd.read_csv('http://opendata.cern.ch/record/545/files/Dimuon_DoubleMu.csv')"
   ]
  },
  {
   "cell_type": "markdown",
   "metadata": {},
   "source": [
    "### Äänen tuottaminen"
   ]
  },
  {
   "cell_type": "markdown",
   "metadata": {},
   "source": [
    "Äänet ovat aaltoja, joten luodaan ensin halutunlainen siniaalto pohjaksi. Alla on ihan vain esimerkkinä heitetty aalto, jota voit muokata miten tahdot."
   ]
  },
  {
   "cell_type": "code",
   "execution_count": null,
   "metadata": {},
   "outputs": [],
   "source": [
    "lngth = 40; base_freq = 220; rate = 44100\n",
    "ts = np.arange(0, lngth, step=lngth/2/rate)\n",
    "sweep = np.sqrt((lngth-ts)) * (np.sin(base_freq*ts**2) + np.sin(base_freq*np.power(2, 5/12)*ts**2))\n",
    "\n",
    "display.Audio(sweep, rate=rate/5)"
   ]
  },
  {
   "cell_type": "markdown",
   "metadata": {},
   "source": [
    "Ja sitten tehdään siitä kiintoisampaa, eli muokataan mittauksista saatua dataamme tehdäksemme jotain samanlaista. Jos data ei ole aalto, mitenkähän saisimme tehtyä siitä sellaisen?"
   ]
  },
  {
   "cell_type": "code",
   "execution_count": null,
   "metadata": {},
   "outputs": [],
   "source": [
    "# Vilkaistaas miltä datamme näyttää.\n",
    "\n",
    "plt.figure(figsize = (15,5))\n",
    "plt.hist(muons.M, bins = 500, range=(0,130))\n",
    "plt.xlabel(\"Invariantti massa (GeV)\", fontsize = 15)\n",
    "plt.ylabel(\"Tapahtumien lukumäärä \\n\", fontsize = 15)\n",
    "plt.show()"
   ]
  },
  {
   "cell_type": "markdown",
   "metadata": {},
   "source": [
    "Nyt otamme datasta invarianttien massojen osan, jaottelemme ne ylläolevan histogrammin tavoin tiettyihin väleihin ja käytämme näiden suhteellisia kokoja amplifioidaksemme pohja-aaltoamme niin, että saamme aikaan äänen joka tuntuu \"ryömivän\" kuvaajan pintaa pitkin. Kun olet saanut tehtyä harjoitteessa olevat pohjustukset, mitä jos kokeilisit samaa jollekin muille muuttujille tiedoissamme, kuten energioille tai liikemäärille?"
   ]
  },
  {
   "cell_type": "code",
   "execution_count": null,
   "metadata": {},
   "outputs": [],
   "source": [
    "cut = muons.M\n",
    "lngth = len(cut); base_freq = 440; rate = 44100/2"
   ]
  },
  {
   "cell_type": "code",
   "execution_count": null,
   "metadata": {},
   "outputs": [],
   "source": [
    "hist, edges = np.histogram(cut, bins = 500)"
   ]
  },
  {
   "cell_type": "code",
   "execution_count": null,
   "metadata": {},
   "outputs": [],
   "source": [
    "a = []\n",
    "\n",
    "for x in range(0, len(hist)):\n",
    "    b = hist[x]*np.ones(hist[x])\n",
    "    a = np.append(a,b)"
   ]
  },
  {
   "cell_type": "code",
   "execution_count": null,
   "metadata": {},
   "outputs": [],
   "source": [
    "ts = cut.sort_values()"
   ]
  },
  {
   "cell_type": "code",
   "execution_count": null,
   "metadata": {},
   "outputs": [],
   "source": [
    "# sweep = np.sqrt((lngth-ts)) * (np.sin(base_freq*ts**2) + np.sin(base_freq*np.power(2, 5/12)*ts**2))\n",
    "# sweep = a * (np.sin(base_freq*ts**2) + np.sin(base_freq*np.power(2, 5/12)*ts**2))\n",
    "# sweep = a * (np.sin(base_freq*ts**2) + np.sin(base_freq*np.power(2, 5/12)*ts**2) \n",
    "#            + np.cos(base_freq*np.power(2, 5/12)*ts**2))\n",
    "# Yllä on pari vaihtoehtoista esimerkkiaaltoa, voit kokeilla niitäkin tai tehdä omasi.\n",
    "\n",
    "sweep = a * np.sin(base_freq*ts**2)\n",
    "display.Audio(sweep, rate=rate)"
   ]
  },
  {
   "cell_type": "markdown",
   "metadata": {},
   "source": [
    "Muistuttaako ääni jotakin? Kuuletko, miten eri massat eroavat toisistaan? Mitä tapahtuu, jos kokeilet eri taajuuksia tai erilaisia aaltopohjia?"
   ]
  },
  {
   "cell_type": "markdown",
   "metadata": {},
   "source": [
    "Tässä alla on vielä kuva äsken kuulemastasi aallosta. Miten se vertautuu histogrammiin datasta, jonka avulla se tehtiin?"
   ]
  },
  {
   "cell_type": "code",
   "execution_count": null,
   "metadata": {},
   "outputs": [],
   "source": [
    "plt.figure(figsize = (200,10)) \n",
    "x = np.linspace(0, 1000, len(cut))\n",
    "plt.plot(x,sweep)\n",
    "plt.show()"
   ]
  }
 ],
 "metadata": {
  "kernelspec": {
   "display_name": "Python 3",
   "language": "python",
   "name": "python3"
  },
  "language_info": {
   "codemirror_mode": {
    "name": "ipython",
    "version": 3
   },
   "file_extension": ".py",
   "mimetype": "text/x-python",
   "name": "python",
   "nbconvert_exporter": "python",
   "pygments_lexer": "ipython3",
   "version": "3.6.5"
  }
 },
 "nbformat": 4,
 "nbformat_minor": 2
}
