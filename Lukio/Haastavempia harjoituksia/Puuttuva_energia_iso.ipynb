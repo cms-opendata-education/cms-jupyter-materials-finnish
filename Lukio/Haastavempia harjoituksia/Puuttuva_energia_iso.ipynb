{
 "cells": [
  {
   "cell_type": "markdown",
   "metadata": {},
   "source": [
    "# \"Puuttuva energia\" - havaintoja havaitsemattomista"
   ]
  },
  {
   "cell_type": "markdown",
   "metadata": {},
   "source": [
    "Joskus tieteellisessä työssä päästään tuloksiin niin sanottujen epäsuorien havaintojen kautta. Hiukkasfysiikassa hyvä esimerkki löytyy tilanteista, joissa havaitaan reaktiotuotteita, joiden liikesuunnat ja -määrät eivät täsmää säilymislakien kanssa. Jos syntynyt hiukkanen on lähtenyt vaikkapa suorassa kulmassa poispäin suihkun suunnasta, on säilymislakien mukaan oltava myös jotain vastakkaiseen suuntaan lähtenyttä.\n",
    "\n",
    "Hiukkasilmaisimissa nähdään suuri joukko erilaisia otuksia, mutta eräs alkeishiukkaslaji on niin heikosti vuorovaikuttava, ettei sitä saa suoraan havainnoitua näillä työkaluilla: neutriinot. Neutriinoja syntyy monissa vuorovaikutuksissa (kuten Auringon fuusioreaktioissa), joista esimerkiksi CMS- ja ATLAS-kokeissa voidaan nähdä muita hiukkasia. Kun näiden jäljet rekonstruoidaan, voidaan niistä laskea ns. \"missing transverse energy\", eli puuttuva poikittaisliikemäärä, joka on kulkeutunut neutriinon mukana pois.\n",
    "\n",
    "Tyypillinen tapaus on esimerkiksi W-bosonin välittämä pionin hajoaminen myoniksi ja neutriinoksi.\n",
    "<img src=\"https://qph.fs.quoracdn.net/main-qimg-a81c76c0ac5dc30bc3e8220ee84f6f6e\">"
   ]
  },
  {
   "cell_type": "code",
   "execution_count": null,
   "metadata": {},
   "outputs": [],
   "source": [
    "import pandas as pd\n",
    "import matplotlib.pyplot as plt\n",
    "import numpy as np\n",
    "\n",
    "%matplotlib inline"
   ]
  },
  {
   "cell_type": "code",
   "execution_count": null,
   "metadata": {},
   "outputs": [],
   "source": [
    "# HUOM!\n",
    "# Tämä tiedosto on sen verran iso, että sen tarkastelu on parasta tehdä lokaalisti omalla koneella ajettuna. Jos \n",
    "# sinulla on nopea verkkoyhteys, voit kokeilla alla kommentoitua suoralinkkiä.\n",
    "\n",
    "data = pd.read_csv(\"SingleMuonMet.csv\")\n",
    "\n",
    "# data = pd.read_csv('http://kati.web.cern.ch/kati/SingleMuonMet.csv') löytyy myös suoraan verkon kautta, mutta on\n",
    "# 75 megatavun kokoinen ja latautumisessa voi kestää kauan. Parhaiten tietoihin pääsee käsiksi lataamalla datan ja\n",
    "# tämän notebookin omalle koneelleen, josta niitä voi ajaa Jupyterin, Anaconcan tai vastaavan ympäristön kautta."
   ]
  },
  {
   "cell_type": "code",
   "execution_count": null,
   "metadata": {},
   "outputs": [],
   "source": [
    "# Levennetään set_optionsin kautta näkyvien sarakkeiden määrää.\n",
    "\n",
    "pd.set_option('display.max_columns', None)\n",
    "data.head()"
   ]
  },
  {
   "cell_type": "code",
   "execution_count": null,
   "metadata": {},
   "outputs": [],
   "source": [
    "# Havaittujen tapausten määrä.\n",
    "\n",
    "len(data)"
   ]
  },
  {
   "cell_type": "code",
   "execution_count": null,
   "metadata": {},
   "outputs": [],
   "source": [
    "# Tapaukset, joissa havaittiin vain yksi hiukkanen. Oliko näissä siis varmasti mukana neutriinoa vai ei?\n",
    "\n",
    "len(data[data.E2 == 0])"
   ]
  },
  {
   "cell_type": "code",
   "execution_count": null,
   "metadata": {
    "scrolled": true
   },
   "outputs": [],
   "source": [
    "plt.figure(figsize = (15,5))\n",
    "\n",
    "plt.scatter(data.pt1, data.pt2, s = 1, label = 'Poikittaisliikemäärä')\n",
    "\n",
    "plt.xlabel(\"\\n Ensimmäisen hiukkasen poikittaisliikemäärä\")\n",
    "plt.ylabel(\"Toisen hiukkasen poikittaisliikemäärä \\n\")\n",
    "plt.ylim(0,300)\n",
    "plt.xlim(0,1000)\n",
    "\n",
    "plt.legend(fontsize = 20)\n",
    "plt.show()"
   ]
  },
  {
   "cell_type": "code",
   "execution_count": null,
   "metadata": {},
   "outputs": [],
   "source": [
    "# Tässä lasketaan invariantit massat kullekin tapaukselle.\n",
    "\n",
    "mass_squared = (data.E1 + data.E2)**2 - ((data.px1 + data.px2)**2 +(data.py1 + data.py2)**2  +(data.pz1 + data.pz2)**2)\n",
    "\n",
    "mass_squared_pos = np.ones(len(mass_squared))\n",
    "\n",
    "# Tämä silmukka huolehtii tulosten positiivisuudesta. Miksi on tärkeää, että luku ei ole negatiivinen? \n",
    "\n",
    "for i in range(0,len(mass_squared)):\n",
    "    if (mass_squared[i] > 0):\n",
    "        mass_squared_pos[i] = mass_squared[i]\n",
    "    else:\n",
    "        mass_squared_pos[i] = float('nan')\n",
    "        \n",
    "\n",
    "# Tässä lasketut tulokset liitetään alkuperäiseen dataan uutena sarakkeena M.\n",
    "        \n",
    "data['M'] = np.sqrt(mass_squared_pos)"
   ]
  },
  {
   "cell_type": "code",
   "execution_count": null,
   "metadata": {},
   "outputs": [],
   "source": [
    "# Tässä nähdään tietty osa tuloksista. Millaiset tapaukset annettu ehtolauseke ottaa mukaan?\n",
    "\n",
    "data2 = data[data.E2 != 0]"
   ]
  },
  {
   "cell_type": "code",
   "execution_count": null,
   "metadata": {},
   "outputs": [],
   "source": [
    "data2.head(20)"
   ]
  },
  {
   "cell_type": "code",
   "execution_count": null,
   "metadata": {},
   "outputs": [],
   "source": [
    "len(data2)"
   ]
  },
  {
   "cell_type": "code",
   "execution_count": null,
   "metadata": {},
   "outputs": [],
   "source": [
    "# Tässä tehdään kuvaaja koko saatavilla olevasta datasta. Huomaatko siellä kiinnostavia alueita? \n",
    "\n",
    "plt.figure(figsize = (15,5))\n",
    "\n",
    "# Muokkaa tästä range-parametria vaihtaaksesi tarkastelualuetta sekä bins-arvoa muuttaaksesi kuvaajan tarkkuutta.\n",
    "# Tarkastele ainakin välejä 0-0.2 sekä 80-100.\n",
    "\n",
    "plt.hist(data.M[~np.isnan(data.M)], bins = 100, range = (0, 120))\n",
    "\n",
    "plt.xlabel(\"\\n Invariantti massa (GeV)\")\n",
    "plt.ylabel(\"Tapahtumien määrä \\n\")\n",
    "\n",
    "plt.show()"
   ]
  },
  {
   "cell_type": "code",
   "execution_count": null,
   "metadata": {},
   "outputs": [],
   "source": [
    "# Otetaas mukaan toinen vertailusetti, jossa on ajon 2011A tuloksia, missä havaittiin kaksi myonia.\n",
    "\n",
    "dimuon = pd.read_csv('http://opendata.cern.ch/record/545/files/Dimuon_DoubleMu.csv')"
   ]
  },
  {
   "cell_type": "code",
   "execution_count": null,
   "metadata": {},
   "outputs": [],
   "source": [
    "# Havaitsetko yhtäläisyyksiä? Mistä moiset voisivat johtua?\n",
    "\n",
    "plt.figure(figsize = (15,5))\n",
    "\n",
    "plt.hist(dimuon.M[~np.isnan(dimuon.M)], bins = 200, range = (80,100))\n",
    "\n",
    "plt.xlabel(\"\\n Invariantti massa (GeV)\")\n",
    "plt.ylabel(\"Tapahtumien määrä \\n\")\n",
    "plt.show()"
   ]
  }
 ],
 "metadata": {
  "kernelspec": {
   "display_name": "Python 3",
   "language": "python",
   "name": "python3"
  },
  "language_info": {
   "codemirror_mode": {
    "name": "ipython",
    "version": 3
   },
   "file_extension": ".py",
   "mimetype": "text/x-python",
   "name": "python",
   "nbconvert_exporter": "python",
   "pygments_lexer": "ipython3",
   "version": "3.6.5"
  }
 },
 "nbformat": 4,
 "nbformat_minor": 2
}
