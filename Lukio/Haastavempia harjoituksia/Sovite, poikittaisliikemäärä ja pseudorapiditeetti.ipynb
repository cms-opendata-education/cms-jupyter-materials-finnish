{
 "cells": [
  {
   "cell_type": "markdown",
   "metadata": {},
   "source": [
    "# Sovitteen tekeminen ja poikittaisliikemäärä+pseudorapiditeetti"
   ]
  },
  {
   "cell_type": "markdown",
   "metadata": {},
   "source": [
    "Tämän harjoitteen tarkoituksena on oppia tekemään normaalijakaumaa noudattava sovite datalle, sekä tutustutaan hieman poikittaisliikemäärän ja pseudorapiditeetin käsitteisiin. Käytettävä data on [CMS](https://home.cern/about/experiments/cms)-kokeen avointa dataa."
   ]
  },
  {
   "cell_type": "markdown",
   "metadata": {},
   "source": [
    "### Ensin sovitteen tekeminen"
   ]
  },
  {
   "cell_type": "markdown",
   "metadata": {},
   "source": [
    "Piirretään aluksi histogrammi valitusta datasta, jotta nähdään mahdolliset kiinnostavat kohdat (ts. mille osalle sovite\n",
    "halutaan tehdä), sekä ladataan tarvittavat moduulit, data yms."
   ]
  },
  {
   "cell_type": "code",
   "execution_count": null,
   "metadata": {},
   "outputs": [],
   "source": [
    "# Tarvitaan normaalijakauman (sovitteen) selvittämiseksi\n",
    "from scipy.stats import norm\n",
    "\n",
    "import pandas as pd\n",
    "import numpy as np\n",
    "import matplotlib.mlab as mlab\n",
    "import matplotlib.pyplot as plt"
   ]
  },
  {
   "cell_type": "code",
   "execution_count": null,
   "metadata": {},
   "outputs": [],
   "source": [
    "# Valitaan Dimuon_DoubleMu tarkasteltavaksi dataksi\n",
    "data = pd.read_csv('..\\Data\\Dimuon_DoubleMu.csv')\n",
    "\n",
    "# Lasketaan invariantti massa, mikäli avattu data ei sitä sisällä\n",
    "data['M'] = np.sqrt(2*data.pt1*data.pt2*(np.cosh(data.eta1-data.eta2) - \n",
    "                    np.cos(data.phi1-data.phi2)))\n",
    "\n",
    "# Tallennetaan kaikki invariantit massat iMass muuttujaan\n",
    "iMass = data['M']\n",
    "\n",
    "# Piirretään invariantin massan histogrammi\n",
    "n, bins, patches = plt.hist(iMass, 300, facecolor='g')\n",
    "plt.xlabel('invMass (GeV)')\n",
    "plt.ylabel('Määrä')\n",
    "plt.title('Invariantin massan histogrammi')\n",
    "\n",
    "plt.show()"
   ]
  },
  {
   "cell_type": "markdown",
   "metadata": {},
   "source": [
    "90 GeVin kieppeillä näyttäisi olevan piikki, rajataan haluttu data sinne."
   ]
  },
  {
   "cell_type": "code",
   "execution_count": null,
   "metadata": {
    "scrolled": true
   },
   "outputs": [],
   "source": [
    "min = 85\n",
    "max = 97\n",
    "\n",
    "# Rajataan haluttu alue. rajMass sisältää nyt kaikki massat, jotka jäävät min ja max arvojen välille\n",
    "rajMass = iMass[(min < iMass) & (iMass < max)]\n",
    "\n",
    "# Lasketaan normaalijakauman µ & sigma käyttäen scipyn norm.fit-funktiota\n",
    "(mu, sigma) = norm.fit(rajMass)\n",
    "\n",
    "# Histogrammi rajatusta datasta. Huomaa, että tässä data on normalisoitu (density)\n",
    "n, bins, patches = plt.hist(rajMass, 300, density = 1, facecolor='g')\n",
    "\n",
    "# mlab.normpdf laskee normaalijakauman y-arvon annetuilla µ:llä ja sigmalla,\n",
    "# piirretään samaan kuvaan histogrammin kanssa myös normaalijakauma\n",
    "y = norm.pdf(bins, mu, sigma)\n",
    "l = plt.plot(bins, y, 'r-.', linewidth=3)\n",
    "\n",
    "\n",
    "plt.xlabel('invMass (GeV)')\n",
    "plt.ylabel('Todennäköisyys')\n",
    "plt.title(r'$\\mathrm{Histogrammi\\ ja\\ sovite,\\ missä:}\\ \\mu=%.3f,\\ \\sigma=%.3f$' %(mu, sigma))\n",
    "\n",
    "plt.show()"
   ]
  },
  {
   "cell_type": "markdown",
   "metadata": {},
   "source": [
    "Noudattaako invariantin massan jakauma normaalijakaumaa?\n",
    "\n",
    "Miten datan rajaaminen vaikuttaa jakaumaan? (Kokeile rajata dataa eri tavoin muuttamalla min ja max arvoja)\n",
    "\n",
    "\n",
    "Entä miksi data täytyy normalisoida? (Testaa itse miten kuvaaja muuttuu jos poistat normalisoinnin (koodissa siis density))"
   ]
  },
  {
   "cell_type": "markdown",
   "metadata": {},
   "source": [
    "## Ja sitten poikittaisliikemääristä ja pseudorapiditeetista"
   ]
  },
  {
   "cell_type": "markdown",
   "metadata": {},
   "source": [
    "Poikittaisliikemäärällä  $ p_t$ tarkoitetaan liikemäärää, joka on kohtisuorassa säteen kulkusuuntaan nähden. Se on laskettavissa\n",
    "x- ja y -suuntaisista liikemääristä tuttuun tapaan vektorianalyysiä käyttäen, mutta sen suuruus löytyy myös suoraan ladatusta datasta.\n",
    "\n",
    "Pseudorapiditeettia kuvaa datassa oleva sarake Eta $(\\eta)$, ja se käytännössä kertoo hiukkasen kulman suhteessa säteeseen. Myöhemmin vastaan tuleva kuva esittää $\\eta$:n ja kulman suhteen hieman tarkemmin."
   ]
  },
  {
   "cell_type": "markdown",
   "metadata": {},
   "source": [
    "Tarkastellaan ensin miltä poikittaisliikemäärien jakauma näyttää"
   ]
  },
  {
   "cell_type": "code",
   "execution_count": null,
   "metadata": {},
   "outputs": [],
   "source": [
    "# Muuttuja allPt sisältää nyt kaikki poikittaisliikemäärät\n",
    "allPt = pd.concat([data.pt1, data.pt2]) \n",
    "# pandas paketin concat-komento (concatenate) yhdistää valitut tiedot\n",
    "# (concat palauttaa tässä DataFrame tyyppisen muuttujan, tässä tapauksessa se tosin sisältää vain yhden \n",
    "# nimeämättömän sarakkeen, joten myöhemmin ei tarvitse valita haluamaansa saraketta allPt-muuttujasta)R\n",
    "\n",
    "\n",
    "# Piirretään histogrammi näistä\n",
    "\n",
    "plt.hist(allPt, bins=400, range = (0,50))\n",
    "plt.xlabel('$p_t$ (GeV)', fontsize = 12)\n",
    "plt.ylabel('Määrä', fontsize = 12)\n",
    "plt.title('Histogrammi poikittaisliikemääristä', fontsize = 15)\n",
    "\n",
    "plt.show()"
   ]
  },
  {
   "cell_type": "markdown",
   "metadata": {},
   "source": [
    "Näyttäisi siltä, että suurin osa arvoista sijoittuu välille [0,10]. Käytetään tätä rajaamaan seuraavaksi piirrettävää dataa"
   ]
  },
  {
   "cell_type": "code",
   "execution_count": null,
   "metadata": {},
   "outputs": [],
   "source": [
    "# ehto määrittää, minkä energian alapuolella olevat tapahtumat valitaan (pt < ehto)\n",
    "ehto = 10\n",
    "\n",
    "# sPt = data[(np.absolute(data.pt1) > ehto) & (np.absolute(data.pt2) > ehto)]\n",
    "pPt = data[(data.pt1 < ehto) & (data.pt2 < ehto)]\n",
    "\n",
    "# Tallennetaan kaikki käsiteltävät etat ja poikittaisliikemäärät muuttujiin\n",
    "allpPt = pd.concat([pPt.pt1, pPt.pt2])\n",
    "allEta = pd.concat([pPt.eta1, pPt.eta2])"
   ]
  },
  {
   "cell_type": "code",
   "execution_count": null,
   "metadata": {
    "scrolled": false
   },
   "outputs": [],
   "source": [
    "# ja piirretään niistä scatterplot\n",
    "\n",
    "plt.scatter(allEta, allpPt, s=1)\n",
    "\n",
    "plt.ylabel('$p_t$ (GeV)', fontsize=13)\n",
    "plt.xlabel('Pseudorapiditeetti ($\\eta$)', fontsize=13)\n",
    "plt.title('Poikittaisliikemäärä ($p_t$) vs. pseudorapiditeetti', fontsize=15)\n",
    "\n",
    "plt.show()"
   ]
  },
  {
   "cell_type": "markdown",
   "metadata": {},
   "source": [
    "<img src = \"https://upload.wikimedia.org/wikipedia/commons/thumb/9/93/Pseudorapidity.svg/800px-Pseudorapidity.svg.png\"\n",
    "alt = \"Pseudorapiditeetti\" style = \"height: 300px\" align=\"left\">\n",
    "\n",
    "Vasemmalla olevasta kuvasta näkee pseudorapiditeetin ($\\eta$) ja kulman ($\\theta$) välisen yhteyden (jos $\\eta = 0$, niin tapahtuma on\n",
    "kohtisuorassa säteen kulkusuuntaan nähden).\n",
    "\n",
    "Vertaile tätä kuvaa yllä olevaan kuvaajaan ja pohdi alla olevia kysymyksiä.\n",
    "\n",
    "### Kysymyksiä\n",
    "\n",
    "Mistä kuvaajan muoto johtuu? Miksei pieniliikemääräisiä hiukkasia havaita $\\eta$:n arvoilla [-1,1]?\n",
    "\n",
    "Miksi poikittaisliikemäärän käsite ylipäätään on kiinnostava?"
   ]
  }
 ],
 "metadata": {
  "kernelspec": {
   "display_name": "Python 3",
   "language": "python",
   "name": "python3"
  },
  "language_info": {
   "codemirror_mode": {
    "name": "ipython",
    "version": 3
   },
   "file_extension": ".py",
   "mimetype": "text/x-python",
   "name": "python",
   "nbconvert_exporter": "python",
   "pygments_lexer": "ipython3",
   "version": "3.6.4"
  }
 },
 "nbformat": 4,
 "nbformat_minor": 2
}
