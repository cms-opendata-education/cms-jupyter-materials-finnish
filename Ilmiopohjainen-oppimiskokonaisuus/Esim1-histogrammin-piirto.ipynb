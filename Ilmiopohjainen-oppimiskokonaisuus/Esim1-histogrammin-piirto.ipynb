{
 "cells": [
  {
   "cell_type": "markdown",
   "metadata": {},
   "source": [
    "# Invariantin massan histogrammin piirtäminen"
   ]
  },
  {
   "cell_type": "markdown",
   "metadata": {},
   "source": [
    "Tässä harjoituksessa opetellaan piirtämään invariantin massan histogrammi Pythonilla. Aineistona käytetään CMS-kokeen vuonna 2011 keräämää dataa hiukkastörmäyksistä, joissa on havaittu kaksi myonia [1]. Tässä harjoituksessa käytettävään CSV-tiedostoon on karsittu edellä mainitusta datasta kiinnostavia tapahtumia, joissa myoneille laskettu invariantti massa on välillä 8–12 GeV [2].\n",
    "\n",
    "Tutustu alla oleviin koodisoluihin ja niissä #-merkillä erotettuihin kommenttiriveihin sekä aja koodia. Huomaa, että normaalisti koodia ei kommentoitaisi näin runsaasti, nyt vain on erityisesti haluttu antaa lisätietoa käytetyistä komennoista.\n",
    "<br>\n",
    "<br>\n",
    "<br>\n",
    "<small>\n",
    "[1]  CMS collaboration (2016). DoubleMu primary dataset in AOD format from RunA of 2011 (/DoubleMu/Run2011A-12Oct2013-v1/AOD). CERN Open Data Portal. DOI: [10.7483/OPENDATA.CMS.RZ34.QR6N](http://doi.org/10.7483/OPENDATA.CMS.RZ34.QR6N).\n",
    "<br>\n",
    "[2] Thomas McCauley (2016). Ymumu. Jupyter Notebook file. https://github.com/tpmccauley/cmsopendata-jupyter/blob/hst-0.1/Ymumu.ipynb.\n",
    "</small>"
   ]
  },
  {
   "cell_type": "markdown",
   "metadata": {},
   "source": [
    "## Lyhyesti teoriaa"
   ]
  },
  {
   "cell_type": "markdown",
   "metadata": {},
   "source": [
    "Kuten aiemmin on opittu, maailmassamme on erilaisia säilymislakeja, joiden avulla voidaan selittää fysikaalisia ilmiöitä. Mentäessä pienempiin kokoluokkiin aina hiukkastasolle asti, tarvitaan erilaisia säilymislakeja ilmiöiden tarkasteluun. Yksi hiukkastasolla säilyvistä suureista on nimeltään *invariantti massa* $M$, joka voidaan laskea CMS-ilmaisimen tuottamasta mittausdatasta. On kuitenkin syytä huomata, että invariantti massa on matemaattinen käsite, ei siis fysikaalinen massa.\n",
    "\n",
    "Otetaan esimerkiksi tilanne, jossa hiukkanen A hajoaa kahdeksi hiukkaseksi B ja C niin nopeasti, ettei hiukkasta A ehditä havaita. Invariantin massan käsitteen avulla on edelleen mahdollista selvittää hiukkasen A massa, sillä hiukkasten B ja C invariantti massa on yhtäsuuri kuin hiukkasen A fysikaalinen massa. Kun tunnetaan hiukkasten B ja C massa, liikkeen nopeus ja suunta sekä energia, niille voidaan laskea invariantti massa ja tästä päätellä hiukkasen A massa. Tässä tehtävässä käytämme valmiiksi laskettuja invariantin massan arvoja."
   ]
  },
  {
   "cell_type": "markdown",
   "metadata": {},
   "source": [
    "## Aloitetaan!"
   ]
  },
  {
   "cell_type": "markdown",
   "metadata": {},
   "source": [
    "Kun luet tätä esimerkkiä, aja kaikki koodisolut järjestyksessä klikkaamalla solua ja painamalla näppäimistöltä *Ctrl + Enter*. Näppäinyhdistelmän sijaan voit myös klikata työkalupalkin *run cell, select below* -painiketta. <br>\n",
    "Aluksi kaikkien solujen vieressä olevan *ln[ ]* sulkujen sisällä ei pitäisi näkyä mitään. Ajon aikana suluissa näkyy \\*, joka merkitsee ajon olevan käynnissä. Kun ajo on valmis, sulkuihin ilmestyy ajojen lukumäärää osoittava luku."
   ]
  },
  {
   "cell_type": "markdown",
   "metadata": {},
   "source": [
    "### 1) Alustus "
   ]
  },
  {
   "cell_type": "code",
   "execution_count": null,
   "metadata": {
    "collapsed": true
   },
   "outputs": [],
   "source": [
    "# Haetaan tarvittavat paketit ja käytetään komentoa '%matplotlib inline', joka mahdollistaa\n",
    "# histogrammin piirtämisen suoraan koodisolun tulosteeseen.\n",
    "# Komennolla 'as' voidaan nimetä paketti uudelleen, jolloin siihen voi viitata lyhyesti\n",
    "import pandas as pd\n",
    "import matplotlib.pyplot as plt\n",
    "%matplotlib inline\n",
    "\n",
    "# Jos notebookia käytetään Python 2:lla, tarvitaan histogrammin teksteihin tuki ääkkösille.\n",
    "from __future__ import unicode_literals"
   ]
  },
  {
   "cell_type": "markdown",
   "metadata": {},
   "source": [
    "### 2) Datan hakeminen"
   ]
  },
  {
   "cell_type": "markdown",
   "metadata": {},
   "source": [
    "Alkuvalmisteluiden jälkeen siirrytään hakemaan CMS:n dataa käyttöömme notebookiin. <br>\n",
    "Luodaan DataFrame-rakenne (periaatteessa taulukko), johon tallennetaan kaikki csv-tiedostossa oleva data.\n",
    "Annetaan luomallemme DataFramelle nimi *datasetti*. Luetaan muuttujaan tiedosto, joka sijaitsee yhtä ylemmässä kansiotasossa olevassa kansiossa *Data*."
   ]
  },
  {
   "cell_type": "code",
   "execution_count": null,
   "metadata": {
    "collapsed": true
   },
   "outputs": [],
   "source": [
    "# Tiedot tallennetaan muuttujaan nimeltä datasetti\n",
    "datasetti = pd.read_csv('../Data/Ymumu_Run2011A.csv')"
   ]
  },
  {
   "cell_type": "code",
   "execution_count": null,
   "metadata": {
    "collapsed": false
   },
   "outputs": [],
   "source": [
    "# Tarkistetaan, montako riviä tiedostossamme on\n",
    "len(datasetti)"
   ]
  },
  {
   "cell_type": "code",
   "execution_count": null,
   "metadata": {
    "collapsed": false,
    "scrolled": true
   },
   "outputs": [],
   "source": [
    "# Muuttujaan tallennetut tiedot voidaan tarkistaa tulostamalla sen viisi ensimmäistä riviä.\n",
    "datasetti.head()\n",
    "\n",
    "# Mitä tapahtuu, jos sulkuihin laittaa lukuarvon?"
   ]
  },
  {
   "cell_type": "markdown",
   "metadata": {},
   "source": [
    "Taulukon viimeisessä sarakkeessa on mittausdatasta laskettujen invarianttien massojen arvot kussakin tapahtumassa. Käytämme tämän sarakkeen tietoja myöhemmin, joten ne kannattaa tallentaa omaan muuttujaansa."
   ]
  },
  {
   "cell_type": "code",
   "execution_count": null,
   "metadata": {
    "collapsed": true
   },
   "outputs": [],
   "source": [
    "# Luodaan muuttuja 'invariantti_massa', johon tallennetaan muuttujan 'datasetti' sarakkeen 'M' arvot, eli\n",
    "# kahden myonin invariantille massalle valmiiksi lasketut arvot.\n",
    "invariantti_massa = datasetti['M']"
   ]
  },
  {
   "cell_type": "markdown",
   "metadata": {},
   "source": [
    "### 3) Histogrammin piirtäminen"
   ]
  },
  {
   "cell_type": "markdown",
   "metadata": {},
   "source": [
    "Nyt jäljellä on enää vaihe, jossa luomme histogrammin hakemistamme invariantin massan arvoista. Histogrammi on pylväskaavio, joka kuvaa kuinka monta törmäystapahtumaa on osunut kunkin invariantin massan arvon kohdalle. Paketissa matplotlib.pyplot on sisäänrakennettuna komento *hist*, jonka avulla voidaan piirtää histogrammi helposti."
   ]
  },
  {
   "cell_type": "code",
   "execution_count": null,
   "metadata": {
    "collapsed": false
   },
   "outputs": [],
   "source": [
    "# Suoritetaan histogrammin piirtäminen pyplot-moduulin avulla:\n",
    "plt.hist(invariantti_massa, bins=100, range=(8,12))\n",
    "\n",
    "# Näillä riveillä ainoastaan määritellään otsikko sekä akseleiden tekstit.\n",
    "plt.xlabel('Invariantti massa [GeV/c²]')\n",
    "plt.ylabel('Tapahtumien lukumäärä')\n",
    "plt.title('Kahden myonin invariantin massan histogrammi \\n') # \\n luo uuden rivin otsikon muotoilua varten\n",
    "\n",
    "# Tehdään kuvaaja näkyväksi.\n",
    "plt.show()\n",
    "\n",
    "# Aja koodi useampaan kertaan:\n",
    "# Mitä tapahtuu, jos muutat binien määrää? Mitä bins määrittää? Mikä on mielestäsi paras arvo?\n",
    "# Entä range? Mitä käy, jos otat rangen määritelmän kokonaan pois? "
   ]
  },
  {
   "cell_type": "markdown",
   "metadata": {},
   "source": [
    "### 4) Analyysi"
   ]
  },
  {
   "cell_type": "markdown",
   "metadata": {},
   "source": [
    "- Mitä histogrammi kertoo?\n",
    "- Mitä tapahtuu noin 9,45 GeV/$c^2$:n kohdalla?"
   ]
  }
 ],
 "metadata": {
  "kernelspec": {
   "display_name": "Python 3",
   "language": "python",
   "name": "python3"
  },
  "language_info": {
   "codemirror_mode": {
    "name": "ipython",
    "version": 3
   },
   "file_extension": ".py",
   "mimetype": "text/x-python",
   "name": "python",
   "nbconvert_exporter": "python",
   "pygments_lexer": "ipython3",
   "version": "3.6.0"
  }
 },
 "nbformat": 4,
 "nbformat_minor": 1
}
