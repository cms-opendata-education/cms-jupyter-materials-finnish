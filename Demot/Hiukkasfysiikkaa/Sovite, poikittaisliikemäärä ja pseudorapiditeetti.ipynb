{
 "cells": [
  {
   "cell_type": "markdown",
   "metadata": {},
   "source": [
    "# Sovitteen tekeminen, poikittaisliikemäärä ja pseudorapiditeetti"
   ]
  },
  {
   "cell_type": "markdown",
   "metadata": {},
   "source": [
    "Tämän harjoitteen tarkoituksena on tarkastella jakaumien sovittelua dataan sekä tutustutaan hieman poikittaisliikemäärän ja pseudorapiditeetin käsitteisiin. Käytettävä data on [CMS](https://home.cern/about/experiments/cms)-kokeen avointa dataa."
   ]
  },
  {
   "cell_type": "markdown",
   "metadata": {},
   "source": [
    "### Sovitteen tekeminen"
   ]
  },
  {
   "cell_type": "markdown",
   "metadata": {},
   "source": [
    "Piirretään aluksi histogrammi valitusta datasta, jotta nähdään mahdolliset kiinnostavat kohdat (ts. mille osalle sovite\n",
    "halutaan tehdä), sekä ladataan tarvittavat moduulit, data yms."
   ]
  },
  {
   "cell_type": "code",
   "execution_count": null,
   "metadata": {},
   "outputs": [],
   "source": [
    "# Tarvitaan normaalijakauman (sovitteen) selvittämiseksi\n",
    "from scipy.stats import norm\n",
    "from scipy.optimize import curve_fit\n",
    "\n",
    "import pandas as pd\n",
    "import numpy as np\n",
    "import matplotlib.mlab as mlab\n",
    "import matplotlib.pyplot as plt"
   ]
  },
  {
   "cell_type": "code",
   "execution_count": null,
   "metadata": {},
   "outputs": [],
   "source": [
    "# Valitaan Dimuon_DoubleMu tarkasteltavaksi dataksi\n",
    "data = pd.read_csv('http://opendata.cern.ch/record/545/files/Dimuon_DoubleMu.csv')\n",
    "\n",
    "# Lasketaan invariantti massa, mikäli avattu data ei sitä sisällä\n",
    "data['M'] = np.sqrt(2*data.pt1*data.pt2*(np.cosh(data.eta1-data.eta2) - \n",
    "                    np.cos(data.phi1-data.phi2)))\n",
    "\n",
    "# Tallennetaan kaikki invariantit massat iMass muuttujaan\n",
    "iMass = data['M']\n",
    "\n",
    "# Piirretään invariantin massan histogrammi\n",
    "n, bins, patches = plt.hist(iMass, 300, facecolor='g')\n",
    "plt.xlabel('invMass (GeV)')\n",
    "plt.ylabel('Määrä')\n",
    "plt.title('Invariantin massan histogrammi')\n",
    "\n",
    "plt.show()"
   ]
  },
  {
   "cell_type": "markdown",
   "metadata": {},
   "source": [
    "90 GeVin kieppeillä näyttäisi olevan piikki, rajataan haluttu data sinne."
   ]
  },
  {
   "cell_type": "code",
   "execution_count": null,
   "metadata": {
    "scrolled": true
   },
   "outputs": [],
   "source": [
    "lower_limit = 85\n",
    "upper_limit = 97\n",
    "\n",
    "# Rajataan haluttu alue. rajMass sisältää nyt kaikki massat, jotka jäävät min ja max arvojen välille\n",
    "rajMass = iMass[(lower_limit < iMass) & (iMass < upper_limit)]\n",
    "\n",
    "# Lasketaan normaalijakauman µ & sigma käyttäen scipyn norm.fit-funktiota\n",
    "(mu, sigma) = norm.fit(rajMass)\n",
    "\n",
    "# Histogrammi rajatusta datasta. Huomaa, että tässä data on normalisoitu (density)\n",
    "n, bins, patches = plt.hist(rajMass, 300, density = 1, facecolor='g')\n",
    "\n",
    "# mlab.normpdf laskee normaalijakauman y-arvon annetuilla µ:llä ja sigmalla,\n",
    "# piirretään samaan kuvaan histogrammin kanssa myös normaalijakauma\n",
    "y = norm.pdf(bins, mu, sigma)\n",
    "l = plt.plot(bins, y, 'r-.', linewidth=3)\n",
    "\n",
    "\n",
    "plt.xlabel('invMass (GeV)')\n",
    "plt.ylabel('Todennäköisyys')\n",
    "plt.title(r'$\\mathrm{Histogrammi\\ ja\\ sovite,\\ missä:}\\ \\mu=%.3f,\\ \\sigma=%.3f$' %(mu, sigma))\n",
    "\n",
    "plt.show()"
   ]
  },
  {
   "cell_type": "markdown",
   "metadata": {},
   "source": [
    "Noudattaako invariantin massan jakauma normaalijakaumaa?\n",
    "\n",
    "Miten datan rajaaminen vaikuttaa jakaumaan? (Kokeile rajata dataa eri tavoin muuttamalla min ja max arvoja)\n",
    "\n",
    "\n",
    "Entä miksi data täytyy normalisoida? (Testaa itse miten kuvaaja muuttuu jos poistat normalisoinnin (koodissa siis density))"
   ]
  },
  {
   "cell_type": "markdown",
   "metadata": {},
   "source": [
    "### Tarkennettu malli: relativistinen Breit-Wigner"
   ]
  },
  {
   "cell_type": "markdown",
   "metadata": {},
   "source": [
    "Koetetaan tarkentaa edellistä tulosta."
   ]
  },
  {
   "cell_type": "code",
   "execution_count": null,
   "metadata": {},
   "outputs": [],
   "source": [
    "# Tarkastellaan samaa aluetta keräten hieman lisää muuttujia talteen.\n",
    "\n",
    "nbins = 100\n",
    "\n",
    "plt.figure()\n",
    "heights, bin_edges, _ = plt.hist(iMass, bins=nbins, range=(lower_limit,upper_limit))\n",
    "plt.xlabel('Invariantti massa (GeV)')\n",
    "plt.ylabel('Tapahtumien lukumäärä')\n",
    "plt.show()"
   ]
  },
  {
   "cell_type": "code",
   "execution_count": null,
   "metadata": {},
   "outputs": [],
   "source": [
    "# Breit-Wigner -jakauma on suhteellisuusteorian mukainen, hiukkasen massaan ja elinaikaan \n",
    "# Heisenbergin epämääräisyysperiaatteen kautta liittyvä kuvaus. \n",
    "\n",
    "\n",
    "def breitwigner(E, gamma, M, a, b, A):\n",
    "    y = np.sqrt(M**2*(M**2+gamma**2))\n",
    "    K = 2*np.sqrt(2)*M*gamma*y/(np.pi*np.sqrt(M**2+y))\n",
    "    return a*E+b+A*(K/((E**2-M**2)**2+M**2*gamma**2))"
   ]
  },
  {
   "cell_type": "code",
   "execution_count": null,
   "metadata": {},
   "outputs": [],
   "source": [
    "def bin_centers(bin_edges):\n",
    "    if len(bin_edges) > 1:\n",
    "        return [0.5 * (bin_edges[i] + bin_edges[i+1]) for i in range(len(bin_edges)-1)]\n",
    "    else:\n",
    "        print(\"At least two bins are needed.\")"
   ]
  },
  {
   "cell_type": "code",
   "execution_count": null,
   "metadata": {},
   "outputs": [],
   "source": [
    "bins = bin_centers(bin_edges)\n",
    "\n",
    "# tässä määritellään parametreja sovitteelle ja iteroidaan niitä tarkemmiksi edellisten yritteiden kautta\n",
    "\n",
    "accuracy = 1e-5\n",
    "p0 = [4, 90, 1, 100, 100]\n",
    "while True: # Silmukka pyörii haluttuun tarkkuuteen asti\n",
    "    best, covariance = curve_fit(breitwigner, bins, heights, p0=p0)\n",
    "    error = max(abs(p0-best))\n",
    "    if error < accuracy: \n",
    "        break\n",
    "    p0 = best\n",
    "\n",
    "print(*best)"
   ]
  },
  {
   "cell_type": "code",
   "execution_count": null,
   "metadata": {
    "scrolled": false
   },
   "outputs": [],
   "source": [
    "# Piirretään sovite kuvaan.\n",
    "\n",
    "plt.figure(figsize = (10,5))\n",
    "plt.plot(bins, breitwigner(np.array(bins), *best), color = \"black\")\n",
    "plt.hist(data.M, bins=nbins, range=(lower_limit,upper_limit), color = \"red\", alpha = 0.4)\n",
    "errors = np.sqrt(np.diag(covariance))\n",
    "param_strings = [\"Gamma\",\"M\",\"a\",\"b\",\"A\"]\n",
    "for i in range(len(best)):\n",
    "    print(\"{2:5} = {0:.3f} +/- {1:.3f}\".format(best[i],errors[i],param_strings[i]))\n",
    "    \n",
    "plt.xlabel(\"\\n Invariantti massa (GeV)\", fontsize = 15)\n",
    "plt.ylabel(\"Tapahtumien lukumäärä\", fontsize = 15)\n",
    "plt.show()"
   ]
  },
  {
   "cell_type": "markdown",
   "metadata": {},
   "source": [
    "Näyttääkö sovite paremmin mittauksien mukaiselta? Mitä käy jos muokkaat tarkasteluväliä laajemmaksi molemmissa tapauksissa?"
   ]
  },
  {
   "cell_type": "markdown",
   "metadata": {},
   "source": [
    "## Poikittaisliikemääristä ja pseudorapiditeetista"
   ]
  },
  {
   "cell_type": "markdown",
   "metadata": {},
   "source": [
    "Poikittaisliikemäärällä  $ p_t$ tarkoitetaan liikemäärää, joka on kohtisuorassa suihkun kulkusuuntaan nähden. Se on laskettavissa\n",
    "x- ja y -suuntaisista liikemääristä tuttuun tapaan vektorianalyysiä käyttäen, mutta sen suuruus löytyy myös suoraan ladatusta datasta.\n",
    "\n",
    "Pseudorapiditeettia kuvaa datassa oleva sarake Eta $(\\eta)$, ja se käytännössä kertoo hiukkasen kulman suhteessa suihkulinjaan. Myöhemmin vastaan tuleva kuva esittää $\\eta$:n ja kulman suhteen hieman tarkemmin."
   ]
  },
  {
   "cell_type": "markdown",
   "metadata": {},
   "source": [
    "Tarkastellaan ensin miltä poikittaisliikemäärien jakauma näyttää"
   ]
  },
  {
   "cell_type": "code",
   "execution_count": null,
   "metadata": {},
   "outputs": [],
   "source": [
    "# Muuttuja allPt sisältää nyt kaikki poikittaisliikemäärät\n",
    "allPt = pd.concat([data.pt1, data.pt2]) \n",
    "# pandas paketin concat-komento (concatenate) yhdistää valitut tiedot\n",
    "# (concat palauttaa tässä DataFrame tyyppisen muuttujan, tässä tapauksessa se tosin sisältää vain yhden \n",
    "# nimeämättömän sarakkeen, joten myöhemmin ei tarvitse valita haluamaansa saraketta allPt-muuttujasta)R\n",
    "\n",
    "\n",
    "# Piirretään histogrammi näistä\n",
    "\n",
    "plt.hist(allPt, bins=400, range = (0,100))\n",
    "plt.xlabel('$p_t$ (GeV)', fontsize = 12)\n",
    "plt.ylabel('Määrä', fontsize = 12)\n",
    "plt.title('Histogrammi poikittaisliikemääristä', fontsize = 15)\n",
    "\n",
    "plt.show()"
   ]
  },
  {
   "cell_type": "markdown",
   "metadata": {},
   "source": [
    "Näyttäisi siltä, että suurin osa arvoista sijoittuu välille [0,10]. Miksi?"
   ]
  },
  {
   "cell_type": "code",
   "execution_count": null,
   "metadata": {},
   "outputs": [],
   "source": [
    "# ehto määrittää, minkä energian alapuolella olevat tapahtumat valitaan (pt < ehto). Tätä voi vaihdella ja\n",
    "# tarkastella sen vaikutuksia tuloksiin.\n",
    "ehto = 100\n",
    "\n",
    "# sPt = data[(np.absolute(data.pt1) > ehto) & (np.absolute(data.pt2) > ehto)]\n",
    "pPt = data[(data.pt1 < ehto) & (data.pt2 < ehto)]\n",
    "\n",
    "# Tallennetaan kaikki käsiteltävät etat ja poikittaisliikemäärät muuttujiin\n",
    "allpPt = pd.concat([pPt.pt1, pPt.pt2])\n",
    "allEta = pd.concat([pPt.eta1, pPt.eta2])"
   ]
  },
  {
   "cell_type": "code",
   "execution_count": null,
   "metadata": {
    "scrolled": false
   },
   "outputs": [],
   "source": [
    "# Piirretään niistä scatterplot-kuvaaja.\n",
    "\n",
    "plt.scatter(allEta, allpPt, s=1)\n",
    "\n",
    "plt.ylabel('$p_t$ (GeV)', fontsize=13)\n",
    "plt.xlabel('Pseudorapiditeetti ($\\eta$)', fontsize=13)\n",
    "plt.title('Poikittaisliikemäärä ($p_t$) vs. pseudorapiditeetti \\n', fontsize=15)\n",
    "\n",
    "plt.show()"
   ]
  },
  {
   "cell_type": "markdown",
   "metadata": {},
   "source": [
    "<img src = \"https://upload.wikimedia.org/wikipedia/commons/thumb/9/93/Pseudorapidity.svg/800px-Pseudorapidity.svg.png\"\n",
    "alt = \"Pseudorapiditeetti\" style = \"height: 300px\" align=\"left\">\n",
    "\n",
    "Vasemmalla olevasta kuvasta näkee pseudorapiditeetin ($\\eta$) ja kulman ($\\theta$) välisen yhteyden (jos $\\eta = 0$, niin tapahtuma on\n",
    "kohtisuorassa säteen kulkusuuntaan nähden).\n",
    "\n",
    "Vertaile tätä kuvaa yllä olevaan kuvaajaan ja pohdi alla olevia kysymyksiä.\n",
    "\n",
    "### Kysymyksiä\n",
    "\n",
    "Mistä kuvaajan muoto johtuu? Miksei pieniliikemääräisiä hiukkasia havaita $\\eta$:n arvoilla [-1,1]?\n",
    "\n",
    "Miksi poikittaisliikemäärän käsite ylipäätään on kiinnostava?"
   ]
  },
  {
   "cell_type": "markdown",
   "metadata": {},
   "source": [
    "### Jatkohaaste: resoluutio"
   ]
  },
  {
   "cell_type": "markdown",
   "metadata": {},
   "source": [
    "Pystyisitkö tekemään invariantin massan histogrammin (tai useamman), joiden käyttämä data riippuu pseudorapiditeetin saamista arvoista? Ts. halutaan massa-lukumäärä -kuvaaja, joka rakentuu vain tietyissä $\\eta$ rajoissa esiintyvistä havainnoista."
   ]
  },
  {
   "cell_type": "code",
   "execution_count": null,
   "metadata": {},
   "outputs": [],
   "source": [
    "# Koodaa tänne!"
   ]
  },
  {
   "cell_type": "code",
   "execution_count": null,
   "metadata": {},
   "outputs": [],
   "source": []
  },
  {
   "cell_type": "code",
   "execution_count": null,
   "metadata": {},
   "outputs": [],
   "source": []
  }
 ],
 "metadata": {
  "kernelspec": {
   "display_name": "Python 3",
   "language": "python",
   "name": "python3"
  },
  "language_info": {
   "codemirror_mode": {
    "name": "ipython",
    "version": 3
   },
   "file_extension": ".py",
   "mimetype": "text/x-python",
   "name": "python",
   "nbconvert_exporter": "python",
   "pygments_lexer": "ipython3",
   "version": "3.8.5"
  }
 },
 "nbformat": 4,
 "nbformat_minor": 2
}
