{
 "cells": [
  {
   "cell_type": "markdown",
   "metadata": {},
   "source": [
    "# Invariantin massan histogrammin piirtäminen"
   ]
  },
  {
   "cell_type": "markdown",
   "metadata": {},
   "source": [
    "Tässä harjoituksessa opetellaan piirtämään invariantin massan histogrammi Pythonilla. Käytetään datana CMS-kokeen vuonna 2011 keräämää dataa kahden myonin törmäyksistä [1]. Tässä harjoituksessa käytettävään CSV-tiedostoon on karsittu edellä mainitusta datasta kiinnostavia tapahtumia, joissa myonille laskettu invariantti massa on välillä 8–12 GeV [2].\n",
    "\n",
    "Tutustu alla oleviin koodisoluihin ja niissä #-merkillä erotettuihin kommenttiriveihin sekä aja koodia. Huomaa, että normaalisti koodia ei kommentoitaisi näin runsaasti, nyt kommenteissa kerrotaan lisätietoa käytetyistä komennoista.\n",
    "<br>\n",
    "<br>\n",
    "<br>\n",
    "[1]  CMS collaboration (2016). DoubleMu primary dataset in AOD format from RunA of 2011 (/DoubleMu/Run2011A-12Oct2013-v1/AOD). CERN Open Data Portal. DOI: [10.7483/OPENDATA.CMS.RZ34.QR6N](http://doi.org/10.7483/OPENDATA.CMS.RZ34.QR6N).\n",
    "<br>\n",
    "[2] Thomas McCauley (2016). Ymumu. Jupyter Notebook file. https://github.com/tpmccauley/cmsopendata-jupyter/blob/hst-0.1/Ymumu.ipynb."
   ]
  },
  {
   "cell_type": "markdown",
   "metadata": {},
   "source": [
    "### 1) Alustus "
   ]
  },
  {
   "cell_type": "code",
   "execution_count": null,
   "metadata": {},
   "outputs": [],
   "source": [
    "# Haetaan tarvittavat moduulit\n",
    "import pandas\n",
    "import matplotlib.pyplot as plt"
   ]
  },
  {
   "cell_type": "markdown",
   "metadata": {},
   "source": [
    "### 2) Datan hakeminen"
   ]
  },
  {
   "cell_type": "markdown",
   "metadata": {},
   "source": [
    "Alkuvalmisteluiden jälkeen siirrytään hakemaan CMS:n dataa käyttöömme notebookiin."
   ]
  },
  {
   "cell_type": "code",
   "execution_count": null,
   "metadata": {},
   "outputs": [],
   "source": [
    "# Luodaan DataFrame-rakenne (periaatteessa taulukko), johon kirjataan kaikki CSV-tiedostossa oleva data.\n",
    "# Annetaan luomallemme DataFramelle nimi 'datasetti'.\n",
    "datasetti = pandas.read_csv('https://raw.githubusercontent.com/cms-opendata-education/cms-jupyter-materials-finnish/master/Data/Ymumu_Run2011A.csv')\n",
    "\n",
    "# Luodaan muuttuja 'invariantti_massa', johon tallennetaan 'datasetin' sarakkeella 'M' olevat arvot, eli\n",
    "# kahden myonin invariantille massalle valmiiksi tiedostoon lasketut arvot.\n",
    "invariantti_massa = datasetti['M']"
   ]
  },
  {
   "cell_type": "markdown",
   "metadata": {},
   "source": [
    "### 3) Histogrammin piirtäminen"
   ]
  },
  {
   "cell_type": "markdown",
   "metadata": {},
   "source": [
    "Nyt jäljellä on enää vaihe, jossa luomme histogrammin hakemistamme invariantin massan arvoista. Histogrammi on pylväskaavio, joka kuvaa kuinka monta törmäystapahtumaa on osunut kunkin invariantin massan arvon kohdalle. Huomaa, että alla käytämme yhteensä 500 pylvästä."
   ]
  },
  {
   "cell_type": "code",
   "execution_count": null,
   "metadata": {},
   "outputs": [],
   "source": [
    "# Suoritetaan histogrammin piirtäminen pyplot-moduulin avulla:\n",
    "# (http://matplotlib.org/api/pyplot_api.html?highlight=matplotlib.pyplot.hist#matplotlib.pyplot.hist).\n",
    "# 'Bins' määrittelee histogrammin pylväiden lukumäärän.\n",
    "plt.hist(invariantti_massa, bins=500)\n",
    "\n",
    "# Näillä riveillä ainoastaan määritellään otsikko sekä akseleiden tekstit.\n",
    "plt.xlabel('Invariantti massa [GeV]')\n",
    "plt.ylabel('Tapahtumien lukumäärä')\n",
    "plt.title('Kahden myonin invariantin massan histogrammi \\n')        # \\n luo uuden rivin otsikon muotoilua varten\n",
    "\n",
    "# Tehdään kuvaaja näkyväksi.\n",
    "plt.show()"
   ]
  },
  {
   "cell_type": "markdown",
   "metadata": {},
   "source": [
    "### 4) Analyysi"
   ]
  },
  {
   "cell_type": "markdown",
   "metadata": {},
   "source": [
    "- Mitä histogrammi kertoo?\n",
    "- Mitä tapahtuu noin 9,45 GeV:n kohdalla?"
   ]
  }
 ],
 "metadata": {
  "kernelspec": {
   "display_name": "Python 3",
   "language": "python",
   "name": "python3"
  },
  "language_info": {
   "codemirror_mode": {
    "name": "ipython",
    "version": 3
   },
   "file_extension": ".py",
   "mimetype": "text/x-python",
   "name": "python",
   "nbconvert_exporter": "python",
   "pygments_lexer": "ipython3",
   "version": "3.7.3"
  }
 },
 "nbformat": 4,
 "nbformat_minor": 2
}
