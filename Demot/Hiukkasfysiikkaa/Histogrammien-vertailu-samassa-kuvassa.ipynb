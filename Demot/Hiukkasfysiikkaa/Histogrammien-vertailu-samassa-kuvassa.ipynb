{
 "cells": [
  {
   "cell_type": "markdown",
   "metadata": {},
   "source": [
    "# CMS-datan jaottelu ja histogrammien vertailu "
   ]
  },
  {
   "cell_type": "markdown",
   "metadata": {},
   "source": [
    "Tässä harjoituksessa analysoidaan CERNin julkaisemaa avointa dataa Jupyter Notebook -sovelluksen avulla. Ennen tiedoston läpikäymistä tyhjennä aiemmat tulosteet valitsemalla yläpalkista *Kernel $\\rightarrow$ Restart & Clear Output*.\n",
    "<br>\n",
    "<br> \n",
    "Valitse analysoitava datatiedosto osoitteesta [opendata.cern.ch](http://opendata.cern.ch/record/545). Tässä esimerkissä käytetään tiedostoa *Dimuon_DoubleMu.cvs*, mutta myös muita tiedostoja voidaan käyttää, kunhan niiden tiedostotyyppi on *comma separated values (.csv)*. Lataa valitsemasi tiedosto ja paina mieleen tiedoston tarkka sijainti sekä nimi. Mikäli tiedostonimi sisältää välilyöntejä, korvaa ne alaviivoilla.  \n",
    "<br>\n",
    "Tämän solun kaltaiset tekstisolut voidaan luoda Jupyter Notebook -sovelluksessa painamalla ”b” ja valitsemalla solutyyppi yläpalkista valikosta *Cell* $\\rightarrow$ *Cell Type* $\\rightarrow$ *Markdown*. Kirjoittaaksesi ohjelmointikoodia valitse solutyypiksi *Code*. Google Colabissa voit lisätä uusia teksti- tai koodisoluja kätevästi alemman yläpalkin nappuloista *+ Text* ja *+ Code*. Soluihin voidaan kirjoittaa, kopioida, liittää ja muokata sisältöä eri lähteistä.   \n",
    "<br>\n",
    "Ruvetaas hommiin! Tuo ensimmäiseksi paketit pandas ja matplotlib.pyplot, jotta voit lukea tiedostoja ja piirtää kuvaajia."
   ]
  },
  {
   "cell_type": "code",
   "execution_count": null,
   "metadata": {},
   "outputs": [],
   "source": [
    "import pandas\n",
    "import matplotlib.pyplot as plt\n",
    "%matplotlib inline"
   ]
  },
  {
   "cell_type": "markdown",
   "metadata": {},
   "source": [
    "Luotuasi koodisolun paina *Ctrl+Enter* ajaaksesi koodin. Hakasulkujen *In[ ]* sisään ilmestyvä tähti on merkki siitä, että koodia suoritetaan. Etene vasta sitten, kun tähden tilalle on tullut numero eli kun koodi on suoritettu. Numero kertoo ajojen lukumäärän. Mahdolliset virheilmoitukset tulostuvat punaisella ja antavat tietoa virheestä.  \n",
    "<br>\n",
    "<br>\n",
    "Tallenna data muuttujaan *datasetti* ja tarkista ensimmäisten viiden rivin sisältö."
   ]
  },
  {
   "cell_type": "code",
   "execution_count": null,
   "metadata": {},
   "outputs": [],
   "source": [
    "datasetti = pandas.read_csv('http://opendata.cern.ch/record/545/files/Dimuon_DoubleMu.csv')\n",
    "\n",
    "datasetti.head()"
   ]
  },
  {
   "cell_type": "markdown",
   "metadata": {},
   "source": [
    "Tässä harjoituksessa olemme kiinnostuneita hiukkasten invariantista massasta. Tallenna datasetin invarianttia massaa vastaava sarake muuttujaan *invariantti_massa* viittaamalla sarakkeen otsakkeeseen siten, kuin se esiintyy taulukossa (esim. *M*). Jos datasetistäsi puuttuu invariantin massan sarake, laske arvot ensin itse (apua saat demosta \"Laske-invariantti-massa\"). Piirrä histogrammi kertomalla ohjelmalle piirrettävä muuttuja, pylväiden (bins) lukumäärä sekä haluttu piirtoväli (range). Alla olevassa esimerkissä piirretään invariantin massan histogrammi välillä 0-200 GeV ja 50 pylväällä.   "
   ]
  },
  {
   "cell_type": "code",
   "execution_count": null,
   "metadata": {
    "scrolled": false
   },
   "outputs": [],
   "source": [
    "invariantti_massa = datasetti['M']\n",
    "\n",
    "plt.hist(invariantti_massa, bins=50, range=(0,200))\n",
    "plt.show()"
   ]
  },
  {
   "cell_type": "markdown",
   "metadata": {},
   "source": [
    "Piirtoväliä ja pylväiden lukumäärää voidaan muuttaa tarkemman analyysin tekemiseksi. Alla piirretään sama kuvaaja uudestaan siten, että akselit on nimetty ja kuvaajalla on otsikko."
   ]
  },
  {
   "cell_type": "code",
   "execution_count": null,
   "metadata": {
    "scrolled": true
   },
   "outputs": [],
   "source": [
    "plt.xlabel('Invariantti massa [GeV]')\n",
    "plt.ylabel('Tapahtumien lukumäärä')\n",
    "plt.title('Kahden myonin invariantin massan histogrammi \\n')\n",
    "\n",
    "plt.hist(invariantti_massa, bins=50, range=(0,200))\n",
    "plt.show()"
   ]
  },
  {
   "cell_type": "markdown",
   "metadata": {},
   "source": [
    "Yllä olevasta kuvaajasta voidaan erottaa piikki noin 90 GeV:n kohdalla. Likimäärin 50 GeV:a   matalammat invariantin massan arvot havainnollistavat taustatapahtumia. \n",
    "<br>\n",
    "<br>\n",
    "Dataa voidaan käsitellä matemaattisilla operaattoreilla, kuten yhteen- ja vähennyslaskulla. Datan lajittelu onnistuu luomalla uusi muuttuja, johon talletetaan vain tietyn ehdon täyttävät arvot. Seuraavassa esimerkissä alkuperäisen datan tapahtumat jaetaan kahteen uuteen datasettiin hiukkasten energian perusteella. Datasetit nimetään ja lajitellaan korkeaan energiaan (> 150 GeV) ja matalaan energiaan (< 150 GeV)."
   ]
  },
  {
   "cell_type": "code",
   "execution_count": null,
   "metadata": {},
   "outputs": [],
   "source": [
    "uusiSettiKorkeaE = datasetti[datasetti.E1+datasetti.E2>150]\n",
    "uusiSettiMatalaE = datasetti[datasetti.E1+datasetti.E2<150]"
   ]
  },
  {
   "cell_type": "markdown",
   "metadata": {},
   "source": [
    "Uudet datasetit voidaan piirtää erikseen, kuten tehtiin aiemmin, tai sovittaa yhteen kuvaajaan. Kaksi histogrammia voidaan piirtää päällekkäin säätämällä niiden läpinäkyvyyttä komennolla *alpha*. Histogrammien selitteet tulostetaan kuvaajan oikeaan yläkulmaan selvyyden vuoksi. Lisäksi kuvaajan piirtoväli (range) voidaan rajata analyysin kannalta kiinnostavalle alueelle (piikki 90 GeV:n tuntumassa).  "
   ]
  },
  {
   "cell_type": "code",
   "execution_count": null,
   "metadata": {
    "scrolled": true
   },
   "outputs": [],
   "source": [
    "plt.xlabel('Invariantti massa [GeV]')\n",
    "plt.ylabel('Tapahtumien lukumäärä')\n",
    "plt.title('Kahden myonin invariantti massa, vertailu energian perusteella \\n')\n",
    "plt.hist(uusiSettiMatalaE ['M'], bins=50, range=(80,100), alpha=0.5, label='Matala E')\n",
    "plt.hist(uusiSettiKorkeaE ['M'], bins=50, range=(80,100), alpha=0.5, label='Korkea E')\n",
    "plt.legend (loc='upper right')\n",
    "plt.show()"
   ]
  },
  {
   "cell_type": "markdown",
   "metadata": {},
   "source": [
    "Mitä tapahtuu, jos muutat energiarajan arvoa? Kokeile energiarajan muuttamista luodessasi muuttujat *uusiSettiKorkeaE* ja *uusiSettiMatalaE*. Millä muulla ehdolla voisit lajitella datan?"
   ]
  }
 ],
 "metadata": {
  "kernelspec": {
   "display_name": "Python 3",
   "language": "python",
   "name": "python3"
  },
  "language_info": {
   "codemirror_mode": {
    "name": "ipython",
    "version": 3
   },
   "file_extension": ".py",
   "mimetype": "text/x-python",
   "name": "python",
   "nbconvert_exporter": "python",
   "pygments_lexer": "ipython3",
   "version": "3.7.3"
  }
 },
 "nbformat": 4,
 "nbformat_minor": 2
}
