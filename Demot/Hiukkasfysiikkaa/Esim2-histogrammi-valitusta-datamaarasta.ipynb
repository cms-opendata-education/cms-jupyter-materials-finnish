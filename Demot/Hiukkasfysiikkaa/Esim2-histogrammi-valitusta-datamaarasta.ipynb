{
 "cells": [
  {
   "cell_type": "markdown",
   "metadata": {},
   "source": [
    "# Histogrammin piirtäminen valitun datamäärän perusteella"
   ]
  },
  {
   "cell_type": "markdown",
   "metadata": {},
   "source": [
    "Tässä tehtävässä tutustutaan siihen, miten kerätyn datan määrä vaikuttaa muodostettavaan histogrammiin. Havainnollistettavana suureena käytetään edellisessä esimerkissä esiteltyä invarianttia massaa. Käytettävä data on peräisin CERNin CMS-ilmaisimen mittaustuloksista."
   ]
  },
  {
   "cell_type": "markdown",
   "metadata": {},
   "source": [
    "### CMS-ilmaisin"
   ]
  },
  {
   "cell_type": "markdown",
   "metadata": {},
   "source": [
    "CERNissä LHC-hiukkaskiihdyttimellä kiihdytetään hiukkassuihkuja ja törmäytetään niitä toisiinsa. CMS-ilmaisimella voidaan havaita ja mitata näissä törmäyksissä syntyneitä hiukkasia. Alla olevassa kuvassa on CMS-ilmaisin avattuna.\n",
    "\n",
    "<img src=\"https://raw.githubusercontent.com/cms-opendata-education/cms-jupyter-materials-finnish/master/Kuvat/CMS_avattu.jpg\" alt=\"CMS-ilmaisin avattuna\" style=\"height: 400px\">\n",
    "\n",
    "(Kuva: Domenico Salvagnin, https://commons.wikimedia.org/wiki/File:CMS@CERN.jpg)\n",
    "<br>"
   ]
  },
  {
   "cell_type": "markdown",
   "metadata": {},
   "source": [
    "### 1) Tilanteen alustus"
   ]
  },
  {
   "cell_type": "markdown",
   "metadata": {},
   "source": [
    "Aloitetaan koodilla, joka alustaa tarvittavat muuttujat ja paketit histogrammin piirtämistä varten. Tutustu koodin seassa oleviin kommentteihin ja aja koodi klikkaamalla ensin solu aktiiviseksi ja painamalla sitten näppäinyhdistelmää Ctrl + Enter. Tämän jälkeen voit siirtyä vaiheeseen kaksi."
   ]
  },
  {
   "cell_type": "code",
   "execution_count": null,
   "metadata": {
    "collapsed": true
   },
   "outputs": [],
   "source": [
    "# Haetaan tarvittavat paketit. Pandas on data-analyysiä varten, numpy tieteellistä laskentaa ja\n",
    "# matplotlib.pyplot mahdollistaa kuvaajien piirtämisen. Annetaan näille lyhyemmät nimet (pd, np ja plt),\n",
    "# jotta myöhemmin niitä käytettäessä ei tarvitse kirjoittaa koko paketin nimeä.\n",
    "import pandas as pd\n",
    "import numpy as np\n",
    "import matplotlib.pyplot as plt"
   ]
  },
  {
   "cell_type": "code",
   "execution_count": null,
   "metadata": {
    "collapsed": true
   },
   "outputs": [],
   "source": [
    "# Luodaan uusi DataFrame-rakenne CMS:n mittausdataa sisältävästä tiedostosta \"Zmumu_Run2011A_massoilla.csv\".\n",
    "# Annetaan luodulle DataFramelle nimi 'datasetti'.\n",
    "datasetti = pd.read_csv('https://raw.githubusercontent.com/cms-opendata-education/cms-jupyter-materials-finnish/master/Data/Zmumu_Run2011A_massoilla.csv')\n",
    "\n",
    "# Mitä tallennettu tiedosto sisältää? Tarkista tulostamalla ainakin viisi ensimmäistä riviä.\n",
    "# Kirjoita koodi alle.\n"
   ]
  },
  {
   "cell_type": "code",
   "execution_count": null,
   "metadata": {
    "collapsed": true
   },
   "outputs": [],
   "source": [
    "# Luodaan Series-rakenne (joka on periaatteessa yksiulotteinen taulukko) ja annetaan sille nimi \"invariantti_massa\".\n",
    "# Annetaan tälle arvot 'datasetti'-DataFramen sarakkeelta 'M'.\n",
    "invariantti_massa = datasetti['M']\n",
    "\n",
    "# Montako invariantin massan arvoa muuttujaan 'invariantti_massa' on tallennettu? Kirjoita koodi alle.\n"
   ]
  },
  {
   "cell_type": "markdown",
   "metadata": {},
   "source": [
    "Tällä kertaa haluamme itse valita, montaako invariantin massan arvoa käytetään histogrammin piirtämiseksi. Tätä varten meidän tarvitsee luoda tyhjä taulukko, jonne voidaan myöhemmin tallentaa haluttu määrä arvoja."
   ]
  },
  {
   "cell_type": "code",
   "execution_count": null,
   "metadata": {
    "collapsed": true
   },
   "outputs": [],
   "source": [
    "# Luodaan tyhjä taulukko 'valitut', johon tullaan tallentamaan valittu määrä invariantin massan arvoja.\n",
    "valitut = []"
   ]
  },
  {
   "cell_type": "markdown",
   "metadata": {},
   "source": [
    "### 2) Datan määrän valitseminen ja histogrammin piirtäminen"
   ]
  },
  {
   "cell_type": "markdown",
   "metadata": {},
   "source": [
    "Alla oleva koodi kysyy käyttäjältä valittavien tapahtumien määrän ja piirtää sen jälkeen invariantin massan histogrammin valitulle datamäärälle. Tässä esimerkissä histogrammi piirretään toisella tavalla kuin aiemmin.\n",
    "\n",
    "Aja koodi klikkaamalla koodisolu aktiiviseksi ja painamalla näppäinyhdistelmää *Ctrl + Enter*. Voit ajaa koodia aina uudestaan näppäinyhdistelmällä *Ctrl + Enter*, jolloin voit syöttää uuden datamäärän eri ajoilla."
   ]
  },
  {
   "cell_type": "markdown",
   "metadata": {},
   "source": [
    "### Tehtävä"
   ]
  },
  {
   "cell_type": "markdown",
   "metadata": {},
   "source": [
    "Tarkastele koodia. Mitä luulet tapahtuvan, jos\n",
    "- annat tapahtumien määräksi muun kuin kokonaisluvun?\n",
    "- annat datan määräksi suuremman arvon kuin mitä dataa on saatavilla?\n",
    "- tulosteiden alusta poistaa *\\n*?\n",
    "\n",
    "Kokeile, osuiko ennustuksesi oikeaan!\n",
    "\n",
    "Tutki, miten valitun datan määrä vaikuttaa histogrammiin.\n",
    "- Mitä arvoa invariantin massan eri tulokset näyttäisivät lähestyvän?\n",
    "- Mitä voit päätellä tästä arvosta?\n",
    "- Miten binien määrä vaikuttaa histogrammin tulkintaan?"
   ]
  },
  {
   "cell_type": "code",
   "execution_count": null,
   "metadata": {
    "collapsed": false
   },
   "outputs": [],
   "source": [
    "# Pyydetään käyttäjältä tapahtumien määrä ja tallennetaan sen muuttujaan 'lkm'.\n",
    "# Koodi vaatii toimiakseen kokonaislukusyötteen (integer)\n",
    "lkm = int(input('Syötä haluttu tapahtumien määrä: '))\n",
    "\n",
    "# Luodaan if-silmukka, joka tutkii syötettyä tapahtumien määrää eli muuttujan 'lkm' arvoa.\n",
    "if lkm > len(invariantti_massa):\n",
    "    print('''\\n Datan määrä on valittu suuremmaksi kuin mitä dataa on saatavilla, joten pyytämääsi\n",
    " histogrammia ei voitu piirtää. Maksimiarvo datan määrälle on %i.''' % len(invariantti_massa))\n",
    "\n",
    "else:    \n",
    "    for f in range(lkm):\n",
    "        M = invariantti_massa[f]\n",
    "        valitut.append(M)\n",
    "    print('\\n Valitsit koko datasta %i arvoa invariantille massalle.' %(lkm))\n",
    "\n",
    "# Käytetään numpy-paketin histogram-funktiota, ja luodaan histogrammi valituista invarianteista massoista.\n",
    "# Nimetään histogrammi \"histogrammi1\":ksi.\n",
    "histogrammi1 = np.histogram(valitut, bins=120, range=(60,120))\n",
    "\n",
    "\n",
    "# Mitä tapahtuu, jos muutat yllä olevia binien ja rangen arvoja?\n",
    "\n",
    "\n",
    "# Valmistellaan histogrammin piirtoa.\n",
    "# Määritetään histogrammin palkkien leveys sekä histogrammin keskikohta.\n",
    "hist1, bins1 = histogrammi1\n",
    "width1 = 1.0*(bins1[1] - bins1[0])\n",
    "center1 = (bins1[:-1] + bins1[1:])/2\n",
    "\n",
    "# Piirretään histogrammi matplotlib.pyplotin avulla.\n",
    "plt.bar(center1, hist1, align='center', width=width1)\n",
    "\n",
    "# Nimetään x- ja y-akselit sekä annetaan histogrammille otsikko.\n",
    "plt.xlabel('Invariantti massa [GeV/c²]')\n",
    "plt.ylabel('Tapahtumien lukumäärä pylvästä kohti', fontsize=10)\n",
    "plt.title('Invariantin massan histogrammi kahdelle myonille\\n', fontsize=15)\n",
    "\n",
    "# Asetetaan y-akseli vakioksi välille 0-800.\n",
    "axes = plt.gca()\n",
    "axes.set_ylim([0,800])\n",
    "\n",
    "\n",
    "# Kokeile muuttaa y-akselin näytettävää väliä. Mitä tapahtuu, jos et määrittele sitä lainkaan?\n",
    "# Voit kokeilla kommentoimalla koodirivin #-merkin avulla.\n",
    "\n",
    "# Miten saat muutettua x-akselin väliä? Mistä nykyinen väli tulee?\n",
    "\n",
    "\n",
    "# Nollataan lopuksi valitut arvot uutta valintaa varten.\n",
    "valitut = []"
   ]
  }
 ],
 "metadata": {
  "kernelspec": {
   "display_name": "Python 3",
   "language": "python",
   "name": "python3"
  },
  "language_info": {
   "codemirror_mode": {
    "name": "ipython",
    "version": 3
   },
   "file_extension": ".py",
   "mimetype": "text/x-python",
   "name": "python",
   "nbconvert_exporter": "python",
   "pygments_lexer": "ipython3",
   "version": "3.7.3"
  }
 },
 "nbformat": 4,
 "nbformat_minor": 2
}
