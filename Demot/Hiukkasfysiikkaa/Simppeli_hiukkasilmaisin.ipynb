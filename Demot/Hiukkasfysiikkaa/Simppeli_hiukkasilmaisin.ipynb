{
 "cells": [
  {
   "cell_type": "markdown",
   "metadata": {},
   "source": [
    "# Palikkamalli hiukkaspiikkien löytämiseen"
   ]
  },
  {
   "cell_type": "markdown",
   "metadata": {},
   "source": [
    "Kun dataa on suuria määriä, sen analysointi käsin ja ihmissilmin käy vaivalloiseksi. Tällöin tarvitaan algoritmeja, joilla mahdollisten havaintojen varmentaminen käy automatisoidusti. Tämä ei kuitenkaan poista inhimillisen osaamisen tärkeyttä, sillä koneet kuitenkin tekevät vain mitä niiden käsketään tehdä. Tutkijoita tarvitaan tulkkaamaan ja hienosäätämään sekä löydöksiä että ohjelmistoja, jotta työssä vältyttäisiin \"vääriltä positiivisilta\" ja virheiltä.\n",
    "\n",
    "Tässä harjoitteessa rakennetaan yksinkertainen ohjelma, joka käy läpi sille syötettyjä havaintoja ja kertoo, onko se havainnut siellä ympäristöään korkeampaa aktiivisuutta."
   ]
  },
  {
   "cell_type": "code",
   "execution_count": null,
   "metadata": {},
   "outputs": [],
   "source": [
    "import pandas as pd\n",
    "import matplotlib.pyplot as plt\n",
    "import numpy as np\n",
    "\n",
    "%matplotlib inline"
   ]
  },
  {
   "cell_type": "code",
   "execution_count": null,
   "metadata": {},
   "outputs": [],
   "source": [
    "# Otetaan dataksi CMS-kokeen myoniparihavaintoja 2011A-ajosta.\n",
    "\n",
    "dimuon = pd.read_csv('http://opendata.cern.ch/record/545/files/Dimuon_DoubleMu.csv')"
   ]
  },
  {
   "cell_type": "code",
   "execution_count": null,
   "metadata": {},
   "outputs": [],
   "source": [
    "# Katsotaan miltä data kokonaisuudessaan näyttää ja missä nyt ainakin selkeästi esiintyy piikkejä.\n",
    "\n",
    "plt.figure(figsize = (20,5))\n",
    "plt.hist(dimuon.M, bins = 500, range = (0,120))\n",
    "\n",
    "plt.xlabel(\"\\n Invariantti massa (GeV)\", fontsize = 15)\n",
    "plt.ylabel(\"Tapahtumien määrä \\n\", fontsize = 15)\n",
    "plt.show()"
   ]
  },
  {
   "cell_type": "code",
   "execution_count": null,
   "metadata": {
    "scrolled": true
   },
   "outputs": [],
   "source": [
    "# Tämä ohjelma paloittelee datan siivuihin ja havaitsee kunkin palan korkeimman piikin.\n",
    "\n",
    "# Annetaan ensin manuaalisesti halutut rajat, joita voi koettaa muutella toimivuuden testaamisen jälkeen.\n",
    "\n",
    "step = int(input('Monenko GeVin askeleet (1 toimii)? '))\n",
    "start = int(input('Monestako GeVistä aloitetaan (0 tai yli toimii)? '))\n",
    "end = int(input('Mihin asti katsotaan (120 riittänee)? '))\n",
    "\n",
    "print('\\n')\n",
    "\n",
    "bins = int((end-start)/step)\n",
    "\n",
    "hist, edges = np.histogram(dimuon.M[(dimuon.M <= end) & (dimuon.M >= start)], bins)\n",
    "\n",
    "# Käytetään kunkin palan kohdalla mediaaneja ja moodeja. Miksi ne sopivat yksinkertaiseen tarkasteluun?\n",
    "\n",
    "medians = np.ones(len(edges)-1)\n",
    "modes = np.ones(len(edges)-1)\n",
    "\n",
    "for i in range (0,len(edges)-1):\n",
    "    cut = dimuon.M[(dimuon.M >= start)&(dimuon.M < (start + step))]\n",
    "    start = start + step\n",
    "    breakdown, precision = np.histogram(cut, bins = 10)\n",
    "    print('Mediaani askeleessa ' + str(i) + ' on: ' + str(np.median(breakdown)))\n",
    "    print('Moodi askeleessa ' + str(i) + ' on: ' + str(max(breakdown)) + '\\n')\n",
    "    medians[i] = np.median(breakdown)\n",
    "    modes[i] = max(breakdown)\n",
    "\n",
    "plt.figure(figsize = (20,10))\n",
    "plt.plot(medians, 'r*', label = 'Mediaanit')\n",
    "plt.plot(modes, 'vb', label = 'Moodit')\n",
    "plt.legend(fontsize = 20)\n",
    "plt.xlabel(\"\\n Invariantti massa (GeV)\", fontsize = 15)\n",
    "plt.ylabel(\"Tapahtumien määrä \\n\", fontsize = 15)\n",
    "plt.show()"
   ]
  },
  {
   "cell_type": "markdown",
   "metadata": {},
   "source": [
    "Millaisia tarkennuksia ja parannuksia menetelmään voisi ainakin kehittää?"
   ]
  }
 ],
 "metadata": {
  "kernelspec": {
   "display_name": "Python 3",
   "language": "python",
   "name": "python3"
  },
  "language_info": {
   "codemirror_mode": {
    "name": "ipython",
    "version": 3
   },
   "file_extension": ".py",
   "mimetype": "text/x-python",
   "name": "python",
   "nbconvert_exporter": "python",
   "pygments_lexer": "ipython3",
   "version": "3.7.3"
  }
 },
 "nbformat": 4,
 "nbformat_minor": 2
}
