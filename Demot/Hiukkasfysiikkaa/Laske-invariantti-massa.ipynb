{
 "cells": [
  {
   "cell_type": "markdown",
   "metadata": {},
   "source": [
    "# Invariantin massan laskeminen"
   ]
  },
  {
   "cell_type": "markdown",
   "metadata": {},
   "source": [
    "Tässä esimerkissä opetellaan laskemaan __invariantti massa__ CMS:n avoimen datan arvojen avulla. Invariantti massa on hiukkasfyysikoille tärkeä työkalu hiukkasten tunnistamisessa.\n",
    "\n",
    "Seuraavat CSV-tiedostot sisältävät jo valmiiksi lasketut arvot invariantille massalle:\n",
    "    - dielectron.csv\n",
    "\t- DoubleMuRun2011A.csv\n",
    "\t- Jpsimumu_Run2011A.csv\n",
    "\t- Ymumu_Run2011A.csv\n",
    "\n",
    "Esimerkiksi tiedostojen 'Zmumu_Run2011A.csv' ja 'Zee_Run2011A.csv' tapauksissa invariantin massan arvot voidaan laskea helposti. Alustetaan lasku hakemalla tarvittavat moduulit sekä käyttämämme data. Käytetään tässä tiedostoa 'Zmumu_Run2011A.csv', johon on valikoitu tietyin kriteerein [1] törmäystapahtumia CMS:n vuoden 2011 DoubleMu-datasetistä [2].\n",
    "<br>\n",
    "<br>\n",
    "<br>\n",
    "[1] Thomas McCauley (2016). Zmumu. Jupyter Notebook file. https://github.com/tpmccauley/cmsopendata-jupyter/blob/hst-0.1/Zmumu.ipynb.\n",
    "<br>\n",
    "[2]  CMS collaboration (2016). DoubleMu primary dataset in AOD format from RunA of 2011 (/DoubleMu/Run2011A-12Oct2013-v1/AOD). CERN Open Data Portal. DOI: [10.7483/OPENDATA.CMS.RZ34.QR6N](http://doi.org/10.7483/OPENDATA.CMS.RZ34.QR6N)."
   ]
  },
  {
   "cell_type": "markdown",
   "metadata": {},
   "source": [
    "### Datan hakeminen"
   ]
  },
  {
   "cell_type": "code",
   "execution_count": null,
   "metadata": {},
   "outputs": [],
   "source": [
    "# Haetaan tarvittavat moduulit. Nimetään pandas-moduuli 'pd'ksi ja numpy-moduuli 'np'ksi.\n",
    "import pandas as pd\n",
    "import numpy as np\n",
    "\n",
    "# Haetaan data ja tallennetaan se muuttujaan 'datasetti'.\n",
    "datasetti = pd.read_csv('https://raw.githubusercontent.com/cms-opendata-education/cms-jupyter-materials-finnish/master/Data/Zmumu_Run2011A.csv')"
   ]
  },
  {
   "cell_type": "markdown",
   "metadata": {},
   "source": [
    "Saamme tarkistettua 'datasettiin' tallentamamme datan sisällön tulostamalla viisi ensimmäistä tapahtumaa alla olevalla koodilla:"
   ]
  },
  {
   "cell_type": "code",
   "execution_count": null,
   "metadata": {},
   "outputs": [],
   "source": [
    "datasetti.head()"
   ]
  },
  {
   "cell_type": "markdown",
   "metadata": {},
   "source": [
    "### Laskun suorittaminen"
   ]
  },
  {
   "cell_type": "markdown",
   "metadata": {},
   "source": [
    "Käytetään laskussa seuraavaa lauseketta invariantille massalle $M$. Lausekkeessa $p_T$ on liikemäärän hiukkassuihkua vastaan kohtisuora komponentti, $\\eta$ pseudorapiditeetti ja $\\phi$ atsimuuttikulma:\n",
    "\n",
    "$$M = \\sqrt{2p_{T1}p_{T2}(\\cosh(\\eta_1-\\eta_2)-\\cos(\\phi_1-\\phi_2))}.$$\n",
    "\n",
    "Invariantin massan voi laskea (jokseenkin helpommin) myös kaavalla\n",
    "\n",
    "$$ M = \\sqrt{(E_1 + E_2)^2 - \\|\\textbf{p}_1 + \\textbf{p}_2 \\| ^2},$$\n",
    "\n",
    "missä $\\textbf{p}$ siis sisältää liikemäärän kaikki komponentit. Todennäköisesti törmäät tähän tapaan muissa harjoituksissa.\n",
    "\n",
    "Alla olevassa laskussa käytämme apuna *numpy*-moduulia, jonka nimesimme yllä *np*:ksi. Moduulin avulla voimme suorittaa matemaattisia komentoja, esimerkiksi *sqrt* ja *cosh* kutsumalla ensin moduulin nimeä ja pisteellä erottaen komentoa (esimerkiksi *np.sqrt*). Koodissa esiintyvät pt1, pt2, eta1, eta2, phi1 ja phi2 viittaavat hakemamme datan suureiden nimiin. \n",
    "\n",
    "Nyt voimme laskea invariatin massan arvot eri tapahtumille. *Numpy*-moduuli osaa automaattisesti laskea arvot kaikille tapahtumille, kun annamme laskun sille muodossa, jossa esiintyy yllä mainitut viitteet suureiden nimiin. Tällöin siis lasku lasketaan jokaiselle riville erikseen."
   ]
  },
  {
   "cell_type": "code",
   "execution_count": null,
   "metadata": {},
   "outputs": [],
   "source": [
    "invariantti_massa = np.sqrt(2*datasetti.pt1*datasetti.pt2*\n",
    "                            (np.cosh(datasetti.eta1-datasetti.eta2) - np.cos(datasetti.phi1-datasetti.phi2)))"
   ]
  },
  {
   "cell_type": "markdown",
   "metadata": {},
   "source": [
    "Laskun jälkeen voimme tarkastaa, minkälaisia tuloksia luomaamme muuttujaan 'invariantti_massa' tallentui tulostamalla muuttujan sisällön."
   ]
  },
  {
   "cell_type": "code",
   "execution_count": null,
   "metadata": {},
   "outputs": [],
   "source": [
    "print(invariantti_massa)"
   ]
  }
 ],
 "metadata": {
  "kernelspec": {
   "display_name": "Python 3",
   "language": "python",
   "name": "python3"
  },
  "language_info": {
   "codemirror_mode": {
    "name": "ipython",
    "version": 3
   },
   "file_extension": ".py",
   "mimetype": "text/x-python",
   "name": "python",
   "nbconvert_exporter": "python",
   "pygments_lexer": "ipython3",
   "version": "3.7.3"
  }
 },
 "nbformat": 4,
 "nbformat_minor": 2
}
