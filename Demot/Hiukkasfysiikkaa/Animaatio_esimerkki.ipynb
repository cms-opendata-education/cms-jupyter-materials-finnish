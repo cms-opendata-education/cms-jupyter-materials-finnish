{
 "cells": [
  {
   "cell_type": "markdown",
   "metadata": {},
   "source": [
    "## Esimerkki animaatioista"
   ]
  },
  {
   "cell_type": "markdown",
   "metadata": {},
   "source": [
    "Yksi tavoista tuoda animaatioita notebookkeihin on yksinkertaisesti sisällyttää ne html:n avulla. Tämä toimii .gif ja .mp4 muotoisilla tiedostoilla. Alapuolella näet esimerkin tästä (tuplaklikkaa solua nähdäksesi syntaksin)."
   ]
  },
  {
   "cell_type": "markdown",
   "metadata": {},
   "source": [
    "\n",
    "<video width = \"648\" height=\"380\" src=\"https://i.imgur.com/ANP4cBj.mp4\" controls loop>"
   ]
  },
  {
   "cell_type": "markdown",
   "metadata": {},
   "source": [
    "Toinen tapa on generoida animaatiot itse. Tehdään yksi CMS:n avoimesta datasta ja tarkastellaan kuinka histogrammi muuttuu datamäärän kasvaessa."
   ]
  },
  {
   "cell_type": "markdown",
   "metadata": {},
   "source": [
    "HUOM: Suosittelemme plotlyn käytön välttämistä notebookkien yhteydessä. Testien aikana asiat hidastuivat siihen pisteeseen, että mitään ei voinut enää tehdä."
   ]
  },
  {
   "cell_type": "code",
   "execution_count": null,
   "metadata": {},
   "outputs": [],
   "source": [
    "# Tarvittavati kirjastot\n",
    "import matplotlib.pyplot as plt\n",
    "import matplotlib.animation\n",
    "import pandas as pd\n",
    "\n",
    "# Tämän avulla saadaan animaatio näkymään html:n avulla, tällöin pystyt mm. säätämään animaation nopeutta sekä keskeyttämään sen\n",
    "from IPython.display import HTML\n"
   ]
  },
  {
   "cell_type": "code",
   "execution_count": null,
   "metadata": {
    "scrolled": false
   },
   "outputs": [],
   "source": [
    "data = pd.read_csv('http://opendata.cern.ch/record/545/files/Dimuon_DoubleMu.csv')\n",
    "\n",
    "iMass = data.M"
   ]
  },
  {
   "cell_type": "code",
   "execution_count": null,
   "metadata": {},
   "outputs": [],
   "source": [
    "# Animaatiossa käytetty funktio\n",
    "# Tämä funktio päivittää histogrammin, muuttuja num on sen hetkisen kuvaruudun (frame) järjestysnumero.\n",
    "# updt_hist-funktio siis käytännössä piirtää uuden histogrammin jokaista freimiä varten\n",
    "\n",
    "def updt_hist(num, iMass):\n",
    "    plt.cla()\n",
    "    axes = plt.gca()\n",
    "    axes.set_ylim(0,8000)\n",
    "    axes.set_xlim(0,200)\n",
    "    plt.hist(iMass[:num*480], bins = 350)\n",
    "    "
   ]
  },
  {
   "cell_type": "markdown",
   "metadata": {},
   "source": [
    "Solut joissa tehdään animaatio, ovat hitaita ajaa. Mitä enemmän freimejä, sen hitaampi, sillä jokaista kohden on generoitava uusi kuva (tässä tapauksessa uusi histogrammi)."
   ]
  },
  {
   "cell_type": "code",
   "execution_count": null,
   "metadata": {},
   "outputs": [],
   "source": [
    "%%capture\n",
    "fig = plt.figure()\n",
    "\n",
    "# fargs kertoo mitä muuttuja animaatiofunktiolle (updt_hist) syötetään. Tyhjä muuttuja tarvitaan, jotta ohjelma\n",
    "# tietää käyttää kahta muuttujaa funktiossa. Tyhjä muuttuja on automaattisesti sen hetkisen freimin numero\n",
    "anim = matplotlib.animation.FuncAnimation(fig, updt_hist, frames = 200, fargs=(iMass, ))\n",
    "\n",
    "# anim.to_jshtml() muuttaa animaation javascriptille, jotta se voidaan nätisti näyttää notebookissa\n",
    "HTML(anim.to_jshtml())"
   ]
  },
  {
   "cell_type": "markdown",
   "metadata": {},
   "source": [
    "Yllä oleva solu ei näytä lopputulosta ```%%capture```-magic komennon vuoksi. Tämän avulla vältämme sen, että näytettäisiin kaksi erillistä kuvaa animaatiosta. Eli vain jotta saataisiin kaikki kauniimman näköiseksi."
   ]
  },
  {
   "cell_type": "markdown",
   "metadata": {},
   "source": [
    "Olethan kärsivällinen ajaessasi seuraavan solun, animaation luomisessa voi kestää hetki."
   ]
  },
  {
   "cell_type": "code",
   "execution_count": null,
   "metadata": {
    "scrolled": false
   },
   "outputs": [],
   "source": [
    "HTML(anim.to_jshtml())"
   ]
  }
 ],
 "metadata": {
  "kernelspec": {
   "display_name": "Python 3",
   "language": "python",
   "name": "python3"
  },
  "language_info": {
   "codemirror_mode": {
    "name": "ipython",
    "version": 3
   },
   "file_extension": ".py",
   "mimetype": "text/x-python",
   "name": "python",
   "nbconvert_exporter": "python",
   "pygments_lexer": "ipython3",
   "version": "3.7.3"
  }
 },
 "nbformat": 4,
 "nbformat_minor": 2
}
