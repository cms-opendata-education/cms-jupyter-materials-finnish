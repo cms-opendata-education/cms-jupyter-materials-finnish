{
 "cells": [
  {
   "cell_type": "markdown",
   "metadata": {},
   "source": [
    "# 1854 - John Snow ja kolera"
   ]
  },
  {
   "cell_type": "markdown",
   "metadata": {},
   "source": [
    "<img src='https://upload.wikimedia.org/wikipedia/commons/thumb/c/cc/John_Snow.jpg/800px-John_Snow.jpg' align='right' style=\"width:250px;\" >\n",
    "\n",
    "Kulkutaudit, nuo ihmiskunnan ikiaikaiset kumppanit, olivat suuria katastrofeja ennen moderneja hoitokeinoja tai ymmärrystä hygienian tärkeydestä. 1800-luvun alkupuoliskolla pelättiin etenkin koleraa, kuivattavaa suolistotautia joka saattoi tappaa terveenkin aikuisen yhtäkkiä jopa keskelle tietä. Sille ominainen kalvaan sinertävä iho vaani monien painajaisissa eikä kukaan, rikas tai köyhä, ollut suojassa sen tuhoilta. Pandemiat kaatoivat väkeä aina Intiasta Kanadaan. Pelkästään Isossa-Britanniassa kuoli kymmeniä tuhansia sen riuduttamana, Venäjällä yli miljoona. Suomessakin koettiin kolmeen otteeseen 1830-50 -luvuilla rajuja aaltoja, joista mm. 1853 epidemia tappoi 10% Hämeenlinnan väestöstä.\n",
    "\n",
    "Pian inhimillisen kärsimyksen keskeltä nousisi kuitenkin uusi ymmärrys taudinaiheuttajista, tilastotieteen käytöstä terveydenhuollossa sekä epidemiologian tutkimusala, jonka avulla kolera ja monet muut taudit saataisiin talttumaan. Tämän liikkeen kärjestä löytyy nuori englantilainen lääkäri, John Snow (joka tiesi aika paljonkin juttuja).\n",
    "\n",
    "Ennen Louis Pasteurin 1860-luvun todisteita mikrobien roolista tautien synnyssä, suurin osa ihmisistä vannoi \"miasman\" eli saastuneen ilman nimeen taudinaiheuttajana jos mihinkin vaivaan. Snow kannatti näkemystä, jossa taudinaiheuttajat saattoivat sen sijaan olla itsensä replikointiin kykeneviä biologisia olioita, esimerkiksi bakteereja, kuten nykyään tiedetään todeksi. Miasman väitettiin saavan alkunsa hautuumailta, soilta, kaatopaikoilta ja muilta ikäviltä alueilta, mutta se toimi epätyydyttävänä käsienheilutteluvastauksena lähes missä tahansa missä oli likaa ja ihmisiä. Kolerabakteeri sinänsä (*Vibrio cholerae*) kuvattiin italialaisen Filippo Pacinin toimesta jo 1854, mutta löytöä ei juuri noteerattu ennen Robert Kochin 1883 töitä, jolloin mikrobiteoria oli jo löytänyt tiensä tieteen valtavirtaan.\n",
    "\n",
    "Tässä harjoitteessa tarkastellaan kahta epidemiatapausta Lontoossa, joiden pohjalta Snow ja muut pystyivät osoittamaan koleran leviävän saastuneen veden kautta. Kannattaa myös alkuun katsoa Extra Historyn erinomainen kolmen videon \"Broad Street Pump\" -sarja Youtubesta asian pohjustuksena: https://www.youtube.com/watch?v=TLpzHHbFrHY (vie noin ~20 minuuttia, mush!)"
   ]
  },
  {
   "cell_type": "markdown",
   "metadata": {},
   "source": [
    "## Vesi - välttämätön, mutta vaarallinen aine"
   ]
  },
  {
   "cell_type": "markdown",
   "metadata": {},
   "source": [
    "Ihminen tarvitsee jatkuvasti vettä, eikä ole yllätys että vedenpumppaamot ovat olleet oleellisessa roolissa teollistuneen yhteiskunnan rakentumisessa. Moderni ihminen ymmärtää välttää likaista vettä, mutta 1800-luvulla oli yhä täysin normaalia kaataa niin ulosteet, ruuantähteet kuin teollisuusjätteetkin suoraan lähimpään vesistöön. Lontoota halkova suuri Thames-joki, josta miljoonakaupungin juomavesi nostettiin, oli samalla kaupungin viemärijärjestelmien, tehtaiden ja asukkaiden laskupaikka, joka haisi kuvottavalta. Ajan ajattelulle oli ominaista kuvitella taudinaiheuttajia jonkinlaisina myrkkyinä, jotka laimenisivat olemattomiin joen kokoisessa virrassa. Replikoituva bakteeri, joka lisääntyisi vaarallisiin määriin pienestäkin kontaminaatiosta, oli vieras käsite.\n",
    "\n",
    "Oireiden alkaminen vatsakivuilla viittasi John Snown mielestä nieltyyn taudinaiheuttajaan (verrattuna hengitettyyn miasmaan) ja hän alkoikin tarkastella törkyisten viemärivalumien vaikutusta tilastoituihin tapauksiin. Eräällä kadulla toisen puolen jätteen virtasivat kohti kaivoa, toisella poispäin. Kun lähes kaikki alueen sairastapaukset olivat sillä puolen, missä jäte valui kaivon luo, hän vakuuttui itse juomaveden tärkeydestä taudin leviämisessä. Kuten arvata saattaa, juuri kukaan ei uskonut häntä.\n",
    "\n",
    "Pian tarjoutui kuitenkin uusi tilaisuus: etelä-Lontoossa roihahti joukko uusia tapauksia, joita Snow lähti tutkimaan jakamalla ne vedenjakeluyhtiöiden mukaan. Alueella vaikutti kaksi firmaa: Southwark & Vauxhall sekä Lambeth. Näistä Southwark & Vauxhallin käsittelylaitos sijaitsi alavirtaan suuresta viemärin laskuaukosta, siinä missä Lambethin vesi tuli ylempää Thamesista.\n",
    "\n",
    "Tehdään simulaatio aiheesta. Ohjelmointiaika!"
   ]
  },
  {
   "cell_type": "code",
   "execution_count": null,
   "metadata": {
    "collapsed": true
   },
   "outputs": [],
   "source": [
    "# AJA NÄMÄ PAKETIT ENSIN\n",
    "\n",
    "import pandas as pd\n",
    "import matplotlib.pyplot as plt\n",
    "import random as rnd\n",
    "import numpy as np"
   ]
  },
  {
   "cell_type": "code",
   "execution_count": null,
   "metadata": {
    "collapsed": true
   },
   "outputs": [],
   "source": [
    "# Luodaan joukko satunnaisia kotitalouksia, joille arvotaan vedenjakelija ja karttakoordinaatit 100 x 100 kartalla.\n",
    "\n",
    "n = 100 # talouksien määrä, vaikuttaako määrä tuloksiin?\n",
    "i = 0\n",
    "\n",
    "data = []\n",
    "while i < n:\n",
    "    a = [rnd.uniform(0,100), rnd.uniform(0,100), rnd.choice([\"Southwark and Vauxhall Co.\", \"Lambeth Co.\"]), 'No']\n",
    "    data.append(a)\n",
    "    i += 1\n",
    "    \n",
    "df = pd.DataFrame(data, columns = ['Location X', 'Location Y', 'Water supplier', 'Fatality'])"
   ]
  },
  {
   "cell_type": "code",
   "execution_count": null,
   "metadata": {},
   "outputs": [],
   "source": [
    "# Arvotaan tässä, millä todennäköisyydellä eri pumppaamojen asiakkaat kokevat kuolemantapauksia.\n",
    "# Tämä solu heittää ajettaessa varoitusviestiä, mikä ei haittaa mitään sen toiminnan kannalta.\n",
    "x = 0\n",
    "\n",
    "while x < len(df):\n",
    "    b = rnd.uniform(0,100) # arpoo prosenttiluvun kullekin talolle\n",
    "    if (df['Water supplier'][x] == \"Lambeth Co.\"):\n",
    "        if b < 10: # vertaa tartuntariskiin\n",
    "            df['Fatality'][x] = \"Yes\"\n",
    "    if (df['Water supplier'][x] == \"Southwark and Vauxhall Co.\"):\n",
    "        if b < 70:\n",
    "            df['Fatality'][x] = \"Yes\"\n",
    "    x += 1\n",
    " \n"
   ]
  },
  {
   "cell_type": "code",
   "execution_count": null,
   "metadata": {},
   "outputs": [],
   "source": [
    "# Tarkastellaan miltä kotitalouksien tiedot näyttävät.\n",
    "\n",
    "df.head(10)"
   ]
  },
  {
   "cell_type": "code",
   "execution_count": null,
   "metadata": {},
   "outputs": [],
   "source": [
    "# Eritellään taloudet vedentarjoajien mukaan ja tarkastellaan tämänkertaista kuolleisuuslukua.\n",
    "\n",
    "L = df[df[\"Water supplier\"] == \"Lambeth Co.\"]\n",
    "SV = df[df[\"Water supplier\"] == \"Southwark and Vauxhall Co.\"]\n",
    "\n",
    "mL = L[L[\"Fatality\"] == \"Yes\"]\n",
    "mSV = SV[SV[\"Fatality\"] == \"Yes\"]\n",
    "\n",
    "pL = round(len(mL)/len(L)*100, 1)\n",
    "pSV = round(len(mSV)/len(SV)*100, 1)\n",
    "             \n",
    "print(\"Lambethin kuolleisuus on \" + str(pL) + \"% \" + str(len(L)) + \" taloudesta.\")\n",
    "print(\"Southwark and Vauxhallin kuolleisuus on \" + str(pSV) + \"% \" + str(len(SV)) + \" taloudesta.\")"
   ]
  },
  {
   "cell_type": "code",
   "execution_count": null,
   "metadata": {},
   "outputs": [],
   "source": [
    "# Laitetaan äskeiset tiedot kartalle visualisaation helpottamiseksi. Mitä mustat tähdet kuvaavat?\n",
    "# Karttapohja on tässä simulaatiossa vain koriste, palaamme siihen myöhemmin.\n",
    "\n",
    "plt.figure(figsize = (20, 20))\n",
    "img = plt.imread(\"https://raw.githubusercontent.com/cms-opendata-education/cms-jupyter-materials-finnish/master/Kuvat/snowmap_1854.png\")\n",
    "\n",
    "plt.subplot(121)\n",
    "plt.imshow(img, extent=[0, 100, 0, 100])\n",
    "plt.scatter(mL[\"Location X\"], mL[\"Location Y\"], color=\"black\", marker = '*', s = 250)\n",
    "plt.scatter(L[\"Location X\"], L[\"Location Y\"], color=\"red\")\n",
    "plt.title('Lambethilta juovat \\n')\n",
    "\n",
    "\n",
    "plt.subplot(122)\n",
    "plt.imshow(img, extent=[0, 100, 0, 100])\n",
    "plt.scatter(mSV[\"Location X\"], mSV[\"Location Y\"], color=\"black\", marker = '*', s = 250)\n",
    "plt.scatter(SV[\"Location X\"], SV[\"Location Y\"], color=\"red\")\n",
    "plt.title('Southwark and Vauxhallilta juovat \\n')\n",
    "\n",
    "plt.show()"
   ]
  },
  {
   "cell_type": "markdown",
   "metadata": {},
   "source": [
    "Tapauksessa, jota Snow tutki, kuukauden 44 koleraan kuolleesta jako Southwark & Vauxhallin ja Lambethin asiakkaiden välillä oli 38/6. Oli selvää, että hän oli oikeilla jäljillä ja toinen pumppaamoista tarjosi saastuneempaa vettä.\n",
    "\n",
    "**Tehtävä 1:**\n",
    "\n",
    "Jos oletetaan, että keskiverrolla kaupunkilaisella oli vaikkapa 5 % sauma saada tauti toista kautta, millainen todennäköisyys sairastua yksittäisellä Southwarkin & Vauxhallin veden juojalla pitäisi suunnilleen olla tuon 38/6 suhteen saamiseksi? Kokeile haarukoida yllä olevilla koodisoluilla numeerisesti (huomaa toki, että ns. \"oikeilla\" luvuillakin voi tulla erilaisia tuloksia, kun kyseessä on satunnainen otos). \n",
    "\n",
    "Valitettavasti kiire kutsui tohtoriamme kohti operaation seuraavaa osaa ennen näiden tietojen kunnollista julkaisua: Sohon kaupunginosassa, Broad Streetillä (nyk. Broadwick Street) räjähti syyskuun 1854 alussa päälle täysi paniikki ihmisten kuollessa kovempaa tahtia kuin ruumisarkkuja ehdittiin kantaa pois."
   ]
  },
  {
   "cell_type": "markdown",
   "metadata": {},
   "source": [
    "## Pumput - saastumislähteet ja terveysmaantiede"
   ]
  },
  {
   "cell_type": "markdown",
   "metadata": {},
   "source": [
    "Tässä osiossa käytetään autenttisia tietoja tapahtumista elo-syyskuussa 1854.\n",
    "\n",
    "John Snow kuuli asiasta 4.9. ja käytti seuraavat kolme päivää juosten ympäriinsä keräämässä aineistoa, piirtäen karttoja ja vakuuttaen paikallishallintoa tarpeellisista vastatoimista. Jokainen tuhlattu hetki tarkoitti lisää tartuntoja ja kuolleita."
   ]
  },
  {
   "cell_type": "code",
   "execution_count": null,
   "metadata": {
    "collapsed": true
   },
   "outputs": [],
   "source": [
    "# AJA NÄMÄ PAKETIT ENSIN, JOLLET AJANUT EDELLISTÄ OSIOTA\n",
    "\n",
    "import pandas as pd\n",
    "import matplotlib.pyplot as plt\n",
    "import random as rnd\n",
    "import numpy as np"
   ]
  },
  {
   "cell_type": "code",
   "execution_count": null,
   "metadata": {
    "collapsed": true
   },
   "outputs": [],
   "source": [
    "# Historiallinen data, joka on kerätty Robin Wilsonin julkaisemista paketeista \n",
    "# täältä http://blog.rtwilson.com/john-snows-cholera-data-in-more-formats/\n",
    "\n",
    "ajat = pd.read_csv(\"https://raw.githubusercontent.com/cms-opendata-education/cms-jupyter-materials-finnish/master/Data/johnsnow_dataset_dates_all.csv\")\n",
    "kuolinluvut = pd.read_csv(\"https://raw.githubusercontent.com/cms-opendata-education/cms-jupyter-materials-finnish/master/Data/johnsnow_dataset_deaths.csv\")\n",
    "pumput = pd.read_csv(\"https://raw.githubusercontent.com/cms-opendata-education/cms-jupyter-materials-finnish/master/Data/johnsnow_dataset_pumps_names.csv\")"
   ]
  },
  {
   "cell_type": "code",
   "execution_count": null,
   "metadata": {},
   "outputs": [],
   "source": [
    "# Tästä nähdään tapahtumien aikakehitys.\n",
    "\n",
    "plt.figure(figsize=(20,5))\n",
    "plt.plot(ajat[\"date\"], ajat[\"attacks\"], label = 'Sairastumiset')\n",
    "plt.plot(ajat['date'], ajat['deaths'], label = 'Kuolemat')\n",
    "plt.xticks(rotation='45')\n",
    "plt.legend(fontsize = 20)\n",
    "plt.title('Päivittäiset uudet tapaukset \\n', fontsize = 20)\n",
    "\n",
    "plt.show()"
   ]
  },
  {
   "cell_type": "markdown",
   "metadata": {},
   "source": [
    "Yllä olevasta kuvaajasta nähdään naapuruston sairastapausten räjähtävän käsiin kuun taitteessa. Myöhemmissä arvioissa Snow on uskonut taudin olleen jo luonnostaan laskussa toimiensa aikaan (esimerkiksi ihmisten karattua paikalta), mutta jotain ratkaisevaa tapahtuu 8.9., mikä katkaisee isomman leviämisen lähes samantien."
   ]
  },
  {
   "cell_type": "markdown",
   "metadata": {},
   "source": [
    "Snow kiersi paikanpäällä aikansa, mutta yhden ihmisen tiedonkeruuoperaatio kuolevien ihmisten, paetessa hylättyjen talojen ja yleisen kaaoksen keskellä olisi tullut liian hitaaksi. Sen sijaan tohtorimme kääntyi tehokkaampaan suuntaan ja marssi paikallisen tilastokeskuksen, Office of Register Generalin, puheille ja vaati käyttöönsä kaikkien kuolemantapausten ajat ja osoitteet. Alla on alueen kartta, mihin hän merkkasi kuolleet mustina vaakaviivoina kuin vierekkäiset hauta-arkut pihoille."
   ]
  },
  {
   "cell_type": "markdown",
   "metadata": {},
   "source": [
    "<img src='https://upload.wikimedia.org/wikipedia/commons/2/27/Snow-cholera-map-1.jpg'>"
   ]
  },
  {
   "cell_type": "markdown",
   "metadata": {},
   "source": [
    "**Tehtävä 2:**\n",
    "\n",
    "Katsomalla yllä olevaa karttaa, mitä voit sanoa kuolintapausten asettumisesta kartalle?\n",
    "\n",
    "Miksi puolen tuhatta työläistä asuttanut köyhäintalo (work house) kärsi vain muutamia tapauksia?\n",
    "\n",
    "Miksi uhreja vilisevän alueen keskellä oleva olutpanimo (brewery) ei kärsinyt yhtäkään?\n",
    "\n",
    "\n",
    "Matemaattisesti nohevana kaverina Snow sovelsi ylläolevaan kuvaan aikanaan vielä melko tuntematonta menetelmää, eli pistetiheyden kartoitusta ja myöhemmin [Voronoin](https://fi.wikipedia.org/wiki/Voronoin_diagrammi) diagrammina tunnetuksi tulevaa ajatusta, jossa karttaan muodostuu alueita joiden kaikista pisteistä on lyhin matka johonkin tiettyyn paikkaan. Snown aiempi aavistus vedenjakelun vaikutuksesta äkillisiin tautipurkauksiin ohjasi silmän nopeasti oikeaan paikkaan:\n",
    "\n",
    "Mikä kartalla olevista pumpuista (julkinen juomavesi haettiin kadulta yhteisistä pumpuista, jollei sitä tullut sisään talouksiin) on luonteva oletus tartuntojen lähtöpisteeksi?"
   ]
  },
  {
   "cell_type": "code",
   "execution_count": null,
   "metadata": {},
   "outputs": [],
   "source": [
    "# Ja sitten sama modernille kartalle, mistä voimme tehdä koneellisen tarkkaa etäisyyslaskentaa.\n",
    "\n",
    "import folium\n",
    "from folium.map import Marker"
   ]
  },
  {
   "cell_type": "code",
   "execution_count": null,
   "metadata": {
    "collapsed": true
   },
   "outputs": [],
   "source": [
    "# Kuolemien paikkatiedot listaksi, joka on helppo syöttää kartanpiirtoon.\n",
    "\n",
    "dat = [0]*len(kuolinluvut)\n",
    "for i in range(0, len(kuolinluvut)):\n",
    "    dat[i] = [kuolinluvut['X coordinate'][i], kuolinluvut['Y coordinate'][i]]\n",
    "\n",
    "# Pumppujen paikkatiedot samoin.\n",
    "    \n",
    "kaivot = [0]*len(pumput)\n",
    "for i in range(0, len(pumput)):\n",
    "    kaivot[i] = [pumput['X coordinate'][i], pumput['Y coordinate'][i]]\n",
    "\n",
    "# Tässä päästäänkin jännän äärelle, kun halutaan laskea jokaisen kuolinpaikan lähin pumppu. Osaatko sanallistaa,\n",
    "# mitä tässä vaiheessa ohjelma tekee? Mitä kussakin vaiheessa tapahtuu, noin ajatustasolla?\n",
    "\n",
    "closest = []\n",
    "for i in range(len(kuolinluvut)):\n",
    "    near = 1000\n",
    "    ind = 0\n",
    "    for b in range(len(kaivot)):\n",
    "        dist = np.sqrt((kuolinluvut['X coordinate'][i]-pumput['X coordinate'][b])**2 \n",
    "                   + (kuolinluvut['Y coordinate'][i]-pumput['Y coordinate'][b])**2)\n",
    "        if dist < near:\n",
    "            near = dist\n",
    "            ind = b\n",
    "    closest.append(pumput['Pump Name'][ind])\n",
    "    "
   ]
  },
  {
   "cell_type": "code",
   "execution_count": null,
   "metadata": {},
   "outputs": [],
   "source": [
    "# Tehdään kartta m\n",
    "\n",
    "m = folium.Map([51.5135, -0.137], tiles='stamentoner', zoom_start=17)\n",
    "\n",
    "# Merkataan siihen kuolinpaikat, kunkin selitteeksi määrät ja lähimmän pumpun nimi.\n",
    "\n",
    "for i in range(0,len(kuolinluvut)):\n",
    "    Marker(dat[i], popup = str('Kuolleita : ' + str(kuolinluvut[\"Number of deaths\"][i]) \n",
    "                                + '\\n' + 'Lähin pumppu : ' + str(closest[i])), \n",
    "           icon = folium.Icon(color=\"purple\")).add_to(m)\n",
    "\n",
    "# Merkataan myös kaivot selkeästi eri värillä.\n",
    "    \n",
    "for i in range(0, len(kaivot)):\n",
    "    Marker(kaivot[i], popup = pumput[\"Pump Name\"][i], \n",
    "           icon=folium.Icon(color='red', icon='tint', prefix='fa')).add_to(m)\n",
    "\n",
    "# Näytetään kartta.\n",
    "m"
   ]
  },
  {
   "cell_type": "code",
   "execution_count": null,
   "metadata": {},
   "outputs": [],
   "source": [
    "# Vaikka tulos silmämääräisesti onkin aika selvä, vilkaistaas vielä jakaumaa tarkemmin.\n",
    "\n",
    "plt.figure(figsize = (10,5))\n",
    "plt.hist(closest, weights = kuolinluvut['Number of deaths'], align = 'left', label = 'Kuolemat', color = 'blue')\n",
    "plt.hist(closest, align = 'mid', label = 'Taloudet', color = 'orange')\n",
    "plt.title('Kolerakuolemat Sohossa syksyllä 1854 lähimmän pumpun mukaan \\n', fontsize = 20)\n",
    "plt.legend(fontsize = 20)\n",
    "plt.show()"
   ]
  },
  {
   "cell_type": "markdown",
   "metadata": {},
   "source": [
    "**Tehtävä 3, haastava:**\n",
    "\n",
    "Jos ohjelmointi tuntuu sujuvan, saatko piirrettyä karttamerkkejä päivä kerrallaan niin, että voit seurata tapauksien etenemistä?"
   ]
  },
  {
   "cell_type": "markdown",
   "metadata": {},
   "source": [
    "## Epilogi - kohti sanitaarisempaa nykypäivää"
   ]
  },
  {
   "cell_type": "markdown",
   "metadata": {},
   "source": [
    "Snow, juostuaan nukkumatta kolmatta päivää, sai lopulta näillä tuloksillaan vakuutettua paikallisen komitean tilanteen luonteesta ja 8.9. aamusta Broad Streetin pumpusta poistettiin kahva niin ettei sitä voinut käyttää ja epidemia laantui. Tämä ei suoraan yhdistänyt koleraa miasman sijaan bakteereihin, mutta tämä yhteys saatiin jälkipyykissä paikallisen papin Henry Whiteheadin yhteyksien avulla selville: elokuun viimeisinä päivinä, koleraan sairastuneen vauvan vaipat oli pudotettu pumpun viereisen talon alla olleeseen likakaivoon, mistä bakteerit olivat seinähalkeamien kautta päässeet kaivon käyttämään pohjaveteen ja katastrofin ainekset olivat valmiit.\n",
    "\n",
    "Vaikka mikrobiteorian tuominen yleiseen elämään ja sairaanhoitoon veikin vielä kauan, tapauksen jälkeen oli selvää kaikille, että yleisen hygieniatason oli noustava ja nopeasti. Ympäri maailmaa seurasi valtavia viemäritöitä, joissa kokonaisia kaupunkeja nostettiin juuriltaan ([Chicagossa](https://en.wikipedia.org/wiki/Raising_of_Chicago) kirjaimellisesti, taloja tunkattiin ylös kokonaisina ja putket vedettiin kaupungin alle) ja jätteen poistuminen kaduilta pelasti miljoonia ihmishenkiä.\n",
    "\n",
    "Kolera ja sen kaltaiset taudit ovat länsimaissa harvinaisia, mutta taistelu niitä vastaan jatkuu yhä köyhemmillä alueilla. Tuoreena esimerkkinä lokakuussa 2010 Haitilla, vajaa vuosi sen jälkeen kun maanjäristykset tappoivat 200000 ihmistä, raportoitiin yli 665000 koleratapausta ja 8183 kuollutta. Kansainvälinen tuki ja infrastruktuurin rakentaminen alusta asti kunnolla on äärimäisen tärkeää näillä alueilla, jotta mahdollisimman monille voidaan taata inhimillisemmät elinolot."
   ]
  },
  {
   "cell_type": "markdown",
   "metadata": {},
   "source": [
    "## Lisää luettavaa:"
   ]
  },
  {
   "cell_type": "markdown",
   "metadata": {},
   "source": [
    "Huldén, Lena (2006): Kuusijalkainen vihollinen\n",
    "\n",
    "https://en.wikipedia.org/wiki/1854_Broad_Street_cholera_outbreak\n",
    "\n",
    "https://www.cdc.gov/cholera/haiti/index.html\n",
    "\n",
    "http://blog.rtwilson.com/john-snows-cholera-data-in-more-formats/\n"
   ]
  }
 ],
 "metadata": {
  "kernelspec": {
   "display_name": "Python 3",
   "language": "python",
   "name": "python3"
  },
  "language_info": {
   "codemirror_mode": {
    "name": "ipython",
    "version": 3
   },
   "file_extension": ".py",
   "mimetype": "text/x-python",
   "name": "python",
   "nbconvert_exporter": "python",
   "pygments_lexer": "ipython3",
   "version": "3.6.3"
  }
 },
 "nbformat": 4,
 "nbformat_minor": 2
}
