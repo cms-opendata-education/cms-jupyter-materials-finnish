{
 "cells": [
  {
   "cell_type": "markdown",
   "metadata": {},
   "source": [
    "# Niin hyvää puuta\n",
    "\n",
    "\n",
    "\n",
    "<img src=\"https://raw.githubusercontent.com/cms-opendata-education/cms-jupyter-materials-finnish/master/Data/PukkisaariManty.jpg\" alt=\"Tämä on uloin pala vanhaa runkoa.\">"
   ]
  },
  {
   "cell_type": "markdown",
   "metadata": {},
   "source": [
    "Yllä näkyy pala mäntyä, joka kaatui syysmyrskyssä 2020 Helsingin Pukkisaaressa. Puu on ollut paikalla vähintään 1700-luvulta asti ja kokenut monenlaista kasvunsa aikana. Kuten ikijäästäkin saatavista näytteistä, voidaan puidenkin kasvusta nähdä merkkejä historiallisista olosuhteista. Tässä harjoitteessa tarkastellaan miten puuvanhus vertautuu historiallisiin säätietoihin."
   ]
  },
  {
   "cell_type": "markdown",
   "metadata": {},
   "source": [
    "## Vuosilustot - mistä on kyse?"
   ]
  },
  {
   "cell_type": "markdown",
   "metadata": {},
   "source": [
    "Puut elävät helposti satoja vuosia, jotkin tuhansia. Ne kasvavat hiljaksiin monivaiheisen prosessin myötä, josta jää runkoon havainnoitavia jälkiä. Tarkastelemalla suurta joukkoa puita ja metsiä voidaan muun muassa tällä tavoin selvittää pitkiäkin pätkiä olosuhteiden historiasta tietyillä alueilla, kuten [Lapin lustokalenteriprojektissa](https://www.luke.fi/tietoa-luonnonvaroista/metsa/metsat-ja-ilmastonmuutos/puiden-vuosilustot/) on tehty viimeisen 7600 vuoden ajalta. Vanhimpia puita on mm. kalastettu järvien pohjasta, missä ne ovat säilyneet vuosituhansien ajan. Tällaisiin dendrokronologisiin aineistoihin tallentuu merkkejä esimerkiksi suurista tulivuorenpurkauksista tai vastaavista anomalioista ja ne tarjoavat erinomaisen katsauksen pitkälle menneisyyteen samaan tapaan kuin napa-alueiden jääkairaukset tai valtamerten hidaskasvuiset korallitkin. Ajoitusmenetelmästä voi lukea lisää [täältä](https://fi.wikipedia.org/wiki/Vuosirengasajoitus).\n",
    "\n",
    "Alimmat, vanhimmat osat kasvista sisältävät enemmän tietoja kuin myöhemmin muodostuneet ylemmät tai ulommat osat: yllä olevan kuvan leikkaus esimerkiksi on otettu noin neljän metrin korkeudelta katkeamakohdasta, jolloin siitä ei voi sanoa paljoakaan kyseisen puun ensimmäisistä vuosikymmenistä.\n",
    "\n",
    "Männyn kohdalla runko paksuuntuu pituuskasvun kanssa samoihin aikoihin, kiivaimmin heinä-elokuussa. Ensin ulkoreunaan syntyy vaaleaa kevätpuuta, jota seuraa tiheämpi tumma raita, kesäpuu. Kesäpuun kohdalla kasvu on hitaampaa ja raita täten ohuempi, mikä helpottaa vuosirenkaiden laskemista silmämääräisesti. Hyvinä vuosina puu voi kasvaa paksuutta useita millimetrejä, siinä missä vaikeina aikoina kasvua ei välttämättä tule juuri ollenkaan.\n",
    "\n",
    "Mitkä tekijät säätelevät puun kasvua? Millaiset olosuhteet ovat suotuisia kasvin kannalta? Miten tässä tapauksessa tilanteeseen vaikuttaa, että puu on kasvanut kallioisella saarella meren rannalla?"
   ]
  },
  {
   "cell_type": "markdown",
   "metadata": {},
   "source": [
    "## Säähavainnot - Kaisaniemen asema"
   ]
  },
  {
   "cell_type": "markdown",
   "metadata": {},
   "source": [
    "AJA TÄMÄ SOLU ENSIMMÄISENÄ!"
   ]
  },
  {
   "cell_type": "code",
   "execution_count": null,
   "metadata": {
    "collapsed": true
   },
   "outputs": [],
   "source": [
    "# Tuodaan importilla tarvittavat kirjastot käyttöön.\n",
    "\n",
    "import pandas as pd\n",
    "import matplotlib.pyplot as plt\n",
    "import numpy as np"
   ]
  },
  {
   "cell_type": "markdown",
   "metadata": {},
   "source": [
    "#### 1. Tiedot"
   ]
  },
  {
   "cell_type": "markdown",
   "metadata": {},
   "source": [
    "Käytettävät tiedot ovat saatavilla Ilmatieteen laitoksen [avoimen datan sivuilta](https://www.ilmatieteenlaitos.fi/avoin-data), joskin vanhempien mittausten kohdalla kerätty samasta lähteestä [Kilotavu-sivun](https://kilotavu.com/asema-taulukko.php?asema=100971) käyttöliittymän kautta.\n",
    "\n",
    "Kaisaniemen asema on Suomen vanhimpia säähavainnointipisteitä ja riittävän lähellä kyseisen mäntyvanhuksen kasvupaikkaa, jotta mahdolliset korrelaatiot havainnoissa ovat vähemmän satunnaisia. Ensimmäiset havainnot ovat kesältä 1844, mutta käytetyn laskentatavan vuoksi tässä yhteydessä lasketaan lähinnä täysiä vuosia, jolloin ensimmäiset kuvaajissa näkyvät pisteet ovat vuodelta 1845. Jos olet hurjempi ohjelmoija, muokkaa toki koodia niin että nekin tiedot tulevat mukaan pienellä lisävaivalla."
   ]
  },
  {
   "cell_type": "code",
   "execution_count": null,
   "metadata": {
    "collapsed": true
   },
   "outputs": [],
   "source": [
    "# Ladataan käytettävät tiedot muuttujiin. \n",
    "\n",
    "KLam = pd.read_csv(\"https://raw.githubusercontent.com/cms-opendata-education/cms-jupyter-materials-finnish/master/Data/KeskLam.txt\", sep = \"\\t\")\n",
    "KSade = pd.read_csv(\"https://raw.githubusercontent.com/cms-opendata-education/cms-jupyter-materials-finnish/master/Data/Sadesumma.txt\", sep = \"\\t\")"
   ]
  },
  {
   "cell_type": "code",
   "execution_count": null,
   "metadata": {},
   "outputs": [],
   "source": [
    "# Tarkastetaan, miltä data näyttää lämpötilan suhteen (celsius-asteina).\n",
    "\n",
    "KLam.head(10)"
   ]
  },
  {
   "cell_type": "code",
   "execution_count": null,
   "metadata": {},
   "outputs": [],
   "source": [
    "# Entä sademäärän (millimetreinä)?\n",
    "\n",
    "KSade.head(10)"
   ]
  },
  {
   "cell_type": "markdown",
   "metadata": {},
   "source": [
    "#### 2. Analyysi"
   ]
  },
  {
   "cell_type": "code",
   "execution_count": null,
   "metadata": {},
   "outputs": [],
   "source": [
    "# Lähdetään hyvin karkeasti liikkeelle: erottuuko vuoden keskiarvoista jotain?\n",
    "# Älä huoli, jos tämä solu heittää varoitusviestiä (tämän voisi tehdä paljon nätimminkin).\n",
    "\n",
    "# Tässä tehdään äskeisiin taulukoihin uusi sarake, nimeltään KA.\n",
    "\n",
    "sa = np.zeros(len(KSade))\n",
    "KSade[\"KA\"] = sa\n",
    "\n",
    "la = np.zeros(len(KLam))\n",
    "KLam[\"KA\"] = la\n",
    "\n",
    "# Tässä käydään tiedot rivi kerrallaan läpi, asettaen äskeiseen uuteen sarakkeeseen arvo. Mikä arvo?\n",
    "# Miten siihen vaikuttaa, mikäli tietoaineistossa on puuttuvia kohtia (NaN, not a number)?\n",
    "\n",
    "for i in range(len(KSade)):\n",
    "    KSade[\"KA\"][i] = (KSade[\"Tammi\"][i]+KSade[\"Helmi\"][i]+KSade[\"Maalis\"][i]+KSade[\"Huhti\"][i]+KSade[\"Touko\"][i]\n",
    "    +KSade[\"Kesä\"][i]+KSade[\"Heinä\"][i]+KSade[\"Elo\"][i]+KSade[\"Syys\"][i]+KSade[\"Loka\"][i]\n",
    "    +KSade[\"Marras\"][i]+KSade[\"Joulu\"][i])/12\n",
    "    \n",
    "for i in range(len(KLam)):\n",
    "    KLam[\"KA\"][i] = (KLam[\"Tammi\"][i]+KLam[\"Helmi\"][i]+KLam[\"Maalis\"][i]+KLam[\"Huhti\"][i]+KLam[\"Touko\"][i]\n",
    "    +KLam[\"Kesä\"][i]+KLam[\"Heinä\"][i]+KLam[\"Elo\"][i]+KLam[\"Syys\"][i]+KLam[\"Loka\"][i]\n",
    "    +KLam[\"Marras\"][i]+KLam[\"Joulu\"][i])/12\n",
    "    \n",
    "# Ajettuasi tämän solun, miltä data nyt näyttää? "
   ]
  },
  {
   "cell_type": "code",
   "execution_count": null,
   "metadata": {
    "collapsed": true
   },
   "outputs": [],
   "source": [
    "# Vilkaise tässä miltä data näyttää äskeisen ajon jäljiltä. Millaisen komennon tarvitset? Kirjoita ja aja!\n",
    "\n",
    "\n",
    "\n"
   ]
  },
  {
   "cell_type": "code",
   "execution_count": null,
   "metadata": {},
   "outputs": [],
   "source": [
    "# Visualisoidaan äskeisiä kuvaajiksi.\n",
    "\n",
    "# Subplot-komennot mahdollistavat usean kuvaajan rinnakkaisen esittämisen.\n",
    "\n",
    "plt.subplots(figsize = (20,10))\n",
    "\n",
    "# Tässä piirretään selvyyden nimissä sekä viivakuvaaja (plot) että pistekaavio (scatter), jotta\n",
    "# yksittäisten vuosien tulokset on helppoa erottaa.\n",
    "\n",
    "plt.subplot(211)\n",
    "plt.plot(KSade[\"Vuosi\"], KSade[\"KA\"], alpha = 0.5, color = \"orange\", label = \"_nolegend_\")\n",
    "plt.scatter(KSade[\"Vuosi\"], KSade[\"KA\"], label = \"Sademäärä (mm)\", color = \"b\")\n",
    "plt.legend(loc = \"upper left\", fontsize = 16)\n",
    "\n",
    "plt.title(\"Vuosittaiset keskiarvot Kaisaniemen sääasemalta mitattuna vuosina 1845-2020 \\n\", fontsize = 20)\n",
    "\n",
    "plt.subplot(212)\n",
    "plt.plot(KLam[\"Vuosi\"], KLam[\"KA\"], alpha = 0.5, color = \"orange\", label = \"_nolegend_\")\n",
    "plt.scatter(KLam[\"Vuosi\"], KLam[\"KA\"], label = \"Lämpötila (°C)\", color = \"r\")\n",
    "plt.legend(loc = \"upper left\", fontsize = 16)\n",
    "\n",
    "\n",
    "plt.show()\n"
   ]
  },
  {
   "cell_type": "markdown",
   "metadata": {},
   "source": [
    "Yllä näkyvästä karvalakkimallista nähdään karkeasti yleistetyt vuosittaiset keskiarvot kuukautta kohden. Tämä malli ohittaa monta relevanttia yksityiskohtaa, mutta tarjoaa ensimmäisen silmäyksen siihen millaisista vuosista puhutaan. Jos katsotaan esimerkiksi 1930-40 -lukujen taitteen tienoille, huomataan aikaikkuna joka oli sekä verrattain kuiva että kylmä. Mikä tapahtuma osui samoihin aikoihin ja erotatko sitä vuosirenkaiden kuvasta katsomalla (laske taaksepäin kuoren vuodesta 2020)? Löydätkö muita erottuvia ajanjaksoja?"
   ]
  },
  {
   "cell_type": "markdown",
   "metadata": {},
   "source": [
    "#### 3. Syvempi sukellus aineistoon"
   ]
  },
  {
   "cell_type": "markdown",
   "metadata": {},
   "source": [
    "Tarkastellaan saatavilla olevia aineitoja hitusen yksityiskohtaisemmin. Puiden kasvuaika ei kata koko vuotta eikä vuosittainen keskiarvo kerro tarkkaan mitä ääriarvojen heittelyä vuoden mittaan on tapahtunut, joten rajataan hieman mitä aikoja vertaillaan. Aineiston rajaaminen on jokseenkin mielivaltainen päätöskysymys, mutta katsotaan nyt  esimerkiksi talvi- ja kesäaikoja erikseen.\n",
    "\n",
    "Voit vaihtaa valittavia alueita oman mielenkiintosi mukaan. Yksi kiintoisa jakoehto olisi [termisen kasvukauden](https://www.ilmatieteenlaitos.fi/terminen-kasvukausi) (keskilämpötila ylittää 5 °C) mukaan, mikä Helsingin suunnalla saattaisi nopealla vilkaisulla olla esimerkiksi toukokuusta lokakuuhun (kuvat väliltä 1981-2020, vanhemman aineiston vuosien ollessa keskimäärin viileämpiä kuten aiemmasta kuvaajasta nähtiin).\n",
    "\n",
    "<img src = \"https://old.ilmatieteenlaitos.fi/image/image_gallery?groupId=30106&t=1353329979095&uuid=cf942d29-b79d-4836-9587-0c269451272e\" align = left>\n",
    "<img src = \"https://old.ilmatieteenlaitos.fi/image/image_gallery?groupId=30106&t=1353329979095&uuid=42653c45-a1e2-4fba-8eb6-ad248b65766b\" align = right> "
   ]
  },
  {
   "cell_type": "code",
   "execution_count": null,
   "metadata": {},
   "outputs": [],
   "source": [
    "# Eritellään keskiarvot kunkin vuoden kasvukausille ja talville. Silmukointi voi viedä hetken aikaa, kun ajat solun.\n",
    "\n",
    "saK = np.zeros(len(KSade))\n",
    "KSade[\"KAK\"] = saK\n",
    "\n",
    "saT = np.zeros(len(KSade))\n",
    "KSade[\"KAT\"] = saT\n",
    "\n",
    "laK = np.zeros(len(KLam))\n",
    "KLam[\"KAK\"] = laK\n",
    "\n",
    "laT = np.zeros(len(KLam))\n",
    "KLam[\"KAT\"] = laT\n",
    "\n",
    "# Iteroidaan kasvukausien tiedot. Jos haluat muuttaa otosta, senkus vaihdat tai lisäilet tarkasteltavia sarakkeita.\n",
    "# Muista kuitenkin olla tarkkana indeksin i mukanapidosta, että ohjelma ymmärtää missä kohtaa on menossa.\n",
    "\n",
    "for i in range(len(KSade)):\n",
    "    KSade[\"KAK\"][i] = (KSade[\"Touko\"][i]+KSade[\"Kesä\"][i]+KSade[\"Heinä\"][i]\n",
    "    +KSade[\"Elo\"][i]+KSade[\"Syys\"][i]+KSade[\"Loka\"][i])/6\n",
    "    \n",
    "for i in range(len(KLam)):\n",
    "    KLam[\"KAK\"][i] = (KLam[\"Touko\"][i]+KLam[\"Kesä\"][i]+KLam[\"Heinä\"][i]\n",
    "    +KLam[\"Elo\"][i]+KLam[\"Syys\"][i]+KLam[\"Loka\"][i])/6\n",
    "    \n",
    "# Iteroidaan talvitiedot.\n",
    "\n",
    "for i in range(len(KSade)):\n",
    "    KSade[\"KAT\"][i] = (KSade[\"Tammi\"][i]+KSade[\"Helmi\"][i]+KSade[\"Maalis\"][i]+KSade[\"Huhti\"][i]\n",
    "    +KSade[\"Marras\"][i]+KSade[\"Joulu\"][i])/6\n",
    "    \n",
    "for i in range(len(KLam)):\n",
    "    KLam[\"KAT\"][i] = (KLam[\"Tammi\"][i]+KLam[\"Helmi\"][i]+KLam[\"Maalis\"][i]+KLam[\"Huhti\"][i]\n",
    "    +KLam[\"Marras\"][i]+KLam[\"Joulu\"][i])/6\n"
   ]
  },
  {
   "cell_type": "code",
   "execution_count": null,
   "metadata": {
    "collapsed": true
   },
   "outputs": [],
   "source": [
    "# Tässä välissä kannattaa tarkastaa että uudet sarakkeet tosiaankin ovat ilmestyneet aineistoon.\n",
    "# Kirjoita tähän sopiva komento ja tarkista asia!\n",
    "\n"
   ]
  },
  {
   "cell_type": "code",
   "execution_count": null,
   "metadata": {},
   "outputs": [],
   "source": [
    "# Tehdään taas kuvaajia, nyt eritellen kaudet omikseen.\n",
    "\n",
    "plt.subplots(figsize = (20,20))\n",
    "\n",
    "# Tässä piirretään selvyyden nimissä sekä viivakuvaaja (plot) että pistekaavio (scatter), jotta\n",
    "# yksittäisten vuosien tulokset on helppoa erottaa.\n",
    "\n",
    "# subplot(xyz) tuottaa tulokseksi x riviä ja y saraketta sisältävän muodon, jossa vasemmalta oikealle\n",
    "# luettava juokseva indeksi z kertoo monesko kukin kuvaaja on. Vaihtelemalla numeroita voit vaihtaa kuvaajien paikkaa,\n",
    "# kokeile vaikka järjestellä niitä 2x2 ruuduksi.\n",
    "\n",
    "plt.subplot(411)\n",
    "plt.plot(KSade[\"Vuosi\"], KSade[\"KAK\"], alpha = 0.5, color = \"orange\", label = \"_nolegend_\")\n",
    "plt.scatter(KSade[\"Vuosi\"], KSade[\"KAK\"], label = \"Sademäärä kesällä (mm)\", color = \"b\")\n",
    "plt.legend(loc = \"upper left\", fontsize = 16)\n",
    "\n",
    "plt.title(\"Kausittaiset keskiarvot Kaisaniemen sääasemalta mitattuna vuosina 1845-2020 \\n\", fontsize = 20)\n",
    "\n",
    "plt.subplot(412)\n",
    "plt.plot(KSade[\"Vuosi\"], KSade[\"KAT\"], alpha = 0.5, color = \"orange\", label = \"_nolegend_\")\n",
    "plt.scatter(KSade[\"Vuosi\"], KSade[\"KAT\"], label = \"Sademäärä talvella (mm)\", color = \"b\")\n",
    "plt.legend(loc = \"upper left\", fontsize = 16)\n",
    "\n",
    "plt.subplot(413)\n",
    "plt.plot(KLam[\"Vuosi\"], KLam[\"KAK\"], alpha = 0.5, color = \"orange\", label = \"_nolegend_\")\n",
    "plt.scatter(KLam[\"Vuosi\"], KLam[\"KAK\"], label = \"Lämpötila kesällä (°C)\", color = \"r\")\n",
    "plt.legend(loc = \"upper left\", fontsize = 16)\n",
    "\n",
    "plt.subplot(414)\n",
    "plt.plot(KLam[\"Vuosi\"], KLam[\"KAT\"], alpha = 0.5, color = \"orange\", label = \"_nolegend_\")\n",
    "plt.scatter(KLam[\"Vuosi\"], KLam[\"KAT\"], label = \"Lämpötila talvella (°C)\", color = \"r\")\n",
    "plt.legend(loc = \"upper left\", fontsize = 16)\n",
    "\n",
    "\n",
    "plt.show()\n"
   ]
  },
  {
   "cell_type": "markdown",
   "metadata": {},
   "source": [
    "#### 4. Ihan itse tehtynä"
   ]
  },
  {
   "cell_type": "markdown",
   "metadata": {},
   "source": [
    "Puristamalla vielä tiukemmaksi, voisi olla kiintoisaa tarkastella sydäntalvea (joulu-tammikuu) tai keskikesää (kesä-heinäkuu) erikseen. Koodaa alle moiset! "
   ]
  },
  {
   "cell_type": "code",
   "execution_count": null,
   "metadata": {
    "collapsed": true
   },
   "outputs": [],
   "source": [
    "# Kirjoita tähän pätkä, joka luo uudet sarakkeet muuttujiin KSade ja KLam sekä laskee niihin halutut arvot.\n",
    "\n"
   ]
  },
  {
   "cell_type": "code",
   "execution_count": null,
   "metadata": {
    "collapsed": true
   },
   "outputs": [],
   "source": [
    "# Kirjoita tähän pätkä, jolla saat visualisoitua tuloksesi.\n",
    "\n"
   ]
  },
  {
   "cell_type": "markdown",
   "metadata": {
    "collapsed": true
   },
   "source": [
    "Vertaa laskelmiasi männyssä näkyviin vuosirenkaisiin. Tutkimisen iloa!"
   ]
  },
  {
   "cell_type": "markdown",
   "metadata": {},
   "source": [
    "#### 5. Linkkejä\n",
    "\n",
    "https://www.luke.fi/tietoa-luonnonvaroista/metsa/metsat-ja-ilmastonmuutos/puiden-vuosilustot/\n",
    "\n",
    "https://fi.wikipedia.org/wiki/Vuosirengasajoitus\n",
    "\n",
    "https://www.ilmatieteenlaitos.fi/terminen-kasvukausi\n",
    "\n",
    "https://www.ilmatieteenlaitos.fi/avoin-data\n",
    "\n",
    "https://kilotavu.com/asema-taulukko.php?asema=100971"
   ]
  }
 ],
 "metadata": {
  "kernelspec": {
   "display_name": "Python 3",
   "language": "python",
   "name": "python3"
  },
  "language_info": {
   "codemirror_mode": {
    "name": "ipython",
    "version": 3
   },
   "file_extension": ".py",
   "mimetype": "text/x-python",
   "name": "python",
   "nbconvert_exporter": "python",
   "pygments_lexer": "ipython3",
   "version": "3.6.3"
  }
 },
 "nbformat": 4,
 "nbformat_minor": 2
}
