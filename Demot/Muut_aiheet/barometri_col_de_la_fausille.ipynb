{
 "cells": [
  {
   "cell_type": "markdown",
   "metadata": {},
   "source": [
    "# Ilmanpaineen mittaus"
   ]
  },
  {
   "cell_type": "markdown",
   "metadata": {},
   "source": [
    "Tässä harjoitteessa on käytetty Sonyn XPeria -kännykän sensoreita [PhyPhox](https://phyphox.org/)-ohjelman avulla mittaamaan ambienttia ilmanpainetta aurinkoisena kesäpäivänä Etelä-Ranskassa. Matka alkaa vuoristosta Col de la Fausillesta ja päättyy CERN:in parkkipaikalle Meyrinissä Sveitsin puolella."
   ]
  },
  {
   "cell_type": "code",
   "execution_count": null,
   "metadata": {},
   "outputs": [],
   "source": [
    "# Ladataan relevantit python-paketit.\n",
    "\n",
    "import pandas as pd\n",
    "import matplotlib.pyplot as plt\n",
    "import numpy as np\n",
    "\n",
    "%matplotlib inline"
   ]
  },
  {
   "cell_type": "code",
   "execution_count": null,
   "metadata": {},
   "outputs": [],
   "source": [
    "# Ladataan haluttu data.\n",
    "\n",
    "baro = pd.read_csv(\"https://raw.githubusercontent.com/cms-opendata-education/cms-jupyter-materials-finnish/master/Data/barometri_fausille.csv\")"
   ]
  },
  {
   "cell_type": "code",
   "execution_count": null,
   "metadata": {},
   "outputs": [],
   "source": [
    "# Tarkastellaan dataa.\n",
    "\n",
    "baro.head()"
   ]
  },
  {
   "cell_type": "code",
   "execution_count": null,
   "metadata": {},
   "outputs": [],
   "source": [
    "# Koska datassa on vain aika ja paine, lasketaan siihen mukaan korkeus tunnetusta paine-erojen käytöksestä.\n",
    "\n",
    "maxp = max(baro[\"Pressure (hPa)\"])\n",
    "dp = list(maxp-baro[\"Pressure (hPa)\"].copy())\n",
    "baro[\"Korkeus (m)\"] = np.ones(len(baro))\n",
    "\n",
    "# Koska loppupaikan tiedetään olevan noin 440 m korkeudella merenpinnasta, lisätään se laskettuun erotukseen.\n",
    "\n",
    "for i in range(0, len(dp)):\n",
    "    baro[\"Korkeus (m)\"][i] = dp[i]*(10/1.2) + 440"
   ]
  },
  {
   "cell_type": "code",
   "execution_count": null,
   "metadata": {},
   "outputs": [],
   "source": [
    "# Aikakuvaaja alastulosta. Huomaatko, missä kohdissa auto seisoi paikoillaan?\n",
    "\n",
    "fig, ax1 = plt.subplots()\n",
    "\n",
    "fig.set_figwidth(20)\n",
    "fig.set_figheight(5)\n",
    "\n",
    "eka, = plt.plot(baro[\"Time (s)\"],baro[\"Pressure (hPa)\"], c = 'r', label = 'Paine')\n",
    "plt.title(\"Ilmanpaine matkalla Col de la Fausillen huipulta CERNin parkkipaikalle (ol. 440 m merenpinnasta) \\n\", fontsize = 15)\n",
    "plt.xlabel(\"Aika (s)\", fontsize = 15)\n",
    "plt.ylabel(\"Ilmanpaine (hPa) \\n\", fontsize = 15)\n",
    "\n",
    "ax2 = ax1.twinx()\n",
    "ax2.set_ylabel('Korkeus (m) \\n', fontsize = 15)\n",
    "\n",
    "toka, = plt.plot(baro[\"Time (s)\"], baro[\"Korkeus (m)\"], c = 'b', label = 'Korkeus')\n",
    "\n",
    "axes=fig.gca()\n",
    "axes.set_ylim(0,1500)\n",
    "\n",
    "plt.legend([eka, toka],['Paine', 'Korkeus'], loc = 'lower right')\n",
    "plt.show()"
   ]
  },
  {
   "cell_type": "code",
   "execution_count": null,
   "metadata": {},
   "outputs": [],
   "source": [
    "# Aikakuvaaja ei kuitenkaan ole erityisen fysikaalisesti kiintoisa. Onneksi laskimme korkeudenkin, josta\n",
    "# voidaan huomata jo jotain paljon kiintoisampaa käytöstä paineessa.\n",
    "\n",
    "plt.figure(figsize = (20,5))\n",
    "\n",
    "plt.plot(baro[\"Korkeus (m)\"], baro[\"Pressure (hPa)\"])\n",
    "plt.title(\"Ilmanpaine \\n\", fontsize = 15)\n",
    "plt.xlabel(\"Korkeus (m)\", fontsize = 15)\n",
    "plt.ylabel(\"Ilmanpaine (hPa) \\n\", fontsize = 15)\n",
    "\n",
    "plt.show()"
   ]
  }
 ],
 "metadata": {
  "kernelspec": {
   "display_name": "Python 3",
   "language": "python",
   "name": "python3"
  },
  "language_info": {
   "codemirror_mode": {
    "name": "ipython",
    "version": 3
   },
   "file_extension": ".py",
   "mimetype": "text/x-python",
   "name": "python",
   "nbconvert_exporter": "python",
   "pygments_lexer": "ipython3",
   "version": "3.7.3"
  }
 },
 "nbformat": 4,
 "nbformat_minor": 2
}
