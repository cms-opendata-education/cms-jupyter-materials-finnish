{
 "cells": [
  {
   "cell_type": "markdown",
   "metadata": {},
   "source": [
    "# Keitä CERN:issä on?"
   ]
  },
  {
   "cell_type": "markdown",
   "metadata": {},
   "source": [
    "<img src=\"https://cds.cern.ch/record/1968153/files/_B1A9225.jpg?subformat=icon-1440\" width=\"600px\" style=\"float:right\">\n",
    "\n",
    "CERN on äärimmäisen kansainvälinen paikka: tuhannet tutkijat, insinöörit ja opiskelijat maapallon joka kolkasta työskentelevät yhdessä eri projektien parissa.\n",
    "\n",
    "\n",
    "Tässä harjoitteessa pääset vilkaisemaan vähän tilastoja ihmisistä tieteen takana: mistä he tulevat, mihin ammattiryhmiin kuuluu eniten väkeä paikan päällä, miten paljon opiskelijoita otetaan sisään tai vaikkapa millainen sukupuolijakauma eri aloilla vallitsee."
   ]
  },
  {
   "cell_type": "code",
   "execution_count": null,
   "metadata": {
    "collapsed": true
   },
   "outputs": [],
   "source": [
    "# AJA TÄMÄ SOLU ENSIMMÄISENÄ!\n",
    "\n",
    "import pandas as pd\n",
    "import matplotlib.pyplot as plt\n",
    "import numpy as np\n",
    "%matplotlib inline"
   ]
  },
  {
   "cell_type": "markdown",
   "metadata": {},
   "source": [
    "### Mitkä valtiot kuuluvat järjestelmään?"
   ]
  },
  {
   "cell_type": "markdown",
   "metadata": {},
   "source": [
    "CERN perustettiin 50-luvulla toisen maailmansodan jälkeen edistämään tutkimusta Euroopassa. Jotkut valtiot ovat sen täysjäseniä (Member States), toiset läheisesti yhteistyössä olevia tai jäsenyyttä hakevia (Associate Member States), kolmannet ulkopuolisia tarkkailijoita (Observers). Tähän viimeiseen kategoriaan kuuluu myös kansainvälisiä elimiä, kuten UNESCO. Kaikki maailman valtiot eivät luonnollisesti kuulu tähän jaotteluun, vaan moniin suuntiin tehdään tieteellistä yhteistyötä myös pienemmässä mittakaavassa.\n",
    "\n",
    "Valtioiden jäsenstatukset ovat tärkeitä esimerkiksi sen määrittämisessä, miten niistä tulevia opiskelijoita otetaan töihin tai miten eri projektien budjetteja jaetaan. Valtioiden kannalta kiinnostavaa on, miten paljon aikaa heidän kansalliset instituuttinsa saavat CERN:in laskentayksiköistä tai miten heidän statuksensa takaa kotimaiselle teollisuudelle sopimuksia laite- ja kunnostushankinnoissa."
   ]
  },
  {
   "cell_type": "code",
   "execution_count": null,
   "metadata": {
    "collapsed": true
   },
   "outputs": [],
   "source": [
    "# Aja tämä solu saadaksesi jäsenvaltioiden tiedot.\n",
    "\n",
    "maat = pd.read_csv(\"https://raw.githubusercontent.com/cms-opendata-education/cms-jupyter-materials-finnish/master/Data/CERN_memberstates.csv\", na_filter=False)"
   ]
  },
  {
   "cell_type": "code",
   "execution_count": null,
   "metadata": {
    "scrolled": false
   },
   "outputs": [],
   "source": [
    "# Tämän solun avulla näet äsken ladatut tiedot.\n",
    "\n",
    "# Kokeile .head()-komennon sulkuihin eri arvoja!\n",
    "# Miten isoksi numeroa piti kasvattaa, että saat kaikki tiedot näkyviin?\n",
    "\n",
    "pd.set_option('display.max_colwidth', -1)\n",
    "maat.head(5)"
   ]
  },
  {
   "cell_type": "code",
   "execution_count": null,
   "metadata": {},
   "outputs": [],
   "source": [
    "# Kirjoitetaan tähän pätkä koodia, joka hakee ylläolevasta taulukosta yksittäisen solun tiedot.\n",
    "\n",
    "# Ensin etsitään oikea rivi, vaikkapa Tsekkoslovakia.\n",
    "rivi = maat[maat[\"Country\"]==\"Czechoslovakia\"]\n",
    "\n",
    "# Sitten oikea sarake, vaikkapa poikkeukset.\n",
    "haettu = rivi[\"Exceptions\"]\n",
    "\n",
    "# Lopuksi näytetään haettu teksti. Mitä maailmassa tapahtui tuolloin?\n",
    "haettu"
   ]
  },
  {
   "cell_type": "markdown",
   "metadata": {},
   "source": [
    "Kokeilepa kirjoittaa alle samaan tapaan oma hakukomentosi. Etsi vaikka vuosi, jolloin Norja liittyi jäsenvaltioksi."
   ]
  },
  {
   "cell_type": "code",
   "execution_count": null,
   "metadata": {
    "collapsed": true
   },
   "outputs": [],
   "source": [
    "# Kirjoita tähän omaa koodiasi!\n",
    "\n",
    "\n"
   ]
  },
  {
   "cell_type": "markdown",
   "metadata": {},
   "source": [
    "### CERN:in henkilökunta, paljonko sitä oikeastaan on?"
   ]
  },
  {
   "cell_type": "markdown",
   "metadata": {},
   "source": [
    "CERN on valtava organisaatio, jossa tarvitaan väkeä laidasta laitaan. Töissä on niin hiukkasfyysikoita, koneistusinsinöörejä, ohjelmistosuunnittelijoita, toimistotyöläisiä, pelastushenkilökuntaa, lääkäreitä, rakentajia kuin opettajiakin. Erityisesti suomalaiset palokuntalaiset ovat kovassa huudossa työmarkkinoilla, koska täällä pohjoisessa järjestelmämme kouluttaa heistä myös päteviä ambulanssikuskeja. Näistä vakitöissä ovat etenkin varsinaiset henkilökunnan jäsenet (Members of Personnel) sekä hieman vaihtelevampi joukko MPA:ta (Associated Members of Personnel)."
   ]
  },
  {
   "cell_type": "code",
   "execution_count": null,
   "metadata": {
    "collapsed": true
   },
   "outputs": [],
   "source": [
    "# Aja tämä solu saadaksesi henkilöstön tiedot vuodelta 2017.\n",
    "\n",
    "henkilokunta = pd.read_csv(\"https://raw.githubusercontent.com/cms-opendata-education/cms-jupyter-materials-finnish/master/Data/CERN_staff_by_dept_2017.csv\")"
   ]
  },
  {
   "cell_type": "code",
   "execution_count": null,
   "metadata": {},
   "outputs": [],
   "source": [
    "# Tästä nähdään henkilöstöjakauma osastoittain.\n",
    "\n",
    "henkilokunta"
   ]
  },
  {
   "cell_type": "markdown",
   "metadata": {},
   "source": [
    "Millä osastolla työskentelee eniten väkeä? Entä mitä ryhmää on eniten?\n",
    "\n",
    "Vastaukset näkee periaatteessa taulukosta suoraan silmälläkin, mutta jos taulukossa olisikin vaikka miljoona riviä, olisi tehokkaampaa laittaa tietokone paikallistamaan haluttu vastaus. Kokeillaanpa sitä!"
   ]
  },
  {
   "cell_type": "code",
   "execution_count": null,
   "metadata": {},
   "outputs": [],
   "source": [
    "# Millä osastolla on eniten väkeä? Laitetaan tietokone vertailemaan tuloksia.\n",
    "\n",
    "# Tässä otetaan kaikki summasarakkeen luvut mukaan, paitsi viimeisen rivin kokonaismäärä.\n",
    "tarkasteltava = henkilokunta[\"Grand Total\"][0:(len(henkilokunta)-1)]\n",
    "\n",
    "# Tässä otetaan suurin luku äskeisten joukosta.\n",
    "eniten = max(tarkasteltava)\n",
    "\n",
    "# Tässä etsitään tuota arvoa vastaava osasto.\n",
    "osasto = henkilokunta[henkilokunta[\"Grand Total\"]==eniten]\n",
    "nimi = osasto[\"Category\"]\n",
    "\n",
    "# Esitetään vastaus kivasti luettavaan muotoon.\n",
    "print(\"Eniten väkeä on osastolla \" + nimi + \", \" + str(eniten) + \" henkilöä.\")\n"
   ]
  },
  {
   "cell_type": "markdown",
   "metadata": {},
   "source": [
    "Entä vähiten? Kokeile yllä käytetyn max()-komennon sijaan pienintä lukua etsivää min()-komentoa!"
   ]
  },
  {
   "cell_type": "code",
   "execution_count": null,
   "metadata": {
    "collapsed": true
   },
   "outputs": [],
   "source": [
    "# Etsi pienin osasto koodin kautta!\n",
    "\n",
    "\n"
   ]
  },
  {
   "cell_type": "markdown",
   "metadata": {},
   "source": [
    "### Mitä rooleja henkilökunnalla on?"
   ]
  },
  {
   "cell_type": "code",
   "execution_count": null,
   "metadata": {
    "collapsed": true
   },
   "outputs": [],
   "source": [
    "# Aja tämä solu.\n",
    "\n",
    "ammatit = pd.read_csv(\"https://raw.githubusercontent.com/cms-opendata-education/cms-jupyter-materials-finnish/master/Data/CERN_staff_by_profession.csv\")"
   ]
  },
  {
   "cell_type": "code",
   "execution_count": null,
   "metadata": {},
   "outputs": [],
   "source": [
    "ammatit"
   ]
  },
  {
   "cell_type": "markdown",
   "metadata": {},
   "source": [
    "Ylläolevassa taulukossa ei näy Usereita, suurta joukkoa sekalaisia CERN:in tarjoamien mahdollisuuksien käyttäjiä, jotka aiemmin kuuluivat MPA-joukon lukuihin. Luvuista nähdään selkeästi, että suurin osa aloista on viime vuosikymmeninä lisääntyneestä naisten määrästä huolimatta yhä miesvaltaisia, mutta missä määrin? Lasketaas vähän suhdelukuja!"
   ]
  },
  {
   "cell_type": "code",
   "execution_count": null,
   "metadata": {
    "collapsed": true
   },
   "outputs": [],
   "source": [
    "# Tässä luodaan taulukko, joka kertoo alan ja statuksen mukaan naisten suhteellisen osuuden joukosta.\n",
    "\n",
    "# Ensin lasketaan itse suhdeluvut.\n",
    "suhdeStf = ammatit[\"Staff, Female\"]/ammatit[\"Staff, Male\"]\n",
    "suhdeFel = ammatit[\"Fellows, Female\"]/ammatit[\"Fellows, Male\"]\n",
    "suhdeMPA = ammatit[\"MPAs (excluding Users), Female\"]/ammatit[\"MPAs (excluding Users), Male\"]\n",
    "\n",
    "# Sitten ne kasataan taulukkoon, dataframeen, omiksi sarakkeikseen.\n",
    "suhteet = pd.DataFrame(data=ammatit[\"Category\"])\n",
    "suhteet[\"Staff\"] = suhdeStf\n",
    "suhteet[\"Fellows\"] = suhdeFel\n",
    "suhteet[\"MPAs\"] = suhdeMPA\n"
   ]
  },
  {
   "cell_type": "code",
   "execution_count": null,
   "metadata": {},
   "outputs": [],
   "source": [
    "suhteet"
   ]
  },
  {
   "cell_type": "markdown",
   "metadata": {},
   "source": [
    "Jos taulukossa näkyy hassuja nimiä, kuten NaN (\"Not a Number\", määrittelemätön) tai inf (\"infinity\", ääretön), mistä tämä voisi johtua? Jos katsot roolitaulukkoa, mitä niillä kohdilla on tapahtunut mistä tulos on laskettu?\n",
    "\n",
    "(Jaettiinko jotain nollalla, kenties? Saako niin tehdä?)"
   ]
  },
  {
   "cell_type": "markdown",
   "metadata": {},
   "source": [
    "### Henkilökunta läpi vuosien?"
   ]
  },
  {
   "cell_type": "code",
   "execution_count": null,
   "metadata": {
    "collapsed": true
   },
   "outputs": [],
   "source": [
    "# Aja tämä saadaksesi vähän aikasarjoja.\n",
    "\n",
    "vuosikymmen = pd.read_csv(\"https://raw.githubusercontent.com/cms-opendata-education/cms-jupyter-materials-finnish/master/Data/CERN_staff_by_years.csv\")\n",
    "iat = pd.read_csv(\"https://raw.githubusercontent.com/cms-opendata-education/cms-jupyter-materials-finnish/master/Data/CERN_staff_age_over_a_decade.csv\")"
   ]
  },
  {
   "cell_type": "markdown",
   "metadata": {},
   "source": [
    "Tehdääs pari kuvaajaakin, joista on helppoa nähdä miten väen määrä on vaihdellut viime vuosina ja miltä henkilökunnan ikäjakauma on näyttänyt viimeisen kymmenen vuoden aikana."
   ]
  },
  {
   "cell_type": "code",
   "execution_count": null,
   "metadata": {},
   "outputs": [],
   "source": [
    "# Tästä nähdään 2013-2017 CERN:in listoilla olleet ihmiset.\n",
    "vuosikymmen"
   ]
  },
  {
   "cell_type": "code",
   "execution_count": null,
   "metadata": {},
   "outputs": [],
   "source": [
    "# Otetaan ylläolevat luvut kuvaajaan.\n",
    "\n",
    "\n",
    "f, ax = plt.subplots(figsize=(10,5))\n",
    "ax.set_xticks(vuosikymmen[\"End of year\"])\n",
    "\n",
    "plt.plot(vuosikymmen[\"End of year\"], vuosikymmen[\"Staff members (MPE)\"])\n",
    "plt.plot(vuosikymmen[\"End of year\"], vuosikymmen[\"Fellows (MPE)\"])\n",
    "plt.plot(vuosikymmen[\"End of year\"], vuosikymmen[\"MPA excluding Users\"])\n",
    "plt.plot(vuosikymmen[\"End of year\"], vuosikymmen[\"Users\"])\n",
    "plt.plot(vuosikymmen[\"End of year\"], vuosikymmen[\"Grand total\"])\n",
    "\n",
    "\n",
    "plt.title(\"CERN:in henkilöstö 2013-2017 \\n\")\n",
    "plt.legend(loc=\"center right\")\n",
    "plt.show()"
   ]
  },
  {
   "cell_type": "markdown",
   "metadata": {},
   "source": [
    "Mitä voidaan päätellä paikan päällä tapahtuvan ja etätoiminnan suhteesta vuosien varrella, kun tiedetään suurimman osan Usereista operoivan muualta?"
   ]
  },
  {
   "cell_type": "code",
   "execution_count": null,
   "metadata": {},
   "outputs": [],
   "source": [
    "# Tästä nähdään pääasiallisen henkilökunnan ikäjakaumat 2007-2017\n",
    "iat"
   ]
  },
  {
   "cell_type": "code",
   "execution_count": null,
   "metadata": {},
   "outputs": [],
   "source": [
    "# Ensin määritetään kuvaajan koko ja kategorioihin jako.\n",
    "plt.figure(figsize=(10,5))\n",
    "jako = np.arange(len(iat)-1)\n",
    "w = 0.3\n",
    "nimet = iat[\"Age range\"][0:len(iat)-1].tolist()\n",
    "\n",
    "# Tässä piirretään itse pylväät.\n",
    "plt.bar(jako-w, iat[\"2007\"][0:len(iat)-1], width = w, alpha=0.5, color=\"r\", label=\"2007\")\n",
    "plt.bar(jako, iat[\"2012\"][0:len(iat)-1], width = w, alpha=0.5, color=\"b\", label=\"2012\")\n",
    "plt.bar(jako+w, iat[\"2017\"][0:len(iat)-1], width = w, alpha=0.5, color=\"g\", label=\"2017\")\n",
    "\n",
    "# Näillä muotoillaan varsinainen kuva.\n",
    "plt.xticks(jako, nimet)\n",
    "plt.title(\"Henkilökunnan iät \\n\", fontsize=15)\n",
    "plt.xlabel(\"\\n Nykyinen ikä vuosissa\")\n",
    "plt.legend(loc=\"upper right\")\n",
    "plt.show()"
   ]
  },
  {
   "cell_type": "markdown",
   "metadata": {},
   "source": [
    "Pystytkö näkemään vuosien mittaan mitään trendiä? Onko joku ikäryhmä siirtynyt selkeästi seuraavaan viisivuotislokeroon mittausten välissä?"
   ]
  },
  {
   "cell_type": "markdown",
   "metadata": {},
   "source": [
    "### Users - käyttäjät ympäri planeettaa."
   ]
  },
  {
   "cell_type": "markdown",
   "metadata": {},
   "source": [
    "\"User\"-termin alle mahtuu kaikenlaisia toimijoita, niin ulkomailla olevia tutkijoita, kesäopiskelijoita kuin teknikoitakin. Suurin osa ei asustele CERN:in päädyssä vaan toimii omien kansallisten instituutioidensa kautta verkon välityksellä, mutta poikkeuksiakin on (kuten tätä harjoitusta kirjoitteleva kesäopiskelija, joka kävi paistattelemassa päivää Sveitsin auringossa. Helou!)."
   ]
  },
  {
   "cell_type": "code",
   "execution_count": null,
   "metadata": {},
   "outputs": [],
   "source": [
    "# Aja tästä lisää tietoja vuoden 2017 väestä.\n",
    "\n",
    "userGen = pd.read_csv(\"https://raw.githubusercontent.com/cms-opendata-education/cms-jupyter-materials-finnish/master/Data/CERN_users_gender.csv\")\n",
    "userExp = pd.read_csv(\"https://raw.githubusercontent.com/cms-opendata-education/cms-jupyter-materials-finnish/master/Data/CERN_users_experiment_profession_nationality.csv\")\n"
   ]
  },
  {
   "cell_type": "code",
   "execution_count": null,
   "metadata": {},
   "outputs": [],
   "source": [
    "# Miltä näyttää Userien jakauma sukupuolen ja ammatin mukaan?\n",
    "userGen"
   ]
  },
  {
   "cell_type": "code",
   "execution_count": null,
   "metadata": {},
   "outputs": [],
   "source": [
    "# Kokeillaas vähän lisää kuvaajien piirtoa: piirakkadiagrammi työjakaumista. \n",
    "\n",
    "labels = 'Research physicists', 'Scientific & Engineering work', 'Technical work', 'Manual work', 'Prof. Admin.'\n",
    "sizes = [8421, 1015, 556, 3, 20]\n",
    "explode = (0, 0, 0.1, 0.3, 0.5)  # Kokeile muuttaa näitä numeroita, mitä tapahtuu?\n",
    "\n",
    "fig1, ax1 = plt.subplots()\n",
    "ax1.pie(sizes, explode=explode, labels=labels, autopct='%1.1f%%',\n",
    "        shadow=True, startangle=90)\n",
    "ax1.axis('equal')  # Equal auttaa piirtämään puhtaamman ympyrän.\n",
    "\n",
    "plt.title(\"Miesten työjakauma \\n\")\n",
    "plt.show()\n",
    "\n",
    "labels1 = 'Research physicists', 'Scientific & Engineering work', 'Technical work', 'Manual work', 'Prof. Admin.'\n",
    "sizes1 = [1995, 105, 60, 0, 61]\n",
    "explode1 = (0, 0, 0.1, 0.3, 0.5)  # Kokeile muuttaa näitä numeroita, mitä tapahtuu?\n",
    "\n",
    "fig2, ax2 = plt.subplots()\n",
    "ax2.pie(sizes1, explode=explode1, labels=labels1, autopct='%1.1f%%',\n",
    "        shadow=True, startangle=90)\n",
    "ax2.axis('equal')  # Equal auttaa piirtämään puhtaamman ympyrän.\n",
    "\n",
    "plt.title(\"Naisten työjakauma \\n\")\n",
    "plt.show()"
   ]
  },
  {
   "cell_type": "code",
   "execution_count": null,
   "metadata": {},
   "outputs": [],
   "source": [
    "# Tai kokeen, kansallisuuden ja ammatin? Taulukossa näkyy ensin koe, sitten samat henkilöt ammatin mukaan.\n",
    "userExp"
   ]
  },
  {
   "cell_type": "markdown",
   "metadata": {},
   "source": [
    "Muistatko miten tietoja haettiin? Kaivapa alle Suomen tiedot näkyviin. Missä kokeessa Suomi edustaa eniten?"
   ]
  },
  {
   "cell_type": "code",
   "execution_count": null,
   "metadata": {
    "collapsed": true
   },
   "outputs": [],
   "source": [
    "# Koodaa tähän näkyviin Suomen (FI) rivi ylläolevasta taulukosta! Voit katsoa apua ylhäältä, ensimmäisen taulukon alta.\n",
    "\n",
    "\n"
   ]
  },
  {
   "cell_type": "markdown",
   "metadata": {},
   "source": [
    "### Opiskelija - hyvät mahdollisuudet tulevaisuuteen? "
   ]
  },
  {
   "cell_type": "markdown",
   "metadata": {},
   "source": [
    "CERN on poikkeuksellinen paikka, jo tarjoamansa työympäristön monipuolisuuden ja hyväntuulisuuden vuoksi, mutta se on myös erinomainen kohde uteliaalle opiskelijalle. Mukaan voi päästä niin aikaisemmassa vaiheessa kesäopiskelijana kuin myöhemmin tohtorikoulutettavanakin eri alojen ohjelmien kautta. Sinänsä CERN itse ei ole oppilaitos, vaan opiskelijat ovat useimmiten paikalla omien organisaatioidensa ohjelmissa. Vilkaistaas viime vuoden hakutuloksia niistä ohjelmista, joita rahoitettiin CERN:in kautta (huom! Moni suomalainen opiskelija on paikalla User-nimikkeellä eikä siis näy näissä luvuissa)."
   ]
  },
  {
   "cell_type": "code",
   "execution_count": null,
   "metadata": {
    "collapsed": true
   },
   "outputs": [],
   "source": [
    "# Aja opiskelijatiedot tästä.\n",
    "\n",
    "opiskelijat = pd.read_csv(\"https://raw.githubusercontent.com/cms-opendata-education/cms-jupyter-materials-finnish/master/Data/CERN_student_recruitment.csv\")"
   ]
  },
  {
   "cell_type": "code",
   "execution_count": null,
   "metadata": {},
   "outputs": [],
   "source": [
    "opiskelijat"
   ]
  },
  {
   "cell_type": "code",
   "execution_count": null,
   "metadata": {
    "collapsed": true
   },
   "outputs": [],
   "source": [
    "# Katsotaanpas taas suhdelukuja hakijoiden sisäänpääsyn ja sukupuolijakauman kautta eri maiden kohdalla.\n",
    "\n",
    "TohtHak = opiskelijat[\"Doct. Application, Female\"]/opiskelijat[\"Doct. Application, Male\"]\n",
    "TohtHyv = opiskelijat[\"Doct. Selected, Female\"]/opiskelijat[\"Doct. Selected, Male\"]\n",
    "OpiHak = opiskelijat[\"Summer Application, Female\"]/opiskelijat[\"Summer Application, Male\"]\n",
    "OpiHyv = opiskelijat[\"Summer Selected, Female\"]/opiskelijat[\"Summer Selected, Male\"]\n",
    "\n",
    "# Tässä tehdään taas dataframe-taulukko, johon äsken lasketut tiedot liitetään sarakkeina.\n",
    "suhde = pd.DataFrame(data=opiskelijat[\"Nationality\"])\n",
    "suhde[\"Tohtoriksi haku\"] = TohtHak\n",
    "suhde[\"Tohtoriksi pääsy\"] = TohtHyv\n",
    "suhde[\"Kesähessuksi haku\"] = OpiHak\n",
    "suhde[\"Kesähessuksi pääsy\"] = OpiHyv\n"
   ]
  },
  {
   "cell_type": "code",
   "execution_count": null,
   "metadata": {},
   "outputs": [],
   "source": [
    "suhde"
   ]
  },
  {
   "cell_type": "markdown",
   "metadata": {},
   "source": [
    "Vaikka ylläoleva taulukko sinänsä onkin kuvaava, on se myös hyvin ylimalkaisesti määritetty esitettävän asian suhteen. Kokeilepa seuraavaksi itse tehdä samanlainen yllä olevaa koodia mukaillen, mutta niin, että vertaatkin kummankin sukupuolen hyväksyttyjä jäseniä oman sukupuolensa hakijoiden määriin. Huomaatko tuloksissa eroja? Miten tämä liittyy hakijoiden määriin? Kiinnostaisiko sinua itseäsi ehkä jonain päivänä tulla kokeilemaan?"
   ]
  },
  {
   "cell_type": "code",
   "execution_count": null,
   "metadata": {
    "collapsed": true
   },
   "outputs": [],
   "source": [
    "# Koodaa tähän!\n",
    "\n"
   ]
  },
  {
   "cell_type": "markdown",
   "metadata": {},
   "source": [
    "### Lisää lukemista ja uteliaita hetkiä tilastojen parissa!"
   ]
  },
  {
   "cell_type": "markdown",
   "metadata": {},
   "source": [
    "Tämän harjoitteen tiedot on kerätty täältä :[https://home.cern/about/who-we-are/our-governance/member-states](https://home.cern/about/who-we-are/our-governance/member-states) ja täältä: [https://cds.cern.ch/collection/CERN%20Annual%20Personnel%20Statistics?ln=en](https://cds.cern.ch/collection/CERN%20Annual%20Personnel%20Statistics?ln=en). Siellä on paljon enemmänkin vapaasti saatavilla, jos kiinnostaa: asumistietoja, perhekokoja, rekisteröityjen parisuhteiden määriä ja muuta kiintoisaa.\n",
    "\n",
    "Antoisaa näpertelyä datan parissa!\n",
    "\n"
   ]
  }
 ],
 "metadata": {
  "kernelspec": {
   "display_name": "Python 3",
   "language": "python",
   "name": "python3"
  },
  "language_info": {
   "codemirror_mode": {
    "name": "ipython",
    "version": 3
   },
   "file_extension": ".py",
   "mimetype": "text/x-python",
   "name": "python",
   "nbconvert_exporter": "python",
   "pygments_lexer": "ipython3",
   "version": "3.7.3"
  }
 },
 "nbformat": 4,
 "nbformat_minor": 2
}
