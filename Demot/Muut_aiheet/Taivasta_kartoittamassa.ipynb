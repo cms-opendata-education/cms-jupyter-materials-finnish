{
 "cells": [
  {
   "cell_type": "markdown",
   "metadata": {},
   "source": [
    "# Taivasta kartoittamassa - mitä näemme yllämme?"
   ]
  },
  {
   "cell_type": "markdown",
   "metadata": {},
   "source": [
    "Tähdet ovat aina kiehtoneet ihmismieltä, mutta mitä me varsinaisesti näemme paitsi kauniiden, kirkkaiden pisteiden peiton?"
   ]
  },
  {
   "cell_type": "code",
   "execution_count": null,
   "metadata": {},
   "outputs": [],
   "source": [
    "# AJA TÄMÄ SOLU ENSIN! Tässä otetaan käyttöön tarvittavat python-paketit.\n",
    "\n",
    "import pandas as pd\n",
    "import numpy as np\n",
    "import matplotlib.pyplot as plt"
   ]
  },
  {
   "cell_type": "markdown",
   "metadata": {},
   "source": [
    "Otetaan tarkasteltavaksi joukko tietoja yllämme näkyvistä kohteista, joiden laajemmat versiot löytyvät selityksineen osoitteesta http://www.astronexus.com/hyg HYG-tietokannasta. Pääpiirteissään kyseessä on sellaisten tähtien joukko, jotka ovat joko tarpeeksi kirkkaita näkyäkseen Maasta käsin tai lähellä Aurinkoa (noh, tähtitieteellisessä mitassa lähellä, 75 valovuoden etäisyydellä).\n",
    "\n",
    "Mistä HYG on lyhenne? Käypä selvittämässä!"
   ]
  },
  {
   "cell_type": "code",
   "execution_count": null,
   "metadata": {},
   "outputs": [],
   "source": [
    "# Ajamalla tämän solun saat käyttöösi suuren katalogin tähtien tietoja.\n",
    "# Kiitokset Adam Lameelle helposti luettavan setin luomisesta.\n",
    "\n",
    "taivas = pd.read_csv(\"https://raw.githubusercontent.com/adamlamee/CODINGinK12/master/data/stars.csv\")\n"
   ]
  },
  {
   "cell_type": "markdown",
   "metadata": {},
   "source": [
    "### Miltä data näyttää?"
   ]
  },
  {
   "cell_type": "code",
   "execution_count": null,
   "metadata": {},
   "outputs": [],
   "source": [
    "# Tällä komennolla näet muuttujan ylimmät rivit. Mitä käy jos vaihdat suluissa olevaa numeroa tai poistat sen?\n",
    "\n",
    "taivas.head(10)"
   ]
  },
  {
   "cell_type": "code",
   "execution_count": null,
   "metadata": {},
   "outputs": [],
   "source": [
    "# Tällä komennolla voit tarkistaa, montako riviä dataa on.\n",
    "\n",
    "len(taivas)"
   ]
  },
  {
   "cell_type": "markdown",
   "metadata": {},
   "source": [
    "Taulukosta nähdään joukko kryptisiä sarakkeita. Tarkemmat selitykset löytyvät [Astronexuksen sivulta](http://www.astronexus.com/hyg), mutta oleellisimmat lienevät tähtien paikkatiedot (rektaskensio \"ra\", deklinaatio \"dec\", etäisyys \"dist\") ja valaisuun liittyvät ominaisuudet (havaittu magnitudi \"mag\" ja absoluuttinen kirkkaus \"absmag\", lämpötila \"temp\" sekä luminositeetti \"lum\"). Ryhdytään nyt tarkastelemaan mitä näistä voidaan nähdä.\n",
    "\n",
    "(Tutustu rektaskensioon ja deklinaatioon [täällä](https://fi.wikipedia.org/wiki/Rektaskensio).)"
   ]
  },
  {
   "cell_type": "markdown",
   "metadata": {},
   "source": [
    "### Kerro, kerro, kuvaaja"
   ]
  },
  {
   "cell_type": "code",
   "execution_count": null,
   "metadata": {},
   "outputs": [],
   "source": [
    "# Tässä otetaan \"taivas\"-tietorakenteesta kaksi saraketta ja luodaan niiden arvopareista kuvaaja.\n",
    "\n",
    "plt.figure(figsize=(15, 4))\n",
    "plt.scatter(taivas.ra, taivas.dec, s=0.01) # Mitä tietoja tässä käytettiin?\n",
    "plt.xlim(24, 0)\n",
    "\n",
    "plt.title(\"Kaikkien katalogissa olevien tähtien paikat Maasta katsottuna \\n\")\n",
    "plt.xlabel('Tarvitsen nimen') # Korjaapa tämä otsikko sopivaksi!\n",
    "plt.ylabel('Akseloin, siis olen') # Korjaapa tämä otsikko sopivaksi!\n",
    "\n",
    "plt.show()\n",
    "\n",
    "# Näetkö muotoja kuvassa? Mistä moiset voisivat johtua?"
   ]
  },
  {
   "cell_type": "markdown",
   "metadata": {},
   "source": [
    "Tähtiä luokitellaan usein lämpötilansa ja kirkkautensa mukaan, siten että kirkkaammilla tähdillä on pienempi absoluuttinen magnitudi. Auringolla se on noin 4,8 (vai oliko? Mitä sanoo tarkastelemamme data?)."
   ]
  },
  {
   "cell_type": "code",
   "execution_count": null,
   "metadata": {},
   "outputs": [],
   "source": [
    "# Piirretään taas x,y-parien mukainen kuvaaja, jonka pisteitä\n",
    "# käsitellään hieman niin, että niistä erottaakin jotakin.\n",
    "\n",
    "plt.figure(figsize = (10,10))\n",
    "plt.scatter(taivas.temp, taivas.absmag, s = 1, edgecolors = 'none', color = \"red\")\n",
    "plt.xlim(2000,15000) # Mitä käy jos säädät näitä numeroita?\n",
    "plt.ylim(20,-15)\n",
    "\n",
    "plt.title(\"Keksipäs tähän kiva otsikko \\n\") # Muokkaa tämä sopivammaksi.\n",
    "plt.ylabel(\"Absoluuttinen magnitudi\")\n",
    "plt.xlabel(\"Pintalämpötila (K)\")\n",
    "\n",
    "plt.show()\n"
   ]
  },
  {
   "cell_type": "markdown",
   "metadata": {},
   "source": [
    "Painottuvatko tulokset jonnekin? Erottuvatko jotkin alueet muusta massasta? Löydätkö kuvasta kirkkaan, muttei erityisen lämpimän alueen (jättiläisiä)? Erityisen kuuman ja kirkkaan, mutta pienistä tähdistä koostuvan valkoisten kääpiöiden alueen?\n"
   ]
  },
  {
   "cell_type": "markdown",
   "metadata": {},
   "source": [
    "### Tähdistöt"
   ]
  },
  {
   "cell_type": "markdown",
   "metadata": {},
   "source": [
    "Harvempi tähti on yksinäinen, vaan useimmiten ne kuuluvat suurempiin tähtijoukkoihin joille on annettu erilaisia nimiä pitkin vuosituhansia ja kulttuuripiirejä. Kansainväliseen käyttöön vakiintuneimmat nimet ovat eurooppalaista perua ja löytyvät \"taivas\"-tietorakenteen sarakkeesta \"con\" (constellation, tähdistö)."
   ]
  },
  {
   "cell_type": "code",
   "execution_count": null,
   "metadata": {},
   "outputs": [],
   "source": [
    "# Tämä poimii sarakkeesta listan lyhenteitä, jotka vastaavat tähdistöjen nimiä.\n",
    "\n",
    "taivas.sort_values('con').con.unique() # Pystytkö sanallistamaan, mitä tällä rivillä käskettiin?"
   ]
  },
  {
   "cell_type": "markdown",
   "metadata": {},
   "source": [
    "Tarkastellaan seuraavaksi, miten voisimme luokitella kunkin tähdistön sisältämiä tähtiä toisiinsa ja poimia sieltä joitain kiinnostavia yksilöitä."
   ]
  },
  {
   "cell_type": "code",
   "execution_count": null,
   "metadata": {},
   "outputs": [],
   "source": [
    "# Tämä näyttää yhden tähdistön, vaihda kysyttyä lyhennettä alla ja tutki muitakin!\n",
    "# Komento .query('...') antaa etsiä tietyntyyppistä dataa koko aineistosta.\n",
    "\n",
    "constellation = taivas.query('con == \"Vir\"')\n",
    "\n",
    "# Käytetään \"subplot\"-ominaisuutta piirtämään useita asioita yhtä aikaa.\n",
    "\n",
    "plt.figure(figsize=(12, 4))\n",
    "plt.subplot(1, 2, 1)\n",
    "\n",
    "# Tällä saat näkyviin kyseisen tähdistön 10 kirkkainta. Mitäs jos .headin arvoa muuttaisi?\n",
    "\n",
    "constellation = constellation.sort_values('mag').head(10)\n",
    "plt.scatter(constellation.ra, constellation.dec)\n",
    "plt.gca().invert_xaxis()\n",
    "\n",
    "plt.title(\"Tähdistön kuva taivaalla \\n\")\n",
    "plt.xlabel('Rektaskensio')\n",
    "plt.ylabel('Deklinaatio')\n",
    "\n",
    "plt.subplot(1, 2, 2)\n",
    "\n",
    "# Okei, mutta mites nämä suhtautuvat koko käsiteltyyn aineistoon? Nyt lyödäänkin yhden tähdistön kirkkaimmat\n",
    "# pisteet koko kartalle näkyviin.\n",
    "\n",
    "plt.scatter(taivas.temp, taivas.absmag, s = 1, edgecolors = 'none', alpha = 0.2)\n",
    "plt.scatter(constellation.temp, constellation.absmag, color = 'red', edgecolors = 'none')\n",
    "plt.xlim(2000,15000)\n",
    "plt.ylim(20,-15)\n",
    "\n",
    "plt.title(\"Verrattuna koko taivaaseen \\n\")\n",
    "plt.ylabel(\"Absoluuttinen magnitudi\")\n",
    "plt.xlabel(\"Lämpötila (K)\")\n",
    "\n",
    "plt.show()"
   ]
  },
  {
   "cell_type": "markdown",
   "metadata": {},
   "source": [
    "Miten tuloksesi asettuvat tähtien elinkaarta kuvaavalle Hertzsprung-Russell -kuvaajalle? (huomaa akselit!)\n",
    "\n",
    "<img src = \"https://8green2017.files.wordpress.com/2013/04/hr_diagram.jpg\">"
   ]
  },
  {
   "cell_type": "markdown",
   "metadata": {},
   "source": [
    "### Aurinko, lähin tähtemme"
   ]
  },
  {
   "cell_type": "markdown",
   "metadata": {},
   "source": [
    "Aurinko on monin tavoin tärkeä meille ihmisille, niin planeettamme elämän mahdollistajana kuin parhaana tutkimuskohteenakin selvittäessämme, miten tähdet toimivat. Verrattuna kaikkeen muuhun koko aurinkokunnassa se on valtava, mutta kaikkien tähtien joukossa melkoinen höyhensarjalainen. Tarkastellaan vielä, miten se vertautuu näihin lähisukulaisiinsa."
   ]
  },
  {
   "cell_type": "code",
   "execution_count": null,
   "metadata": {},
   "outputs": [],
   "source": [
    "# Aurinko, Sol, voidaan etsiä erilleen muista hakukomennolla.\n",
    "\n",
    "aurinko = taivas.query('proper == \"Sol\"')\n",
    "\n",
    "print(aurinko)"
   ]
  },
  {
   "cell_type": "code",
   "execution_count": null,
   "metadata": {},
   "outputs": [],
   "source": [
    "# Jos nyt haluaisimme esimerkiksi vertailla sen lämpötilaa muihin...\n",
    "\n",
    "isommat = taivas[taivas.temp > float(aurinko.temp)] # tässä float() on tarpeen muuttamaan\n",
    "                                                    # tyypit samanlaisiksi, eli liukuluvuiksi\n",
    "pienet = taivas[taivas.temp < float(aurinko.temp)]\n",
    "\n",
    "print(\"Aurinkoa kuumempia tähtiä on listassa \" + repr(len(isommat)))\n",
    "print(\"Aurinkoa kylmempiä tähtiä on listassa \" + repr(len(pienet)))\n",
    "\n"
   ]
  },
  {
   "cell_type": "markdown",
   "metadata": {},
   "source": [
    "Miten saisit vertailtua tähtien kirkkauksia (sekä havaittavaa että absoluuttista) ylläolevaan tapaan? Kokeile!"
   ]
  }
 ],
 "metadata": {
  "kernelspec": {
   "display_name": "Python 3",
   "language": "python",
   "name": "python3"
  },
  "language_info": {
   "codemirror_mode": {
    "name": "ipython",
    "version": 3
   },
   "file_extension": ".py",
   "mimetype": "text/x-python",
   "name": "python",
   "nbconvert_exporter": "python",
   "pygments_lexer": "ipython3",
   "version": "3.8.5"
  }
 },
 "nbformat": 4,
 "nbformat_minor": 2
}
