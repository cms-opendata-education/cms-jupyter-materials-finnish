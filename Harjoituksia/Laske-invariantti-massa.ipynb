{
 "cells": [
  {
   "cell_type": "markdown",
   "metadata": {},
   "source": [
    "# Invariantin massan laskeminen"
   ]
  },
  {
   "cell_type": "markdown",
   "metadata": {},
   "source": [
    "Tässä esimerkissä opetellaan laskemaan __invariantti massa__ CMS:n avoimen datan arvojen avulla. Invariantti massa on hiukkasfyysikoille tärkeä työkalu hiukkasten tunnistamisessa.\n",
    "\n",
    "Seuraavat CSV-tiedostot sisältävät jo valmiiksi lasketut arvot invariantille massalle:\n",
    "    - dielectron.csv\n",
    "\t- DoubleMuRun2011A.csv\n",
    "\t- Jpsimumu_Run2011A.csv\n",
    "\t- Ymumu_Run2011A.csv\n",
    "\n",
    "Esimerkiksi tiedostojen 'Zmumu_Run2011A.csv' ja 'Zee_Run2011A.csv' tapauksissa invariantin massan arvot voidaan laskea helposti. Alustetaan lasku hakemalla tarvittavat moduulit sekä käyttämämme data. Käytetään tässä tiedostoa 'Zmumu_Run2011A.csv', johon on valikoitu tietyin kriteerein [1] törmäystapahtumia CMS:n vuoden 2011 DoubleMu-datasetistä [2].\n",
    "<br>\n",
    "<br>\n",
    "<br>\n",
    "[1] Thomas McCauley (2016). Zmumu. Jupyter Notebook file. https://github.com/tpmccauley/cmsopendata-jupyter/blob/hst-0.1/Zmumu.ipynb.\n",
    "<br>\n",
    "[2]  CMS collaboration (2016). DoubleMu primary dataset in AOD format from RunA of 2011 (/DoubleMu/Run2011A-12Oct2013-v1/AOD). CERN Open Data Portal. DOI: [10.7483/OPENDATA.CMS.RZ34.QR6N](http://doi.org/10.7483/OPENDATA.CMS.RZ34.QR6N)."
   ]
  },
  {
   "cell_type": "markdown",
   "metadata": {},
   "source": [
    "### Datan hakeminen"
   ]
  },
  {
   "cell_type": "code",
   "execution_count": 1,
   "metadata": {
    "collapsed": true
   },
   "outputs": [],
   "source": [
    "# Haetaan tarvittavat moduulit. Nimetään pandas-moduuli 'pd'ksi ja numpy-moduuli 'np'ksi.\n",
    "import pandas as pd\n",
    "import numpy as np\n",
    "\n",
    "# Haetaan data ja tallennetaan se muuttujaan 'datasetti'.\n",
    "datasetti = pd.read_csv('../Data/Zmumu_Run2011A.csv')"
   ]
  },
  {
   "cell_type": "markdown",
   "metadata": {},
   "source": [
    "Saamme tarkistettua 'datasettiin' tallentamamme datan sisällön tulostamalla viisi ensimmäistä tapahtumaa alla olevalla koodilla:"
   ]
  },
  {
   "cell_type": "code",
   "execution_count": 2,
   "metadata": {
    "collapsed": false
   },
   "outputs": [
    {
     "data": {
      "text/html": [
       "<div>\n",
       "<style>\n",
       "    .dataframe thead tr:only-child th {\n",
       "        text-align: right;\n",
       "    }\n",
       "\n",
       "    .dataframe thead th {\n",
       "        text-align: left;\n",
       "    }\n",
       "\n",
       "    .dataframe tbody tr th {\n",
       "        vertical-align: top;\n",
       "    }\n",
       "</style>\n",
       "<table border=\"1\" class=\"dataframe\">\n",
       "  <thead>\n",
       "    <tr style=\"text-align: right;\">\n",
       "      <th></th>\n",
       "      <th>Run</th>\n",
       "      <th>Event</th>\n",
       "      <th>pt1</th>\n",
       "      <th>eta1</th>\n",
       "      <th>phi1</th>\n",
       "      <th>Q1</th>\n",
       "      <th>dxy1</th>\n",
       "      <th>iso1</th>\n",
       "      <th>pt2</th>\n",
       "      <th>eta2</th>\n",
       "      <th>phi2</th>\n",
       "      <th>Q2</th>\n",
       "      <th>dxy2</th>\n",
       "      <th>iso2</th>\n",
       "    </tr>\n",
       "  </thead>\n",
       "  <tbody>\n",
       "    <tr>\n",
       "      <th>0</th>\n",
       "      <td>165617</td>\n",
       "      <td>74969122</td>\n",
       "      <td>54.7055</td>\n",
       "      <td>-0.432396</td>\n",
       "      <td>2.574210</td>\n",
       "      <td>1</td>\n",
       "      <td>-0.074544</td>\n",
       "      <td>0.499921</td>\n",
       "      <td>34.2464</td>\n",
       "      <td>-0.988480</td>\n",
       "      <td>-0.498704</td>\n",
       "      <td>-1</td>\n",
       "      <td>0.071222</td>\n",
       "      <td>3.42214</td>\n",
       "    </tr>\n",
       "    <tr>\n",
       "      <th>1</th>\n",
       "      <td>165617</td>\n",
       "      <td>75138253</td>\n",
       "      <td>24.5872</td>\n",
       "      <td>-2.052200</td>\n",
       "      <td>2.866570</td>\n",
       "      <td>-1</td>\n",
       "      <td>-0.055437</td>\n",
       "      <td>0.000000</td>\n",
       "      <td>28.5389</td>\n",
       "      <td>0.385163</td>\n",
       "      <td>-1.991170</td>\n",
       "      <td>1</td>\n",
       "      <td>0.051477</td>\n",
       "      <td>0.00000</td>\n",
       "    </tr>\n",
       "    <tr>\n",
       "      <th>2</th>\n",
       "      <td>165617</td>\n",
       "      <td>75887636</td>\n",
       "      <td>31.7386</td>\n",
       "      <td>-2.259450</td>\n",
       "      <td>-1.332290</td>\n",
       "      <td>-1</td>\n",
       "      <td>0.087917</td>\n",
       "      <td>0.000000</td>\n",
       "      <td>30.2344</td>\n",
       "      <td>-0.468419</td>\n",
       "      <td>1.883310</td>\n",
       "      <td>1</td>\n",
       "      <td>-0.087639</td>\n",
       "      <td>0.00000</td>\n",
       "    </tr>\n",
       "    <tr>\n",
       "      <th>3</th>\n",
       "      <td>165617</td>\n",
       "      <td>75779415</td>\n",
       "      <td>39.7394</td>\n",
       "      <td>-0.712338</td>\n",
       "      <td>-0.312266</td>\n",
       "      <td>1</td>\n",
       "      <td>0.058481</td>\n",
       "      <td>0.000000</td>\n",
       "      <td>48.2790</td>\n",
       "      <td>-0.195625</td>\n",
       "      <td>2.970320</td>\n",
       "      <td>-1</td>\n",
       "      <td>-0.049201</td>\n",
       "      <td>0.00000</td>\n",
       "    </tr>\n",
       "    <tr>\n",
       "      <th>4</th>\n",
       "      <td>165617</td>\n",
       "      <td>75098104</td>\n",
       "      <td>41.2998</td>\n",
       "      <td>-0.157055</td>\n",
       "      <td>-3.040770</td>\n",
       "      <td>1</td>\n",
       "      <td>-0.030463</td>\n",
       "      <td>1.228040</td>\n",
       "      <td>43.4508</td>\n",
       "      <td>0.590958</td>\n",
       "      <td>-0.042756</td>\n",
       "      <td>-1</td>\n",
       "      <td>0.044175</td>\n",
       "      <td>0.00000</td>\n",
       "    </tr>\n",
       "  </tbody>\n",
       "</table>\n",
       "</div>"
      ],
      "text/plain": [
       "      Run     Event      pt1      eta1      phi1  Q1      dxy1      iso1  \\\n",
       "0  165617  74969122  54.7055 -0.432396  2.574210   1 -0.074544  0.499921   \n",
       "1  165617  75138253  24.5872 -2.052200  2.866570  -1 -0.055437  0.000000   \n",
       "2  165617  75887636  31.7386 -2.259450 -1.332290  -1  0.087917  0.000000   \n",
       "3  165617  75779415  39.7394 -0.712338 -0.312266   1  0.058481  0.000000   \n",
       "4  165617  75098104  41.2998 -0.157055 -3.040770   1 -0.030463  1.228040   \n",
       "\n",
       "       pt2      eta2      phi2  Q2      dxy2     iso2  \n",
       "0  34.2464 -0.988480 -0.498704  -1  0.071222  3.42214  \n",
       "1  28.5389  0.385163 -1.991170   1  0.051477  0.00000  \n",
       "2  30.2344 -0.468419  1.883310   1 -0.087639  0.00000  \n",
       "3  48.2790 -0.195625  2.970320  -1 -0.049201  0.00000  \n",
       "4  43.4508  0.590958 -0.042756  -1  0.044175  0.00000  "
      ]
     },
     "execution_count": 2,
     "metadata": {},
     "output_type": "execute_result"
    }
   ],
   "source": [
    "datasetti.head()"
   ]
  },
  {
   "cell_type": "markdown",
   "metadata": {},
   "source": [
    "### Laskun suorittaminen"
   ]
  },
  {
   "cell_type": "markdown",
   "metadata": {},
   "source": [
    "Käytetään laskussa seuraavaa lauseketta invariantille massalle $M$. Lausekkeessa $p_T$ on liikemäärän hiukkassuihkua vastaan kohtisuora komponentti, $\\eta$ pseudorapiditeetti ja $\\phi$ atsimuuttikulma:\n",
    "\n",
    "$$M = \\sqrt{2p_{T1}p_{T2}(\\cosh(\\eta_1-\\eta_2)-\\cos(\\phi_1-\\phi_2))}$$\n",
    "\n",
    "Alla olevassa laskussa käytämme apuna _numpy_-moduulia, jonka nimesimme yllä _np_:ksi. Moduulin avulla voimme suorittaa matemaattisia komentoja, esimerkiksi _sqrt_ ja _cosh_ kutsumalla ensin moduulin nimeä ja pisteellä erottaen komentoa (esimerkiksi _np.sqrt_). Koodissa esiintyvät pt1, pt2, eta1, eta2, phi1 ja phi2 viittaavat hakemamme datan suureiden nimiin. \n",
    "\n",
    "Nyt voimme laskea invariatin massan arvot eri tapahtumille. _Numpy_-moduuli osaa atuomaattisesti laskea arvot kaikille tapahtumille, kun annamme laskun sille muodossa, jossa esiintyy yllä mainitut viitteet suureiden nimiin. Tällöin siis lasku lasketaan jokaiselle riville erikseen."
   ]
  },
  {
   "cell_type": "code",
   "execution_count": 3,
   "metadata": {
    "collapsed": true
   },
   "outputs": [],
   "source": [
    "invariantti_massa = np.sqrt(2*datasetti.pt1*datasetti.pt2*(np.cosh(datasetti.eta1-datasetti.eta2) - np.cos(datasetti.phi1-datasetti.phi2)))"
   ]
  },
  {
   "cell_type": "markdown",
   "metadata": {},
   "source": [
    "Laskun jälkeen voimme tarkastaa, minkälaisia tuloksia luomaamme muuttujaan 'invariantti_massa' tallentui tulostamalla muuttujan sisällön."
   ]
  },
  {
   "cell_type": "code",
   "execution_count": 4,
   "metadata": {
    "collapsed": false
   },
   "outputs": [
    {
     "name": "stdout",
     "output_type": "stream",
     "text": [
      "0         89.885744\n",
      "1         88.810987\n",
      "2         88.472502\n",
      "3         90.332620\n",
      "4         90.514507\n",
      "5         78.860094\n",
      "6         92.362439\n",
      "7         63.757254\n",
      "8         93.118647\n",
      "9         92.941701\n",
      "10        88.896587\n",
      "11        85.363437\n",
      "12        87.934228\n",
      "13        90.414225\n",
      "14        65.034823\n",
      "15        89.348601\n",
      "16        91.297563\n",
      "17        92.258489\n",
      "18        92.493002\n",
      "19        68.358712\n",
      "20        92.112023\n",
      "21        91.171556\n",
      "22        85.909734\n",
      "23        91.645777\n",
      "24        88.392430\n",
      "25        91.760237\n",
      "26        91.179805\n",
      "27        91.785881\n",
      "28        91.349970\n",
      "29        99.112667\n",
      "            ...    \n",
      "10553     91.027596\n",
      "10554     93.261764\n",
      "10555     76.810535\n",
      "10556     80.206206\n",
      "10557     89.126026\n",
      "10558     96.116627\n",
      "10559     89.928690\n",
      "10560     87.901985\n",
      "10561     90.919888\n",
      "10562     90.767179\n",
      "10563     63.837491\n",
      "10564     76.605770\n",
      "10565     67.312657\n",
      "10566     89.984530\n",
      "10567     94.494826\n",
      "10568     89.234208\n",
      "10569     91.644511\n",
      "10570     67.081134\n",
      "10571     91.920312\n",
      "10572     64.272065\n",
      "10573     87.095179\n",
      "10574     90.373603\n",
      "10575    117.853840\n",
      "10576     84.385922\n",
      "10577     90.999327\n",
      "10578     90.610799\n",
      "10579     89.744873\n",
      "10580     90.714366\n",
      "10581     91.945212\n",
      "10582     87.838121\n",
      "Length: 10583, dtype: float64\n"
     ]
    }
   ],
   "source": [
    "print(invariantti_massa)"
   ]
  },
  {
   "cell_type": "markdown",
   "metadata": {},
   "source": [
    "Mikäli haluat lisätä lasketut arvot uutena sarakkeena tallennettuun taulukkoon, niin katso esimerkki [täältä](https://github.com/cms-opendata-education/cms-jupyter-materials-finnish/blob/master/Johdatus-jupyteriin/Lisaa-sarake-taulukkoon.ipynb)."
   ]
  }
 ],
 "metadata": {
  "kernelspec": {
   "display_name": "Python 3",
   "language": "python",
   "name": "python3"
  },
  "language_info": {
   "codemirror_mode": {
    "name": "ipython",
    "version": 3
   },
   "file_extension": ".py",
   "mimetype": "text/x-python",
   "name": "python",
   "nbconvert_exporter": "python",
   "pygments_lexer": "ipython3",
   "version": "3.6.0"
  }
 },
 "nbformat": 4,
 "nbformat_minor": 1
}
