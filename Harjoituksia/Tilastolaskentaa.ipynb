{
 "cells": [
  {
   "cell_type": "markdown",
   "metadata": {},
   "source": [
    "# Tilastollista laskentaa CMS:n datalla"
   ]
  },
  {
   "cell_type": "markdown",
   "metadata": {},
   "source": [
    "Pythonilla voidaan laskea helposti tilastollisia tunnuslukuja CMS:n avoimelle datalle. Tutustutaan seuraavaksi keskiarvon, varianssin ja keskihajonnan laskemiseen. Käytetään CMS:n törmäysdataa tiedostossa _Jpsimumu_\\__Run2011A.csv_, johon on valittu tietyin kriteerein [1] törmäystapahtumia CMS:n vuoden 2011 DoubleMu-datasetistä [2]. Aloitetaan laskeminen hakemalla tarvittavat moduulit sekä data, ja valitsemalla datasta valmiiksi lasketut invariantin massan arvot.\n",
    "<br>\n",
    "<br>\n",
    "<br>\n",
    "[1] Thomas McCauley (2016). Jpsimumu. Jupyter Notebook file. https://github.com/tpmccauley/cmsopendata-jupyter/blob/hst-0.1/Jpsimumu.ipynb.\n",
    "<br>\n",
    "[2] CMS collaboration (2016). DoubleMu primary dataset in AOD format from RunA of 2011 (/DoubleMu/Run2011A-12Oct2013-v1/AOD). CERN Open Data Portal. DOI: [10.7483/OPENDATA.CMS.RZ34.QR6N](http://doi.org/10.7483/OPENDATA.CMS.RZ34.QR6N)."
   ]
  },
  {
   "cell_type": "markdown",
   "metadata": {},
   "source": [
    "### Alustus ja histogrammin piirtäminen"
   ]
  },
  {
   "cell_type": "code",
   "execution_count": 1,
   "metadata": {
    "collapsed": false
   },
   "outputs": [],
   "source": [
    "# Haetaan tarvittavat moduulit. Nimetään pandas-moduuli 'pd'ksi, numpy-moduuli 'np'ksi\n",
    "# ja matplotlib.pyplot 'plt'ksi.\n",
    "import pandas as pd\n",
    "import numpy as np\n",
    "%matplotlib inline\n",
    "import matplotlib.pyplot as plt\n",
    "\n",
    "datasetti = pd.read_csv('Data/Jpsimumu_Run2011A.csv')\n",
    "inv_massa = datasetti['M']"
   ]
  },
  {
   "cell_type": "markdown",
   "metadata": {},
   "source": [
    "<br>\n",
    "Piirretään datasettimme invarianteista massoista aluksi histogrammi:"
   ]
  },
  {
   "cell_type": "code",
   "execution_count": 2,
   "metadata": {
    "collapsed": false
   },
   "outputs": [
    {
     "data": {
      "image/png": "[encoded data removed]",
      "text/plain": [
       "<matplotlib.figure.Figure at 0x7f4f24feb510>"
      ]
     },
     "metadata": {},
     "output_type": "display_data"
    }
   ],
   "source": [
    "plt.hist(inv_massa, bins=500)\n",
    "plt.show()"
   ]
  },
  {
   "cell_type": "markdown",
   "metadata": {},
   "source": [
    "### Keskiarvo $\\bar x$"
   ]
  },
  {
   "cell_type": "markdown",
   "metadata": {},
   "source": [
    "Keskiarvon laskeminen onnistuu kätevästi _numpy_-moduulin funktiolla _mean( )_. Lasketaan keskiarvo käyttämämme datasetin invarianteille massoille:"
   ]
  },
  {
   "cell_type": "code",
   "execution_count": 3,
   "metadata": {
    "collapsed": false,
    "scrolled": true
   },
   "outputs": [
    {
     "name": "stdout",
     "output_type": "stream",
     "text": [
      "3.08437363445\n"
     ]
    }
   ],
   "source": [
    "keskiarvo = np.mean(inv_massa)\n",
    "print(keskiarvo)"
   ]
  },
  {
   "cell_type": "markdown",
   "metadata": {},
   "source": [
    "### Varianssi $\\sigma^2$"
   ]
  },
  {
   "cell_type": "markdown",
   "metadata": {},
   "source": [
    "Varianssille on määritetty lauseke $$\\sigma^2 = \\frac{\\sum_{i=1}^{n}(x_i-\\bar{x})^2}{n}.$$\n",
    "\n",
    "Pythonilla varianssin laskeminen onnistuu _numpy_-moduulin funktiolla _var( )_. Lasketaan invarianteille massoille varianssi:"
   ]
  },
  {
   "cell_type": "code",
   "execution_count": 4,
   "metadata": {
    "collapsed": false
   },
   "outputs": [
    {
     "name": "stdout",
     "output_type": "stream",
     "text": [
      "0.39216919089\n"
     ]
    }
   ],
   "source": [
    "varianssi = np.var(inv_massa)\n",
    "print(varianssi)"
   ]
  },
  {
   "cell_type": "markdown",
   "metadata": {},
   "source": [
    "### Keskihajonta $\\sigma$"
   ]
  },
  {
   "cell_type": "markdown",
   "metadata": {},
   "source": [
    "Koska keskihajonta on varianssin neliöjuuri, voimme laskea invarianteille massoille keskihajonnan helposti edellä lasketun varianssin avulla. Käytetään _numpy_:n funktiota _sqrt( )_, joka laskee sille annetun arvon neliöjuuren:"
   ]
  },
  {
   "cell_type": "code",
   "execution_count": 5,
   "metadata": {
    "collapsed": false
   },
   "outputs": [
    {
     "name": "stdout",
     "output_type": "stream",
     "text": [
      "0.626234134242\n"
     ]
    }
   ],
   "source": [
    "keskihajonta = np.sqrt(varianssi)\n",
    "print(keskihajonta)"
   ]
  }
 ],
 "metadata": {
  "kernelspec": {
   "display_name": "Python 2",
   "language": "python",
   "name": "python2"
  },
  "language_info": {
   "codemirror_mode": {
    "name": "ipython",
    "version": 2
   },
   "file_extension": ".py",
   "mimetype": "text/x-python",
   "name": "python",
   "nbconvert_exporter": "python",
   "pygments_lexer": "ipython2",
   "version": "2.7.10"
  }
 },
 "nbformat": 4,
 "nbformat_minor": 0
}
