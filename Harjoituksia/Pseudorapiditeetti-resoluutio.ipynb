{
 "cells": [
  {
   "cell_type": "markdown",
   "metadata": {},
   "source": [
    "### Taustatietoja"
   ]
  },
  {
   "cell_type": "markdown",
   "metadata": {},
   "source": [
    "Tämä notebook sisältää esimerkkitehtävän, jossa tutkitaan pseudorapiditeetin vaikutusta CMS-hiukkasilmaisimen mittatarkkuuteen. Esimerkkitehtävä sisältää aluksi lyhyen teoriapaketin, ja tämän jälkeen käytännön osuuden."
   ]
  },
  {
   "cell_type": "markdown",
   "metadata": {},
   "source": [
    "# Pseudorapiditeetin $\\eta$ vaikutus CMS-ilmaisimen mittatarkkuuteen"
   ]
  },
  {
   "cell_type": "markdown",
   "metadata": {},
   "source": [
    "Tässä tehtävässä tutustutaan CMS-hiukkasilmaisimeen ja pseudorapiditeetin käsitteeseen. CMS-ilmaisimella kerätyn oikean datan avulla selvitetään, miten pseudorapiditeetin vaikutus ilmaisimen mittatarkkuuteen näkyy kokeellisissa tuloksissa."
   ]
  },
  {
   "cell_type": "markdown",
   "metadata": {},
   "source": [
    "## CMS-ilmaisin"
   ]
  },
  {
   "cell_type": "markdown",
   "metadata": {},
   "source": [
    "Alla olevassa kuvassa on Euroopan hiukkasfysiikan tutkimuskeskuksessa CERNissä sijaitseva CMS-hiukkasilmaisin avattuna. CERNin LHC-kiihdyttimellä kiihdytetään hiukkassuihkuja ja törmäytetään niitä toisiinsa. Hiukkasilmaisimet havaitsevat näissä törmäyksissä syntyneitä hiukkasia.\n",
    "\n",
    "<img src=\"../Kuvat/CMS_avattu.jpg\" alt=\"CMS-ilmaisin avattuna\" style=\"height: 400px\">\n",
    "\n",
    "(Kuva: Domenico Salvagnin, https://commons.wikimedia.org/wiki/File:CMS@CERN.jpg)\n",
    "<br>\n",
    "<br>\n",
    "<br>"
   ]
  },
  {
   "cell_type": "markdown",
   "metadata": {},
   "source": [
    "## Pseudorapiditeetti"
   ]
  },
  {
   "cell_type": "markdown",
   "metadata": {},
   "source": [
    "Kokeellisessa hiukkasfysiikassa käytetään yhtenä koordinaattina pseudorapiditeettia $\\eta$ (lausutaan \"eeta\"). Pseudorapiditeetti määritellään lausekkella\n",
    "\n",
    "$$ \\eta \\equiv -\\ln(\\tan(\\frac{\\theta}{2})), $$\n",
    "\n",
    "\n",
    "jossa $\\theta$ on havaitun hiukkasen liikemäärän ja hiukkassuihkun välinen kulma.\n",
    "\n",
    "Pseudorapiditeetti kuvaa siis kulmaa, joka ilmaisimessa havaitulla hiukkasella on verrattuna hiukkassuihkuun. Alla olevassa kuvassa hiukkassuihku kulkisi vaakasuoraan vasemmalta oikealle, eli suurilla $\\eta$:n arvoilla törmäyksessä syntynyt hiukkanen poikkeaa vain pienellä kulmalla hiukkassuihkun suunnasta. Pienillä $\\eta$:n arvoilla poikkeama on taas suuri.\n",
    "\n",
    "<img src=\"../Kuvat/pseudorapiditeetti.svg\" alt=\"Pseudorapiditeetti\" style=\"height: 200px\">\n",
    "\n",
    "(Kuva: Wikimedia-käyttäjä Mets501, https://en.wikipedia.org/wiki/Pseudorapidity#/media/File:Pseudorapidity_plot.svg)"
   ]
  },
  {
   "cell_type": "markdown",
   "metadata": {},
   "source": [
    "## Pseudorapiditeetin vaikutus mittatarkkuuteen"
   ]
  },
  {
   "cell_type": "markdown",
   "metadata": {},
   "source": [
    "CMS-ilmaisin pystyy mittaamaan esimerkiksi hiukkasten liikemääriä. Pseudorapiditeetti $\\eta$ vaikuttaa liikemäärän mittatarkkuuteen siten, että ilmaisimen keskiosaan osuneille hiukkasille (pieni $\\eta$) saadaan tarkempia arvoja kuin ilmaisimen päätyyn osuneille hiukkasille (suuri $\\eta$). Syy tälle on todennäköisesti se, että ilmaisimen päätyyn suuntautuneet hiukkaset kohtaavat matkalla enemmän muuta materiaalia (muita hiukkasia) kuin ilmaisimen keskiosaan osuneet hiukkaset. Vuorovaikutus muun materiaalin kanssa aiheuttaa epätarkkuutta päätyyn osuneiden hiukkasten liikemäärän mittaukseen.\n",
    "\n",
    "Alla oleva hahmotelma kuvaa törmäystilanteessa syntyneitä kahta hiukkasta, joista toinen osuu ilmaisimen keskiosaan ja toinen päätyyn. Kuvaan on merkitty sekä pseudorapiditeettien $\\eta$ että kulmien $\\theta$ arvot.\n",
    "\n",
    "<img src=\"../Kuvat/sylinteri.svg\" alt=\"Luonnos CMS-ilmaisimesta\" style=\"height: 350px\">\n"
   ]
  },
  {
   "cell_type": "markdown",
   "metadata": {},
   "source": [
    "## Lähdetäänpä tutkimaan!"
   ]
  },
  {
   "cell_type": "markdown",
   "metadata": {},
   "source": [
    "Lähdetään seuraavaksi tarkastelemaan, miten pseudorapiditeetin vaikutus mittatarkkuuteen voidaan havaita CMS-ilmaisimen keräämän oikean datan avulla. Käytetään CMS:n vuodelta 2011 kerättyä dataa [1], josta on valittu 10851 törmäystapahtumaa (events) tiedostoon \"Zmumu_Run2011A_massoilla.csv\". (Karsinta on suoritettu koodilla, joka on avoimesti saatavilla osoitteessa https://github.com/tpmccauley/dimuon-filter.)\n",
    "\n",
    "Keskitytään tässä esimerkissä Z-bosonin hajoamiseen myoniksi $\\mu^-$ ja antimyoniksi $\\mu^+$.\n",
    "\n",
    "<img src=\"../Kuvat/z_hajoaminen.svg\" alt=\"Z-bosonin hajoaminen myoniksi ja antimyoniksi\" style=\"height: 200px\">\n",
    "\n",
    "Tiedostoon on valittu niitä törmäystapahtumia, joissa on esiintynyt täsmälleen kaksi myonia. Ilmaisin on havainnut nämä myonit ja mitannut niiden liikemäärät.\n",
    "\n",
    "Mittaustuloksista on laskettu jokaiselle myoniparille invariantti massa $M$. Invariantti massa on matemaattinen käsite, ei siis fysikaalinen massa. Invariantti massa määritellään lausekkeella\n",
    "\n",
    "$$ M = \\sqrt{(E_1 + E_2)^2-(\\vec{p_1} + \\vec{p_2})^2}. $$\n",
    "\n",
    "Määritelmässä $E_1$ ja $E_2$ ovat myonien energiat, sekä $\\vec{p_1}$ ja $\\vec{p_2}$ niiden liikemäärävektorit.\n",
    "\n",
    "Mikäli myonipari on peräisin Z-bosonin hajoamisesta, niin tämän myoniparin invariantti massa on yhtä suuri Z:n massan kanssa (91,1876 GeV, lähde [Particle Data Group](http://pdg.lbl.gov/2012/listings/rpp2012-list-z-boson.pdf)). Mikäli taas myonit ovat peräisin jostakin muusta prosessista (törmäyksissä tapahtuu valtava määrä erilaisia prosesseja), on niille laskettu invariantti massa jotakin muuta.\n",
    "\n",
    "Tarkastellaan eri tapahtumista laskettuja $M$:n arvoja luomalla niistä histogrammi. Histogrammi kertoo, kuinka monessa tapahtumassa $M$ saa arvon histogrammin pylvään määrittämältä väliltä. Histogrammin avulla voidaan nähdä, kuinka lähelle eri $M$:n arvot osuvat Z-bosonin massaa 91,1876 GeV.\n",
    "<br>\n",
    "<br>\n",
    "<br>\n",
    "[1]  CMS collaboration (2016). DoubleMu primary dataset in AOD format from RunA of 2011 (/DoubleMu/Run2011A-12Oct2013-v1/AOD). CERN Open Data Portal. DOI: [10.7483/OPENDATA.CMS.RZ34.QR6N](http://doi.org/10.7483/OPENDATA.CMS.RZ34.QR6N)."
   ]
  },
  {
   "cell_type": "markdown",
   "metadata": {},
   "source": [
    "## 1) Tapahtumien erottelu"
   ]
  },
  {
   "cell_type": "markdown",
   "metadata": {},
   "source": [
    "<img src=\"../Kuvat/pseudorapiditeetti.svg\" alt=\"Pseudorapiditeetti\" style=\"height: 200px\">\n",
    "\n",
    "Aluksi haluamme erotella kaikista tapahtumista kahteen ryhmään ne, joilla on suhteellisen suuri (esim. $\\eta$ > 1,52) ja suhteellisen pieni (esim. $\\eta$ < 0,45) pseudorapiditeetti. Suoritetaan erottelu alla olevalla koodilla. Jotta ilmaisimen mittatarkkuutta voitaisiin vertailla, kumpaankin ryhmään halutaan suurinpiirtein sama määrä tapahtumia.\n",
    "\n",
    "Suorita erottelu ajamalla alla olevaa koodia. Voit ajaa koodia klikkaamalla koodisolun aktiiviseksi ja painamalla näppäinyhdistelmää _Ctrl_ + _Enter_. Koodin seassa on #-merkillä eroteltuja kommenttirivejä. Ne eivät vaikuta koodin toimintaan, vaan niiden avulla selitetään tarkemmin, mitä milläkin komennolla tehdään koodissa."
   ]
  },
  {
   "cell_type": "code",
   "execution_count": 2,
   "metadata": {},
   "outputs": [
    {
     "name": "stdout",
     "output_type": "stream",
     "text": [
      "\n",
      "\n",
      "\n",
      "Kaikkien tapahtumien lukumäärä = 10851\n",
      "Tapahtumia, joissa kummankin myonin pseudorapiditeetti on suuri = 615\n",
      "Tapahtumia, joissa kummankin myonin pseudorapiditeetti on pieni = 603\n"
     ]
    }
   ],
   "source": [
    "# Haetaan tarvittavat moduulit. Pandas on data-analyysimoduuli, numpy tieteellisen laskennan moduuli ja\n",
    "# matplotlib.pyplot mahdollistaa kuvaajien piirtämisen. Annetaan näille kaikille lyhyemmät nimet (pd, np ja plt),\n",
    "# jotta myöhemmin niitä käytettäessä ei tarvitse kirjoittaa koko moduulin nimeä. \n",
    "import pandas as pd\n",
    "import numpy as np\n",
    "import matplotlib.pyplot as plt\n",
    "\n",
    "# Jos notebookia käytetään Python 2:lla, tarvitaan histogrammin teksteihin tuki ääkkösille.\n",
    "from __future__ import unicode_literals\n",
    "\n",
    "# Luodaan uusi DataFrame-rakenne CMS:n mittausdataa sisältävästä tiedostosta \"Zmumu_Run2011A_massoilla.csv\".\n",
    "# Tiedosto sisältää mitattuja ja laskettuja arvoja 10851:lle törmäystapahtumalle.\n",
    "# Nimetään luotu DataFrame \"datasetiksi\".\n",
    "datasetti = pd.read_csv('../Data/Zmumu_Run2011A_massoilla.csv')\n",
    "\n",
    "# Luodaan kaksi muuttujaa, \"ehto1\" ja \"ehto2\". Asetetaan näihin ehdot suurille ja pienille eetoille.\n",
    "# Voit muuttaa karsintaehtoja ja katsoa, miten tapahtumien lukumäärä muuttuu. Valitse kuitenkin sellaiset ehdot,\n",
    "# että suuren ja pienen pseudorapiditeetin tapahtumia on suurinpiirtein sama määrä.\n",
    "ehto1 = 1.52\n",
    "ehto2 = 0.45\n",
    "\n",
    "# Luodaan kaksi muuta DataFramea, \"suuret_eetat\" ja \"pienet_eetat\". Valitaan nimiensä mukaisesti toiseen\n",
    "# ne tapahtumat (events) \"datasetistä\", joissa kummankin myonin pseudorapiditeetin itseisarvo on suuri, ja toiseen ne,\n",
    "# joiden pieni.\n",
    "suuret_eetat = datasetti[(np.absolute(datasetti.eta1) > ehto1) & (np.absolute(datasetti.eta2) > ehto1)]\n",
    "pienet_eetat = datasetti[(np.absolute(datasetti.eta1) < ehto2) & (np.absolute(datasetti.eta2) < ehto2)]\n",
    "\n",
    "# Tarkastetaan, kuinka monta tapahtumaa kuhunkin ryhmään tuli tulostamalla alle tekstiä ja tapahtumien lukumäärät.\n",
    "# Ensimmäinen komento tulostaa kaksi tyhjää riviä muotoiluseikkojen takia.\n",
    "print('\\n' * 2)\n",
    "print(\"Kaikkien tapahtumien lukumäärä = %d\" % len(datasetti))\n",
    "print(\"Tapahtumia, joissa kummankin myonin pseudorapiditeetti on suuri = %d\" % len(suuret_eetat))\n",
    "print(\"Tapahtumia, joissa kummankin myonin pseudorapiditeetti on pieni = %d\" % len(pienet_eetat))"
   ]
  },
  {
   "cell_type": "markdown",
   "metadata": {},
   "source": [
    "## 2) Histogrammien luominen"
   ]
  },
  {
   "cell_type": "markdown",
   "metadata": {},
   "source": [
    "Seuraavaksi haluamme luoda invariantin massan histogrammit suurien ja pienien pseudorapiditeettien tapahtumista, jotta voimme vertailla niitä."
   ]
  },
  {
   "cell_type": "markdown",
   "metadata": {},
   "source": [
    "### Histogrammi tapahtumille, joissa myoneilla on suuri $\\eta$ (ilmaisimen päätyyn osuneet)"
   ]
  },
  {
   "cell_type": "markdown",
   "metadata": {},
   "source": [
    "Aloitetaan ensin tapahtumilla, joissa $\\eta$ on suuri. Koodin seassa olevat kommenttirivit kuvaavat koodin toimintaa."
   ]
  },
  {
   "cell_type": "code",
   "execution_count": 3,
   "metadata": {},
   "outputs": [
    {
     "data": {
      "image/png": "[encoded data removed]",
      "text/plain": [
       "<matplotlib.figure.Figure at 0x7fb3a880cf28>"
      ]
     },
     "metadata": {},
     "output_type": "display_data"
    }
   ],
   "source": [
    "# Valitaan \"suuret_eetat\"-DataFramesta sarake \"M\", johon on kirjattu tapahtumista laskettu invariantti massa.\n",
    "# Nimetään tämä \"inv_massa1\":ksi.\n",
    "inv_massa1 = suuret_eetat[\"M\"]\n",
    "\n",
    "# Käytetään numpy-paketin historgam-funktiota, ja luodaan histogrammi \"suuret_eetat\" -tulosten invarianteista\n",
    "# massoista, jotka tallennettiin edellä muuttujaan \"inv_massa1\". Nimetään histogrammi \"histogrammi1\":ksi.\n",
    "histogrammi1 = np.histogram(inv_massa1, bins=120, range=(60,120))\n",
    "\n",
    "# Jupyter Notebookissa on valmiiksi määritettyjä \"magic function\" -komentoja. Tämän avulla histogrammi saadaan\n",
    "# näkymään suoraan notebookissa.\n",
    "%matplotlib inline\n",
    "\n",
    "# Valmistellaan histogrammin piirtoa matplotlib.pyplot-pakettia varten. Määritetään histogrammin palkkien leveys\n",
    "# sekä histogrammin keskikohta.\n",
    "hist1, bins1 = histogrammi1\n",
    "width1 = 1.0*(bins1[1] - bins1[0])\n",
    "center1 = (bins1[:-1] + bins1[1:])/2\n",
    "\n",
    "# Plotataan histogrammi matplotlib.pyplotin avulla. Nimetään x- ja y-akselit.\n",
    "plt.bar(center1, hist1, align='center', width=width1)\n",
    "plt.xlabel('Invariantti massa [GeV]')\n",
    "plt.ylabel('Tapahtumien lukumäärä pylvästä kohti')\n",
    "plt.title('Invariantin massan histogrammi tapahtumista, joissa kummankin myonin pseudorapiditeetti on ollut suuri \\n')\n",
    "\n",
    "# Asetetaan y-akselin skaalaksi 0-60\n",
    "axes = plt.gca()\n",
    "axes.set_ylim([0,60])\n",
    "\n",
    "# Asetetaan histogrammin näkyväksi.\n",
    "plt.show()"
   ]
  },
  {
   "cell_type": "markdown",
   "metadata": {},
   "source": [
    "### Histogrammi tapahtumille, joissa myoneilla on pieni $\\eta$ (ilmaisimen keskiosaan osuneet)"
   ]
  },
  {
   "cell_type": "markdown",
   "metadata": {},
   "source": [
    "Vastaavasti kuin edellä, luodaan histogrammi tapahtumille, joissa $\\eta$ on pieni."
   ]
  },
  {
   "cell_type": "code",
   "execution_count": 5,
   "metadata": {},
   "outputs": [
    {
     "data": {
      "image/png": "[encoded data removed]",
      "text/plain": [
       "<matplotlib.figure.Figure at 0x7fb3a4f81c88>"
      ]
     },
     "metadata": {},
     "output_type": "display_data"
    }
   ],
   "source": [
    "inv_massa2 = pienet_eetat[\"M\"]\n",
    "\n",
    "histogrammi2 = np.histogram(inv_massa2, bins=120, range=(60,120))\n",
    "\n",
    "%matplotlib inline\n",
    "\n",
    "hist2, bins2 = histogrammi2\n",
    "width2 = 1.0*(bins2[1] - bins2[0])\n",
    "center2 = (bins2[:-1] + bins2[1:])/2\n",
    "\n",
    "plt.bar(center2, hist2, align='center', width=width2)\n",
    "plt.xlabel('Invariantti massa [GeV]')\n",
    "plt.ylabel('Tapahtumien lukumäärä pylvästä kohti')\n",
    "plt.title('Invariantin massan histogrammi tapahtumista, \\n joissa kummankin myonin pseudorapiditeetti on ollut pieni \\n')\n",
    "\n",
    "axes = plt.gca()\n",
    "axes.set_ylim([0,60])\n",
    "\n",
    "plt.show()"
   ]
  },
  {
   "cell_type": "markdown",
   "metadata": {},
   "source": [
    "## 3) Tehtävä"
   ]
  },
  {
   "cell_type": "markdown",
   "metadata": {},
   "source": [
    "Nyt olemme luoneet CMS-ilmaisimen kokeilla kerätyn oikean datan avulla kaksi invariantin massan $M$ histogrammia. Pohdi niiden ja notebookin teoriaosan avulla seuraavia kysymyksiä:<br><br> __Millä tavalla voit havaita piirretyistä histogrammeista pseudorapiditeetin vaikutuksen CMS-ilmaisimen mittatarkkuuteen?__<br>\n",
    "__Osuvatko siis kokeelliset tulokset yhteen teorian kanssa?__<br>\n",
    "<br>\n",
    "Kokeile lopuksi muuttaa ensimmäisessä koodisolussa olevia ehtoja 'ehto1' ja 'ehto2', joilla määritellään suurten ja pienten pseudorapiditeettien rajat. Valitse kuitenkin sellaiset ehdot, että suurien ja pienien pseudorapiditeettien tapahtumia on suurinpiirtein sama määrä.\n",
    "\n",
    "Muutosten jälkeen aja jokainen koodisolu näppäinyhdistelmällä _Ctrl_ + _Enter_. Miten muutokset näkyvät tapahtumien lukumäärissä? Entä miten histogrammeissa?\n"
   ]
  }
 ],
 "metadata": {
  "kernelspec": {
   "display_name": "Python 3",
   "language": "python",
   "name": "python3"
  },
  "language_info": {
   "codemirror_mode": {
    "name": "ipython",
    "version": 3
   },
   "file_extension": ".py",
   "mimetype": "text/x-python",
   "name": "python",
   "nbconvert_exporter": "python",
   "pygments_lexer": "ipython3",
   "version": "3.6.1"
  }
 },
 "nbformat": 4,
 "nbformat_minor": 1
}
