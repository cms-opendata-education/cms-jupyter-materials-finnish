{
 "cells": [
  {
   "cell_type": "markdown",
   "metadata": {},
   "source": [
    "<img src=\"../Kuvat/ilmio-otsikko.png\", align=\"left\",width=\"950px\">"
   ]
  },
  {
   "cell_type": "markdown",
   "metadata": {},
   "source": [
    "Tämän kokonaisuuden aikana pääset\n",
    "- leikkimään Jupyter Notebookilla\n",
    "- käsittelemään aitoa tiedemiesten käyttämää dataa\n",
    "- tutustumaan maailmankaikkeuden pienimpiin rakennusosasiin\n",
    "- tutkimaan avointa dataa jostain itseäsi kiinnostavasta aiheesta"
   ]
  },
  {
   "cell_type": "markdown",
   "metadata": {},
   "source": [
    "## Mitä on data?"
   ]
  },
  {
   "cell_type": "markdown",
   "metadata": {},
   "source": [
    "Pohdi ja keskustele hetki parin kanssa."
   ]
  },
  {
   "cell_type": "markdown",
   "metadata": {},
   "source": [
    "## Kuinka paljon dataa ympärillämme on?"
   ]
  },
  {
   "cell_type": "markdown",
   "metadata": {},
   "source": [
    "Maailman suurimman hiukkaskiihdyttimen, Large Hydron Collider (LHC), tuottaman datan määrä vastaa noin YouTubeen ladattujen videoiden määrää vuositasolla. Kuinka paljon ihmisiä ja aikaa vaadittaisiin, että kaikkien videoiden sisältö analysoitaisiin tarkasti?  "
   ]
  },
  {
   "cell_type": "markdown",
   "metadata": {},
   "source": [
    "<img src=\"../Kuvat/bigdata.png\", width=\"700px\">\n",
    "\n",
    "(Kuva muokattu artikkelista https://www.wired.com/2013/04/bigdata/)"
   ]
  },
  {
   "cell_type": "markdown",
   "metadata": {},
   "source": [
    "Dataa voidaan käsitellä suhteellisen helposti esimerkiksi hyödyntämällä Jupyteria. Sen avulla voidaan suorittaa laskutoimituksia ja muodostaa kuvaajia datan havainnollistamiseksi. Alla muutama esimerkki näistä."
   ]
  },
  {
   "cell_type": "code",
   "execution_count": 1,
   "metadata": {
    "scrolled": true
   },
   "outputs": [
    {
     "data": {
      "image/png": "[encoded data removed]",
      "text/plain": [
       "<matplotlib.figure.Figure at 0x7f4a2d53a630>"
      ]
     },
     "metadata": {},
     "output_type": "display_data"
    }
   ],
   "source": [
    "import matplotlib.pyplot as plt\n",
    "%matplotlib inline\n",
    "\n",
    "x = [0,1,2,3,4,5,6]\n",
    "y = [0,0.5,2,3,4,6,9]\n",
    "plt.plot(x,y,'bo') \n",
    "plt.plot(x,y,'m--')\n",
    "\n",
    "plt.xlabel('Oppitunteja')\n",
    "plt.ylabel('Osaamistaso asteikolla 1-10', fontsize=10)\n",
    "plt.title('Oppimiskäyrä', fontsize=15)\n",
    "\n",
    "plt.show()"
   ]
  },
  {
   "cell_type": "markdown",
   "metadata": {},
   "source": [
    "Jos luokassa on 18 oppilasta ja työskentely tapahtuu pareittain, niin pareja on yhteensä"
   ]
  },
  {
   "cell_type": "code",
   "execution_count": 4,
   "metadata": {},
   "outputs": [
    {
     "data": {
      "text/plain": [
       "9.0"
      ]
     },
     "execution_count": 4,
     "metadata": {},
     "output_type": "execute_result"
    }
   ],
   "source": [
    "18/2"
   ]
  },
  {
   "cell_type": "markdown",
   "metadata": {},
   "source": [
    "Jos opettaja neuvoo kutakin paria neljä minuuttia, niin kaikkien parien neuvomiseen kuluva aika voidaan laskea helposti."
   ]
  },
  {
   "cell_type": "code",
   "execution_count": 7,
   "metadata": {
    "scrolled": true
   },
   "outputs": [
    {
     "name": "stdout",
     "output_type": "stream",
     "text": [
      "Opettaja käyttää parien neuvomiseen 36 minuuttia.\n"
     ]
    }
   ],
   "source": [
    "pareja = 18/2\n",
    "minuutteja = pareja*4\n",
    "print(\"Opettaja käyttää parien neuvomiseen %d minuuttia.\" % minuutteja)"
   ]
  },
  {
   "cell_type": "markdown",
   "metadata": {},
   "source": [
    "## Mistä aloitetaan?"
   ]
  },
  {
   "cell_type": "markdown",
   "metadata": {},
   "source": [
    "Jotta oppimiskokonaisuus saadaan polkaistua hyvin käyntiin, niin pääsette ensimmäiseksi kokeilemaan ja harjoittelemaan Jupyter Notebookin käyttöä. Voitte kurkistaa, miten tekstisolut (Markdown) on muotoiltu kaksoisklikkaamalla solua. Painamalla *Ctrl + Enter* solu ajetaan ja lopputulos tulee näkyviin. Koodisolujen (Code) teksti näkyy harmaalla pohjalla eikä muutu ajettaessa, mutta *Ctrl + Enter* suorittaa koodin."
   ]
  },
  {
   "cell_type": "markdown",
   "metadata": {},
   "source": [
    "### Tehtävä"
   ]
  },
  {
   "cell_type": "markdown",
   "metadata": {},
   "source": [
    "Luo lyhyt esittely itsestäsi, harrastuksestasi tai jostain muusta sopivasta aiheesta käyttäen Jupyter Notebookia. <br>\n",
    "Sisällytä esittelytiedostoosi\n",
    "- tekstimuotoiluja, kuten *kursivointi* tai **lihavointi**\n",
    "- kuva\n",
    "- linkki\n",
    "- jokin lasku koodisolussa\n",
    "- jotain koodin tulostamaa\n",
    "- ...\n",
    "\n",
    "\n",
    "- Bonus: jokin kuvaaja\n",
    "\n",
    "Voit vapaasti päästää luovuutesi valloilleen!\n",
    "\n",
    "Perusohjeita Jupyterin käyttöön löydät täältä: <br>\n",
    "[Jupyter aloitus](https://github.com/cms-opendata-education/cms-jupyter-materials-finnish/blob/master/Johdatus-jupyteriin/Jupyter-aloitus.ipynb) <br>\n",
    "[Pythonin perusteet tiiviisti](https://github.com/cms-opendata-education/cms-jupyter-materials-finnish/blob/master/Johdatus-jupyteriin/Python-perusteet-tiiviisti-harjoituksilla.ipynb)"
   ]
  }
 ],
 "metadata": {
  "kernelspec": {
   "display_name": "Python 3",
   "language": "python",
   "name": "python3"
  },
  "language_info": {
   "codemirror_mode": {
    "name": "ipython",
    "version": 3
   },
   "file_extension": ".py",
   "mimetype": "text/x-python",
   "name": "python",
   "nbconvert_exporter": "python",
   "pygments_lexer": "ipython3",
   "version": "3.6.1"
  }
 },
 "nbformat": 4,
 "nbformat_minor": 2
}
