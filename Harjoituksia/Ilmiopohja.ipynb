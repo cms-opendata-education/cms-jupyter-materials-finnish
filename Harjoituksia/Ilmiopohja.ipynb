{
 "cells": [
  {
   "cell_type": "markdown",
   "metadata": {},
   "source": [
    "# Ilmiöpohjainen oppimiskokonaisuus"
   ]
  },
  {
   "cell_type": "markdown",
   "metadata": {},
   "source": [
    "Tämän oppimiskokonaisuuden tarkoituksena on tutustua avoimeen dataan, sen tallennusmuotoihin ja analysointiin hyödyntämällä Jupyter Notebookia. Avoimen datan analysointiin tutustutaan CERNin CMS-mittalaitteiston tuottaman datan avulla ja lisäksi opitaan Python-ohjelmointikieleen analyysin suorittamiseksi. Opittuja taitoja voidaan hyödyntää minkä tahansa avoimen datan käsittelyyn!\n",
    "\n",
    "Jupyter Notebookin avulla on helppo muokata tekstiä, lisätä kuvia ja suorittaa komentoja samassa dokumentissa."
   ]
  },
  {
   "cell_type": "markdown",
   "metadata": {},
   "source": [
    "## Kuinka paljon dataa ympärillämme on?"
   ]
  },
  {
   "cell_type": "markdown",
   "metadata": {},
   "source": [
    "<img src=\"../Kuvat/bigdata.png\">\n",
    "\n",
    "(Kuva muokattu artikkelista https://www.wired.com/2013/04/bigdata/)"
   ]
  },
  {
   "cell_type": "markdown",
   "metadata": {},
   "source": [
    "## Mitä tullaan oppimaan"
   ]
  },
  {
   "cell_type": "markdown",
   "metadata": {},
   "source": [
    "- Avoimen data hakeminen ja käsittely\n",
    "- Hiukkasfysiikan tutkimus\n",
    "- Suurien datamäärien analysointi\n",
    "- Histogrammien piirtäminen ja tulkinta\n",
    "- Ohjelmointi käyttämällä Pythonia\n",
    "\n",
    "Oppimiskokonaisuuden alussa perehdytään työkaluihin ja edetään kohti syvällisempää analysointia. Alla oleva kuvaaja havainnollistaa oppimiskokonaisuuden aikana kehittyvää osaamistasoa."
   ]
  },
  {
   "cell_type": "code",
   "execution_count": 6,
   "metadata": {
    "scrolled": true
   },
   "outputs": [
    {
     "data": {
      "image/png": "[encoded data removed]",
      "text/plain": [
       "<matplotlib.figure.Figure at 0x7fc44ec44ba8>"
      ]
     },
     "metadata": {},
     "output_type": "display_data"
    }
   ],
   "source": [
    "import matplotlib.pyplot as plt\n",
    "%matplotlib inline\n",
    "\n",
    "x = [0,1,2,3,4,5,6]\n",
    "y = [0,0.5,2,3,5,6,9]\n",
    "plt.plot(x,y,'mo') \n",
    "plt.plot(x,y)\n",
    "\n",
    "plt.xlabel('Oppitunteja')\n",
    "plt.ylabel('Suhteellinen osaamistaso', fontsize=10)\n",
    "plt.title('Oppimiskäyrä', fontsize=15)\n",
    "\n",
    "plt.show()"
   ]
  },
  {
   "cell_type": "markdown",
   "metadata": {},
   "source": [
    "Oppimiskokonaisuuteen on varattu 6 oppituntia. Jos kaikki ovat kaksoitunteja, niin erillisiä kertoja on"
   ]
  },
  {
   "cell_type": "code",
   "execution_count": 10,
   "metadata": {},
   "outputs": [
    {
     "data": {
      "text/plain": [
       "3.0"
      ]
     },
     "execution_count": 10,
     "metadata": {},
     "output_type": "execute_result"
    }
   ],
   "source": [
    "6/2"
   ]
  },
  {
   "cell_type": "markdown",
   "metadata": {},
   "source": [
    "Minuutteina aikaa on hyvin."
   ]
  },
  {
   "cell_type": "code",
   "execution_count": 9,
   "metadata": {},
   "outputs": [
    {
     "name": "stdout",
     "output_type": "stream",
     "text": [
      "Oppimiskokonaisuuteen on varattu 270 minuuttia.\n"
     ]
    }
   ],
   "source": [
    "minuutteja = 6*45\n",
    "print(\"Oppimiskokonaisuuteen on varattu %d minuuttia.\" % minuutteja)"
   ]
  }
 ],
 "metadata": {
  "kernelspec": {
   "display_name": "Python 3",
   "language": "python",
   "name": "python3"
  },
  "language_info": {
   "codemirror_mode": {
    "name": "ipython",
    "version": 3
   },
   "file_extension": ".py",
   "mimetype": "text/x-python",
   "name": "python",
   "nbconvert_exporter": "python",
   "pygments_lexer": "ipython3",
   "version": "3.6.1"
  }
 },
 "nbformat": 4,
 "nbformat_minor": 2
}
